{
 "cells": [
  {
   "cell_type": "code",
   "execution_count": 1,
   "id": "7f457fa4",
   "metadata": {},
   "outputs": [],
   "source": [
    "using Printf, CSV, DataFrames, Statistics, Glob, XLSX, Dates, Plots, TimeSeries, JSON"
   ]
  },
  {
   "cell_type": "code",
   "execution_count": 2,
   "id": "0c3c60b0",
   "metadata": {},
   "outputs": [],
   "source": [
    "directory = joinpath(homedir(), \"research\", \"GADS_Processed\", \"trajectories\")\n",
    "files = glob(\"*_state_Texas_raw.csv\", directory)\n",
    "x = Dict()\n",
    "mydict = Dict([(\"A\", 1), (\"RS\", 1), (\"NC\", 1),  (\"IR\", 1), (\"MB\", 1), (\"F\", 2), (\"U1\", 2), (\"U2\" , 2), (\"U3\" , 2), (\"D1\", 2), (\"D2\", 2), (\"D3\", 2), (\"SF\", 2), (\"PO\", 3), (\"PE\", 3), (\"PD\", 3), (\"DP\", 3), (\"MO\", 4), (\"ME\", 4), (\"DM\", 4), (\"D4\", 4), (\"RU\", 5), (\"DR\", 5), (\"TC\", 5)])\n",
    "agedict = Dict([(1, DateTime(1980, 1, 1)), (2, DateTime(1985, 1, 1)), (3, DateTime(1995, 1, 1)), (4, DateTime(2005, 1, 1)), (5, DateTime(2015, 1, 1)), (6, DateTime(2020, 1, 1))])\n",
    "types_dict = Dict(\"EventStartDT\" => DateTime, \"EventEndDT\" => DateTime)\n",
    "rating_dict = Dict([(1, 50), (2, 150), (3, 200)]);"
   ]
  },
  {
   "cell_type": "code",
   "execution_count": null,
   "id": "1f428082",
   "metadata": {},
   "outputs": [],
   "source": [
    "i = 1\n",
    "for f in files\n",
    "\n",
    "    mymatch = match(r\"/home/emco4286/research/GADS_Processed/trajectories/gen_(\\d+)_type_(\\d+)_dtgrp_(\\d+)_rating_(\\d+)_state_Texas_raw.csv\", f)\n",
    "    id = parse(Int32, mymatch[1])\n",
    "    type = parse(Int32, mymatch[2])\n",
    "    dtgrp = parse(Int32, mymatch[3])\n",
    "    rating = parse(Int32, mymatch[4])\n",
    "\n",
    "    df = DataFrame(CSV.File(f))\n",
    "\n",
    "    x[i] = Dict([(\"id\", id), (\"type\", type), (\"dtgrp\", dtgrp), (\"rating\", rating), (\"traj\", df)])\n",
    "    i +=1\n",
    "end"
   ]
  },
  {
   "cell_type": "code",
   "execution_count": 4,
   "id": "3371f1d5",
   "metadata": {},
   "outputs": [],
   "source": [
    "types = unique(x[j][\"type\"] for j in keys(x))\n",
    "\n",
    "idx_by_type = [[j for j in keys(x) if x[j][\"type\"] == t] for t in types]\n",
    "\n",
    "timearrays = [[x[j][\"traj\"] for j in i] for i in idx_by_type]\n",
    "\n",
    "one_ta = [reduce((i, j) -> outerjoin(i, j, on=:x, makeunique=true), timearrays[k]) for k in 1:1:13]\n",
    "\n",
    "one_ta = [j[begin:96409, :] for j in one_ta];"
   ]
  },
  {
   "cell_type": "code",
   "execution_count": 5,
   "id": "a2a1e703",
   "metadata": {},
   "outputs": [],
   "source": [
    "using DataStructures"
   ]
  },
  {
   "cell_type": "code",
   "execution_count": 6,
   "id": "42a68b64",
   "metadata": {},
   "outputs": [],
   "source": [
    "acc= [[counter(j) for j in eachrow(k[!, names(k)[2:end]])] for k in one_ta]\n",
    "num_units = [[k[0.0] + k[1.0]  for k in j] for j in acc];"
   ]
  },
  {
   "cell_type": "code",
   "execution_count": 7,
   "id": "883a9d51",
   "metadata": {},
   "outputs": [
    {
     "data": {
      "text/plain": [
       "1×13 Matrix{Int32}:\n",
       " 861  851  300  852  100  650  850  500  200  800  860  862  400"
      ]
     },
     "metadata": {},
     "output_type": "display_data"
    }
   ],
   "source": [
    "label = reshape(types, (1,13))\n",
    "colnames = reshape(Symbol.(label), (13,))"
   ]
  },
  {
   "cell_type": "code",
   "execution_count": 28,
   "id": "f2e6d24d",
   "metadata": {},
   "outputs": [
    {
     "data": {
      "text/plain": [
       "\"texas_number_of_active_units_by_type.csv\""
      ]
     },
     "metadata": {},
     "output_type": "display_data"
    }
   ],
   "source": [
    "my_num_units = reduce(hcat, num_units)\n",
    "cf = DataFrame(my_num_units, colnames)\n",
    "cf[!, :x] = one_ta[1][!, :x]\n",
    "CSV.write(\"texas_number_of_active_units_by_type.csv\", cf)"
   ]
  },
  {
   "cell_type": "code",
   "execution_count": 8,
   "id": "535a9720",
   "metadata": {},
   "outputs": [],
   "source": [
    "available_capacity = [sum.(skipmissing.(eachrow(k[!, names(k)[2:end]]))) for k in one_ta];"
   ]
  },
  {
   "cell_type": "code",
   "execution_count": 9,
   "id": "e9a8c983",
   "metadata": {},
   "outputs": [],
   "source": [
    "pct_of_units = [available_capacity[k] .* 100 ./ num_units[k] for k in 1:1:13];"
   ]
  },
  {
   "cell_type": "code",
   "execution_count": 10,
   "id": "cceb49ea",
   "metadata": {},
   "outputs": [
    {
     "data": {
      "text/plain": [
       "96409×13 Matrix{Float64}:\n",
       "  4.87805  7.14286  5.95238   7.89474  …  33.3333    0.0   9.09091  100.0\n",
       "  4.87805  7.14286  5.95238   7.89474     33.3333    0.0   9.09091  100.0\n",
       "  4.87805  7.14286  5.95238   7.89474     33.3333    0.0   9.09091  100.0\n",
       "  4.87805  7.14286  5.95238   7.89474     33.3333    0.0   9.09091  100.0\n",
       "  4.87805  7.14286  5.95238   7.89474     33.3333    0.0   9.09091  100.0\n",
       "  4.87805  7.14286  5.95238   7.89474  …  33.3333    0.0   9.09091  100.0\n",
       "  4.87805  7.14286  5.95238   7.89474     33.3333    0.0   9.09091  100.0\n",
       "  4.87805  7.14286  5.95238   7.89474     33.3333    0.0   9.09091  100.0\n",
       "  4.87805  7.14286  5.95238   7.89474     33.3333    0.0   9.09091  100.0\n",
       "  4.87805  7.14286  5.95238   7.89474     33.3333    0.0   9.09091  100.0\n",
       "  ⋮                                    ⋱             ⋮              \n",
       " 22.7273   5.45455  4.26829  11.5385   …   0.0     100.0  33.3333    11.1111\n",
       " 22.7273   5.45455  4.26829  11.5385       0.0     100.0  33.3333    11.1111\n",
       " 22.7273   5.45455  4.26829  11.5385       0.0     100.0  33.3333    11.1111\n",
       " 22.7273   5.45455  4.26829  11.5385       0.0     100.0  33.3333    11.1111\n",
       " 22.7273   5.45455  4.26829  11.5385       0.0     100.0  33.3333    11.1111\n",
       " 22.7273   5.45455  4.26829  11.5385   …   0.0     100.0  33.3333    11.1111\n",
       " 22.7273   4.54545  4.26829   9.61538      0.0     100.0  33.3333    11.1111\n",
       " 22.7273   4.54545  4.26829   9.61538      0.0     100.0  33.3333    11.1111\n",
       " 22.7273   4.54545  4.26829   9.61538      0.0     100.0  33.3333    11.1111"
      ]
     },
     "metadata": {},
     "output_type": "display_data"
    }
   ],
   "source": [
    "y_matrix = 100 .- (reduce(hcat, pct_of_units))"
   ]
  },
  {
   "cell_type": "code",
   "execution_count": null,
   "id": "fc15eefa",
   "metadata": {},
   "outputs": [
    {
     "data": {
      "text/html": [
       "<div><div style = \"float: left;\"><span>96409×13 DataFrame</span></div><div style = \"float: right;\"><span style = \"font-style: italic;\">96384 rows omitted</span></div><div style = \"clear: both;\"></div></div><div class = \"data-frame\" style = \"overflow-x: scroll;\"><table class = \"data-frame\" style = \"margin-bottom: 6px;\"><thead><tr class = \"header\"><th class = \"rowNumber\" style = \"font-weight: bold; text-align: right;\">Row</th><th style = \"text-align: left;\">861</th><th style = \"text-align: left;\">851</th><th style = \"text-align: left;\">300</th><th style = \"text-align: left;\">852</th><th style = \"text-align: left;\">100</th><th style = \"text-align: left;\">650</th><th style = \"text-align: left;\">850</th><th style = \"text-align: left;\">500</th><th style = \"text-align: left;\">200</th><th style = \"text-align: left;\">800</th><th style = \"text-align: left;\">860</th><th style = \"text-align: left;\">862</th><th style = \"text-align: left;\">400</th></tr><tr class = \"subheader headerLastRow\"><th class = \"rowNumber\" style = \"font-weight: bold; text-align: right;\"></th><th title = \"Float64\" style = \"text-align: left;\">Float64</th><th title = \"Float64\" style = \"text-align: left;\">Float64</th><th title = \"Float64\" style = \"text-align: left;\">Float64</th><th title = \"Float64\" style = \"text-align: left;\">Float64</th><th title = \"Float64\" style = \"text-align: left;\">Float64</th><th title = \"Float64\" style = \"text-align: left;\">Float64</th><th title = \"Float64\" style = \"text-align: left;\">Float64</th><th title = \"Float64\" style = \"text-align: left;\">Float64</th><th title = \"Float64\" style = \"text-align: left;\">Float64</th><th title = \"Float64\" style = \"text-align: left;\">Float64</th><th title = \"Float64\" style = \"text-align: left;\">Float64</th><th title = \"Float64\" style = \"text-align: left;\">Float64</th><th title = \"Float64\" style = \"text-align: left;\">Float64</th></tr></thead><tbody><tr><td class = \"rowNumber\" style = \"font-weight: bold; text-align: right;\">1</td><td style = \"text-align: right;\">4.87805</td><td style = \"text-align: right;\">7.14286</td><td style = \"text-align: right;\">5.95238</td><td style = \"text-align: right;\">7.89474</td><td style = \"text-align: right;\">14.2857</td><td style = \"text-align: right;\">0.0</td><td style = \"text-align: right;\">3.0303</td><td style = \"text-align: right;\">33.3333</td><td style = \"text-align: right;\">0.0</td><td style = \"text-align: right;\">33.3333</td><td style = \"text-align: right;\">0.0</td><td style = \"text-align: right;\">9.09091</td><td style = \"text-align: right;\">100.0</td></tr><tr><td class = \"rowNumber\" style = \"font-weight: bold; text-align: right;\">2</td><td style = \"text-align: right;\">4.87805</td><td style = \"text-align: right;\">7.14286</td><td style = \"text-align: right;\">5.95238</td><td style = \"text-align: right;\">7.89474</td><td style = \"text-align: right;\">14.2857</td><td style = \"text-align: right;\">0.0</td><td style = \"text-align: right;\">3.0303</td><td style = \"text-align: right;\">33.3333</td><td style = \"text-align: right;\">0.0</td><td style = \"text-align: right;\">33.3333</td><td style = \"text-align: right;\">0.0</td><td style = \"text-align: right;\">9.09091</td><td style = \"text-align: right;\">100.0</td></tr><tr><td class = \"rowNumber\" style = \"font-weight: bold; text-align: right;\">3</td><td style = \"text-align: right;\">4.87805</td><td style = \"text-align: right;\">7.14286</td><td style = \"text-align: right;\">5.95238</td><td style = \"text-align: right;\">7.89474</td><td style = \"text-align: right;\">14.2857</td><td style = \"text-align: right;\">0.0</td><td style = \"text-align: right;\">3.0303</td><td style = \"text-align: right;\">33.3333</td><td style = \"text-align: right;\">0.0</td><td style = \"text-align: right;\">33.3333</td><td style = \"text-align: right;\">0.0</td><td style = \"text-align: right;\">9.09091</td><td style = \"text-align: right;\">100.0</td></tr><tr><td class = \"rowNumber\" style = \"font-weight: bold; text-align: right;\">4</td><td style = \"text-align: right;\">4.87805</td><td style = \"text-align: right;\">7.14286</td><td style = \"text-align: right;\">5.95238</td><td style = \"text-align: right;\">7.89474</td><td style = \"text-align: right;\">14.2857</td><td style = \"text-align: right;\">0.0</td><td style = \"text-align: right;\">3.0303</td><td style = \"text-align: right;\">33.3333</td><td style = \"text-align: right;\">0.0</td><td style = \"text-align: right;\">33.3333</td><td style = \"text-align: right;\">0.0</td><td style = \"text-align: right;\">9.09091</td><td style = \"text-align: right;\">100.0</td></tr><tr><td class = \"rowNumber\" style = \"font-weight: bold; text-align: right;\">5</td><td style = \"text-align: right;\">4.87805</td><td style = \"text-align: right;\">7.14286</td><td style = \"text-align: right;\">5.95238</td><td style = \"text-align: right;\">7.89474</td><td style = \"text-align: right;\">14.2857</td><td style = \"text-align: right;\">0.0</td><td style = \"text-align: right;\">3.0303</td><td style = \"text-align: right;\">33.3333</td><td style = \"text-align: right;\">0.0</td><td style = \"text-align: right;\">33.3333</td><td style = \"text-align: right;\">0.0</td><td style = \"text-align: right;\">9.09091</td><td style = \"text-align: right;\">100.0</td></tr><tr><td class = \"rowNumber\" style = \"font-weight: bold; text-align: right;\">6</td><td style = \"text-align: right;\">4.87805</td><td style = \"text-align: right;\">7.14286</td><td style = \"text-align: right;\">5.95238</td><td style = \"text-align: right;\">7.89474</td><td style = \"text-align: right;\">15.0794</td><td style = \"text-align: right;\">0.0</td><td style = \"text-align: right;\">3.0303</td><td style = \"text-align: right;\">33.3333</td><td style = \"text-align: right;\">0.0</td><td style = \"text-align: right;\">33.3333</td><td style = \"text-align: right;\">0.0</td><td style = \"text-align: right;\">9.09091</td><td style = \"text-align: right;\">100.0</td></tr><tr><td class = \"rowNumber\" style = \"font-weight: bold; text-align: right;\">7</td><td style = \"text-align: right;\">4.87805</td><td style = \"text-align: right;\">7.14286</td><td style = \"text-align: right;\">5.95238</td><td style = \"text-align: right;\">7.89474</td><td style = \"text-align: right;\">14.2857</td><td style = \"text-align: right;\">0.0</td><td style = \"text-align: right;\">3.0303</td><td style = \"text-align: right;\">33.3333</td><td style = \"text-align: right;\">0.0</td><td style = \"text-align: right;\">33.3333</td><td style = \"text-align: right;\">0.0</td><td style = \"text-align: right;\">9.09091</td><td style = \"text-align: right;\">100.0</td></tr><tr><td class = \"rowNumber\" style = \"font-weight: bold; text-align: right;\">8</td><td style = \"text-align: right;\">4.87805</td><td style = \"text-align: right;\">7.14286</td><td style = \"text-align: right;\">5.95238</td><td style = \"text-align: right;\">7.89474</td><td style = \"text-align: right;\">14.2857</td><td style = \"text-align: right;\">0.0</td><td style = \"text-align: right;\">3.0303</td><td style = \"text-align: right;\">33.3333</td><td style = \"text-align: right;\">0.0</td><td style = \"text-align: right;\">33.3333</td><td style = \"text-align: right;\">0.0</td><td style = \"text-align: right;\">9.09091</td><td style = \"text-align: right;\">100.0</td></tr><tr><td class = \"rowNumber\" style = \"font-weight: bold; text-align: right;\">9</td><td style = \"text-align: right;\">4.87805</td><td style = \"text-align: right;\">7.14286</td><td style = \"text-align: right;\">5.95238</td><td style = \"text-align: right;\">7.89474</td><td style = \"text-align: right;\">13.4921</td><td style = \"text-align: right;\">0.0</td><td style = \"text-align: right;\">3.0303</td><td style = \"text-align: right;\">33.3333</td><td style = \"text-align: right;\">0.0</td><td style = \"text-align: right;\">33.3333</td><td style = \"text-align: right;\">0.0</td><td style = \"text-align: right;\">9.09091</td><td style = \"text-align: right;\">100.0</td></tr><tr><td class = \"rowNumber\" style = \"font-weight: bold; text-align: right;\">10</td><td style = \"text-align: right;\">4.87805</td><td style = \"text-align: right;\">7.14286</td><td style = \"text-align: right;\">5.95238</td><td style = \"text-align: right;\">7.89474</td><td style = \"text-align: right;\">13.4921</td><td style = \"text-align: right;\">0.0</td><td style = \"text-align: right;\">3.0303</td><td style = \"text-align: right;\">33.3333</td><td style = \"text-align: right;\">0.0</td><td style = \"text-align: right;\">33.3333</td><td style = \"text-align: right;\">0.0</td><td style = \"text-align: right;\">9.09091</td><td style = \"text-align: right;\">100.0</td></tr><tr><td class = \"rowNumber\" style = \"font-weight: bold; text-align: right;\">11</td><td style = \"text-align: right;\">4.87805</td><td style = \"text-align: right;\">7.14286</td><td style = \"text-align: right;\">5.95238</td><td style = \"text-align: right;\">7.89474</td><td style = \"text-align: right;\">14.2857</td><td style = \"text-align: right;\">0.0</td><td style = \"text-align: right;\">3.0303</td><td style = \"text-align: right;\">33.3333</td><td style = \"text-align: right;\">0.0</td><td style = \"text-align: right;\">33.3333</td><td style = \"text-align: right;\">0.0</td><td style = \"text-align: right;\">9.09091</td><td style = \"text-align: right;\">100.0</td></tr><tr><td class = \"rowNumber\" style = \"font-weight: bold; text-align: right;\">12</td><td style = \"text-align: right;\">4.87805</td><td style = \"text-align: right;\">7.14286</td><td style = \"text-align: right;\">5.95238</td><td style = \"text-align: right;\">7.89474</td><td style = \"text-align: right;\">14.2857</td><td style = \"text-align: right;\">0.0</td><td style = \"text-align: right;\">3.0303</td><td style = \"text-align: right;\">33.3333</td><td style = \"text-align: right;\">0.0</td><td style = \"text-align: right;\">33.3333</td><td style = \"text-align: right;\">0.0</td><td style = \"text-align: right;\">9.09091</td><td style = \"text-align: right;\">100.0</td></tr><tr><td class = \"rowNumber\" style = \"font-weight: bold; text-align: right;\">13</td><td style = \"text-align: right;\">4.87805</td><td style = \"text-align: right;\">7.14286</td><td style = \"text-align: right;\">5.95238</td><td style = \"text-align: right;\">7.89474</td><td style = \"text-align: right;\">14.2857</td><td style = \"text-align: right;\">0.0</td><td style = \"text-align: right;\">3.0303</td><td style = \"text-align: right;\">33.3333</td><td style = \"text-align: right;\">0.0</td><td style = \"text-align: right;\">33.3333</td><td style = \"text-align: right;\">0.0</td><td style = \"text-align: right;\">9.09091</td><td style = \"text-align: right;\">100.0</td></tr><tr><td style = \"text-align: right;\">&vellip;</td><td style = \"text-align: right;\">&vellip;</td><td style = \"text-align: right;\">&vellip;</td><td style = \"text-align: right;\">&vellip;</td><td style = \"text-align: right;\">&vellip;</td><td style = \"text-align: right;\">&vellip;</td><td style = \"text-align: right;\">&vellip;</td><td style = \"text-align: right;\">&vellip;</td><td style = \"text-align: right;\">&vellip;</td><td style = \"text-align: right;\">&vellip;</td><td style = \"text-align: right;\">&vellip;</td><td style = \"text-align: right;\">&vellip;</td><td style = \"text-align: right;\">&vellip;</td><td style = \"text-align: right;\">&vellip;</td></tr><tr><td class = \"rowNumber\" style = \"font-weight: bold; text-align: right;\">96398</td><td style = \"text-align: right;\">22.7273</td><td style = \"text-align: right;\">4.54545</td><td style = \"text-align: right;\">4.87805</td><td style = \"text-align: right;\">11.5385</td><td style = \"text-align: right;\">32.6316</td><td style = \"text-align: right;\">40.0</td><td style = \"text-align: right;\">9.67742</td><td style = \"text-align: right;\">13.3333</td><td style = \"text-align: right;\">0.0</td><td style = \"text-align: right;\">0.0</td><td style = \"text-align: right;\">100.0</td><td style = \"text-align: right;\">33.3333</td><td style = \"text-align: right;\">11.1111</td></tr><tr><td class = \"rowNumber\" style = \"font-weight: bold; text-align: right;\">96399</td><td style = \"text-align: right;\">22.7273</td><td style = \"text-align: right;\">4.54545</td><td style = \"text-align: right;\">4.87805</td><td style = \"text-align: right;\">9.61538</td><td style = \"text-align: right;\">32.6316</td><td style = \"text-align: right;\">40.0</td><td style = \"text-align: right;\">9.67742</td><td style = \"text-align: right;\">13.3333</td><td style = \"text-align: right;\">0.0</td><td style = \"text-align: right;\">0.0</td><td style = \"text-align: right;\">100.0</td><td style = \"text-align: right;\">33.3333</td><td style = \"text-align: right;\">11.1111</td></tr><tr><td class = \"rowNumber\" style = \"font-weight: bold; text-align: right;\">96400</td><td style = \"text-align: right;\">22.7273</td><td style = \"text-align: right;\">4.54545</td><td style = \"text-align: right;\">4.87805</td><td style = \"text-align: right;\">9.61538</td><td style = \"text-align: right;\">31.5789</td><td style = \"text-align: right;\">40.0</td><td style = \"text-align: right;\">9.67742</td><td style = \"text-align: right;\">13.3333</td><td style = \"text-align: right;\">0.0</td><td style = \"text-align: right;\">0.0</td><td style = \"text-align: right;\">100.0</td><td style = \"text-align: right;\">33.3333</td><td style = \"text-align: right;\">11.1111</td></tr><tr><td class = \"rowNumber\" style = \"font-weight: bold; text-align: right;\">96401</td><td style = \"text-align: right;\">22.7273</td><td style = \"text-align: right;\">5.45455</td><td style = \"text-align: right;\">4.26829</td><td style = \"text-align: right;\">11.5385</td><td style = \"text-align: right;\">31.5789</td><td style = \"text-align: right;\">40.0</td><td style = \"text-align: right;\">9.67742</td><td style = \"text-align: right;\">13.3333</td><td style = \"text-align: right;\">0.0</td><td style = \"text-align: right;\">0.0</td><td style = \"text-align: right;\">100.0</td><td style = \"text-align: right;\">33.3333</td><td style = \"text-align: right;\">11.1111</td></tr><tr><td class = \"rowNumber\" style = \"font-weight: bold; text-align: right;\">96402</td><td style = \"text-align: right;\">22.7273</td><td style = \"text-align: right;\">5.45455</td><td style = \"text-align: right;\">4.26829</td><td style = \"text-align: right;\">11.5385</td><td style = \"text-align: right;\">31.5789</td><td style = \"text-align: right;\">40.0</td><td style = \"text-align: right;\">9.67742</td><td style = \"text-align: right;\">13.3333</td><td style = \"text-align: right;\">0.0</td><td style = \"text-align: right;\">0.0</td><td style = \"text-align: right;\">100.0</td><td style = \"text-align: right;\">33.3333</td><td style = \"text-align: right;\">11.1111</td></tr><tr><td class = \"rowNumber\" style = \"font-weight: bold; text-align: right;\">96403</td><td style = \"text-align: right;\">22.7273</td><td style = \"text-align: right;\">5.45455</td><td style = \"text-align: right;\">4.26829</td><td style = \"text-align: right;\">11.5385</td><td style = \"text-align: right;\">31.5789</td><td style = \"text-align: right;\">40.0</td><td style = \"text-align: right;\">9.67742</td><td style = \"text-align: right;\">13.3333</td><td style = \"text-align: right;\">0.0</td><td style = \"text-align: right;\">0.0</td><td style = \"text-align: right;\">100.0</td><td style = \"text-align: right;\">33.3333</td><td style = \"text-align: right;\">11.1111</td></tr><tr><td class = \"rowNumber\" style = \"font-weight: bold; text-align: right;\">96404</td><td style = \"text-align: right;\">22.7273</td><td style = \"text-align: right;\">5.45455</td><td style = \"text-align: right;\">4.26829</td><td style = \"text-align: right;\">11.5385</td><td style = \"text-align: right;\">31.5789</td><td style = \"text-align: right;\">40.0</td><td style = \"text-align: right;\">9.67742</td><td style = \"text-align: right;\">13.3333</td><td style = \"text-align: right;\">0.0</td><td style = \"text-align: right;\">0.0</td><td style = \"text-align: right;\">100.0</td><td style = \"text-align: right;\">33.3333</td><td style = \"text-align: right;\">11.1111</td></tr><tr><td class = \"rowNumber\" style = \"font-weight: bold; text-align: right;\">96405</td><td style = \"text-align: right;\">22.7273</td><td style = \"text-align: right;\">5.45455</td><td style = \"text-align: right;\">4.26829</td><td style = \"text-align: right;\">11.5385</td><td style = \"text-align: right;\">31.5789</td><td style = \"text-align: right;\">40.0</td><td style = \"text-align: right;\">9.67742</td><td style = \"text-align: right;\">13.3333</td><td style = \"text-align: right;\">0.0</td><td style = \"text-align: right;\">0.0</td><td style = \"text-align: right;\">100.0</td><td style = \"text-align: right;\">33.3333</td><td style = \"text-align: right;\">11.1111</td></tr><tr><td class = \"rowNumber\" style = \"font-weight: bold; text-align: right;\">96406</td><td style = \"text-align: right;\">22.7273</td><td style = \"text-align: right;\">5.45455</td><td style = \"text-align: right;\">4.26829</td><td style = \"text-align: right;\">11.5385</td><td style = \"text-align: right;\">31.5789</td><td style = \"text-align: right;\">40.0</td><td style = \"text-align: right;\">9.67742</td><td style = \"text-align: right;\">13.3333</td><td style = \"text-align: right;\">0.0</td><td style = \"text-align: right;\">0.0</td><td style = \"text-align: right;\">100.0</td><td style = \"text-align: right;\">33.3333</td><td style = \"text-align: right;\">11.1111</td></tr><tr><td class = \"rowNumber\" style = \"font-weight: bold; text-align: right;\">96407</td><td style = \"text-align: right;\">22.7273</td><td style = \"text-align: right;\">4.54545</td><td style = \"text-align: right;\">4.26829</td><td style = \"text-align: right;\">9.61538</td><td style = \"text-align: right;\">31.5789</td><td style = \"text-align: right;\">40.0</td><td style = \"text-align: right;\">9.67742</td><td style = \"text-align: right;\">13.3333</td><td style = \"text-align: right;\">0.0</td><td style = \"text-align: right;\">0.0</td><td style = \"text-align: right;\">100.0</td><td style = \"text-align: right;\">33.3333</td><td style = \"text-align: right;\">11.1111</td></tr><tr><td class = \"rowNumber\" style = \"font-weight: bold; text-align: right;\">96408</td><td style = \"text-align: right;\">22.7273</td><td style = \"text-align: right;\">4.54545</td><td style = \"text-align: right;\">4.26829</td><td style = \"text-align: right;\">9.61538</td><td style = \"text-align: right;\">31.5789</td><td style = \"text-align: right;\">40.0</td><td style = \"text-align: right;\">9.67742</td><td style = \"text-align: right;\">13.3333</td><td style = \"text-align: right;\">0.0</td><td style = \"text-align: right;\">0.0</td><td style = \"text-align: right;\">100.0</td><td style = \"text-align: right;\">33.3333</td><td style = \"text-align: right;\">11.1111</td></tr><tr><td class = \"rowNumber\" style = \"font-weight: bold; text-align: right;\">96409</td><td style = \"text-align: right;\">22.7273</td><td style = \"text-align: right;\">4.54545</td><td style = \"text-align: right;\">4.26829</td><td style = \"text-align: right;\">9.61538</td><td style = \"text-align: right;\">31.5789</td><td style = \"text-align: right;\">40.0</td><td style = \"text-align: right;\">9.67742</td><td style = \"text-align: right;\">13.3333</td><td style = \"text-align: right;\">0.0</td><td style = \"text-align: right;\">0.0</td><td style = \"text-align: right;\">100.0</td><td style = \"text-align: right;\">33.3333</td><td style = \"text-align: right;\">11.1111</td></tr></tbody></table></div>"
      ],
      "text/latex": [
       "\\begin{tabular}{r|cccccccccc}\n",
       "\t& 861 & 851 & 300 & 852 & 100 & 650 & 850 & 500 & 200 & \\\\\n",
       "\t\\hline\n",
       "\t& Float64 & Float64 & Float64 & Float64 & Float64 & Float64 & Float64 & Float64 & Float64 & \\\\\n",
       "\t\\hline\n",
       "\t1 & 4.87805 & 7.14286 & 5.95238 & 7.89474 & 14.2857 & 0.0 & 3.0303 & 33.3333 & 0.0 & $\\dots$ \\\\\n",
       "\t2 & 4.87805 & 7.14286 & 5.95238 & 7.89474 & 14.2857 & 0.0 & 3.0303 & 33.3333 & 0.0 & $\\dots$ \\\\\n",
       "\t3 & 4.87805 & 7.14286 & 5.95238 & 7.89474 & 14.2857 & 0.0 & 3.0303 & 33.3333 & 0.0 & $\\dots$ \\\\\n",
       "\t4 & 4.87805 & 7.14286 & 5.95238 & 7.89474 & 14.2857 & 0.0 & 3.0303 & 33.3333 & 0.0 & $\\dots$ \\\\\n",
       "\t5 & 4.87805 & 7.14286 & 5.95238 & 7.89474 & 14.2857 & 0.0 & 3.0303 & 33.3333 & 0.0 & $\\dots$ \\\\\n",
       "\t6 & 4.87805 & 7.14286 & 5.95238 & 7.89474 & 15.0794 & 0.0 & 3.0303 & 33.3333 & 0.0 & $\\dots$ \\\\\n",
       "\t7 & 4.87805 & 7.14286 & 5.95238 & 7.89474 & 14.2857 & 0.0 & 3.0303 & 33.3333 & 0.0 & $\\dots$ \\\\\n",
       "\t8 & 4.87805 & 7.14286 & 5.95238 & 7.89474 & 14.2857 & 0.0 & 3.0303 & 33.3333 & 0.0 & $\\dots$ \\\\\n",
       "\t9 & 4.87805 & 7.14286 & 5.95238 & 7.89474 & 13.4921 & 0.0 & 3.0303 & 33.3333 & 0.0 & $\\dots$ \\\\\n",
       "\t10 & 4.87805 & 7.14286 & 5.95238 & 7.89474 & 13.4921 & 0.0 & 3.0303 & 33.3333 & 0.0 & $\\dots$ \\\\\n",
       "\t11 & 4.87805 & 7.14286 & 5.95238 & 7.89474 & 14.2857 & 0.0 & 3.0303 & 33.3333 & 0.0 & $\\dots$ \\\\\n",
       "\t12 & 4.87805 & 7.14286 & 5.95238 & 7.89474 & 14.2857 & 0.0 & 3.0303 & 33.3333 & 0.0 & $\\dots$ \\\\\n",
       "\t13 & 4.87805 & 7.14286 & 5.95238 & 7.89474 & 14.2857 & 0.0 & 3.0303 & 33.3333 & 0.0 & $\\dots$ \\\\\n",
       "\t14 & 4.87805 & 9.30233 & 5.95238 & 10.2564 & 14.2857 & 0.0 & 3.0303 & 33.3333 & 0.0 & $\\dots$ \\\\\n",
       "\t15 & 4.87805 & 9.30233 & 5.95238 & 10.2564 & 15.0794 & 0.0 & 3.0303 & 33.3333 & 0.0 & $\\dots$ \\\\\n",
       "\t16 & 4.87805 & 9.30233 & 5.95238 & 10.2564 & 15.0794 & 0.0 & 3.0303 & 33.3333 & 0.0 & $\\dots$ \\\\\n",
       "\t17 & 4.87805 & 8.13953 & 5.95238 & 7.69231 & 15.873 & 0.0 & 3.0303 & 33.3333 & 0.0 & $\\dots$ \\\\\n",
       "\t18 & 4.87805 & 5.81395 & 5.95238 & 5.12821 & 15.873 & 0.0 & 3.0303 & 33.3333 & 0.0 & $\\dots$ \\\\\n",
       "\t19 & 4.87805 & 6.89655 & 5.95238 & 7.5 & 15.0794 & 0.0 & 3.0303 & 33.3333 & 0.0 & $\\dots$ \\\\\n",
       "\t20 & 4.87805 & 5.74713 & 5.95238 & 7.5 & 15.873 & 0.0 & 3.0303 & 33.3333 & 0.0 & $\\dots$ \\\\\n",
       "\t21 & 4.87805 & 5.74713 & 5.95238 & 7.5 & 15.0794 & 0.0 & 3.0303 & 33.3333 & 0.0 & $\\dots$ \\\\\n",
       "\t22 & 4.87805 & 5.74713 & 5.95238 & 7.5 & 15.0794 & 0.0 & 3.0303 & 33.3333 & 0.0 & $\\dots$ \\\\\n",
       "\t23 & 4.87805 & 5.74713 & 5.95238 & 7.5 & 15.0794 & 0.0 & 3.0303 & 33.3333 & 0.0 & $\\dots$ \\\\\n",
       "\t24 & 7.31707 & 5.74713 & 7.14286 & 5.0 & 15.873 & 0.0 & 3.0303 & 33.3333 & 0.0 & $\\dots$ \\\\\n",
       "\t$\\dots$ & $\\dots$ & $\\dots$ & $\\dots$ & $\\dots$ & $\\dots$ & $\\dots$ & $\\dots$ & $\\dots$ & $\\dots$ &  \\\\\n",
       "\\end{tabular}\n"
      ],
      "text/plain": [
       "\u001b[1m96409×13 DataFrame\u001b[0m\n",
       "\u001b[1m   Row \u001b[0m│\u001b[1m 861      \u001b[0m\u001b[1m 851     \u001b[0m\u001b[1m 300     \u001b[0m\u001b[1m 852      \u001b[0m\u001b[1m 100     \u001b[0m\u001b[1m 650     \u001b[0m\u001b[1m 850     \u001b[0m\u001b[1m 500 \u001b[0m ⋯\n",
       "       │\u001b[90m Float64  \u001b[0m\u001b[90m Float64 \u001b[0m\u001b[90m Float64 \u001b[0m\u001b[90m Float64  \u001b[0m\u001b[90m Float64 \u001b[0m\u001b[90m Float64 \u001b[0m\u001b[90m Float64 \u001b[0m\u001b[90m Floa\u001b[0m ⋯\n",
       "───────┼────────────────────────────────────────────────────────────────────────\n",
       "     1 │  4.87805  7.14286  5.95238   7.89474  14.2857      0.0  3.0303   33.3 ⋯\n",
       "     2 │  4.87805  7.14286  5.95238   7.89474  14.2857      0.0  3.0303   33.3\n",
       "     3 │  4.87805  7.14286  5.95238   7.89474  14.2857      0.0  3.0303   33.3\n",
       "     4 │  4.87805  7.14286  5.95238   7.89474  14.2857      0.0  3.0303   33.3\n",
       "     5 │  4.87805  7.14286  5.95238   7.89474  14.2857      0.0  3.0303   33.3 ⋯\n",
       "     6 │  4.87805  7.14286  5.95238   7.89474  15.0794      0.0  3.0303   33.3\n",
       "     7 │  4.87805  7.14286  5.95238   7.89474  14.2857      0.0  3.0303   33.3\n",
       "     8 │  4.87805  7.14286  5.95238   7.89474  14.2857      0.0  3.0303   33.3\n",
       "   ⋮   │    ⋮         ⋮        ⋮        ⋮         ⋮        ⋮        ⋮        ⋮ ⋱\n",
       " 96403 │ 22.7273   5.45455  4.26829  11.5385   31.5789     40.0  9.67742  13.3 ⋯\n",
       " 96404 │ 22.7273   5.45455  4.26829  11.5385   31.5789     40.0  9.67742  13.3\n",
       " 96405 │ 22.7273   5.45455  4.26829  11.5385   31.5789     40.0  9.67742  13.3\n",
       " 96406 │ 22.7273   5.45455  4.26829  11.5385   31.5789     40.0  9.67742  13.3\n",
       " 96407 │ 22.7273   4.54545  4.26829   9.61538  31.5789     40.0  9.67742  13.3 ⋯\n",
       " 96408 │ 22.7273   4.54545  4.26829   9.61538  31.5789     40.0  9.67742  13.3\n",
       " 96409 │ 22.7273   4.54545  4.26829   9.61538  31.5789     40.0  9.67742  13.3\n",
       "\u001b[36m                                                6 columns and 96394 rows omitted\u001b[0m"
      ]
     },
     "metadata": {},
     "output_type": "display_data"
    }
   ],
   "source": [
    "gf = DataFrame(y_matrix, colnames)\n",
    "gf[!, :x] = one_ta[1][!, :x]\n",
    "CSV.write(\"texas_available_capacity_pct_by_unit_type.csv\",  gf)"
   ]
  },
  {
   "cell_type": "code",
   "execution_count": null,
   "id": "5c52333a",
   "metadata": {},
   "outputs": [],
   "source": []
  }
 ],
 "metadata": {
  "kernelspec": {
   "display_name": "Julia 1.11.5",
   "language": "julia",
   "name": "julia-1.11"
  },
  "language_info": {
   "file_extension": ".jl",
   "mimetype": "application/julia",
   "name": "julia",
   "version": "1.11.5"
  }
 },
 "nbformat": 4,
 "nbformat_minor": 5
}
