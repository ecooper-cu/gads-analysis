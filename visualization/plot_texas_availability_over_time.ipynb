{
 "cells": [
  {
   "cell_type": "code",
   "execution_count": 66,
   "id": "2cf0639e",
   "metadata": {},
   "outputs": [],
   "source": [
    "using Plots, DataFrames, CSV, Measures, Dates"
   ]
  },
  {
   "cell_type": "code",
   "execution_count": 2,
   "id": "df2d35f8",
   "metadata": {},
   "outputs": [
    {
     "data": {
      "text/html": [
       "<div><div style = \"float: left;\"><span>96409×14 DataFrame</span></div><div style = \"float: right;\"><span style = \"font-style: italic;\">96384 rows omitted</span></div><div style = \"clear: both;\"></div></div><div class = \"data-frame\" style = \"overflow-x: scroll;\"><table class = \"data-frame\" style = \"margin-bottom: 6px;\"><thead><tr class = \"header\"><th class = \"rowNumber\" style = \"font-weight: bold; text-align: right;\">Row</th><th style = \"text-align: left;\">861</th><th style = \"text-align: left;\">851</th><th style = \"text-align: left;\">300</th><th style = \"text-align: left;\">852</th><th style = \"text-align: left;\">100</th><th style = \"text-align: left;\">650</th><th style = \"text-align: left;\">850</th><th style = \"text-align: left;\">500</th><th style = \"text-align: left;\">200</th><th style = \"text-align: left;\">800</th><th style = \"text-align: left;\">860</th><th style = \"text-align: left;\">862</th><th style = \"text-align: left;\">400</th><th style = \"text-align: left;\">x</th></tr><tr class = \"subheader headerLastRow\"><th class = \"rowNumber\" style = \"font-weight: bold; text-align: right;\"></th><th title = \"Float64\" style = \"text-align: left;\">Float64</th><th title = \"Float64\" style = \"text-align: left;\">Float64</th><th title = \"Float64\" style = \"text-align: left;\">Float64</th><th title = \"Float64\" style = \"text-align: left;\">Float64</th><th title = \"Float64\" style = \"text-align: left;\">Float64</th><th title = \"Float64\" style = \"text-align: left;\">Float64</th><th title = \"Float64\" style = \"text-align: left;\">Float64</th><th title = \"Float64\" style = \"text-align: left;\">Float64</th><th title = \"Float64\" style = \"text-align: left;\">Float64</th><th title = \"Float64\" style = \"text-align: left;\">Float64</th><th title = \"Float64\" style = \"text-align: left;\">Float64</th><th title = \"Float64\" style = \"text-align: left;\">Float64</th><th title = \"Float64\" style = \"text-align: left;\">Float64</th><th title = \"Dates.DateTime\" style = \"text-align: left;\">DateTime</th></tr></thead><tbody><tr><td class = \"rowNumber\" style = \"font-weight: bold; text-align: right;\">1</td><td style = \"text-align: right;\">4.87805</td><td style = \"text-align: right;\">7.14286</td><td style = \"text-align: right;\">5.95238</td><td style = \"text-align: right;\">7.89474</td><td style = \"text-align: right;\">14.2857</td><td style = \"text-align: right;\">0.0</td><td style = \"text-align: right;\">3.0303</td><td style = \"text-align: right;\">33.3333</td><td style = \"text-align: right;\">0.0</td><td style = \"text-align: right;\">33.3333</td><td style = \"text-align: right;\">0.0</td><td style = \"text-align: right;\">9.09091</td><td style = \"text-align: right;\">100.0</td><td style = \"text-align: left;\">2013-01-01T06:00:00</td></tr><tr><td class = \"rowNumber\" style = \"font-weight: bold; text-align: right;\">2</td><td style = \"text-align: right;\">4.87805</td><td style = \"text-align: right;\">7.14286</td><td style = \"text-align: right;\">5.95238</td><td style = \"text-align: right;\">7.89474</td><td style = \"text-align: right;\">14.2857</td><td style = \"text-align: right;\">0.0</td><td style = \"text-align: right;\">3.0303</td><td style = \"text-align: right;\">33.3333</td><td style = \"text-align: right;\">0.0</td><td style = \"text-align: right;\">33.3333</td><td style = \"text-align: right;\">0.0</td><td style = \"text-align: right;\">9.09091</td><td style = \"text-align: right;\">100.0</td><td style = \"text-align: left;\">2013-01-01T07:00:00</td></tr><tr><td class = \"rowNumber\" style = \"font-weight: bold; text-align: right;\">3</td><td style = \"text-align: right;\">4.87805</td><td style = \"text-align: right;\">7.14286</td><td style = \"text-align: right;\">5.95238</td><td style = \"text-align: right;\">7.89474</td><td style = \"text-align: right;\">14.2857</td><td style = \"text-align: right;\">0.0</td><td style = \"text-align: right;\">3.0303</td><td style = \"text-align: right;\">33.3333</td><td style = \"text-align: right;\">0.0</td><td style = \"text-align: right;\">33.3333</td><td style = \"text-align: right;\">0.0</td><td style = \"text-align: right;\">9.09091</td><td style = \"text-align: right;\">100.0</td><td style = \"text-align: left;\">2013-01-01T08:00:00</td></tr><tr><td class = \"rowNumber\" style = \"font-weight: bold; text-align: right;\">4</td><td style = \"text-align: right;\">4.87805</td><td style = \"text-align: right;\">7.14286</td><td style = \"text-align: right;\">5.95238</td><td style = \"text-align: right;\">7.89474</td><td style = \"text-align: right;\">14.2857</td><td style = \"text-align: right;\">0.0</td><td style = \"text-align: right;\">3.0303</td><td style = \"text-align: right;\">33.3333</td><td style = \"text-align: right;\">0.0</td><td style = \"text-align: right;\">33.3333</td><td style = \"text-align: right;\">0.0</td><td style = \"text-align: right;\">9.09091</td><td style = \"text-align: right;\">100.0</td><td style = \"text-align: left;\">2013-01-01T09:00:00</td></tr><tr><td class = \"rowNumber\" style = \"font-weight: bold; text-align: right;\">5</td><td style = \"text-align: right;\">4.87805</td><td style = \"text-align: right;\">7.14286</td><td style = \"text-align: right;\">5.95238</td><td style = \"text-align: right;\">7.89474</td><td style = \"text-align: right;\">14.2857</td><td style = \"text-align: right;\">0.0</td><td style = \"text-align: right;\">3.0303</td><td style = \"text-align: right;\">33.3333</td><td style = \"text-align: right;\">0.0</td><td style = \"text-align: right;\">33.3333</td><td style = \"text-align: right;\">0.0</td><td style = \"text-align: right;\">9.09091</td><td style = \"text-align: right;\">100.0</td><td style = \"text-align: left;\">2013-01-01T10:00:00</td></tr><tr><td class = \"rowNumber\" style = \"font-weight: bold; text-align: right;\">6</td><td style = \"text-align: right;\">4.87805</td><td style = \"text-align: right;\">7.14286</td><td style = \"text-align: right;\">5.95238</td><td style = \"text-align: right;\">7.89474</td><td style = \"text-align: right;\">15.0794</td><td style = \"text-align: right;\">0.0</td><td style = \"text-align: right;\">3.0303</td><td style = \"text-align: right;\">33.3333</td><td style = \"text-align: right;\">0.0</td><td style = \"text-align: right;\">33.3333</td><td style = \"text-align: right;\">0.0</td><td style = \"text-align: right;\">9.09091</td><td style = \"text-align: right;\">100.0</td><td style = \"text-align: left;\">2013-01-01T11:00:00</td></tr><tr><td class = \"rowNumber\" style = \"font-weight: bold; text-align: right;\">7</td><td style = \"text-align: right;\">4.87805</td><td style = \"text-align: right;\">7.14286</td><td style = \"text-align: right;\">5.95238</td><td style = \"text-align: right;\">7.89474</td><td style = \"text-align: right;\">14.2857</td><td style = \"text-align: right;\">0.0</td><td style = \"text-align: right;\">3.0303</td><td style = \"text-align: right;\">33.3333</td><td style = \"text-align: right;\">0.0</td><td style = \"text-align: right;\">33.3333</td><td style = \"text-align: right;\">0.0</td><td style = \"text-align: right;\">9.09091</td><td style = \"text-align: right;\">100.0</td><td style = \"text-align: left;\">2013-01-01T12:00:00</td></tr><tr><td class = \"rowNumber\" style = \"font-weight: bold; text-align: right;\">8</td><td style = \"text-align: right;\">4.87805</td><td style = \"text-align: right;\">7.14286</td><td style = \"text-align: right;\">5.95238</td><td style = \"text-align: right;\">7.89474</td><td style = \"text-align: right;\">14.2857</td><td style = \"text-align: right;\">0.0</td><td style = \"text-align: right;\">3.0303</td><td style = \"text-align: right;\">33.3333</td><td style = \"text-align: right;\">0.0</td><td style = \"text-align: right;\">33.3333</td><td style = \"text-align: right;\">0.0</td><td style = \"text-align: right;\">9.09091</td><td style = \"text-align: right;\">100.0</td><td style = \"text-align: left;\">2013-01-01T13:00:00</td></tr><tr><td class = \"rowNumber\" style = \"font-weight: bold; text-align: right;\">9</td><td style = \"text-align: right;\">4.87805</td><td style = \"text-align: right;\">7.14286</td><td style = \"text-align: right;\">5.95238</td><td style = \"text-align: right;\">7.89474</td><td style = \"text-align: right;\">13.4921</td><td style = \"text-align: right;\">0.0</td><td style = \"text-align: right;\">3.0303</td><td style = \"text-align: right;\">33.3333</td><td style = \"text-align: right;\">0.0</td><td style = \"text-align: right;\">33.3333</td><td style = \"text-align: right;\">0.0</td><td style = \"text-align: right;\">9.09091</td><td style = \"text-align: right;\">100.0</td><td style = \"text-align: left;\">2013-01-01T14:00:00</td></tr><tr><td class = \"rowNumber\" style = \"font-weight: bold; text-align: right;\">10</td><td style = \"text-align: right;\">4.87805</td><td style = \"text-align: right;\">7.14286</td><td style = \"text-align: right;\">5.95238</td><td style = \"text-align: right;\">7.89474</td><td style = \"text-align: right;\">13.4921</td><td style = \"text-align: right;\">0.0</td><td style = \"text-align: right;\">3.0303</td><td style = \"text-align: right;\">33.3333</td><td style = \"text-align: right;\">0.0</td><td style = \"text-align: right;\">33.3333</td><td style = \"text-align: right;\">0.0</td><td style = \"text-align: right;\">9.09091</td><td style = \"text-align: right;\">100.0</td><td style = \"text-align: left;\">2013-01-01T15:00:00</td></tr><tr><td class = \"rowNumber\" style = \"font-weight: bold; text-align: right;\">11</td><td style = \"text-align: right;\">4.87805</td><td style = \"text-align: right;\">7.14286</td><td style = \"text-align: right;\">5.95238</td><td style = \"text-align: right;\">7.89474</td><td style = \"text-align: right;\">14.2857</td><td style = \"text-align: right;\">0.0</td><td style = \"text-align: right;\">3.0303</td><td style = \"text-align: right;\">33.3333</td><td style = \"text-align: right;\">0.0</td><td style = \"text-align: right;\">33.3333</td><td style = \"text-align: right;\">0.0</td><td style = \"text-align: right;\">9.09091</td><td style = \"text-align: right;\">100.0</td><td style = \"text-align: left;\">2013-01-01T16:00:00</td></tr><tr><td class = \"rowNumber\" style = \"font-weight: bold; text-align: right;\">12</td><td style = \"text-align: right;\">4.87805</td><td style = \"text-align: right;\">7.14286</td><td style = \"text-align: right;\">5.95238</td><td style = \"text-align: right;\">7.89474</td><td style = \"text-align: right;\">14.2857</td><td style = \"text-align: right;\">0.0</td><td style = \"text-align: right;\">3.0303</td><td style = \"text-align: right;\">33.3333</td><td style = \"text-align: right;\">0.0</td><td style = \"text-align: right;\">33.3333</td><td style = \"text-align: right;\">0.0</td><td style = \"text-align: right;\">9.09091</td><td style = \"text-align: right;\">100.0</td><td style = \"text-align: left;\">2013-01-01T17:00:00</td></tr><tr><td class = \"rowNumber\" style = \"font-weight: bold; text-align: right;\">13</td><td style = \"text-align: right;\">4.87805</td><td style = \"text-align: right;\">7.14286</td><td style = \"text-align: right;\">5.95238</td><td style = \"text-align: right;\">7.89474</td><td style = \"text-align: right;\">14.2857</td><td style = \"text-align: right;\">0.0</td><td style = \"text-align: right;\">3.0303</td><td style = \"text-align: right;\">33.3333</td><td style = \"text-align: right;\">0.0</td><td style = \"text-align: right;\">33.3333</td><td style = \"text-align: right;\">0.0</td><td style = \"text-align: right;\">9.09091</td><td style = \"text-align: right;\">100.0</td><td style = \"text-align: left;\">2013-01-01T18:00:00</td></tr><tr><td style = \"text-align: right;\">&vellip;</td><td style = \"text-align: right;\">&vellip;</td><td style = \"text-align: right;\">&vellip;</td><td style = \"text-align: right;\">&vellip;</td><td style = \"text-align: right;\">&vellip;</td><td style = \"text-align: right;\">&vellip;</td><td style = \"text-align: right;\">&vellip;</td><td style = \"text-align: right;\">&vellip;</td><td style = \"text-align: right;\">&vellip;</td><td style = \"text-align: right;\">&vellip;</td><td style = \"text-align: right;\">&vellip;</td><td style = \"text-align: right;\">&vellip;</td><td style = \"text-align: right;\">&vellip;</td><td style = \"text-align: right;\">&vellip;</td><td style = \"text-align: right;\">&vellip;</td></tr><tr><td class = \"rowNumber\" style = \"font-weight: bold; text-align: right;\">96398</td><td style = \"text-align: right;\">22.7273</td><td style = \"text-align: right;\">4.54545</td><td style = \"text-align: right;\">4.87805</td><td style = \"text-align: right;\">11.5385</td><td style = \"text-align: right;\">32.6316</td><td style = \"text-align: right;\">40.0</td><td style = \"text-align: right;\">9.67742</td><td style = \"text-align: right;\">13.3333</td><td style = \"text-align: right;\">0.0</td><td style = \"text-align: right;\">0.0</td><td style = \"text-align: right;\">100.0</td><td style = \"text-align: right;\">33.3333</td><td style = \"text-align: right;\">11.1111</td><td style = \"text-align: left;\">2023-12-31T19:00:00</td></tr><tr><td class = \"rowNumber\" style = \"font-weight: bold; text-align: right;\">96399</td><td style = \"text-align: right;\">22.7273</td><td style = \"text-align: right;\">4.54545</td><td style = \"text-align: right;\">4.87805</td><td style = \"text-align: right;\">9.61538</td><td style = \"text-align: right;\">32.6316</td><td style = \"text-align: right;\">40.0</td><td style = \"text-align: right;\">9.67742</td><td style = \"text-align: right;\">13.3333</td><td style = \"text-align: right;\">0.0</td><td style = \"text-align: right;\">0.0</td><td style = \"text-align: right;\">100.0</td><td style = \"text-align: right;\">33.3333</td><td style = \"text-align: right;\">11.1111</td><td style = \"text-align: left;\">2023-12-31T20:00:00</td></tr><tr><td class = \"rowNumber\" style = \"font-weight: bold; text-align: right;\">96400</td><td style = \"text-align: right;\">22.7273</td><td style = \"text-align: right;\">4.54545</td><td style = \"text-align: right;\">4.87805</td><td style = \"text-align: right;\">9.61538</td><td style = \"text-align: right;\">31.5789</td><td style = \"text-align: right;\">40.0</td><td style = \"text-align: right;\">9.67742</td><td style = \"text-align: right;\">13.3333</td><td style = \"text-align: right;\">0.0</td><td style = \"text-align: right;\">0.0</td><td style = \"text-align: right;\">100.0</td><td style = \"text-align: right;\">33.3333</td><td style = \"text-align: right;\">11.1111</td><td style = \"text-align: left;\">2023-12-31T21:00:00</td></tr><tr><td class = \"rowNumber\" style = \"font-weight: bold; text-align: right;\">96401</td><td style = \"text-align: right;\">22.7273</td><td style = \"text-align: right;\">5.45455</td><td style = \"text-align: right;\">4.26829</td><td style = \"text-align: right;\">11.5385</td><td style = \"text-align: right;\">31.5789</td><td style = \"text-align: right;\">40.0</td><td style = \"text-align: right;\">9.67742</td><td style = \"text-align: right;\">13.3333</td><td style = \"text-align: right;\">0.0</td><td style = \"text-align: right;\">0.0</td><td style = \"text-align: right;\">100.0</td><td style = \"text-align: right;\">33.3333</td><td style = \"text-align: right;\">11.1111</td><td style = \"text-align: left;\">2023-12-31T22:00:00</td></tr><tr><td class = \"rowNumber\" style = \"font-weight: bold; text-align: right;\">96402</td><td style = \"text-align: right;\">22.7273</td><td style = \"text-align: right;\">5.45455</td><td style = \"text-align: right;\">4.26829</td><td style = \"text-align: right;\">11.5385</td><td style = \"text-align: right;\">31.5789</td><td style = \"text-align: right;\">40.0</td><td style = \"text-align: right;\">9.67742</td><td style = \"text-align: right;\">13.3333</td><td style = \"text-align: right;\">0.0</td><td style = \"text-align: right;\">0.0</td><td style = \"text-align: right;\">100.0</td><td style = \"text-align: right;\">33.3333</td><td style = \"text-align: right;\">11.1111</td><td style = \"text-align: left;\">2023-12-31T23:00:00</td></tr><tr><td class = \"rowNumber\" style = \"font-weight: bold; text-align: right;\">96403</td><td style = \"text-align: right;\">22.7273</td><td style = \"text-align: right;\">5.45455</td><td style = \"text-align: right;\">4.26829</td><td style = \"text-align: right;\">11.5385</td><td style = \"text-align: right;\">31.5789</td><td style = \"text-align: right;\">40.0</td><td style = \"text-align: right;\">9.67742</td><td style = \"text-align: right;\">13.3333</td><td style = \"text-align: right;\">0.0</td><td style = \"text-align: right;\">0.0</td><td style = \"text-align: right;\">100.0</td><td style = \"text-align: right;\">33.3333</td><td style = \"text-align: right;\">11.1111</td><td style = \"text-align: left;\">2024-01-01T00:00:00</td></tr><tr><td class = \"rowNumber\" style = \"font-weight: bold; text-align: right;\">96404</td><td style = \"text-align: right;\">22.7273</td><td style = \"text-align: right;\">5.45455</td><td style = \"text-align: right;\">4.26829</td><td style = \"text-align: right;\">11.5385</td><td style = \"text-align: right;\">31.5789</td><td style = \"text-align: right;\">40.0</td><td style = \"text-align: right;\">9.67742</td><td style = \"text-align: right;\">13.3333</td><td style = \"text-align: right;\">0.0</td><td style = \"text-align: right;\">0.0</td><td style = \"text-align: right;\">100.0</td><td style = \"text-align: right;\">33.3333</td><td style = \"text-align: right;\">11.1111</td><td style = \"text-align: left;\">2024-01-01T01:00:00</td></tr><tr><td class = \"rowNumber\" style = \"font-weight: bold; text-align: right;\">96405</td><td style = \"text-align: right;\">22.7273</td><td style = \"text-align: right;\">5.45455</td><td style = \"text-align: right;\">4.26829</td><td style = \"text-align: right;\">11.5385</td><td style = \"text-align: right;\">31.5789</td><td style = \"text-align: right;\">40.0</td><td style = \"text-align: right;\">9.67742</td><td style = \"text-align: right;\">13.3333</td><td style = \"text-align: right;\">0.0</td><td style = \"text-align: right;\">0.0</td><td style = \"text-align: right;\">100.0</td><td style = \"text-align: right;\">33.3333</td><td style = \"text-align: right;\">11.1111</td><td style = \"text-align: left;\">2024-01-01T02:00:00</td></tr><tr><td class = \"rowNumber\" style = \"font-weight: bold; text-align: right;\">96406</td><td style = \"text-align: right;\">22.7273</td><td style = \"text-align: right;\">5.45455</td><td style = \"text-align: right;\">4.26829</td><td style = \"text-align: right;\">11.5385</td><td style = \"text-align: right;\">31.5789</td><td style = \"text-align: right;\">40.0</td><td style = \"text-align: right;\">9.67742</td><td style = \"text-align: right;\">13.3333</td><td style = \"text-align: right;\">0.0</td><td style = \"text-align: right;\">0.0</td><td style = \"text-align: right;\">100.0</td><td style = \"text-align: right;\">33.3333</td><td style = \"text-align: right;\">11.1111</td><td style = \"text-align: left;\">2024-01-01T03:00:00</td></tr><tr><td class = \"rowNumber\" style = \"font-weight: bold; text-align: right;\">96407</td><td style = \"text-align: right;\">22.7273</td><td style = \"text-align: right;\">4.54545</td><td style = \"text-align: right;\">4.26829</td><td style = \"text-align: right;\">9.61538</td><td style = \"text-align: right;\">31.5789</td><td style = \"text-align: right;\">40.0</td><td style = \"text-align: right;\">9.67742</td><td style = \"text-align: right;\">13.3333</td><td style = \"text-align: right;\">0.0</td><td style = \"text-align: right;\">0.0</td><td style = \"text-align: right;\">100.0</td><td style = \"text-align: right;\">33.3333</td><td style = \"text-align: right;\">11.1111</td><td style = \"text-align: left;\">2024-01-01T04:00:00</td></tr><tr><td class = \"rowNumber\" style = \"font-weight: bold; text-align: right;\">96408</td><td style = \"text-align: right;\">22.7273</td><td style = \"text-align: right;\">4.54545</td><td style = \"text-align: right;\">4.26829</td><td style = \"text-align: right;\">9.61538</td><td style = \"text-align: right;\">31.5789</td><td style = \"text-align: right;\">40.0</td><td style = \"text-align: right;\">9.67742</td><td style = \"text-align: right;\">13.3333</td><td style = \"text-align: right;\">0.0</td><td style = \"text-align: right;\">0.0</td><td style = \"text-align: right;\">100.0</td><td style = \"text-align: right;\">33.3333</td><td style = \"text-align: right;\">11.1111</td><td style = \"text-align: left;\">2024-01-01T05:00:00</td></tr><tr><td class = \"rowNumber\" style = \"font-weight: bold; text-align: right;\">96409</td><td style = \"text-align: right;\">22.7273</td><td style = \"text-align: right;\">4.54545</td><td style = \"text-align: right;\">4.26829</td><td style = \"text-align: right;\">9.61538</td><td style = \"text-align: right;\">31.5789</td><td style = \"text-align: right;\">40.0</td><td style = \"text-align: right;\">9.67742</td><td style = \"text-align: right;\">13.3333</td><td style = \"text-align: right;\">0.0</td><td style = \"text-align: right;\">0.0</td><td style = \"text-align: right;\">100.0</td><td style = \"text-align: right;\">33.3333</td><td style = \"text-align: right;\">11.1111</td><td style = \"text-align: left;\">2024-01-01T06:00:00</td></tr></tbody></table></div>"
      ],
      "text/latex": [
       "\\begin{tabular}{r|cccccccccc}\n",
       "\t& 861 & 851 & 300 & 852 & 100 & 650 & 850 & 500 & 200 & \\\\\n",
       "\t\\hline\n",
       "\t& Float64 & Float64 & Float64 & Float64 & Float64 & Float64 & Float64 & Float64 & Float64 & \\\\\n",
       "\t\\hline\n",
       "\t1 & 4.87805 & 7.14286 & 5.95238 & 7.89474 & 14.2857 & 0.0 & 3.0303 & 33.3333 & 0.0 & $\\dots$ \\\\\n",
       "\t2 & 4.87805 & 7.14286 & 5.95238 & 7.89474 & 14.2857 & 0.0 & 3.0303 & 33.3333 & 0.0 & $\\dots$ \\\\\n",
       "\t3 & 4.87805 & 7.14286 & 5.95238 & 7.89474 & 14.2857 & 0.0 & 3.0303 & 33.3333 & 0.0 & $\\dots$ \\\\\n",
       "\t4 & 4.87805 & 7.14286 & 5.95238 & 7.89474 & 14.2857 & 0.0 & 3.0303 & 33.3333 & 0.0 & $\\dots$ \\\\\n",
       "\t5 & 4.87805 & 7.14286 & 5.95238 & 7.89474 & 14.2857 & 0.0 & 3.0303 & 33.3333 & 0.0 & $\\dots$ \\\\\n",
       "\t6 & 4.87805 & 7.14286 & 5.95238 & 7.89474 & 15.0794 & 0.0 & 3.0303 & 33.3333 & 0.0 & $\\dots$ \\\\\n",
       "\t7 & 4.87805 & 7.14286 & 5.95238 & 7.89474 & 14.2857 & 0.0 & 3.0303 & 33.3333 & 0.0 & $\\dots$ \\\\\n",
       "\t8 & 4.87805 & 7.14286 & 5.95238 & 7.89474 & 14.2857 & 0.0 & 3.0303 & 33.3333 & 0.0 & $\\dots$ \\\\\n",
       "\t9 & 4.87805 & 7.14286 & 5.95238 & 7.89474 & 13.4921 & 0.0 & 3.0303 & 33.3333 & 0.0 & $\\dots$ \\\\\n",
       "\t10 & 4.87805 & 7.14286 & 5.95238 & 7.89474 & 13.4921 & 0.0 & 3.0303 & 33.3333 & 0.0 & $\\dots$ \\\\\n",
       "\t11 & 4.87805 & 7.14286 & 5.95238 & 7.89474 & 14.2857 & 0.0 & 3.0303 & 33.3333 & 0.0 & $\\dots$ \\\\\n",
       "\t12 & 4.87805 & 7.14286 & 5.95238 & 7.89474 & 14.2857 & 0.0 & 3.0303 & 33.3333 & 0.0 & $\\dots$ \\\\\n",
       "\t13 & 4.87805 & 7.14286 & 5.95238 & 7.89474 & 14.2857 & 0.0 & 3.0303 & 33.3333 & 0.0 & $\\dots$ \\\\\n",
       "\t14 & 4.87805 & 9.30233 & 5.95238 & 10.2564 & 14.2857 & 0.0 & 3.0303 & 33.3333 & 0.0 & $\\dots$ \\\\\n",
       "\t15 & 4.87805 & 9.30233 & 5.95238 & 10.2564 & 15.0794 & 0.0 & 3.0303 & 33.3333 & 0.0 & $\\dots$ \\\\\n",
       "\t16 & 4.87805 & 9.30233 & 5.95238 & 10.2564 & 15.0794 & 0.0 & 3.0303 & 33.3333 & 0.0 & $\\dots$ \\\\\n",
       "\t17 & 4.87805 & 8.13953 & 5.95238 & 7.69231 & 15.873 & 0.0 & 3.0303 & 33.3333 & 0.0 & $\\dots$ \\\\\n",
       "\t18 & 4.87805 & 5.81395 & 5.95238 & 5.12821 & 15.873 & 0.0 & 3.0303 & 33.3333 & 0.0 & $\\dots$ \\\\\n",
       "\t19 & 4.87805 & 6.89655 & 5.95238 & 7.5 & 15.0794 & 0.0 & 3.0303 & 33.3333 & 0.0 & $\\dots$ \\\\\n",
       "\t20 & 4.87805 & 5.74713 & 5.95238 & 7.5 & 15.873 & 0.0 & 3.0303 & 33.3333 & 0.0 & $\\dots$ \\\\\n",
       "\t21 & 4.87805 & 5.74713 & 5.95238 & 7.5 & 15.0794 & 0.0 & 3.0303 & 33.3333 & 0.0 & $\\dots$ \\\\\n",
       "\t22 & 4.87805 & 5.74713 & 5.95238 & 7.5 & 15.0794 & 0.0 & 3.0303 & 33.3333 & 0.0 & $\\dots$ \\\\\n",
       "\t23 & 4.87805 & 5.74713 & 5.95238 & 7.5 & 15.0794 & 0.0 & 3.0303 & 33.3333 & 0.0 & $\\dots$ \\\\\n",
       "\t24 & 7.31707 & 5.74713 & 7.14286 & 5.0 & 15.873 & 0.0 & 3.0303 & 33.3333 & 0.0 & $\\dots$ \\\\\n",
       "\t$\\dots$ & $\\dots$ & $\\dots$ & $\\dots$ & $\\dots$ & $\\dots$ & $\\dots$ & $\\dots$ & $\\dots$ & $\\dots$ &  \\\\\n",
       "\\end{tabular}\n"
      ],
      "text/plain": [
       "\u001b[1m96409×14 DataFrame\u001b[0m\n",
       "\u001b[1m   Row \u001b[0m│\u001b[1m 861      \u001b[0m\u001b[1m 851     \u001b[0m\u001b[1m 300     \u001b[0m\u001b[1m 852      \u001b[0m\u001b[1m 100     \u001b[0m\u001b[1m 650     \u001b[0m\u001b[1m 850     \u001b[0m\u001b[1m 500 \u001b[0m ⋯\n",
       "       │\u001b[90m Float64  \u001b[0m\u001b[90m Float64 \u001b[0m\u001b[90m Float64 \u001b[0m\u001b[90m Float64  \u001b[0m\u001b[90m Float64 \u001b[0m\u001b[90m Float64 \u001b[0m\u001b[90m Float64 \u001b[0m\u001b[90m Floa\u001b[0m ⋯\n",
       "───────┼────────────────────────────────────────────────────────────────────────\n",
       "     1 │  4.87805  7.14286  5.95238   7.89474  14.2857      0.0  3.0303   33.3 ⋯\n",
       "     2 │  4.87805  7.14286  5.95238   7.89474  14.2857      0.0  3.0303   33.3\n",
       "     3 │  4.87805  7.14286  5.95238   7.89474  14.2857      0.0  3.0303   33.3\n",
       "     4 │  4.87805  7.14286  5.95238   7.89474  14.2857      0.0  3.0303   33.3\n",
       "     5 │  4.87805  7.14286  5.95238   7.89474  14.2857      0.0  3.0303   33.3 ⋯\n",
       "     6 │  4.87805  7.14286  5.95238   7.89474  15.0794      0.0  3.0303   33.3\n",
       "     7 │  4.87805  7.14286  5.95238   7.89474  14.2857      0.0  3.0303   33.3\n",
       "     8 │  4.87805  7.14286  5.95238   7.89474  14.2857      0.0  3.0303   33.3\n",
       "   ⋮   │    ⋮         ⋮        ⋮        ⋮         ⋮        ⋮        ⋮        ⋮ ⋱\n",
       " 96403 │ 22.7273   5.45455  4.26829  11.5385   31.5789     40.0  9.67742  13.3 ⋯\n",
       " 96404 │ 22.7273   5.45455  4.26829  11.5385   31.5789     40.0  9.67742  13.3\n",
       " 96405 │ 22.7273   5.45455  4.26829  11.5385   31.5789     40.0  9.67742  13.3\n",
       " 96406 │ 22.7273   5.45455  4.26829  11.5385   31.5789     40.0  9.67742  13.3\n",
       " 96407 │ 22.7273   4.54545  4.26829   9.61538  31.5789     40.0  9.67742  13.3 ⋯\n",
       " 96408 │ 22.7273   4.54545  4.26829   9.61538  31.5789     40.0  9.67742  13.3\n",
       " 96409 │ 22.7273   4.54545  4.26829   9.61538  31.5789     40.0  9.67742  13.3\n",
       "\u001b[36m                                                7 columns and 96394 rows omitted\u001b[0m"
      ]
     },
     "metadata": {},
     "output_type": "display_data"
    }
   ],
   "source": [
    "f = joinpath(homedir(), \"research\", \"GADS_Processed\", \"aggregate_texas\", \"texas_available_capacity_pct_by_unit_type.csv\")\n",
    "pct_offline = DataFrame(CSV.File(f))"
   ]
  },
  {
   "cell_type": "code",
   "execution_count": null,
   "id": "3c3e3e9e",
   "metadata": {},
   "outputs": [
    {
     "data": {
      "text/plain": [
       "13-element Vector{Symbol}:\n",
       " Symbol(\"861\")\n",
       " Symbol(\"851\")\n",
       " Symbol(\"300\")\n",
       " Symbol(\"852\")\n",
       " Symbol(\"100\")\n",
       " Symbol(\"650\")\n",
       " Symbol(\"850\")\n",
       " Symbol(\"500\")\n",
       " Symbol(\"200\")\n",
       " Symbol(\"800\")\n",
       " Symbol(\"860\")\n",
       " Symbol(\"862\")\n",
       " Symbol(\"400\")"
      ]
     },
     "metadata": {},
     "output_type": "display_data"
    }
   ],
   "source": [
    "label = [861\t851\t300\t852\t100\t650\t850\t500\t200\t800\t860\t862\t400]\n",
    "colnames = Symbol.(reshape(label, (13,)))\n",
    "code_dict = Dict([(100, \"Fossil-Steam\"), (200, \"Nuclear\"), (300, \"Gas Turbine/Jet Engine\"), (400, \"Internal Combustion Engines\"), (500, \"Pumped Storage/Hydro\"), (650, \"Fluidized Bed\"), (800, \"Miscellaneous\"), (810, \"Multi-boiler/Multi-turbine\"), (830, \"Geothermal\"), (850, \"Combined Cycle Block\"), (851, \"CC GT units\"), (852, \"CC steam units\"), (860, \"Co-generator block\"), (861, \"CoG CT units\"), (862, \"CoG steam units\")])\n",
    "str_label = map(k -> code_dict[k], label)"
   ]
  },
  {
   "cell_type": "code",
   "execution_count": 15,
   "id": "b98e456f",
   "metadata": {},
   "outputs": [
    {
     "data": {
      "text/plain": [
       "96409×13 Matrix{Float64}:\n",
       "  4.87805  7.14286  5.95238   7.89474  …  33.3333    0.0   9.09091  100.0\n",
       "  4.87805  7.14286  5.95238   7.89474     33.3333    0.0   9.09091  100.0\n",
       "  4.87805  7.14286  5.95238   7.89474     33.3333    0.0   9.09091  100.0\n",
       "  4.87805  7.14286  5.95238   7.89474     33.3333    0.0   9.09091  100.0\n",
       "  4.87805  7.14286  5.95238   7.89474     33.3333    0.0   9.09091  100.0\n",
       "  4.87805  7.14286  5.95238   7.89474  …  33.3333    0.0   9.09091  100.0\n",
       "  4.87805  7.14286  5.95238   7.89474     33.3333    0.0   9.09091  100.0\n",
       "  4.87805  7.14286  5.95238   7.89474     33.3333    0.0   9.09091  100.0\n",
       "  4.87805  7.14286  5.95238   7.89474     33.3333    0.0   9.09091  100.0\n",
       "  4.87805  7.14286  5.95238   7.89474     33.3333    0.0   9.09091  100.0\n",
       "  ⋮                                    ⋱             ⋮              \n",
       " 22.7273   5.45455  4.26829  11.5385   …   0.0     100.0  33.3333    11.1111\n",
       " 22.7273   5.45455  4.26829  11.5385       0.0     100.0  33.3333    11.1111\n",
       " 22.7273   5.45455  4.26829  11.5385       0.0     100.0  33.3333    11.1111\n",
       " 22.7273   5.45455  4.26829  11.5385       0.0     100.0  33.3333    11.1111\n",
       " 22.7273   5.45455  4.26829  11.5385       0.0     100.0  33.3333    11.1111\n",
       " 22.7273   5.45455  4.26829  11.5385   …   0.0     100.0  33.3333    11.1111\n",
       " 22.7273   4.54545  4.26829   9.61538      0.0     100.0  33.3333    11.1111\n",
       " 22.7273   4.54545  4.26829   9.61538      0.0     100.0  33.3333    11.1111\n",
       " 22.7273   4.54545  4.26829   9.61538      0.0     100.0  33.3333    11.1111"
      ]
     },
     "metadata": {},
     "output_type": "display_data"
    }
   ],
   "source": [
    "y_matrix = Matrix(pct_offline[:, colnames])"
   ]
  },
  {
   "cell_type": "code",
   "execution_count": 29,
   "id": "9a3acb83",
   "metadata": {},
   "outputs": [],
   "source": [
    "default(; # Plots defaults\n",
    "    fontfamily=\"Computer modern\")"
   ]
  },
  {
   "cell_type": "code",
   "execution_count": 55,
   "id": "9ca00412",
   "metadata": {},
   "outputs": [
    {
     "data": {
      "text/plain": [
       "\"/home/emco4286/research/GADS_Processing_Scripts/texas_all_types_available_capacity_2013.png\""
      ]
     },
     "metadata": {},
     "output_type": "display_data"
    }
   ],
   "source": [
    "areaplot(pct_offline[1:8760, :x],  y_matrix[1:8760, :]./13, size=(800, 500), label=str_label, fillalpha = 0.4, palette=collect(cgrad(:batlow25, 13, categorical=true)), ylabel=\"% of Units Offline\", title=\"Conventional Generators in Texas\", legendtitle=\"Unit Type\", xlabel=\"Date\", legendfontsize=6, legend=:outerbottom, legendtitlefontsize=6, legend_column=3,leftmargin=4mm)\n",
    "savefig(\"texas_all_types_available_capacity_2013.png\")"
   ]
  },
  {
   "cell_type": "code",
   "execution_count": 68,
   "id": "7eb1160b",
   "metadata": {},
   "outputs": [
    {
     "data": {
      "text/plain": [
       "12-element Vector{String}:\n",
       " \"2013\"\n",
       " \"2014\"\n",
       " \"2015\"\n",
       " \"2016\"\n",
       " \"2017\"\n",
       " \"2018\"\n",
       " \"2019\"\n",
       " \"2020\"\n",
       " \"2021\"\n",
       " \"2022\"\n",
       " \"2023\"\n",
       " \"2024\""
      ]
     },
     "metadata": {},
     "output_type": "display_data"
    }
   ],
   "source": [
    "t = DateTime(2013, 1, 1):Year(1):DateTime(2024, 1, 1)\n",
    "time_ticks = Dates.format.(t,\"yyyy\")"
   ]
  },
  {
   "cell_type": "code",
   "execution_count": 70,
   "id": "45a737e7",
   "metadata": {},
   "outputs": [
    {
     "data": {
      "text/plain": [
       "\"/home/emco4286/research/GADS_Processing_Scripts/texas_type_100_available_capacity.png\""
      ]
     },
     "metadata": {},
     "output_type": "display_data"
    }
   ],
   "source": [
    "areaplot(pct_offline[!, :x],  y_matrix[:, 5], label=\"\", fillalpha = 0.4, ylabel=\"% of Units Offline\", title=\"Fossil-Steam Units in Texas\", xlabel=\"Date\", xticks=(t, time_ticks))\n",
    "savefig(\"texas_type_100_available_capacity.png\")"
   ]
  }
 ],
 "metadata": {
  "kernelspec": {
   "display_name": "Julia 1.11.5",
   "language": "julia",
   "name": "julia-1.11"
  },
  "language_info": {
   "file_extension": ".jl",
   "mimetype": "application/julia",
   "name": "julia",
   "version": "1.11.5"
  }
 },
 "nbformat": 4,
 "nbformat_minor": 5
}
