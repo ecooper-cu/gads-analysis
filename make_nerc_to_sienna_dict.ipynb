{
 "cells": [
  {
   "cell_type": "code",
   "execution_count": 7,
   "metadata": {},
   "outputs": [],
   "source": [
    "import numpy as numpy\n",
    "import json\n",
    "import os\n",
    "import pathlib"
   ]
  },
  {
   "cell_type": "code",
   "execution_count": 2,
   "metadata": {},
   "outputs": [],
   "source": [
    "nerc_keys = list(range(100, 900, 1))"
   ]
  },
  {
   "cell_type": "code",
   "execution_count": 5,
   "metadata": {},
   "outputs": [],
   "source": [
    "mydict = dict()\n",
    "\n",
    "for k in nerc_keys:\n",
    "    v = 0\n",
    "\n",
    "    if k < 200:\n",
    "        v = 20 # ST\n",
    "    elif k < 300:\n",
    "        v = 20 # ST\n",
    "    elif k < 400:\n",
    "        v = 8 # CT\n",
    "    elif k < 500:\n",
    "        v = 12 # This is actually IC, but doesn't matter since there are no IC units in the system\n",
    "    elif k < 600:\n",
    "        v = 12 # This is actually PS, but doesn't matter since there are no PS units in the system\n",
    "    elif k < 650:\n",
    "        v = 20 # ST\n",
    "    elif k < 700:\n",
    "        v = 20 # ST\n",
    "    elif k < 800:\n",
    "        v = 8 # CT\n",
    "    elif k < 900:\n",
    "        v = 4 # CC\n",
    "    elif k < 1000:\n",
    "        v = 12 # This is actually PS, but doesn't matter since there are no PS units in the system\n",
    "    \n",
    "    mydict[k] = v\n"
   ]
  },
  {
   "cell_type": "code",
   "execution_count": 8,
   "metadata": {},
   "outputs": [],
   "source": [
    "save_pt = os.path.join(pathlib.Path.home(), \"gads-analysis\", \"nerc_to_sienna.json\")"
   ]
  },
  {
   "cell_type": "code",
   "execution_count": 10,
   "metadata": {},
   "outputs": [],
   "source": [
    "with open(save_pt, \"w\") as json_file:\n",
    "    json.dump(mydict, json_file, indent=4)"
   ]
  }
 ],
 "metadata": {
  "kernelspec": {
   "display_name": "myenv",
   "language": "python",
   "name": "python3"
  },
  "language_info": {
   "codemirror_mode": {
    "name": "ipython",
    "version": 3
   },
   "file_extension": ".py",
   "mimetype": "text/x-python",
   "name": "python",
   "nbconvert_exporter": "python",
   "pygments_lexer": "ipython3",
   "version": "3.6.8"
  },
  "orig_nbformat": 4
 },
 "nbformat": 4,
 "nbformat_minor": 2
}
