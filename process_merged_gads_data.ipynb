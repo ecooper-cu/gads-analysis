{
 "cells": [
  {
   "cell_type": "code",
   "execution_count": 1,
   "id": "f5e7e7db",
   "metadata": {},
   "outputs": [],
   "source": [
    "import pandas as pd\n",
    "import os\n",
    "import pathlib\n",
    "import numpy as np\n",
    "import matplotlib.pyplot as plt\n",
    "from matplotlib.dates import DateFormatter\n",
    "import matplotlib.patches as mpatches\n",
    "import datetime\n",
    "import re\n",
    "import seaborn as sns\n",
    "import re\n",
    "import glob"
   ]
  },
  {
   "cell_type": "code",
   "execution_count": null,
   "id": "e8295b53",
   "metadata": {},
   "outputs": [],
   "source": [
    "root = pathlib.Path.home()\n",
    "pt = os.path.join(root, 'research', \"gen_287_2013_2017.csv\")\n",
    "data = pd.read_csv(pt)\n"
   ]
  },
  {
   "cell_type": "code",
   "execution_count": null,
   "id": "321d1f54",
   "metadata": {},
   "outputs": [],
   "source": [
    "data.set_index(pd.DatetimeIndex(data[\"EventStartDT\"]), inplace=True)\n",
    "data.sort_index(inplace=True)\n",
    "data.drop(columns=[\"NetAvailableCapacityMW_grp\", \"WorkDuration\", \"ContributionCode\", \"ContributionCodeDesc\", \"UnitID\", \"EventCausesID\", \"EventID\", \"CauseCode\", \"UnitTypeCode\", \"UnitTypeCodeName\"], inplace=True)"
   ]
  },
  {
   "cell_type": "code",
   "execution_count": 80,
   "id": "5a4722c7",
   "metadata": {},
   "outputs": [],
   "source": [
    "birthdate = datetime.datetime(1961, 1, 1)\n",
    "data[\"AgeAtEvent\"] = np.round((pd.to_datetime(data[\"EventStartDT\"]) - birthdate)/np.timedelta64(1, 'h')).astype(int)"
   ]
  },
  {
   "cell_type": "markdown",
   "id": "c8b27c80",
   "metadata": {},
   "source": [
    "Unit is Sutherland 3 (79.5 MW) in IA, started in 1961, converted to gas in 2011\n",
    "\n",
    "https://www.oasis.oati.com/woa/docs/MISO/MISOdocs/OASIS_Posting_of_Approved_Generator_Retirements_(Public)_2023-03-30.pdf\n",
    "\n",
    "\n",
    "https://www.gem.wiki/Sutherland_Generating_Station"
   ]
  },
  {
   "cell_type": "code",
   "execution_count": 64,
   "id": "56e2af54",
   "metadata": {},
   "outputs": [
    {
     "data": {
      "text/html": [
       "<div>\n",
       "<style scoped>\n",
       "    .dataframe tbody tr th:only-of-type {\n",
       "        vertical-align: middle;\n",
       "    }\n",
       "\n",
       "    .dataframe tbody tr th {\n",
       "        vertical-align: top;\n",
       "    }\n",
       "\n",
       "    .dataframe thead th {\n",
       "        text-align: right;\n",
       "    }\n",
       "</style>\n",
       "<table border=\"1\" class=\"dataframe\">\n",
       "  <thead>\n",
       "    <tr style=\"text-align: right;\">\n",
       "      <th></th>\n",
       "      <th>Duration</th>\n",
       "      <th>EventEndDT</th>\n",
       "    </tr>\n",
       "    <tr>\n",
       "      <th>EventStartDT</th>\n",
       "      <th></th>\n",
       "      <th></th>\n",
       "    </tr>\n",
       "  </thead>\n",
       "  <tbody>\n",
       "    <tr>\n",
       "      <th>2013-01-01 06:00:00</th>\n",
       "      <td>39 days, 0:01:00</td>\n",
       "      <td>2013-02-09 06:01:00</td>\n",
       "    </tr>\n",
       "    <tr>\n",
       "      <th>2013-12-30 23:10:00</th>\n",
       "      <td>1 day, 6:50:00</td>\n",
       "      <td>2014-01-01 06:00:00</td>\n",
       "    </tr>\n",
       "    <tr>\n",
       "      <th>2014-01-01 06:00:00</th>\n",
       "      <td>31 days, 0:00:00</td>\n",
       "      <td>2014-02-01 06:00:00</td>\n",
       "    </tr>\n",
       "    <tr>\n",
       "      <th>2015-12-01 06:00:00</th>\n",
       "      <td>31 days, 0:00:00</td>\n",
       "      <td>2016-01-01 06:00:00</td>\n",
       "    </tr>\n",
       "    <tr>\n",
       "      <th>2016-01-01 06:00:00</th>\n",
       "      <td>28 days, 4:14:00</td>\n",
       "      <td>2016-01-29 10:14:00</td>\n",
       "    </tr>\n",
       "    <tr>\n",
       "      <th>2016-12-01 06:00:00</th>\n",
       "      <td>31 days, 0:00:00</td>\n",
       "      <td>2017-01-01 06:00:00</td>\n",
       "    </tr>\n",
       "    <tr>\n",
       "      <th>2017-01-01 06:00:00</th>\n",
       "      <td>150 days, 23:00:00</td>\n",
       "      <td>2017-06-01 05:00:00</td>\n",
       "    </tr>\n",
       "    <tr>\n",
       "      <th>2017-06-01 05:00:00</th>\n",
       "      <td>214 days, 1:00:00</td>\n",
       "      <td>2018-01-01 06:00:00</td>\n",
       "    </tr>\n",
       "  </tbody>\n",
       "</table>\n",
       "</div>"
      ],
      "text/plain": [
       "                               Duration           EventEndDT\n",
       "EventStartDT                                                \n",
       "2013-01-01 06:00:00    39 days, 0:01:00  2013-02-09 06:01:00\n",
       "2013-12-30 23:10:00      1 day, 6:50:00  2014-01-01 06:00:00\n",
       "2014-01-01 06:00:00    31 days, 0:00:00  2014-02-01 06:00:00\n",
       "2015-12-01 06:00:00    31 days, 0:00:00  2016-01-01 06:00:00\n",
       "2016-01-01 06:00:00    28 days, 4:14:00  2016-01-29 10:14:00\n",
       "2016-12-01 06:00:00    31 days, 0:00:00  2017-01-01 06:00:00\n",
       "2017-01-01 06:00:00  150 days, 23:00:00  2017-06-01 05:00:00\n",
       "2017-06-01 05:00:00   214 days, 1:00:00  2018-01-01 06:00:00"
      ]
     },
     "execution_count": 64,
     "metadata": {},
     "output_type": "execute_result"
    }
   ],
   "source": [
    "data[data[\"OutageContinuationFlag\"] != 0][[\"Duration\", \"EventEndDT\"]]"
   ]
  },
  {
   "cell_type": "code",
   "execution_count": 73,
   "id": "3805a64e",
   "metadata": {},
   "outputs": [],
   "source": [
    "date1 = \"2016-12-01 06:00:00\"\n",
    "duration1 = data.at[date1, \"Duration\"]\n",
    "matched1 = re.findall(r\"(?:(?:(\\d+):)?(\\d+):)?(\\d+(?:\\.\\d+)?)\", duration1)\n",
    "days = int(matched1[0][2])\n",
    "hours = int(matched1[1][0])\n",
    "minutes = int(matched1[1][1])\n",
    "timedelta1 = datetime.timedelta(days=days, hours=hours, minutes=minutes)\n",
    "\n",
    "\n",
    "date2 = \"2017-01-01 06:00:00\"\n",
    "duration2 = data.at[date2, \"Duration\"]\n",
    "matched2 = re.findall(r\"(?:(?:(\\d+):)?(\\d+):)?(\\d+(?:\\.\\d+)?)\", duration2)\n",
    "days = int(matched2[0][2])\n",
    "hours = int(matched2[1][0])\n",
    "minutes = int(matched2[1][1])\n",
    "timedelta2 = datetime.timedelta(days=days, hours=hours, minutes=minutes)\n",
    "\n",
    "data.at[date1, \"Duration\"] = timedelta1 + timedelta2\n",
    "data.at[date1, \"EventEndDT\"] = data.at[date2, \"EventEndDT\"]\n",
    "data.drop(index=date2, inplace=True)"
   ]
  },
  {
   "cell_type": "code",
   "execution_count": 74,
   "id": "f50f8a84",
   "metadata": {},
   "outputs": [
    {
     "data": {
      "text/html": [
       "<div>\n",
       "<style scoped>\n",
       "    .dataframe tbody tr th:only-of-type {\n",
       "        vertical-align: middle;\n",
       "    }\n",
       "\n",
       "    .dataframe tbody tr th {\n",
       "        vertical-align: top;\n",
       "    }\n",
       "\n",
       "    .dataframe thead th {\n",
       "        text-align: right;\n",
       "    }\n",
       "</style>\n",
       "<table border=\"1\" class=\"dataframe\">\n",
       "  <thead>\n",
       "    <tr style=\"text-align: right;\">\n",
       "      <th></th>\n",
       "      <th>Duration</th>\n",
       "      <th>EventEndDT</th>\n",
       "    </tr>\n",
       "    <tr>\n",
       "      <th>EventStartDT</th>\n",
       "      <th></th>\n",
       "      <th></th>\n",
       "    </tr>\n",
       "  </thead>\n",
       "  <tbody>\n",
       "    <tr>\n",
       "      <th>2013-01-01 06:00:00</th>\n",
       "      <td>39 days, 0:01:00</td>\n",
       "      <td>2013-02-09 06:01:00</td>\n",
       "    </tr>\n",
       "    <tr>\n",
       "      <th>2013-12-30 23:10:00</th>\n",
       "      <td>32 days, 6:50:00</td>\n",
       "      <td>2014-02-01 06:00:00</td>\n",
       "    </tr>\n",
       "    <tr>\n",
       "      <th>2015-12-01 06:00:00</th>\n",
       "      <td>59 days, 4:14:00</td>\n",
       "      <td>2016-01-29 10:14:00</td>\n",
       "    </tr>\n",
       "    <tr>\n",
       "      <th>2016-12-01 06:00:00</th>\n",
       "      <td>181 days, 23:00:00</td>\n",
       "      <td>2017-06-01 05:00:00</td>\n",
       "    </tr>\n",
       "    <tr>\n",
       "      <th>2017-06-01 05:00:00</th>\n",
       "      <td>214 days, 1:00:00</td>\n",
       "      <td>2018-01-01 06:00:00</td>\n",
       "    </tr>\n",
       "  </tbody>\n",
       "</table>\n",
       "</div>"
      ],
      "text/plain": [
       "                               Duration           EventEndDT\n",
       "EventStartDT                                                \n",
       "2013-01-01 06:00:00    39 days, 0:01:00  2013-02-09 06:01:00\n",
       "2013-12-30 23:10:00    32 days, 6:50:00  2014-02-01 06:00:00\n",
       "2015-12-01 06:00:00    59 days, 4:14:00  2016-01-29 10:14:00\n",
       "2016-12-01 06:00:00  181 days, 23:00:00  2017-06-01 05:00:00\n",
       "2017-06-01 05:00:00   214 days, 1:00:00  2018-01-01 06:00:00"
      ]
     },
     "execution_count": 74,
     "metadata": {},
     "output_type": "execute_result"
    }
   ],
   "source": [
    "data[data[\"OutageContinuationFlag\"] != 0][[\"Duration\", \"EventEndDT\"]]"
   ]
  },
  {
   "cell_type": "code",
   "execution_count": 118,
   "id": "f987780d",
   "metadata": {},
   "outputs": [
    {
     "data": {
      "text/plain": [
       "EventStartDT\n",
       "2013-01-01 06:00:00    455838\n",
       "2013-02-09 06:01:00    456774\n",
       "2013-03-01 20:30:00    457268\n",
       "2013-03-28 20:58:00    457917\n",
       "2013-04-22 01:47:00    458498\n",
       "                        ...  \n",
       "2016-09-01 05:00:00    487973\n",
       "2016-10-01 05:00:00    488693\n",
       "2016-11-01 05:00:00    489437\n",
       "2016-12-01 06:00:00    490158\n",
       "2017-06-01 05:00:00    494525\n",
       "Name: AgeAtEvent, Length: 89, dtype: int64"
      ]
     },
     "execution_count": 118,
     "metadata": {},
     "output_type": "execute_result"
    }
   ],
   "source": [
    "\n",
    "data[\"AgeAtEvent\"]"
   ]
  },
  {
   "cell_type": "code",
   "execution_count": 113,
   "id": "3e75e5d6",
   "metadata": {},
   "outputs": [],
   "source": [
    "mydict = {\"RS\": 5,\n",
    "          \"PO\": 3,\n",
    "          \"U1\": 2,\n",
    "          \"SF\": 2,\n",
    "          \"MO\": 4,\n",
    "          \"PD\": 3,\n",
    "          \"A\" : 1,\n",
    "          \"F\": 2,\n",
    "          \"RU\": 6}\n",
    "\n",
    "start_date = datetime.datetime(2013, 1, 1)\n",
    "end_date = datetime.datetime(2018, 1, 2)\n",
    "\n",
    "date_range = pd.date_range(start=start_date, end=end_date, freq='min')\n",
    "state = np.ones(len(date_range))\n",
    "cause = np.full(len(date_range), 1)\n",
    "\n",
    "datetimes = data.index\n",
    "indexes = [int(i.total_seconds()/60) for i in datetimes - start_date]\n",
    "\n",
    "for k in range(len(indexes)):\n",
    "    start_time = datetimes[k]\n",
    "    mytime = data.loc[datetimes[k], \"Duration\"]\n",
    "    mycause = data.loc[datetimes[k], \"EventTypeCode\"]\n",
    "    # myage = data.loc[(datetimes[k], slice(None)), \"AgeAtEvent\"].values[0]\n",
    "\n",
    "    if type(mytime) == datetime.time:\n",
    "        mytime = datetime.datetime.combine(datetime.datetime.min, mytime) - datetime.datetime.min\n",
    "    elif type(mytime) == str:\n",
    "        matched2 = re.findall(r\"(?:(?:(\\d+):)?(\\d+):)?(\\d+(?:\\.\\d+)?)\", mytime)\n",
    "        if len(matched2) > 1:\n",
    "            days = int(matched2[0][2])\n",
    "            hours = int(matched2[1][0])\n",
    "            minutes = int(matched2[1][1])\n",
    "            mytime = datetime.timedelta(days=days, hours=hours, minutes=minutes)\n",
    "        else:\n",
    "            hours = int(matched2[0][0])\n",
    "            minutes = int(matched2[0][1])\n",
    "            mytime = datetime.timedelta(hours=hours, minutes=minutes)\n",
    "    end_time = start_time + mytime\n",
    "\n",
    "    start_index = np.ravel(np.where(date_range == start_time))[0]\n",
    "    end_index = np.ravel(np.where(date_range == end_time))[0]\n",
    "\n",
    "    state[start_index:end_index] = 0\n",
    "    cause[start_index:end_index] = mydict[mycause]\n"
   ]
  },
  {
   "cell_type": "code",
   "execution_count": 121,
   "id": "74b27f41",
   "metadata": {},
   "outputs": [],
   "source": [
    "starting_age = 455838\n",
    "ending_age = int((end_date - birthdate).total_seconds()/(60*60))\n",
    "age = np.linspace(starting_age, ending_age, len(date_range))"
   ]
  },
  {
   "cell_type": "code",
   "execution_count": 124,
   "id": "41db4f6e",
   "metadata": {},
   "outputs": [],
   "source": [
    "new_dataframe = pd.DataFrame(index=date_range)\n",
    "new_dataframe[\"State\"] = state\n",
    "new_dataframe[\"s_t\"] = cause\n",
    "new_dataframe[\"age\"] = age"
   ]
  },
  {
   "cell_type": "code",
   "execution_count": 125,
   "id": "1bbbdc25",
   "metadata": {},
   "outputs": [
    {
     "data": {
      "text/html": [
       "<div>\n",
       "<style scoped>\n",
       "    .dataframe tbody tr th:only-of-type {\n",
       "        vertical-align: middle;\n",
       "    }\n",
       "\n",
       "    .dataframe tbody tr th {\n",
       "        vertical-align: top;\n",
       "    }\n",
       "\n",
       "    .dataframe thead th {\n",
       "        text-align: right;\n",
       "    }\n",
       "</style>\n",
       "<table border=\"1\" class=\"dataframe\">\n",
       "  <thead>\n",
       "    <tr style=\"text-align: right;\">\n",
       "      <th></th>\n",
       "      <th>State</th>\n",
       "      <th>s_t</th>\n",
       "      <th>age</th>\n",
       "    </tr>\n",
       "  </thead>\n",
       "  <tbody>\n",
       "    <tr>\n",
       "      <th>2013-01-01 00:00:00</th>\n",
       "      <td>1.0</td>\n",
       "      <td>1</td>\n",
       "      <td>455838.000000</td>\n",
       "    </tr>\n",
       "    <tr>\n",
       "      <th>2013-01-01 00:01:00</th>\n",
       "      <td>1.0</td>\n",
       "      <td>1</td>\n",
       "      <td>455838.016664</td>\n",
       "    </tr>\n",
       "    <tr>\n",
       "      <th>2013-01-01 00:02:00</th>\n",
       "      <td>1.0</td>\n",
       "      <td>1</td>\n",
       "      <td>455838.033329</td>\n",
       "    </tr>\n",
       "    <tr>\n",
       "      <th>2013-01-01 00:03:00</th>\n",
       "      <td>1.0</td>\n",
       "      <td>1</td>\n",
       "      <td>455838.049993</td>\n",
       "    </tr>\n",
       "    <tr>\n",
       "      <th>2013-01-01 00:04:00</th>\n",
       "      <td>1.0</td>\n",
       "      <td>1</td>\n",
       "      <td>455838.066658</td>\n",
       "    </tr>\n",
       "    <tr>\n",
       "      <th>...</th>\n",
       "      <td>...</td>\n",
       "      <td>...</td>\n",
       "      <td>...</td>\n",
       "    </tr>\n",
       "    <tr>\n",
       "      <th>2013-12-31 23:56:00</th>\n",
       "      <td>0.0</td>\n",
       "      <td>5</td>\n",
       "      <td>464596.734656</td>\n",
       "    </tr>\n",
       "    <tr>\n",
       "      <th>2013-12-31 23:57:00</th>\n",
       "      <td>0.0</td>\n",
       "      <td>5</td>\n",
       "      <td>464596.751320</td>\n",
       "    </tr>\n",
       "    <tr>\n",
       "      <th>2013-12-31 23:58:00</th>\n",
       "      <td>0.0</td>\n",
       "      <td>5</td>\n",
       "      <td>464596.767985</td>\n",
       "    </tr>\n",
       "    <tr>\n",
       "      <th>2013-12-31 23:59:00</th>\n",
       "      <td>0.0</td>\n",
       "      <td>5</td>\n",
       "      <td>464596.784649</td>\n",
       "    </tr>\n",
       "    <tr>\n",
       "      <th>2014-01-01 00:00:00</th>\n",
       "      <td>0.0</td>\n",
       "      <td>5</td>\n",
       "      <td>464596.801314</td>\n",
       "    </tr>\n",
       "  </tbody>\n",
       "</table>\n",
       "<p>525601 rows × 3 columns</p>\n",
       "</div>"
      ],
      "text/plain": [
       "                     State  s_t            age\n",
       "2013-01-01 00:00:00    1.0    1  455838.000000\n",
       "2013-01-01 00:01:00    1.0    1  455838.016664\n",
       "2013-01-01 00:02:00    1.0    1  455838.033329\n",
       "2013-01-01 00:03:00    1.0    1  455838.049993\n",
       "2013-01-01 00:04:00    1.0    1  455838.066658\n",
       "...                    ...  ...            ...\n",
       "2013-12-31 23:56:00    0.0    5  464596.734656\n",
       "2013-12-31 23:57:00    0.0    5  464596.751320\n",
       "2013-12-31 23:58:00    0.0    5  464596.767985\n",
       "2013-12-31 23:59:00    0.0    5  464596.784649\n",
       "2014-01-01 00:00:00    0.0    5  464596.801314\n",
       "\n",
       "[525601 rows x 3 columns]"
      ]
     },
     "execution_count": 125,
     "metadata": {},
     "output_type": "execute_result"
    }
   ],
   "source": [
    "new_dataframe[\"2013-01-01\":\"2014-01-01 00:00\"]"
   ]
  },
  {
   "cell_type": "code",
   "execution_count": 129,
   "id": "6f454eba",
   "metadata": {},
   "outputs": [
    {
     "data": {
      "text/plain": [
       "<matplotlib.legend.Legend at 0x7f3c7d88ae00>"
      ]
     },
     "execution_count": 129,
     "metadata": {},
     "output_type": "execute_result"
    },
    {
     "data": {
      "image/png": "[encoded data removed]",
      "text/plain": [
       "<Figure size 1000x500 with 1 Axes>"
      ]
     },
     "metadata": {},
     "output_type": "display_data"
    }
   ],
   "source": [
    "prop_cycle = plt.rcParams['axes.prop_cycle']\n",
    "colors = prop_cycle.by_key()['color']\n",
    "\n",
    "fig, ax = plt.subplots(figsize=(10,5))\n",
    "ax.xaxis.set_major_formatter(DateFormatter(\"%y/%m\"))\n",
    "\n",
    "colordict = dict({v:c for v, c in zip(mydict.values(), colors)})\n",
    "\n",
    "ax.scatter(date_range, state, c=[colordict[i] for i in cause])\n",
    "ax.plot(date_range, state, lw=1, c='k')\n",
    "\n",
    "patches = []\n",
    "for k, v in colordict.items():\n",
    "    patches.append(mpatches.Patch(color=v, label=k, ec='k'))\n",
    "ax.legend(handles=patches, loc=\"center left\")"
   ]
  },
  {
   "cell_type": "code",
   "execution_count": 127,
   "id": "234feecb",
   "metadata": {},
   "outputs": [],
   "source": [
    "new_dataframe.to_csv('gen_287_2013_2017_state.csv')"
   ]
  }
 ],
 "metadata": {
  "kernelspec": {
   "display_name": "ecen5407",
   "language": "python",
   "name": "ecen5407"
  },
  "language_info": {
   "codemirror_mode": {
    "name": "ipython",
    "version": 3
   },
   "file_extension": ".py",
   "mimetype": "text/x-python",
   "name": "python",
   "nbconvert_exporter": "python",
   "pygments_lexer": "ipython3",
   "version": "3.10.12"
  }
 },
 "nbformat": 4,
 "nbformat_minor": 5
}
