{
 "cells": [
  {
   "cell_type": "code",
   "execution_count": 1,
   "id": "4f363bad",
   "metadata": {},
   "outputs": [],
   "source": [
    "using Printf, CSV, DataFrames, Statistics, Glob, XLSX, Dates"
   ]
  },
  {
   "cell_type": "code",
   "execution_count": 2,
   "id": "5a9b3a47",
   "metadata": {},
   "outputs": [
    {
     "data": {
      "text/plain": [
       "\"/home/emco4286/research/ERCOT_LOAD_DATA/raw\""
      ]
     },
     "metadata": {},
     "output_type": "display_data"
    }
   ],
   "source": [
    "directory = joinpath(homedir(), \"research\", \"ERCOT_LOAD_DATA\", \"raw\")"
   ]
  },
  {
   "cell_type": "code",
   "execution_count": 3,
   "id": "368c25cb",
   "metadata": {},
   "outputs": [
    {
     "data": {
      "text/html": [
       "<div><div style = \"float: left;\"><span>96408×3 DataFrame</span></div><div style = \"float: right;\"><span style = \"font-style: italic;\">96383 rows omitted</span></div><div style = \"clear: both;\"></div></div><div class = \"data-frame\" style = \"overflow-x: scroll;\"><table class = \"data-frame\" style = \"margin-bottom: 6px;\"><thead><tr class = \"header\"><th class = \"rowNumber\" style = \"font-weight: bold; text-align: right;\">Row</th><th style = \"text-align: left;\">Hour_End</th><th style = \"text-align: left;\">COAST</th><th style = \"text-align: left;\">NORTH_C</th></tr><tr class = \"subheader headerLastRow\"><th class = \"rowNumber\" style = \"font-weight: bold; text-align: right;\"></th><th title = \"DateTime\" style = \"text-align: left;\">DateTime</th><th title = \"Any\" style = \"text-align: left;\">Any</th><th title = \"Any\" style = \"text-align: left;\">Any</th></tr></thead><tbody><tr><td class = \"rowNumber\" style = \"font-weight: bold; text-align: right;\">1</td><td style = \"text-align: left;\">2013-01-01T01:00:00</td><td style = \"text-align: left;\">7607.19</td><td style = \"text-align: left;\">10370.3</td></tr><tr><td class = \"rowNumber\" style = \"font-weight: bold; text-align: right;\">2</td><td style = \"text-align: left;\">2013-01-01T02:00:00</td><td style = \"text-align: left;\">7389.27</td><td style = \"text-align: left;\">10153.9</td></tr><tr><td class = \"rowNumber\" style = \"font-weight: bold; text-align: right;\">3</td><td style = \"text-align: left;\">2013-01-01T03:00:00</td><td style = \"text-align: left;\">7179.75</td><td style = \"text-align: left;\">9989.24</td></tr><tr><td class = \"rowNumber\" style = \"font-weight: bold; text-align: right;\">4</td><td style = \"text-align: left;\">2013-01-01T04:00:00</td><td style = \"text-align: left;\">7039.69</td><td style = \"text-align: left;\">9947.86</td></tr><tr><td class = \"rowNumber\" style = \"font-weight: bold; text-align: right;\">5</td><td style = \"text-align: left;\">2013-01-01T05:00:00</td><td style = \"text-align: left;\">6991.41</td><td style = \"text-align: left;\">10097.4</td></tr><tr><td class = \"rowNumber\" style = \"font-weight: bold; text-align: right;\">6</td><td style = \"text-align: left;\">2013-01-01T06:00:00</td><td style = \"text-align: left;\">7050.73</td><td style = \"text-align: left;\">10472.1</td></tr><tr><td class = \"rowNumber\" style = \"font-weight: bold; text-align: right;\">7</td><td style = \"text-align: left;\">2013-01-01T07:00:00</td><td style = \"text-align: left;\">7177.79</td><td style = \"text-align: left;\">10891.2</td></tr><tr><td class = \"rowNumber\" style = \"font-weight: bold; text-align: right;\">8</td><td style = \"text-align: left;\">2013-01-01T08:00:00</td><td style = \"text-align: left;\">7223.21</td><td style = \"text-align: left;\">11190.2</td></tr><tr><td class = \"rowNumber\" style = \"font-weight: bold; text-align: right;\">9</td><td style = \"text-align: left;\">2013-01-01T09:00:00</td><td style = \"text-align: left;\">7314.25</td><td style = \"text-align: left;\">11627.1</td></tr><tr><td class = \"rowNumber\" style = \"font-weight: bold; text-align: right;\">10</td><td style = \"text-align: left;\">2013-01-01T10:00:00</td><td style = \"text-align: left;\">7676.35</td><td style = \"text-align: left;\">12310.0</td></tr><tr><td class = \"rowNumber\" style = \"font-weight: bold; text-align: right;\">11</td><td style = \"text-align: left;\">2013-01-01T11:00:00</td><td style = \"text-align: left;\">8060.5</td><td style = \"text-align: left;\">12934.1</td></tr><tr><td class = \"rowNumber\" style = \"font-weight: bold; text-align: right;\">12</td><td style = \"text-align: left;\">2013-01-01T12:00:00</td><td style = \"text-align: left;\">8392.92</td><td style = \"text-align: left;\">13200.7</td></tr><tr><td class = \"rowNumber\" style = \"font-weight: bold; text-align: right;\">13</td><td style = \"text-align: left;\">2013-01-01T13:00:00</td><td style = \"text-align: left;\">8509.46</td><td style = \"text-align: left;\">13062.5</td></tr><tr><td style = \"text-align: right;\">&vellip;</td><td style = \"text-align: right;\">&vellip;</td><td style = \"text-align: right;\">&vellip;</td><td style = \"text-align: right;\">&vellip;</td></tr><tr><td class = \"rowNumber\" style = \"font-weight: bold; text-align: right;\">96397</td><td style = \"text-align: left;\">2023-12-31T13:00:00</td><td style = \"text-align: left;\">11,370.11</td><td style = \"text-align: left;\">11,850.64</td></tr><tr><td class = \"rowNumber\" style = \"font-weight: bold; text-align: right;\">96398</td><td style = \"text-align: left;\">2023-12-31T14:00:00</td><td style = \"text-align: left;\">11,344.27</td><td style = \"text-align: left;\">11,467.99</td></tr><tr><td class = \"rowNumber\" style = \"font-weight: bold; text-align: right;\">96399</td><td style = \"text-align: left;\">2023-12-31T15:00:00</td><td style = \"text-align: left;\">11,381.10</td><td style = \"text-align: left;\">11,185.75</td></tr><tr><td class = \"rowNumber\" style = \"font-weight: bold; text-align: right;\">96400</td><td style = \"text-align: left;\">2023-12-31T16:00:00</td><td style = \"text-align: left;\">11,475.20</td><td style = \"text-align: left;\">11,209.26</td></tr><tr><td class = \"rowNumber\" style = \"font-weight: bold; text-align: right;\">96401</td><td style = \"text-align: left;\">2023-12-31T17:00:00</td><td style = \"text-align: left;\">11,566.97</td><td style = \"text-align: left;\">11,377.89</td></tr><tr><td class = \"rowNumber\" style = \"font-weight: bold; text-align: right;\">96402</td><td style = \"text-align: left;\">2023-12-31T18:00:00</td><td style = \"text-align: left;\">11,943.51</td><td style = \"text-align: left;\">12,082.31</td></tr><tr><td class = \"rowNumber\" style = \"font-weight: bold; text-align: right;\">96403</td><td style = \"text-align: left;\">2023-12-31T19:00:00</td><td style = \"text-align: left;\">12,189.51</td><td style = \"text-align: left;\">12,630.86</td></tr><tr><td class = \"rowNumber\" style = \"font-weight: bold; text-align: right;\">96404</td><td style = \"text-align: left;\">2023-12-31T20:00:00</td><td style = \"text-align: left;\">11,918.02</td><td style = \"text-align: left;\">12,423.90</td></tr><tr><td class = \"rowNumber\" style = \"font-weight: bold; text-align: right;\">96405</td><td style = \"text-align: left;\">2023-12-31T21:00:00</td><td style = \"text-align: left;\">11,634.44</td><td style = \"text-align: left;\">12,226.08</td></tr><tr><td class = \"rowNumber\" style = \"font-weight: bold; text-align: right;\">96406</td><td style = \"text-align: left;\">2023-12-31T22:00:00</td><td style = \"text-align: left;\">11,360.10</td><td style = \"text-align: left;\">12,039.30</td></tr><tr><td class = \"rowNumber\" style = \"font-weight: bold; text-align: right;\">96407</td><td style = \"text-align: left;\">2023-12-31T23:00:00</td><td style = \"text-align: left;\">11,096.77</td><td style = \"text-align: left;\">11,844.79</td></tr><tr><td class = \"rowNumber\" style = \"font-weight: bold; text-align: right;\">96408</td><td style = \"text-align: left;\">2024-01-01T00:00:00</td><td style = \"text-align: left;\">10,819.44</td><td style = \"text-align: left;\">11,829.84</td></tr></tbody></table></div>"
      ],
      "text/latex": [
       "\\begin{tabular}{r|ccc}\n",
       "\t& Hour\\_End & COAST & NORTH\\_C\\\\\n",
       "\t\\hline\n",
       "\t& DateTime & Any & Any\\\\\n",
       "\t\\hline\n",
       "\t1 & 2013-01-01T01:00:00 & 7607.19 & 10370.3 \\\\\n",
       "\t2 & 2013-01-01T02:00:00 & 7389.27 & 10153.9 \\\\\n",
       "\t3 & 2013-01-01T03:00:00 & 7179.75 & 9989.24 \\\\\n",
       "\t4 & 2013-01-01T04:00:00 & 7039.69 & 9947.86 \\\\\n",
       "\t5 & 2013-01-01T05:00:00 & 6991.41 & 10097.4 \\\\\n",
       "\t6 & 2013-01-01T06:00:00 & 7050.73 & 10472.1 \\\\\n",
       "\t7 & 2013-01-01T07:00:00 & 7177.79 & 10891.2 \\\\\n",
       "\t8 & 2013-01-01T08:00:00 & 7223.21 & 11190.2 \\\\\n",
       "\t9 & 2013-01-01T09:00:00 & 7314.25 & 11627.1 \\\\\n",
       "\t10 & 2013-01-01T10:00:00 & 7676.35 & 12310.0 \\\\\n",
       "\t11 & 2013-01-01T11:00:00 & 8060.5 & 12934.1 \\\\\n",
       "\t12 & 2013-01-01T12:00:00 & 8392.92 & 13200.7 \\\\\n",
       "\t13 & 2013-01-01T13:00:00 & 8509.46 & 13062.5 \\\\\n",
       "\t14 & 2013-01-01T14:00:00 & 8498.67 & 12851.5 \\\\\n",
       "\t15 & 2013-01-01T15:00:00 & 8467.2 & 12725.0 \\\\\n",
       "\t16 & 2013-01-01T16:00:00 & 8432.13 & 12610.8 \\\\\n",
       "\t17 & 2013-01-01T17:00:00 & 8560.67 & 13028.4 \\\\\n",
       "\t18 & 2013-01-01T18:00:00 & 9095.08 & 14090.4 \\\\\n",
       "\t19 & 2013-01-01T19:00:00 & 9540.83 & 14739.4 \\\\\n",
       "\t20 & 2013-01-01T20:00:00 & 9560.57 & 14705.9 \\\\\n",
       "\t21 & 2013-01-01T21:00:00 & 9505.85 & 14586.6 \\\\\n",
       "\t22 & 2013-01-01T22:00:00 & 9329.4 & 14241.8 \\\\\n",
       "\t23 & 2013-01-01T23:00:00 & 8959.45 & 13608.6 \\\\\n",
       "\t24 & 2013-01-02T00:00:00 & 8508.35 & 12948.3 \\\\\n",
       "\t$\\dots$ & $\\dots$ & $\\dots$ & $\\dots$ \\\\\n",
       "\\end{tabular}\n"
      ],
      "text/plain": [
       "\u001b[1m96408×3 DataFrame\u001b[0m\n",
       "\u001b[1m   Row \u001b[0m│\u001b[1m Hour_End            \u001b[0m\u001b[1m COAST     \u001b[0m\u001b[1m NORTH_C   \u001b[0m\n",
       "       │\u001b[90m DateTime            \u001b[0m\u001b[90m Any       \u001b[0m\u001b[90m Any       \u001b[0m\n",
       "───────┼───────────────────────────────────────────\n",
       "     1 │ 2013-01-01T01:00:00  7607.19    10370.3\n",
       "     2 │ 2013-01-01T02:00:00  7389.27    10153.9\n",
       "     3 │ 2013-01-01T03:00:00  7179.75    9989.24\n",
       "     4 │ 2013-01-01T04:00:00  7039.69    9947.86\n",
       "     5 │ 2013-01-01T05:00:00  6991.41    10097.4\n",
       "     6 │ 2013-01-01T06:00:00  7050.73    10472.1\n",
       "     7 │ 2013-01-01T07:00:00  7177.79    10891.2\n",
       "     8 │ 2013-01-01T08:00:00  7223.21    11190.2\n",
       "   ⋮   │          ⋮               ⋮          ⋮\n",
       " 96402 │ 2023-12-31T18:00:00  11,943.51  12,082.31\n",
       " 96403 │ 2023-12-31T19:00:00  12,189.51  12,630.86\n",
       " 96404 │ 2023-12-31T20:00:00  11,918.02  12,423.90\n",
       " 96405 │ 2023-12-31T21:00:00  11,634.44  12,226.08\n",
       " 96406 │ 2023-12-31T22:00:00  11,360.10  12,039.30\n",
       " 96407 │ 2023-12-31T23:00:00  11,096.77  11,844.79\n",
       " 96408 │ 2024-01-01T00:00:00  10,819.44  11,829.84\n",
       "\u001b[36m                                 96393 rows omitted\u001b[0m"
      ]
     },
     "metadata": {},
     "output_type": "display_data"
    }
   ],
   "source": [
    "x = Dict()\n",
    "i = 1\n",
    "\n",
    "directory = joinpath(homedir(), \"research\", \"ERCOT_LOAD_DATA\", \"raw\")\n",
    "files = glob(\"*.csv\", directory)\n",
    "# types_dict = Dict(\"Hour_End\" => DateTime, \"HourEnding\" => DateTime, \"Hour Ending\" => DateTime)\n",
    "date_format_1 = dateformat\"mm/dd/yyyy HH:MM\"\n",
    "date_format_2 = dateformat\"mm/dd/yyyy HH:MM D\\S\\T\"\n",
    "\n",
    "for f in files\n",
    "\n",
    "    df = DataFrame(CSV.File(f)) #, types=types_dict, validate=false))\n",
    "\n",
    "    if \"NCENT\" in names(df)\n",
    "        rename!(df, :NCENT => :NORTH_C)\n",
    "    end\n",
    "\n",
    "    if \"HourEnding\" in names(df)\n",
    "        rename!(df, :HourEnding => :Hour_End)\n",
    "    end\n",
    "\n",
    "    if \"Hour Ending\" in names(df)\n",
    "        rename!(df, \"Hour Ending\" => :Hour_End)\n",
    "    end\n",
    "\n",
    "    df = df[!, [\"Hour_End\", \"COAST\", \"NORTH_C\"]]\n",
    "\n",
    "    \n",
    "    mylist = Vector{DateTime}()\n",
    "    for dt in df[!, :Hour_End]\n",
    "\n",
    "        try\n",
    "            mydt = DateTime(dt, date_format_1)\n",
    "            push!(mylist, mydt)\n",
    "        catch e\n",
    "            mydt = DateTime(dt, date_format_2) - Hour(1)\n",
    "            push!(mylist, mydt)\n",
    "            \n",
    "        end\n",
    "    end\n",
    "\n",
    "    df[!, \"Hour_End\"] = mylist\n",
    "\n",
    "    x[i] = df\n",
    "    i +=1\n",
    "end\n",
    "\n",
    "merged = reduce(vcat, values(x))\n",
    "sort!(merged, :Hour_End)\n"
   ]
  },
  {
   "cell_type": "code",
   "execution_count": null,
   "id": "8f0ca9e3",
   "metadata": {},
   "outputs": [],
   "source": [
    "s = merged[!, \"COAST\"]\n",
    "mylist = Vector{Float64}()\n",
    "i = 0\n",
    "\n",
    "for v in s\n",
    "    if v isa String15\n",
    "        v2 = replace(v, ','=>\"\", \" \" =>\"\")\n",
    "        v3 = parse.(Float64, v2)\n",
    "    elseif v isa Missing\n",
    "        v3 = NaN64\n",
    "    elseif typeof(v) != Float64\n",
    "        v3 = parse.(Float64, v)\n",
    "    else\n",
    "        v3 = v\n",
    "    end\n",
    "    push!(mylist, v3)\n",
    "    i += 1\n",
    "end\n",
    "\n",
    "merged[!, \"COAST\"] = mylist"
   ]
  },
  {
   "cell_type": "code",
   "execution_count": 28,
   "id": "2721c6ee",
   "metadata": {},
   "outputs": [
    {
     "data": {
      "text/plain": [
       "96408-element Vector{Float64}:\n",
       " 10370.32292\n",
       " 10153.94281\n",
       "  9989.243532\n",
       "  9947.855512\n",
       " 10097.44423\n",
       " 10472.12636\n",
       " 10891.2179\n",
       " 11190.20403\n",
       " 11627.12738\n",
       " 12310.00187\n",
       "     ⋮\n",
       " 11209.26\n",
       " 11377.89\n",
       " 12082.31\n",
       " 12630.86\n",
       " 12423.9\n",
       " 12226.08\n",
       " 12039.3\n",
       " 11844.79\n",
       " 11829.84"
      ]
     },
     "metadata": {},
     "output_type": "display_data"
    }
   ],
   "source": [
    "s = merged[!, \"NORTH_C\"]\n",
    "mylist = Vector{Float64}()\n",
    "i = 0\n",
    "\n",
    "for v in s\n",
    "    if v isa String15\n",
    "        v2 = replace(v, ','=>\"\", \" \" =>\"\")\n",
    "        v3 = parse.(Float64, v2)\n",
    "    elseif v isa Missing\n",
    "        v3 = NaN64\n",
    "    elseif typeof(v) != Float64\n",
    "        v3 = parse.(Float64, v)\n",
    "    else\n",
    "        v3 = v\n",
    "    end\n",
    "    push!(mylist, v3)\n",
    "    i += 1\n",
    "end\n",
    "\n",
    "merged[!, \"NORTH_C\"] = mylist"
   ]
  },
  {
   "cell_type": "code",
   "execution_count": 29,
   "id": "7c8843f6",
   "metadata": {},
   "outputs": [
    {
     "data": {
      "text/plain": [
       "\"/home/emco4286/research/ERCOT_LOAD_DATA/processed/ercot_hourly_load_2013_2023.csv\""
      ]
     },
     "metadata": {},
     "output_type": "display_data"
    }
   ],
   "source": [
    "fname = \"ercot_hourly_load_2013_2023.csv\"\n",
    "path = joinpath(homedir(), \"research\", \"ERCOT_LOAD_DATA\", \"processed\", fname)\n",
    "CSV.write(path, merged)"
   ]
  },
  {
   "cell_type": "code",
   "execution_count": null,
   "id": "6bea83bc",
   "metadata": {},
   "outputs": [],
   "source": []
  }
 ],
 "metadata": {
  "kernelspec": {
   "display_name": "Julia 1.11.5",
   "language": "julia",
   "name": "julia-1.11"
  },
  "language_info": {
   "file_extension": ".jl",
   "mimetype": "application/julia",
   "name": "julia",
   "version": "1.11.5"
  }
 },
 "nbformat": 4,
 "nbformat_minor": 5
}
