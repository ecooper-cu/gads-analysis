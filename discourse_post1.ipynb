{
 "cells": [
  {
   "cell_type": "code",
   "execution_count": 1,
   "id": "9daf17e4",
   "metadata": {},
   "outputs": [],
   "source": [
    "using TimeSeries, Dates, Random, Distributions"
   ]
  },
  {
   "cell_type": "code",
   "execution_count": 13,
   "id": "47097589",
   "metadata": {},
   "outputs": [
    {
     "data": {
      "text/plain": [
       "3-element Vector{TimeArray{Float64, 1, DateTime, Vector{Float64}}}:\n",
       " 9×1 TimeArray{Float64, 1, DateTime, Vector{Float64}} 2000-03-01T09:00:00 to 2000-03-01T17:00:00\n",
       " 9×1 TimeArray{Float64, 1, DateTime, Vector{Float64}} 2000-03-01T08:00:00 to 2000-03-01T16:00:00\n",
       " 9×1 TimeArray{Float64, 1, DateTime, Vector{Float64}} 2000-03-01T07:00:00 to 2000-03-01T15:00:00"
      ]
     },
     "metadata": {},
     "output_type": "display_data"
    }
   ],
   "source": [
    "idx1 = [j for j in DateTime(2000,3,1,9):Hour(1):DateTime(2000,3,1,17)]\n",
    "idx2 = [j for j in DateTime(2000,3,1,8):Hour(1):DateTime(2000,3,1,16)]\n",
    "idx3 = [j for j in DateTime(2000,3,1,7):Hour(1):DateTime(2000,3,1,15)]\n",
    "\n",
    "data1 = rand(Normal(1, 0.5), length(idx1))\n",
    "data2 = rand(Normal(1, 0.5), length(idx2))\n",
    "data3 = rand(Normal(1, 0.5), length(idx3))\n",
    "\n",
    "tas = [TimeArray(i, d) for (i, d) in zip([idx1, idx2, idx3], [data1, data2, data3])]"
   ]
  },
  {
   "cell_type": "code",
   "execution_count": 18,
   "id": "7aabc164",
   "metadata": {},
   "outputs": [
    {
     "data": {
      "text/plain": [
       "9×1 TimeArray{Float64, 1, DateTime, Vector{Float64}} 2000-03-01T09:00:00 to 2000-03-01T17:00:00\n",
       "┌─────────────────────┬──────────┐\n",
       "│\u001b[1m                     \u001b[0m│\u001b[1m A        \u001b[0m│\n",
       "├─────────────────────┼──────────┤\n",
       "│ 2000-03-01T09:00:00 │ 0.359098 │\n",
       "│ 2000-03-01T10:00:00 │ 0.904764 │\n",
       "│ 2000-03-01T11:00:00 │  1.18547 │\n",
       "│ 2000-03-01T12:00:00 │  1.42935 │\n",
       "│ 2000-03-01T13:00:00 │  1.68965 │\n",
       "│ 2000-03-01T14:00:00 │ 0.547798 │\n",
       "│ 2000-03-01T15:00:00 │  1.10813 │\n",
       "│ 2000-03-01T16:00:00 │ 0.879875 │\n",
       "│ 2000-03-01T17:00:00 │  1.76749 │\n",
       "└─────────────────────┴──────────┘"
      ]
     },
     "metadata": {},
     "output_type": "display_data"
    }
   ],
   "source": [
    "tas[1]"
   ]
  },
  {
   "cell_type": "code",
   "execution_count": 15,
   "id": "a105405f",
   "metadata": {},
   "outputs": [
    {
     "data": {
      "text/plain": [
       "10×2 TimeArray{Float64, 2, DateTime, Matrix{Float64}} 2000-03-01T08:00:00 to 2000-03-01T17:00:00\n",
       "┌─────────────────────┬──────────┬──────────┐\n",
       "│\u001b[1m                     \u001b[0m│\u001b[1m A        \u001b[0m│\u001b[1m A_1      \u001b[0m│\n",
       "├─────────────────────┼──────────┼──────────┤\n",
       "│ 2000-03-01T08:00:00 │      NaN │ 0.839407 │\n",
       "│ 2000-03-01T09:00:00 │ 0.359098 │  1.56348 │\n",
       "│ 2000-03-01T10:00:00 │ 0.904764 │ 0.773795 │\n",
       "│ 2000-03-01T11:00:00 │  1.18547 │ 0.829764 │\n",
       "│ 2000-03-01T12:00:00 │  1.42935 │ 0.737774 │\n",
       "│ 2000-03-01T13:00:00 │  1.68965 │  1.14539 │\n",
       "│ 2000-03-01T14:00:00 │ 0.547798 │  1.17267 │\n",
       "│ 2000-03-01T15:00:00 │  1.10813 │  0.21694 │\n",
       "│ 2000-03-01T16:00:00 │ 0.879875 │ 0.992081 │\n",
       "│ 2000-03-01T17:00:00 │  1.76749 │      NaN │\n",
       "└─────────────────────┴──────────┴──────────┘"
      ]
     },
     "metadata": {},
     "output_type": "display_data"
    }
   ],
   "source": [
    "merge(tas[1], tas[2], method=:outer)"
   ]
  },
  {
   "cell_type": "code",
   "execution_count": 16,
   "id": "ab0f7f98",
   "metadata": {},
   "outputs": [
    {
     "data": {
      "text/plain": [
       "7×3 TimeArray{Float64, 2, DateTime, Matrix{Float64}} 2000-03-01T09:00:00 to 2000-03-01T15:00:00\n",
       "┌─────────────────────┬──────────┬──────────┬──────────┐\n",
       "│\u001b[1m                     \u001b[0m│\u001b[1m A        \u001b[0m│\u001b[1m A_1      \u001b[0m│\u001b[1m A_2      \u001b[0m│\n",
       "├─────────────────────┼──────────┼──────────┼──────────┤\n",
       "│ 2000-03-01T09:00:00 │ 0.359098 │  1.56348 │  1.11354 │\n",
       "│ 2000-03-01T10:00:00 │ 0.904764 │ 0.773795 │  1.42473 │\n",
       "│ 2000-03-01T11:00:00 │  1.18547 │ 0.829764 │ 0.837935 │\n",
       "│ 2000-03-01T12:00:00 │  1.42935 │ 0.737774 │ 0.706905 │\n",
       "│ 2000-03-01T13:00:00 │  1.68965 │  1.14539 │ 0.325749 │\n",
       "│ 2000-03-01T14:00:00 │ 0.547798 │  1.17267 │  1.68311 │\n",
       "│ 2000-03-01T15:00:00 │  1.10813 │  0.21694 │  1.41006 │\n",
       "└─────────────────────┴──────────┴──────────┴──────────┘"
      ]
     },
     "metadata": {},
     "output_type": "display_data"
    }
   ],
   "source": [
    "reduce(merge, tas)"
   ]
  },
  {
   "cell_type": "code",
   "execution_count": 19,
   "id": "873d4641",
   "metadata": {},
   "outputs": [
    {
     "data": {
      "text/plain": [
       "11×3 TimeArray{Float64, 2, DateTime, Matrix{Float64}} 2000-03-01T07:00:00 to 2000-03-01T17:00:00\n",
       "┌─────────────────────┬──────────┬──────────┬──────────┐\n",
       "│\u001b[1m                     \u001b[0m│\u001b[1m A        \u001b[0m│\u001b[1m A_1      \u001b[0m│\u001b[1m A_2      \u001b[0m│\n",
       "├─────────────────────┼──────────┼──────────┼──────────┤\n",
       "│ 2000-03-01T07:00:00 │      NaN │      NaN │  1.17822 │\n",
       "│ 2000-03-01T08:00:00 │      NaN │ 0.839407 │ 0.780292 │\n",
       "│ 2000-03-01T09:00:00 │ 0.359098 │  1.56348 │  1.11354 │\n",
       "│ 2000-03-01T10:00:00 │ 0.904764 │ 0.773795 │  1.42473 │\n",
       "│ 2000-03-01T11:00:00 │  1.18547 │ 0.829764 │ 0.837935 │\n",
       "│ 2000-03-01T12:00:00 │  1.42935 │ 0.737774 │ 0.706905 │\n",
       "│ 2000-03-01T13:00:00 │  1.68965 │  1.14539 │ 0.325749 │\n",
       "│ 2000-03-01T14:00:00 │ 0.547798 │  1.17267 │  1.68311 │\n",
       "│ 2000-03-01T15:00:00 │  1.10813 │  0.21694 │  1.41006 │\n",
       "│ 2000-03-01T16:00:00 │ 0.879875 │ 0.992081 │      NaN │\n",
       "│ 2000-03-01T17:00:00 │  1.76749 │      NaN │      NaN │\n",
       "└─────────────────────┴──────────┴──────────┴──────────┘"
      ]
     },
     "metadata": {},
     "output_type": "display_data"
    }
   ],
   "source": [
    "reduce((x, y) -> merge(x, y, method=:outer), tas)"
   ]
  },
  {
   "cell_type": "code",
   "execution_count": 20,
   "id": "b5d8d8a3",
   "metadata": {},
   "outputs": [],
   "source": [
    "# mapreduce(x -> merge(x, method=:outer), tas)"
   ]
  },
  {
   "cell_type": "code",
   "execution_count": 21,
   "id": "e51feaae",
   "metadata": {},
   "outputs": [],
   "source": [
    "# mapreduce((x, y) -> merge(x, method=y), zip(tas, :outer))"
   ]
  },
  {
   "cell_type": "code",
   "execution_count": null,
   "id": "711bf252",
   "metadata": {},
   "outputs": [],
   "source": [
    "# https://discourse.julialang.org/t/method-of-mapreduce-with-multiple-arguments/11388\n"
   ]
  },
  {
   "cell_type": "code",
   "execution_count": null,
   "id": "38c75ff3",
   "metadata": {},
   "outputs": [],
   "source": []
  }
 ],
 "metadata": {
  "kernelspec": {
   "display_name": "Julia 1.11.3",
   "language": "julia",
   "name": "julia-1.11"
  },
  "language_info": {
   "file_extension": ".jl",
   "mimetype": "application/julia",
   "name": "julia",
   "version": "1.11.3"
  }
 },
 "nbformat": 4,
 "nbformat_minor": 5
}
