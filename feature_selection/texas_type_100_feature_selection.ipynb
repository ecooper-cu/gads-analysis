{
 "cells": [
  {
   "cell_type": "code",
   "execution_count": 1,
   "id": "82eb0cd3",
   "metadata": {},
   "outputs": [],
   "source": [
    "import numpy as np\n",
    "import matplotlib.colors as colors\n",
    "import matplotlib.pyplot as plt\n",
    "# import seaborn as sns\n",
    "import pandas as pd\n",
    "\n",
    "import sklearn\n",
    "import scipy\n",
    "\n",
    "import sys\n",
    "import os\n",
    "import pathlib\n",
    "import itertools\n",
    "import glob\n",
    "import re\n",
    "\n",
    "from sklearn.preprocessing import QuantileTransformer, StandardScaler\n",
    "\n",
    "package_path = os.path.join(pathlib.Path.home(), \"mkvchain\")\n",
    "sys.path.append(package_path)\n",
    "from model import FeatureDependentMarkovChain"
   ]
  },
  {
   "cell_type": "code",
   "execution_count": 2,
   "id": "0cf61354",
   "metadata": {},
   "outputs": [],
   "source": [
    "root = pathlib.Path.home()\n",
    "pt1 = os.path.join(root, 'research', 'GADS_Processed', \"trajectories_with_features\")\n",
    "\n",
    "def glob_re(pattern, strings):\n",
    "    return list(filter(re.compile(pattern).match, strings))\n",
    "\n",
    "filenames = glob_re(r\"gen_\\d+_type_100_dtgrp_\\d+_rating_\\d+_state_Texas_raw.csv\", os.listdir(pt1))"
   ]
  },
  {
   "cell_type": "code",
   "execution_count": 3,
   "id": "b3c7f8be",
   "metadata": {},
   "outputs": [],
   "source": [
    "# len(filenames)"
   ]
  },
  {
   "cell_type": "code",
   "execution_count": null,
   "id": "af0c7089",
   "metadata": {},
   "outputs": [],
   "source": [
    "\n",
    "mylist = []\n",
    "\n",
    "for f in filenames[:20]:\n",
    "    gen_id = int(re.findall(r\"gen_(\\d+)_.+\", f)[0])\n",
    "\n",
    "    data = pd.read_csv(os.path.join(pt1,f))\n",
    "    data.set_index(pd.DatetimeIndex(data[\"x\"]), inplace=True)\n",
    "    data = data[~data.index.duplicated()]\n",
    "    data = data[~data[\"y6\"].isna()]\n",
    "    data = data[~data[\"y7\"].isna()]\n",
    "    \n",
    "    mylist.append(data)\n"
   ]
  },
  {
   "cell_type": "code",
   "execution_count": 19,
   "id": "da402ad1",
   "metadata": {},
   "outputs": [
    {
     "data": {
      "text/html": [
       "<div>\n",
       "<style scoped>\n",
       "    .dataframe tbody tr th:only-of-type {\n",
       "        vertical-align: middle;\n",
       "    }\n",
       "\n",
       "    .dataframe tbody tr th {\n",
       "        vertical-align: top;\n",
       "    }\n",
       "\n",
       "    .dataframe thead th {\n",
       "        text-align: right;\n",
       "    }\n",
       "</style>\n",
       "<table border=\"1\" class=\"dataframe\">\n",
       "  <thead>\n",
       "    <tr style=\"text-align: right;\">\n",
       "      <th></th>\n",
       "      <th>x</th>\n",
       "      <th>y1</th>\n",
       "      <th>y2</th>\n",
       "      <th>y3</th>\n",
       "      <th>ERCOT</th>\n",
       "      <th>y4</th>\n",
       "      <th>Pcp</th>\n",
       "      <th>Tmax</th>\n",
       "      <th>Tmin</th>\n",
       "      <th>y6</th>\n",
       "      <th>y7</th>\n",
       "      <th>y8</th>\n",
       "    </tr>\n",
       "    <tr>\n",
       "      <th>x</th>\n",
       "      <th></th>\n",
       "      <th></th>\n",
       "      <th></th>\n",
       "      <th></th>\n",
       "      <th></th>\n",
       "      <th></th>\n",
       "      <th></th>\n",
       "      <th></th>\n",
       "      <th></th>\n",
       "      <th></th>\n",
       "      <th></th>\n",
       "      <th></th>\n",
       "    </tr>\n",
       "  </thead>\n",
       "  <tbody>\n",
       "    <tr>\n",
       "      <th>2013-05-08 12:00:00</th>\n",
       "      <td>2013-05-08T12:00:00.0</td>\n",
       "      <td>1.0</td>\n",
       "      <td>1.0</td>\n",
       "      <td>12182</td>\n",
       "      <td>36930.19272</td>\n",
       "      <td>128</td>\n",
       "      <td>2.42</td>\n",
       "      <td>85.2</td>\n",
       "      <td>59.8</td>\n",
       "      <td>0.0</td>\n",
       "      <td>8.0</td>\n",
       "      <td>5</td>\n",
       "    </tr>\n",
       "    <tr>\n",
       "      <th>2013-05-08 13:00:00</th>\n",
       "      <td>2013-05-08T13:00:00.0</td>\n",
       "      <td>1.0</td>\n",
       "      <td>1.0</td>\n",
       "      <td>12182</td>\n",
       "      <td>38239.14751</td>\n",
       "      <td>128</td>\n",
       "      <td>2.42</td>\n",
       "      <td>85.2</td>\n",
       "      <td>59.8</td>\n",
       "      <td>0.0</td>\n",
       "      <td>8.0</td>\n",
       "      <td>5</td>\n",
       "    </tr>\n",
       "    <tr>\n",
       "      <th>2013-05-08 14:00:00</th>\n",
       "      <td>2013-05-08T14:00:00.0</td>\n",
       "      <td>0.0</td>\n",
       "      <td>2.0</td>\n",
       "      <td>12182</td>\n",
       "      <td>39749.74598</td>\n",
       "      <td>128</td>\n",
       "      <td>2.42</td>\n",
       "      <td>85.2</td>\n",
       "      <td>59.8</td>\n",
       "      <td>0.0</td>\n",
       "      <td>9.0</td>\n",
       "      <td>5</td>\n",
       "    </tr>\n",
       "    <tr>\n",
       "      <th>2013-05-08 15:00:00</th>\n",
       "      <td>2013-05-08T15:00:00.0</td>\n",
       "      <td>0.0</td>\n",
       "      <td>2.0</td>\n",
       "      <td>12182</td>\n",
       "      <td>41124.88834</td>\n",
       "      <td>128</td>\n",
       "      <td>2.42</td>\n",
       "      <td>85.2</td>\n",
       "      <td>59.8</td>\n",
       "      <td>0.0</td>\n",
       "      <td>9.0</td>\n",
       "      <td>5</td>\n",
       "    </tr>\n",
       "    <tr>\n",
       "      <th>2013-05-08 16:00:00</th>\n",
       "      <td>2013-05-08T16:00:00.0</td>\n",
       "      <td>0.0</td>\n",
       "      <td>2.0</td>\n",
       "      <td>12182</td>\n",
       "      <td>42439.89312</td>\n",
       "      <td>128</td>\n",
       "      <td>2.42</td>\n",
       "      <td>85.2</td>\n",
       "      <td>59.8</td>\n",
       "      <td>0.0</td>\n",
       "      <td>9.0</td>\n",
       "      <td>5</td>\n",
       "    </tr>\n",
       "    <tr>\n",
       "      <th>...</th>\n",
       "      <td>...</td>\n",
       "      <td>...</td>\n",
       "      <td>...</td>\n",
       "      <td>...</td>\n",
       "      <td>...</td>\n",
       "      <td>...</td>\n",
       "      <td>...</td>\n",
       "      <td>...</td>\n",
       "      <td>...</td>\n",
       "      <td>...</td>\n",
       "      <td>...</td>\n",
       "      <td>...</td>\n",
       "    </tr>\n",
       "    <tr>\n",
       "      <th>2023-12-31 20:00:00</th>\n",
       "      <td>2023-12-31T20:00:00.0</td>\n",
       "      <td>1.0</td>\n",
       "      <td>1.0</td>\n",
       "      <td>16071</td>\n",
       "      <td>44751.24000</td>\n",
       "      <td>365</td>\n",
       "      <td>1.75</td>\n",
       "      <td>64.3</td>\n",
       "      <td>39.4</td>\n",
       "      <td>579.0</td>\n",
       "      <td>30.0</td>\n",
       "      <td>12</td>\n",
       "    </tr>\n",
       "    <tr>\n",
       "      <th>2023-12-31 21:00:00</th>\n",
       "      <td>2023-12-31T21:00:00.0</td>\n",
       "      <td>1.0</td>\n",
       "      <td>1.0</td>\n",
       "      <td>16071</td>\n",
       "      <td>43892.82000</td>\n",
       "      <td>365</td>\n",
       "      <td>1.75</td>\n",
       "      <td>64.3</td>\n",
       "      <td>39.4</td>\n",
       "      <td>579.0</td>\n",
       "      <td>30.0</td>\n",
       "      <td>12</td>\n",
       "    </tr>\n",
       "    <tr>\n",
       "      <th>2023-12-31 22:00:00</th>\n",
       "      <td>2023-12-31T22:00:00.0</td>\n",
       "      <td>1.0</td>\n",
       "      <td>1.0</td>\n",
       "      <td>16071</td>\n",
       "      <td>43113.67000</td>\n",
       "      <td>365</td>\n",
       "      <td>1.75</td>\n",
       "      <td>64.3</td>\n",
       "      <td>39.4</td>\n",
       "      <td>579.0</td>\n",
       "      <td>30.0</td>\n",
       "      <td>12</td>\n",
       "    </tr>\n",
       "    <tr>\n",
       "      <th>2023-12-31 23:00:00</th>\n",
       "      <td>2023-12-31T23:00:00.0</td>\n",
       "      <td>1.0</td>\n",
       "      <td>1.0</td>\n",
       "      <td>16071</td>\n",
       "      <td>42244.59000</td>\n",
       "      <td>365</td>\n",
       "      <td>1.75</td>\n",
       "      <td>64.3</td>\n",
       "      <td>39.4</td>\n",
       "      <td>579.0</td>\n",
       "      <td>30.0</td>\n",
       "      <td>12</td>\n",
       "    </tr>\n",
       "    <tr>\n",
       "      <th>2024-01-01 00:00:00</th>\n",
       "      <td>2024-01-01T00:00:00.0</td>\n",
       "      <td>1.0</td>\n",
       "      <td>1.0</td>\n",
       "      <td>16071</td>\n",
       "      <td>41621.97000</td>\n",
       "      <td>1</td>\n",
       "      <td>NaN</td>\n",
       "      <td>NaN</td>\n",
       "      <td>NaN</td>\n",
       "      <td>579.0</td>\n",
       "      <td>30.0</td>\n",
       "      <td>1</td>\n",
       "    </tr>\n",
       "  </tbody>\n",
       "</table>\n",
       "<p>93339 rows × 12 columns</p>\n",
       "</div>"
      ],
      "text/plain": [
       "                                         x   y1   y2     y3        ERCOT   y4  \\\n",
       "x                                                                               \n",
       "2013-05-08 12:00:00  2013-05-08T12:00:00.0  1.0  1.0  12182  36930.19272  128   \n",
       "2013-05-08 13:00:00  2013-05-08T13:00:00.0  1.0  1.0  12182  38239.14751  128   \n",
       "2013-05-08 14:00:00  2013-05-08T14:00:00.0  0.0  2.0  12182  39749.74598  128   \n",
       "2013-05-08 15:00:00  2013-05-08T15:00:00.0  0.0  2.0  12182  41124.88834  128   \n",
       "2013-05-08 16:00:00  2013-05-08T16:00:00.0  0.0  2.0  12182  42439.89312  128   \n",
       "...                                    ...  ...  ...    ...          ...  ...   \n",
       "2023-12-31 20:00:00  2023-12-31T20:00:00.0  1.0  1.0  16071  44751.24000  365   \n",
       "2023-12-31 21:00:00  2023-12-31T21:00:00.0  1.0  1.0  16071  43892.82000  365   \n",
       "2023-12-31 22:00:00  2023-12-31T22:00:00.0  1.0  1.0  16071  43113.67000  365   \n",
       "2023-12-31 23:00:00  2023-12-31T23:00:00.0  1.0  1.0  16071  42244.59000  365   \n",
       "2024-01-01 00:00:00  2024-01-01T00:00:00.0  1.0  1.0  16071  41621.97000    1   \n",
       "\n",
       "                      Pcp  Tmax  Tmin     y6    y7  y8  \n",
       "x                                                       \n",
       "2013-05-08 12:00:00  2.42  85.2  59.8    0.0   8.0   5  \n",
       "2013-05-08 13:00:00  2.42  85.2  59.8    0.0   8.0   5  \n",
       "2013-05-08 14:00:00  2.42  85.2  59.8    0.0   9.0   5  \n",
       "2013-05-08 15:00:00  2.42  85.2  59.8    0.0   9.0   5  \n",
       "2013-05-08 16:00:00  2.42  85.2  59.8    0.0   9.0   5  \n",
       "...                   ...   ...   ...    ...   ...  ..  \n",
       "2023-12-31 20:00:00  1.75  64.3  39.4  579.0  30.0  12  \n",
       "2023-12-31 21:00:00  1.75  64.3  39.4  579.0  30.0  12  \n",
       "2023-12-31 22:00:00  1.75  64.3  39.4  579.0  30.0  12  \n",
       "2023-12-31 23:00:00  1.75  64.3  39.4  579.0  30.0  12  \n",
       "2024-01-01 00:00:00   NaN   NaN   NaN  579.0  30.0   1  \n",
       "\n",
       "[93339 rows x 12 columns]"
      ]
     },
     "execution_count": 19,
     "metadata": {},
     "output_type": "execute_result"
    }
   ],
   "source": [
    "data"
   ]
  },
  {
   "cell_type": "code",
   "execution_count": null,
   "id": "9a227e48",
   "metadata": {},
   "outputs": [],
   "source": [
    "\n",
    "# features = d.loc[(~np.isnan(d[\"y6\"])) & (~np.isnan(d[\"y5\"])), [\"y3\", \"y5\", \"y4\", \"y6\"]]\n",
    "# states = d.loc[features.index, \"y2\"].values\n",
    "\n",
    "# print(sklearn.feature_selection.r_regression(features, states))\n",
    "# print(sklearn.feature_selection.chi2(features, states))\n"
   ]
  },
  {
   "cell_type": "code",
   "execution_count": 20,
   "id": "66c9ea36",
   "metadata": {},
   "outputs": [],
   "source": [
    "states_new = []\n",
    "features_new = []\n",
    "lengths_new = []\n",
    "\n",
    "for d in mylist:\n",
    "    states = d[\"y2\"].values.tolist()\n",
    "    features = d[['y3', 'ERCOT', 'y4', 'Pcp', 'Tmax', 'Tmin', 'y6', 'y8', 'y7']].values\n",
    "    l = len(d)\n",
    "\n",
    "    states_new += [states]\n",
    "    features_new += [features]\n",
    "    lengths_new += [l]\n",
    "\n",
    "states = np.concatenate(states_new).astype(int)\n",
    "states -= 1\n",
    "features = np.vstack(features_new)\n",
    "lengths = np.array(lengths_new)"
   ]
  },
  {
   "cell_type": "code",
   "execution_count": 15,
   "id": "e3cf6b8b",
   "metadata": {},
   "outputs": [
    {
     "data": {
      "text/plain": [
       "(20,)"
      ]
     },
     "execution_count": 15,
     "metadata": {},
     "output_type": "execute_result"
    }
   ],
   "source": [
    "lengths.shape"
   ]
  },
  {
   "cell_type": "code",
   "execution_count": 30,
   "id": "9a09a1cc",
   "metadata": {},
   "outputs": [],
   "source": [
    "train_idx = 13 # int(lengths.size * .8)\n",
    "val_idx = 17 # int(lengths.size * .9)\n",
    "\n",
    "lengths_train = lengths[:train_idx]\n",
    "lengths_val = lengths[train_idx:val_idx]\n",
    "lengths_test = lengths[val_idx:]\n",
    "\n",
    "states_train = states[:lengths_train.sum()]\n",
    "states_val = states[lengths_train.sum():lengths_train.sum()+lengths_val.sum()]\n",
    "states_test = states[lengths_train.sum()+lengths_val.sum():]\n",
    "\n",
    "features_train = features[:lengths_train.sum()]\n",
    "features_val = features[lengths_train.sum():lengths_train.sum()+lengths_val.sum()]\n",
    "features_test = features[lengths_train.sum()+lengths_val.sum():]"
   ]
  },
  {
   "cell_type": "code",
   "execution_count": 29,
   "id": "a61666f0",
   "metadata": {},
   "outputs": [
    {
     "data": {
      "text/plain": [
       "((1077974, 9), (1077974,))"
      ]
     },
     "execution_count": 29,
     "metadata": {},
     "output_type": "execute_result"
    }
   ],
   "source": [
    "features_train.shape, states_train.shape"
   ]
  },
  {
   "cell_type": "code",
   "execution_count": 31,
   "id": "69c16f50",
   "metadata": {},
   "outputs": [],
   "source": [
    "\n",
    "ss = StandardScaler()\n",
    "\n",
    "features_train = ss.fit_transform(features_train)\n",
    "features_val = ss.transform(features_val)\n",
    "features_test = ss.transform(features_test)"
   ]
  },
  {
   "cell_type": "code",
   "execution_count": 32,
   "id": "e1be8ca9",
   "metadata": {},
   "outputs": [
    {
     "ename": "IndexError",
     "evalue": "index 4 is out of bounds for axis 0 with size 4",
     "output_type": "error",
     "traceback": [
      "\u001b[0;31m---------------------------------------------------------------------------\u001b[0m",
      "\u001b[0;31mIndexError\u001b[0m                                Traceback (most recent call last)",
      "Cell \u001b[0;32mIn[32], line 3\u001b[0m\n\u001b[1;32m      1\u001b[0m n \u001b[38;5;241m=\u001b[39m \u001b[38;5;241m4\u001b[39m\n\u001b[1;32m      2\u001b[0m model1 \u001b[38;5;241m=\u001b[39m FeatureDependentMarkovChain(n, lam_frob\u001b[38;5;241m=\u001b[39m\u001b[38;5;241m0\u001b[39m, n_iter\u001b[38;5;241m=\u001b[39m\u001b[38;5;241m1\u001b[39m)\n\u001b[0;32m----> 3\u001b[0m \u001b[43mmodel1\u001b[49m\u001b[38;5;241;43m.\u001b[39;49m\u001b[43mfit\u001b[49m\u001b[43m(\u001b[49m\u001b[43mstates_train\u001b[49m\u001b[43m,\u001b[49m\u001b[43m \u001b[49m\u001b[43mfeatures_train\u001b[49m\u001b[38;5;241;43m*\u001b[39;49m\u001b[38;5;241;43m0\u001b[39;49m\u001b[43m,\u001b[49m\u001b[43m \u001b[49m\u001b[43mlengths_train\u001b[49m\u001b[43m,\u001b[49m\u001b[43m \u001b[49m\u001b[43mverbose\u001b[49m\u001b[38;5;241;43m=\u001b[39;49m\u001b[38;5;28;43;01mFalse\u001b[39;49;00m\u001b[43m)\u001b[49m\n",
      "File \u001b[0;32m~/mkvchain/model.py:69\u001b[0m, in \u001b[0;36mFeatureDependentMarkovChain.fit\u001b[0;34m(self, states, features, lengths, verbose, warm_start, **kwargs)\u001b[0m\n\u001b[1;32m     67\u001b[0m f \u001b[38;5;241m=\u001b[39m features[i:i\u001b[38;5;241m+\u001b[39mlength]\n\u001b[1;32m     68\u001b[0m \u001b[38;5;28;01mif\u001b[39;00m k \u001b[38;5;241m==\u001b[39m \u001b[38;5;241m0\u001b[39m:\n\u001b[0;32m---> 69\u001b[0m     l \u001b[38;5;241m=\u001b[39m \u001b[43mto_dataset_ignore_na\u001b[49m\u001b[43m(\u001b[49m\u001b[43ms\u001b[49m\u001b[43m,\u001b[49m\u001b[43m \u001b[49m\u001b[43mf\u001b[49m\u001b[43m,\u001b[49m\u001b[43m \u001b[49m\u001b[38;5;28;43mself\u001b[39;49m\u001b[38;5;241;43m.\u001b[39;49m\u001b[43mn\u001b[49m\u001b[43m)\u001b[49m\n\u001b[1;32m     70\u001b[0m \u001b[38;5;28;01melse\u001b[39;00m:\n\u001b[1;32m     71\u001b[0m     \u001b[38;5;66;03m# Get Ps\u001b[39;00m\n\u001b[1;32m     72\u001b[0m     Ps \u001b[38;5;241m=\u001b[39m \u001b[38;5;28mself\u001b[39m\u001b[38;5;241m.\u001b[39mpredict(f[:\u001b[38;5;241m-\u001b[39m\u001b[38;5;241m1\u001b[39m])\n",
      "File \u001b[0;32m~/mkvchain/utils.py:13\u001b[0m, in \u001b[0;36mto_dataset_ignore_na\u001b[0;34m(states, features, n)\u001b[0m\n\u001b[1;32m     11\u001b[0m \u001b[38;5;28;01mif\u001b[39;00m \u001b[38;5;241m~\u001b[39mnp\u001b[38;5;241m.\u001b[39misnan(states[t]) \u001b[38;5;129;01mand\u001b[39;00m \u001b[38;5;241m~\u001b[39mnp\u001b[38;5;241m.\u001b[39misnan(states[t\u001b[38;5;241m+\u001b[39m\u001b[38;5;241m1\u001b[39m]):\n\u001b[1;32m     12\u001b[0m     e \u001b[38;5;241m=\u001b[39m np\u001b[38;5;241m.\u001b[39mzeros(n)\n\u001b[0;32m---> 13\u001b[0m     \u001b[43me\u001b[49m\u001b[43m[\u001b[49m\u001b[43mstates\u001b[49m\u001b[43m[\u001b[49m\u001b[43mt\u001b[49m\u001b[38;5;241;43m+\u001b[39;49m\u001b[38;5;241;43m1\u001b[39;49m\u001b[43m]\u001b[49m\u001b[43m]\u001b[49m \u001b[38;5;241m=\u001b[39m \u001b[38;5;241m1.\u001b[39m\n\u001b[1;32m     14\u001b[0m     l\u001b[38;5;241m.\u001b[39mappend((features[t], \u001b[38;5;241m1.0\u001b[39m, states[t], e))\n\u001b[1;32m     15\u001b[0m t \u001b[38;5;241m+\u001b[39m\u001b[38;5;241m=\u001b[39m \u001b[38;5;241m1\u001b[39m\n",
      "\u001b[0;31mIndexError\u001b[0m: index 4 is out of bounds for axis 0 with size 4"
     ]
    }
   ],
   "source": [
    "n = 4\n",
    "model1 = FeatureDependentMarkovChain(n, lam_frob=0, n_iter=1)\n",
    "model1.fit(states_train, features_train*0, lengths_train, verbose=False)\n"
   ]
  },
  {
   "cell_type": "code",
   "execution_count": null,
   "id": "17b9bbc1",
   "metadata": {},
   "outputs": [],
   "source": [
    "\n",
    "train1, val1, test1 = model1.score(states_train, features_train*0, lengths_train, average=False), \\\n",
    "    model1.score(states_val, features_val*0, lengths_val, average=False),\n",
    "model1.score(states_test, features_test*0, lengths_test, average=False)\n",
    "train1, val1, test1"
   ]
  },
  {
   "cell_type": "code",
   "execution_count": null,
   "id": "9aa01ea6",
   "metadata": {},
   "outputs": [
    {
     "name": "stdout",
     "output_type": "stream",
     "text": [
      "0 -> 0 : 2\n",
      "0 -> 1 : 2\n",
      "0 -> 2 : 2\n",
      "0 -> 3 : 2\n",
      "1 -> 0 : 2\n",
      "1 -> 1 : 2\n",
      "1 -> 2 : 2\n",
      "1 -> 3 : 2\n",
      "2 -> 0 : 2\n",
      "2 -> 1 : 2\n",
      "2 -> 2 : 2\n",
      "2 -> 3 : 2\n",
      "3 -> 0 : 2\n",
      "3 -> 1 : 2\n",
      "3 -> 2 : 2\n",
      "3 -> 3 : 2\n"
     ]
    }
   ],
   "source": [
    "predictions = model1.predict(features_val)\n",
    "for i, j in itertools.product(range(4), range(4)):\n",
    "    y = predictions[:, i, j]\n",
    "    val = len(np.unique(y))\n",
    "    print(f\"{i} -> {j} : {val}\")"
   ]
  },
  {
   "cell_type": "code",
   "execution_count": null,
   "id": "0d4a1117",
   "metadata": {},
   "outputs": [
    {
     "data": {
      "text/plain": [
       "(np.float64(-762.7624227693096), np.float64(-584.0683045673397))"
      ]
     },
     "execution_count": 9,
     "metadata": {},
     "output_type": "execute_result"
    }
   ],
   "source": [
    "from copy import deepcopy\n",
    "train2, val2, test2 = -np.inf, -np.inf, -np.inf\n",
    "best_lam = None\n",
    "model2 = None\n",
    "for lam in np.logspace(-3,-1,10):\n",
    "    model = FeatureDependentMarkovChain(n, lam_frob=lam,  n_iter=1)\n",
    "    model.As = deepcopy(model1.As)\n",
    "    model.bs = deepcopy(model1.bs)\n",
    "    model.fit(states_train, features_train, lengths_train, verbose=False, warm_start=True)\n",
    "    traini, vali= model.score(states_train, features_train, lengths_train, average=False), \\\n",
    "          model.score(states_val, features_val, lengths_val, average=False)\n",
    "        #   model.score(states_test, features_test, lengths_test, average=False)\n",
    "    if vali > val2:\n",
    "        train2 = traini\n",
    "        val2 = vali\n",
    "        # test2 = testi\n",
    "        best_lam = lam\n",
    "        model2 = model\n",
    "train2, val2# test2"
   ]
  },
  {
   "cell_type": "code",
   "execution_count": null,
   "id": "ccd3f10e",
   "metadata": {},
   "outputs": [],
   "source": [
    "model = FeatureDependentMarkovChain(n, lam_frob=best_lam, n_iter=1)\n",
    "model.As = deepcopy(model1.As)\n",
    "model.bs = deepcopy(model1.bs)\n",
    "model.fit(states_train, features_train, lengths_train, verbose=False, warm_start=True)"
   ]
  },
  {
   "cell_type": "code",
   "execution_count": null,
   "id": "2229c768",
   "metadata": {},
   "outputs": [
    {
     "name": "stdout",
     "output_type": "stream",
     "text": [
      "0 -> 0 : 9\n",
      "0 -> 1 : 4\n",
      "0 -> 2 : 6\n",
      "0 -> 3 : 2\n",
      "1 -> 0 : 255\n",
      "1 -> 1 : 263\n",
      "1 -> 2 : 7\n",
      "1 -> 3 : 2\n",
      "2 -> 0 : 41\n",
      "2 -> 1 : 2\n",
      "2 -> 2 : 41\n",
      "2 -> 3 : 2\n",
      "3 -> 0 : 11\n",
      "3 -> 1 : 2\n",
      "3 -> 2 : 2\n",
      "3 -> 3 : 11\n"
     ]
    }
   ],
   "source": [
    "predictions2 = model.predict(features_val)\n",
    "for i, j in itertools.product(range(4), range(4)):\n",
    "    y = predictions2[:, i, j]\n",
    "    val = len(np.unique(y.round(decimals=4)))\n",
    "    print(f\"{i} -> {j} : {val}\")"
   ]
  },
  {
   "cell_type": "code",
   "execution_count": null,
   "id": "93924469",
   "metadata": {},
   "outputs": [
    {
     "name": "stdout",
     "output_type": "stream",
     "text": [
      "['y8' 'TMAX' 'PRCP' 'y3' 'COAST']\n",
      "['y6' 'TMIN' 'y4' 'y8' 'TMAX']\n"
     ]
    }
   ],
   "source": [
    "j = np.where(model.nonzero[0] == 0)[0][0]\n",
    "A, b = model.As[0], model.bs[0]\n",
    "feature_names = np.array(['y3', 'COAST', 'y4', 'PRCP', 'TMAX', 'TMIN', 'y6', 'y8'])\n",
    "print(feature_names[np.argsort(A[:,j])[-5:]]) # month, TMAX', 'PRCP', age, load\n",
    "print(feature_names[np.argsort(A[:,j])[:5]]) # time since last planned outage, doy, month"
   ]
  },
  {
   "cell_type": "code",
   "execution_count": null,
   "id": "1f3f781c",
   "metadata": {},
   "outputs": [
    {
     "data": {
      "text/plain": [
       "np.int64(0)"
      ]
     },
     "execution_count": 16,
     "metadata": {},
     "output_type": "execute_result"
    }
   ],
   "source": [
    "np.where(model.nonzero[0] == 0)[0][0]"
   ]
  },
  {
   "cell_type": "code",
   "execution_count": null,
   "id": "0ac35cde",
   "metadata": {},
   "outputs": [],
   "source": []
  }
 ],
 "metadata": {
  "kernelspec": {
   "display_name": "cxgrp",
   "language": "python",
   "name": "python3"
  },
  "language_info": {
   "codemirror_mode": {
    "name": "ipython",
    "version": 3
   },
   "file_extension": ".py",
   "mimetype": "text/x-python",
   "name": "python",
   "nbconvert_exporter": "python",
   "pygments_lexer": "ipython3",
   "version": "3.10.12"
  }
 },
 "nbformat": 4,
 "nbformat_minor": 5
}
