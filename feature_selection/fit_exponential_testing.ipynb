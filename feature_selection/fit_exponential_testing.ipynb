{
 "cells": [
  {
   "cell_type": "code",
   "execution_count": 1,
   "metadata": {},
   "outputs": [],
   "source": [
    "using Printf, CSV, DataFrames, Statistics, Glob, XLSX, Dates, Plots, TimeSeries, JSON, Distributions, ExpectationMaximization"
   ]
  },
  {
   "cell_type": "code",
   "execution_count": 2,
   "metadata": {},
   "outputs": [
    {
     "data": {
      "text/plain": [
       "64-element Vector{String}:\n",
       " \"/projects/emco4286/data/gads/tr\"\u001b[93m\u001b[1m ⋯ 26 bytes ⋯ \u001b[22m\u001b[39m\"ass_CT_rating_1_state_Texas.csv\"\n",
       " \"/projects/emco4286/data/gads/tr\"\u001b[93m\u001b[1m ⋯ 26 bytes ⋯ \u001b[22m\u001b[39m\"ass_CT_rating_1_state_Texas.csv\"\n",
       " \"/projects/emco4286/data/gads/tr\"\u001b[93m\u001b[1m ⋯ 26 bytes ⋯ \u001b[22m\u001b[39m\"ass_CT_rating_1_state_Texas.csv\"\n",
       " \"/projects/emco4286/data/gads/tr\"\u001b[93m\u001b[1m ⋯ 26 bytes ⋯ \u001b[22m\u001b[39m\"ass_CT_rating_1_state_Texas.csv\"\n",
       " \"/projects/emco4286/data/gads/tr\"\u001b[93m\u001b[1m ⋯ 26 bytes ⋯ \u001b[22m\u001b[39m\"ass_CT_rating_2_state_Texas.csv\"\n",
       " \"/projects/emco4286/data/gads/tr\"\u001b[93m\u001b[1m ⋯ 26 bytes ⋯ \u001b[22m\u001b[39m\"ass_CT_rating_2_state_Texas.csv\"\n",
       " \"/projects/emco4286/data/gads/tr\"\u001b[93m\u001b[1m ⋯ 26 bytes ⋯ \u001b[22m\u001b[39m\"ass_CT_rating_1_state_Texas.csv\"\n",
       " \"/projects/emco4286/data/gads/tr\"\u001b[93m\u001b[1m ⋯ 26 bytes ⋯ \u001b[22m\u001b[39m\"ass_CT_rating_1_state_Texas.csv\"\n",
       " \"/projects/emco4286/data/gads/tr\"\u001b[93m\u001b[1m ⋯ 26 bytes ⋯ \u001b[22m\u001b[39m\"ass_CT_rating_1_state_Texas.csv\"\n",
       " \"/projects/emco4286/data/gads/tr\"\u001b[93m\u001b[1m ⋯ 26 bytes ⋯ \u001b[22m\u001b[39m\"ass_CT_rating_2_state_Texas.csv\"\n",
       " ⋮\n",
       " \"/projects/emco4286/data/gads/tr\"\u001b[93m\u001b[1m ⋯ 26 bytes ⋯ \u001b[22m\u001b[39m\"ass_CT_rating_1_state_Texas.csv\"\n",
       " \"/projects/emco4286/data/gads/tr\"\u001b[93m\u001b[1m ⋯ 26 bytes ⋯ \u001b[22m\u001b[39m\"ass_CT_rating_1_state_Texas.csv\"\n",
       " \"/projects/emco4286/data/gads/tr\"\u001b[93m\u001b[1m ⋯ 26 bytes ⋯ \u001b[22m\u001b[39m\"ass_CT_rating_1_state_Texas.csv\"\n",
       " \"/projects/emco4286/data/gads/tr\"\u001b[93m\u001b[1m ⋯ 26 bytes ⋯ \u001b[22m\u001b[39m\"ass_CT_rating_1_state_Texas.csv\"\n",
       " \"/projects/emco4286/data/gads/tr\"\u001b[93m\u001b[1m ⋯ 26 bytes ⋯ \u001b[22m\u001b[39m\"ass_CT_rating_1_state_Texas.csv\"\n",
       " \"/projects/emco4286/data/gads/tr\"\u001b[93m\u001b[1m ⋯ 26 bytes ⋯ \u001b[22m\u001b[39m\"ass_CT_rating_1_state_Texas.csv\"\n",
       " \"/projects/emco4286/data/gads/tr\"\u001b[93m\u001b[1m ⋯ 26 bytes ⋯ \u001b[22m\u001b[39m\"ass_CT_rating_1_state_Texas.csv\"\n",
       " \"/projects/emco4286/data/gads/tr\"\u001b[93m\u001b[1m ⋯ 26 bytes ⋯ \u001b[22m\u001b[39m\"ass_CT_rating_1_state_Texas.csv\"\n",
       " \"/projects/emco4286/data/gads/tr\"\u001b[93m\u001b[1m ⋯ 26 bytes ⋯ \u001b[22m\u001b[39m\"ass_CT_rating_1_state_Texas.csv\""
      ]
     },
     "metadata": {},
     "output_type": "display_data"
    }
   ],
   "source": [
    "data_directory = joinpath(\"/projects\", \"emco4286\", \"data\", \"gads\", \"trajectories\", \"ct\")\n",
    "files = glob(\"gen_*_class_CT_rating_*_state_Texas.csv\", data_directory)"
   ]
  },
  {
   "cell_type": "code",
   "execution_count": 3,
   "metadata": {},
   "outputs": [
    {
     "data": {
      "text/html": [
       "<div><div style = \"float: left;\"><span>96403×13 DataFrame</span></div><div style = \"float: right;\"><span style = \"font-style: italic;\">96378 rows omitted</span></div><div style = \"clear: both;\"></div></div><div class = \"data-frame\" style = \"overflow-x: scroll;\"><table class = \"data-frame\" style = \"margin-bottom: 6px;\"><thead><tr class = \"header\"><th class = \"rowNumber\" style = \"font-weight: bold; text-align: right;\">Row</th><th style = \"text-align: left;\">x</th><th style = \"text-align: left;\">y1</th><th style = \"text-align: left;\">y2</th><th style = \"text-align: left;\">y3</th><th style = \"text-align: left;\">y9</th><th style = \"text-align: left;\">ERCOT</th><th style = \"text-align: left;\">y4</th><th style = \"text-align: left;\">Pcp</th><th style = \"text-align: left;\">Tmax</th><th style = \"text-align: left;\">Tmin</th><th style = \"text-align: left;\">y6</th><th style = \"text-align: left;\">y7</th><th style = \"text-align: left;\">y8</th></tr><tr class = \"subheader headerLastRow\"><th class = \"rowNumber\" style = \"font-weight: bold; text-align: right;\"></th><th title = \"DateTime\" style = \"text-align: left;\">DateTime</th><th title = \"Float64\" style = \"text-align: left;\">Float64</th><th title = \"Float64\" style = \"text-align: left;\">Float64</th><th title = \"Int64\" style = \"text-align: left;\">Int64</th><th title = \"Float64\" style = \"text-align: left;\">Float64</th><th title = \"Float64\" style = \"text-align: left;\">Float64</th><th title = \"Int64\" style = \"text-align: left;\">Int64</th><th title = \"Union{Missing, Float64}\" style = \"text-align: left;\">Float64?</th><th title = \"Union{Missing, Float64}\" style = \"text-align: left;\">Float64?</th><th title = \"Union{Missing, Float64}\" style = \"text-align: left;\">Float64?</th><th title = \"Union{Missing, Int64}\" style = \"text-align: left;\">Int64?</th><th title = \"Missing\" style = \"text-align: left;\">Missing</th><th title = \"Int64\" style = \"text-align: left;\">Int64</th></tr></thead><tbody><tr><td class = \"rowNumber\" style = \"font-weight: bold; text-align: right;\">1</td><td style = \"text-align: left;\">2013-01-01T06:00:00</td><td style = \"text-align: right;\">1.0</td><td style = \"text-align: right;\">1.0</td><td style = \"text-align: right;\">2922</td><td style = \"text-align: right;\">1.0</td><td style = \"text-align: right;\">27836.8</td><td style = \"text-align: right;\">1</td><td style = \"text-align: right;\">2.46</td><td style = \"text-align: right;\">59.4</td><td style = \"text-align: right;\">36.4</td><td style = \"font-style: italic; text-align: right;\">missing</td><td style = \"font-style: italic; text-align: right;\">missing</td><td style = \"text-align: right;\">1</td></tr><tr><td class = \"rowNumber\" style = \"font-weight: bold; text-align: right;\">2</td><td style = \"text-align: left;\">2013-01-01T07:00:00</td><td style = \"text-align: right;\">1.0</td><td style = \"text-align: right;\">1.0</td><td style = \"text-align: right;\">2922</td><td style = \"text-align: right;\">1.0</td><td style = \"text-align: right;\">28722.0</td><td style = \"text-align: right;\">1</td><td style = \"text-align: right;\">2.46</td><td style = \"text-align: right;\">59.4</td><td style = \"text-align: right;\">36.4</td><td style = \"font-style: italic; text-align: right;\">missing</td><td style = \"font-style: italic; text-align: right;\">missing</td><td style = \"text-align: right;\">1</td></tr><tr><td class = \"rowNumber\" style = \"font-weight: bold; text-align: right;\">3</td><td style = \"text-align: left;\">2013-01-01T08:00:00</td><td style = \"text-align: right;\">1.0</td><td style = \"text-align: right;\">1.0</td><td style = \"text-align: right;\">2922</td><td style = \"text-align: right;\">1.0</td><td style = \"text-align: right;\">29391.7</td><td style = \"text-align: right;\">1</td><td style = \"text-align: right;\">2.46</td><td style = \"text-align: right;\">59.4</td><td style = \"text-align: right;\">36.4</td><td style = \"font-style: italic; text-align: right;\">missing</td><td style = \"font-style: italic; text-align: right;\">missing</td><td style = \"text-align: right;\">1</td></tr><tr><td class = \"rowNumber\" style = \"font-weight: bold; text-align: right;\">4</td><td style = \"text-align: left;\">2013-01-01T09:00:00</td><td style = \"text-align: right;\">1.0</td><td style = \"text-align: right;\">1.0</td><td style = \"text-align: right;\">2922</td><td style = \"text-align: right;\">1.0</td><td style = \"text-align: right;\">30293.8</td><td style = \"text-align: right;\">1</td><td style = \"text-align: right;\">2.46</td><td style = \"text-align: right;\">59.4</td><td style = \"text-align: right;\">36.4</td><td style = \"font-style: italic; text-align: right;\">missing</td><td style = \"font-style: italic; text-align: right;\">missing</td><td style = \"text-align: right;\">1</td></tr><tr><td class = \"rowNumber\" style = \"font-weight: bold; text-align: right;\">5</td><td style = \"text-align: left;\">2013-01-01T10:00:00</td><td style = \"text-align: right;\">1.0</td><td style = \"text-align: right;\">1.0</td><td style = \"text-align: right;\">2922</td><td style = \"text-align: right;\">1.0</td><td style = \"text-align: right;\">31882.3</td><td style = \"text-align: right;\">1</td><td style = \"text-align: right;\">2.46</td><td style = \"text-align: right;\">59.4</td><td style = \"text-align: right;\">36.4</td><td style = \"font-style: italic; text-align: right;\">missing</td><td style = \"font-style: italic; text-align: right;\">missing</td><td style = \"text-align: right;\">1</td></tr><tr><td class = \"rowNumber\" style = \"font-weight: bold; text-align: right;\">6</td><td style = \"text-align: left;\">2013-01-01T11:00:00</td><td style = \"text-align: right;\">1.0</td><td style = \"text-align: right;\">1.0</td><td style = \"text-align: right;\">2922</td><td style = \"text-align: right;\">1.0</td><td style = \"text-align: right;\">33359.5</td><td style = \"text-align: right;\">1</td><td style = \"text-align: right;\">2.46</td><td style = \"text-align: right;\">59.4</td><td style = \"text-align: right;\">36.4</td><td style = \"font-style: italic; text-align: right;\">missing</td><td style = \"font-style: italic; text-align: right;\">missing</td><td style = \"text-align: right;\">1</td></tr><tr><td class = \"rowNumber\" style = \"font-weight: bold; text-align: right;\">7</td><td style = \"text-align: left;\">2013-01-01T12:00:00</td><td style = \"text-align: right;\">1.0</td><td style = \"text-align: right;\">1.0</td><td style = \"text-align: right;\">2923</td><td style = \"text-align: right;\">1.0</td><td style = \"text-align: right;\">34186.8</td><td style = \"text-align: right;\">1</td><td style = \"text-align: right;\">2.46</td><td style = \"text-align: right;\">59.4</td><td style = \"text-align: right;\">36.4</td><td style = \"font-style: italic; text-align: right;\">missing</td><td style = \"font-style: italic; text-align: right;\">missing</td><td style = \"text-align: right;\">1</td></tr><tr><td class = \"rowNumber\" style = \"font-weight: bold; text-align: right;\">8</td><td style = \"text-align: left;\">2013-01-01T13:00:00</td><td style = \"text-align: right;\">1.0</td><td style = \"text-align: right;\">1.0</td><td style = \"text-align: right;\">2923</td><td style = \"text-align: right;\">1.0</td><td style = \"text-align: right;\">34155.1</td><td style = \"text-align: right;\">1</td><td style = \"text-align: right;\">2.46</td><td style = \"text-align: right;\">59.4</td><td style = \"text-align: right;\">36.4</td><td style = \"font-style: italic; text-align: right;\">missing</td><td style = \"font-style: italic; text-align: right;\">missing</td><td style = \"text-align: right;\">1</td></tr><tr><td class = \"rowNumber\" style = \"font-weight: bold; text-align: right;\">9</td><td style = \"text-align: left;\">2013-01-01T14:00:00</td><td style = \"text-align: right;\">1.0</td><td style = \"text-align: right;\">1.0</td><td style = \"text-align: right;\">2923</td><td style = \"text-align: right;\">1.0</td><td style = \"text-align: right;\">33781.1</td><td style = \"text-align: right;\">1</td><td style = \"text-align: right;\">2.46</td><td style = \"text-align: right;\">59.4</td><td style = \"text-align: right;\">36.4</td><td style = \"font-style: italic; text-align: right;\">missing</td><td style = \"font-style: italic; text-align: right;\">missing</td><td style = \"text-align: right;\">1</td></tr><tr><td class = \"rowNumber\" style = \"font-weight: bold; text-align: right;\">10</td><td style = \"text-align: left;\">2013-01-01T15:00:00</td><td style = \"text-align: right;\">1.0</td><td style = \"text-align: right;\">1.0</td><td style = \"text-align: right;\">2923</td><td style = \"text-align: right;\">1.0</td><td style = \"text-align: right;\">33400.6</td><td style = \"text-align: right;\">1</td><td style = \"text-align: right;\">2.46</td><td style = \"text-align: right;\">59.4</td><td style = \"text-align: right;\">36.4</td><td style = \"font-style: italic; text-align: right;\">missing</td><td style = \"font-style: italic; text-align: right;\">missing</td><td style = \"text-align: right;\">1</td></tr><tr><td class = \"rowNumber\" style = \"font-weight: bold; text-align: right;\">11</td><td style = \"text-align: left;\">2013-01-01T16:00:00</td><td style = \"text-align: right;\">1.0</td><td style = \"text-align: right;\">1.0</td><td style = \"text-align: right;\">2923</td><td style = \"text-align: right;\">1.0</td><td style = \"text-align: right;\">33171.8</td><td style = \"text-align: right;\">1</td><td style = \"text-align: right;\">2.46</td><td style = \"text-align: right;\">59.4</td><td style = \"text-align: right;\">36.4</td><td style = \"font-style: italic; text-align: right;\">missing</td><td style = \"font-style: italic; text-align: right;\">missing</td><td style = \"text-align: right;\">1</td></tr><tr><td class = \"rowNumber\" style = \"font-weight: bold; text-align: right;\">12</td><td style = \"text-align: left;\">2013-01-01T17:00:00</td><td style = \"text-align: right;\">1.0</td><td style = \"text-align: right;\">1.0</td><td style = \"text-align: right;\">2923</td><td style = \"text-align: right;\">1.0</td><td style = \"text-align: right;\">33902.3</td><td style = \"text-align: right;\">1</td><td style = \"text-align: right;\">2.46</td><td style = \"text-align: right;\">59.4</td><td style = \"text-align: right;\">36.4</td><td style = \"font-style: italic; text-align: right;\">missing</td><td style = \"font-style: italic; text-align: right;\">missing</td><td style = \"text-align: right;\">1</td></tr><tr><td class = \"rowNumber\" style = \"font-weight: bold; text-align: right;\">13</td><td style = \"text-align: left;\">2013-01-01T18:00:00</td><td style = \"text-align: right;\">1.0</td><td style = \"text-align: right;\">1.0</td><td style = \"text-align: right;\">2923</td><td style = \"text-align: right;\">1.0</td><td style = \"text-align: right;\">36307.9</td><td style = \"text-align: right;\">1</td><td style = \"text-align: right;\">2.46</td><td style = \"text-align: right;\">59.4</td><td style = \"text-align: right;\">36.4</td><td style = \"font-style: italic; text-align: right;\">missing</td><td style = \"font-style: italic; text-align: right;\">missing</td><td style = \"text-align: right;\">1</td></tr><tr><td style = \"text-align: right;\">&vellip;</td><td style = \"text-align: right;\">&vellip;</td><td style = \"text-align: right;\">&vellip;</td><td style = \"text-align: right;\">&vellip;</td><td style = \"text-align: right;\">&vellip;</td><td style = \"text-align: right;\">&vellip;</td><td style = \"text-align: right;\">&vellip;</td><td style = \"text-align: right;\">&vellip;</td><td style = \"text-align: right;\">&vellip;</td><td style = \"text-align: right;\">&vellip;</td><td style = \"text-align: right;\">&vellip;</td><td style = \"text-align: right;\">&vellip;</td><td style = \"text-align: right;\">&vellip;</td><td style = \"text-align: right;\">&vellip;</td></tr><tr><td class = \"rowNumber\" style = \"font-weight: bold; text-align: right;\">96392</td><td style = \"text-align: left;\">2023-12-31T13:00:00</td><td style = \"text-align: right;\">1.0</td><td style = \"text-align: right;\">1.0</td><td style = \"text-align: right;\">6939</td><td style = \"text-align: right;\">1.0</td><td style = \"text-align: right;\">42736.8</td><td style = \"text-align: right;\">365</td><td style = \"text-align: right;\">1.75</td><td style = \"text-align: right;\">64.3</td><td style = \"text-align: right;\">39.4</td><td style = \"text-align: right;\">239</td><td style = \"font-style: italic; text-align: right;\">missing</td><td style = \"text-align: right;\">12</td></tr><tr><td class = \"rowNumber\" style = \"font-weight: bold; text-align: right;\">96393</td><td style = \"text-align: left;\">2023-12-31T14:00:00</td><td style = \"text-align: right;\">1.0</td><td style = \"text-align: right;\">1.0</td><td style = \"text-align: right;\">6939</td><td style = \"text-align: right;\">1.0</td><td style = \"text-align: right;\">42212.0</td><td style = \"text-align: right;\">365</td><td style = \"text-align: right;\">1.75</td><td style = \"text-align: right;\">64.3</td><td style = \"text-align: right;\">39.4</td><td style = \"text-align: right;\">239</td><td style = \"font-style: italic; text-align: right;\">missing</td><td style = \"text-align: right;\">12</td></tr><tr><td class = \"rowNumber\" style = \"font-weight: bold; text-align: right;\">96394</td><td style = \"text-align: left;\">2023-12-31T15:00:00</td><td style = \"text-align: right;\">1.0</td><td style = \"text-align: right;\">1.0</td><td style = \"text-align: right;\">6939</td><td style = \"text-align: right;\">1.0</td><td style = \"text-align: right;\">42043.5</td><td style = \"text-align: right;\">365</td><td style = \"text-align: right;\">1.75</td><td style = \"text-align: right;\">64.3</td><td style = \"text-align: right;\">39.4</td><td style = \"text-align: right;\">239</td><td style = \"font-style: italic; text-align: right;\">missing</td><td style = \"text-align: right;\">12</td></tr><tr><td class = \"rowNumber\" style = \"font-weight: bold; text-align: right;\">96395</td><td style = \"text-align: left;\">2023-12-31T16:00:00</td><td style = \"text-align: right;\">1.0</td><td style = \"text-align: right;\">1.0</td><td style = \"text-align: right;\">6939</td><td style = \"text-align: right;\">1.0</td><td style = \"text-align: right;\">42269.0</td><td style = \"text-align: right;\">365</td><td style = \"text-align: right;\">1.75</td><td style = \"text-align: right;\">64.3</td><td style = \"text-align: right;\">39.4</td><td style = \"text-align: right;\">239</td><td style = \"font-style: italic; text-align: right;\">missing</td><td style = \"text-align: right;\">12</td></tr><tr><td class = \"rowNumber\" style = \"font-weight: bold; text-align: right;\">96396</td><td style = \"text-align: left;\">2023-12-31T17:00:00</td><td style = \"text-align: right;\">1.0</td><td style = \"text-align: right;\">1.0</td><td style = \"text-align: right;\">6939</td><td style = \"text-align: right;\">1.0</td><td style = \"text-align: right;\">42839.4</td><td style = \"text-align: right;\">365</td><td style = \"text-align: right;\">1.75</td><td style = \"text-align: right;\">64.3</td><td style = \"text-align: right;\">39.4</td><td style = \"text-align: right;\">239</td><td style = \"font-style: italic; text-align: right;\">missing</td><td style = \"text-align: right;\">12</td></tr><tr><td class = \"rowNumber\" style = \"font-weight: bold; text-align: right;\">96397</td><td style = \"text-align: left;\">2023-12-31T18:00:00</td><td style = \"text-align: right;\">1.0</td><td style = \"text-align: right;\">1.0</td><td style = \"text-align: right;\">6939</td><td style = \"text-align: right;\">1.0</td><td style = \"text-align: right;\">44391.8</td><td style = \"text-align: right;\">365</td><td style = \"text-align: right;\">1.75</td><td style = \"text-align: right;\">64.3</td><td style = \"text-align: right;\">39.4</td><td style = \"text-align: right;\">239</td><td style = \"font-style: italic; text-align: right;\">missing</td><td style = \"text-align: right;\">12</td></tr><tr><td class = \"rowNumber\" style = \"font-weight: bold; text-align: right;\">96398</td><td style = \"text-align: left;\">2023-12-31T19:00:00</td><td style = \"text-align: right;\">1.0</td><td style = \"text-align: right;\">1.0</td><td style = \"text-align: right;\">6939</td><td style = \"text-align: right;\">1.0</td><td style = \"text-align: right;\">45677.1</td><td style = \"text-align: right;\">365</td><td style = \"text-align: right;\">1.75</td><td style = \"text-align: right;\">64.3</td><td style = \"text-align: right;\">39.4</td><td style = \"text-align: right;\">239</td><td style = \"font-style: italic; text-align: right;\">missing</td><td style = \"text-align: right;\">12</td></tr><tr><td class = \"rowNumber\" style = \"font-weight: bold; text-align: right;\">96399</td><td style = \"text-align: left;\">2023-12-31T20:00:00</td><td style = \"text-align: right;\">1.0</td><td style = \"text-align: right;\">1.0</td><td style = \"text-align: right;\">6939</td><td style = \"text-align: right;\">1.0</td><td style = \"text-align: right;\">44751.2</td><td style = \"text-align: right;\">365</td><td style = \"text-align: right;\">1.75</td><td style = \"text-align: right;\">64.3</td><td style = \"text-align: right;\">39.4</td><td style = \"text-align: right;\">239</td><td style = \"font-style: italic; text-align: right;\">missing</td><td style = \"text-align: right;\">12</td></tr><tr><td class = \"rowNumber\" style = \"font-weight: bold; text-align: right;\">96400</td><td style = \"text-align: left;\">2023-12-31T21:00:00</td><td style = \"text-align: right;\">1.0</td><td style = \"text-align: right;\">1.0</td><td style = \"text-align: right;\">6939</td><td style = \"text-align: right;\">1.0</td><td style = \"text-align: right;\">43892.8</td><td style = \"text-align: right;\">365</td><td style = \"text-align: right;\">1.75</td><td style = \"text-align: right;\">64.3</td><td style = \"text-align: right;\">39.4</td><td style = \"text-align: right;\">239</td><td style = \"font-style: italic; text-align: right;\">missing</td><td style = \"text-align: right;\">12</td></tr><tr><td class = \"rowNumber\" style = \"font-weight: bold; text-align: right;\">96401</td><td style = \"text-align: left;\">2023-12-31T22:00:00</td><td style = \"text-align: right;\">1.0</td><td style = \"text-align: right;\">1.0</td><td style = \"text-align: right;\">6939</td><td style = \"text-align: right;\">1.0</td><td style = \"text-align: right;\">43113.7</td><td style = \"text-align: right;\">365</td><td style = \"text-align: right;\">1.75</td><td style = \"text-align: right;\">64.3</td><td style = \"text-align: right;\">39.4</td><td style = \"text-align: right;\">239</td><td style = \"font-style: italic; text-align: right;\">missing</td><td style = \"text-align: right;\">12</td></tr><tr><td class = \"rowNumber\" style = \"font-weight: bold; text-align: right;\">96402</td><td style = \"text-align: left;\">2023-12-31T23:00:00</td><td style = \"text-align: right;\">1.0</td><td style = \"text-align: right;\">1.0</td><td style = \"text-align: right;\">6939</td><td style = \"text-align: right;\">1.0</td><td style = \"text-align: right;\">42244.6</td><td style = \"text-align: right;\">365</td><td style = \"text-align: right;\">1.75</td><td style = \"text-align: right;\">64.3</td><td style = \"text-align: right;\">39.4</td><td style = \"text-align: right;\">239</td><td style = \"font-style: italic; text-align: right;\">missing</td><td style = \"text-align: right;\">12</td></tr><tr><td class = \"rowNumber\" style = \"font-weight: bold; text-align: right;\">96403</td><td style = \"text-align: left;\">2024-01-01T00:00:00</td><td style = \"text-align: right;\">1.0</td><td style = \"text-align: right;\">1.0</td><td style = \"text-align: right;\">6939</td><td style = \"text-align: right;\">1.0</td><td style = \"text-align: right;\">41622.0</td><td style = \"text-align: right;\">1</td><td style = \"font-style: italic; text-align: right;\">missing</td><td style = \"font-style: italic; text-align: right;\">missing</td><td style = \"font-style: italic; text-align: right;\">missing</td><td style = \"text-align: right;\">239</td><td style = \"font-style: italic; text-align: right;\">missing</td><td style = \"text-align: right;\">1</td></tr></tbody></table></div>"
      ],
      "text/latex": [
       "\\begin{tabular}{r|ccccccccc}\n",
       "\t& x & y1 & y2 & y3 & y9 & ERCOT & y4 & Pcp & \\\\\n",
       "\t\\hline\n",
       "\t& DateTime & Float64 & Float64 & Int64 & Float64 & Float64 & Int64 & Float64? & \\\\\n",
       "\t\\hline\n",
       "\t1 & 2013-01-01T06:00:00 & 1.0 & 1.0 & 2922 & 1.0 & 27836.8 & 1 & 2.46 & $\\dots$ \\\\\n",
       "\t2 & 2013-01-01T07:00:00 & 1.0 & 1.0 & 2922 & 1.0 & 28722.0 & 1 & 2.46 & $\\dots$ \\\\\n",
       "\t3 & 2013-01-01T08:00:00 & 1.0 & 1.0 & 2922 & 1.0 & 29391.7 & 1 & 2.46 & $\\dots$ \\\\\n",
       "\t4 & 2013-01-01T09:00:00 & 1.0 & 1.0 & 2922 & 1.0 & 30293.8 & 1 & 2.46 & $\\dots$ \\\\\n",
       "\t5 & 2013-01-01T10:00:00 & 1.0 & 1.0 & 2922 & 1.0 & 31882.3 & 1 & 2.46 & $\\dots$ \\\\\n",
       "\t6 & 2013-01-01T11:00:00 & 1.0 & 1.0 & 2922 & 1.0 & 33359.5 & 1 & 2.46 & $\\dots$ \\\\\n",
       "\t7 & 2013-01-01T12:00:00 & 1.0 & 1.0 & 2923 & 1.0 & 34186.8 & 1 & 2.46 & $\\dots$ \\\\\n",
       "\t8 & 2013-01-01T13:00:00 & 1.0 & 1.0 & 2923 & 1.0 & 34155.1 & 1 & 2.46 & $\\dots$ \\\\\n",
       "\t9 & 2013-01-01T14:00:00 & 1.0 & 1.0 & 2923 & 1.0 & 33781.1 & 1 & 2.46 & $\\dots$ \\\\\n",
       "\t10 & 2013-01-01T15:00:00 & 1.0 & 1.0 & 2923 & 1.0 & 33400.6 & 1 & 2.46 & $\\dots$ \\\\\n",
       "\t11 & 2013-01-01T16:00:00 & 1.0 & 1.0 & 2923 & 1.0 & 33171.8 & 1 & 2.46 & $\\dots$ \\\\\n",
       "\t12 & 2013-01-01T17:00:00 & 1.0 & 1.0 & 2923 & 1.0 & 33902.3 & 1 & 2.46 & $\\dots$ \\\\\n",
       "\t13 & 2013-01-01T18:00:00 & 1.0 & 1.0 & 2923 & 1.0 & 36307.9 & 1 & 2.46 & $\\dots$ \\\\\n",
       "\t14 & 2013-01-01T19:00:00 & 1.0 & 1.0 & 2923 & 1.0 & 38422.5 & 1 & 2.46 & $\\dots$ \\\\\n",
       "\t15 & 2013-01-01T20:00:00 & 1.0 & 1.0 & 2923 & 1.0 & 38520.6 & 1 & 2.46 & $\\dots$ \\\\\n",
       "\t16 & 2013-01-01T21:00:00 & 1.0 & 1.0 & 2923 & 1.0 & 38288.6 & 1 & 2.46 & $\\dots$ \\\\\n",
       "\t17 & 2013-01-01T22:00:00 & 1.0 & 1.0 & 2923 & 1.0 & 37438.1 & 1 & 2.46 & $\\dots$ \\\\\n",
       "\t18 & 2013-01-01T23:00:00 & 1.0 & 1.0 & 2923 & 1.0 & 35905.9 & 1 & 2.46 & $\\dots$ \\\\\n",
       "\t19 & 2013-01-02T00:00:00 & 1.0 & 1.0 & 2923 & 1.0 & 34209.1 & 2 & 2.46 & $\\dots$ \\\\\n",
       "\t20 & 2013-01-02T01:00:00 & 1.0 & 1.0 & 2923 & 1.0 & 32996.0 & 2 & 2.46 & $\\dots$ \\\\\n",
       "\t21 & 2013-01-02T02:00:00 & 1.0 & 1.0 & 2923 & 1.0 & 32506.3 & 2 & 2.46 & $\\dots$ \\\\\n",
       "\t22 & 2013-01-02T03:00:00 & 1.0 & 1.0 & 2923 & 1.0 & 32496.4 & 2 & 2.46 & $\\dots$ \\\\\n",
       "\t23 & 2013-01-02T04:00:00 & 1.0 & 1.0 & 2923 & 1.0 & 32977.2 & 2 & 2.46 & $\\dots$ \\\\\n",
       "\t24 & 2013-01-02T05:00:00 & 1.0 & 1.0 & 2923 & 1.0 & 34207.0 & 2 & 2.46 & $\\dots$ \\\\\n",
       "\t$\\dots$ & $\\dots$ & $\\dots$ & $\\dots$ & $\\dots$ & $\\dots$ & $\\dots$ & $\\dots$ & $\\dots$ &  \\\\\n",
       "\\end{tabular}\n"
      ],
      "text/plain": [
       "\u001b[1m96403×13 DataFrame\u001b[0m\n",
       "\u001b[1m   Row \u001b[0m│\u001b[1m x                   \u001b[0m\u001b[1m y1      \u001b[0m\u001b[1m y2      \u001b[0m\u001b[1m y3    \u001b[0m\u001b[1m y9      \u001b[0m\u001b[1m ERCOT   \u001b[0m\u001b[1m y4   \u001b[0m ⋯\n",
       "       │\u001b[90m DateTime            \u001b[0m\u001b[90m Float64 \u001b[0m\u001b[90m Float64 \u001b[0m\u001b[90m Int64 \u001b[0m\u001b[90m Float64 \u001b[0m\u001b[90m Float64 \u001b[0m\u001b[90m Int64\u001b[0m ⋯\n",
       "───────┼────────────────────────────────────────────────────────────────────────\n",
       "     1 │ 2013-01-01T06:00:00      1.0      1.0   2922      1.0  27836.8      1 ⋯\n",
       "     2 │ 2013-01-01T07:00:00      1.0      1.0   2922      1.0  28722.0      1\n",
       "     3 │ 2013-01-01T08:00:00      1.0      1.0   2922      1.0  29391.7      1\n",
       "     4 │ 2013-01-01T09:00:00      1.0      1.0   2922      1.0  30293.8      1\n",
       "     5 │ 2013-01-01T10:00:00      1.0      1.0   2922      1.0  31882.3      1 ⋯\n",
       "     6 │ 2013-01-01T11:00:00      1.0      1.0   2922      1.0  33359.5      1\n",
       "     7 │ 2013-01-01T12:00:00      1.0      1.0   2923      1.0  34186.8      1\n",
       "     8 │ 2013-01-01T13:00:00      1.0      1.0   2923      1.0  34155.1      1\n",
       "   ⋮   │          ⋮              ⋮        ⋮       ⋮       ⋮        ⋮       ⋮   ⋱\n",
       " 96397 │ 2023-12-31T18:00:00      1.0      1.0   6939      1.0  44391.8    365 ⋯\n",
       " 96398 │ 2023-12-31T19:00:00      1.0      1.0   6939      1.0  45677.1    365\n",
       " 96399 │ 2023-12-31T20:00:00      1.0      1.0   6939      1.0  44751.2    365\n",
       " 96400 │ 2023-12-31T21:00:00      1.0      1.0   6939      1.0  43892.8    365\n",
       " 96401 │ 2023-12-31T22:00:00      1.0      1.0   6939      1.0  43113.7    365 ⋯\n",
       " 96402 │ 2023-12-31T23:00:00      1.0      1.0   6939      1.0  42244.6    365\n",
       " 96403 │ 2024-01-01T00:00:00      1.0      1.0   6939      1.0  41622.0      1\n",
       "\u001b[36m                                                6 columns and 96388 rows omitted\u001b[0m"
      ]
     },
     "metadata": {},
     "output_type": "display_data"
    }
   ],
   "source": [
    "f = files[1]\n",
    "\n",
    "df = DataFrame(CSV.File(f))"
   ]
  },
  {
   "cell_type": "code",
   "execution_count": 4,
   "metadata": {},
   "outputs": [
    {
     "data": {
      "text/plain": [
       "(96403, 13)"
      ]
     },
     "metadata": {},
     "output_type": "display_data"
    }
   ],
   "source": [
    "size(df)"
   ]
  },
  {
   "cell_type": "code",
   "execution_count": 13,
   "metadata": {},
   "outputs": [
    {
     "data": {
      "text/plain": [
       "41-element Vector{Float64}:\n",
       " 3.0\n",
       " 3.0\n",
       " 2.0\n",
       " 3.0\n",
       " 2.0\n",
       " 2.0\n",
       " 3.0\n",
       " 2.0\n",
       " 3.0\n",
       " 2.0\n",
       " ⋮\n",
       " 2.0\n",
       " 2.0\n",
       " 2.0\n",
       " 3.0\n",
       " 3.0\n",
       " 2.0\n",
       " 2.0\n",
       " 2.0\n",
       " 3.0"
      ]
     },
     "metadata": {},
     "output_type": "display_data"
    }
   ],
   "source": [
    "outage_start = findall(diff(df[!, :y1]) .== -1)\n",
    "outage_end = findall(diff(df[!, :y1]) .== 1)\n",
    "ttr_values = outage_end .- outage_start\n",
    "ttf_values_all_types = outage_start[begin + 1: end] - outage_end[begin:end - 1]\n",
    "outage_types = df[outage_start .+ 1, :y2]"
   ]
  },
  {
   "cell_type": "code",
   "execution_count": 18,
   "metadata": {},
   "outputs": [
    {
     "data": {
      "text/plain": [
       "20-element Vector{Float64}:\n",
       " 3.0\n",
       " 3.0\n",
       " 3.0\n",
       " 3.0\n",
       " 3.0\n",
       " 3.0\n",
       " 3.0\n",
       " 3.0\n",
       " 3.0\n",
       " 3.0\n",
       " 3.0\n",
       " 3.0\n",
       " 3.0\n",
       " 3.0\n",
       " 3.0\n",
       " 3.0\n",
       " 3.0\n",
       " 3.0\n",
       " 3.0\n",
       " 3.0"
      ]
     },
     "metadata": {},
     "output_type": "display_data"
    }
   ],
   "source": [
    "filter(x -> x > 2, outage_types)"
   ]
  },
  {
   "cell_type": "code",
   "execution_count": 12,
   "metadata": {},
   "outputs": [
    {
     "data": {
      "text/plain": [
       "19-element Vector{Int64}:\n",
       " 4742\n",
       " 1842\n",
       "  688\n",
       " 1796\n",
       "  593\n",
       " 3400\n",
       " 2760\n",
       " 2800\n",
       "  594\n",
       "  118\n",
       "    7\n",
       " 8607\n",
       " 2402\n",
       " 1868\n",
       " 2750\n",
       " 5611\n",
       "  419\n",
       " 9299\n",
       "   16"
      ]
     },
     "metadata": {},
     "output_type": "display_data"
    }
   ],
   "source": [
    "fo_idx = findall(outage_types .== 2)\n",
    "ttf_values_fo = ttf_values_all_types[fo_idx]\n",
    "po_idx = findall(outage_types .== 3)\n",
    "ttf_values_po = ttf_values_all_types[po_idx[begin: end - 1]]"
   ]
  },
  {
   "cell_type": "code",
   "execution_count": 10,
   "metadata": {},
   "outputs": [
    {
     "data": {
      "text/plain": [
       "40-element Vector{Int64}:\n",
       " 4742\n",
       " 1842\n",
       " 1073\n",
       "  688\n",
       " 4150\n",
       "  472\n",
       " 1796\n",
       " 1255\n",
       "  593\n",
       " 3334\n",
       "    ⋮\n",
       "  419\n",
       "   20\n",
       " 1386\n",
       " 2154\n",
       " 9299\n",
       "   16\n",
       "  187\n",
       " 1703\n",
       " 2342"
      ]
     },
     "metadata": {},
     "output_type": "display_data"
    }
   ],
   "source": [
    "ttf_values_all_types"
   ]
  },
  {
   "cell_type": "code",
   "execution_count": null,
   "metadata": {},
   "outputs": [],
   "source": [
    "\n",
    "os_fo = outage_start[fo_idx]\n",
    "oe_fo = outage_end[fo_idx]\n",
    "ttf_values_fo = os_fo[begin + 1: end] - oe_fo[begin:end - 1]\n",
    "ttr_values_fo = ttr_values[fo_idx]"
   ]
  },
  {
   "cell_type": "code",
   "execution_count": 39,
   "metadata": {},
   "outputs": [
    {
     "data": {
      "text/plain": [
       "3553.6862745098038"
      ]
     },
     "metadata": {},
     "output_type": "display_data"
    }
   ],
   "source": [
    "ph = 8760\n",
    "foh = 741.35\n",
    "num_fo = 6.14\n",
    "poh = 769.13\n",
    "num_po = 1.08\n",
    "moh = 291.4\n",
    "num_mo = 2.04\n",
    "\n",
    "fo_rate = (ph - moh - poh)/num_fo\n",
    "po_rate = (ph - moh - foh)/num_po\n",
    "mo_rate = (ph - foh - poh)/num_mo"
   ]
  },
  {
   "cell_type": "code",
   "execution_count": 44,
   "metadata": {},
   "outputs": [
    {
     "data": {
      "text/plain": [
       "(MixtureModel{Exponential{Float64}}(K = 3)\n",
       "components[1] (prior = 0.3500): Exponential{Float64}(θ=1423.5936255732252)\n",
       "components[2] (prior = 0.2781): Exponential{Float64}(θ=2704.7592348303515)\n",
       "components[3] (prior = 0.3719): Exponential{Float64}(θ=2659.1454532203497)\n",
       ", Dict{String, Any}(\"iterations\" => 14, \"converged\" => true, \"logtots\" => [-348.72542179932344, -348.6454860430778, -348.6061198950445, -348.5842399343577, -348.5709779478319, -348.5623947162555, -348.5565444695478, -348.5523846384287, -348.5493193948287, -348.54698989686057, -348.5451704268922, -348.54371370748987, -348.54252058996894, -348.5415225006483]))"
      ]
     },
     "metadata": {},
     "output_type": "display_data"
    }
   ],
   "source": [
    "mix_guess = MixtureModel([Exponential(fo_rate), Exponential(po_rate), Exponential(mo_rate)], [1/3, 1/3, 1/3])\n",
    "mix_mle, info = fit_mle(mix_guess, ttf_values_all_types, infos = true)"
   ]
  },
  {
   "cell_type": "code",
   "execution_count": 33,
   "metadata": {},
   "outputs": [
    {
     "data": {
      "text/plain": [
       "20-element Vector{Int64}:\n",
       " 468\n",
       " 265\n",
       " 234\n",
       " 111\n",
       " 345\n",
       " 127\n",
       "  12\n",
       " 106\n",
       "  14\n",
       " 187\n",
       "  15\n",
       " 321\n",
       " 123\n",
       " 128\n",
       "  90\n",
       " 122\n",
       "  14\n",
       " 133\n",
       " 133\n",
       "  16"
      ]
     },
     "metadata": {},
     "output_type": "display_data"
    }
   ],
   "source": [
    "po_idx = findall(outage_types .== 3)\n",
    "os_po = outage_start[po_idx]\n",
    "oe_po = outage_end[po_idx]\n",
    "ttf_values_po = os_po[begin + 1: end] - oe_po[begin:end - 1]\n",
    "ttr_values_po = ttr_values[po_idx]"
   ]
  },
  {
   "cell_type": "code",
   "execution_count": 34,
   "metadata": {},
   "outputs": [
    {
     "data": {
      "text/plain": [
       "Int64[]"
      ]
     },
     "metadata": {},
     "output_type": "display_data"
    }
   ],
   "source": [
    "mo_idx = findall(outage_types .== 4)\n",
    "os_mo = outage_start[mo_idx]\n",
    "oe_mo = outage_end[mo_idx]\n",
    "ttf_values_mo = os_mo[begin + 1: end] - oe_mo[begin:end - 1]\n",
    "ttr_values_mo = ttr_values[mo_idx]"
   ]
  }
 ],
 "metadata": {
  "kernelspec": {
   "display_name": "Julia 1.10.2",
   "language": "julia",
   "name": "julia-1.10"
  },
  "language_info": {
   "file_extension": ".jl",
   "mimetype": "application/julia",
   "name": "julia",
   "version": "1.10.2"
  },
  "orig_nbformat": 4
 },
 "nbformat": 4,
 "nbformat_minor": 2
}
