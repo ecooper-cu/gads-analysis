{
 "cells": [
  {
   "cell_type": "code",
   "execution_count": 1,
   "id": "e069d2d4",
   "metadata": {},
   "outputs": [],
   "source": [
    "import numpy as np\n",
    "import matplotlib.colors as colors\n",
    "import matplotlib.pyplot as plt\n",
    "# import seaborn as sns\n",
    "import pandas as pd\n",
    "\n",
    "import sklearn\n",
    "import scipy\n",
    "\n",
    "import sys\n",
    "import os\n",
    "import pathlib\n",
    "import itertools\n",
    "import glob\n",
    "import re\n",
    "\n",
    "package_path = os.path.join(pathlib.Path.home(), \"mkvchain\")\n",
    "sys.path.append(package_path)\n",
    "from model import FeatureDependentMarkovChain"
   ]
  },
  {
   "cell_type": "code",
   "execution_count": 2,
   "id": "91bbf786",
   "metadata": {},
   "outputs": [],
   "source": [
    "root = pathlib.Path.home()\n",
    "pt1 = os.path.join(root, 'research', 'GADS_Processed', \"trajectories_with_features\")\n",
    "\n",
    "def glob_re(pattern, strings):\n",
    "    return list(filter(re.compile(pattern).match, strings))\n",
    "\n",
    "filenames = glob_re(r\"gen_\\d+_type_200_dtgrp_\\d+_rating_\\d+_state_Texas_raw.csv\", os.listdir(pt1))"
   ]
  },
  {
   "cell_type": "code",
   "execution_count": 3,
   "id": "e1c02842",
   "metadata": {},
   "outputs": [],
   "source": [
    "weather_pt = os.path.join(root, 'research', 'NOAA_WEATHER_DATA', \"processed\")\n",
    "weather_files = glob.glob(weather_pt + \"/*.csv\")\n",
    "\n",
    "my_w_list = []\n",
    "\n",
    "for w in weather_files:\n",
    "    weather = pd.read_csv(os.path.join(weather_pt, w))\n",
    "    weather.set_index(pd.DatetimeIndex(weather[\"Unnamed: 0\"]), inplace=True)\n",
    "    weather.drop(columns=\"Unnamed: 0\", inplace=True)\n",
    "    my_w_list.append(weather)"
   ]
  },
  {
   "cell_type": "code",
   "execution_count": 18,
   "id": "0727b5c3",
   "metadata": {},
   "outputs": [],
   "source": [
    "\n",
    "mylist = []\n",
    "\n",
    "for f in filenames:\n",
    "    gen_id = int(re.findall(r\"gen_(\\d+)_.+\", f)[0])\n",
    "\n",
    "    data = pd.read_csv(os.path.join(pt1,f))\n",
    "    data.set_index(pd.DatetimeIndex(data[\"x\"]), inplace=True)\n",
    "    data = data[~data.index.duplicated()]\n",
    "    data.rename(columns={\"COAST\": \"y5\", \"NORTH_C\" : \"y5\"}, inplace=True)\n",
    "\n",
    "    for w in my_w_list:\n",
    "        data = data.join(w)\n",
    "\n",
    "\n",
    "    po_idx = np.where(data[\"y2\"].values == 3)[0]\n",
    "    end_of_event = np.concat([[False], np.diff(po_idx) != 1])\n",
    "    end_of_event_idx = po_idx[end_of_event]\n",
    "\n",
    "    idx = range(len(data))\n",
    "    my_data = np.zeros(len(data))\n",
    "\n",
    "    for i in idx:\n",
    "        events_before_i = np.array([j for j in end_of_event_idx if j < i])\n",
    "        if len(events_before_i) > 1:\n",
    "            closest_idx = np.argmin(i - events_before_i)\n",
    "            my_event_idx = events_before_i[closest_idx]\n",
    "            hours_since_event = (i - my_event_idx)\n",
    "        else:\n",
    "            hours_since_event = None\n",
    "        my_data[i] = hours_since_event\n",
    "    \n",
    "    data[\"y6\"] = my_data\n",
    "\n",
    "    # mo_idx = np.where(d[\"y2\"].values == 4)[0]\n",
    "    # if len(mo_idx) < 1:\n",
    "    #     my_data = None\n",
    "    # else:\n",
    "    #     end_of_event = np.concat([[False], np.diff(mo_idx) != 1])\n",
    "    #     end_of_event_idx = mo_idx[end_of_event]\n",
    "\n",
    "    #     idx = range(len(d))\n",
    "    #     my_data = np.zeros(len(d))\n",
    "\n",
    "    #     for i in idx:\n",
    "    #         events_before_i = np.array([j for j in end_of_event_idx if j < i])\n",
    "    #         if len(events_before_i) > 1:\n",
    "    #             closest_idx = np.argmin(i - events_before_i)\n",
    "    #             my_event_idx = events_before_i[closest_idx]\n",
    "    #             hours_since_event = (i - my_event_idx)\n",
    "    #         else:\n",
    "    #             hours_since_event = None\n",
    "    #         my_data[i] = hours_since_event\n",
    "    \n",
    "    # d[\"y7\"] = my_data\n",
    "\n",
    "    data[\"y8\"] = data.index.month\n",
    "\n",
    "    idx = data.index[np.where(data[\"Tmax\"] == 0)[0]]\n",
    "    data.loc[idx, \"Tmax\"] = np.nan\n",
    "\n",
    "    mylist.append(data)\n"
   ]
  },
  {
   "cell_type": "code",
   "execution_count": 19,
   "id": "27a85f86",
   "metadata": {},
   "outputs": [
    {
     "data": {
      "text/plain": [
       "DatetimeIndex([], dtype='datetime64[ns]', name='x', freq=None)"
      ]
     },
     "execution_count": 19,
     "metadata": {},
     "output_type": "execute_result"
    }
   ],
   "source": [
    "data.index[np.where(data[\"Tmax\"] == 0)[0]]"
   ]
  },
  {
   "cell_type": "code",
   "execution_count": 21,
   "id": "09e4a764",
   "metadata": {},
   "outputs": [
    {
     "name": "stdout",
     "output_type": "stream",
     "text": [
      "y3 0.0\n",
      "y5 0.00015329933491778217\n",
      "y4 0.0\n",
      "Pcp 0.0\n",
      "Tmin 0.0\n",
      "Tmax 0.0\n",
      "y6 0.03197595686923424\n",
      "y8 0.0\n"
     ]
    }
   ],
   "source": [
    "d = mylist[0]\n",
    "for c in ['y3', 'y5', 'y4', 'Pcp', \"Tmin\", \"Tmax\", 'y6', 'y8']:\n",
    "    contingency_table = pd.crosstab(d[\"y2\"], d[c])\n",
    "    try:\n",
    "        res = scipy.stats.chi2_contingency(contingency_table)\n",
    "    except:\n",
    "        continue\n",
    "    print(c, res.pvalue)"
   ]
  },
  {
   "cell_type": "code",
   "execution_count": 22,
   "id": "1773f01c",
   "metadata": {},
   "outputs": [],
   "source": [
    "states_new = []\n",
    "features_new = []\n",
    "lengths_new = []\n",
    "\n",
    "for d in mylist:\n",
    "    states = d[\"y2\"].values.tolist()\n",
    "    features = d[['y3', 'y5', 'y4', 'Pcp', \"Tmin\", \"Tmax\", 'y6', 'y8']].values\n",
    "    l = len(d)\n",
    "\n",
    "    states_new += [states]\n",
    "    features_new += [features]\n",
    "    lengths_new += [l]\n",
    "\n",
    "states = np.concatenate(states_new).astype(int)\n",
    "states -= 1\n",
    "features = np.vstack(features_new)\n",
    "lengths = np.array(lengths_new)"
   ]
  },
  {
   "cell_type": "code",
   "execution_count": 23,
   "id": "1200d016",
   "metadata": {},
   "outputs": [],
   "source": [
    "train_idx = 2 # int(lengths.size * .8)\n",
    "val_idx = 3 #int(lengths.size * .9)\n",
    "\n",
    "lengths_train = lengths[:train_idx]\n",
    "lengths_val = lengths[train_idx:val_idx]\n",
    "lengths_test = lengths[val_idx:]\n",
    "\n",
    "states_train = states[:lengths_train.sum()]\n",
    "states_val = states[lengths_train.sum():lengths_train.sum()+lengths_val.sum()]\n",
    "states_test = states[lengths_train.sum()+lengths_val.sum():]\n",
    "\n",
    "features_train = features[:lengths_train.sum()]\n",
    "features_val = features[lengths_train.sum():lengths_train.sum()+lengths_val.sum()]\n",
    "features_test = features[lengths_train.sum()+lengths_val.sum():]"
   ]
  },
  {
   "cell_type": "code",
   "execution_count": 24,
   "id": "b86de932",
   "metadata": {},
   "outputs": [],
   "source": [
    "from sklearn.preprocessing import QuantileTransformer, StandardScaler\n",
    "ss = StandardScaler()\n",
    "\n",
    "features_train = ss.fit_transform(features_train)\n",
    "features_val = ss.transform(features_val)\n",
    "features_test = ss.transform(features_test)\n",
    "n = 4"
   ]
  },
  {
   "cell_type": "code",
   "execution_count": 25,
   "id": "c5a0c807",
   "metadata": {},
   "outputs": [
    {
     "data": {
      "text/plain": [
       "(np.float64(-1364.0922350875608),\n",
       " np.float64(-2618.1144481957194),\n",
       " np.float64(-2128.9605492279884))"
      ]
     },
     "execution_count": 25,
     "metadata": {},
     "output_type": "execute_result"
    }
   ],
   "source": [
    "n = 4\n",
    "model1 = FeatureDependentMarkovChain(n, lam_frob=0, n_iter=1)\n",
    "model1.fit(states_train, features_train*0, lengths_train, verbose=False)\n",
    "train1, val1, test1 = model1.score(states_train, features_train*0, lengths_train, average=False), \\\n",
    "    model1.score(states_val, features_val*0, lengths_val, average=False), \\\n",
    "    model1.score(states_test, features_test*0, lengths_test, average=False)\n",
    "train1, val1, test1"
   ]
  },
  {
   "cell_type": "code",
   "execution_count": 26,
   "id": "47395c6a",
   "metadata": {},
   "outputs": [
    {
     "name": "stdout",
     "output_type": "stream",
     "text": [
      "0 -> 0 : 2\n",
      "0 -> 1 : 2\n",
      "0 -> 2 : 2\n",
      "0 -> 3 : 2\n",
      "1 -> 0 : 2\n",
      "1 -> 1 : 2\n",
      "1 -> 2 : 2\n",
      "1 -> 3 : 2\n",
      "2 -> 0 : 2\n",
      "2 -> 1 : 2\n",
      "2 -> 2 : 2\n",
      "2 -> 3 : 2\n",
      "3 -> 0 : 2\n",
      "3 -> 1 : 2\n",
      "3 -> 2 : 2\n",
      "3 -> 3 : 2\n"
     ]
    }
   ],
   "source": [
    "predictions = model1.predict(features_val)\n",
    "for i, j in itertools.product(range(4), range(4)):\n",
    "    y = predictions[:, i, j]\n",
    "    val = len(np.unique(y.round(decimals=4)))\n",
    "    print(f\"{i} -> {j} : {val}\")"
   ]
  },
  {
   "cell_type": "code",
   "execution_count": 27,
   "id": "286e69e2",
   "metadata": {},
   "outputs": [
    {
     "data": {
      "text/plain": [
       "(np.float64(-1362.2452162257157),\n",
       " np.float64(-2617.3143233430096),\n",
       " np.float64(-2129.5038472020706))"
      ]
     },
     "execution_count": 27,
     "metadata": {},
     "output_type": "execute_result"
    }
   ],
   "source": [
    "from copy import deepcopy\n",
    "train2, val2, test2 = -np.inf, -np.inf, -np.inf\n",
    "best_lam = None\n",
    "model2 = None\n",
    "for lam in np.logspace(-3,-1,10):\n",
    "    model = FeatureDependentMarkovChain(n, lam_frob=lam,  n_iter=1)\n",
    "    model.As = deepcopy(model1.As)\n",
    "    model.bs = deepcopy(model1.bs)\n",
    "    model.fit(states_train, features_train, lengths_train, verbose=False, warm_start=True)\n",
    "    traini, vali, testi = model.score(states_train, features_train, lengths_train, average=False), \\\n",
    "          model.score(states_val, features_val, lengths_val, average=False), \\\n",
    "          model.score(states_test, features_test, lengths_test, average=False)\n",
    "    if vali > val2:\n",
    "        train2 = traini\n",
    "        val2 = vali\n",
    "        test2 = testi\n",
    "        best_lam = lam\n",
    "        model2 = model\n",
    "train2, val2, test2"
   ]
  },
  {
   "cell_type": "code",
   "execution_count": 28,
   "id": "7afaf45e",
   "metadata": {},
   "outputs": [],
   "source": [
    "model = FeatureDependentMarkovChain(n, lam_frob=best_lam, n_iter=1)\n",
    "model.As = deepcopy(model1.As)\n",
    "model.bs = deepcopy(model1.bs)\n",
    "model.fit(states_train, features_train, lengths_train, verbose=False, warm_start=True)"
   ]
  },
  {
   "cell_type": "code",
   "execution_count": 29,
   "id": "2a577342",
   "metadata": {},
   "outputs": [
    {
     "name": "stdout",
     "output_type": "stream",
     "text": [
      "0 -> 0 : 3\n",
      "0 -> 1 : 2\n",
      "0 -> 2 : 3\n",
      "0 -> 3 : 2\n",
      "1 -> 0 : 12\n",
      "1 -> 1 : 13\n",
      "1 -> 2 : 3\n",
      "1 -> 3 : 2\n",
      "2 -> 0 : 5\n",
      "2 -> 1 : 2\n",
      "2 -> 2 : 5\n",
      "2 -> 3 : 2\n",
      "3 -> 0 : 2\n",
      "3 -> 1 : 2\n",
      "3 -> 2 : 2\n",
      "3 -> 3 : 2\n"
     ]
    }
   ],
   "source": [
    "predictions2 = model.predict(features_test)\n",
    "for i, j in itertools.product(range(4), range(4)):\n",
    "    y = predictions2[:, i, j]\n",
    "    val = len(np.unique(y.round(decimals=4)))\n",
    "    print(f\"{i} -> {j} : {val}\")"
   ]
  },
  {
   "cell_type": "code",
   "execution_count": 34,
   "id": "f815d1c1",
   "metadata": {},
   "outputs": [],
   "source": [
    "feature_names = ['Age [Days]', 'Load [MW]', 'DOY', 'Pcp', \"Tmin [F]\", \"Tmax [F]\", 'Days since PO', 'Month']\n",
    "features_test = features[lengths_train.sum()+lengths_val.sum():]"
   ]
  },
  {
   "cell_type": "code",
   "execution_count": 35,
   "id": "3c5efd12",
   "metadata": {},
   "outputs": [
    {
     "data": {
      "image/png": "[encoded data removed]",
      "text/plain": [
       "<Figure size 1200x600 with 8 Axes>"
      ]
     },
     "metadata": {},
     "output_type": "display_data"
    }
   ],
   "source": [
    "fig, ax = plt.subplots(nrows=2, ncols=4, figsize=(12,6))\n",
    "\n",
    "for i in range(8):\n",
    "\n",
    "    if i//4 < 1:\n",
    "        k = 0\n",
    "        j = i\n",
    "    else:\n",
    "        k = 1\n",
    "        j = np.mod(i, 4)\n",
    "    f = features_test[:, i]\n",
    "\n",
    "    for m, n in itertools.product([0], range(1,4)):\n",
    "    \n",
    "        ax[k, j].scatter(f, predictions2[:, m, n], s=1, label=f\"{m} -> {n}\")\n",
    "    \n",
    "    ax[k, j].set_xlabel(feature_names[i])\n",
    "    ax[k, j].legend(loc='upper right')\n",
    "    # ax[i, j].set_yscale('log')\n",
    "\n",
    "fig.tight_layout()"
   ]
  },
  {
   "cell_type": "code",
   "execution_count": 47,
   "id": "433509e2",
   "metadata": {},
   "outputs": [
    {
     "data": {
      "text/plain": [
       "<matplotlib.legend.Legend at 0x7c5454bcffa0>"
      ]
     },
     "execution_count": 47,
     "metadata": {},
     "output_type": "execute_result"
    },
    {
     "data": {
      "image/png": "[encoded data removed]",
      "text/plain": [
       "<Figure size 640x480 with 1 Axes>"
      ]
     },
     "metadata": {},
     "output_type": "display_data"
    }
   ],
   "source": [
    "fig, ax = plt.subplots()\n",
    "\n",
    "f = features_test[:, 0]\n",
    "\n",
    "for m, n in itertools.product([0], range(1,3)):\n",
    "    \n",
    "    ax.scatter(f/365, predictions2[:, m, n], s=1, label=f\"{m} -> {n}\")\n",
    "\n",
    "ax.set_xlabel(\"Generator Age [years]\")\n",
    "ax.legend(loc=(0.5, 0.6))"
   ]
  },
  {
   "cell_type": "code",
   "execution_count": 38,
   "id": "88144085",
   "metadata": {},
   "outputs": [
    {
     "data": {
      "text/plain": [
       "array([20.01369863, 20.01369863, 20.01369863, ..., 31.01917808,\n",
       "       31.01917808, 31.01917808], shape=(96392,))"
      ]
     },
     "execution_count": 38,
     "metadata": {},
     "output_type": "execute_result"
    }
   ],
   "source": [
    "f/365"
   ]
  },
  {
   "cell_type": "code",
   "execution_count": 17,
   "id": "7153b330",
   "metadata": {},
   "outputs": [
    {
     "name": "stdout",
     "output_type": "stream",
     "text": [
      "y3 0.0\n",
      "y5 0.0\n",
      "y4 0.0\n",
      "Pcp 0.0\n",
      "Tmin 0.0\n",
      "Tmax 0.0\n",
      "y6 0.0\n",
      "y8 0.0\n"
     ]
    }
   ],
   "source": [
    "v = predictions2[:, 1, 0]\n",
    "idx = ~np.isnan(v)\n",
    "v = v[idx]\n",
    "d = mylist[-1]\n",
    "\n",
    "for c in ['y3', 'y5', 'y4', 'Pcp', \"Tmin\", \"Tmax\", 'y6', 'y8']:\n",
    "\n",
    "    res = scipy.stats.pearsonr(d[c].values[idx], v)\n",
    "    print(c, res.pvalue)"
   ]
  },
  {
   "cell_type": "code",
   "execution_count": 14,
   "id": "5e6fad56",
   "metadata": {},
   "outputs": [
    {
     "ename": "",
     "evalue": "",
     "output_type": "error",
     "traceback": [
      "\u001b[1;31mThe Kernel crashed while executing code in the current cell or a previous cell. \n",
      "\u001b[1;31mPlease review the code in the cell(s) to identify a possible cause of the failure. \n",
      "\u001b[1;31mClick <a href='https://aka.ms/vscodeJupyterKernelCrash'>here</a> for more info. \n",
      "\u001b[1;31mView Jupyter <a href='command:jupyter.viewOutput'>log</a> for further details."
     ]
    }
   ],
   "source": [
    "v = predictions2[:, 1, 0]\n",
    "d = mylist[-1]\n",
    "\n",
    "for c in ['y3', 'y5', 'y4', 'Pcp', \"Tmin\", \"Tmax\", 'y6', 'y8']:\n",
    "    contingency_table = pd.crosstab(v, d[c])\n",
    "    try:\n",
    "        res = scipy.stats.chi2_contingency(contingency_table)\n",
    "    except:\n",
    "        continue\n",
    "    print(c, res.pvalue)"
   ]
  },
  {
   "cell_type": "code",
   "execution_count": 1,
   "id": "92949e1f",
   "metadata": {},
   "outputs": [
    {
     "ename": "NameError",
     "evalue": "name 'd' is not defined",
     "output_type": "error",
     "traceback": [
      "\u001b[0;31m---------------------------------------------------------------------------\u001b[0m",
      "\u001b[0;31mNameError\u001b[0m                                 Traceback (most recent call last)",
      "Cell \u001b[0;32mIn[1], line 1\u001b[0m\n\u001b[0;32m----> 1\u001b[0m \u001b[43md\u001b[49m[c]\n",
      "\u001b[0;31mNameError\u001b[0m: name 'd' is not defined"
     ]
    }
   ],
   "source": [
    "d[c]"
   ]
  },
  {
   "cell_type": "code",
   "execution_count": null,
   "id": "4c8eb036",
   "metadata": {},
   "outputs": [],
   "source": []
  }
 ],
 "metadata": {
  "kernelspec": {
   "display_name": "cxgrp",
   "language": "python",
   "name": "python3"
  },
  "language_info": {
   "codemirror_mode": {
    "name": "ipython",
    "version": 3
   },
   "file_extension": ".py",
   "mimetype": "text/x-python",
   "name": "python",
   "nbconvert_exporter": "python",
   "pygments_lexer": "ipython3",
   "version": "3.10.12"
  }
 },
 "nbformat": 4,
 "nbformat_minor": 5
}
