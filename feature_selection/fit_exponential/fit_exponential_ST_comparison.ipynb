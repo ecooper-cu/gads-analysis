{
 "cells": [
  {
   "cell_type": "code",
   "execution_count": 1,
   "metadata": {},
   "outputs": [],
   "source": [
    "using Printf, CSV, DataFrames, Statistics, Glob, Dates, Plots, TimeSeries, JSON, Distributions, ExpectationMaximization, StatsBase"
   ]
  },
  {
   "cell_type": "code",
   "execution_count": 2,
   "metadata": {},
   "outputs": [
    {
     "data": {
      "text/plain": [
       "133-element Vector{String}:\n",
       " \"/projects/emco4286/data/gads/tr\"\u001b[93m\u001b[1m ⋯ 31 bytes ⋯ \u001b[22m\u001b[39m\"ass_ST_rating_1_state_Texas.csv\"\n",
       " \"/projects/emco4286/data/gads/tr\"\u001b[93m\u001b[1m ⋯ 31 bytes ⋯ \u001b[22m\u001b[39m\"ass_ST_rating_2_state_Texas.csv\"\n",
       " \"/projects/emco4286/data/gads/tr\"\u001b[93m\u001b[1m ⋯ 31 bytes ⋯ \u001b[22m\u001b[39m\"ass_ST_rating_1_state_Texas.csv\"\n",
       " \"/projects/emco4286/data/gads/tr\"\u001b[93m\u001b[1m ⋯ 31 bytes ⋯ \u001b[22m\u001b[39m\"ass_ST_rating_2_state_Texas.csv\"\n",
       " \"/projects/emco4286/data/gads/tr\"\u001b[93m\u001b[1m ⋯ 31 bytes ⋯ \u001b[22m\u001b[39m\"ass_ST_rating_2_state_Texas.csv\"\n",
       " \"/projects/emco4286/data/gads/tr\"\u001b[93m\u001b[1m ⋯ 31 bytes ⋯ \u001b[22m\u001b[39m\"ass_ST_rating_2_state_Texas.csv\"\n",
       " \"/projects/emco4286/data/gads/tr\"\u001b[93m\u001b[1m ⋯ 31 bytes ⋯ \u001b[22m\u001b[39m\"ass_ST_rating_3_state_Texas.csv\"\n",
       " \"/projects/emco4286/data/gads/tr\"\u001b[93m\u001b[1m ⋯ 30 bytes ⋯ \u001b[22m\u001b[39m\"ass_ST_rating_3_state_Texas.csv\"\n",
       " \"/projects/emco4286/data/gads/tr\"\u001b[93m\u001b[1m ⋯ 31 bytes ⋯ \u001b[22m\u001b[39m\"ass_ST_rating_3_state_Texas.csv\"\n",
       " \"/projects/emco4286/data/gads/tr\"\u001b[93m\u001b[1m ⋯ 31 bytes ⋯ \u001b[22m\u001b[39m\"ass_ST_rating_2_state_Texas.csv\"\n",
       " ⋮\n",
       " \"/projects/emco4286/data/gads/tr\"\u001b[93m\u001b[1m ⋯ 30 bytes ⋯ \u001b[22m\u001b[39m\"ass_ST_rating_2_state_Texas.csv\"\n",
       " \"/projects/emco4286/data/gads/tr\"\u001b[93m\u001b[1m ⋯ 30 bytes ⋯ \u001b[22m\u001b[39m\"ass_ST_rating_2_state_Texas.csv\"\n",
       " \"/projects/emco4286/data/gads/tr\"\u001b[93m\u001b[1m ⋯ 30 bytes ⋯ \u001b[22m\u001b[39m\"ass_ST_rating_2_state_Texas.csv\"\n",
       " \"/projects/emco4286/data/gads/tr\"\u001b[93m\u001b[1m ⋯ 30 bytes ⋯ \u001b[22m\u001b[39m\"ass_ST_rating_3_state_Texas.csv\"\n",
       " \"/projects/emco4286/data/gads/tr\"\u001b[93m\u001b[1m ⋯ 30 bytes ⋯ \u001b[22m\u001b[39m\"ass_ST_rating_3_state_Texas.csv\"\n",
       " \"/projects/emco4286/data/gads/tr\"\u001b[93m\u001b[1m ⋯ 30 bytes ⋯ \u001b[22m\u001b[39m\"ass_ST_rating_3_state_Texas.csv\"\n",
       " \"/projects/emco4286/data/gads/tr\"\u001b[93m\u001b[1m ⋯ 30 bytes ⋯ \u001b[22m\u001b[39m\"ass_ST_rating_3_state_Texas.csv\"\n",
       " \"/projects/emco4286/data/gads/tr\"\u001b[93m\u001b[1m ⋯ 30 bytes ⋯ \u001b[22m\u001b[39m\"ass_ST_rating_3_state_Texas.csv\"\n",
       " \"/projects/emco4286/data/gads/tr\"\u001b[93m\u001b[1m ⋯ 30 bytes ⋯ \u001b[22m\u001b[39m\"ass_ST_rating_3_state_Texas.csv\""
      ]
     },
     "metadata": {},
     "output_type": "display_data"
    }
   ],
   "source": [
    "data_directory = joinpath(\"/projects\", \"emco4286\", \"data\", \"gads\", \"trajectories\", \"st\", \"long\")\n",
    "files = glob(\"gen_*_class_ST_rating_*_state_Texas.csv\", data_directory)"
   ]
  },
  {
   "cell_type": "code",
   "execution_count": 3,
   "metadata": {},
   "outputs": [
    {
     "name": "stdout",
     "output_type": "stream",
     "text": [
      "TTF FO: 1489.27 hours\n",
      "TTF PO: 4471.27 hours\n",
      "TTF MO: 11006.31 hours\n"
     ]
    }
   ],
   "source": [
    "ph = 8760\n",
    "\n",
    "foh = 380.401\n",
    "num_fo = 5.679\n",
    "\n",
    "poh = 234.932\n",
    "num_po = 1.859\n",
    "\n",
    "moh = 67.509\n",
    "num_mo = 0.74\n",
    "\n",
    "fo_ttf_rate = (ph - moh - poh)/num_fo\n",
    "po_ttf_rate = (ph - moh - foh)/num_po\n",
    "mo_ttf_rate = (ph - foh - poh)/num_mo\n",
    "\n",
    "@printf \"TTF FO: %0.2f hours\\n\" fo_ttf_rate\n",
    "@printf \"TTF PO: %0.2f hours\\n\" po_ttf_rate\n",
    "@printf \"TTF MO: %0.2f hours\\n\" mo_ttf_rate"
   ]
  },
  {
   "cell_type": "code",
   "execution_count": 4,
   "metadata": {},
   "outputs": [],
   "source": [
    "ttf_values_fo_vec = Any[]\n",
    "ttr_values_fo_vec = Any[]\n",
    "\n",
    "ttf_values_po_vec = Any[]\n",
    "ttr_values_po_vec = Any[]\n",
    "\n",
    "ttf_values_mo_vec = Any[]\n",
    "ttr_values_mo_vec = Any[]\n",
    "\n",
    "outage_types_vec = []\n",
    "\n",
    "for f in files\n",
    "\n",
    "    df = DataFrame(CSV.File(f))\n",
    "\n",
    "    if size(df)[1] < 1\n",
    "        continue\n",
    "    end\n",
    "\n",
    "    outage_start = findall(diff(df[!, :y1]) .== -1)\n",
    "    outage_end = findall(diff(df[!, :y1]) .== 1)\n",
    "\n",
    "    # If the plant data starts with an outage, don't count the end of the first outage because we won't know the actual TTR\n",
    "    if df[1, :y1] == 0\n",
    "        outage_end = outage_end[begin + 1: end]\n",
    "    end\n",
    "\n",
    "    if length(outage_end) < length(outage_start)\n",
    "        outage_start = outage_start[begin: end-1]\n",
    "    elseif length(outage_end) > length(outage_start)\n",
    "        outage_end = outage_end[begin + 1: end]\n",
    "    end\n",
    "\n",
    "    ttr_values = outage_end .- outage_start\n",
    "\n",
    "    if length(filter(x -> x < 0, ttr_values)) > 0\n",
    "        print(f)\n",
    "        break\n",
    "    end\n",
    "    \n",
    "    ttf_values_all_types = outage_start[begin + 1: end] - outage_end[begin:end - 1]\n",
    "\n",
    "    outage_types = df[outage_start .+ 1, :y2]\n",
    "    push!(outage_types_vec, outage_types)\n",
    "    \n",
    "    fo_idx = findall(outage_types .== 2)\n",
    "    os_fo = outage_start[fo_idx]\n",
    "    oe_fo = outage_end[fo_idx]\n",
    "\n",
    "    fo_idx_mod = filter(x -> x > 0, fo_idx .- 1)\n",
    "\n",
    "    ttf_values_fo = os_fo[begin + 1: end] - oe_fo[begin:end - 1] # ttf_values_all_types[fo_idx_mod]\n",
    "    ttr_values_fo = ttr_values[fo_idx]\n",
    "\n",
    "    push!(ttf_values_fo_vec, ttf_values_fo)\n",
    "    push!(ttr_values_fo_vec, ttr_values_fo)\n",
    "\n",
    "    po_idx = findall(outage_types .== 3)\n",
    "    os_po = outage_start[po_idx]\n",
    "    oe_po = outage_end[po_idx]\n",
    "\n",
    "    po_idx_mod = filter(x -> x > 0, po_idx .- 1)\n",
    "\n",
    "    ttf_values_po = os_po[begin + 1: end] - oe_po[begin:end - 1] # ttf_values_all_types[po_idx_mod]\n",
    "    ttr_values_po = ttr_values[po_idx]\n",
    "\n",
    "    push!(ttf_values_po_vec, ttf_values_po)\n",
    "    push!(ttr_values_po_vec, ttr_values_po)\n",
    "\n",
    "    mo_idx = findall(outage_types .== 4)\n",
    "    os_mo = outage_start[mo_idx]\n",
    "    oe_mo = outage_end[mo_idx]\n",
    "\n",
    "    mo_idx_mod = filter(x -> x > 0, mo_idx .- 1)\n",
    "\n",
    "    ttf_values_mo = os_mo[begin + 1: end] - oe_mo[begin:end - 1] # ttf_values_all_types[mo_idx_mod]\n",
    "    # ttf_values_mo = os_mo[begin + 1: end] - oe_mo[begin:end - 1]\n",
    "    ttr_values_mo = ttr_values[mo_idx]\n",
    "\n",
    "    push!(ttf_values_mo_vec, ttf_values_mo)\n",
    "    push!(ttr_values_mo_vec, ttr_values_mo)\n",
    "\n",
    "end"
   ]
  },
  {
   "cell_type": "code",
   "execution_count": 11,
   "metadata": {},
   "outputs": [
    {
     "name": "stdout",
     "output_type": "stream",
     "text": [
      "101.94, 414.01, 71.94"
     ]
    }
   ],
   "source": [
    "a = reduce(vcat, outage_types_vec)\n",
    "total = sum([count(==(element),a) for element in unique(a) ])\n",
    "my_dict = Dict([element => count(==(element),a) for element in unique(a)])\n",
    "\n",
    "fo_proportion = (my_dict[2.0])/total\n",
    "po_proportion = my_dict[3.0]/total\n",
    "mo_proportion = my_dict[4.0]/total\n",
    "\n",
    "ttr_values_fo_vec = reduce(vcat, ttr_values_fo_vec)\n",
    "ttr_values_po_vec = reduce(vcat, ttr_values_po_vec)\n",
    "ttr_values_mo_vec = reduce(vcat, ttr_values_mo_vec)\n",
    "\n",
    "ttr_f = fit_mle(Exponential(1/foh), ttr_values_fo_vec)\n",
    "ttr_p = fit_mle(Exponential(1/poh), ttr_values_po_vec)\n",
    "ttr_m = fit_mle(Exponential(1/moh), ttr_values_mo_vec)\n",
    "\n",
    "print(\"$(round(ttr_f.θ, digits=2)), $(round(ttr_p.θ, digits=2)), $(round(ttr_m.θ, digits=2))\")"
   ]
  },
  {
   "cell_type": "code",
   "execution_count": 12,
   "metadata": {},
   "outputs": [
    {
     "name": "stdout",
     "output_type": "stream",
     "text": [
      "361.35, 3531.88, 1931.39"
     ]
    }
   ],
   "source": [
    "ttf_values_fo_vec = reduce(vcat, ttf_values_fo_vec)\n",
    "ttf_values_po_vec = reduce(vcat, ttf_values_po_vec)\n",
    "ttf_values_mo_vec = reduce(vcat, ttf_values_mo_vec)\n",
    "\n",
    "ttf_f = fit_mle(Exponential(1/fo_ttf_rate), ttf_values_fo_vec)\n",
    "ttf_p = fit_mle(Exponential(1/po_ttf_rate), ttf_values_po_vec)\n",
    "ttf_m = fit_mle(Exponential(1/mo_ttf_rate), ttf_values_mo_vec)\n",
    "\n",
    "print(\"$(round(ttf_f.θ, digits=2)), $(round(ttf_p.θ, digits=2)), $(round(ttf_m.θ, digits=2))\")"
   ]
  },
  {
   "cell_type": "code",
   "execution_count": 13,
   "metadata": {},
   "outputs": [],
   "source": [
    "all_ttf = reduce(vcat, [ttf_values_fo_vec, ttf_values_po_vec, ttf_values_mo_vec])\n",
    "all_ttr = reduce(vcat, [ttr_values_fo_vec, ttr_values_po_vec, ttr_values_mo_vec]);"
   ]
  },
  {
   "cell_type": "code",
   "execution_count": 18,
   "metadata": {},
   "outputs": [
    {
     "data": {
      "text/plain": [
       "3-element Vector{Float64}:\n",
       " 0.77\n",
       " 0.151\n",
       " 0.079"
      ]
     },
     "metadata": {},
     "output_type": "display_data"
    }
   ],
   "source": [
    "round.([fo_proportion, mo_proportion, po_proportion], digits=3)"
   ]
  },
  {
   "cell_type": "code",
   "execution_count": 14,
   "metadata": {},
   "outputs": [
    {
     "data": {
      "text/plain": [
       "(MixtureModel{Exponential{Float64}}(K = 3)\n",
       "components[1] (prior = 0.4363): Exponential{Float64}(θ=17.19664372068341)\n",
       "components[2] (prior = 0.3662): Exponential{Float64}(θ=278.52501060189593)\n",
       "components[3] (prior = 0.1975): Exponential{Float64}(θ=3666.477697636383)\n",
       ", Dict{String, Any}(\"iterations\" => 68, \"converged\" => true, \"logtots\" => [-188929.39559468126, -186553.03751412153, -185112.0556106915, -184090.2991647176, -183344.14877544373, -182791.31115635694, -182381.00665383087, -182072.03598826725, -181830.11157041718, -181631.2398353454  …  -180545.54160211564, -180545.53609944117, -180545.53166807728, -180545.52809931143, -180545.52522513113, -180545.5229102764, -180545.52104584748, -180545.51954416174, -180545.5183346161, -180545.5173603571]))"
      ]
     },
     "metadata": {},
     "output_type": "display_data"
    }
   ],
   "source": [
    "mix_ttf_guess = MixtureModel([ttf_f, ttf_m, ttf_p], [fo_proportion, mo_proportion, po_proportion])\n",
    "mix_ttf_mle, _ = fit_mle(mix_ttf_guess, all_ttf, infos = true)"
   ]
  },
  {
   "cell_type": "code",
   "execution_count": 16,
   "metadata": {},
   "outputs": [
    {
     "data": {
      "text/plain": [
       "\"/home/emco4286/gads-analysis/visualization/ttf_st_mixed_exp_fit_guess_vs_mle.png\""
      ]
     },
     "metadata": {},
     "output_type": "display_data"
    }
   ],
   "source": [
    "mybins = 0:10:maximum(all_ttf)\n",
    "histogram(all_ttf, bins=mybins, linewidth=0.05, normalize=:pdf, xlims=(0, 2000), labels=\"Original data\", xlabel=\"Time to failure [hours]\", ylabel=\"Probability density function\", title=\"ST plant outages\")\n",
    "plot!(mybins, pdf(mix_ttf_guess, mybins), label=\"Guess fit\", linewidth=3)\n",
    "plot!(mybins, pdf(mix_ttf_mle, mybins), label=\"MLE fit\", linewidth=3)\n",
    "savefig(\"/home/emco4286/gads-analysis/visualization/ttf_st_mixed_exp_fit_guess_vs_mle.png\")"
   ]
  },
  {
   "cell_type": "code",
   "execution_count": 19,
   "metadata": {},
   "outputs": [
    {
     "data": {
      "text/plain": [
       "(MixtureModel{Exponential{Float64}}(K = 3)\n",
       "components[1] (prior = 0.2397): Exponential{Float64}(θ=93.94496884336311)\n",
       "components[2] (prior = 0.6886): Exponential{Float64}(θ=10.200480238868327)\n",
       "components[3] (prior = 0.0717): Exponential{Float64}(θ=1289.6976015064558)\n",
       ", Dict{String, Any}(\"iterations\" => 76, \"converged\" => true, \"logtots\" => [-134791.83239129005, -132071.88834817347, -131085.46899467634, -130702.60494136397, -130553.34730444002, -130475.57431693765, -130415.7733676716, -130358.89347140436, -130300.84821683171, -130240.55963119317  …  -129260.11347369009, -129260.10885818175, -129260.10511142598, -129260.10206981272, -129260.09960056769, -129260.09759593464, -129260.0959684567, -129260.09464714909, -129260.09357439406, -129260.09270342193]))"
      ]
     },
     "metadata": {},
     "output_type": "display_data"
    }
   ],
   "source": [
    "mix_ttr_guess = MixtureModel([ttr_f, ttr_m, ttr_p], [fo_proportion, mo_proportion, po_proportion])\n",
    "mix_ttr_mle, _ = fit_mle(mix_ttr_guess, all_ttr, infos = true)"
   ]
  },
  {
   "cell_type": "code",
   "execution_count": 21,
   "metadata": {},
   "outputs": [
    {
     "data": {
      "text/plain": [
       "\"/home/emco4286/gads-analysis/visualization/ttr_st_mixed_exp_fit_guess_vs_mle.png\""
      ]
     },
     "metadata": {},
     "output_type": "display_data"
    }
   ],
   "source": [
    "mybins = 0:5:maximum(all_ttr)\n",
    "histogram(all_ttr, bins=mybins, linewidth=0.05, normalize=:pdf, labels=\"Original data\", xlims=(0, 500), xlabel=\"Time to repair [hours]\", ylabel=\"Probability density function\", title=\"ST plant outages\")\n",
    "plot!(mybins, pdf(mix_ttr_guess, mybins), label=\"Guess fit\", linewidth=3)\n",
    "plot!(mybins, pdf(mix_ttr_mle, mybins), label=\"MLE fit\", linewidth=3)\n",
    "savefig(\"/home/emco4286/gads-analysis/visualization/ttr_st_mixed_exp_fit_guess_vs_mle.png\")"
   ]
  },
  {
   "cell_type": "code",
   "execution_count": 17,
   "metadata": {},
   "outputs": [],
   "source": [
    "ttr_dict = Dict(fieldnames(MixtureModel) .=> getfield.(Ref(mix_ttr_mle), fieldnames(MixtureModel)))\n",
    "ttf_dict = Dict(fieldnames(MixtureModel) .=> getfield.(Ref(mix_ttf_mle), fieldnames(MixtureModel)))\n",
    "ct_dict = Dict(\"ttf\" => ttf_dict, \"ttr\" => ttr_dict)\n",
    "\n",
    "open(\"/home/emco4286/gads-analysis/exp_models/st.json\",\"w\") do f \n",
    "    JSON.print(f, ct_dict) \n",
    "end\n"
   ]
  },
  {
   "cell_type": "code",
   "execution_count": null,
   "metadata": {},
   "outputs": [],
   "source": []
  }
 ],
 "metadata": {
  "kernelspec": {
   "display_name": "Julia 1.10.2",
   "language": "julia",
   "name": "julia-1.10"
  },
  "language_info": {
   "file_extension": ".jl",
   "mimetype": "application/julia",
   "name": "julia",
   "version": "1.10.2"
  },
  "orig_nbformat": 4
 },
 "nbformat": 4,
 "nbformat_minor": 2
}
