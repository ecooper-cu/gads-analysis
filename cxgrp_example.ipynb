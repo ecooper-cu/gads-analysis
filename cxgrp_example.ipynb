{
 "cells": [
  {
   "cell_type": "code",
   "execution_count": 2,
   "id": "44f99284",
   "metadata": {},
   "outputs": [],
   "source": [
    "import numpy as np\n",
    "import matplotlib.pyplot as plt\n",
    "import pandas as pd\n",
    "\n",
    "import sys\n",
    "import os\n",
    "import pathlib\n",
    "package_path = os.path.join(pathlib.Path.home(), \"mkvchain\")\n",
    "sys.path.append(package_path)\n",
    "from model import FeatureDependentMarkovChain\n",
    "\n"
   ]
  },
  {
   "cell_type": "code",
   "execution_count": null,
   "id": "03c0582b",
   "metadata": {},
   "outputs": [
    {
     "name": "stdout",
     "output_type": "stream",
     "text": [
      "[[0.26315817 0.26315817 0.47368365]\n",
      " [0.2142862  0.42856698 0.35714683]\n",
      " [0.21052609 0.05263121 0.73684271]]\n",
      "[[0.31347266 0.24261601 0.44391133]\n",
      " [0.24191664 0.44287466 0.3152087 ]\n",
      " [0.21815988 0.07232961 0.70951052]]\n",
      "[[0.4293069  0.18568604 0.38500706]\n",
      " [0.2467875  0.29833636 0.45487613]\n",
      " [0.16333163 0.14953091 0.68713746]]\n",
      "[[0.2777727  0.4444546  0.2777727 ]\n",
      " [0.36363743 0.09091343 0.54544914]\n",
      " [0.19355024 0.58064117 0.22580859]]\n",
      "[[0.26286135 0.34740501 0.38973364]\n",
      " [0.35681227 0.08984297 0.55334476]\n",
      " [0.18589915 0.56454133 0.24955952]]\n",
      "[[0.30874375 0.31028614 0.38097011]\n",
      " [0.38029611 0.08458723 0.53511666]\n",
      " [0.17232239 0.44244138 0.38523623]]\n",
      "[[0.47058768 0.08823505 0.44117727]\n",
      " [0.57895123 0.15789324 0.26315553]\n",
      " [0.27777699 0.44444602 0.27777699]]\n",
      "[[0.5637098  0.09539879 0.34089141]\n",
      " [0.4794199  0.22516169 0.29541841]\n",
      " [0.26446733 0.47573726 0.25979541]]\n",
      "[[0.4612996  0.27852497 0.26017543]\n",
      " [0.41750451 0.28479259 0.2977029 ]\n",
      " [0.30476997 0.45001572 0.24521432]]\n",
      "[[0.45833071 0.20833322 0.33333608]\n",
      " [0.14814854 0.48148244 0.37036902]\n",
      " [0.19999995 0.70000149 0.09999856]]\n",
      "[[0.48144066 0.18764614 0.33091321]\n",
      " [0.18993733 0.45614255 0.35392011]\n",
      " [0.24170149 0.63285733 0.12544118]]\n",
      "[[0.37115708 0.25057265 0.37827027]\n",
      " [0.20322201 0.48902128 0.30775671]\n",
      " [0.22206185 0.5690583  0.20887986]]\n",
      "[[3.33333393e-01 3.61111074e-01 3.05555533e-01]\n",
      " [3.04347827e-01 5.21739113e-01 1.73913059e-01]\n",
      " [5.83333279e-01 4.16666713e-01 7.59265346e-09]]\n",
      "[[3.69711070e-01 3.17001327e-01 3.13287603e-01]\n",
      " [3.72349660e-01 4.56768506e-01 1.70881834e-01]\n",
      " [6.77172002e-01 3.22827971e-01 2.65820128e-08]]\n",
      "[[0.27631916 0.4588384  0.26484243]\n",
      " [0.33533574 0.43864014 0.22602412]\n",
      " [0.48540442 0.40315115 0.11144443]]\n",
      "[[0.54544946 0.18182457 0.27272598]\n",
      " [0.17647247 0.17647247 0.64705506]\n",
      " [0.5714219  0.14285853 0.28571958]]\n",
      "[[0.51969244 0.2574904  0.22281716]\n",
      " [0.17580742 0.20621581 0.61797677]\n",
      " [0.60952917 0.14299854 0.24747229]]\n",
      "[[0.55580587 0.25546487 0.18872927]\n",
      " [0.33186919 0.13117191 0.5369589 ]\n",
      " [0.51676171 0.15475519 0.32848309]]\n",
      "[[0.42857442 0.28571279 0.28571279]\n",
      " [0.53845488 0.30770143 0.15384368]\n",
      " [0.4117824  0.35291455 0.23530306]]\n",
      "[[0.39016971 0.29293598 0.31689432]\n",
      " [0.50522267 0.33198437 0.16279296]\n",
      " [0.3628225  0.38930095 0.24787655]]\n",
      "[[0.37193967 0.36738296 0.26067737]\n",
      " [0.45469452 0.39309375 0.15221173]\n",
      " [0.33320744 0.41664699 0.25014558]]\n",
      "[[0.58332537 0.33333259 0.08334204]\n",
      " [0.19444041 0.41666711 0.38889248]\n",
      " [0.34782146 0.47826464 0.1739139 ]]\n",
      "[[0.39439243 0.48849835 0.11710922]\n",
      " [0.13400529 0.44574357 0.42025113]\n",
      " [0.25333582 0.5554126  0.19125158]]\n",
      "[[0.30238417 0.38850449 0.30911134]\n",
      " [0.32093539 0.39696143 0.28210318]\n",
      " [0.25904387 0.46801977 0.27293637]]\n",
      "[[0.4761905  0.23810142 0.28570807]\n",
      " [0.16666665 0.56666639 0.26666696]\n",
      " [0.40000292 0.24999193 0.35000515]]\n",
      "[[0.53520952 0.18185949 0.28293099]\n",
      " [0.11653655 0.65082287 0.23264058]\n",
      " [0.34843211 0.29270429 0.35886361]]\n",
      "[[0.48230202 0.2696379  0.24806009]\n",
      " [0.2610704  0.48004999 0.25887961]\n",
      " [0.40030674 0.27478684 0.32490641]]\n",
      "[[0.42856726 0.2500013  0.32143144]\n",
      " [0.25000903 0.16666839 0.58332259]\n",
      " [0.51613999 0.09676992 0.38709009]]\n",
      "[[0.37691358 0.2756223  0.34746412]\n",
      " [0.22203    0.11948309 0.6584869 ]\n",
      " [0.54774021 0.0958472  0.35641259]]\n",
      "[[0.39074142 0.21999216 0.38926642]\n",
      " [0.21895411 0.21015941 0.57088648]\n",
      " [0.50057224 0.21329628 0.28613147]]\n",
      "-1.6539706132511185 4.610836913366313 2.1467499609856135 2.4918665981352888\n"
     ]
    },
    {
     "data": {
      "image/png": "[encoded data removed]",
      "text/plain": [
       "<Figure size 640x480 with 1 Axes>"
      ]
     },
     "metadata": {},
     "output_type": "display_data"
    }
   ],
   "source": [
    "x = []\n",
    "for _ in range(10):\n",
    "    T = 200\n",
    "    n = 3\n",
    "    P = np.random.rand(n, n) + .1\n",
    "    P /= P.sum(axis=1)[:,None]\n",
    "\n",
    "    # Creating 200-element state vector\n",
    "    s = 0\n",
    "    states = [s]\n",
    "    for t in range(T-1):\n",
    "        s = np.random.choice(np.arange(n), p=P[s, :])\n",
    "        states.append(s)\n",
    "\n",
    "    # Adding \"missing\" data\n",
    "    i = 5\n",
    "    while i < T-3:\n",
    "        states[i] = np.nan\n",
    "        i += 3\n",
    "\n",
    "    s = 0\n",
    "    states_test = [s]\n",
    "    for t in range(T-1):\n",
    "        s = np.random.choice(np.arange(n), p=P[s, :])\n",
    "        states_test.append(s)\n",
    "\n",
    "    model1 = FeatureDependentMarkovChain(n, n_iter=1) # 3 states\n",
    "    model1.fit(states, np.zeros((T, 1)), [T], verbose=False) # states, features, lengths\n",
    "    Phat1 = model1.predict(np.zeros((1, 1)))[0]\n",
    "    model2 = FeatureDependentMarkovChain(n, n_iter=20)\n",
    "    model2.fit(states, np.zeros((T, 1)), [T], verbose=False)\n",
    "    Phat2 = model2.predict(np.zeros((1, 1)))[0]\n",
    "    x.append(model2.score(states_test, np.zeros((T, 1)), [T]) - model1.score(states_test, np.zeros((T, 1)), [T]))\n",
    "\n",
    "    print(Phat1)\n",
    "    print(Phat2)\n",
    "    print(P)\n",
    "print(np.min(x), np.max(x), np.mean(x), np.median(x))\n",
    "plt.hist(x, bins=50)\n",
    "plt.show()"
   ]
  },
  {
   "cell_type": "code",
   "execution_count": 14,
   "id": "11a96436",
   "metadata": {},
   "outputs": [
    {
     "data": {
      "text/plain": [
       "(200, 1)"
      ]
     },
     "execution_count": 14,
     "metadata": {},
     "output_type": "execute_result"
    }
   ],
   "source": [
    "np.zeros((T, 1)).shape"
   ]
  },
  {
   "cell_type": "code",
   "execution_count": 15,
   "id": "b323d322",
   "metadata": {},
   "outputs": [
    {
     "data": {
      "text/plain": [
       "[200]"
      ]
     },
     "execution_count": 15,
     "metadata": {},
     "output_type": "execute_result"
    }
   ],
   "source": [
    "[T]"
   ]
  },
  {
   "cell_type": "code",
   "execution_count": null,
   "id": "01182adb",
   "metadata": {},
   "outputs": [],
   "source": []
  }
 ],
 "metadata": {
  "kernelspec": {
   "display_name": "cxgrp",
   "language": "python",
   "name": "cxgrp"
  },
  "language_info": {
   "codemirror_mode": {
    "name": "ipython",
    "version": 3
   },
   "file_extension": ".py",
   "mimetype": "text/x-python",
   "name": "python",
   "nbconvert_exporter": "python",
   "pygments_lexer": "ipython3",
   "version": "3.10.12"
  }
 },
 "nbformat": 4,
 "nbformat_minor": 5
}
