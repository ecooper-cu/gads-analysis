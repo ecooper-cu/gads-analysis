{
 "cells": [
  {
   "cell_type": "code",
   "execution_count": 1,
   "id": "834d296e",
   "metadata": {},
   "outputs": [],
   "source": [
    "using Printf, CSV, DataFrames, Statistics, Glob, XLSX, Dates, Plots, TimeSeries, JSON"
   ]
  },
  {
   "cell_type": "code",
   "execution_count": 2,
   "id": "6ffa53fd",
   "metadata": {},
   "outputs": [
    {
     "data": {
      "text/plain": [
       "4-element Vector{String}:\n",
       " \"/home/emco4286/research/GADS_Pr\"\u001b[93m\u001b[1m ⋯ 40 bytes ⋯ \u001b[22m\u001b[39m\"_3_rating_3_state_Texas_raw.csv\"\n",
       " \"/home/emco4286/research/GADS_Pr\"\u001b[93m\u001b[1m ⋯ 40 bytes ⋯ \u001b[22m\u001b[39m\"_3_rating_3_state_Texas_raw.csv\"\n",
       " \"/home/emco4286/research/GADS_Pr\"\u001b[93m\u001b[1m ⋯ 40 bytes ⋯ \u001b[22m\u001b[39m\"_2_rating_3_state_Texas_raw.csv\"\n",
       " \"/home/emco4286/research/GADS_Pr\"\u001b[93m\u001b[1m ⋯ 40 bytes ⋯ \u001b[22m\u001b[39m\"_2_rating_3_state_Texas_raw.csv\""
      ]
     },
     "metadata": {},
     "output_type": "display_data"
    }
   ],
   "source": [
    "directory = joinpath(homedir(), \"research\", \"GADS_Processed\", \"raw_data\")\n",
    "files = glob(\"gen_*_type_200_dtgrp_*_rating_*_state_Texas_raw.csv\", directory)"
   ]
  },
  {
   "cell_type": "code",
   "execution_count": null,
   "id": "12b9b3e8",
   "metadata": {},
   "outputs": [],
   "source": [
    "# dtgrp = 2 -> South Texas Project, 1280 MW, online ~1989, COAST LOAD ZONE\n",
    "# dtgrp = 3 -> Commanche Peak, 1210 MW, online ~1993, NORTH CENTRAL LOAD ZONE"
   ]
  },
  {
   "cell_type": "code",
   "execution_count": 3,
   "id": "57a92bcf",
   "metadata": {},
   "outputs": [],
   "source": [
    "x = Dict()\n",
    "i = 1\n",
    "mydict = Dict([(\"A\", 1), (\"RS\", 1), (\"NC\", 1),  (\"IR\", 1), (\"MB\", 1), (\"F\", 2), (\"U1\", 2), (\"U2\" , 2), (\"U3\" , 2), (\"D1\", 2), (\"D2\", 2), (\"D3\", 2), (\"SF\", 2), (\"PO\", 3), (\"PE\", 3), (\"PD\", 3), (\"DP\", 3), (\"MO\", 4), (\"ME\", 4), (\"DM\", 4), (\"D4\", 4), (\"RU\", 5), (\"DR\", 5), (\"TC\", 5)])\n",
    "# agedict = Dict([(1, DateTime(1980, 1, 1)), (2, DateTime(1985, 1, 1)), (3, DateTime(1995, 1, 1)), (4, DateTime(2005, 1, 1)), (5, DateTime(2015, 1, 1)), (6, DateTime(2020, 1, 1))])\n",
    "agedict = Dict([(2, DateTime(1989, 1, 1)), (3, DateTime(1993, 1, 1))])\n",
    "types_dict = Dict(\"EventStartDT\" => DateTime, \"EventEndDT\" => DateTime)\n",
    "rating_dict = Dict([(1, 50), (2, 150), (3, 200)])\n",
    "weather_zone_dict = Dict([(2, \"COAST\"), (3, \"NORTH_C\")]);"
   ]
  },
  {
   "cell_type": "code",
   "execution_count": 4,
   "id": "d3011672",
   "metadata": {},
   "outputs": [
    {
     "data": {
      "text/html": [
       "<div><div style = \"float: left;\"><span>96408×3 DataFrame</span></div><div style = \"float: right;\"><span style = \"font-style: italic;\">96383 rows omitted</span></div><div style = \"clear: both;\"></div></div><div class = \"data-frame\" style = \"overflow-x: scroll;\"><table class = \"data-frame\" style = \"margin-bottom: 6px;\"><thead><tr class = \"header\"><th class = \"rowNumber\" style = \"font-weight: bold; text-align: right;\">Row</th><th style = \"text-align: left;\">x</th><th style = \"text-align: left;\">COAST</th><th style = \"text-align: left;\">NORTH_C</th></tr><tr class = \"subheader headerLastRow\"><th class = \"rowNumber\" style = \"font-weight: bold; text-align: right;\"></th><th title = \"DateTime\" style = \"text-align: left;\">DateTime</th><th title = \"Float64\" style = \"text-align: left;\">Float64</th><th title = \"Float64\" style = \"text-align: left;\">Float64</th></tr></thead><tbody><tr><td class = \"rowNumber\" style = \"font-weight: bold; text-align: right;\">1</td><td style = \"text-align: left;\">2013-01-01T01:00:00</td><td style = \"text-align: right;\">7607.19</td><td style = \"text-align: right;\">10370.3</td></tr><tr><td class = \"rowNumber\" style = \"font-weight: bold; text-align: right;\">2</td><td style = \"text-align: left;\">2013-01-01T02:00:00</td><td style = \"text-align: right;\">7389.27</td><td style = \"text-align: right;\">10153.9</td></tr><tr><td class = \"rowNumber\" style = \"font-weight: bold; text-align: right;\">3</td><td style = \"text-align: left;\">2013-01-01T03:00:00</td><td style = \"text-align: right;\">7179.75</td><td style = \"text-align: right;\">9989.24</td></tr><tr><td class = \"rowNumber\" style = \"font-weight: bold; text-align: right;\">4</td><td style = \"text-align: left;\">2013-01-01T04:00:00</td><td style = \"text-align: right;\">7039.69</td><td style = \"text-align: right;\">9947.86</td></tr><tr><td class = \"rowNumber\" style = \"font-weight: bold; text-align: right;\">5</td><td style = \"text-align: left;\">2013-01-01T05:00:00</td><td style = \"text-align: right;\">6991.41</td><td style = \"text-align: right;\">10097.4</td></tr><tr><td class = \"rowNumber\" style = \"font-weight: bold; text-align: right;\">6</td><td style = \"text-align: left;\">2013-01-01T06:00:00</td><td style = \"text-align: right;\">7050.73</td><td style = \"text-align: right;\">10472.1</td></tr><tr><td class = \"rowNumber\" style = \"font-weight: bold; text-align: right;\">7</td><td style = \"text-align: left;\">2013-01-01T07:00:00</td><td style = \"text-align: right;\">7177.79</td><td style = \"text-align: right;\">10891.2</td></tr><tr><td class = \"rowNumber\" style = \"font-weight: bold; text-align: right;\">8</td><td style = \"text-align: left;\">2013-01-01T08:00:00</td><td style = \"text-align: right;\">7223.21</td><td style = \"text-align: right;\">11190.2</td></tr><tr><td class = \"rowNumber\" style = \"font-weight: bold; text-align: right;\">9</td><td style = \"text-align: left;\">2013-01-01T09:00:00</td><td style = \"text-align: right;\">7314.25</td><td style = \"text-align: right;\">11627.1</td></tr><tr><td class = \"rowNumber\" style = \"font-weight: bold; text-align: right;\">10</td><td style = \"text-align: left;\">2013-01-01T10:00:00</td><td style = \"text-align: right;\">7676.35</td><td style = \"text-align: right;\">12310.0</td></tr><tr><td class = \"rowNumber\" style = \"font-weight: bold; text-align: right;\">11</td><td style = \"text-align: left;\">2013-01-01T11:00:00</td><td style = \"text-align: right;\">8060.5</td><td style = \"text-align: right;\">12934.1</td></tr><tr><td class = \"rowNumber\" style = \"font-weight: bold; text-align: right;\">12</td><td style = \"text-align: left;\">2013-01-01T12:00:00</td><td style = \"text-align: right;\">8392.92</td><td style = \"text-align: right;\">13200.7</td></tr><tr><td class = \"rowNumber\" style = \"font-weight: bold; text-align: right;\">13</td><td style = \"text-align: left;\">2013-01-01T13:00:00</td><td style = \"text-align: right;\">8509.46</td><td style = \"text-align: right;\">13062.5</td></tr><tr><td style = \"text-align: right;\">&vellip;</td><td style = \"text-align: right;\">&vellip;</td><td style = \"text-align: right;\">&vellip;</td><td style = \"text-align: right;\">&vellip;</td></tr><tr><td class = \"rowNumber\" style = \"font-weight: bold; text-align: right;\">96397</td><td style = \"text-align: left;\">2023-12-31T13:00:00</td><td style = \"text-align: right;\">11370.1</td><td style = \"text-align: right;\">11850.6</td></tr><tr><td class = \"rowNumber\" style = \"font-weight: bold; text-align: right;\">96398</td><td style = \"text-align: left;\">2023-12-31T14:00:00</td><td style = \"text-align: right;\">11344.3</td><td style = \"text-align: right;\">11468.0</td></tr><tr><td class = \"rowNumber\" style = \"font-weight: bold; text-align: right;\">96399</td><td style = \"text-align: left;\">2023-12-31T15:00:00</td><td style = \"text-align: right;\">11381.1</td><td style = \"text-align: right;\">11185.8</td></tr><tr><td class = \"rowNumber\" style = \"font-weight: bold; text-align: right;\">96400</td><td style = \"text-align: left;\">2023-12-31T16:00:00</td><td style = \"text-align: right;\">11475.2</td><td style = \"text-align: right;\">11209.3</td></tr><tr><td class = \"rowNumber\" style = \"font-weight: bold; text-align: right;\">96401</td><td style = \"text-align: left;\">2023-12-31T17:00:00</td><td style = \"text-align: right;\">11567.0</td><td style = \"text-align: right;\">11377.9</td></tr><tr><td class = \"rowNumber\" style = \"font-weight: bold; text-align: right;\">96402</td><td style = \"text-align: left;\">2023-12-31T18:00:00</td><td style = \"text-align: right;\">11943.5</td><td style = \"text-align: right;\">12082.3</td></tr><tr><td class = \"rowNumber\" style = \"font-weight: bold; text-align: right;\">96403</td><td style = \"text-align: left;\">2023-12-31T19:00:00</td><td style = \"text-align: right;\">12189.5</td><td style = \"text-align: right;\">12630.9</td></tr><tr><td class = \"rowNumber\" style = \"font-weight: bold; text-align: right;\">96404</td><td style = \"text-align: left;\">2023-12-31T20:00:00</td><td style = \"text-align: right;\">11918.0</td><td style = \"text-align: right;\">12423.9</td></tr><tr><td class = \"rowNumber\" style = \"font-weight: bold; text-align: right;\">96405</td><td style = \"text-align: left;\">2023-12-31T21:00:00</td><td style = \"text-align: right;\">11634.4</td><td style = \"text-align: right;\">12226.1</td></tr><tr><td class = \"rowNumber\" style = \"font-weight: bold; text-align: right;\">96406</td><td style = \"text-align: left;\">2023-12-31T22:00:00</td><td style = \"text-align: right;\">11360.1</td><td style = \"text-align: right;\">12039.3</td></tr><tr><td class = \"rowNumber\" style = \"font-weight: bold; text-align: right;\">96407</td><td style = \"text-align: left;\">2023-12-31T23:00:00</td><td style = \"text-align: right;\">11096.8</td><td style = \"text-align: right;\">11844.8</td></tr><tr><td class = \"rowNumber\" style = \"font-weight: bold; text-align: right;\">96408</td><td style = \"text-align: left;\">2024-01-01T00:00:00</td><td style = \"text-align: right;\">10819.4</td><td style = \"text-align: right;\">11829.8</td></tr></tbody></table></div>"
      ],
      "text/latex": [
       "\\begin{tabular}{r|ccc}\n",
       "\t& x & COAST & NORTH\\_C\\\\\n",
       "\t\\hline\n",
       "\t& DateTime & Float64 & Float64\\\\\n",
       "\t\\hline\n",
       "\t1 & 2013-01-01T01:00:00 & 7607.19 & 10370.3 \\\\\n",
       "\t2 & 2013-01-01T02:00:00 & 7389.27 & 10153.9 \\\\\n",
       "\t3 & 2013-01-01T03:00:00 & 7179.75 & 9989.24 \\\\\n",
       "\t4 & 2013-01-01T04:00:00 & 7039.69 & 9947.86 \\\\\n",
       "\t5 & 2013-01-01T05:00:00 & 6991.41 & 10097.4 \\\\\n",
       "\t6 & 2013-01-01T06:00:00 & 7050.73 & 10472.1 \\\\\n",
       "\t7 & 2013-01-01T07:00:00 & 7177.79 & 10891.2 \\\\\n",
       "\t8 & 2013-01-01T08:00:00 & 7223.21 & 11190.2 \\\\\n",
       "\t9 & 2013-01-01T09:00:00 & 7314.25 & 11627.1 \\\\\n",
       "\t10 & 2013-01-01T10:00:00 & 7676.35 & 12310.0 \\\\\n",
       "\t11 & 2013-01-01T11:00:00 & 8060.5 & 12934.1 \\\\\n",
       "\t12 & 2013-01-01T12:00:00 & 8392.92 & 13200.7 \\\\\n",
       "\t13 & 2013-01-01T13:00:00 & 8509.46 & 13062.5 \\\\\n",
       "\t14 & 2013-01-01T14:00:00 & 8498.67 & 12851.5 \\\\\n",
       "\t15 & 2013-01-01T15:00:00 & 8467.2 & 12725.0 \\\\\n",
       "\t16 & 2013-01-01T16:00:00 & 8432.13 & 12610.8 \\\\\n",
       "\t17 & 2013-01-01T17:00:00 & 8560.67 & 13028.4 \\\\\n",
       "\t18 & 2013-01-01T18:00:00 & 9095.08 & 14090.4 \\\\\n",
       "\t19 & 2013-01-01T19:00:00 & 9540.83 & 14739.4 \\\\\n",
       "\t20 & 2013-01-01T20:00:00 & 9560.57 & 14705.9 \\\\\n",
       "\t21 & 2013-01-01T21:00:00 & 9505.85 & 14586.6 \\\\\n",
       "\t22 & 2013-01-01T22:00:00 & 9329.4 & 14241.8 \\\\\n",
       "\t23 & 2013-01-01T23:00:00 & 8959.45 & 13608.6 \\\\\n",
       "\t24 & 2013-01-02T00:00:00 & 8508.35 & 12948.3 \\\\\n",
       "\t$\\dots$ & $\\dots$ & $\\dots$ & $\\dots$ \\\\\n",
       "\\end{tabular}\n"
      ],
      "text/plain": [
       "\u001b[1m96408×3 DataFrame\u001b[0m\n",
       "\u001b[1m   Row \u001b[0m│\u001b[1m x                   \u001b[0m\u001b[1m COAST    \u001b[0m\u001b[1m NORTH_C  \u001b[0m\n",
       "       │\u001b[90m DateTime            \u001b[0m\u001b[90m Float64  \u001b[0m\u001b[90m Float64  \u001b[0m\n",
       "───────┼─────────────────────────────────────────\n",
       "     1 │ 2013-01-01T01:00:00   7607.19  10370.3\n",
       "     2 │ 2013-01-01T02:00:00   7389.27  10153.9\n",
       "     3 │ 2013-01-01T03:00:00   7179.75   9989.24\n",
       "     4 │ 2013-01-01T04:00:00   7039.69   9947.86\n",
       "     5 │ 2013-01-01T05:00:00   6991.41  10097.4\n",
       "     6 │ 2013-01-01T06:00:00   7050.73  10472.1\n",
       "     7 │ 2013-01-01T07:00:00   7177.79  10891.2\n",
       "     8 │ 2013-01-01T08:00:00   7223.21  11190.2\n",
       "   ⋮   │          ⋮              ⋮         ⋮\n",
       " 96402 │ 2023-12-31T18:00:00  11943.5   12082.3\n",
       " 96403 │ 2023-12-31T19:00:00  12189.5   12630.9\n",
       " 96404 │ 2023-12-31T20:00:00  11918.0   12423.9\n",
       " 96405 │ 2023-12-31T21:00:00  11634.4   12226.1\n",
       " 96406 │ 2023-12-31T22:00:00  11360.1   12039.3\n",
       " 96407 │ 2023-12-31T23:00:00  11096.8   11844.8\n",
       " 96408 │ 2024-01-01T00:00:00  10819.4   11829.8\n",
       "\u001b[36m                               96393 rows omitted\u001b[0m"
      ]
     },
     "metadata": {},
     "output_type": "display_data"
    }
   ],
   "source": [
    "fname = \"ercot_hourly_load_2013_2023.csv\"\n",
    "path = joinpath(homedir(), \"research\", \"ERCOT_LOAD_DATA\", \"processed\", fname)\n",
    "load_data = DataFrame(CSV.File(path))\n",
    "DataFrames.rename!(load_data, :Hour_End => \"x\")"
   ]
  },
  {
   "cell_type": "code",
   "execution_count": 5,
   "id": "476b6a3a",
   "metadata": {},
   "outputs": [],
   "source": [
    "start_date_g = DateTime(2013,1,1,6)\n",
    "end_date_g = DateTime(2024,1,1,6)\n",
    "date_range_g = [k for k in start_date_g:Hour(1):end_date_g]\n",
    "\n",
    "myrange_g = [k for k in 0:1:round(end_date_g - start_date_g, Hour).value]\n",
    "\n",
    "for f in files\n",
    "\n",
    "    mymatch = match(r\"/home/emco4286/research/GADS_Processed/raw_data/gen_(\\d+)_type_(\\d+)_dtgrp_(\\d+)_rating_(\\d+)_state_Texas_raw.csv\", f)\n",
    "    id = parse(Int32, mymatch[1])\n",
    "    type = parse(Int32, mymatch[2])\n",
    "    dtgrp = parse(Int32, mymatch[3])\n",
    "    rating = parse(Int32, mymatch[4])\n",
    "\n",
    "    df = DataFrame(CSV.File(f, types=types_dict))\n",
    "    df = df[typeof.(df.EventEndDT) .== DateTime, :] # for missing DateTime values\n",
    "    df = df[df.EventTypeCode .!= \"RS\", :]\n",
    "    sort!(df, :EventStartDT)\n",
    "    transform!(df, :EventTypeCode => ByRow(x -> mydict[x]), :EventTypeCode)\n",
    "\n",
    "    # Generator-specific characteristics\n",
    "\n",
    "    load = weather_zone_dict[df[1, :CommercialDT_grp]]\n",
    "    birthdate = agedict[df[1, :CommercialDT_grp]]\n",
    "\n",
    "    # \n",
    "    state = convert(Array{Union{Missing, Float64}}, fill(1, length(myrange_g))) # to allow missing values\n",
    "    cause = convert(Array{Union{Missing, Float64}}, fill(1, length(myrange_g)))\n",
    "    age = [k.value for k in round.(date_range_g - birthdate, Day(1))]\n",
    "\n",
    "\n",
    "    # Hour that outage starts\n",
    "    time_vector = map(x -> round(x - start_date_g, Hour), df[!, :EventStartDT])\n",
    "\n",
    "    # Set state to zero during an event\n",
    "    for k in [c for c in range(1, step=1, length=length(time_vector))] # k is an index\n",
    "        start_time_string = round(df[k, :EventStartDT], Hour)\n",
    "        end_time_string = round(df[k, :EventEndDT], Hour)\n",
    "\n",
    "        mycause = df[k, :EventTypeCode_function]\n",
    "\n",
    "        # if cause == 1 # RS\n",
    "        #     continue\n",
    "        # end\n",
    "\n",
    "        start_hour = time_vector[k].value # integer\n",
    "        duration = round(end_time_string - start_time_string, Hour).value\n",
    "        end_hour = start_hour + duration\n",
    "\n",
    "        start_index = max(1, start_hour)\n",
    "\n",
    "        matching_idx = findall(x -> x == end_hour, myrange_g)\n",
    "        \n",
    "        if length(matching_idx) < 1\n",
    "            end_index = length(state)\n",
    "        else\n",
    "            end_index = matching_idx[1]\n",
    "        end\n",
    "\n",
    "        # If event is unit getting retired, set state as missing until the end of the period and skip to the next unit\n",
    "        if cause == 5\n",
    "            state[start_index:end] .= missing\n",
    "        else\n",
    "            state[start_index:end_index] .= 0\n",
    "            cause[start_index:end_index] .= mycause\n",
    "        end\n",
    "\n",
    "    end\n",
    "\n",
    "    trajectory = DataFrame(x=date_range_g, y1=state, y2=cause, y3=age)\n",
    "    merged = innerjoin(trajectory, load_data[!,[\"x\", load]], on=:x)\n",
    "    sort!(merged, :x)\n",
    "    merged[!, :y4] = Dates.dayofyear.(merged[!, :x])\n",
    "\n",
    "    fname = @sprintf \"gen_%d_type_%d_dtgrp_%d_rating_%d_state_Texas_raw.csv\" id type dtgrp rating \n",
    "    path = joinpath(homedir(), \"research\", \"GADS_Processed\", \"trajectories_with_features\", fname)\n",
    "    CSV.write(path, merged)\n",
    "\n",
    "end"
   ]
  },
  {
   "cell_type": "code",
   "execution_count": null,
   "id": "4f8a00cb",
   "metadata": {},
   "outputs": [],
   "source": []
  }
 ],
 "metadata": {
  "kernelspec": {
   "display_name": "Julia 1.11.5",
   "language": "julia",
   "name": "julia-1.11"
  },
  "language_info": {
   "file_extension": ".jl",
   "mimetype": "application/julia",
   "name": "julia",
   "version": "1.11.5"
  }
 },
 "nbformat": 4,
 "nbformat_minor": 5
}
