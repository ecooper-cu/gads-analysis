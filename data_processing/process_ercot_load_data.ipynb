{
 "cells": [
  {
   "cell_type": "code",
   "execution_count": 1,
   "id": "4f363bad",
   "metadata": {},
   "outputs": [],
   "source": [
    "using Printf, CSV, DataFrames, Statistics, Glob, XLSX, Dates"
   ]
  },
  {
   "cell_type": "code",
   "execution_count": 2,
   "id": "5a9b3a47",
   "metadata": {},
   "outputs": [
    {
     "data": {
      "text/plain": [
       "\"/home/emco4286/research/ERCOT_LOAD_DATA/raw\""
      ]
     },
     "metadata": {},
     "output_type": "display_data"
    }
   ],
   "source": [
    "directory = joinpath(homedir(), \"research\", \"ERCOT_LOAD_DATA\", \"raw\")"
   ]
  },
  {
   "cell_type": "code",
   "execution_count": 12,
   "id": "368c25cb",
   "metadata": {},
   "outputs": [
    {
     "data": {
      "text/html": [
       "<div><div style = \"float: left;\"><span>96408×10 DataFrame</span></div><div style = \"float: right;\"><span style = \"font-style: italic;\">96383 rows omitted</span></div><div style = \"clear: both;\"></div></div><div class = \"data-frame\" style = \"overflow-x: scroll;\"><table class = \"data-frame\" style = \"margin-bottom: 6px;\"><thead><tr class = \"header\"><th class = \"rowNumber\" style = \"font-weight: bold; text-align: right;\">Row</th><th style = \"text-align: left;\">Hour_End</th><th style = \"text-align: left;\">COAST</th><th style = \"text-align: left;\">EAST</th><th style = \"text-align: left;\">FAR_WEST</th><th style = \"text-align: left;\">NORTH</th><th style = \"text-align: left;\">NORTH_C</th><th style = \"text-align: left;\">SOUTH</th><th style = \"text-align: left;\">SOUTH_C</th><th style = \"text-align: left;\">WEST</th><th style = \"text-align: left;\">ERCOT</th></tr><tr class = \"subheader headerLastRow\"><th class = \"rowNumber\" style = \"font-weight: bold; text-align: right;\"></th><th title = \"DateTime\" style = \"text-align: left;\">DateTime</th><th title = \"Any\" style = \"text-align: left;\">Any</th><th title = \"Any\" style = \"text-align: left;\">Any</th><th title = \"Any\" style = \"text-align: left;\">Any</th><th title = \"Any\" style = \"text-align: left;\">Any</th><th title = \"Any\" style = \"text-align: left;\">Any</th><th title = \"Any\" style = \"text-align: left;\">Any</th><th title = \"Any\" style = \"text-align: left;\">Any</th><th title = \"Any\" style = \"text-align: left;\">Any</th><th title = \"Any\" style = \"text-align: left;\">Any</th></tr></thead><tbody><tr><td class = \"rowNumber\" style = \"font-weight: bold; text-align: right;\">1</td><td style = \"text-align: left;\">2013-01-01T01:00:00</td><td style = \"text-align: left;\">7607.19</td><td style = \"text-align: left;\">1074.02</td><td style = \"text-align: left;\">1411.82</td><td style = \"text-align: left;\">763.069</td><td style = \"text-align: left;\">10370.3</td><td style = \"text-align: left;\">2206.95</td><td style = \"text-align: left;\">4368.53</td><td style = \"text-align: left;\">883.03</td><td style = \"text-align: left;\">28684.9</td></tr><tr><td class = \"rowNumber\" style = \"font-weight: bold; text-align: right;\">2</td><td style = \"text-align: left;\">2013-01-01T02:00:00</td><td style = \"text-align: left;\">7389.27</td><td style = \"text-align: left;\">1035.19</td><td style = \"text-align: left;\">1403.6</td><td style = \"text-align: left;\">754.426</td><td style = \"text-align: left;\">10153.9</td><td style = \"text-align: left;\">2160.08</td><td style = \"text-align: left;\">4233.64</td><td style = \"text-align: left;\">872.532</td><td style = \"text-align: left;\">28002.7</td></tr><tr><td class = \"rowNumber\" style = \"font-weight: bold; text-align: right;\">3</td><td style = \"text-align: left;\">2013-01-01T03:00:00</td><td style = \"text-align: left;\">7179.75</td><td style = \"text-align: left;\">1036.22</td><td style = \"text-align: left;\">1395.13</td><td style = \"text-align: left;\">746.216</td><td style = \"text-align: left;\">9989.24</td><td style = \"text-align: left;\">2065.37</td><td style = \"text-align: left;\">4082.9</td><td style = \"text-align: left;\">868.951</td><td style = \"text-align: left;\">27363.8</td></tr><tr><td class = \"rowNumber\" style = \"font-weight: bold; text-align: right;\">4</td><td style = \"text-align: left;\">2013-01-01T04:00:00</td><td style = \"text-align: left;\">7039.69</td><td style = \"text-align: left;\">1032.78</td><td style = \"text-align: left;\">1395.59</td><td style = \"text-align: left;\">749.029</td><td style = \"text-align: left;\">9947.86</td><td style = \"text-align: left;\">1991.15</td><td style = \"text-align: left;\">4010.52</td><td style = \"text-align: left;\">865.799</td><td style = \"text-align: left;\">27032.4</td></tr><tr><td class = \"rowNumber\" style = \"font-weight: bold; text-align: right;\">5</td><td style = \"text-align: left;\">2013-01-01T05:00:00</td><td style = \"text-align: left;\">6991.41</td><td style = \"text-align: left;\">1042.91</td><td style = \"text-align: left;\">1401.24</td><td style = \"text-align: left;\">757.148</td><td style = \"text-align: left;\">10097.4</td><td style = \"text-align: left;\">1954.96</td><td style = \"text-align: left;\">4038.68</td><td style = \"text-align: left;\">879.988</td><td style = \"text-align: left;\">27163.8</td></tr><tr><td class = \"rowNumber\" style = \"font-weight: bold; text-align: right;\">6</td><td style = \"text-align: left;\">2013-01-01T06:00:00</td><td style = \"text-align: left;\">7050.73</td><td style = \"text-align: left;\">1069.29</td><td style = \"text-align: left;\">1419.56</td><td style = \"text-align: left;\">777.767</td><td style = \"text-align: left;\">10472.1</td><td style = \"text-align: left;\">1962.08</td><td style = \"text-align: left;\">4174.05</td><td style = \"text-align: left;\">911.222</td><td style = \"text-align: left;\">27836.8</td></tr><tr><td class = \"rowNumber\" style = \"font-weight: bold; text-align: right;\">7</td><td style = \"text-align: left;\">2013-01-01T07:00:00</td><td style = \"text-align: left;\">7177.79</td><td style = \"text-align: left;\">1109.14</td><td style = \"text-align: left;\">1444.43</td><td style = \"text-align: left;\">793.098</td><td style = \"text-align: left;\">10891.2</td><td style = \"text-align: left;\">1994.51</td><td style = \"text-align: left;\">4360.99</td><td style = \"text-align: left;\">950.809</td><td style = \"text-align: left;\">28722.0</td></tr><tr><td class = \"rowNumber\" style = \"font-weight: bold; text-align: right;\">8</td><td style = \"text-align: left;\">2013-01-01T08:00:00</td><td style = \"text-align: left;\">7223.21</td><td style = \"text-align: left;\">1148.8</td><td style = \"text-align: left;\">1463.21</td><td style = \"text-align: left;\">812.598</td><td style = \"text-align: left;\">11190.2</td><td style = \"text-align: left;\">2041.97</td><td style = \"text-align: left;\">4522.13</td><td style = \"text-align: left;\">989.594</td><td style = \"text-align: left;\">29391.7</td></tr><tr><td class = \"rowNumber\" style = \"font-weight: bold; text-align: right;\">9</td><td style = \"text-align: left;\">2013-01-01T09:00:00</td><td style = \"text-align: left;\">7314.25</td><td style = \"text-align: left;\">1196.98</td><td style = \"text-align: left;\">1474.82</td><td style = \"text-align: left;\">839.631</td><td style = \"text-align: left;\">11627.1</td><td style = \"text-align: left;\">2131.51</td><td style = \"text-align: left;\">4688.33</td><td style = \"text-align: left;\">1021.13</td><td style = \"text-align: left;\">30293.8</td></tr><tr><td class = \"rowNumber\" style = \"font-weight: bold; text-align: right;\">10</td><td style = \"text-align: left;\">2013-01-01T10:00:00</td><td style = \"text-align: left;\">7676.35</td><td style = \"text-align: left;\">1235.79</td><td style = \"text-align: left;\">1500.77</td><td style = \"text-align: left;\">869.122</td><td style = \"text-align: left;\">12310.0</td><td style = \"text-align: left;\">2249.82</td><td style = \"text-align: left;\">4992.42</td><td style = \"text-align: left;\">1048.01</td><td style = \"text-align: left;\">31882.3</td></tr><tr><td class = \"rowNumber\" style = \"font-weight: bold; text-align: right;\">11</td><td style = \"text-align: left;\">2013-01-01T11:00:00</td><td style = \"text-align: left;\">8060.5</td><td style = \"text-align: left;\">1304.76</td><td style = \"text-align: left;\">1507.66</td><td style = \"text-align: left;\">892.002</td><td style = \"text-align: left;\">12934.1</td><td style = \"text-align: left;\">2341.62</td><td style = \"text-align: left;\">5270.26</td><td style = \"text-align: left;\">1048.63</td><td style = \"text-align: left;\">33359.5</td></tr><tr><td class = \"rowNumber\" style = \"font-weight: bold; text-align: right;\">12</td><td style = \"text-align: left;\">2013-01-01T12:00:00</td><td style = \"text-align: left;\">8392.92</td><td style = \"text-align: left;\">1342.01</td><td style = \"text-align: left;\">1489.9</td><td style = \"text-align: left;\">903.369</td><td style = \"text-align: left;\">13200.7</td><td style = \"text-align: left;\">2390.57</td><td style = \"text-align: left;\">5427.14</td><td style = \"text-align: left;\">1040.22</td><td style = \"text-align: left;\">34186.8</td></tr><tr><td class = \"rowNumber\" style = \"font-weight: bold; text-align: right;\">13</td><td style = \"text-align: left;\">2013-01-01T13:00:00</td><td style = \"text-align: left;\">8509.46</td><td style = \"text-align: left;\">1328.54</td><td style = \"text-align: left;\">1467.31</td><td style = \"text-align: left;\">894.401</td><td style = \"text-align: left;\">13062.5</td><td style = \"text-align: left;\">2419.73</td><td style = \"text-align: left;\">5449.88</td><td style = \"text-align: left;\">1023.27</td><td style = \"text-align: left;\">34155.1</td></tr><tr><td style = \"text-align: right;\">&vellip;</td><td style = \"text-align: right;\">&vellip;</td><td style = \"text-align: right;\">&vellip;</td><td style = \"text-align: right;\">&vellip;</td><td style = \"text-align: right;\">&vellip;</td><td style = \"text-align: right;\">&vellip;</td><td style = \"text-align: right;\">&vellip;</td><td style = \"text-align: right;\">&vellip;</td><td style = \"text-align: right;\">&vellip;</td><td style = \"text-align: right;\">&vellip;</td><td style = \"text-align: right;\">&vellip;</td></tr><tr><td class = \"rowNumber\" style = \"font-weight: bold; text-align: right;\">96397</td><td style = \"text-align: left;\">2023-12-31T13:00:00</td><td style = \"text-align: left;\">11,370.11</td><td style = \"text-align: left;\">1,480.43</td><td style = \"text-align: left;\">6,236.56</td><td style = \"text-align: left;\">1,173.32</td><td style = \"text-align: left;\">11,850.64</td><td style = \"text-align: left;\">3,185.58</td><td style = \"text-align: left;\">6,340.76</td><td style = \"text-align: left;\">1,099.40</td><td style = \"text-align: left;\">42,736.81</td></tr><tr><td class = \"rowNumber\" style = \"font-weight: bold; text-align: right;\">96398</td><td style = \"text-align: left;\">2023-12-31T14:00:00</td><td style = \"text-align: left;\">11,344.27</td><td style = \"text-align: left;\">1,420.10</td><td style = \"text-align: left;\">6,215.14</td><td style = \"text-align: left;\">1,137.48</td><td style = \"text-align: left;\">11,467.99</td><td style = \"text-align: left;\">3,273.50</td><td style = \"text-align: left;\">6,292.39</td><td style = \"text-align: left;\">1,061.11</td><td style = \"text-align: left;\">42,211.98</td></tr><tr><td class = \"rowNumber\" style = \"font-weight: bold; text-align: right;\">96399</td><td style = \"text-align: left;\">2023-12-31T15:00:00</td><td style = \"text-align: left;\">11,381.10</td><td style = \"text-align: left;\">1,406.30</td><td style = \"text-align: left;\">6,209.36</td><td style = \"text-align: left;\">1,122.27</td><td style = \"text-align: left;\">11,185.75</td><td style = \"text-align: left;\">3,373.91</td><td style = \"text-align: left;\">6,330.71</td><td style = \"text-align: left;\">1,034.11</td><td style = \"text-align: left;\">42,043.51</td></tr><tr><td class = \"rowNumber\" style = \"font-weight: bold; text-align: right;\">96400</td><td style = \"text-align: left;\">2023-12-31T16:00:00</td><td style = \"text-align: left;\">11,475.20</td><td style = \"text-align: left;\">1,376.43</td><td style = \"text-align: left;\">6,201.65</td><td style = \"text-align: left;\">1,126.98</td><td style = \"text-align: left;\">11,209.26</td><td style = \"text-align: left;\">3,384.11</td><td style = \"text-align: left;\">6,467.10</td><td style = \"text-align: left;\">1,028.26</td><td style = \"text-align: left;\">42,268.99</td></tr><tr><td class = \"rowNumber\" style = \"font-weight: bold; text-align: right;\">96401</td><td style = \"text-align: left;\">2023-12-31T17:00:00</td><td style = \"text-align: left;\">11,566.97</td><td style = \"text-align: left;\">1,380.84</td><td style = \"text-align: left;\">6,221.59</td><td style = \"text-align: left;\">1,135.15</td><td style = \"text-align: left;\">11,377.89</td><td style = \"text-align: left;\">3,443.77</td><td style = \"text-align: left;\">6,651.47</td><td style = \"text-align: left;\">1,061.76</td><td style = \"text-align: left;\">42,839.45</td></tr><tr><td class = \"rowNumber\" style = \"font-weight: bold; text-align: right;\">96402</td><td style = \"text-align: left;\">2023-12-31T18:00:00</td><td style = \"text-align: left;\">11,943.51</td><td style = \"text-align: left;\">1,478.74</td><td style = \"text-align: left;\">6,206.88</td><td style = \"text-align: left;\">1,169.44</td><td style = \"text-align: left;\">12,082.31</td><td style = \"text-align: left;\">3,517.54</td><td style = \"text-align: left;\">6,892.35</td><td style = \"text-align: left;\">1,101.00</td><td style = \"text-align: left;\">44,391.77</td></tr><tr><td class = \"rowNumber\" style = \"font-weight: bold; text-align: right;\">96403</td><td style = \"text-align: left;\">2023-12-31T19:00:00</td><td style = \"text-align: left;\">12,189.51</td><td style = \"text-align: left;\">1,520.67</td><td style = \"text-align: left;\">6,212.70</td><td style = \"text-align: left;\">1,245.61</td><td style = \"text-align: left;\">12,630.86</td><td style = \"text-align: left;\">3,586.19</td><td style = \"text-align: left;\">7,129.22</td><td style = \"text-align: left;\">1,162.32</td><td style = \"text-align: left;\">45,677.08</td></tr><tr><td class = \"rowNumber\" style = \"font-weight: bold; text-align: right;\">96404</td><td style = \"text-align: left;\">2023-12-31T20:00:00</td><td style = \"text-align: left;\">11,918.02</td><td style = \"text-align: left;\">1,499.03</td><td style = \"text-align: left;\">6,126.27</td><td style = \"text-align: left;\">1,254.82</td><td style = \"text-align: left;\">12,423.90</td><td style = \"text-align: left;\">3,403.83</td><td style = \"text-align: left;\">6,972.38</td><td style = \"text-align: left;\">1,152.99</td><td style = \"text-align: left;\">44,751.24</td></tr><tr><td class = \"rowNumber\" style = \"font-weight: bold; text-align: right;\">96405</td><td style = \"text-align: left;\">2023-12-31T21:00:00</td><td style = \"text-align: left;\">11,634.44</td><td style = \"text-align: left;\">1,500.32</td><td style = \"text-align: left;\">6,140.14</td><td style = \"text-align: left;\">1,245.64</td><td style = \"text-align: left;\">12,226.08</td><td style = \"text-align: left;\">3,247.23</td><td style = \"text-align: left;\">6,742.14</td><td style = \"text-align: left;\">1,156.84</td><td style = \"text-align: left;\">43,892.82</td></tr><tr><td class = \"rowNumber\" style = \"font-weight: bold; text-align: right;\">96406</td><td style = \"text-align: left;\">2023-12-31T22:00:00</td><td style = \"text-align: left;\">11,360.10</td><td style = \"text-align: left;\">1,469.10</td><td style = \"text-align: left;\">6,173.75</td><td style = \"text-align: left;\">1,266.04</td><td style = \"text-align: left;\">12,039.30</td><td style = \"text-align: left;\">3,114.18</td><td style = \"text-align: left;\">6,518.29</td><td style = \"text-align: left;\">1,172.91</td><td style = \"text-align: left;\">43,113.67</td></tr><tr><td class = \"rowNumber\" style = \"font-weight: bold; text-align: right;\">96407</td><td style = \"text-align: left;\">2023-12-31T23:00:00</td><td style = \"text-align: left;\">11,096.77</td><td style = \"text-align: left;\">1,462.73</td><td style = \"text-align: left;\">6,117.84</td><td style = \"text-align: left;\">1,282.18</td><td style = \"text-align: left;\">11,844.79</td><td style = \"text-align: left;\">2,995.07</td><td style = \"text-align: left;\">6,276.09</td><td style = \"text-align: left;\">1,169.12</td><td style = \"text-align: left;\">42,244.59</td></tr><tr><td class = \"rowNumber\" style = \"font-weight: bold; text-align: right;\">96408</td><td style = \"text-align: left;\">2024-01-01T00:00:00</td><td style = \"text-align: left;\">10,819.44</td><td style = \"text-align: left;\">1,426.84</td><td style = \"text-align: left;\">6,101.64</td><td style = \"text-align: left;\">1,264.37</td><td style = \"text-align: left;\">11,829.84</td><td style = \"text-align: left;\">2,958.12</td><td style = \"text-align: left;\">6,053.72</td><td style = \"text-align: left;\">1,168.00</td><td style = \"text-align: left;\">41,621.97</td></tr></tbody></table></div>"
      ],
      "text/latex": [
       "\\begin{tabular}{r|ccccccccc}\n",
       "\t& Hour\\_End & COAST & EAST & FAR\\_WEST & NORTH & NORTH\\_C & SOUTH & SOUTH\\_C & \\\\\n",
       "\t\\hline\n",
       "\t& DateTime & Any & Any & Any & Any & Any & Any & Any & \\\\\n",
       "\t\\hline\n",
       "\t1 & 2013-01-01T01:00:00 & 7607.19 & 1074.02 & 1411.82 & 763.069 & 10370.3 & 2206.95 & 4368.53 & $\\dots$ \\\\\n",
       "\t2 & 2013-01-01T02:00:00 & 7389.27 & 1035.19 & 1403.6 & 754.426 & 10153.9 & 2160.08 & 4233.64 & $\\dots$ \\\\\n",
       "\t3 & 2013-01-01T03:00:00 & 7179.75 & 1036.22 & 1395.13 & 746.216 & 9989.24 & 2065.37 & 4082.9 & $\\dots$ \\\\\n",
       "\t4 & 2013-01-01T04:00:00 & 7039.69 & 1032.78 & 1395.59 & 749.029 & 9947.86 & 1991.15 & 4010.52 & $\\dots$ \\\\\n",
       "\t5 & 2013-01-01T05:00:00 & 6991.41 & 1042.91 & 1401.24 & 757.148 & 10097.4 & 1954.96 & 4038.68 & $\\dots$ \\\\\n",
       "\t6 & 2013-01-01T06:00:00 & 7050.73 & 1069.29 & 1419.56 & 777.767 & 10472.1 & 1962.08 & 4174.05 & $\\dots$ \\\\\n",
       "\t7 & 2013-01-01T07:00:00 & 7177.79 & 1109.14 & 1444.43 & 793.098 & 10891.2 & 1994.51 & 4360.99 & $\\dots$ \\\\\n",
       "\t8 & 2013-01-01T08:00:00 & 7223.21 & 1148.8 & 1463.21 & 812.598 & 11190.2 & 2041.97 & 4522.13 & $\\dots$ \\\\\n",
       "\t9 & 2013-01-01T09:00:00 & 7314.25 & 1196.98 & 1474.82 & 839.631 & 11627.1 & 2131.51 & 4688.33 & $\\dots$ \\\\\n",
       "\t10 & 2013-01-01T10:00:00 & 7676.35 & 1235.79 & 1500.77 & 869.122 & 12310.0 & 2249.82 & 4992.42 & $\\dots$ \\\\\n",
       "\t11 & 2013-01-01T11:00:00 & 8060.5 & 1304.76 & 1507.66 & 892.002 & 12934.1 & 2341.62 & 5270.26 & $\\dots$ \\\\\n",
       "\t12 & 2013-01-01T12:00:00 & 8392.92 & 1342.01 & 1489.9 & 903.369 & 13200.7 & 2390.57 & 5427.14 & $\\dots$ \\\\\n",
       "\t13 & 2013-01-01T13:00:00 & 8509.46 & 1328.54 & 1467.31 & 894.401 & 13062.5 & 2419.73 & 5449.88 & $\\dots$ \\\\\n",
       "\t14 & 2013-01-01T14:00:00 & 8498.67 & 1320.0 & 1439.35 & 880.976 & 12851.5 & 2392.34 & 5401.36 & $\\dots$ \\\\\n",
       "\t15 & 2013-01-01T15:00:00 & 8467.2 & 1296.76 & 1419.86 & 869.6 & 12725.0 & 2359.48 & 5287.74 & $\\dots$ \\\\\n",
       "\t16 & 2013-01-01T16:00:00 & 8432.13 & 1298.39 & 1410.82 & 869.319 & 12610.8 & 2359.6 & 5225.75 & $\\dots$ \\\\\n",
       "\t17 & 2013-01-01T17:00:00 & 8560.67 & 1320.87 & 1424.64 & 885.873 & 13028.4 & 2374.11 & 5319.88 & $\\dots$ \\\\\n",
       "\t18 & 2013-01-01T18:00:00 & 9095.08 & 1420.49 & 1467.51 & 930.999 & 14090.4 & 2494.64 & 5756.95 & $\\dots$ \\\\\n",
       "\t19 & 2013-01-01T19:00:00 & 9540.83 & 1482.32 & 1544.07 & 959.818 & 14739.4 & 2733.23 & 6294.06 & $\\dots$ \\\\\n",
       "\t20 & 2013-01-01T20:00:00 & 9560.57 & 1482.52 & 1566.79 & 957.561 & 14705.9 & 2756.17 & 6349.65 & $\\dots$ \\\\\n",
       "\t21 & 2013-01-01T21:00:00 & 9505.85 & 1467.13 & 1573.59 & 949.944 & 14586.6 & 2739.29 & 6322.92 & $\\dots$ \\\\\n",
       "\t22 & 2013-01-01T22:00:00 & 9329.4 & 1383.68 & 1564.56 & 927.673 & 14241.8 & 2667.92 & 6196.38 & $\\dots$ \\\\\n",
       "\t23 & 2013-01-01T23:00:00 & 8959.45 & 1350.57 & 1535.74 & 888.162 & 13608.6 & 2550.32 & 5920.13 & $\\dots$ \\\\\n",
       "\t24 & 2013-01-02T00:00:00 & 8508.35 & 1321.46 & 1502.47 & 853.548 & 12948.3 & 2402.07 & 5616.17 & $\\dots$ \\\\\n",
       "\t$\\dots$ & $\\dots$ & $\\dots$ & $\\dots$ & $\\dots$ & $\\dots$ & $\\dots$ & $\\dots$ & $\\dots$ &  \\\\\n",
       "\\end{tabular}\n"
      ],
      "text/plain": [
       "\u001b[1m96408×10 DataFrame\u001b[0m\n",
       "\u001b[1m   Row \u001b[0m│\u001b[1m Hour_End            \u001b[0m\u001b[1m COAST     \u001b[0m\u001b[1m EAST     \u001b[0m\u001b[1m FAR_WEST \u001b[0m\u001b[1m NORTH    \u001b[0m\u001b[1m NORTH_C\u001b[0m ⋯\n",
       "       │\u001b[90m DateTime            \u001b[0m\u001b[90m Any       \u001b[0m\u001b[90m Any      \u001b[0m\u001b[90m Any      \u001b[0m\u001b[90m Any      \u001b[0m\u001b[90m Any    \u001b[0m ⋯\n",
       "───────┼────────────────────────────────────────────────────────────────────────\n",
       "     1 │ 2013-01-01T01:00:00  7607.19    1074.02   1411.82   763.069   10370.3 ⋯\n",
       "     2 │ 2013-01-01T02:00:00  7389.27    1035.19   1403.6    754.426   10153.9\n",
       "     3 │ 2013-01-01T03:00:00  7179.75    1036.22   1395.13   746.216   9989.24\n",
       "     4 │ 2013-01-01T04:00:00  7039.69    1032.78   1395.59   749.029   9947.86\n",
       "     5 │ 2013-01-01T05:00:00  6991.41    1042.91   1401.24   757.148   10097.4 ⋯\n",
       "     6 │ 2013-01-01T06:00:00  7050.73    1069.29   1419.56   777.767   10472.1\n",
       "     7 │ 2013-01-01T07:00:00  7177.79    1109.14   1444.43   793.098   10891.2\n",
       "     8 │ 2013-01-01T08:00:00  7223.21    1148.8    1463.21   812.598   11190.2\n",
       "   ⋮   │          ⋮               ⋮         ⋮         ⋮         ⋮          ⋮   ⋱\n",
       " 96402 │ 2023-12-31T18:00:00  11,943.51  1,478.74  6,206.88  1,169.44  12,082. ⋯\n",
       " 96403 │ 2023-12-31T19:00:00  12,189.51  1,520.67  6,212.70  1,245.61  12,630.\n",
       " 96404 │ 2023-12-31T20:00:00  11,918.02  1,499.03  6,126.27  1,254.82  12,423.\n",
       " 96405 │ 2023-12-31T21:00:00  11,634.44  1,500.32  6,140.14  1,245.64  12,226.\n",
       " 96406 │ 2023-12-31T22:00:00  11,360.10  1,469.10  6,173.75  1,266.04  12,039. ⋯\n",
       " 96407 │ 2023-12-31T23:00:00  11,096.77  1,462.73  6,117.84  1,282.18  11,844.\n",
       " 96408 │ 2024-01-01T00:00:00  10,819.44  1,426.84  6,101.64  1,264.37  11,829.\n",
       "\u001b[36m                                                5 columns and 96393 rows omitted\u001b[0m"
      ]
     },
     "metadata": {},
     "output_type": "display_data"
    }
   ],
   "source": [
    "x = Dict()\n",
    "i = 1\n",
    "\n",
    "directory = joinpath(homedir(), \"research\", \"ERCOT_LOAD_DATA\", \"raw\")\n",
    "files = glob(\"*.csv\", directory)\n",
    "# types_dict = Dict(\"Hour_End\" => DateTime, \"HourEnding\" => DateTime, \"Hour Ending\" => DateTime)\n",
    "date_format_1 = dateformat\"mm/dd/yyyy HH:MM\"\n",
    "date_format_2 = dateformat\"mm/dd/yyyy HH:MM D\\S\\T\"\n",
    "\n",
    "for f in files\n",
    "\n",
    "    df = DataFrame(CSV.File(f)) #, types=types_dict, validate=false))\n",
    "\n",
    "    if \"NCENT\" in names(df)\n",
    "        rename!(df, :NCENT => :NORTH_C)\n",
    "    end\n",
    "\n",
    "    if \"SCENT\" in names(df)\n",
    "        rename!(df, :SCENT => :SOUTH_C)\n",
    "    end\n",
    "\n",
    "    if \"SOUTHERN\" in names(df)\n",
    "        rename!(df, :SOUTHERN => :SOUTH)\n",
    "    end\n",
    "\n",
    "    if \"FWEST\" in names(df)\n",
    "        rename!(df, :FWEST => :FAR_WEST)\n",
    "    end\n",
    "\n",
    "    if \"HourEnding\" in names(df)\n",
    "        rename!(df, :HourEnding => :Hour_End)\n",
    "    end\n",
    "\n",
    "    if \"Hour Ending\" in names(df)\n",
    "        rename!(df, \"Hour Ending\" => :Hour_End)\n",
    "    end\n",
    "\n",
    "    # df = df[!, [\"Hour_End\", \"COAST\", \"NORTH_C\"]]\n",
    "\n",
    "    \n",
    "    mylist = Vector{DateTime}()\n",
    "    for dt in df[!, :Hour_End]\n",
    "\n",
    "        try\n",
    "            mydt = DateTime(dt, date_format_1)\n",
    "            push!(mylist, mydt)\n",
    "        catch e\n",
    "            mydt = DateTime(dt, date_format_2) - Hour(1)\n",
    "            push!(mylist, mydt)\n",
    "            \n",
    "        end\n",
    "    end\n",
    "\n",
    "    df[!, \"Hour_End\"] = mylist\n",
    "\n",
    "    x[i] = df\n",
    "    i +=1\n",
    "end\n",
    "\n",
    "merged = reduce(vcat, values(x))\n",
    "sort!(merged, :Hour_End)"
   ]
  },
  {
   "cell_type": "code",
   "execution_count": 14,
   "id": "dc96010f",
   "metadata": {},
   "outputs": [
    {
     "data": {
      "text/plain": [
       "9-element Vector{String}:\n",
       " \"COAST\"\n",
       " \"EAST\"\n",
       " \"FAR_WEST\"\n",
       " \"NORTH\"\n",
       " \"NORTH_C\"\n",
       " \"SOUTH\"\n",
       " \"SOUTH_C\"\n",
       " \"WEST\"\n",
       " \"ERCOT\""
      ]
     },
     "metadata": {},
     "output_type": "display_data"
    }
   ],
   "source": [
    "names(merged)[2:end]"
   ]
  },
  {
   "cell_type": "code",
   "execution_count": 17,
   "id": "8f0ca9e3",
   "metadata": {},
   "outputs": [],
   "source": [
    "my_names = names(merged)[2:end]\n",
    "\n",
    "for n in my_names\n",
    "\n",
    "    s = merged[!, n]\n",
    "    mylist = Vector{Float64}()\n",
    "    i = 0\n",
    "\n",
    "    for v in s\n",
    "        if v isa String15\n",
    "            v2 = replace(v, ','=>\"\", \" \" =>\"\")\n",
    "            v3 = parse.(Float64, v2)\n",
    "        elseif v isa Missing\n",
    "            v3 = NaN64\n",
    "        elseif typeof(v) != Float64\n",
    "            v3 = parse.(Float64, v)\n",
    "        else\n",
    "            v3 = v\n",
    "        end\n",
    "        push!(mylist, v3)\n",
    "        i += 1\n",
    "    end\n",
    "\n",
    "    merged[!, n] = mylist\n",
    "end"
   ]
  },
  {
   "cell_type": "code",
   "execution_count": 18,
   "id": "e49e9ac3",
   "metadata": {},
   "outputs": [
    {
     "data": {
      "text/html": [
       "<div><div style = \"float: left;\"><span>96408×10 DataFrame</span></div><div style = \"float: right;\"><span style = \"font-style: italic;\">96383 rows omitted</span></div><div style = \"clear: both;\"></div></div><div class = \"data-frame\" style = \"overflow-x: scroll;\"><table class = \"data-frame\" style = \"margin-bottom: 6px;\"><thead><tr class = \"header\"><th class = \"rowNumber\" style = \"font-weight: bold; text-align: right;\">Row</th><th style = \"text-align: left;\">Hour_End</th><th style = \"text-align: left;\">COAST</th><th style = \"text-align: left;\">EAST</th><th style = \"text-align: left;\">FAR_WEST</th><th style = \"text-align: left;\">NORTH</th><th style = \"text-align: left;\">NORTH_C</th><th style = \"text-align: left;\">SOUTH</th><th style = \"text-align: left;\">SOUTH_C</th><th style = \"text-align: left;\">WEST</th><th style = \"text-align: left;\">ERCOT</th></tr><tr class = \"subheader headerLastRow\"><th class = \"rowNumber\" style = \"font-weight: bold; text-align: right;\"></th><th title = \"DateTime\" style = \"text-align: left;\">DateTime</th><th title = \"Float64\" style = \"text-align: left;\">Float64</th><th title = \"Float64\" style = \"text-align: left;\">Float64</th><th title = \"Float64\" style = \"text-align: left;\">Float64</th><th title = \"Float64\" style = \"text-align: left;\">Float64</th><th title = \"Float64\" style = \"text-align: left;\">Float64</th><th title = \"Float64\" style = \"text-align: left;\">Float64</th><th title = \"Float64\" style = \"text-align: left;\">Float64</th><th title = \"Float64\" style = \"text-align: left;\">Float64</th><th title = \"Float64\" style = \"text-align: left;\">Float64</th></tr></thead><tbody><tr><td class = \"rowNumber\" style = \"font-weight: bold; text-align: right;\">1</td><td style = \"text-align: left;\">2013-01-01T01:00:00</td><td style = \"text-align: right;\">7607.19</td><td style = \"text-align: right;\">1074.02</td><td style = \"text-align: right;\">1411.82</td><td style = \"text-align: right;\">763.069</td><td style = \"text-align: right;\">10370.3</td><td style = \"text-align: right;\">2206.95</td><td style = \"text-align: right;\">4368.53</td><td style = \"text-align: right;\">883.03</td><td style = \"text-align: right;\">28684.9</td></tr><tr><td class = \"rowNumber\" style = \"font-weight: bold; text-align: right;\">2</td><td style = \"text-align: left;\">2013-01-01T02:00:00</td><td style = \"text-align: right;\">7389.27</td><td style = \"text-align: right;\">1035.19</td><td style = \"text-align: right;\">1403.6</td><td style = \"text-align: right;\">754.426</td><td style = \"text-align: right;\">10153.9</td><td style = \"text-align: right;\">2160.08</td><td style = \"text-align: right;\">4233.64</td><td style = \"text-align: right;\">872.532</td><td style = \"text-align: right;\">28002.7</td></tr><tr><td class = \"rowNumber\" style = \"font-weight: bold; text-align: right;\">3</td><td style = \"text-align: left;\">2013-01-01T03:00:00</td><td style = \"text-align: right;\">7179.75</td><td style = \"text-align: right;\">1036.22</td><td style = \"text-align: right;\">1395.13</td><td style = \"text-align: right;\">746.216</td><td style = \"text-align: right;\">9989.24</td><td style = \"text-align: right;\">2065.37</td><td style = \"text-align: right;\">4082.9</td><td style = \"text-align: right;\">868.951</td><td style = \"text-align: right;\">27363.8</td></tr><tr><td class = \"rowNumber\" style = \"font-weight: bold; text-align: right;\">4</td><td style = \"text-align: left;\">2013-01-01T04:00:00</td><td style = \"text-align: right;\">7039.69</td><td style = \"text-align: right;\">1032.78</td><td style = \"text-align: right;\">1395.59</td><td style = \"text-align: right;\">749.029</td><td style = \"text-align: right;\">9947.86</td><td style = \"text-align: right;\">1991.15</td><td style = \"text-align: right;\">4010.52</td><td style = \"text-align: right;\">865.799</td><td style = \"text-align: right;\">27032.4</td></tr><tr><td class = \"rowNumber\" style = \"font-weight: bold; text-align: right;\">5</td><td style = \"text-align: left;\">2013-01-01T05:00:00</td><td style = \"text-align: right;\">6991.41</td><td style = \"text-align: right;\">1042.91</td><td style = \"text-align: right;\">1401.24</td><td style = \"text-align: right;\">757.148</td><td style = \"text-align: right;\">10097.4</td><td style = \"text-align: right;\">1954.96</td><td style = \"text-align: right;\">4038.68</td><td style = \"text-align: right;\">879.988</td><td style = \"text-align: right;\">27163.8</td></tr><tr><td class = \"rowNumber\" style = \"font-weight: bold; text-align: right;\">6</td><td style = \"text-align: left;\">2013-01-01T06:00:00</td><td style = \"text-align: right;\">7050.73</td><td style = \"text-align: right;\">1069.29</td><td style = \"text-align: right;\">1419.56</td><td style = \"text-align: right;\">777.767</td><td style = \"text-align: right;\">10472.1</td><td style = \"text-align: right;\">1962.08</td><td style = \"text-align: right;\">4174.05</td><td style = \"text-align: right;\">911.222</td><td style = \"text-align: right;\">27836.8</td></tr><tr><td class = \"rowNumber\" style = \"font-weight: bold; text-align: right;\">7</td><td style = \"text-align: left;\">2013-01-01T07:00:00</td><td style = \"text-align: right;\">7177.79</td><td style = \"text-align: right;\">1109.14</td><td style = \"text-align: right;\">1444.43</td><td style = \"text-align: right;\">793.098</td><td style = \"text-align: right;\">10891.2</td><td style = \"text-align: right;\">1994.51</td><td style = \"text-align: right;\">4360.99</td><td style = \"text-align: right;\">950.809</td><td style = \"text-align: right;\">28722.0</td></tr><tr><td class = \"rowNumber\" style = \"font-weight: bold; text-align: right;\">8</td><td style = \"text-align: left;\">2013-01-01T08:00:00</td><td style = \"text-align: right;\">7223.21</td><td style = \"text-align: right;\">1148.8</td><td style = \"text-align: right;\">1463.21</td><td style = \"text-align: right;\">812.598</td><td style = \"text-align: right;\">11190.2</td><td style = \"text-align: right;\">2041.97</td><td style = \"text-align: right;\">4522.13</td><td style = \"text-align: right;\">989.594</td><td style = \"text-align: right;\">29391.7</td></tr><tr><td class = \"rowNumber\" style = \"font-weight: bold; text-align: right;\">9</td><td style = \"text-align: left;\">2013-01-01T09:00:00</td><td style = \"text-align: right;\">7314.25</td><td style = \"text-align: right;\">1196.98</td><td style = \"text-align: right;\">1474.82</td><td style = \"text-align: right;\">839.631</td><td style = \"text-align: right;\">11627.1</td><td style = \"text-align: right;\">2131.51</td><td style = \"text-align: right;\">4688.33</td><td style = \"text-align: right;\">1021.13</td><td style = \"text-align: right;\">30293.8</td></tr><tr><td class = \"rowNumber\" style = \"font-weight: bold; text-align: right;\">10</td><td style = \"text-align: left;\">2013-01-01T10:00:00</td><td style = \"text-align: right;\">7676.35</td><td style = \"text-align: right;\">1235.79</td><td style = \"text-align: right;\">1500.77</td><td style = \"text-align: right;\">869.122</td><td style = \"text-align: right;\">12310.0</td><td style = \"text-align: right;\">2249.82</td><td style = \"text-align: right;\">4992.42</td><td style = \"text-align: right;\">1048.01</td><td style = \"text-align: right;\">31882.3</td></tr><tr><td class = \"rowNumber\" style = \"font-weight: bold; text-align: right;\">11</td><td style = \"text-align: left;\">2013-01-01T11:00:00</td><td style = \"text-align: right;\">8060.5</td><td style = \"text-align: right;\">1304.76</td><td style = \"text-align: right;\">1507.66</td><td style = \"text-align: right;\">892.002</td><td style = \"text-align: right;\">12934.1</td><td style = \"text-align: right;\">2341.62</td><td style = \"text-align: right;\">5270.26</td><td style = \"text-align: right;\">1048.63</td><td style = \"text-align: right;\">33359.5</td></tr><tr><td class = \"rowNumber\" style = \"font-weight: bold; text-align: right;\">12</td><td style = \"text-align: left;\">2013-01-01T12:00:00</td><td style = \"text-align: right;\">8392.92</td><td style = \"text-align: right;\">1342.01</td><td style = \"text-align: right;\">1489.9</td><td style = \"text-align: right;\">903.369</td><td style = \"text-align: right;\">13200.7</td><td style = \"text-align: right;\">2390.57</td><td style = \"text-align: right;\">5427.14</td><td style = \"text-align: right;\">1040.22</td><td style = \"text-align: right;\">34186.8</td></tr><tr><td class = \"rowNumber\" style = \"font-weight: bold; text-align: right;\">13</td><td style = \"text-align: left;\">2013-01-01T13:00:00</td><td style = \"text-align: right;\">8509.46</td><td style = \"text-align: right;\">1328.54</td><td style = \"text-align: right;\">1467.31</td><td style = \"text-align: right;\">894.401</td><td style = \"text-align: right;\">13062.5</td><td style = \"text-align: right;\">2419.73</td><td style = \"text-align: right;\">5449.88</td><td style = \"text-align: right;\">1023.27</td><td style = \"text-align: right;\">34155.1</td></tr><tr><td style = \"text-align: right;\">&vellip;</td><td style = \"text-align: right;\">&vellip;</td><td style = \"text-align: right;\">&vellip;</td><td style = \"text-align: right;\">&vellip;</td><td style = \"text-align: right;\">&vellip;</td><td style = \"text-align: right;\">&vellip;</td><td style = \"text-align: right;\">&vellip;</td><td style = \"text-align: right;\">&vellip;</td><td style = \"text-align: right;\">&vellip;</td><td style = \"text-align: right;\">&vellip;</td><td style = \"text-align: right;\">&vellip;</td></tr><tr><td class = \"rowNumber\" style = \"font-weight: bold; text-align: right;\">96397</td><td style = \"text-align: left;\">2023-12-31T13:00:00</td><td style = \"text-align: right;\">11370.1</td><td style = \"text-align: right;\">1480.43</td><td style = \"text-align: right;\">6236.56</td><td style = \"text-align: right;\">1173.32</td><td style = \"text-align: right;\">11850.6</td><td style = \"text-align: right;\">3185.58</td><td style = \"text-align: right;\">6340.76</td><td style = \"text-align: right;\">1099.4</td><td style = \"text-align: right;\">42736.8</td></tr><tr><td class = \"rowNumber\" style = \"font-weight: bold; text-align: right;\">96398</td><td style = \"text-align: left;\">2023-12-31T14:00:00</td><td style = \"text-align: right;\">11344.3</td><td style = \"text-align: right;\">1420.1</td><td style = \"text-align: right;\">6215.14</td><td style = \"text-align: right;\">1137.48</td><td style = \"text-align: right;\">11468.0</td><td style = \"text-align: right;\">3273.5</td><td style = \"text-align: right;\">6292.39</td><td style = \"text-align: right;\">1061.11</td><td style = \"text-align: right;\">42212.0</td></tr><tr><td class = \"rowNumber\" style = \"font-weight: bold; text-align: right;\">96399</td><td style = \"text-align: left;\">2023-12-31T15:00:00</td><td style = \"text-align: right;\">11381.1</td><td style = \"text-align: right;\">1406.3</td><td style = \"text-align: right;\">6209.36</td><td style = \"text-align: right;\">1122.27</td><td style = \"text-align: right;\">11185.8</td><td style = \"text-align: right;\">3373.91</td><td style = \"text-align: right;\">6330.71</td><td style = \"text-align: right;\">1034.11</td><td style = \"text-align: right;\">42043.5</td></tr><tr><td class = \"rowNumber\" style = \"font-weight: bold; text-align: right;\">96400</td><td style = \"text-align: left;\">2023-12-31T16:00:00</td><td style = \"text-align: right;\">11475.2</td><td style = \"text-align: right;\">1376.43</td><td style = \"text-align: right;\">6201.65</td><td style = \"text-align: right;\">1126.98</td><td style = \"text-align: right;\">11209.3</td><td style = \"text-align: right;\">3384.11</td><td style = \"text-align: right;\">6467.1</td><td style = \"text-align: right;\">1028.26</td><td style = \"text-align: right;\">42269.0</td></tr><tr><td class = \"rowNumber\" style = \"font-weight: bold; text-align: right;\">96401</td><td style = \"text-align: left;\">2023-12-31T17:00:00</td><td style = \"text-align: right;\">11567.0</td><td style = \"text-align: right;\">1380.84</td><td style = \"text-align: right;\">6221.59</td><td style = \"text-align: right;\">1135.15</td><td style = \"text-align: right;\">11377.9</td><td style = \"text-align: right;\">3443.77</td><td style = \"text-align: right;\">6651.47</td><td style = \"text-align: right;\">1061.76</td><td style = \"text-align: right;\">42839.4</td></tr><tr><td class = \"rowNumber\" style = \"font-weight: bold; text-align: right;\">96402</td><td style = \"text-align: left;\">2023-12-31T18:00:00</td><td style = \"text-align: right;\">11943.5</td><td style = \"text-align: right;\">1478.74</td><td style = \"text-align: right;\">6206.88</td><td style = \"text-align: right;\">1169.44</td><td style = \"text-align: right;\">12082.3</td><td style = \"text-align: right;\">3517.54</td><td style = \"text-align: right;\">6892.35</td><td style = \"text-align: right;\">1101.0</td><td style = \"text-align: right;\">44391.8</td></tr><tr><td class = \"rowNumber\" style = \"font-weight: bold; text-align: right;\">96403</td><td style = \"text-align: left;\">2023-12-31T19:00:00</td><td style = \"text-align: right;\">12189.5</td><td style = \"text-align: right;\">1520.67</td><td style = \"text-align: right;\">6212.7</td><td style = \"text-align: right;\">1245.61</td><td style = \"text-align: right;\">12630.9</td><td style = \"text-align: right;\">3586.19</td><td style = \"text-align: right;\">7129.22</td><td style = \"text-align: right;\">1162.32</td><td style = \"text-align: right;\">45677.1</td></tr><tr><td class = \"rowNumber\" style = \"font-weight: bold; text-align: right;\">96404</td><td style = \"text-align: left;\">2023-12-31T20:00:00</td><td style = \"text-align: right;\">11918.0</td><td style = \"text-align: right;\">1499.03</td><td style = \"text-align: right;\">6126.27</td><td style = \"text-align: right;\">1254.82</td><td style = \"text-align: right;\">12423.9</td><td style = \"text-align: right;\">3403.83</td><td style = \"text-align: right;\">6972.38</td><td style = \"text-align: right;\">1152.99</td><td style = \"text-align: right;\">44751.2</td></tr><tr><td class = \"rowNumber\" style = \"font-weight: bold; text-align: right;\">96405</td><td style = \"text-align: left;\">2023-12-31T21:00:00</td><td style = \"text-align: right;\">11634.4</td><td style = \"text-align: right;\">1500.32</td><td style = \"text-align: right;\">6140.14</td><td style = \"text-align: right;\">1245.64</td><td style = \"text-align: right;\">12226.1</td><td style = \"text-align: right;\">3247.23</td><td style = \"text-align: right;\">6742.14</td><td style = \"text-align: right;\">1156.84</td><td style = \"text-align: right;\">43892.8</td></tr><tr><td class = \"rowNumber\" style = \"font-weight: bold; text-align: right;\">96406</td><td style = \"text-align: left;\">2023-12-31T22:00:00</td><td style = \"text-align: right;\">11360.1</td><td style = \"text-align: right;\">1469.1</td><td style = \"text-align: right;\">6173.75</td><td style = \"text-align: right;\">1266.04</td><td style = \"text-align: right;\">12039.3</td><td style = \"text-align: right;\">3114.18</td><td style = \"text-align: right;\">6518.29</td><td style = \"text-align: right;\">1172.91</td><td style = \"text-align: right;\">43113.7</td></tr><tr><td class = \"rowNumber\" style = \"font-weight: bold; text-align: right;\">96407</td><td style = \"text-align: left;\">2023-12-31T23:00:00</td><td style = \"text-align: right;\">11096.8</td><td style = \"text-align: right;\">1462.73</td><td style = \"text-align: right;\">6117.84</td><td style = \"text-align: right;\">1282.18</td><td style = \"text-align: right;\">11844.8</td><td style = \"text-align: right;\">2995.07</td><td style = \"text-align: right;\">6276.09</td><td style = \"text-align: right;\">1169.12</td><td style = \"text-align: right;\">42244.6</td></tr><tr><td class = \"rowNumber\" style = \"font-weight: bold; text-align: right;\">96408</td><td style = \"text-align: left;\">2024-01-01T00:00:00</td><td style = \"text-align: right;\">10819.4</td><td style = \"text-align: right;\">1426.84</td><td style = \"text-align: right;\">6101.64</td><td style = \"text-align: right;\">1264.37</td><td style = \"text-align: right;\">11829.8</td><td style = \"text-align: right;\">2958.12</td><td style = \"text-align: right;\">6053.72</td><td style = \"text-align: right;\">1168.0</td><td style = \"text-align: right;\">41622.0</td></tr></tbody></table></div>"
      ],
      "text/latex": [
       "\\begin{tabular}{r|ccccccccc}\n",
       "\t& Hour\\_End & COAST & EAST & FAR\\_WEST & NORTH & NORTH\\_C & SOUTH & SOUTH\\_C & \\\\\n",
       "\t\\hline\n",
       "\t& DateTime & Float64 & Float64 & Float64 & Float64 & Float64 & Float64 & Float64 & \\\\\n",
       "\t\\hline\n",
       "\t1 & 2013-01-01T01:00:00 & 7607.19 & 1074.02 & 1411.82 & 763.069 & 10370.3 & 2206.95 & 4368.53 & $\\dots$ \\\\\n",
       "\t2 & 2013-01-01T02:00:00 & 7389.27 & 1035.19 & 1403.6 & 754.426 & 10153.9 & 2160.08 & 4233.64 & $\\dots$ \\\\\n",
       "\t3 & 2013-01-01T03:00:00 & 7179.75 & 1036.22 & 1395.13 & 746.216 & 9989.24 & 2065.37 & 4082.9 & $\\dots$ \\\\\n",
       "\t4 & 2013-01-01T04:00:00 & 7039.69 & 1032.78 & 1395.59 & 749.029 & 9947.86 & 1991.15 & 4010.52 & $\\dots$ \\\\\n",
       "\t5 & 2013-01-01T05:00:00 & 6991.41 & 1042.91 & 1401.24 & 757.148 & 10097.4 & 1954.96 & 4038.68 & $\\dots$ \\\\\n",
       "\t6 & 2013-01-01T06:00:00 & 7050.73 & 1069.29 & 1419.56 & 777.767 & 10472.1 & 1962.08 & 4174.05 & $\\dots$ \\\\\n",
       "\t7 & 2013-01-01T07:00:00 & 7177.79 & 1109.14 & 1444.43 & 793.098 & 10891.2 & 1994.51 & 4360.99 & $\\dots$ \\\\\n",
       "\t8 & 2013-01-01T08:00:00 & 7223.21 & 1148.8 & 1463.21 & 812.598 & 11190.2 & 2041.97 & 4522.13 & $\\dots$ \\\\\n",
       "\t9 & 2013-01-01T09:00:00 & 7314.25 & 1196.98 & 1474.82 & 839.631 & 11627.1 & 2131.51 & 4688.33 & $\\dots$ \\\\\n",
       "\t10 & 2013-01-01T10:00:00 & 7676.35 & 1235.79 & 1500.77 & 869.122 & 12310.0 & 2249.82 & 4992.42 & $\\dots$ \\\\\n",
       "\t11 & 2013-01-01T11:00:00 & 8060.5 & 1304.76 & 1507.66 & 892.002 & 12934.1 & 2341.62 & 5270.26 & $\\dots$ \\\\\n",
       "\t12 & 2013-01-01T12:00:00 & 8392.92 & 1342.01 & 1489.9 & 903.369 & 13200.7 & 2390.57 & 5427.14 & $\\dots$ \\\\\n",
       "\t13 & 2013-01-01T13:00:00 & 8509.46 & 1328.54 & 1467.31 & 894.401 & 13062.5 & 2419.73 & 5449.88 & $\\dots$ \\\\\n",
       "\t14 & 2013-01-01T14:00:00 & 8498.67 & 1320.0 & 1439.35 & 880.976 & 12851.5 & 2392.34 & 5401.36 & $\\dots$ \\\\\n",
       "\t15 & 2013-01-01T15:00:00 & 8467.2 & 1296.76 & 1419.86 & 869.6 & 12725.0 & 2359.48 & 5287.74 & $\\dots$ \\\\\n",
       "\t16 & 2013-01-01T16:00:00 & 8432.13 & 1298.39 & 1410.82 & 869.319 & 12610.8 & 2359.6 & 5225.75 & $\\dots$ \\\\\n",
       "\t17 & 2013-01-01T17:00:00 & 8560.67 & 1320.87 & 1424.64 & 885.873 & 13028.4 & 2374.11 & 5319.88 & $\\dots$ \\\\\n",
       "\t18 & 2013-01-01T18:00:00 & 9095.08 & 1420.49 & 1467.51 & 930.999 & 14090.4 & 2494.64 & 5756.95 & $\\dots$ \\\\\n",
       "\t19 & 2013-01-01T19:00:00 & 9540.83 & 1482.32 & 1544.07 & 959.818 & 14739.4 & 2733.23 & 6294.06 & $\\dots$ \\\\\n",
       "\t20 & 2013-01-01T20:00:00 & 9560.57 & 1482.52 & 1566.79 & 957.561 & 14705.9 & 2756.17 & 6349.65 & $\\dots$ \\\\\n",
       "\t21 & 2013-01-01T21:00:00 & 9505.85 & 1467.13 & 1573.59 & 949.944 & 14586.6 & 2739.29 & 6322.92 & $\\dots$ \\\\\n",
       "\t22 & 2013-01-01T22:00:00 & 9329.4 & 1383.68 & 1564.56 & 927.673 & 14241.8 & 2667.92 & 6196.38 & $\\dots$ \\\\\n",
       "\t23 & 2013-01-01T23:00:00 & 8959.45 & 1350.57 & 1535.74 & 888.162 & 13608.6 & 2550.32 & 5920.13 & $\\dots$ \\\\\n",
       "\t24 & 2013-01-02T00:00:00 & 8508.35 & 1321.46 & 1502.47 & 853.548 & 12948.3 & 2402.07 & 5616.17 & $\\dots$ \\\\\n",
       "\t$\\dots$ & $\\dots$ & $\\dots$ & $\\dots$ & $\\dots$ & $\\dots$ & $\\dots$ & $\\dots$ & $\\dots$ &  \\\\\n",
       "\\end{tabular}\n"
      ],
      "text/plain": [
       "\u001b[1m96408×10 DataFrame\u001b[0m\n",
       "\u001b[1m   Row \u001b[0m│\u001b[1m Hour_End            \u001b[0m\u001b[1m COAST    \u001b[0m\u001b[1m EAST    \u001b[0m\u001b[1m FAR_WEST \u001b[0m\u001b[1m NORTH    \u001b[0m\u001b[1m NORTH_C  \u001b[0m\u001b[1m\u001b[0m ⋯\n",
       "       │\u001b[90m DateTime            \u001b[0m\u001b[90m Float64  \u001b[0m\u001b[90m Float64 \u001b[0m\u001b[90m Float64  \u001b[0m\u001b[90m Float64  \u001b[0m\u001b[90m Float64  \u001b[0m\u001b[90m\u001b[0m ⋯\n",
       "───────┼────────────────────────────────────────────────────────────────────────\n",
       "     1 │ 2013-01-01T01:00:00   7607.19  1074.02   1411.82   763.069  10370.3   ⋯\n",
       "     2 │ 2013-01-01T02:00:00   7389.27  1035.19   1403.6    754.426  10153.9\n",
       "     3 │ 2013-01-01T03:00:00   7179.75  1036.22   1395.13   746.216   9989.24\n",
       "     4 │ 2013-01-01T04:00:00   7039.69  1032.78   1395.59   749.029   9947.86\n",
       "     5 │ 2013-01-01T05:00:00   6991.41  1042.91   1401.24   757.148  10097.4   ⋯\n",
       "     6 │ 2013-01-01T06:00:00   7050.73  1069.29   1419.56   777.767  10472.1\n",
       "     7 │ 2013-01-01T07:00:00   7177.79  1109.14   1444.43   793.098  10891.2\n",
       "     8 │ 2013-01-01T08:00:00   7223.21  1148.8    1463.21   812.598  11190.2\n",
       "   ⋮   │          ⋮              ⋮         ⋮        ⋮         ⋮         ⋮      ⋱\n",
       " 96402 │ 2023-12-31T18:00:00  11943.5   1478.74   6206.88  1169.44   12082.3   ⋯\n",
       " 96403 │ 2023-12-31T19:00:00  12189.5   1520.67   6212.7   1245.61   12630.9\n",
       " 96404 │ 2023-12-31T20:00:00  11918.0   1499.03   6126.27  1254.82   12423.9\n",
       " 96405 │ 2023-12-31T21:00:00  11634.4   1500.32   6140.14  1245.64   12226.1\n",
       " 96406 │ 2023-12-31T22:00:00  11360.1   1469.1    6173.75  1266.04   12039.3   ⋯\n",
       " 96407 │ 2023-12-31T23:00:00  11096.8   1462.73   6117.84  1282.18   11844.8\n",
       " 96408 │ 2024-01-01T00:00:00  10819.4   1426.84   6101.64  1264.37   11829.8\n",
       "\u001b[36m                                                4 columns and 96393 rows omitted\u001b[0m"
      ]
     },
     "metadata": {},
     "output_type": "display_data"
    }
   ],
   "source": [
    "merged"
   ]
  },
  {
   "cell_type": "code",
   "execution_count": 19,
   "id": "7c8843f6",
   "metadata": {},
   "outputs": [
    {
     "data": {
      "text/plain": [
       "\"/home/emco4286/research/ERCOT_LOAD_DATA/processed/ercot_hourly_load_2013_2023.csv\""
      ]
     },
     "metadata": {},
     "output_type": "display_data"
    }
   ],
   "source": [
    "fname = \"ercot_hourly_load_2013_2023.csv\"\n",
    "path = joinpath(homedir(), \"research\", \"ERCOT_LOAD_DATA\", \"processed\", fname)\n",
    "CSV.write(path, merged)"
   ]
  },
  {
   "cell_type": "code",
   "execution_count": null,
   "id": "6bea83bc",
   "metadata": {},
   "outputs": [],
   "source": []
  }
 ],
 "metadata": {
  "kernelspec": {
   "display_name": "Julia 1.11.5",
   "language": "julia",
   "name": "julia-1.11"
  },
  "language_info": {
   "file_extension": ".jl",
   "mimetype": "application/julia",
   "name": "julia",
   "version": "1.11.5"
  }
 },
 "nbformat": 4,
 "nbformat_minor": 5
}
