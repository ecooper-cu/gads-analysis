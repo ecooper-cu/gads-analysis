{
 "cells": [
  {
   "cell_type": "code",
   "execution_count": 6,
   "id": "87e190e4",
   "metadata": {},
   "outputs": [],
   "source": [
    "using LaTeXStrings, JuMP, HiGHS, CSV, DataFrames, LinearAlgebra, Printf, Statistics, Symbolics, Clarabel"
   ]
  },
  {
   "cell_type": "markdown",
   "id": "00b42420",
   "metadata": {},
   "source": [
    "States $i$: 1 (A), 2 (F), 3 (PO), 4 (MO), 5 (RS)\n",
    "\n",
    "Minutes $t=0,\\ldots, 525600$\n",
    "\n",
    "Sequences $k$: 1"
   ]
  },
  {
   "cell_type": "code",
   "execution_count": 2,
   "id": "457360c0",
   "metadata": {},
   "outputs": [],
   "source": [
    "fname = joinpath(homedir(), \"research\", \"gen_287_2013_state.csv\")\n",
    "data = DataFrame(CSV.File(fname)) #, types=Array{DataType, 1}([Dict{String, Int64, Int64, String}])))\n",
    "X = data[!, \"Minutes\"]\n",
    "y = data[!, \"s_t\"];"
   ]
  },
  {
   "cell_type": "markdown",
   "id": "9e115785",
   "metadata": {},
   "source": [
    "$A = \\begin{bmatrix}\n",
    "A_1\\\\\n",
    "A_2\\\\\n",
    "A_3\\\\\n",
    "A_4\\\\\n",
    "A_5\n",
    "\\end{bmatrix}$,\n",
    "$A_1 = \\begin{bmatrix}\n",
    "a_{1,1} \\\\\n",
    "a_{1,2} \\\\\n",
    "a_{1,3} \\\\\n",
    "a_{1,4} \\\\\n",
    "a_{1,5}\n",
    "\\end{bmatrix}$, $\\ldots \\quad$, $A_5 = \\begin{bmatrix}\n",
    "a_{5,1} \\\\\n",
    "a_{5,2} \\\\\n",
    "a_{5,3} \\\\\n",
    "a_{5,4} \\\\\n",
    "a_{5,5}\n",
    "\\end{bmatrix}$"
   ]
  },
  {
   "cell_type": "code",
   "execution_count": 3,
   "id": "092965cd",
   "metadata": {},
   "outputs": [
    {
     "data": {
      "text/plain": [
       "build_logit_model (generic function with 1 method)"
      ]
     },
     "metadata": {},
     "output_type": "display_data"
    }
   ],
   "source": [
    "function softplus(model, t, u)\n",
    "    z = @variable(model, [1:2], lower_bound = 0.0)\n",
    "    @constraint(model, sum(z) <= 1.0)\n",
    "    @constraint(model, [u - t, 1, z[1]] in MOI.ExponentialCone())\n",
    "    @constraint(model, [-t, 1, z[2]] in MOI.ExponentialCone())\n",
    "end\n",
    "\n",
    "function build_logit_model(X, y, λ)\n",
    "    n = size(X)\n",
    "    n = n[1]\n",
    "    model = Model()\n",
    "    @variable(model, θ)\n",
    "    @variable(model, t[1:n])\n",
    "    for i in 1:n\n",
    "        u = -(X[i]' * θ) * y[i]\n",
    "        softplus(model, t[i], u)\n",
    "    end\n",
    "    # Add ℓ2 regularization\n",
    "    @variable(model, 0.0 <= reg)\n",
    "    @constraint(model, [reg; θ] in SecondOrderCone())\n",
    "    # Define objective\n",
    "    @objective(model, Min, sum(t) + λ * reg)\n",
    "    return model\n",
    "end"
   ]
  },
  {
   "cell_type": "code",
   "execution_count": 4,
   "id": "8e6befd4",
   "metadata": {},
   "outputs": [
    {
     "data": {
      "text/plain": [
       "A JuMP Model\n",
       "├ solver: none\n",
       "├ objective_sense: MIN_SENSE\n",
       "│ └ objective_function_type: AffExpr\n",
       "├ num_variables: 1576805\n",
       "├ num_constraints: 2628007\n",
       "│ ├ AffExpr in MOI.LessThan{Float64}: 525601\n",
       "│ ├ Vector{VariableRef} in MOI.SecondOrderCone: 1\n",
       "│ ├ Vector{AffExpr} in MOI.ExponentialCone: 1051202\n",
       "│ └ VariableRef in MOI.GreaterThan{Float64}: 1051203\n",
       "└ Names registered in the model\n",
       "  └ :reg, :t, :θ"
      ]
     },
     "metadata": {},
     "output_type": "display_data"
    }
   ],
   "source": [
    "λ = 10.0\n",
    "model = build_logit_model(X, y, λ)"
   ]
  },
  {
   "cell_type": "code",
   "execution_count": null,
   "id": "4ae7a2a7",
   "metadata": {},
   "outputs": [],
   "source": [
    "set_optimizer(model, Clarabel.Optimizer)\n",
    "set_silent(model)\n",
    "optimize!(model)\n",
    "assert_is_solved_and_feasible(model)"
   ]
  },
  {
   "cell_type": "code",
   "execution_count": null,
   "id": "23d401c4",
   "metadata": {},
   "outputs": [],
   "source": [
    "θ♯ = value.(model[:θ])"
   ]
  },
  {
   "cell_type": "code",
   "execution_count": null,
   "id": "0e0baef8",
   "metadata": {},
   "outputs": [],
   "source": []
  }
 ],
 "metadata": {
  "kernelspec": {
   "display_name": "Julia 1.11.3",
   "language": "julia",
   "name": "julia-1.11"
  },
  "language_info": {
   "file_extension": ".jl",
   "mimetype": "application/julia",
   "name": "julia",
   "version": "1.11.3"
  }
 },
 "nbformat": 4,
 "nbformat_minor": 5
}
