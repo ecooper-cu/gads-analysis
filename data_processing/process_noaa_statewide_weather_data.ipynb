{
 "cells": [
  {
   "cell_type": "code",
   "execution_count": 25,
   "id": "2edfedea",
   "metadata": {},
   "outputs": [],
   "source": [
    "import pandas as pd\n",
    "import numpy as np\n",
    "import os\n",
    "import pathlib\n",
    "import re\n",
    "import datetime\n",
    "import itertools"
   ]
  },
  {
   "cell_type": "code",
   "execution_count": 33,
   "id": "978ff107",
   "metadata": {},
   "outputs": [],
   "source": [
    "root = pathlib.Path.home()\n",
    "# pt = os.path.join(root, 'research', \"NOAA_WEATHER_DATA\", \"raw\", \"noaa_statewide_monthly_weather_data_tmax.txt\")\n",
    "# pt = os.path.join(root, 'research', \"NOAA_WEATHER_DATA\", \"raw\", \"noaa_statewide_monthly_weather_data_tmin.txt\")\n",
    "pt = os.path.join(root, 'research', \"NOAA_WEATHER_DATA\", \"raw\", \"noaa_statewide_monthly_weather_data_pcp.txt\")\n",
    "data = pd.read_fwf(pt, header=None, dtype={0: str})"
   ]
  },
  {
   "cell_type": "code",
   "execution_count": 34,
   "id": "d9cff150",
   "metadata": {},
   "outputs": [],
   "source": [
    "def split_it(string):\n",
    "    if string[:3] == \"041\":\n",
    "        return True\n",
    "    else:\n",
    "        return False\n",
    "\n",
    "mask = data[0].apply(split_it)"
   ]
  },
  {
   "cell_type": "code",
   "execution_count": 35,
   "id": "b91ab6b0",
   "metadata": {},
   "outputs": [],
   "source": [
    "data = data.loc[mask, :]\n",
    "\n",
    "def get_year(string):\n",
    "    return int(string[-4:])\n",
    "\n",
    "data[\"year\"] = data[0].apply(get_year)"
   ]
  },
  {
   "cell_type": "code",
   "execution_count": 36,
   "id": "18f44f62",
   "metadata": {},
   "outputs": [],
   "source": [
    "data = data[(2013 <=data[\"year\"]) & (data[\"year\"] <= 2023)]"
   ]
  },
  {
   "cell_type": "code",
   "execution_count": 37,
   "id": "849c086f",
   "metadata": {},
   "outputs": [],
   "source": [
    "index = pd.date_range(start=datetime.datetime(2013, 1, 1), end=datetime.datetime(2024, 1, 1), freq='1h')\n",
    "new_df = pd.DataFrame(index=index)"
   ]
  },
  {
   "cell_type": "code",
   "execution_count": 38,
   "id": "d96d6555",
   "metadata": {},
   "outputs": [],
   "source": [
    "for year, month in itertools.product(range(2013, 2024), range(1, 13)):\n",
    "    mask = (new_df.index.month == month) & (new_df.index.year == year)\n",
    "    i = data[data[\"year\"] == year].index[0]\n",
    "    val = data.at[i, month]\n",
    "    # new_df.loc[mask, \"Tmin\"] = val\n",
    "    # new_df.loc[mask, \"Tmin\"] = val\n",
    "    new_df.loc[mask, \"Pcp\"] = val"
   ]
  },
  {
   "cell_type": "code",
   "execution_count": 39,
   "id": "864c68fe",
   "metadata": {},
   "outputs": [
    {
     "data": {
      "text/html": [
       "<div>\n",
       "<style scoped>\n",
       "    .dataframe tbody tr th:only-of-type {\n",
       "        vertical-align: middle;\n",
       "    }\n",
       "\n",
       "    .dataframe tbody tr th {\n",
       "        vertical-align: top;\n",
       "    }\n",
       "\n",
       "    .dataframe thead th {\n",
       "        text-align: right;\n",
       "    }\n",
       "</style>\n",
       "<table border=\"1\" class=\"dataframe\">\n",
       "  <thead>\n",
       "    <tr style=\"text-align: right;\">\n",
       "      <th></th>\n",
       "      <th>Pcp</th>\n",
       "    </tr>\n",
       "  </thead>\n",
       "  <tbody>\n",
       "    <tr>\n",
       "      <th>2013-01-01 00:00:00</th>\n",
       "      <td>2.46</td>\n",
       "    </tr>\n",
       "    <tr>\n",
       "      <th>2013-01-01 01:00:00</th>\n",
       "      <td>2.46</td>\n",
       "    </tr>\n",
       "    <tr>\n",
       "      <th>2013-01-01 02:00:00</th>\n",
       "      <td>2.46</td>\n",
       "    </tr>\n",
       "    <tr>\n",
       "      <th>2013-01-01 03:00:00</th>\n",
       "      <td>2.46</td>\n",
       "    </tr>\n",
       "    <tr>\n",
       "      <th>2013-01-01 04:00:00</th>\n",
       "      <td>2.46</td>\n",
       "    </tr>\n",
       "    <tr>\n",
       "      <th>...</th>\n",
       "      <td>...</td>\n",
       "    </tr>\n",
       "    <tr>\n",
       "      <th>2023-12-31 20:00:00</th>\n",
       "      <td>1.75</td>\n",
       "    </tr>\n",
       "    <tr>\n",
       "      <th>2023-12-31 21:00:00</th>\n",
       "      <td>1.75</td>\n",
       "    </tr>\n",
       "    <tr>\n",
       "      <th>2023-12-31 22:00:00</th>\n",
       "      <td>1.75</td>\n",
       "    </tr>\n",
       "    <tr>\n",
       "      <th>2023-12-31 23:00:00</th>\n",
       "      <td>1.75</td>\n",
       "    </tr>\n",
       "    <tr>\n",
       "      <th>2024-01-01 00:00:00</th>\n",
       "      <td>NaN</td>\n",
       "    </tr>\n",
       "  </tbody>\n",
       "</table>\n",
       "<p>96409 rows × 1 columns</p>\n",
       "</div>"
      ],
      "text/plain": [
       "                      Pcp\n",
       "2013-01-01 00:00:00  2.46\n",
       "2013-01-01 01:00:00  2.46\n",
       "2013-01-01 02:00:00  2.46\n",
       "2013-01-01 03:00:00  2.46\n",
       "2013-01-01 04:00:00  2.46\n",
       "...                   ...\n",
       "2023-12-31 20:00:00  1.75\n",
       "2023-12-31 21:00:00  1.75\n",
       "2023-12-31 22:00:00  1.75\n",
       "2023-12-31 23:00:00  1.75\n",
       "2024-01-01 00:00:00   NaN\n",
       "\n",
       "[96409 rows x 1 columns]"
      ]
     },
     "execution_count": 39,
     "metadata": {},
     "output_type": "execute_result"
    }
   ],
   "source": [
    "new_df"
   ]
  },
  {
   "cell_type": "code",
   "execution_count": 40,
   "id": "285fabe7",
   "metadata": {},
   "outputs": [],
   "source": [
    "# pt = os.path.join(root, 'research',\"NOAA_WEATHER_DATA\", \"processed\", \"noaa_statewide_monthly_weather_data_tmax.csv\")\n",
    "# pt = os.path.join(root, 'research',\"NOAA_WEATHER_DATA\", \"processed\", \"noaa_statewide_monthly_weather_data_tmin.csv\")\n",
    "pt = os.path.join(root, 'research',\"NOAA_WEATHER_DATA\", \"processed\", \"noaa_statewide_monthly_weather_data_pcp.csv\")\n",
    "new_df.to_csv(pt)"
   ]
  },
  {
   "cell_type": "code",
   "execution_count": null,
   "id": "9e378800",
   "metadata": {},
   "outputs": [],
   "source": []
  }
 ],
 "metadata": {
  "kernelspec": {
   "display_name": "ecen5407",
   "language": "python",
   "name": "python3"
  },
  "language_info": {
   "codemirror_mode": {
    "name": "ipython",
    "version": 3
   },
   "file_extension": ".py",
   "mimetype": "text/x-python",
   "name": "python",
   "nbconvert_exporter": "python",
   "pygments_lexer": "ipython3",
   "version": "3.10.12"
  }
 },
 "nbformat": 4,
 "nbformat_minor": 5
}
