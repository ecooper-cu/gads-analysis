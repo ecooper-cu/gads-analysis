{
 "cells": [
  {
   "cell_type": "code",
   "execution_count": 2,
   "id": "415016fa",
   "metadata": {},
   "outputs": [],
   "source": [
    "import pandas as pd\n",
    "import numpy as np\n",
    "import os\n",
    "import pathlib"
   ]
  },
  {
   "cell_type": "code",
   "execution_count": null,
   "id": "b62d63ad",
   "metadata": {},
   "outputs": [],
   "source": [
    "root = pathlib.Path.home()\n",
    "pt = os.path.join(root, 'research', 'ERCOT_WEATHER_DATA', \"raw\", \"texas_coast_weather_daily_2013_2023.csv.csv\")\n",
    "data = pd.read_csv(pt)"
   ]
  },
  {
   "cell_type": "code",
   "execution_count": 21,
   "id": "794ca738",
   "metadata": {},
   "outputs": [
    {
     "name": "stderr",
     "output_type": "stream",
     "text": [
      "/tmp/ipykernel_4262/754568473.py:2: FutureWarning: DataFrame.interpolate with method=pad is deprecated and will raise in a future version. Use obj.ffill() or obj.bfill() instead.\n",
      "  resampled = data.resample(\"1h\").interpolate(\"pad\")[[\"PRCP\", \"TMAX\", \"TMIN\"]]\n"
     ]
    }
   ],
   "source": [
    "data.set_index(pd.DatetimeIndex(data[\"DATE\"]), inplace=True)\n",
    "resampled = data.resample(\"1h\").interpolate(\"pad\")[[\"PRCP\", \"TMAX\", \"TMIN\"]]"
   ]
  },
  {
   "cell_type": "code",
   "execution_count": 23,
   "id": "c698b856",
   "metadata": {},
   "outputs": [],
   "source": [
    "pt = os.path.join(root, 'research', 'ERCOT_WEATHER_DATA', \"processed\", \"texas_coast_weather_daily_2013_2023.csv.csv\")\n",
    "resampled.to_csv(pt)"
   ]
  },
  {
   "cell_type": "code",
   "execution_count": null,
   "id": "e2818071",
   "metadata": {},
   "outputs": [],
   "source": []
  }
 ],
 "metadata": {
  "kernelspec": {
   "display_name": "ecen5407",
   "language": "python",
   "name": "python3"
  },
  "language_info": {
   "codemirror_mode": {
    "name": "ipython",
    "version": 3
   },
   "file_extension": ".py",
   "mimetype": "text/x-python",
   "name": "python",
   "nbconvert_exporter": "python",
   "pygments_lexer": "ipython3",
   "version": "3.10.12"
  }
 },
 "nbformat": 4,
 "nbformat_minor": 5
}
