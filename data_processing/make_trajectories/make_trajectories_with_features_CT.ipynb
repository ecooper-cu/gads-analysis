{
 "cells": [
  {
   "cell_type": "markdown",
   "id": "7fb61a67",
   "metadata": {},
   "source": [
    "Features are load, weather (tmax, tmin, precipitation), days since last planned outage, days since last maintenance outage, month"
   ]
  },
  {
   "cell_type": "code",
   "execution_count": 1,
   "id": "834d296e",
   "metadata": {},
   "outputs": [],
   "source": [
    "using Printf, CSV, DataFrames, Statistics, Glob, XLSX, Dates, Plots, TimeSeries, JSON"
   ]
  },
  {
   "cell_type": "code",
   "execution_count": 2,
   "id": "6ffa53fd",
   "metadata": {},
   "outputs": [
    {
     "data": {
      "text/plain": [
       "604-element Vector{String}:\n",
       " \"/projects/emco4286/data/gads/ra\"\u001b[93m\u001b[1m ⋯ 31 bytes ⋯ \u001b[22m\u001b[39m\"_5_rating_2_state_Texas_raw.csv\"\n",
       " \"/projects/emco4286/data/gads/ra\"\u001b[93m\u001b[1m ⋯ 31 bytes ⋯ \u001b[22m\u001b[39m\"_2_rating_1_state_Texas_raw.csv\"\n",
       " \"/projects/emco4286/data/gads/ra\"\u001b[93m\u001b[1m ⋯ 31 bytes ⋯ \u001b[22m\u001b[39m\"_2_rating_1_state_Texas_raw.csv\"\n",
       " \"/projects/emco4286/data/gads/ra\"\u001b[93m\u001b[1m ⋯ 31 bytes ⋯ \u001b[22m\u001b[39m\"_2_rating_1_state_Texas_raw.csv\"\n",
       " \"/projects/emco4286/data/gads/ra\"\u001b[93m\u001b[1m ⋯ 31 bytes ⋯ \u001b[22m\u001b[39m\"_4_rating_2_state_Texas_raw.csv\"\n",
       " \"/projects/emco4286/data/gads/ra\"\u001b[93m\u001b[1m ⋯ 31 bytes ⋯ \u001b[22m\u001b[39m\"_4_rating_2_state_Texas_raw.csv\"\n",
       " \"/projects/emco4286/data/gads/ra\"\u001b[93m\u001b[1m ⋯ 31 bytes ⋯ \u001b[22m\u001b[39m\"_4_rating_3_state_Texas_raw.csv\"\n",
       " \"/projects/emco4286/data/gads/ra\"\u001b[93m\u001b[1m ⋯ 31 bytes ⋯ \u001b[22m\u001b[39m\"_4_rating_2_state_Texas_raw.csv\"\n",
       " \"/projects/emco4286/data/gads/ra\"\u001b[93m\u001b[1m ⋯ 31 bytes ⋯ \u001b[22m\u001b[39m\"_4_rating_2_state_Texas_raw.csv\"\n",
       " \"/projects/emco4286/data/gads/ra\"\u001b[93m\u001b[1m ⋯ 31 bytes ⋯ \u001b[22m\u001b[39m\"_4_rating_2_state_Texas_raw.csv\"\n",
       " ⋮\n",
       " \"/projects/emco4286/data/gads/ra\"\u001b[93m\u001b[1m ⋯ 30 bytes ⋯ \u001b[22m\u001b[39m\"_2_rating_2_state_Texas_raw.csv\"\n",
       " \"/projects/emco4286/data/gads/ra\"\u001b[93m\u001b[1m ⋯ 30 bytes ⋯ \u001b[22m\u001b[39m\"_4_rating_1_state_Texas_raw.csv\"\n",
       " \"/projects/emco4286/data/gads/ra\"\u001b[93m\u001b[1m ⋯ 30 bytes ⋯ \u001b[22m\u001b[39m\"_3_rating_2_state_Texas_raw.csv\"\n",
       " \"/projects/emco4286/data/gads/ra\"\u001b[93m\u001b[1m ⋯ 30 bytes ⋯ \u001b[22m\u001b[39m\"_3_rating_2_state_Texas_raw.csv\"\n",
       " \"/projects/emco4286/data/gads/ra\"\u001b[93m\u001b[1m ⋯ 30 bytes ⋯ \u001b[22m\u001b[39m\"_3_rating_2_state_Texas_raw.csv\"\n",
       " \"/projects/emco4286/data/gads/ra\"\u001b[93m\u001b[1m ⋯ 30 bytes ⋯ \u001b[22m\u001b[39m\"_1_rating_1_state_Texas_raw.csv\"\n",
       " \"/projects/emco4286/data/gads/ra\"\u001b[93m\u001b[1m ⋯ 30 bytes ⋯ \u001b[22m\u001b[39m\"_1_rating_1_state_Texas_raw.csv\"\n",
       " \"/projects/emco4286/data/gads/ra\"\u001b[93m\u001b[1m ⋯ 30 bytes ⋯ \u001b[22m\u001b[39m\"_1_rating_2_state_Texas_raw.csv\"\n",
       " \"/projects/emco4286/data/gads/ra\"\u001b[93m\u001b[1m ⋯ 30 bytes ⋯ \u001b[22m\u001b[39m\"_4_rating_1_state_Texas_raw.csv\""
      ]
     },
     "metadata": {},
     "output_type": "display_data"
    }
   ],
   "source": [
    "data_directory = joinpath(\"/projects\", \"emco4286\", \"data\", \"gads\", \"raw_data\")\n",
    "files = glob(\"gen_*_type_*_dtgrp_*_rating_*_state_Texas_raw.csv\", data_directory)"
   ]
  },
  {
   "cell_type": "code",
   "execution_count": 3,
   "id": "da6e823a",
   "metadata": {},
   "outputs": [
    {
     "data": {
      "text/plain": [
       "172-element Vector{String}:\n",
       " \"/projects/emco4286/data/gads/ra\"\u001b[93m\u001b[1m ⋯ 31 bytes ⋯ \u001b[22m\u001b[39m\"_4_rating_1_state_Texas_raw.csv\"\n",
       " \"/projects/emco4286/data/gads/ra\"\u001b[93m\u001b[1m ⋯ 31 bytes ⋯ \u001b[22m\u001b[39m\"_4_rating_1_state_Texas_raw.csv\"\n",
       " \"/projects/emco4286/data/gads/ra\"\u001b[93m\u001b[1m ⋯ 31 bytes ⋯ \u001b[22m\u001b[39m\"_5_rating_1_state_Texas_raw.csv\"\n",
       " \"/projects/emco4286/data/gads/ra\"\u001b[93m\u001b[1m ⋯ 31 bytes ⋯ \u001b[22m\u001b[39m\"_5_rating_1_state_Texas_raw.csv\"\n",
       " \"/projects/emco4286/data/gads/ra\"\u001b[93m\u001b[1m ⋯ 31 bytes ⋯ \u001b[22m\u001b[39m\"_4_rating_2_state_Texas_raw.csv\"\n",
       " \"/projects/emco4286/data/gads/ra\"\u001b[93m\u001b[1m ⋯ 31 bytes ⋯ \u001b[22m\u001b[39m\"_4_rating_2_state_Texas_raw.csv\"\n",
       " \"/projects/emco4286/data/gads/ra\"\u001b[93m\u001b[1m ⋯ 31 bytes ⋯ \u001b[22m\u001b[39m\"_1_rating_1_state_Texas_raw.csv\"\n",
       " \"/projects/emco4286/data/gads/ra\"\u001b[93m\u001b[1m ⋯ 31 bytes ⋯ \u001b[22m\u001b[39m\"_2_rating_1_state_Texas_raw.csv\"\n",
       " \"/projects/emco4286/data/gads/ra\"\u001b[93m\u001b[1m ⋯ 31 bytes ⋯ \u001b[22m\u001b[39m\"_2_rating_1_state_Texas_raw.csv\"\n",
       " \"/projects/emco4286/data/gads/ra\"\u001b[93m\u001b[1m ⋯ 31 bytes ⋯ \u001b[22m\u001b[39m\"_2_rating_2_state_Texas_raw.csv\"\n",
       " ⋮\n",
       " \"/projects/emco4286/data/gads/ra\"\u001b[93m\u001b[1m ⋯ 30 bytes ⋯ \u001b[22m\u001b[39m\"_1_rating_1_state_Texas_raw.csv\"\n",
       " \"/projects/emco4286/data/gads/ra\"\u001b[93m\u001b[1m ⋯ 30 bytes ⋯ \u001b[22m\u001b[39m\"_1_rating_1_state_Texas_raw.csv\"\n",
       " \"/projects/emco4286/data/gads/ra\"\u001b[93m\u001b[1m ⋯ 30 bytes ⋯ \u001b[22m\u001b[39m\"_1_rating_1_state_Texas_raw.csv\"\n",
       " \"/projects/emco4286/data/gads/ra\"\u001b[93m\u001b[1m ⋯ 30 bytes ⋯ \u001b[22m\u001b[39m\"_1_rating_1_state_Texas_raw.csv\"\n",
       " \"/projects/emco4286/data/gads/ra\"\u001b[93m\u001b[1m ⋯ 30 bytes ⋯ \u001b[22m\u001b[39m\"_1_rating_1_state_Texas_raw.csv\"\n",
       " \"/projects/emco4286/data/gads/ra\"\u001b[93m\u001b[1m ⋯ 30 bytes ⋯ \u001b[22m\u001b[39m\"_2_rating_1_state_Texas_raw.csv\"\n",
       " \"/projects/emco4286/data/gads/ra\"\u001b[93m\u001b[1m ⋯ 30 bytes ⋯ \u001b[22m\u001b[39m\"_2_rating_1_state_Texas_raw.csv\"\n",
       " \"/projects/emco4286/data/gads/ra\"\u001b[93m\u001b[1m ⋯ 30 bytes ⋯ \u001b[22m\u001b[39m\"_2_rating_1_state_Texas_raw.csv\"\n",
       " \"/projects/emco4286/data/gads/ra\"\u001b[93m\u001b[1m ⋯ 30 bytes ⋯ \u001b[22m\u001b[39m\"_5_rating_2_state_Texas_raw.csv\""
      ]
     },
     "metadata": {},
     "output_type": "display_data"
    }
   ],
   "source": [
    "dict_directory = joinpath(homedir(), \"gads-analysis\", \"nerc_to_sienna.json\")\n",
    "nerc_to_sienna = JSON.parsefile(dict_directory)\n",
    "nerc_types = [match(r\"type_(\\d*)_\", f)[1] for f in files]\n",
    "idx = filter(x -> nerc_to_sienna[nerc_types[x]] == 8, collect(1:1:length(files)))\n",
    "files = files[idx]"
   ]
  },
  {
   "cell_type": "code",
   "execution_count": 4,
   "id": "db903e2a",
   "metadata": {},
   "outputs": [
    {
     "data": {
      "text/plain": [
       "172-element Vector{Int32}:\n",
       " 10080\n",
       " 10081\n",
       " 10082\n",
       " 10083\n",
       " 10160\n",
       " 10161\n",
       " 10263\n",
       " 10264\n",
       " 10266\n",
       " 10270\n",
       "     ⋮\n",
       "  5868\n",
       "  5869\n",
       "  5870\n",
       "  5871\n",
       "  5872\n",
       "  7660\n",
       "  7661\n",
       "  7662\n",
       "  7943"
      ]
     },
     "metadata": {},
     "output_type": "display_data"
    }
   ],
   "source": [
    "vec = match.(r\"/projects/emco4286/data/gads/raw_data/gen_(\\d+)_type_(\\d+)_dtgrp_(\\d+)_rating_(\\d+)_state_Texas_raw.csv\", files)\n",
    "ids = [parse(Int32, v[1]) for v in vec]"
   ]
  },
  {
   "cell_type": "code",
   "execution_count": 4,
   "id": "d3011672",
   "metadata": {},
   "outputs": [
    {
     "data": {
      "text/html": [
       "<div><div style = \"float: left;\"><span>96408×2 DataFrame</span></div><div style = \"float: right;\"><span style = \"font-style: italic;\">96383 rows omitted</span></div><div style = \"clear: both;\"></div></div><div class = \"data-frame\" style = \"overflow-x: scroll;\"><table class = \"data-frame\" style = \"margin-bottom: 6px;\"><thead><tr class = \"header\"><th class = \"rowNumber\" style = \"font-weight: bold; text-align: right;\">Row</th><th style = \"text-align: left;\">x</th><th style = \"text-align: left;\">ERCOT</th></tr><tr class = \"subheader headerLastRow\"><th class = \"rowNumber\" style = \"font-weight: bold; text-align: right;\"></th><th title = \"DateTime\" style = \"text-align: left;\">DateTime</th><th title = \"Float64\" style = \"text-align: left;\">Float64</th></tr></thead><tbody><tr><td class = \"rowNumber\" style = \"font-weight: bold; text-align: right;\">1</td><td style = \"text-align: left;\">2013-01-01T01:00:00</td><td style = \"text-align: right;\">28684.9</td></tr><tr><td class = \"rowNumber\" style = \"font-weight: bold; text-align: right;\">2</td><td style = \"text-align: left;\">2013-01-01T02:00:00</td><td style = \"text-align: right;\">28002.7</td></tr><tr><td class = \"rowNumber\" style = \"font-weight: bold; text-align: right;\">3</td><td style = \"text-align: left;\">2013-01-01T03:00:00</td><td style = \"text-align: right;\">27363.8</td></tr><tr><td class = \"rowNumber\" style = \"font-weight: bold; text-align: right;\">4</td><td style = \"text-align: left;\">2013-01-01T04:00:00</td><td style = \"text-align: right;\">27032.4</td></tr><tr><td class = \"rowNumber\" style = \"font-weight: bold; text-align: right;\">5</td><td style = \"text-align: left;\">2013-01-01T05:00:00</td><td style = \"text-align: right;\">27163.8</td></tr><tr><td class = \"rowNumber\" style = \"font-weight: bold; text-align: right;\">6</td><td style = \"text-align: left;\">2013-01-01T06:00:00</td><td style = \"text-align: right;\">27836.8</td></tr><tr><td class = \"rowNumber\" style = \"font-weight: bold; text-align: right;\">7</td><td style = \"text-align: left;\">2013-01-01T07:00:00</td><td style = \"text-align: right;\">28722.0</td></tr><tr><td class = \"rowNumber\" style = \"font-weight: bold; text-align: right;\">8</td><td style = \"text-align: left;\">2013-01-01T08:00:00</td><td style = \"text-align: right;\">29391.7</td></tr><tr><td class = \"rowNumber\" style = \"font-weight: bold; text-align: right;\">9</td><td style = \"text-align: left;\">2013-01-01T09:00:00</td><td style = \"text-align: right;\">30293.8</td></tr><tr><td class = \"rowNumber\" style = \"font-weight: bold; text-align: right;\">10</td><td style = \"text-align: left;\">2013-01-01T10:00:00</td><td style = \"text-align: right;\">31882.3</td></tr><tr><td class = \"rowNumber\" style = \"font-weight: bold; text-align: right;\">11</td><td style = \"text-align: left;\">2013-01-01T11:00:00</td><td style = \"text-align: right;\">33359.5</td></tr><tr><td class = \"rowNumber\" style = \"font-weight: bold; text-align: right;\">12</td><td style = \"text-align: left;\">2013-01-01T12:00:00</td><td style = \"text-align: right;\">34186.8</td></tr><tr><td class = \"rowNumber\" style = \"font-weight: bold; text-align: right;\">13</td><td style = \"text-align: left;\">2013-01-01T13:00:00</td><td style = \"text-align: right;\">34155.1</td></tr><tr><td style = \"text-align: right;\">&vellip;</td><td style = \"text-align: right;\">&vellip;</td><td style = \"text-align: right;\">&vellip;</td></tr><tr><td class = \"rowNumber\" style = \"font-weight: bold; text-align: right;\">96397</td><td style = \"text-align: left;\">2023-12-31T13:00:00</td><td style = \"text-align: right;\">42736.8</td></tr><tr><td class = \"rowNumber\" style = \"font-weight: bold; text-align: right;\">96398</td><td style = \"text-align: left;\">2023-12-31T14:00:00</td><td style = \"text-align: right;\">42212.0</td></tr><tr><td class = \"rowNumber\" style = \"font-weight: bold; text-align: right;\">96399</td><td style = \"text-align: left;\">2023-12-31T15:00:00</td><td style = \"text-align: right;\">42043.5</td></tr><tr><td class = \"rowNumber\" style = \"font-weight: bold; text-align: right;\">96400</td><td style = \"text-align: left;\">2023-12-31T16:00:00</td><td style = \"text-align: right;\">42269.0</td></tr><tr><td class = \"rowNumber\" style = \"font-weight: bold; text-align: right;\">96401</td><td style = \"text-align: left;\">2023-12-31T17:00:00</td><td style = \"text-align: right;\">42839.4</td></tr><tr><td class = \"rowNumber\" style = \"font-weight: bold; text-align: right;\">96402</td><td style = \"text-align: left;\">2023-12-31T18:00:00</td><td style = \"text-align: right;\">44391.8</td></tr><tr><td class = \"rowNumber\" style = \"font-weight: bold; text-align: right;\">96403</td><td style = \"text-align: left;\">2023-12-31T19:00:00</td><td style = \"text-align: right;\">45677.1</td></tr><tr><td class = \"rowNumber\" style = \"font-weight: bold; text-align: right;\">96404</td><td style = \"text-align: left;\">2023-12-31T20:00:00</td><td style = \"text-align: right;\">44751.2</td></tr><tr><td class = \"rowNumber\" style = \"font-weight: bold; text-align: right;\">96405</td><td style = \"text-align: left;\">2023-12-31T21:00:00</td><td style = \"text-align: right;\">43892.8</td></tr><tr><td class = \"rowNumber\" style = \"font-weight: bold; text-align: right;\">96406</td><td style = \"text-align: left;\">2023-12-31T22:00:00</td><td style = \"text-align: right;\">43113.7</td></tr><tr><td class = \"rowNumber\" style = \"font-weight: bold; text-align: right;\">96407</td><td style = \"text-align: left;\">2023-12-31T23:00:00</td><td style = \"text-align: right;\">42244.6</td></tr><tr><td class = \"rowNumber\" style = \"font-weight: bold; text-align: right;\">96408</td><td style = \"text-align: left;\">2024-01-01T00:00:00</td><td style = \"text-align: right;\">41622.0</td></tr></tbody></table></div>"
      ],
      "text/latex": [
       "\\begin{tabular}{r|cc}\n",
       "\t& x & ERCOT\\\\\n",
       "\t\\hline\n",
       "\t& DateTime & Float64\\\\\n",
       "\t\\hline\n",
       "\t1 & 2013-01-01T01:00:00 & 28684.9 \\\\\n",
       "\t2 & 2013-01-01T02:00:00 & 28002.7 \\\\\n",
       "\t3 & 2013-01-01T03:00:00 & 27363.8 \\\\\n",
       "\t4 & 2013-01-01T04:00:00 & 27032.4 \\\\\n",
       "\t5 & 2013-01-01T05:00:00 & 27163.8 \\\\\n",
       "\t6 & 2013-01-01T06:00:00 & 27836.8 \\\\\n",
       "\t7 & 2013-01-01T07:00:00 & 28722.0 \\\\\n",
       "\t8 & 2013-01-01T08:00:00 & 29391.7 \\\\\n",
       "\t9 & 2013-01-01T09:00:00 & 30293.8 \\\\\n",
       "\t10 & 2013-01-01T10:00:00 & 31882.3 \\\\\n",
       "\t11 & 2013-01-01T11:00:00 & 33359.5 \\\\\n",
       "\t12 & 2013-01-01T12:00:00 & 34186.8 \\\\\n",
       "\t13 & 2013-01-01T13:00:00 & 34155.1 \\\\\n",
       "\t14 & 2013-01-01T14:00:00 & 33781.1 \\\\\n",
       "\t15 & 2013-01-01T15:00:00 & 33400.6 \\\\\n",
       "\t16 & 2013-01-01T16:00:00 & 33171.8 \\\\\n",
       "\t17 & 2013-01-01T17:00:00 & 33902.3 \\\\\n",
       "\t18 & 2013-01-01T18:00:00 & 36307.9 \\\\\n",
       "\t19 & 2013-01-01T19:00:00 & 38422.5 \\\\\n",
       "\t20 & 2013-01-01T20:00:00 & 38520.6 \\\\\n",
       "\t21 & 2013-01-01T21:00:00 & 38288.6 \\\\\n",
       "\t22 & 2013-01-01T22:00:00 & 37438.1 \\\\\n",
       "\t23 & 2013-01-01T23:00:00 & 35905.9 \\\\\n",
       "\t24 & 2013-01-02T00:00:00 & 34209.1 \\\\\n",
       "\t$\\dots$ & $\\dots$ & $\\dots$ \\\\\n",
       "\\end{tabular}\n"
      ],
      "text/plain": [
       "\u001b[1m96408×2 DataFrame\u001b[0m\n",
       "\u001b[1m   Row \u001b[0m│\u001b[1m x                   \u001b[0m\u001b[1m ERCOT   \u001b[0m\n",
       "       │\u001b[90m DateTime            \u001b[0m\u001b[90m Float64 \u001b[0m\n",
       "───────┼──────────────────────────────\n",
       "     1 │ 2013-01-01T01:00:00  28684.9\n",
       "     2 │ 2013-01-01T02:00:00  28002.7\n",
       "     3 │ 2013-01-01T03:00:00  27363.8\n",
       "     4 │ 2013-01-01T04:00:00  27032.4\n",
       "     5 │ 2013-01-01T05:00:00  27163.8\n",
       "     6 │ 2013-01-01T06:00:00  27836.8\n",
       "     7 │ 2013-01-01T07:00:00  28722.0\n",
       "     8 │ 2013-01-01T08:00:00  29391.7\n",
       "   ⋮   │          ⋮              ⋮\n",
       " 96402 │ 2023-12-31T18:00:00  44391.8\n",
       " 96403 │ 2023-12-31T19:00:00  45677.1\n",
       " 96404 │ 2023-12-31T20:00:00  44751.2\n",
       " 96405 │ 2023-12-31T21:00:00  43892.8\n",
       " 96406 │ 2023-12-31T22:00:00  43113.7\n",
       " 96407 │ 2023-12-31T23:00:00  42244.6\n",
       " 96408 │ 2024-01-01T00:00:00  41622.0\n",
       "\u001b[36m                    96393 rows omitted\u001b[0m"
      ]
     },
     "metadata": {},
     "output_type": "display_data"
    }
   ],
   "source": [
    "fname = \"ercot_hourly_load_2013_2023.csv\"\n",
    "path = joinpath(\"/projects\", \"emco4286\", \"data\", \"ercot\", fname)\n",
    "load_data = DataFrame(CSV.File(path))\n",
    "DataFrames.rename!(load_data, :Hour_End => \"x\")\n",
    "\n",
    "load_data = load_data[!, [:x, :ERCOT]]"
   ]
  },
  {
   "cell_type": "code",
   "execution_count": 5,
   "id": "fed556e5",
   "metadata": {},
   "outputs": [],
   "source": [
    "weather_pt = joinpath(\"/projects\", \"emco4286\", \"data\", \"noaa\", \"processed\")\n",
    "weather_files = glob(\"*.csv\", weather_pt)\n",
    "\n",
    "my_w_list = []\n",
    "\n",
    "for w in weather_files\n",
    "\n",
    "    # types_dict=Dict((\"Column1\" => DateTime))\n",
    "    weather = DataFrame(CSV.File(w)) #, dateformat=\"yyyy-mm-dd HH:00:00\"))\n",
    "    weather.Column1 = DateTime.(weather.Column1, \"yyyy-mm-dd HH:00:00\")\n",
    "    push!(my_w_list, weather)\n",
    "end\n",
    "\n",
    "weather_merged = reduce((x, y) -> innerjoin(x, y, on=:Column1), my_w_list)\n",
    "DataFrames.rename!(weather_merged, :Column1 => :x)\n",
    "bool_vec = weather_merged.Tmax .== 0\n",
    "bool_vec = ifelse.(ismissing.(bool_vec), 0, bool_vec)\n",
    "bool_vec = convert.(Bool, bool_vec)\n",
    "idx1 = filter(r -> bool_vec[r], range(1, length(bool_vec)))\n",
    "weather_merged[idx1, :Tmax] .= missing;\n"
   ]
  },
  {
   "cell_type": "code",
   "execution_count": 6,
   "id": "57a92bcf",
   "metadata": {},
   "outputs": [
    {
     "data": {
      "text/plain": [
       "Dict{Int64, Int64} with 3 entries:\n",
       "  2 => 150\n",
       "  3 => 200\n",
       "  1 => 50"
      ]
     },
     "metadata": {},
     "output_type": "display_data"
    }
   ],
   "source": [
    "x = Dict()\n",
    "i = 1\n",
    "mydict = Dict([(\"A\", 1), (\"RS\", 1), (\"NC\", 1),  (\"IR\", 1), (\"MB\", 1), (\"F\", 2), (\"U1\", 2), (\"U2\" , 2), (\"U3\" , 2), (\"D1\", 2), (\"D2\", 2), (\"D3\", 2), (\"SF\", 2), (\"PO\", 3), (\"PE\", 3), (\"PD\", 3), (\"DP\", 3), (\"MO\", 4), (\"ME\", 4), (\"DM\", 4), (\"D4\", 4), (\"RU\", 5), (\"DR\", 5), (\"TC\", 5)])\n",
    "agedict = Dict([(1, DateTime(1980, 1, 1)), (2, DateTime(1985, 1, 1)), (3, DateTime(1995, 1, 1)), (4, DateTime(2005, 1, 1)), (5, DateTime(2015, 1, 1)), (6, DateTime(2020, 1, 1))])\n",
    "# agedict = Dict([(2, DateTime(1989, 1, 1)), (3, DateTime(1993, 1, 1))])\n",
    "types_dict = Dict(\"EventStartDT\" => DateTime, \"EventEndDT\" => DateTime)\n",
    "rating_dict = Dict([(1, 50), (2, 150), (3, 200)]);\n",
    "# weather_zone_dict = Dict([(2, \"COAST\"), (3, \"NORTH_C\")]);"
   ]
  },
  {
   "cell_type": "code",
   "execution_count": 13,
   "id": "cde520f7",
   "metadata": {},
   "outputs": [
    {
     "name": "stdout",
     "output_type": "stream",
     "text": [
      "/projects/emco4286/data/gads/raw_data/gen_10080_type_300_dtgrp_4_rating_1_state_Texas_raw.csv \n",
      "/projects/emco4286/data/gads/raw_data/gen_10081_type_300_dtgrp_4_rating_1_state_Texas_raw.csv \n",
      "/projects/emco4286/data/gads/raw_data/gen_10082_type_300_dtgrp_5_rating_1_state_Texas_raw.csv \n",
      "/projects/emco4286/data/gads/raw_data/gen_10083_type_300_dtgrp_5_rating_1_state_Texas_raw.csv \n",
      "/projects/emco4286/data/gads/raw_data/gen_10160_type_300_dtgrp_4_rating_2_state_Texas_raw.csv \n",
      "/projects/emco4286/data/gads/raw_data/gen_10161_type_300_dtgrp_4_rating_2_state_Texas_raw.csv \n",
      "/projects/emco4286/data/gads/raw_data/gen_10263_type_300_dtgrp_1_rating_1_state_Texas_raw.csv \n",
      "/projects/emco4286/data/gads/raw_data/gen_10264_type_300_dtgrp_2_rating_1_state_Texas_raw.csv \n",
      "/projects/emco4286/data/gads/raw_data/gen_10266_type_300_dtgrp_2_rating_1_state_Texas_raw.csv \n",
      "/projects/emco4286/data/gads/raw_data/gen_10270_type_300_dtgrp_2_rating_2_state_Texas_raw.csv \n",
      "/projects/emco4286/data/gads/raw_data/gen_10271_type_300_dtgrp_2_rating_2_state_Texas_raw.csv \n",
      "/projects/emco4286/data/gads/raw_data/gen_10273_type_300_dtgrp_4_rating_2_state_Texas_raw.csv \n",
      "/projects/emco4286/data/gads/raw_data/gen_10354_type_300_dtgrp_4_rating_2_state_Texas_raw.csv \n",
      "/projects/emco4286/data/gads/raw_data/gen_10355_type_300_dtgrp_4_rating_2_state_Texas_raw.csv \n",
      "/projects/emco4286/data/gads/raw_data/gen_10378_type_300_dtgrp_3_rating_1_state_Texas_raw.csv \n",
      "/projects/emco4286/data/gads/raw_data/gen_10379_type_300_dtgrp_3_rating_1_state_Texas_raw.csv \n",
      "/projects/emco4286/data/gads/raw_data/gen_10380_type_300_dtgrp_3_rating_1_state_Texas_raw.csv \n",
      "/projects/emco4286/data/gads/raw_data/gen_10498_type_300_dtgrp_2_rating_1_state_Texas_raw.csv \n",
      "/projects/emco4286/data/gads/raw_data/gen_10500_type_300_dtgrp_4_rating_3_state_Texas_raw.csv \n",
      "/projects/emco4286/data/gads/raw_data/gen_10501_type_300_dtgrp_4_rating_3_state_Texas_raw.csv \n",
      "/projects/emco4286/data/gads/raw_data/gen_10551_type_300_dtgrp_4_rating_2_state_Texas_raw.csv \n",
      "/projects/emco4286/data/gads/raw_data/gen_10650_type_300_dtgrp_4_rating_2_state_Texas_raw.csv \n",
      "/projects/emco4286/data/gads/raw_data/gen_10651_type_300_dtgrp_4_rating_2_state_Texas_raw.csv \n",
      "/projects/emco4286/data/gads/raw_data/gen_10652_type_300_dtgrp_4_rating_2_state_Texas_raw.csv \n",
      "/projects/emco4286/data/gads/raw_data/gen_11070_type_300_dtgrp_1_rating_1_state_Texas_raw.csv \n",
      "/projects/emco4286/data/gads/raw_data/gen_11072_type_300_dtgrp_4_rating_1_state_Texas_raw.csv \n",
      "/projects/emco4286/data/gads/raw_data/gen_11074_type_300_dtgrp_5_rating_1_state_Texas_raw.csv \n",
      "/projects/emco4286/data/gads/raw_data/gen_11131_type_300_dtgrp_4_rating_1_state_Texas_raw.csv \n",
      "/projects/emco4286/data/gads/raw_data/gen_11132_type_300_dtgrp_3_rating_1_state_Texas_raw.csv \n",
      "/projects/emco4286/data/gads/raw_data/gen_1127_type_300_dtgrp_3_rating_2_state_Texas_raw.csv \n",
      "/projects/emco4286/data/gads/raw_data/gen_1128_type_300_dtgrp_3_rating_2_state_Texas_raw.csv \n",
      "/projects/emco4286/data/gads/raw_data/gen_11387_type_300_dtgrp_5_rating_2_state_Texas_raw.csv \n",
      "/projects/emco4286/data/gads/raw_data/gen_11393_type_300_dtgrp_5_rating_2_state_Texas_raw.csv \n",
      "/projects/emco4286/data/gads/raw_data/gen_11591_type_300_dtgrp_5_rating_2_state_Texas_raw.csv \n",
      "/projects/emco4286/data/gads/raw_data/gen_11646_type_300_dtgrp_5_rating_2_state_Texas_raw.csv \n",
      "/projects/emco4286/data/gads/raw_data/gen_11647_type_300_dtgrp_5_rating_2_state_Texas_raw.csv \n",
      "/projects/emco4286/data/gads/raw_data/gen_1172_type_300_dtgrp_3_rating_2_state_Texas_raw.csv \n",
      "/projects/emco4286/data/gads/raw_data/gen_1173_type_300_dtgrp_3_rating_2_state_Texas_raw.csv \n",
      "/projects/emco4286/data/gads/raw_data/gen_11953_type_300_dtgrp_5_rating_2_state_Texas_raw.csv \n",
      "/projects/emco4286/data/gads/raw_data/gen_11954_type_300_dtgrp_5_rating_2_state_Texas_raw.csv \n",
      "/projects/emco4286/data/gads/raw_data/gen_12016_type_300_dtgrp_5_rating_2_state_Texas_raw.csv \n",
      "/projects/emco4286/data/gads/raw_data/gen_12030_type_300_dtgrp_5_rating_2_state_Texas_raw.csv \n",
      "/projects/emco4286/data/gads/raw_data/gen_12031_type_300_dtgrp_5_rating_2_state_Texas_raw.csv \n",
      "/projects/emco4286/data/gads/raw_data/gen_12083_type_300_dtgrp_5_rating_2_state_Texas_raw.csv \n",
      "/projects/emco4286/data/gads/raw_data/gen_12116_type_300_dtgrp_5_rating_2_state_Texas_raw.csv \n",
      "/projects/emco4286/data/gads/raw_data/gen_12226_type_300_dtgrp_5_rating_2_state_Texas_raw.csv \n",
      "/projects/emco4286/data/gads/raw_data/gen_12227_type_300_dtgrp_5_rating_2_state_Texas_raw.csv \n",
      "/projects/emco4286/data/gads/raw_data/gen_12270_type_300_dtgrp_5_rating_1_state_Texas_raw.csv \n",
      "/projects/emco4286/data/gads/raw_data/gen_12271_type_300_dtgrp_5_rating_1_state_Texas_raw.csv \n",
      "/projects/emco4286/data/gads/raw_data/gen_12289_type_300_dtgrp_5_rating_1_state_Texas_raw.csv \n",
      "/projects/emco4286/data/gads/raw_data/gen_12290_type_300_dtgrp_5_rating_1_state_Texas_raw.csv \n",
      "/projects/emco4286/data/gads/raw_data/gen_12456_type_300_dtgrp_5_rating_2_state_Texas_raw.csv \n",
      "/projects/emco4286/data/gads/raw_data/gen_12504_type_300_dtgrp_5_rating_1_state_Texas_raw.csv \n",
      "/projects/emco4286/data/gads/raw_data/gen_12505_type_300_dtgrp_5_rating_1_state_Texas_raw.csv \n",
      "/projects/emco4286/data/gads/raw_data/gen_12506_type_300_dtgrp_5_rating_1_state_Texas_raw.csv \n",
      "/projects/emco4286/data/gads/raw_data/gen_12507_type_300_dtgrp_5_rating_1_state_Texas_raw.csv \n",
      "/projects/emco4286/data/gads/raw_data/gen_12508_type_300_dtgrp_5_rating_1_state_Texas_raw.csv \n",
      "/projects/emco4286/data/gads/raw_data/gen_12509_type_300_dtgrp_5_rating_1_state_Texas_raw.csv \n",
      "/projects/emco4286/data/gads/raw_data/gen_12534_type_300_dtgrp_5_rating_1_state_Texas_raw.csv \n",
      "/projects/emco4286/data/gads/raw_data/gen_12535_type_300_dtgrp_5_rating_1_state_Texas_raw.csv \n",
      "/projects/emco4286/data/gads/raw_data/gen_12564_type_300_dtgrp_6_rating_1_state_Texas_raw.csv \n",
      "/projects/emco4286/data/gads/raw_data/gen_12565_type_300_dtgrp_6_rating_1_state_Texas_raw.csv \n",
      "/projects/emco4286/data/gads/raw_data/gen_12680_type_300_dtgrp_6_rating_1_state_Texas_raw.csv \n",
      "/projects/emco4286/data/gads/raw_data/gen_12681_type_300_dtgrp_6_rating_1_state_Texas_raw.csv \n",
      "/projects/emco4286/data/gads/raw_data/gen_12693_type_300_dtgrp_6_rating_1_state_Texas_raw.csv \n",
      "/projects/emco4286/data/gads/raw_data/gen_12694_type_300_dtgrp_6_rating_1_state_Texas_raw.csv \n",
      "/projects/emco4286/data/gads/raw_data/gen_12695_type_300_dtgrp_6_rating_1_state_Texas_raw.csv \n",
      "/projects/emco4286/data/gads/raw_data/gen_12696_type_300_dtgrp_6_rating_1_state_Texas_raw.csv \n",
      "/projects/emco4286/data/gads/raw_data/gen_12697_type_300_dtgrp_6_rating_1_state_Texas_raw.csv \n",
      "/projects/emco4286/data/gads/raw_data/gen_12698_type_300_dtgrp_6_rating_1_state_Texas_raw.csv \n",
      "/projects/emco4286/data/gads/raw_data/gen_12699_type_300_dtgrp_6_rating_1_state_Texas_raw.csv \n",
      "/projects/emco4286/data/gads/raw_data/gen_12700_type_300_dtgrp_6_rating_1_state_Texas_raw.csv \n",
      "/projects/emco4286/data/gads/raw_data/gen_12701_type_300_dtgrp_6_rating_1_state_Texas_raw.csv \n",
      "/projects/emco4286/data/gads/raw_data/gen_12702_type_300_dtgrp_6_rating_1_state_Texas_raw.csv \n",
      "/projects/emco4286/data/gads/raw_data/gen_12703_type_300_dtgrp_6_rating_1_state_Texas_raw.csv \n",
      "/projects/emco4286/data/gads/raw_data/gen_12704_type_300_dtgrp_6_rating_1_state_Texas_raw.csv \n",
      "/projects/emco4286/data/gads/raw_data/gen_12705_type_300_dtgrp_6_rating_1_state_Texas_raw.csv \n",
      "/projects/emco4286/data/gads/raw_data/gen_12706_type_300_dtgrp_6_rating_1_state_Texas_raw.csv \n",
      "/projects/emco4286/data/gads/raw_data/gen_12707_type_300_dtgrp_6_rating_1_state_Texas_raw.csv \n",
      "/projects/emco4286/data/gads/raw_data/gen_12708_type_300_dtgrp_6_rating_1_state_Texas_raw.csv \n",
      "/projects/emco4286/data/gads/raw_data/gen_12709_type_300_dtgrp_6_rating_1_state_Texas_raw.csv \n",
      "/projects/emco4286/data/gads/raw_data/gen_12710_type_300_dtgrp_6_rating_1_state_Texas_raw.csv \n",
      "/projects/emco4286/data/gads/raw_data/gen_12745_type_300_dtgrp_6_rating_1_state_Texas_raw.csv \n",
      "/projects/emco4286/data/gads/raw_data/gen_12746_type_300_dtgrp_6_rating_1_state_Texas_raw.csv \n",
      "/projects/emco4286/data/gads/raw_data/gen_12747_type_300_dtgrp_6_rating_1_state_Texas_raw.csv \n",
      "/projects/emco4286/data/gads/raw_data/gen_12748_type_300_dtgrp_6_rating_1_state_Texas_raw.csv \n",
      "/projects/emco4286/data/gads/raw_data/gen_12755_type_300_dtgrp_6_rating_1_state_Texas_raw.csv \n",
      "/projects/emco4286/data/gads/raw_data/gen_12756_type_300_dtgrp_6_rating_1_state_Texas_raw.csv \n",
      "/projects/emco4286/data/gads/raw_data/gen_12757_type_300_dtgrp_6_rating_1_state_Texas_raw.csv \n",
      "/projects/emco4286/data/gads/raw_data/gen_12758_type_300_dtgrp_6_rating_1_state_Texas_raw.csv \n",
      "/projects/emco4286/data/gads/raw_data/gen_12759_type_300_dtgrp_6_rating_1_state_Texas_raw.csv \n",
      "/projects/emco4286/data/gads/raw_data/gen_12772_type_300_dtgrp_6_rating_1_state_Texas_raw.csv \n",
      "/projects/emco4286/data/gads/raw_data/gen_12773_type_300_dtgrp_6_rating_1_state_Texas_raw.csv \n",
      "/projects/emco4286/data/gads/raw_data/gen_12774_type_300_dtgrp_6_rating_1_state_Texas_raw.csv \n",
      "/projects/emco4286/data/gads/raw_data/gen_12775_type_300_dtgrp_6_rating_1_state_Texas_raw.csv \n",
      "/projects/emco4286/data/gads/raw_data/gen_12776_type_300_dtgrp_6_rating_1_state_Texas_raw.csv \n",
      "/projects/emco4286/data/gads/raw_data/gen_12777_type_300_dtgrp_6_rating_1_state_Texas_raw.csv \n",
      "/projects/emco4286/data/gads/raw_data/gen_12778_type_300_dtgrp_6_rating_1_state_Texas_raw.csv \n",
      "/projects/emco4286/data/gads/raw_data/gen_12814_type_300_dtgrp_6_rating_2_state_Texas_raw.csv \n",
      "/projects/emco4286/data/gads/raw_data/gen_12823_type_300_dtgrp_6_rating_1_state_Texas_raw.csv \n",
      "/projects/emco4286/data/gads/raw_data/gen_12824_type_300_dtgrp_6_rating_1_state_Texas_raw.csv \n",
      "/projects/emco4286/data/gads/raw_data/gen_12825_type_300_dtgrp_6_rating_1_state_Texas_raw.csv \n",
      "/projects/emco4286/data/gads/raw_data/gen_12826_type_300_dtgrp_6_rating_1_state_Texas_raw.csv \n",
      "/projects/emco4286/data/gads/raw_data/gen_12827_type_300_dtgrp_6_rating_1_state_Texas_raw.csv \n",
      "/projects/emco4286/data/gads/raw_data/gen_12828_type_300_dtgrp_6_rating_1_state_Texas_raw.csv \n",
      "/projects/emco4286/data/gads/raw_data/gen_12836_type_300_dtgrp_6_rating_1_state_Texas_raw.csv \n",
      "/projects/emco4286/data/gads/raw_data/gen_12837_type_300_dtgrp_6_rating_1_state_Texas_raw.csv \n",
      "/projects/emco4286/data/gads/raw_data/gen_12859_type_300_dtgrp_6_rating_1_state_Texas_raw.csv \n",
      "/projects/emco4286/data/gads/raw_data/gen_12860_type_300_dtgrp_6_rating_1_state_Texas_raw.csv \n",
      "/projects/emco4286/data/gads/raw_data/gen_12870_type_300_dtgrp_6_rating_1_state_Texas_raw.csv \n",
      "/projects/emco4286/data/gads/raw_data/gen_12871_type_300_dtgrp_6_rating_1_state_Texas_raw.csv \n",
      "/projects/emco4286/data/gads/raw_data/gen_1662_type_300_dtgrp_2_rating_1_state_Texas_raw.csv \n",
      "/projects/emco4286/data/gads/raw_data/gen_1663_type_300_dtgrp_2_rating_1_state_Texas_raw.csv \n",
      "/projects/emco4286/data/gads/raw_data/gen_1664_type_300_dtgrp_2_rating_1_state_Texas_raw.csv \n",
      "/projects/emco4286/data/gads/raw_data/gen_1665_type_300_dtgrp_2_rating_1_state_Texas_raw.csv \n",
      "/projects/emco4286/data/gads/raw_data/gen_1666_type_300_dtgrp_4_rating_1_state_Texas_raw.csv \n",
      "/projects/emco4286/data/gads/raw_data/gen_1667_type_300_dtgrp_4_rating_1_state_Texas_raw.csv \n",
      "/projects/emco4286/data/gads/raw_data/gen_1668_type_300_dtgrp_4_rating_1_state_Texas_raw.csv \n",
      "/projects/emco4286/data/gads/raw_data/gen_1669_type_300_dtgrp_4_rating_1_state_Texas_raw.csv \n",
      "/projects/emco4286/data/gads/raw_data/gen_1672_type_300_dtgrp_5_rating_1_state_Texas_raw.csv \n",
      "/projects/emco4286/data/gads/raw_data/gen_1673_type_300_dtgrp_5_rating_1_state_Texas_raw.csv \n",
      "/projects/emco4286/data/gads/raw_data/gen_1689_type_300_dtgrp_4_rating_1_state_Texas_raw.csv \n",
      "/projects/emco4286/data/gads/raw_data/gen_2240_type_300_dtgrp_4_rating_1_state_Texas_raw.csv \n",
      "/projects/emco4286/data/gads/raw_data/gen_2241_type_300_dtgrp_4_rating_1_state_Texas_raw.csv \n",
      "/projects/emco4286/data/gads/raw_data/gen_2242_type_300_dtgrp_4_rating_1_state_Texas_raw.csv \n",
      "/projects/emco4286/data/gads/raw_data/gen_2243_type_300_dtgrp_4_rating_1_state_Texas_raw.csv \n",
      "/projects/emco4286/data/gads/raw_data/gen_2246_type_300_dtgrp_5_rating_1_state_Texas_raw.csv \n",
      "/projects/emco4286/data/gads/raw_data/gen_2247_type_300_dtgrp_5_rating_1_state_Texas_raw.csv \n",
      "/projects/emco4286/data/gads/raw_data/gen_2248_type_300_dtgrp_5_rating_1_state_Texas_raw.csv \n",
      "/projects/emco4286/data/gads/raw_data/gen_2249_type_300_dtgrp_5_rating_1_state_Texas_raw.csv \n",
      "/projects/emco4286/data/gads/raw_data/gen_2875_type_300_dtgrp_2_rating_1_state_Texas_raw.csv \n",
      "/projects/emco4286/data/gads/raw_data/gen_3364_type_300_dtgrp_4_rating_1_state_Texas_raw.csv \n",
      "/projects/emco4286/data/gads/raw_data/gen_3365_type_300_dtgrp_4_rating_1_state_Texas_raw.csv \n",
      "/projects/emco4286/data/gads/raw_data/gen_3366_type_300_dtgrp_4_rating_1_state_Texas_raw.csv \n",
      "/projects/emco4286/data/gads/raw_data/gen_3367_type_300_dtgrp_4_rating_1_state_Texas_raw.csv \n",
      "/projects/emco4286/data/gads/raw_data/gen_4743_type_300_dtgrp_4_rating_2_state_Texas_raw.csv \n",
      "/projects/emco4286/data/gads/raw_data/gen_4744_type_300_dtgrp_4_rating_2_state_Texas_raw.csv \n",
      "/projects/emco4286/data/gads/raw_data/gen_4962_type_300_dtgrp_4_rating_1_state_Texas_raw.csv \n",
      "/projects/emco4286/data/gads/raw_data/gen_4963_type_300_dtgrp_4_rating_1_state_Texas_raw.csv \n",
      "/projects/emco4286/data/gads/raw_data/gen_4964_type_300_dtgrp_4_rating_1_state_Texas_raw.csv \n",
      "/projects/emco4286/data/gads/raw_data/gen_4965_type_300_dtgrp_4_rating_1_state_Texas_raw.csv \n",
      "/projects/emco4286/data/gads/raw_data/gen_5004_type_300_dtgrp_2_rating_1_state_Texas_raw.csv \n"
     ]
    },
    {
     "name": "stderr",
     "output_type": "stream",
     "text": [
      "┌ Warning: thread = 1 warning: error parsing DateTime around row = 1170, col = 1: \"NULL,\", error=INVALID: DELIMITED | INVALID_DELIMITER \n",
      "└ @ CSV /projects/emco4286/.julia/packages/CSV/XLcqT/src/file.jl:595\n"
     ]
    },
    {
     "name": "stdout",
     "output_type": "stream",
     "text": [
      "/projects/emco4286/data/gads/raw_data/gen_5005_type_300_dtgrp_2_rating_1_state_Texas_raw.csv \n"
     ]
    },
    {
     "name": "stderr",
     "output_type": "stream",
     "text": [
      "┌ Warning: thread = 1 warning: error parsing DateTime around row = 989, col = 1: \"NULL,\", error=INVALID: DELIMITED | INVALID_DELIMITER \n",
      "└ @ CSV /projects/emco4286/.julia/packages/CSV/XLcqT/src/file.jl:595\n"
     ]
    },
    {
     "name": "stdout",
     "output_type": "stream",
     "text": [
      "/projects/emco4286/data/gads/raw_data/gen_5006_type_300_dtgrp_2_rating_1_state_Texas_raw.csv \n"
     ]
    },
    {
     "name": "stderr",
     "output_type": "stream",
     "text": [
      "┌ Warning: thread = 1 warning: error parsing DateTime around row = 1188, col = 1: \"NULL,\", error=INVALID: DELIMITED | INVALID_DELIMITER \n",
      "└ @ CSV /projects/emco4286/.julia/packages/CSV/XLcqT/src/file.jl:595\n"
     ]
    },
    {
     "name": "stdout",
     "output_type": "stream",
     "text": [
      "/projects/emco4286/data/gads/raw_data/gen_5007_type_300_dtgrp_3_rating_1_state_Texas_raw.csv \n"
     ]
    },
    {
     "name": "stderr",
     "output_type": "stream",
     "text": [
      "┌ Warning: thread = 1 warning: error parsing DateTime around row = 1414, col = 1: \"NULL,\", error=INVALID: DELIMITED | INVALID_DELIMITER \n",
      "└ @ CSV /projects/emco4286/.julia/packages/CSV/XLcqT/src/file.jl:595\n"
     ]
    },
    {
     "name": "stdout",
     "output_type": "stream",
     "text": [
      "/projects/emco4286/data/gads/raw_data/gen_5008_type_300_dtgrp_3_rating_1_state_Texas_raw.csv \n"
     ]
    },
    {
     "name": "stderr",
     "output_type": "stream",
     "text": [
      "┌ Warning: thread = 1 warning: error parsing DateTime around row = 1227, col = 1: \"NULL,\", error=INVALID: DELIMITED | INVALID_DELIMITER \n",
      "└ @ CSV /projects/emco4286/.julia/packages/CSV/XLcqT/src/file.jl:595\n"
     ]
    },
    {
     "name": "stdout",
     "output_type": "stream",
     "text": [
      "/projects/emco4286/data/gads/raw_data/gen_5009_type_300_dtgrp_2_rating_1_state_Texas_raw.csv \n"
     ]
    },
    {
     "name": "stderr",
     "output_type": "stream",
     "text": [
      "┌ Warning: thread = 1 warning: error parsing DateTime around row = 434, col = 1: \"NULL,\", error=INVALID: DELIMITED | INVALID_DELIMITER \n",
      "└ @ CSV /projects/emco4286/.julia/packages/CSV/XLcqT/src/file.jl:595\n"
     ]
    },
    {
     "name": "stdout",
     "output_type": "stream",
     "text": [
      "/projects/emco4286/data/gads/raw_data/gen_5010_type_300_dtgrp_2_rating_1_state_Texas_raw.csv \n"
     ]
    },
    {
     "name": "stderr",
     "output_type": "stream",
     "text": [
      "┌ Warning: thread = 1 warning: error parsing DateTime around row = 595, col = 1: \"NULL,\", error=INVALID: DELIMITED | INVALID_DELIMITER \n",
      "└ @ CSV /projects/emco4286/.julia/packages/CSV/XLcqT/src/file.jl:595\n"
     ]
    },
    {
     "name": "stdout",
     "output_type": "stream",
     "text": [
      "/projects/emco4286/data/gads/raw_data/gen_5011_type_300_dtgrp_2_rating_1_state_Texas_raw.csv \n"
     ]
    },
    {
     "name": "stderr",
     "output_type": "stream",
     "text": [
      "┌ Warning: thread = 1 warning: error parsing DateTime around row = 444, col = 1: \"NULL,\", error=INVALID: DELIMITED | INVALID_DELIMITER \n",
      "└ @ CSV /projects/emco4286/.julia/packages/CSV/XLcqT/src/file.jl:595\n"
     ]
    },
    {
     "name": "stdout",
     "output_type": "stream",
     "text": [
      "/projects/emco4286/data/gads/raw_data/gen_5012_type_300_dtgrp_2_rating_1_state_Texas_raw.csv \n"
     ]
    },
    {
     "name": "stderr",
     "output_type": "stream",
     "text": [
      "┌ Warning: thread = 1 warning: error parsing DateTime around row = 479, col = 1: \"NULL,\", error=INVALID: DELIMITED | INVALID_DELIMITER \n",
      "└ @ CSV /projects/emco4286/.julia/packages/CSV/XLcqT/src/file.jl:595\n"
     ]
    },
    {
     "name": "stdout",
     "output_type": "stream",
     "text": [
      "/projects/emco4286/data/gads/raw_data/gen_5013_type_300_dtgrp_2_rating_1_state_Texas_raw.csv \n"
     ]
    },
    {
     "name": "stderr",
     "output_type": "stream",
     "text": [
      "┌ Warning: thread = 1 warning: error parsing DateTime around row = 422, col = 1: \"NULL,\", error=INVALID: DELIMITED | INVALID_DELIMITER \n",
      "└ @ CSV /projects/emco4286/.julia/packages/CSV/XLcqT/src/file.jl:595\n"
     ]
    },
    {
     "name": "stdout",
     "output_type": "stream",
     "text": [
      "/projects/emco4286/data/gads/raw_data/gen_5014_type_300_dtgrp_2_rating_1_state_Texas_raw.csv \n"
     ]
    },
    {
     "name": "stderr",
     "output_type": "stream",
     "text": [
      "┌ Warning: thread = 1 warning: error parsing DateTime around row = 368, col = 1: \"NULL,\", error=INVALID: DELIMITED | INVALID_DELIMITER \n",
      "└ @ CSV /projects/emco4286/.julia/packages/CSV/XLcqT/src/file.jl:595\n"
     ]
    },
    {
     "name": "stdout",
     "output_type": "stream",
     "text": [
      "/projects/emco4286/data/gads/raw_data/gen_5033_type_300_dtgrp_2_rating_1_state_Texas_raw.csv \n"
     ]
    },
    {
     "name": "stderr",
     "output_type": "stream",
     "text": [
      "┌ Warning: thread = 1 warning: error parsing DateTime around row = 1008, col = 1: \"NULL,\", error=INVALID: DELIMITED | INVALID_DELIMITER \n",
      "└ @ CSV /projects/emco4286/.julia/packages/CSV/XLcqT/src/file.jl:595\n"
     ]
    },
    {
     "name": "stdout",
     "output_type": "stream",
     "text": [
      "/projects/emco4286/data/gads/raw_data/gen_5034_type_300_dtgrp_2_rating_1_state_Texas_raw.csv \n"
     ]
    },
    {
     "name": "stderr",
     "output_type": "stream",
     "text": [
      "┌ Warning: thread = 1 warning: error parsing DateTime around row = 705, col = 1: \"NULL,\", error=INVALID: DELIMITED | INVALID_DELIMITER \n",
      "└ @ CSV /projects/emco4286/.julia/packages/CSV/XLcqT/src/file.jl:595\n"
     ]
    },
    {
     "name": "stdout",
     "output_type": "stream",
     "text": [
      "/projects/emco4286/data/gads/raw_data/gen_5035_type_300_dtgrp_2_rating_1_state_Texas_raw.csv \n"
     ]
    },
    {
     "name": "stderr",
     "output_type": "stream",
     "text": [
      "┌ Warning: thread = 1 warning: error parsing DateTime around row = 690, col = 1: \"NULL,\", error=INVALID: DELIMITED | INVALID_DELIMITER \n",
      "└ @ CSV /projects/emco4286/.julia/packages/CSV/XLcqT/src/file.jl:595\n"
     ]
    },
    {
     "name": "stdout",
     "output_type": "stream",
     "text": [
      "/projects/emco4286/data/gads/raw_data/gen_5036_type_300_dtgrp_2_rating_1_state_Texas_raw.csv \n"
     ]
    },
    {
     "name": "stderr",
     "output_type": "stream",
     "text": [
      "┌ Warning: thread = 1 warning: error parsing DateTime around row = 642, col = 1: \"NULL,\", error=INVALID: DELIMITED | INVALID_DELIMITER \n",
      "└ @ CSV /projects/emco4286/.julia/packages/CSV/XLcqT/src/file.jl:595\n"
     ]
    },
    {
     "name": "stdout",
     "output_type": "stream",
     "text": [
      "/projects/emco4286/data/gads/raw_data/gen_5861_type_300_dtgrp_1_rating_1_state_Texas_raw.csv \n",
      "/projects/emco4286/data/gads/raw_data/gen_5862_type_300_dtgrp_1_rating_1_state_Texas_raw.csv \n",
      "/projects/emco4286/data/gads/raw_data/gen_5863_type_300_dtgrp_1_rating_1_state_Texas_raw.csv \n",
      "/projects/emco4286/data/gads/raw_data/gen_5864_type_300_dtgrp_1_rating_1_state_Texas_raw.csv \n",
      "/projects/emco4286/data/gads/raw_data/gen_5865_type_300_dtgrp_1_rating_1_state_Texas_raw.csv \n",
      "/projects/emco4286/data/gads/raw_data/gen_5866_type_300_dtgrp_1_rating_1_state_Texas_raw.csv \n",
      "/projects/emco4286/data/gads/raw_data/gen_5867_type_300_dtgrp_1_rating_1_state_Texas_raw.csv \n",
      "/projects/emco4286/data/gads/raw_data/gen_5868_type_300_dtgrp_1_rating_1_state_Texas_raw.csv \n",
      "/projects/emco4286/data/gads/raw_data/gen_5869_type_300_dtgrp_1_rating_1_state_Texas_raw.csv \n",
      "/projects/emco4286/data/gads/raw_data/gen_5870_type_300_dtgrp_1_rating_1_state_Texas_raw.csv \n",
      "/projects/emco4286/data/gads/raw_data/gen_5871_type_300_dtgrp_1_rating_1_state_Texas_raw.csv \n",
      "/projects/emco4286/data/gads/raw_data/gen_5872_type_300_dtgrp_1_rating_1_state_Texas_raw.csv \n",
      "/projects/emco4286/data/gads/raw_data/gen_7660_type_300_dtgrp_2_rating_1_state_Texas_raw.csv \n",
      "/projects/emco4286/data/gads/raw_data/gen_7661_type_300_dtgrp_2_rating_1_state_Texas_raw.csv \n",
      "/projects/emco4286/data/gads/raw_data/gen_7662_type_300_dtgrp_2_rating_1_state_Texas_raw.csv \n",
      "/projects/emco4286/data/gads/raw_data/gen_7943_type_300_dtgrp_5_rating_2_state_Texas_raw.csv \n"
     ]
    }
   ],
   "source": [
    "start_date_g = DateTime(2013,1,1,6)\n",
    "end_date_g = DateTime(2024,1,1,6)\n",
    "date_range_g = [k for k in start_date_g:Hour(1):end_date_g]\n",
    "\n",
    "myrange_g = [k for k in 0:1:round(end_date_g - start_date_g, Hour).value]\n",
    "\n",
    "for f in files\n",
    "\n",
    "    @printf \"%s \\n\" f\n",
    "\n",
    "    mymatch = match(r\"/projects/emco4286/data/gads/raw_data/gen_(\\d+)_type_(\\d+)_dtgrp_(\\d+)_rating_(\\d+)_state_Texas_raw.csv\", f)\n",
    "    id = parse(Int32, mymatch[1])\n",
    "    rating = parse(Int32, mymatch[4])\n",
    "\n",
    "    df = DataFrame(CSV.File(f, types=types_dict))\n",
    "\n",
    "    df = filter(:EventEndDT => n -> typeof(n) ==  DateTime, df) # for missing DateTime values\n",
    "    if length(unique(typeof.(df[!, :EventEndDT]))) > 1\n",
    "        print(f)\n",
    "        break\n",
    "    end\n",
    "\n",
    "    sort!(df, :EventStartDT)\n",
    "\n",
    "    if length(df[!, :EventStartDT]) > 1\n",
    "        transform!(df, :EventTypeCode => ByRow(x -> mydict[x]), :EventTypeCode)\n",
    "        df = filter(:EventTypeCode_function => .!=(1), df)\n",
    "        \n",
    "        if length(df[!, :EventStartDT]) > 1\n",
    "            birthdate = agedict[df[1, :CommercialDT_grp]]\n",
    "            state = convert(Array{Union{Missing, Float64}}, fill(1, length(myrange_g))) # to allow missing values\n",
    "            cause = convert(Array{Union{Missing, Float64}}, fill(1, length(myrange_g)))\n",
    "            rating_array = convert(Array{Union{Missing, Float64}}, fill(rating, length(myrange_g)))\n",
    "            age = [k.value for k in round.(date_range_g - birthdate, Day(1))]\n",
    "\n",
    "            # Hour that outage starts\n",
    "            time_vector = map(x -> round(x - start_date_g, Hour), df[!, :EventStartDT])\n",
    "\n",
    "            # Set state to zero during an event\n",
    "            for k in [c for c in range(1, step=1, length=length(time_vector))] # k is an index\n",
    "                start_time_string = round(df[k, :EventStartDT], Hour)\n",
    "                end_time_string = round(df[k, :EventEndDT], Hour)\n",
    "\n",
    "                mycause = df[k, :EventTypeCode_function]\n",
    "\n",
    "                start_hour = time_vector[k].value # integer\n",
    "                duration = round(end_time_string - start_time_string, Hour).value\n",
    "                end_hour = start_hour + duration\n",
    "\n",
    "                start_index = max(1, start_hour)\n",
    "\n",
    "                matching_idx = findall(x -> x == end_hour, myrange_g)\n",
    "                \n",
    "                if length(matching_idx) < 1\n",
    "                    end_index = length(state)\n",
    "                else\n",
    "                    end_index = matching_idx[1]\n",
    "                end\n",
    "\n",
    "                # If event is unit getting retired, set state as missing until the end of the period and skip to the next unit\n",
    "                if mycause == 5\n",
    "                    state[start_index:end] .= missing\n",
    "                    cause[start_index:end] .= missing\n",
    "                else\n",
    "                    state[start_index:end_index] .= 0\n",
    "                    cause[start_index:end_index] .= mycause\n",
    "                end\n",
    "\n",
    "            end\n",
    "\n",
    "            trajectory = DataFrame(x=date_range_g, y1=state, y2=cause, y3=age, y9=rating_array)\n",
    "            filter!(:y2 => x -> !ismissing(x), trajectory)\n",
    "\n",
    "            merged = innerjoin(trajectory, load_data[!,[:x, :ERCOT]], on=:x)\n",
    "            sort!(merged, :x)\n",
    "            merged[!, :y4] = Dates.dayofyear.(merged[!, :x])\n",
    "\n",
    "            # Add weather, deal with Tmax = 0\n",
    "            merged = innerjoin(merged, weather_merged, on=:x)\n",
    "            filter!(:y2 => x -> !ismissing(x), merged)\n",
    "\n",
    "            # Days since last planned outage\n",
    "            my_data = Vector{Union{Int,Missing}}(missing, length(merged[!, :x]))\n",
    "\n",
    "            indexed = filter(:y2 => ==(3), merged)\n",
    "            bool_vec = diff(indexed[!, :x]) .!= Millisecond(3600000)\n",
    "\n",
    "            idx1 = filter(r -> bool_vec[r], range(1, length(bool_vec)))\n",
    "            event_end_datetimes = indexed[idx1, :x]\n",
    "\n",
    "            k = 1\n",
    "            for i in merged[!, :x]\n",
    "\n",
    "                events_before_i = [k for k in event_end_datetimes if k < i]\n",
    "\n",
    "                if length(events_before_i) < 1\n",
    "                    my_data[1:k] .= missing\n",
    "                else\n",
    "\n",
    "\n",
    "                    val, idx2 = findmin(i .- events_before_i)\n",
    "                    closest_event = event_end_datetimes[idx2]\n",
    "                    hours_since_event = round(i - closest_event, Day).value\n",
    "\n",
    "                    my_data[k] = hours_since_event\n",
    "                end\n",
    "\n",
    "                k+= 1\n",
    "            end\n",
    "\n",
    "            merged[!, :y6] = my_data\n",
    "\n",
    "            # Days since last maintenance outage\n",
    "            my_data = Vector{Union{Int,Missing}}(missing, length(merged[!, :x]))\n",
    "            indexed = filter(:y2 => ==(4), merged)\n",
    "\n",
    "\n",
    "            bool_vec = diff(indexed[!, :x]) .!= Millisecond(3600000)\n",
    "\n",
    "            idx1 = filter(r -> bool_vec[r], range(1, length(bool_vec)))\n",
    "            event_end_datetimes = indexed[idx1, :x]\n",
    "\n",
    "            k = 1\n",
    "            for i in merged[!, :x]\n",
    "\n",
    "                events_before_i = [k for k in event_end_datetimes if k < i]\n",
    "\n",
    "                if length(events_before_i) < 1\n",
    "                    my_data[1:k] .= missing\n",
    "                else\n",
    "                    val, idx2 = findmin(i .- events_before_i)\n",
    "                    closest_event = event_end_datetimes[idx2]\n",
    "                    hours_since_event = round(i - closest_event, Day).value\n",
    "\n",
    "                    my_data[k] = hours_since_event\n",
    "                end\n",
    "\n",
    "                k+= 1\n",
    "            end\n",
    "\n",
    "            merged[!, :y7] = my_data\n",
    "\n",
    "            merged[!, :y8] = map(f -> Month(f).value, merged[!, :x])\n",
    "\n",
    "            fname = @sprintf \"gen_%d_class_CT_rating_%d_state_Texas.csv\" id rating \n",
    "\n",
    "            path = joinpath(\"/projects\", \"emco4286\", \"data\", \"gads\", \"trajectories\", \"ct\", \"long\", fname)\n",
    "            CSV.write(path, merged)\n",
    "        end\n",
    "    end\n",
    "end\n"
   ]
  },
  {
   "cell_type": "code",
   "execution_count": 8,
   "id": "fb58a3db",
   "metadata": {},
   "outputs": [
    {
     "name": "stdout",
     "output_type": "stream",
     "text": [
      "/projects/emco4286/data/gads/raw_data/gen_10080_type_300_dtgrp_4_rating_1_state_Texas_raw.csv \n",
      "/projects/emco4286/data/gads/raw_data/gen_10081_type_300_dtgrp_4_rating_1_state_Texas_raw.csv \n",
      "/projects/emco4286/data/gads/raw_data/gen_10082_type_300_dtgrp_5_rating_1_state_Texas_raw.csv \n",
      "/projects/emco4286/data/gads/raw_data/gen_10083_type_300_dtgrp_5_rating_1_state_Texas_raw.csv \n",
      "/projects/emco4286/data/gads/raw_data/gen_10160_type_300_dtgrp_4_rating_2_state_Texas_raw.csv \n",
      "/projects/emco4286/data/gads/raw_data/gen_10161_type_300_dtgrp_4_rating_2_state_Texas_raw.csv \n",
      "/projects/emco4286/data/gads/raw_data/gen_10263_type_300_dtgrp_1_rating_1_state_Texas_raw.csv \n",
      "/projects/emco4286/data/gads/raw_data/gen_10264_type_300_dtgrp_2_rating_1_state_Texas_raw.csv \n",
      "/projects/emco4286/data/gads/raw_data/gen_10266_type_300_dtgrp_2_rating_1_state_Texas_raw.csv \n",
      "/projects/emco4286/data/gads/raw_data/gen_10270_type_300_dtgrp_2_rating_2_state_Texas_raw.csv \n",
      "/projects/emco4286/data/gads/raw_data/gen_10271_type_300_dtgrp_2_rating_2_state_Texas_raw.csv \n",
      "/projects/emco4286/data/gads/raw_data/gen_10273_type_300_dtgrp_4_rating_2_state_Texas_raw.csv \n",
      "/projects/emco4286/data/gads/raw_data/gen_10354_type_300_dtgrp_4_rating_2_state_Texas_raw.csv \n",
      "/projects/emco4286/data/gads/raw_data/gen_10355_type_300_dtgrp_4_rating_2_state_Texas_raw.csv \n",
      "/projects/emco4286/data/gads/raw_data/gen_10378_type_300_dtgrp_3_rating_1_state_Texas_raw.csv \n",
      "/projects/emco4286/data/gads/raw_data/gen_10379_type_300_dtgrp_3_rating_1_state_Texas_raw.csv \n",
      "/projects/emco4286/data/gads/raw_data/gen_10380_type_300_dtgrp_3_rating_1_state_Texas_raw.csv \n",
      "/projects/emco4286/data/gads/raw_data/gen_10498_type_300_dtgrp_2_rating_1_state_Texas_raw.csv \n",
      "/projects/emco4286/data/gads/raw_data/gen_10500_type_300_dtgrp_4_rating_3_state_Texas_raw.csv \n",
      "/projects/emco4286/data/gads/raw_data/gen_10501_type_300_dtgrp_4_rating_3_state_Texas_raw.csv \n",
      "/projects/emco4286/data/gads/raw_data/gen_10551_type_300_dtgrp_4_rating_2_state_Texas_raw.csv \n",
      "/projects/emco4286/data/gads/raw_data/gen_10650_type_300_dtgrp_4_rating_2_state_Texas_raw.csv \n",
      "/projects/emco4286/data/gads/raw_data/gen_10651_type_300_dtgrp_4_rating_2_state_Texas_raw.csv \n",
      "/projects/emco4286/data/gads/raw_data/gen_10652_type_300_dtgrp_4_rating_2_state_Texas_raw.csv \n",
      "/projects/emco4286/data/gads/raw_data/gen_11070_type_300_dtgrp_1_rating_1_state_Texas_raw.csv \n",
      "/projects/emco4286/data/gads/raw_data/gen_11072_type_300_dtgrp_4_rating_1_state_Texas_raw.csv \n",
      "/projects/emco4286/data/gads/raw_data/gen_11074_type_300_dtgrp_5_rating_1_state_Texas_raw.csv \n",
      "/projects/emco4286/data/gads/raw_data/gen_11131_type_300_dtgrp_4_rating_1_state_Texas_raw.csv \n",
      "/projects/emco4286/data/gads/raw_data/gen_11132_type_300_dtgrp_3_rating_1_state_Texas_raw.csv \n",
      "/projects/emco4286/data/gads/raw_data/gen_1127_type_300_dtgrp_3_rating_2_state_Texas_raw.csv \n",
      "/projects/emco4286/data/gads/raw_data/gen_1128_type_300_dtgrp_3_rating_2_state_Texas_raw.csv \n",
      "/projects/emco4286/data/gads/raw_data/gen_11387_type_300_dtgrp_5_rating_2_state_Texas_raw.csv \n",
      "/projects/emco4286/data/gads/raw_data/gen_11393_type_300_dtgrp_5_rating_2_state_Texas_raw.csv \n",
      "/projects/emco4286/data/gads/raw_data/gen_11591_type_300_dtgrp_5_rating_2_state_Texas_raw.csv \n",
      "/projects/emco4286/data/gads/raw_data/gen_11646_type_300_dtgrp_5_rating_2_state_Texas_raw.csv \n",
      "/projects/emco4286/data/gads/raw_data/gen_11647_type_300_dtgrp_5_rating_2_state_Texas_raw.csv \n",
      "/projects/emco4286/data/gads/raw_data/gen_1172_type_300_dtgrp_3_rating_2_state_Texas_raw.csv \n",
      "/projects/emco4286/data/gads/raw_data/gen_1173_type_300_dtgrp_3_rating_2_state_Texas_raw.csv \n",
      "/projects/emco4286/data/gads/raw_data/gen_11953_type_300_dtgrp_5_rating_2_state_Texas_raw.csv \n",
      "/projects/emco4286/data/gads/raw_data/gen_11954_type_300_dtgrp_5_rating_2_state_Texas_raw.csv \n",
      "/projects/emco4286/data/gads/raw_data/gen_12016_type_300_dtgrp_5_rating_2_state_Texas_raw.csv \n",
      "/projects/emco4286/data/gads/raw_data/gen_12030_type_300_dtgrp_5_rating_2_state_Texas_raw.csv \n",
      "/projects/emco4286/data/gads/raw_data/gen_12031_type_300_dtgrp_5_rating_2_state_Texas_raw.csv \n",
      "/projects/emco4286/data/gads/raw_data/gen_12083_type_300_dtgrp_5_rating_2_state_Texas_raw.csv \n",
      "/projects/emco4286/data/gads/raw_data/gen_12116_type_300_dtgrp_5_rating_2_state_Texas_raw.csv \n",
      "/projects/emco4286/data/gads/raw_data/gen_12226_type_300_dtgrp_5_rating_2_state_Texas_raw.csv \n",
      "/projects/emco4286/data/gads/raw_data/gen_12227_type_300_dtgrp_5_rating_2_state_Texas_raw.csv \n",
      "/projects/emco4286/data/gads/raw_data/gen_12270_type_300_dtgrp_5_rating_1_state_Texas_raw.csv \n",
      "/projects/emco4286/data/gads/raw_data/gen_12271_type_300_dtgrp_5_rating_1_state_Texas_raw.csv \n",
      "/projects/emco4286/data/gads/raw_data/gen_12289_type_300_dtgrp_5_rating_1_state_Texas_raw.csv \n",
      "/projects/emco4286/data/gads/raw_data/gen_12290_type_300_dtgrp_5_rating_1_state_Texas_raw.csv \n",
      "/projects/emco4286/data/gads/raw_data/gen_12456_type_300_dtgrp_5_rating_2_state_Texas_raw.csv \n",
      "/projects/emco4286/data/gads/raw_data/gen_12504_type_300_dtgrp_5_rating_1_state_Texas_raw.csv \n",
      "/projects/emco4286/data/gads/raw_data/gen_12505_type_300_dtgrp_5_rating_1_state_Texas_raw.csv \n",
      "/projects/emco4286/data/gads/raw_data/gen_12506_type_300_dtgrp_5_rating_1_state_Texas_raw.csv \n",
      "/projects/emco4286/data/gads/raw_data/gen_12507_type_300_dtgrp_5_rating_1_state_Texas_raw.csv \n",
      "/projects/emco4286/data/gads/raw_data/gen_12508_type_300_dtgrp_5_rating_1_state_Texas_raw.csv \n",
      "/projects/emco4286/data/gads/raw_data/gen_12509_type_300_dtgrp_5_rating_1_state_Texas_raw.csv \n",
      "/projects/emco4286/data/gads/raw_data/gen_12534_type_300_dtgrp_5_rating_1_state_Texas_raw.csv \n",
      "/projects/emco4286/data/gads/raw_data/gen_12535_type_300_dtgrp_5_rating_1_state_Texas_raw.csv \n",
      "/projects/emco4286/data/gads/raw_data/gen_12564_type_300_dtgrp_6_rating_1_state_Texas_raw.csv \n",
      "/projects/emco4286/data/gads/raw_data/gen_12565_type_300_dtgrp_6_rating_1_state_Texas_raw.csv \n",
      "/projects/emco4286/data/gads/raw_data/gen_12680_type_300_dtgrp_6_rating_1_state_Texas_raw.csv \n",
      "/projects/emco4286/data/gads/raw_data/gen_12681_type_300_dtgrp_6_rating_1_state_Texas_raw.csv \n",
      "/projects/emco4286/data/gads/raw_data/gen_12693_type_300_dtgrp_6_rating_1_state_Texas_raw.csv \n",
      "/projects/emco4286/data/gads/raw_data/gen_12694_type_300_dtgrp_6_rating_1_state_Texas_raw.csv \n",
      "/projects/emco4286/data/gads/raw_data/gen_12695_type_300_dtgrp_6_rating_1_state_Texas_raw.csv \n",
      "/projects/emco4286/data/gads/raw_data/gen_12696_type_300_dtgrp_6_rating_1_state_Texas_raw.csv \n",
      "/projects/emco4286/data/gads/raw_data/gen_12697_type_300_dtgrp_6_rating_1_state_Texas_raw.csv \n",
      "/projects/emco4286/data/gads/raw_data/gen_12698_type_300_dtgrp_6_rating_1_state_Texas_raw.csv \n",
      "/projects/emco4286/data/gads/raw_data/gen_12699_type_300_dtgrp_6_rating_1_state_Texas_raw.csv \n",
      "/projects/emco4286/data/gads/raw_data/gen_12700_type_300_dtgrp_6_rating_1_state_Texas_raw.csv \n",
      "/projects/emco4286/data/gads/raw_data/gen_12701_type_300_dtgrp_6_rating_1_state_Texas_raw.csv \n",
      "/projects/emco4286/data/gads/raw_data/gen_12702_type_300_dtgrp_6_rating_1_state_Texas_raw.csv \n",
      "/projects/emco4286/data/gads/raw_data/gen_12703_type_300_dtgrp_6_rating_1_state_Texas_raw.csv \n",
      "/projects/emco4286/data/gads/raw_data/gen_12704_type_300_dtgrp_6_rating_1_state_Texas_raw.csv \n",
      "/projects/emco4286/data/gads/raw_data/gen_12705_type_300_dtgrp_6_rating_1_state_Texas_raw.csv \n",
      "/projects/emco4286/data/gads/raw_data/gen_12706_type_300_dtgrp_6_rating_1_state_Texas_raw.csv \n",
      "/projects/emco4286/data/gads/raw_data/gen_12707_type_300_dtgrp_6_rating_1_state_Texas_raw.csv \n",
      "/projects/emco4286/data/gads/raw_data/gen_12708_type_300_dtgrp_6_rating_1_state_Texas_raw.csv \n",
      "/projects/emco4286/data/gads/raw_data/gen_12709_type_300_dtgrp_6_rating_1_state_Texas_raw.csv \n",
      "/projects/emco4286/data/gads/raw_data/gen_12710_type_300_dtgrp_6_rating_1_state_Texas_raw.csv \n",
      "/projects/emco4286/data/gads/raw_data/gen_12745_type_300_dtgrp_6_rating_1_state_Texas_raw.csv \n",
      "/projects/emco4286/data/gads/raw_data/gen_12746_type_300_dtgrp_6_rating_1_state_Texas_raw.csv \n",
      "/projects/emco4286/data/gads/raw_data/gen_12747_type_300_dtgrp_6_rating_1_state_Texas_raw.csv \n",
      "/projects/emco4286/data/gads/raw_data/gen_12748_type_300_dtgrp_6_rating_1_state_Texas_raw.csv \n",
      "/projects/emco4286/data/gads/raw_data/gen_12755_type_300_dtgrp_6_rating_1_state_Texas_raw.csv \n",
      "/projects/emco4286/data/gads/raw_data/gen_12756_type_300_dtgrp_6_rating_1_state_Texas_raw.csv \n",
      "/projects/emco4286/data/gads/raw_data/gen_12757_type_300_dtgrp_6_rating_1_state_Texas_raw.csv \n",
      "/projects/emco4286/data/gads/raw_data/gen_12758_type_300_dtgrp_6_rating_1_state_Texas_raw.csv \n",
      "/projects/emco4286/data/gads/raw_data/gen_12759_type_300_dtgrp_6_rating_1_state_Texas_raw.csv \n",
      "/projects/emco4286/data/gads/raw_data/gen_12772_type_300_dtgrp_6_rating_1_state_Texas_raw.csv \n",
      "/projects/emco4286/data/gads/raw_data/gen_12773_type_300_dtgrp_6_rating_1_state_Texas_raw.csv \n",
      "/projects/emco4286/data/gads/raw_data/gen_12774_type_300_dtgrp_6_rating_1_state_Texas_raw.csv \n",
      "/projects/emco4286/data/gads/raw_data/gen_12775_type_300_dtgrp_6_rating_1_state_Texas_raw.csv \n",
      "/projects/emco4286/data/gads/raw_data/gen_12776_type_300_dtgrp_6_rating_1_state_Texas_raw.csv \n",
      "/projects/emco4286/data/gads/raw_data/gen_12777_type_300_dtgrp_6_rating_1_state_Texas_raw.csv \n",
      "/projects/emco4286/data/gads/raw_data/gen_12778_type_300_dtgrp_6_rating_1_state_Texas_raw.csv \n",
      "/projects/emco4286/data/gads/raw_data/gen_12814_type_300_dtgrp_6_rating_2_state_Texas_raw.csv \n",
      "/projects/emco4286/data/gads/raw_data/gen_12823_type_300_dtgrp_6_rating_1_state_Texas_raw.csv \n",
      "/projects/emco4286/data/gads/raw_data/gen_12824_type_300_dtgrp_6_rating_1_state_Texas_raw.csv \n",
      "/projects/emco4286/data/gads/raw_data/gen_12825_type_300_dtgrp_6_rating_1_state_Texas_raw.csv \n",
      "/projects/emco4286/data/gads/raw_data/gen_12826_type_300_dtgrp_6_rating_1_state_Texas_raw.csv \n",
      "/projects/emco4286/data/gads/raw_data/gen_12827_type_300_dtgrp_6_rating_1_state_Texas_raw.csv \n",
      "/projects/emco4286/data/gads/raw_data/gen_12828_type_300_dtgrp_6_rating_1_state_Texas_raw.csv \n",
      "/projects/emco4286/data/gads/raw_data/gen_12836_type_300_dtgrp_6_rating_1_state_Texas_raw.csv \n",
      "/projects/emco4286/data/gads/raw_data/gen_12837_type_300_dtgrp_6_rating_1_state_Texas_raw.csv \n",
      "/projects/emco4286/data/gads/raw_data/gen_12859_type_300_dtgrp_6_rating_1_state_Texas_raw.csv \n",
      "/projects/emco4286/data/gads/raw_data/gen_12860_type_300_dtgrp_6_rating_1_state_Texas_raw.csv \n",
      "/projects/emco4286/data/gads/raw_data/gen_12870_type_300_dtgrp_6_rating_1_state_Texas_raw.csv \n",
      "/projects/emco4286/data/gads/raw_data/gen_12871_type_300_dtgrp_6_rating_1_state_Texas_raw.csv \n",
      "/projects/emco4286/data/gads/raw_data/gen_1662_type_300_dtgrp_2_rating_1_state_Texas_raw.csv \n",
      "/projects/emco4286/data/gads/raw_data/gen_1663_type_300_dtgrp_2_rating_1_state_Texas_raw.csv \n",
      "/projects/emco4286/data/gads/raw_data/gen_1664_type_300_dtgrp_2_rating_1_state_Texas_raw.csv \n",
      "/projects/emco4286/data/gads/raw_data/gen_1665_type_300_dtgrp_2_rating_1_state_Texas_raw.csv \n",
      "/projects/emco4286/data/gads/raw_data/gen_1666_type_300_dtgrp_4_rating_1_state_Texas_raw.csv \n",
      "/projects/emco4286/data/gads/raw_data/gen_1667_type_300_dtgrp_4_rating_1_state_Texas_raw.csv \n",
      "/projects/emco4286/data/gads/raw_data/gen_1668_type_300_dtgrp_4_rating_1_state_Texas_raw.csv \n",
      "/projects/emco4286/data/gads/raw_data/gen_1669_type_300_dtgrp_4_rating_1_state_Texas_raw.csv \n",
      "/projects/emco4286/data/gads/raw_data/gen_1672_type_300_dtgrp_5_rating_1_state_Texas_raw.csv \n",
      "/projects/emco4286/data/gads/raw_data/gen_1673_type_300_dtgrp_5_rating_1_state_Texas_raw.csv \n",
      "/projects/emco4286/data/gads/raw_data/gen_1689_type_300_dtgrp_4_rating_1_state_Texas_raw.csv \n",
      "/projects/emco4286/data/gads/raw_data/gen_2240_type_300_dtgrp_4_rating_1_state_Texas_raw.csv \n",
      "/projects/emco4286/data/gads/raw_data/gen_2241_type_300_dtgrp_4_rating_1_state_Texas_raw.csv \n",
      "/projects/emco4286/data/gads/raw_data/gen_2242_type_300_dtgrp_4_rating_1_state_Texas_raw.csv \n",
      "/projects/emco4286/data/gads/raw_data/gen_2243_type_300_dtgrp_4_rating_1_state_Texas_raw.csv \n",
      "/projects/emco4286/data/gads/raw_data/gen_2246_type_300_dtgrp_5_rating_1_state_Texas_raw.csv \n",
      "/projects/emco4286/data/gads/raw_data/gen_2247_type_300_dtgrp_5_rating_1_state_Texas_raw.csv \n",
      "/projects/emco4286/data/gads/raw_data/gen_2248_type_300_dtgrp_5_rating_1_state_Texas_raw.csv \n",
      "/projects/emco4286/data/gads/raw_data/gen_2249_type_300_dtgrp_5_rating_1_state_Texas_raw.csv \n",
      "/projects/emco4286/data/gads/raw_data/gen_2875_type_300_dtgrp_2_rating_1_state_Texas_raw.csv \n",
      "/projects/emco4286/data/gads/raw_data/gen_3364_type_300_dtgrp_4_rating_1_state_Texas_raw.csv \n",
      "/projects/emco4286/data/gads/raw_data/gen_3365_type_300_dtgrp_4_rating_1_state_Texas_raw.csv \n",
      "/projects/emco4286/data/gads/raw_data/gen_3366_type_300_dtgrp_4_rating_1_state_Texas_raw.csv \n",
      "/projects/emco4286/data/gads/raw_data/gen_3367_type_300_dtgrp_4_rating_1_state_Texas_raw.csv \n",
      "/projects/emco4286/data/gads/raw_data/gen_4743_type_300_dtgrp_4_rating_2_state_Texas_raw.csv \n",
      "/projects/emco4286/data/gads/raw_data/gen_4744_type_300_dtgrp_4_rating_2_state_Texas_raw.csv \n",
      "/projects/emco4286/data/gads/raw_data/gen_4962_type_300_dtgrp_4_rating_1_state_Texas_raw.csv \n",
      "/projects/emco4286/data/gads/raw_data/gen_4963_type_300_dtgrp_4_rating_1_state_Texas_raw.csv \n",
      "/projects/emco4286/data/gads/raw_data/gen_4964_type_300_dtgrp_4_rating_1_state_Texas_raw.csv \n",
      "/projects/emco4286/data/gads/raw_data/gen_4965_type_300_dtgrp_4_rating_1_state_Texas_raw.csv \n",
      "/projects/emco4286/data/gads/raw_data/gen_5004_type_300_dtgrp_2_rating_1_state_Texas_raw.csv \n"
     ]
    },
    {
     "name": "stderr",
     "output_type": "stream",
     "text": [
      "┌ Warning: thread = 1 warning: error parsing DateTime around row = 1170, col = 1: \"NULL,\", error=INVALID: DELIMITED | INVALID_DELIMITER \n",
      "└ @ CSV /projects/emco4286/.julia/packages/CSV/XLcqT/src/file.jl:595\n"
     ]
    },
    {
     "name": "stdout",
     "output_type": "stream",
     "text": [
      "/projects/emco4286/data/gads/raw_data/gen_5005_type_300_dtgrp_2_rating_1_state_Texas_raw.csv \n"
     ]
    },
    {
     "name": "stderr",
     "output_type": "stream",
     "text": [
      "┌ Warning: thread = 1 warning: error parsing DateTime around row = 989, col = 1: \"NULL,\", error=INVALID: DELIMITED | INVALID_DELIMITER \n",
      "└ @ CSV /projects/emco4286/.julia/packages/CSV/XLcqT/src/file.jl:595\n"
     ]
    },
    {
     "name": "stdout",
     "output_type": "stream",
     "text": [
      "/projects/emco4286/data/gads/raw_data/gen_5006_type_300_dtgrp_2_rating_1_state_Texas_raw.csv \n"
     ]
    },
    {
     "name": "stderr",
     "output_type": "stream",
     "text": [
      "┌ Warning: thread = 1 warning: error parsing DateTime around row = 1188, col = 1: \"NULL,\", error=INVALID: DELIMITED | INVALID_DELIMITER \n",
      "└ @ CSV /projects/emco4286/.julia/packages/CSV/XLcqT/src/file.jl:595\n"
     ]
    },
    {
     "name": "stdout",
     "output_type": "stream",
     "text": [
      "/projects/emco4286/data/gads/raw_data/gen_5007_type_300_dtgrp_3_rating_1_state_Texas_raw.csv \n"
     ]
    },
    {
     "name": "stderr",
     "output_type": "stream",
     "text": [
      "┌ Warning: thread = 1 warning: error parsing DateTime around row = 1414, col = 1: \"NULL,\", error=INVALID: DELIMITED | INVALID_DELIMITER \n",
      "└ @ CSV /projects/emco4286/.julia/packages/CSV/XLcqT/src/file.jl:595\n"
     ]
    },
    {
     "name": "stdout",
     "output_type": "stream",
     "text": [
      "/projects/emco4286/data/gads/raw_data/gen_5008_type_300_dtgrp_3_rating_1_state_Texas_raw.csv \n"
     ]
    },
    {
     "name": "stderr",
     "output_type": "stream",
     "text": [
      "┌ Warning: thread = 1 warning: error parsing DateTime around row = 1227, col = 1: \"NULL,\", error=INVALID: DELIMITED | INVALID_DELIMITER \n",
      "└ @ CSV /projects/emco4286/.julia/packages/CSV/XLcqT/src/file.jl:595\n"
     ]
    },
    {
     "name": "stdout",
     "output_type": "stream",
     "text": [
      "/projects/emco4286/data/gads/raw_data/gen_5009_type_300_dtgrp_2_rating_1_state_Texas_raw.csv \n"
     ]
    },
    {
     "name": "stderr",
     "output_type": "stream",
     "text": [
      "┌ Warning: thread = 1 warning: error parsing DateTime around row = 434, col = 1: \"NULL,\", error=INVALID: DELIMITED | INVALID_DELIMITER \n",
      "└ @ CSV /projects/emco4286/.julia/packages/CSV/XLcqT/src/file.jl:595\n"
     ]
    },
    {
     "name": "stdout",
     "output_type": "stream",
     "text": [
      "/projects/emco4286/data/gads/raw_data/gen_5010_type_300_dtgrp_2_rating_1_state_Texas_raw.csv \n"
     ]
    },
    {
     "name": "stderr",
     "output_type": "stream",
     "text": [
      "┌ Warning: thread = 1 warning: error parsing DateTime around row = 595, col = 1: \"NULL,\", error=INVALID: DELIMITED | INVALID_DELIMITER \n",
      "└ @ CSV /projects/emco4286/.julia/packages/CSV/XLcqT/src/file.jl:595\n"
     ]
    },
    {
     "name": "stdout",
     "output_type": "stream",
     "text": [
      "/projects/emco4286/data/gads/raw_data/gen_5011_type_300_dtgrp_2_rating_1_state_Texas_raw.csv \n"
     ]
    },
    {
     "name": "stderr",
     "output_type": "stream",
     "text": [
      "┌ Warning: thread = 1 warning: error parsing DateTime around row = 444, col = 1: \"NULL,\", error=INVALID: DELIMITED | INVALID_DELIMITER \n",
      "└ @ CSV /projects/emco4286/.julia/packages/CSV/XLcqT/src/file.jl:595\n"
     ]
    },
    {
     "name": "stdout",
     "output_type": "stream",
     "text": [
      "/projects/emco4286/data/gads/raw_data/gen_5012_type_300_dtgrp_2_rating_1_state_Texas_raw.csv \n"
     ]
    },
    {
     "name": "stderr",
     "output_type": "stream",
     "text": [
      "┌ Warning: thread = 1 warning: error parsing DateTime around row = 479, col = 1: \"NULL,\", error=INVALID: DELIMITED | INVALID_DELIMITER \n",
      "└ @ CSV /projects/emco4286/.julia/packages/CSV/XLcqT/src/file.jl:595\n"
     ]
    },
    {
     "name": "stdout",
     "output_type": "stream",
     "text": [
      "/projects/emco4286/data/gads/raw_data/gen_5013_type_300_dtgrp_2_rating_1_state_Texas_raw.csv \n"
     ]
    },
    {
     "name": "stderr",
     "output_type": "stream",
     "text": [
      "┌ Warning: thread = 1 warning: error parsing DateTime around row = 422, col = 1: \"NULL,\", error=INVALID: DELIMITED | INVALID_DELIMITER \n",
      "└ @ CSV /projects/emco4286/.julia/packages/CSV/XLcqT/src/file.jl:595\n"
     ]
    },
    {
     "name": "stdout",
     "output_type": "stream",
     "text": [
      "/projects/emco4286/data/gads/raw_data/gen_5014_type_300_dtgrp_2_rating_1_state_Texas_raw.csv \n"
     ]
    },
    {
     "name": "stderr",
     "output_type": "stream",
     "text": [
      "┌ Warning: thread = 1 warning: error parsing DateTime around row = 368, col = 1: \"NULL,\", error=INVALID: DELIMITED | INVALID_DELIMITER \n",
      "└ @ CSV /projects/emco4286/.julia/packages/CSV/XLcqT/src/file.jl:595\n"
     ]
    },
    {
     "name": "stdout",
     "output_type": "stream",
     "text": [
      "/projects/emco4286/data/gads/raw_data/gen_5033_type_300_dtgrp_2_rating_1_state_Texas_raw.csv \n"
     ]
    },
    {
     "name": "stderr",
     "output_type": "stream",
     "text": [
      "┌ Warning: thread = 1 warning: error parsing DateTime around row = 1008, col = 1: \"NULL,\", error=INVALID: DELIMITED | INVALID_DELIMITER \n",
      "└ @ CSV /projects/emco4286/.julia/packages/CSV/XLcqT/src/file.jl:595\n"
     ]
    },
    {
     "name": "stdout",
     "output_type": "stream",
     "text": [
      "/projects/emco4286/data/gads/raw_data/gen_5034_type_300_dtgrp_2_rating_1_state_Texas_raw.csv \n"
     ]
    },
    {
     "name": "stderr",
     "output_type": "stream",
     "text": [
      "┌ Warning: thread = 1 warning: error parsing DateTime around row = 705, col = 1: \"NULL,\", error=INVALID: DELIMITED | INVALID_DELIMITER \n",
      "└ @ CSV /projects/emco4286/.julia/packages/CSV/XLcqT/src/file.jl:595\n"
     ]
    },
    {
     "name": "stdout",
     "output_type": "stream",
     "text": [
      "/projects/emco4286/data/gads/raw_data/gen_5035_type_300_dtgrp_2_rating_1_state_Texas_raw.csv \n"
     ]
    },
    {
     "name": "stderr",
     "output_type": "stream",
     "text": [
      "┌ Warning: thread = 1 warning: error parsing DateTime around row = 690, col = 1: \"NULL,\", error=INVALID: DELIMITED | INVALID_DELIMITER \n",
      "└ @ CSV /projects/emco4286/.julia/packages/CSV/XLcqT/src/file.jl:595\n"
     ]
    },
    {
     "name": "stdout",
     "output_type": "stream",
     "text": [
      "/projects/emco4286/data/gads/raw_data/gen_5036_type_300_dtgrp_2_rating_1_state_Texas_raw.csv \n"
     ]
    },
    {
     "name": "stderr",
     "output_type": "stream",
     "text": [
      "┌ Warning: thread = 1 warning: error parsing DateTime around row = 642, col = 1: \"NULL,\", error=INVALID: DELIMITED | INVALID_DELIMITER \n",
      "└ @ CSV /projects/emco4286/.julia/packages/CSV/XLcqT/src/file.jl:595\n"
     ]
    },
    {
     "name": "stdout",
     "output_type": "stream",
     "text": [
      "/projects/emco4286/data/gads/raw_data/gen_5861_type_300_dtgrp_1_rating_1_state_Texas_raw.csv \n",
      "/projects/emco4286/data/gads/raw_data/gen_5862_type_300_dtgrp_1_rating_1_state_Texas_raw.csv \n",
      "/projects/emco4286/data/gads/raw_data/gen_5863_type_300_dtgrp_1_rating_1_state_Texas_raw.csv \n",
      "/projects/emco4286/data/gads/raw_data/gen_5864_type_300_dtgrp_1_rating_1_state_Texas_raw.csv \n",
      "/projects/emco4286/data/gads/raw_data/gen_5865_type_300_dtgrp_1_rating_1_state_Texas_raw.csv \n",
      "/projects/emco4286/data/gads/raw_data/gen_5866_type_300_dtgrp_1_rating_1_state_Texas_raw.csv \n",
      "/projects/emco4286/data/gads/raw_data/gen_5867_type_300_dtgrp_1_rating_1_state_Texas_raw.csv \n",
      "/projects/emco4286/data/gads/raw_data/gen_5868_type_300_dtgrp_1_rating_1_state_Texas_raw.csv \n",
      "/projects/emco4286/data/gads/raw_data/gen_5869_type_300_dtgrp_1_rating_1_state_Texas_raw.csv \n",
      "/projects/emco4286/data/gads/raw_data/gen_5870_type_300_dtgrp_1_rating_1_state_Texas_raw.csv \n",
      "/projects/emco4286/data/gads/raw_data/gen_5871_type_300_dtgrp_1_rating_1_state_Texas_raw.csv \n",
      "/projects/emco4286/data/gads/raw_data/gen_5872_type_300_dtgrp_1_rating_1_state_Texas_raw.csv \n",
      "/projects/emco4286/data/gads/raw_data/gen_7660_type_300_dtgrp_2_rating_1_state_Texas_raw.csv \n",
      "/projects/emco4286/data/gads/raw_data/gen_7661_type_300_dtgrp_2_rating_1_state_Texas_raw.csv \n",
      "/projects/emco4286/data/gads/raw_data/gen_7662_type_300_dtgrp_2_rating_1_state_Texas_raw.csv \n",
      "/projects/emco4286/data/gads/raw_data/gen_7943_type_300_dtgrp_5_rating_2_state_Texas_raw.csv \n"
     ]
    }
   ],
   "source": [
    "start_date_g = DateTime(2013,1,1,6)\n",
    "end_date_g = DateTime(2024,1,1,6)\n",
    "date_range_g = [k for k in start_date_g:Hour(1):end_date_g]\n",
    "\n",
    "myrange_g = [k for k in 0:1:round(end_date_g - start_date_g, Hour).value]\n",
    "\n",
    "for f in files\n",
    "\n",
    "    @printf \"%s \\n\" f\n",
    "\n",
    "    mymatch = match(r\"/projects/emco4286/data/gads/raw_data/gen_(\\d+)_type_(\\d+)_dtgrp_(\\d+)_rating_(\\d+)_state_Texas_raw.csv\", f)\n",
    "    id = parse(Int32, mymatch[1])\n",
    "    rating = parse(Int32, mymatch[4])\n",
    "\n",
    "    df = DataFrame(CSV.File(f, types=types_dict))\n",
    "    df = df[typeof.(df.EventEndDT) .== DateTime, :] # for missing DateTime values\n",
    "    # df = df[df.EventTypeCode .!= \"RS\", :]\n",
    "\n",
    "    if size(df)[1] > 1\n",
    "\n",
    "        sort!(df, :EventStartDT)\n",
    "        transform!(df, :EventTypeCode => ByRow(x -> mydict[x]), :EventTypeCode)\n",
    "        # df = df[df.EventTypeCode_function .!= 5, :]\n",
    "        df = df[df.EventTypeCode_function .!= 1, :]\n",
    "\n",
    "        if size(df)[1] > 1\n",
    "\n",
    "            birthdate = agedict[df[1, :CommercialDT_grp]]\n",
    "\n",
    "            # \n",
    "            state = convert(Array{Union{Missing, Float64}}, fill(1, length(myrange_g))) # to allow missing values\n",
    "            cause = convert(Array{Union{Missing, Float64}}, fill(1, length(myrange_g)))\n",
    "            rating_array = convert(Array{Union{Missing, Float64}}, fill(rating, length(myrange_g)))\n",
    "            age = [k.value for k in round.(date_range_g - birthdate, Day(1))]\n",
    "\n",
    "\n",
    "            # Hour that outage starts\n",
    "            time_vector = map(x -> round(x - start_date_g, Hour), df[!, :EventStartDT])\n",
    "\n",
    "            # Set state to zero during an event\n",
    "            for k in [c for c in range(1, step=1, length=length(time_vector))] # k is an index\n",
    "                start_time_string = round(df[k, :EventStartDT], Hour)\n",
    "                end_time_string = round(df[k, :EventEndDT], Hour)\n",
    "\n",
    "                mycause = df[k, :EventTypeCode_function]\n",
    "\n",
    "                # if cause == 1 # RS\n",
    "                #     continue\n",
    "                # end\n",
    "\n",
    "                start_hour = time_vector[k].value # integer\n",
    "                duration = round(end_time_string - start_time_string, Hour).value\n",
    "                end_hour = start_hour + duration\n",
    "\n",
    "                start_index = max(1, start_hour)\n",
    "\n",
    "                matching_idx = findall(x -> x == end_hour, myrange_g)\n",
    "                \n",
    "                if length(matching_idx) < 1\n",
    "                    end_index = length(state)\n",
    "                else\n",
    "                    end_index = matching_idx[1]\n",
    "                end\n",
    "\n",
    "                # If event is unit getting retired, set state as missing until the end of the period and skip to the next unit\n",
    "                if mycause == 5\n",
    "                    state[start_index:end] .= missing\n",
    "                    cause[start_index:end] .= missing\n",
    "                else\n",
    "                    state[start_index:end_index] .= 0\n",
    "                    cause[start_index:end_index] .= mycause\n",
    "                end\n",
    "\n",
    "            end\n",
    "\n",
    "            trajectory = DataFrame(x=date_range_g, y1=state, y2=cause, y3=age, y9=rating_array)\n",
    "            mask = map(x -> ismissing(x) ? false : true, trajectory.y2)\n",
    "            trajectory = trajectory[mask, :]\n",
    "\n",
    "            merged = innerjoin(trajectory, load_data[!,[:x, :ERCOT]], on=:x)\n",
    "            sort!(merged, :x)\n",
    "            merged[!, :y4] = Dates.dayofyear.(merged[!, :x])\n",
    "\n",
    "            # Add weather, deal with Tmax = 0\n",
    "            merged = innerjoin(merged, weather_merged, on=:x)\n",
    "\n",
    "            # Days since last planned outage\n",
    "            my_data = Vector{Union{Int,Missing}}(missing, length(merged[!, :x]))\n",
    "\n",
    "            indexed = merged[merged.y2 .== 3, :]\n",
    "            bool_vec = diff(indexed[!, :x]) .!= Millisecond(3600000)\n",
    "\n",
    "            idx1 = filter(r -> bool_vec[r], range(1, length(bool_vec)))\n",
    "            event_end_datetimes = indexed[idx1, :x]\n",
    "\n",
    "            k = 1\n",
    "            for i in merged[!, :x]\n",
    "\n",
    "                events_before_i = [k for k in event_end_datetimes if k < i]\n",
    "\n",
    "                if length(events_before_i) < 1\n",
    "                    my_data[1:k] .= missing\n",
    "                else\n",
    "\n",
    "\n",
    "                    val, idx2 = findmin(i .- events_before_i)\n",
    "                    closest_event = event_end_datetimes[idx2]\n",
    "                    hours_since_event = round(i - closest_event, Day).value\n",
    "\n",
    "                    my_data[k] = hours_since_event\n",
    "                end\n",
    "\n",
    "                k+= 1\n",
    "            end\n",
    "\n",
    "            merged[!, :y6] = my_data\n",
    "\n",
    "            # Days since last maintenance outage\n",
    "            my_data = Vector{Union{Int,Missing}}(missing, length(merged[!, :x]))\n",
    "\n",
    "            indexed = merged[merged.y2 .== 4, :]\n",
    "            bool_vec = diff(indexed[!, :x]) .!= Millisecond(3600000)\n",
    "\n",
    "            idx1 = filter(r -> bool_vec[r], range(1, length(bool_vec)))\n",
    "            event_end_datetimes = indexed[idx1, :x]\n",
    "\n",
    "            k = 1\n",
    "            for i in merged[!, :x]\n",
    "\n",
    "                events_before_i = [k for k in event_end_datetimes if k < i]\n",
    "\n",
    "                if length(events_before_i) < 1\n",
    "                    my_data[1:k] .= missing\n",
    "                else\n",
    "                    val, idx2 = findmin(i .- events_before_i)\n",
    "                    closest_event = event_end_datetimes[idx2]\n",
    "                    hours_since_event = round(i - closest_event, Day).value\n",
    "\n",
    "                    my_data[k] = hours_since_event\n",
    "                end\n",
    "\n",
    "                k+= 1\n",
    "            end\n",
    "\n",
    "            merged[!, :y7] = my_data\n",
    "\n",
    "            merged[!, :y8] = map(f -> Month(f).value, merged[!, :x])\n",
    "\n",
    "            fname = @sprintf \"gen_%d_class_CT_rating_%d_state_Texas.csv\" id rating \n",
    "\n",
    "            path = joinpath(\"/projects\", \"emco4286\", \"data\", \"gads\", \"trajectories\", \"ct\", fname)\n",
    "            CSV.write(path, merged)\n",
    "        end\n",
    "    end\n",
    "\n",
    "end"
   ]
  },
  {
   "cell_type": "code",
   "execution_count": null,
   "id": "03b57691",
   "metadata": {},
   "outputs": [],
   "source": []
  }
 ],
 "metadata": {
  "kernelspec": {
   "display_name": "Julia 1.10.2",
   "language": "julia",
   "name": "julia-1.10"
  },
  "language_info": {
   "file_extension": ".jl",
   "mimetype": "application/julia",
   "name": "julia",
   "version": "1.10.2"
  }
 },
 "nbformat": 4,
 "nbformat_minor": 5
}
