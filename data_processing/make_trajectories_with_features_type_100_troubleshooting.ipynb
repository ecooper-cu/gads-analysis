{
 "cells": [
  {
   "cell_type": "code",
   "execution_count": 1,
   "id": "834d296e",
   "metadata": {},
   "outputs": [],
   "source": [
    "using Printf, CSV, DataFrames, Statistics, Glob, XLSX, Dates, Plots, TimeSeries, JSON"
   ]
  },
  {
   "cell_type": "code",
   "execution_count": 2,
   "id": "6ffa53fd",
   "metadata": {},
   "outputs": [
    {
     "data": {
      "text/html": [
       "<div><div style = \"float: left;\"><span>45×9 DataFrame</span></div><div style = \"float: right;\"><span style = \"font-style: italic;\">20 rows omitted</span></div><div style = \"clear: both;\"></div></div><div class = \"data-frame\" style = \"overflow-x: scroll;\"><table class = \"data-frame\" style = \"margin-bottom: 6px;\"><thead><tr class = \"header\"><th class = \"rowNumber\" style = \"font-weight: bold; text-align: right;\">Row</th><th style = \"text-align: left;\">EventEndDT</th><th style = \"text-align: left;\">EventStartDT</th><th style = \"text-align: left;\">EventTypeCode</th><th style = \"text-align: left;\">OutageContinuationFlag</th><th style = \"text-align: left;\">UnitID</th><th style = \"text-align: left;\">UnitTypeCode</th><th style = \"text-align: left;\">CommercialDT_grp</th><th style = \"text-align: left;\">RatingMW_grp</th><th style = \"text-align: left;\">StateName</th></tr><tr class = \"subheader headerLastRow\"><th class = \"rowNumber\" style = \"font-weight: bold; text-align: right;\"></th><th title = \"DateTime\" style = \"text-align: left;\">DateTime</th><th title = \"DateTime\" style = \"text-align: left;\">DateTime</th><th title = \"String3\" style = \"text-align: left;\">String3</th><th title = \"Int64\" style = \"text-align: left;\">Int64</th><th title = \"Int64\" style = \"text-align: left;\">Int64</th><th title = \"Int64\" style = \"text-align: left;\">Int64</th><th title = \"Int64\" style = \"text-align: left;\">Int64</th><th title = \"Int64\" style = \"text-align: left;\">Int64</th><th title = \"String7\" style = \"text-align: left;\">String7</th></tr></thead><tbody><tr><td class = \"rowNumber\" style = \"font-weight: bold; text-align: right;\">1</td><td style = \"text-align: left;\">2013-06-13T02:35:00</td><td style = \"text-align: left;\">2013-04-05T22:18:00</td><td style = \"text-align: left;\">PO</td><td style = \"text-align: right;\">0</td><td style = \"text-align: right;\">10272</td><td style = \"text-align: right;\">100</td><td style = \"text-align: right;\">4</td><td style = \"text-align: right;\">1</td><td style = \"text-align: left;\">Texas</td></tr><tr><td class = \"rowNumber\" style = \"font-weight: bold; text-align: right;\">2</td><td style = \"text-align: left;\">2013-06-14T05:50:00</td><td style = \"text-align: left;\">2013-06-13T18:29:00</td><td style = \"text-align: left;\">U1</td><td style = \"text-align: right;\">0</td><td style = \"text-align: right;\">10272</td><td style = \"text-align: right;\">100</td><td style = \"text-align: right;\">4</td><td style = \"text-align: right;\">1</td><td style = \"text-align: left;\">Texas</td></tr><tr><td class = \"rowNumber\" style = \"font-weight: bold; text-align: right;\">3</td><td style = \"text-align: left;\">2013-07-13T09:08:00</td><td style = \"text-align: left;\">2013-07-13T07:28:00</td><td style = \"text-align: left;\">U1</td><td style = \"text-align: right;\">0</td><td style = \"text-align: right;\">10272</td><td style = \"text-align: right;\">100</td><td style = \"text-align: right;\">4</td><td style = \"text-align: right;\">1</td><td style = \"text-align: left;\">Texas</td></tr><tr><td class = \"rowNumber\" style = \"font-weight: bold; text-align: right;\">4</td><td style = \"text-align: left;\">2013-08-07T02:18:00</td><td style = \"text-align: left;\">2013-08-06T06:50:00</td><td style = \"text-align: left;\">U1</td><td style = \"text-align: right;\">0</td><td style = \"text-align: right;\">10272</td><td style = \"text-align: right;\">100</td><td style = \"text-align: right;\">4</td><td style = \"text-align: right;\">1</td><td style = \"text-align: left;\">Texas</td></tr><tr><td class = \"rowNumber\" style = \"font-weight: bold; text-align: right;\">5</td><td style = \"text-align: left;\">2013-10-06T03:58:00</td><td style = \"text-align: left;\">2013-10-02T01:53:00</td><td style = \"text-align: left;\">U2</td><td style = \"text-align: right;\">0</td><td style = \"text-align: right;\">10272</td><td style = \"text-align: right;\">100</td><td style = \"text-align: right;\">4</td><td style = \"text-align: right;\">1</td><td style = \"text-align: left;\">Texas</td></tr><tr><td class = \"rowNumber\" style = \"font-weight: bold; text-align: right;\">6</td><td style = \"text-align: left;\">2014-06-03T17:30:00</td><td style = \"text-align: left;\">2014-05-21T03:00:00</td><td style = \"text-align: left;\">PO</td><td style = \"text-align: right;\">0</td><td style = \"text-align: right;\">10272</td><td style = \"text-align: right;\">100</td><td style = \"text-align: right;\">4</td><td style = \"text-align: right;\">1</td><td style = \"text-align: left;\">Texas</td></tr><tr><td class = \"rowNumber\" style = \"font-weight: bold; text-align: right;\">7</td><td style = \"text-align: left;\">2014-07-14T04:04:00</td><td style = \"text-align: left;\">2014-07-13T17:43:00</td><td style = \"text-align: left;\">PO</td><td style = \"text-align: right;\">0</td><td style = \"text-align: right;\">10272</td><td style = \"text-align: right;\">100</td><td style = \"text-align: right;\">4</td><td style = \"text-align: right;\">1</td><td style = \"text-align: left;\">Texas</td></tr><tr><td class = \"rowNumber\" style = \"font-weight: bold; text-align: right;\">8</td><td style = \"text-align: left;\">2015-02-17T21:30:00</td><td style = \"text-align: left;\">2015-01-31T01:00:00</td><td style = \"text-align: left;\">PO</td><td style = \"text-align: right;\">0</td><td style = \"text-align: right;\">10272</td><td style = \"text-align: right;\">100</td><td style = \"text-align: right;\">4</td><td style = \"text-align: right;\">1</td><td style = \"text-align: left;\">Texas</td></tr><tr><td class = \"rowNumber\" style = \"font-weight: bold; text-align: right;\">9</td><td style = \"text-align: left;\">2015-03-07T13:30:00</td><td style = \"text-align: left;\">2015-03-07T12:00:00</td><td style = \"text-align: left;\">U1</td><td style = \"text-align: right;\">0</td><td style = \"text-align: right;\">10272</td><td style = \"text-align: right;\">100</td><td style = \"text-align: right;\">4</td><td style = \"text-align: right;\">1</td><td style = \"text-align: left;\">Texas</td></tr><tr><td class = \"rowNumber\" style = \"font-weight: bold; text-align: right;\">10</td><td style = \"text-align: left;\">2015-06-20T01:00:00</td><td style = \"text-align: left;\">2015-06-10T03:00:00</td><td style = \"text-align: left;\">PO</td><td style = \"text-align: right;\">0</td><td style = \"text-align: right;\">10272</td><td style = \"text-align: right;\">100</td><td style = \"text-align: right;\">4</td><td style = \"text-align: right;\">1</td><td style = \"text-align: left;\">Texas</td></tr><tr><td class = \"rowNumber\" style = \"font-weight: bold; text-align: right;\">11</td><td style = \"text-align: left;\">2015-07-24T07:00:00</td><td style = \"text-align: left;\">2015-07-21T03:30:00</td><td style = \"text-align: left;\">MO</td><td style = \"text-align: right;\">0</td><td style = \"text-align: right;\">10272</td><td style = \"text-align: right;\">100</td><td style = \"text-align: right;\">4</td><td style = \"text-align: right;\">1</td><td style = \"text-align: left;\">Texas</td></tr><tr><td class = \"rowNumber\" style = \"font-weight: bold; text-align: right;\">12</td><td style = \"text-align: left;\">2015-11-15T05:00:00</td><td style = \"text-align: left;\">2015-11-06T16:30:00</td><td style = \"text-align: left;\">MO</td><td style = \"text-align: right;\">0</td><td style = \"text-align: right;\">10272</td><td style = \"text-align: right;\">100</td><td style = \"text-align: right;\">4</td><td style = \"text-align: right;\">1</td><td style = \"text-align: left;\">Texas</td></tr><tr><td class = \"rowNumber\" style = \"font-weight: bold; text-align: right;\">13</td><td style = \"text-align: left;\">2016-05-24T11:00:00</td><td style = \"text-align: left;\">2016-04-22T18:00:00</td><td style = \"text-align: left;\">PO</td><td style = \"text-align: right;\">0</td><td style = \"text-align: right;\">10272</td><td style = \"text-align: right;\">100</td><td style = \"text-align: right;\">4</td><td style = \"text-align: right;\">1</td><td style = \"text-align: left;\">Texas</td></tr><tr><td style = \"text-align: right;\">&vellip;</td><td style = \"text-align: right;\">&vellip;</td><td style = \"text-align: right;\">&vellip;</td><td style = \"text-align: right;\">&vellip;</td><td style = \"text-align: right;\">&vellip;</td><td style = \"text-align: right;\">&vellip;</td><td style = \"text-align: right;\">&vellip;</td><td style = \"text-align: right;\">&vellip;</td><td style = \"text-align: right;\">&vellip;</td><td style = \"text-align: right;\">&vellip;</td></tr><tr><td class = \"rowNumber\" style = \"font-weight: bold; text-align: right;\">34</td><td style = \"text-align: left;\">2020-02-10T20:30:00</td><td style = \"text-align: left;\">2020-02-08T14:00:00</td><td style = \"text-align: left;\">U2</td><td style = \"text-align: right;\">0</td><td style = \"text-align: right;\">10272</td><td style = \"text-align: right;\">100</td><td style = \"text-align: right;\">4</td><td style = \"text-align: right;\">1</td><td style = \"text-align: left;\">Texas</td></tr><tr><td class = \"rowNumber\" style = \"font-weight: bold; text-align: right;\">35</td><td style = \"text-align: left;\">2020-04-01T04:59:00</td><td style = \"text-align: left;\">2020-03-19T07:30:00</td><td style = \"text-align: left;\">MO</td><td style = \"text-align: right;\">0</td><td style = \"text-align: right;\">10272</td><td style = \"text-align: right;\">100</td><td style = \"text-align: right;\">4</td><td style = \"text-align: right;\">1</td><td style = \"text-align: left;\">Texas</td></tr><tr><td class = \"rowNumber\" style = \"font-weight: bold; text-align: right;\">36</td><td style = \"text-align: left;\">2020-04-12T17:30:00</td><td style = \"text-align: left;\">2020-04-01T05:00:00</td><td style = \"text-align: left;\">MO</td><td style = \"text-align: right;\">0</td><td style = \"text-align: right;\">10272</td><td style = \"text-align: right;\">100</td><td style = \"text-align: right;\">4</td><td style = \"text-align: right;\">1</td><td style = \"text-align: left;\">Texas</td></tr><tr><td class = \"rowNumber\" style = \"font-weight: bold; text-align: right;\">37</td><td style = \"text-align: left;\">2020-07-17T16:25:00</td><td style = \"text-align: left;\">2020-07-15T18:00:00</td><td style = \"text-align: left;\">U2</td><td style = \"text-align: right;\">0</td><td style = \"text-align: right;\">10272</td><td style = \"text-align: right;\">100</td><td style = \"text-align: right;\">4</td><td style = \"text-align: right;\">1</td><td style = \"text-align: left;\">Texas</td></tr><tr><td class = \"rowNumber\" style = \"font-weight: bold; text-align: right;\">38</td><td style = \"text-align: left;\">2020-10-18T17:31:00</td><td style = \"text-align: left;\">2020-10-03T06:12:00</td><td style = \"text-align: left;\">PO</td><td style = \"text-align: right;\">0</td><td style = \"text-align: right;\">10272</td><td style = \"text-align: right;\">100</td><td style = \"text-align: right;\">4</td><td style = \"text-align: right;\">1</td><td style = \"text-align: left;\">Texas</td></tr><tr><td class = \"rowNumber\" style = \"font-weight: bold; text-align: right;\">39</td><td style = \"text-align: left;\">2021-02-21T19:56:00</td><td style = \"text-align: left;\">2021-02-15T08:24:00</td><td style = \"text-align: left;\">U1</td><td style = \"text-align: right;\">0</td><td style = \"text-align: right;\">10272</td><td style = \"text-align: right;\">100</td><td style = \"text-align: right;\">4</td><td style = \"text-align: right;\">1</td><td style = \"text-align: left;\">Texas</td></tr><tr><td class = \"rowNumber\" style = \"font-weight: bold; text-align: right;\">40</td><td style = \"text-align: left;\">2021-02-21T19:56:00</td><td style = \"text-align: left;\">2021-02-15T08:24:00</td><td style = \"text-align: left;\">U1</td><td style = \"text-align: right;\">0</td><td style = \"text-align: right;\">10272</td><td style = \"text-align: right;\">100</td><td style = \"text-align: right;\">4</td><td style = \"text-align: right;\">1</td><td style = \"text-align: left;\">Texas</td></tr><tr><td class = \"rowNumber\" style = \"font-weight: bold; text-align: right;\">41</td><td style = \"text-align: left;\">2021-04-30T01:25:00</td><td style = \"text-align: left;\">2021-04-14T17:00:00</td><td style = \"text-align: left;\">PO</td><td style = \"text-align: right;\">0</td><td style = \"text-align: right;\">10272</td><td style = \"text-align: right;\">100</td><td style = \"text-align: right;\">4</td><td style = \"text-align: right;\">1</td><td style = \"text-align: left;\">Texas</td></tr><tr><td class = \"rowNumber\" style = \"font-weight: bold; text-align: right;\">42</td><td style = \"text-align: left;\">2021-07-25T00:15:00</td><td style = \"text-align: left;\">2021-07-22T20:00:00</td><td style = \"text-align: left;\">U3</td><td style = \"text-align: right;\">0</td><td style = \"text-align: right;\">10272</td><td style = \"text-align: right;\">100</td><td style = \"text-align: right;\">4</td><td style = \"text-align: right;\">1</td><td style = \"text-align: left;\">Texas</td></tr><tr><td class = \"rowNumber\" style = \"font-weight: bold; text-align: right;\">43</td><td style = \"text-align: left;\">2022-02-06T23:31:00</td><td style = \"text-align: left;\">2022-02-06T13:35:00</td><td style = \"text-align: left;\">U2</td><td style = \"text-align: right;\">0</td><td style = \"text-align: right;\">10272</td><td style = \"text-align: right;\">100</td><td style = \"text-align: right;\">4</td><td style = \"text-align: right;\">1</td><td style = \"text-align: left;\">Texas</td></tr><tr><td class = \"rowNumber\" style = \"font-weight: bold; text-align: right;\">44</td><td style = \"text-align: left;\">2022-04-01T04:59:00</td><td style = \"text-align: left;\">2022-02-22T19:32:00</td><td style = \"text-align: left;\">U2</td><td style = \"text-align: right;\">0</td><td style = \"text-align: right;\">10272</td><td style = \"text-align: right;\">100</td><td style = \"text-align: right;\">4</td><td style = \"text-align: right;\">1</td><td style = \"text-align: left;\">Texas</td></tr><tr><td class = \"rowNumber\" style = \"font-weight: bold; text-align: right;\">45</td><td style = \"text-align: left;\">2023-01-01T06:00:00</td><td style = \"text-align: left;\">2022-04-01T05:00:00</td><td style = \"text-align: left;\">DR</td><td style = \"text-align: right;\">0</td><td style = \"text-align: right;\">10272</td><td style = \"text-align: right;\">100</td><td style = \"text-align: right;\">4</td><td style = \"text-align: right;\">1</td><td style = \"text-align: left;\">Texas</td></tr></tbody></table></div>"
      ],
      "text/latex": [
       "\\begin{tabular}{r|ccccc}\n",
       "\t& EventEndDT & EventStartDT & EventTypeCode & OutageContinuationFlag & \\\\\n",
       "\t\\hline\n",
       "\t& DateTime & DateTime & String3 & Int64 & \\\\\n",
       "\t\\hline\n",
       "\t1 & 2013-06-13T02:35:00 & 2013-04-05T22:18:00 & PO & 0 & $\\dots$ \\\\\n",
       "\t2 & 2013-06-14T05:50:00 & 2013-06-13T18:29:00 & U1 & 0 & $\\dots$ \\\\\n",
       "\t3 & 2013-07-13T09:08:00 & 2013-07-13T07:28:00 & U1 & 0 & $\\dots$ \\\\\n",
       "\t4 & 2013-08-07T02:18:00 & 2013-08-06T06:50:00 & U1 & 0 & $\\dots$ \\\\\n",
       "\t5 & 2013-10-06T03:58:00 & 2013-10-02T01:53:00 & U2 & 0 & $\\dots$ \\\\\n",
       "\t6 & 2014-06-03T17:30:00 & 2014-05-21T03:00:00 & PO & 0 & $\\dots$ \\\\\n",
       "\t7 & 2014-07-14T04:04:00 & 2014-07-13T17:43:00 & PO & 0 & $\\dots$ \\\\\n",
       "\t8 & 2015-02-17T21:30:00 & 2015-01-31T01:00:00 & PO & 0 & $\\dots$ \\\\\n",
       "\t9 & 2015-03-07T13:30:00 & 2015-03-07T12:00:00 & U1 & 0 & $\\dots$ \\\\\n",
       "\t10 & 2015-06-20T01:00:00 & 2015-06-10T03:00:00 & PO & 0 & $\\dots$ \\\\\n",
       "\t11 & 2015-07-24T07:00:00 & 2015-07-21T03:30:00 & MO & 0 & $\\dots$ \\\\\n",
       "\t12 & 2015-11-15T05:00:00 & 2015-11-06T16:30:00 & MO & 0 & $\\dots$ \\\\\n",
       "\t13 & 2016-05-24T11:00:00 & 2016-04-22T18:00:00 & PO & 0 & $\\dots$ \\\\\n",
       "\t14 & 2016-05-28T10:00:00 & 2016-05-27T02:00:00 & U1 & 0 & $\\dots$ \\\\\n",
       "\t15 & 2016-06-16T04:00:00 & 2016-05-29T17:00:00 & PO & 0 & $\\dots$ \\\\\n",
       "\t16 & 2016-08-07T05:00:00 & 2016-08-04T12:00:00 & MO & 0 & $\\dots$ \\\\\n",
       "\t17 & 2016-08-23T07:00:00 & 2016-08-22T12:00:00 & MO & 0 & $\\dots$ \\\\\n",
       "\t18 & 2016-09-20T23:00:00 & 2016-09-17T13:00:00 & MO & 0 & $\\dots$ \\\\\n",
       "\t19 & 2016-10-12T23:00:00 & 2016-10-09T13:00:00 & U2 & 0 & $\\dots$ \\\\\n",
       "\t20 & 2017-03-15T10:00:00 & 2017-03-04T02:30:00 & PO & 0 & $\\dots$ \\\\\n",
       "\t21 & 2017-04-10T20:00:00 & 2017-04-05T02:30:00 & PO & 0 & $\\dots$ \\\\\n",
       "\t22 & 2017-05-25T16:00:00 & 2017-05-23T12:00:00 & U1 & 0 & $\\dots$ \\\\\n",
       "\t23 & 2017-06-25T18:00:00 & 2017-06-24T04:00:00 & PO & 0 & $\\dots$ \\\\\n",
       "\t24 & 2017-09-25T04:30:00 & 2017-09-12T00:00:00 & MO & 0 & $\\dots$ \\\\\n",
       "\t$\\dots$ & $\\dots$ & $\\dots$ & $\\dots$ & $\\dots$ &  \\\\\n",
       "\\end{tabular}\n"
      ],
      "text/plain": [
       "\u001b[1m45×9 DataFrame\u001b[0m\n",
       "\u001b[1m Row \u001b[0m│\u001b[1m EventEndDT          \u001b[0m\u001b[1m EventStartDT        \u001b[0m\u001b[1m EventTypeCode \u001b[0m\u001b[1m OutageContinua\u001b[0m ⋯\n",
       "     │\u001b[90m DateTime            \u001b[0m\u001b[90m DateTime            \u001b[0m\u001b[90m String3       \u001b[0m\u001b[90m Int64         \u001b[0m ⋯\n",
       "─────┼──────────────────────────────────────────────────────────────────────────\n",
       "   1 │ 2013-06-13T02:35:00  2013-04-05T22:18:00  PO                            ⋯\n",
       "   2 │ 2013-06-14T05:50:00  2013-06-13T18:29:00  U1\n",
       "   3 │ 2013-07-13T09:08:00  2013-07-13T07:28:00  U1\n",
       "   4 │ 2013-08-07T02:18:00  2013-08-06T06:50:00  U1\n",
       "   5 │ 2013-10-06T03:58:00  2013-10-02T01:53:00  U2                            ⋯\n",
       "   6 │ 2014-06-03T17:30:00  2014-05-21T03:00:00  PO\n",
       "   7 │ 2014-07-14T04:04:00  2014-07-13T17:43:00  PO\n",
       "   8 │ 2015-02-17T21:30:00  2015-01-31T01:00:00  PO\n",
       "  ⋮  │          ⋮                    ⋮                 ⋮                  ⋮    ⋱\n",
       "  39 │ 2021-02-21T19:56:00  2021-02-15T08:24:00  U1                            ⋯\n",
       "  40 │ 2021-02-21T19:56:00  2021-02-15T08:24:00  U1\n",
       "  41 │ 2021-04-30T01:25:00  2021-04-14T17:00:00  PO\n",
       "  42 │ 2021-07-25T00:15:00  2021-07-22T20:00:00  U3\n",
       "  43 │ 2022-02-06T23:31:00  2022-02-06T13:35:00  U2                            ⋯\n",
       "  44 │ 2022-04-01T04:59:00  2022-02-22T19:32:00  U2\n",
       "  45 │ 2023-01-01T06:00:00  2022-04-01T05:00:00  DR\n",
       "\u001b[36m                                                   6 columns and 30 rows omitted\u001b[0m"
      ]
     },
     "metadata": {},
     "output_type": "display_data"
    }
   ],
   "source": [
    "directory = joinpath(homedir(), \"research\", \"GADS_Processed\", \"raw_data\")\n",
    "f = \"gen_10272_type_100_dtgrp_4_rating_1_state_Texas_raw.csv\"\n",
    "path = joinpath(directory, f)\n",
    "df = DataFrame(CSV.File(path))"
   ]
  },
  {
   "cell_type": "code",
   "execution_count": 3,
   "id": "1a1864cc",
   "metadata": {},
   "outputs": [],
   "source": [
    "weather_pt = joinpath(homedir(), \"research\", \"NOAA_WEATHER_DATA\", \"processed\")\n",
    "weather_files = glob(\"*.csv\", weather_pt)\n",
    "\n",
    "my_w_list = []\n",
    "\n",
    "for w in weather_files\n",
    "\n",
    "    # types_dict=Dict((\"Column1\" => DateTime))\n",
    "    weather = DataFrame(CSV.File(w)) #, dateformat=\"yyyy-mm-dd HH:00:00\"))\n",
    "    weather.Column1 = DateTime.(weather.Column1, \"yyyy-mm-dd HH:00:00\")\n",
    "    push!(my_w_list, weather)\n",
    "end\n",
    "\n",
    "weather_merged = reduce((x, y) -> innerjoin(x, y, on=:Column1), my_w_list)\n",
    "DataFrames.rename!(weather_merged, :Column1 => :x)\n",
    "bool_vec = weather_merged.Tmax .== 0\n",
    "bool_vec = ifelse.(ismissing.(bool_vec), 0, bool_vec)\n",
    "bool_vec = convert.(Bool, bool_vec)\n",
    "idx1 = filter(r -> bool_vec[r], range(1, length(bool_vec)))\n",
    "weather_merged[idx1, :Tmax] .= missing;\n"
   ]
  },
  {
   "cell_type": "code",
   "execution_count": 4,
   "id": "0e080b0c",
   "metadata": {},
   "outputs": [
    {
     "data": {
      "text/html": [
       "<div><div style = \"float: left;\"><span>96408×2 DataFrame</span></div><div style = \"float: right;\"><span style = \"font-style: italic;\">96383 rows omitted</span></div><div style = \"clear: both;\"></div></div><div class = \"data-frame\" style = \"overflow-x: scroll;\"><table class = \"data-frame\" style = \"margin-bottom: 6px;\"><thead><tr class = \"header\"><th class = \"rowNumber\" style = \"font-weight: bold; text-align: right;\">Row</th><th style = \"text-align: left;\">x</th><th style = \"text-align: left;\">ERCOT</th></tr><tr class = \"subheader headerLastRow\"><th class = \"rowNumber\" style = \"font-weight: bold; text-align: right;\"></th><th title = \"DateTime\" style = \"text-align: left;\">DateTime</th><th title = \"Float64\" style = \"text-align: left;\">Float64</th></tr></thead><tbody><tr><td class = \"rowNumber\" style = \"font-weight: bold; text-align: right;\">1</td><td style = \"text-align: left;\">2013-01-01T01:00:00</td><td style = \"text-align: right;\">28684.9</td></tr><tr><td class = \"rowNumber\" style = \"font-weight: bold; text-align: right;\">2</td><td style = \"text-align: left;\">2013-01-01T02:00:00</td><td style = \"text-align: right;\">28002.7</td></tr><tr><td class = \"rowNumber\" style = \"font-weight: bold; text-align: right;\">3</td><td style = \"text-align: left;\">2013-01-01T03:00:00</td><td style = \"text-align: right;\">27363.8</td></tr><tr><td class = \"rowNumber\" style = \"font-weight: bold; text-align: right;\">4</td><td style = \"text-align: left;\">2013-01-01T04:00:00</td><td style = \"text-align: right;\">27032.4</td></tr><tr><td class = \"rowNumber\" style = \"font-weight: bold; text-align: right;\">5</td><td style = \"text-align: left;\">2013-01-01T05:00:00</td><td style = \"text-align: right;\">27163.8</td></tr><tr><td class = \"rowNumber\" style = \"font-weight: bold; text-align: right;\">6</td><td style = \"text-align: left;\">2013-01-01T06:00:00</td><td style = \"text-align: right;\">27836.8</td></tr><tr><td class = \"rowNumber\" style = \"font-weight: bold; text-align: right;\">7</td><td style = \"text-align: left;\">2013-01-01T07:00:00</td><td style = \"text-align: right;\">28722.0</td></tr><tr><td class = \"rowNumber\" style = \"font-weight: bold; text-align: right;\">8</td><td style = \"text-align: left;\">2013-01-01T08:00:00</td><td style = \"text-align: right;\">29391.7</td></tr><tr><td class = \"rowNumber\" style = \"font-weight: bold; text-align: right;\">9</td><td style = \"text-align: left;\">2013-01-01T09:00:00</td><td style = \"text-align: right;\">30293.8</td></tr><tr><td class = \"rowNumber\" style = \"font-weight: bold; text-align: right;\">10</td><td style = \"text-align: left;\">2013-01-01T10:00:00</td><td style = \"text-align: right;\">31882.3</td></tr><tr><td class = \"rowNumber\" style = \"font-weight: bold; text-align: right;\">11</td><td style = \"text-align: left;\">2013-01-01T11:00:00</td><td style = \"text-align: right;\">33359.5</td></tr><tr><td class = \"rowNumber\" style = \"font-weight: bold; text-align: right;\">12</td><td style = \"text-align: left;\">2013-01-01T12:00:00</td><td style = \"text-align: right;\">34186.8</td></tr><tr><td class = \"rowNumber\" style = \"font-weight: bold; text-align: right;\">13</td><td style = \"text-align: left;\">2013-01-01T13:00:00</td><td style = \"text-align: right;\">34155.1</td></tr><tr><td style = \"text-align: right;\">&vellip;</td><td style = \"text-align: right;\">&vellip;</td><td style = \"text-align: right;\">&vellip;</td></tr><tr><td class = \"rowNumber\" style = \"font-weight: bold; text-align: right;\">96397</td><td style = \"text-align: left;\">2023-12-31T13:00:00</td><td style = \"text-align: right;\">42736.8</td></tr><tr><td class = \"rowNumber\" style = \"font-weight: bold; text-align: right;\">96398</td><td style = \"text-align: left;\">2023-12-31T14:00:00</td><td style = \"text-align: right;\">42212.0</td></tr><tr><td class = \"rowNumber\" style = \"font-weight: bold; text-align: right;\">96399</td><td style = \"text-align: left;\">2023-12-31T15:00:00</td><td style = \"text-align: right;\">42043.5</td></tr><tr><td class = \"rowNumber\" style = \"font-weight: bold; text-align: right;\">96400</td><td style = \"text-align: left;\">2023-12-31T16:00:00</td><td style = \"text-align: right;\">42269.0</td></tr><tr><td class = \"rowNumber\" style = \"font-weight: bold; text-align: right;\">96401</td><td style = \"text-align: left;\">2023-12-31T17:00:00</td><td style = \"text-align: right;\">42839.4</td></tr><tr><td class = \"rowNumber\" style = \"font-weight: bold; text-align: right;\">96402</td><td style = \"text-align: left;\">2023-12-31T18:00:00</td><td style = \"text-align: right;\">44391.8</td></tr><tr><td class = \"rowNumber\" style = \"font-weight: bold; text-align: right;\">96403</td><td style = \"text-align: left;\">2023-12-31T19:00:00</td><td style = \"text-align: right;\">45677.1</td></tr><tr><td class = \"rowNumber\" style = \"font-weight: bold; text-align: right;\">96404</td><td style = \"text-align: left;\">2023-12-31T20:00:00</td><td style = \"text-align: right;\">44751.2</td></tr><tr><td class = \"rowNumber\" style = \"font-weight: bold; text-align: right;\">96405</td><td style = \"text-align: left;\">2023-12-31T21:00:00</td><td style = \"text-align: right;\">43892.8</td></tr><tr><td class = \"rowNumber\" style = \"font-weight: bold; text-align: right;\">96406</td><td style = \"text-align: left;\">2023-12-31T22:00:00</td><td style = \"text-align: right;\">43113.7</td></tr><tr><td class = \"rowNumber\" style = \"font-weight: bold; text-align: right;\">96407</td><td style = \"text-align: left;\">2023-12-31T23:00:00</td><td style = \"text-align: right;\">42244.6</td></tr><tr><td class = \"rowNumber\" style = \"font-weight: bold; text-align: right;\">96408</td><td style = \"text-align: left;\">2024-01-01T00:00:00</td><td style = \"text-align: right;\">41622.0</td></tr></tbody></table></div>"
      ],
      "text/latex": [
       "\\begin{tabular}{r|cc}\n",
       "\t& x & ERCOT\\\\\n",
       "\t\\hline\n",
       "\t& DateTime & Float64\\\\\n",
       "\t\\hline\n",
       "\t1 & 2013-01-01T01:00:00 & 28684.9 \\\\\n",
       "\t2 & 2013-01-01T02:00:00 & 28002.7 \\\\\n",
       "\t3 & 2013-01-01T03:00:00 & 27363.8 \\\\\n",
       "\t4 & 2013-01-01T04:00:00 & 27032.4 \\\\\n",
       "\t5 & 2013-01-01T05:00:00 & 27163.8 \\\\\n",
       "\t6 & 2013-01-01T06:00:00 & 27836.8 \\\\\n",
       "\t7 & 2013-01-01T07:00:00 & 28722.0 \\\\\n",
       "\t8 & 2013-01-01T08:00:00 & 29391.7 \\\\\n",
       "\t9 & 2013-01-01T09:00:00 & 30293.8 \\\\\n",
       "\t10 & 2013-01-01T10:00:00 & 31882.3 \\\\\n",
       "\t11 & 2013-01-01T11:00:00 & 33359.5 \\\\\n",
       "\t12 & 2013-01-01T12:00:00 & 34186.8 \\\\\n",
       "\t13 & 2013-01-01T13:00:00 & 34155.1 \\\\\n",
       "\t14 & 2013-01-01T14:00:00 & 33781.1 \\\\\n",
       "\t15 & 2013-01-01T15:00:00 & 33400.6 \\\\\n",
       "\t16 & 2013-01-01T16:00:00 & 33171.8 \\\\\n",
       "\t17 & 2013-01-01T17:00:00 & 33902.3 \\\\\n",
       "\t18 & 2013-01-01T18:00:00 & 36307.9 \\\\\n",
       "\t19 & 2013-01-01T19:00:00 & 38422.5 \\\\\n",
       "\t20 & 2013-01-01T20:00:00 & 38520.6 \\\\\n",
       "\t21 & 2013-01-01T21:00:00 & 38288.6 \\\\\n",
       "\t22 & 2013-01-01T22:00:00 & 37438.1 \\\\\n",
       "\t23 & 2013-01-01T23:00:00 & 35905.9 \\\\\n",
       "\t24 & 2013-01-02T00:00:00 & 34209.1 \\\\\n",
       "\t$\\dots$ & $\\dots$ & $\\dots$ \\\\\n",
       "\\end{tabular}\n"
      ],
      "text/plain": [
       "\u001b[1m96408×2 DataFrame\u001b[0m\n",
       "\u001b[1m   Row \u001b[0m│\u001b[1m x                   \u001b[0m\u001b[1m ERCOT   \u001b[0m\n",
       "       │\u001b[90m DateTime            \u001b[0m\u001b[90m Float64 \u001b[0m\n",
       "───────┼──────────────────────────────\n",
       "     1 │ 2013-01-01T01:00:00  28684.9\n",
       "     2 │ 2013-01-01T02:00:00  28002.7\n",
       "     3 │ 2013-01-01T03:00:00  27363.8\n",
       "     4 │ 2013-01-01T04:00:00  27032.4\n",
       "     5 │ 2013-01-01T05:00:00  27163.8\n",
       "     6 │ 2013-01-01T06:00:00  27836.8\n",
       "     7 │ 2013-01-01T07:00:00  28722.0\n",
       "     8 │ 2013-01-01T08:00:00  29391.7\n",
       "   ⋮   │          ⋮              ⋮\n",
       " 96402 │ 2023-12-31T18:00:00  44391.8\n",
       " 96403 │ 2023-12-31T19:00:00  45677.1\n",
       " 96404 │ 2023-12-31T20:00:00  44751.2\n",
       " 96405 │ 2023-12-31T21:00:00  43892.8\n",
       " 96406 │ 2023-12-31T22:00:00  43113.7\n",
       " 96407 │ 2023-12-31T23:00:00  42244.6\n",
       " 96408 │ 2024-01-01T00:00:00  41622.0\n",
       "\u001b[36m                    96393 rows omitted\u001b[0m"
      ]
     },
     "metadata": {},
     "output_type": "display_data"
    }
   ],
   "source": [
    "fname = \"ercot_hourly_load_2013_2023.csv\"\n",
    "path = joinpath(homedir(), \"research\", \"ERCOT_LOAD_DATA\", \"processed\", fname)\n",
    "load_data = DataFrame(CSV.File(path))\n",
    "DataFrames.rename!(load_data, :Hour_End => \"x\")\n",
    "\n",
    "load_data = load_data[!, [:x, :ERCOT]]"
   ]
  },
  {
   "cell_type": "code",
   "execution_count": 5,
   "id": "d30466b4",
   "metadata": {},
   "outputs": [
    {
     "data": {
      "text/plain": [
       "Dict{Int64, Int64} with 3 entries:\n",
       "  2 => 150\n",
       "  3 => 200\n",
       "  1 => 50"
      ]
     },
     "metadata": {},
     "output_type": "display_data"
    }
   ],
   "source": [
    "x = Dict()\n",
    "i = 1\n",
    "mydict = Dict([(\"A\", 1), (\"RS\", 1), (\"NC\", 1),  (\"IR\", 1), (\"MB\", 1), (\"F\", 2), (\"U1\", 2), (\"U2\" , 2), (\"U3\" , 2), (\"D1\", 2), (\"D2\", 2), (\"D3\", 2), (\"SF\", 2), (\"PO\", 3), (\"PE\", 3), (\"PD\", 3), (\"DP\", 3), (\"MO\", 4), (\"ME\", 4), (\"DM\", 4), (\"D4\", 4), (\"RU\", 5), (\"DR\", 5), (\"TC\", 5)])\n",
    "agedict = Dict([(1, DateTime(1980, 1, 1)), (2, DateTime(1985, 1, 1)), (3, DateTime(1995, 1, 1)), (4, DateTime(2005, 1, 1)), (5, DateTime(2015, 1, 1)), (6, DateTime(2020, 1, 1))])\n",
    "# agedict = Dict([(2, DateTime(1989, 1, 1)), (3, DateTime(1993, 1, 1))])\n",
    "types_dict = Dict(\"EventStartDT\" => DateTime, \"EventEndDT\" => DateTime)\n",
    "rating_dict = Dict([(1, 50), (2, 150), (3, 200)]);\n",
    "# weather_zone_dict = Dict([(2, \"COAST\"), (3, \"NORTH_C\")]);"
   ]
  },
  {
   "cell_type": "code",
   "execution_count": 25,
   "id": "476b6a3a",
   "metadata": {},
   "outputs": [
    {
     "data": {
      "text/plain": [
       "81045-element Vector{Int64}:\n",
       " 1\n",
       " 1\n",
       " 1\n",
       " 1\n",
       " 1\n",
       " 1\n",
       " 1\n",
       " 1\n",
       " 1\n",
       " 1\n",
       " ⋮\n",
       " 3\n",
       " 3\n",
       " 3\n",
       " 3\n",
       " 3\n",
       " 4\n",
       " 4\n",
       " 4\n",
       " 4"
      ]
     },
     "metadata": {},
     "output_type": "display_data"
    }
   ],
   "source": [
    "start_date_g = DateTime(2013,1,1,6)\n",
    "end_date_g = DateTime(2024,1,1,6)\n",
    "date_range_g = [k for k in start_date_g:Hour(1):end_date_g]\n",
    "\n",
    "myrange_g = [k for k in 0:1:round(end_date_g - start_date_g, Hour).value]\n",
    "\n",
    "indicator = 1\n",
    "\n",
    "mymatch = match(r\"gen_(\\d+)_type_(\\d+)_dtgrp_(\\d+)_rating_(\\d+)_state_Texas_raw.csv\", f)\n",
    "id = parse(Int32, mymatch[1])\n",
    "type = parse(Int32, mymatch[2])\n",
    "dtgrp = parse(Int32, mymatch[3])\n",
    "rating = parse(Int32, mymatch[4])\n",
    "\n",
    "# df = DataFrame(CSV.File(f, types=types_dict))\n",
    "df = df[typeof.(df.EventEndDT) .== DateTime, :] # for missing DateTime values\n",
    "df = df[df.EventTypeCode .!= \"RS\", :]\n",
    "\n",
    "# if size(df)[1] > 1\n",
    "\n",
    "sort!(df, :EventStartDT)\n",
    "transform!(df, :EventTypeCode => ByRow(x -> mydict[x]), :EventTypeCode)\n",
    "\n",
    "birthdate = agedict[df[1, :CommercialDT_grp]]\n",
    "\n",
    "# \n",
    "state = convert(Array{Union{Missing, Float64}}, fill(1, length(myrange_g))) # to allow missing values\n",
    "cause = convert(Array{Union{Missing, Float64}}, fill(1, length(myrange_g)))\n",
    "age = [k.value for k in round.(date_range_g - birthdate, Day(1))]\n",
    "\n",
    "\n",
    "# Hour that outage starts\n",
    "time_vector = map(x -> round(x - start_date_g, Hour), df[!, :EventStartDT])\n",
    "\n",
    "# Set state to zero during an event\n",
    "for k in [c for c in range(1, step=1, length=length(time_vector))] # k is an index\n",
    "    start_time_string = round(df[k, :EventStartDT], Hour)\n",
    "    end_time_string = round(df[k, :EventEndDT], Hour)\n",
    "\n",
    "    mycause = df[k, :EventTypeCode_function]\n",
    "\n",
    "    # if cause == 1 # RS\n",
    "    #     continue\n",
    "    # end\n",
    "\n",
    "    start_hour = time_vector[k].value # integer\n",
    "    duration = round(end_time_string - start_time_string, Hour).value\n",
    "    end_hour = start_hour + duration\n",
    "\n",
    "    start_index = max(1, start_hour)\n",
    "\n",
    "    matching_idx = findall(x -> x == end_hour, myrange_g)\n",
    "    \n",
    "    if length(matching_idx) < 1\n",
    "        end_index = length(state)\n",
    "    else\n",
    "        end_index = matching_idx[1]\n",
    "    end\n",
    "\n",
    "    # If event is unit getting retired, set state as missing until the end of the period and skip to the next unit\n",
    "    if mycause == 5\n",
    "        state[start_index:end] .= missing\n",
    "        cause[start_index:end] .= missing\n",
    "        indicator = 0\n",
    "    else\n",
    "        state[start_index:end_index] .= 0\n",
    "        cause[start_index:end_index] .= mycause\n",
    "    end\n",
    "\n",
    "end\n",
    "\n",
    "trajectory = DataFrame(x=date_range_g, y1=state, y2=cause, y3=age)\n",
    "mask = map(x -> ismissing(x) ? false : true, trajectory.y2)\n",
    "trajectory = trajectory[mask, :]\n",
    "\n",
    "merged = innerjoin(trajectory, load_data[!,[:x, :ERCOT]], on=:x)\n",
    "sort!(merged, :x)\n",
    "merged[!, :y4] = Dates.dayofyear.(merged[!, :x])\n",
    "\n",
    "# Add weather, deal with Tmax = 0\n",
    "merged = innerjoin(merged, weather_merged, on=:x)\n",
    "\n",
    "# Days since last planned outage\n",
    "my_data = Vector{Union{Int,Missing}}(missing, length(merged[!, :x]))\n",
    "\n",
    "indexed = merged[merged.y2 .== 3, :]\n",
    "bool_vec = diff(indexed[!, :x]) .!= Millisecond(3600000)\n",
    "\n",
    "idx1 = filter(r -> bool_vec[r], range(1, length(bool_vec)))\n",
    "event_end_datetimes = indexed[idx1, :x]\n",
    "\n",
    "k = 1\n",
    "for i in merged[!, :x]\n",
    "\n",
    "    events_before_i = [k for k in event_end_datetimes if k < i]\n",
    "\n",
    "    if length(events_before_i) < 1\n",
    "        my_data[1:k] .= missing\n",
    "    else\n",
    "\n",
    "\n",
    "        val, idx2 = findmin(i .- events_before_i)\n",
    "        closest_event = event_end_datetimes[idx2]\n",
    "        hours_since_event = round(i - closest_event, Day).value\n",
    "\n",
    "        my_data[k] = hours_since_event\n",
    "    end\n",
    "\n",
    "    k+= 1\n",
    "end\n",
    "\n",
    "merged[!, :y6] = my_data\n",
    "\n",
    "# Days since last maintenance outage\n",
    "my_data = Vector{Union{Int,Missing}}(missing, length(merged[!, :x]))\n",
    "\n",
    "indexed = merged[merged.y2 .== 4, :]\n",
    "bool_vec = diff(indexed[!, :x]) .!= Millisecond(3600000)\n",
    "\n",
    "idx1 = filter(r -> bool_vec[r], range(1, length(bool_vec)))\n",
    "event_end_datetimes = indexed[idx1, :x]\n",
    "\n",
    "k = 1\n",
    "for i in merged[!, :x]\n",
    "\n",
    "    events_before_i = [k for k in event_end_datetimes if k < i]\n",
    "\n",
    "    if length(events_before_i) < 1\n",
    "        my_data[1:k] .= missing\n",
    "    else\n",
    "        val, idx2 = findmin(i .- events_before_i)\n",
    "        closest_event = event_end_datetimes[idx2]\n",
    "        hours_since_event = round(i - closest_event, Day).value\n",
    "\n",
    "        my_data[k] = hours_since_event\n",
    "    end\n",
    "\n",
    "    k+= 1\n",
    "end\n",
    "\n",
    "merged[!, :y7] = my_data\n",
    "\n",
    "merged[!, :y8] = map(f -> Month(f).value, merged[!, :x])\n",
    "# end"
   ]
  },
  {
   "cell_type": "code",
   "execution_count": 26,
   "id": "aa4a2b8d",
   "metadata": {},
   "outputs": [
    {
     "data": {
      "text/html": [
       "<div><div style = \"float: left;\"><span>81045×12 DataFrame</span></div><div style = \"float: right;\"><span style = \"font-style: italic;\">81020 rows omitted</span></div><div style = \"clear: both;\"></div></div><div class = \"data-frame\" style = \"overflow-x: scroll;\"><table class = \"data-frame\" style = \"margin-bottom: 6px;\"><thead><tr class = \"header\"><th class = \"rowNumber\" style = \"font-weight: bold; text-align: right;\">Row</th><th style = \"text-align: left;\">x</th><th style = \"text-align: left;\">y1</th><th style = \"text-align: left;\">y2</th><th style = \"text-align: left;\">y3</th><th style = \"text-align: left;\">ERCOT</th><th style = \"text-align: left;\">y4</th><th style = \"text-align: left;\">Pcp</th><th style = \"text-align: left;\">Tmax</th><th style = \"text-align: left;\">Tmin</th><th style = \"text-align: left;\">y6</th><th style = \"text-align: left;\">y7</th><th style = \"text-align: left;\">y8</th></tr><tr class = \"subheader headerLastRow\"><th class = \"rowNumber\" style = \"font-weight: bold; text-align: right;\"></th><th title = \"DateTime\" style = \"text-align: left;\">DateTime</th><th title = \"Union{Missing, Float64}\" style = \"text-align: left;\">Float64?</th><th title = \"Union{Missing, Float64}\" style = \"text-align: left;\">Float64?</th><th title = \"Int64\" style = \"text-align: left;\">Int64</th><th title = \"Float64\" style = \"text-align: left;\">Float64</th><th title = \"Int64\" style = \"text-align: left;\">Int64</th><th title = \"Union{Missing, Float64}\" style = \"text-align: left;\">Float64?</th><th title = \"Union{Missing, Float64}\" style = \"text-align: left;\">Float64?</th><th title = \"Union{Missing, Float64}\" style = \"text-align: left;\">Float64?</th><th title = \"Union{Missing, Int64}\" style = \"text-align: left;\">Int64?</th><th title = \"Union{Missing, Int64}\" style = \"text-align: left;\">Int64?</th><th title = \"Int64\" style = \"text-align: left;\">Int64</th></tr></thead><tbody><tr><td class = \"rowNumber\" style = \"font-weight: bold; text-align: right;\">1</td><td style = \"text-align: left;\">2013-01-01T06:00:00</td><td style = \"text-align: right;\">1.0</td><td style = \"text-align: right;\">1.0</td><td style = \"text-align: right;\">2922</td><td style = \"text-align: right;\">27836.8</td><td style = \"text-align: right;\">1</td><td style = \"text-align: right;\">2.46</td><td style = \"text-align: right;\">59.4</td><td style = \"text-align: right;\">36.4</td><td style = \"font-style: italic; text-align: right;\">missing</td><td style = \"font-style: italic; text-align: right;\">missing</td><td style = \"text-align: right;\">1</td></tr><tr><td class = \"rowNumber\" style = \"font-weight: bold; text-align: right;\">2</td><td style = \"text-align: left;\">2013-01-01T07:00:00</td><td style = \"text-align: right;\">1.0</td><td style = \"text-align: right;\">1.0</td><td style = \"text-align: right;\">2922</td><td style = \"text-align: right;\">28722.0</td><td style = \"text-align: right;\">1</td><td style = \"text-align: right;\">2.46</td><td style = \"text-align: right;\">59.4</td><td style = \"text-align: right;\">36.4</td><td style = \"font-style: italic; text-align: right;\">missing</td><td style = \"font-style: italic; text-align: right;\">missing</td><td style = \"text-align: right;\">1</td></tr><tr><td class = \"rowNumber\" style = \"font-weight: bold; text-align: right;\">3</td><td style = \"text-align: left;\">2013-01-01T08:00:00</td><td style = \"text-align: right;\">1.0</td><td style = \"text-align: right;\">1.0</td><td style = \"text-align: right;\">2922</td><td style = \"text-align: right;\">29391.7</td><td style = \"text-align: right;\">1</td><td style = \"text-align: right;\">2.46</td><td style = \"text-align: right;\">59.4</td><td style = \"text-align: right;\">36.4</td><td style = \"font-style: italic; text-align: right;\">missing</td><td style = \"font-style: italic; text-align: right;\">missing</td><td style = \"text-align: right;\">1</td></tr><tr><td class = \"rowNumber\" style = \"font-weight: bold; text-align: right;\">4</td><td style = \"text-align: left;\">2013-01-01T09:00:00</td><td style = \"text-align: right;\">1.0</td><td style = \"text-align: right;\">1.0</td><td style = \"text-align: right;\">2922</td><td style = \"text-align: right;\">30293.8</td><td style = \"text-align: right;\">1</td><td style = \"text-align: right;\">2.46</td><td style = \"text-align: right;\">59.4</td><td style = \"text-align: right;\">36.4</td><td style = \"font-style: italic; text-align: right;\">missing</td><td style = \"font-style: italic; text-align: right;\">missing</td><td style = \"text-align: right;\">1</td></tr><tr><td class = \"rowNumber\" style = \"font-weight: bold; text-align: right;\">5</td><td style = \"text-align: left;\">2013-01-01T10:00:00</td><td style = \"text-align: right;\">1.0</td><td style = \"text-align: right;\">1.0</td><td style = \"text-align: right;\">2922</td><td style = \"text-align: right;\">31882.3</td><td style = \"text-align: right;\">1</td><td style = \"text-align: right;\">2.46</td><td style = \"text-align: right;\">59.4</td><td style = \"text-align: right;\">36.4</td><td style = \"font-style: italic; text-align: right;\">missing</td><td style = \"font-style: italic; text-align: right;\">missing</td><td style = \"text-align: right;\">1</td></tr><tr><td class = \"rowNumber\" style = \"font-weight: bold; text-align: right;\">6</td><td style = \"text-align: left;\">2013-01-01T11:00:00</td><td style = \"text-align: right;\">1.0</td><td style = \"text-align: right;\">1.0</td><td style = \"text-align: right;\">2922</td><td style = \"text-align: right;\">33359.5</td><td style = \"text-align: right;\">1</td><td style = \"text-align: right;\">2.46</td><td style = \"text-align: right;\">59.4</td><td style = \"text-align: right;\">36.4</td><td style = \"font-style: italic; text-align: right;\">missing</td><td style = \"font-style: italic; text-align: right;\">missing</td><td style = \"text-align: right;\">1</td></tr><tr><td class = \"rowNumber\" style = \"font-weight: bold; text-align: right;\">7</td><td style = \"text-align: left;\">2013-01-01T12:00:00</td><td style = \"text-align: right;\">1.0</td><td style = \"text-align: right;\">1.0</td><td style = \"text-align: right;\">2923</td><td style = \"text-align: right;\">34186.8</td><td style = \"text-align: right;\">1</td><td style = \"text-align: right;\">2.46</td><td style = \"text-align: right;\">59.4</td><td style = \"text-align: right;\">36.4</td><td style = \"font-style: italic; text-align: right;\">missing</td><td style = \"font-style: italic; text-align: right;\">missing</td><td style = \"text-align: right;\">1</td></tr><tr><td class = \"rowNumber\" style = \"font-weight: bold; text-align: right;\">8</td><td style = \"text-align: left;\">2013-01-01T13:00:00</td><td style = \"text-align: right;\">1.0</td><td style = \"text-align: right;\">1.0</td><td style = \"text-align: right;\">2923</td><td style = \"text-align: right;\">34155.1</td><td style = \"text-align: right;\">1</td><td style = \"text-align: right;\">2.46</td><td style = \"text-align: right;\">59.4</td><td style = \"text-align: right;\">36.4</td><td style = \"font-style: italic; text-align: right;\">missing</td><td style = \"font-style: italic; text-align: right;\">missing</td><td style = \"text-align: right;\">1</td></tr><tr><td class = \"rowNumber\" style = \"font-weight: bold; text-align: right;\">9</td><td style = \"text-align: left;\">2013-01-01T14:00:00</td><td style = \"text-align: right;\">1.0</td><td style = \"text-align: right;\">1.0</td><td style = \"text-align: right;\">2923</td><td style = \"text-align: right;\">33781.1</td><td style = \"text-align: right;\">1</td><td style = \"text-align: right;\">2.46</td><td style = \"text-align: right;\">59.4</td><td style = \"text-align: right;\">36.4</td><td style = \"font-style: italic; text-align: right;\">missing</td><td style = \"font-style: italic; text-align: right;\">missing</td><td style = \"text-align: right;\">1</td></tr><tr><td class = \"rowNumber\" style = \"font-weight: bold; text-align: right;\">10</td><td style = \"text-align: left;\">2013-01-01T15:00:00</td><td style = \"text-align: right;\">1.0</td><td style = \"text-align: right;\">1.0</td><td style = \"text-align: right;\">2923</td><td style = \"text-align: right;\">33400.6</td><td style = \"text-align: right;\">1</td><td style = \"text-align: right;\">2.46</td><td style = \"text-align: right;\">59.4</td><td style = \"text-align: right;\">36.4</td><td style = \"font-style: italic; text-align: right;\">missing</td><td style = \"font-style: italic; text-align: right;\">missing</td><td style = \"text-align: right;\">1</td></tr><tr><td class = \"rowNumber\" style = \"font-weight: bold; text-align: right;\">11</td><td style = \"text-align: left;\">2013-01-01T16:00:00</td><td style = \"text-align: right;\">1.0</td><td style = \"text-align: right;\">1.0</td><td style = \"text-align: right;\">2923</td><td style = \"text-align: right;\">33171.8</td><td style = \"text-align: right;\">1</td><td style = \"text-align: right;\">2.46</td><td style = \"text-align: right;\">59.4</td><td style = \"text-align: right;\">36.4</td><td style = \"font-style: italic; text-align: right;\">missing</td><td style = \"font-style: italic; text-align: right;\">missing</td><td style = \"text-align: right;\">1</td></tr><tr><td class = \"rowNumber\" style = \"font-weight: bold; text-align: right;\">12</td><td style = \"text-align: left;\">2013-01-01T17:00:00</td><td style = \"text-align: right;\">1.0</td><td style = \"text-align: right;\">1.0</td><td style = \"text-align: right;\">2923</td><td style = \"text-align: right;\">33902.3</td><td style = \"text-align: right;\">1</td><td style = \"text-align: right;\">2.46</td><td style = \"text-align: right;\">59.4</td><td style = \"text-align: right;\">36.4</td><td style = \"font-style: italic; text-align: right;\">missing</td><td style = \"font-style: italic; text-align: right;\">missing</td><td style = \"text-align: right;\">1</td></tr><tr><td class = \"rowNumber\" style = \"font-weight: bold; text-align: right;\">13</td><td style = \"text-align: left;\">2013-01-01T18:00:00</td><td style = \"text-align: right;\">1.0</td><td style = \"text-align: right;\">1.0</td><td style = \"text-align: right;\">2923</td><td style = \"text-align: right;\">36307.9</td><td style = \"text-align: right;\">1</td><td style = \"text-align: right;\">2.46</td><td style = \"text-align: right;\">59.4</td><td style = \"text-align: right;\">36.4</td><td style = \"font-style: italic; text-align: right;\">missing</td><td style = \"font-style: italic; text-align: right;\">missing</td><td style = \"text-align: right;\">1</td></tr><tr><td style = \"text-align: right;\">&vellip;</td><td style = \"text-align: right;\">&vellip;</td><td style = \"text-align: right;\">&vellip;</td><td style = \"text-align: right;\">&vellip;</td><td style = \"text-align: right;\">&vellip;</td><td style = \"text-align: right;\">&vellip;</td><td style = \"text-align: right;\">&vellip;</td><td style = \"text-align: right;\">&vellip;</td><td style = \"text-align: right;\">&vellip;</td><td style = \"text-align: right;\">&vellip;</td><td style = \"text-align: right;\">&vellip;</td><td style = \"text-align: right;\">&vellip;</td><td style = \"text-align: right;\">&vellip;</td></tr><tr><td class = \"rowNumber\" style = \"font-weight: bold; text-align: right;\">81034</td><td style = \"text-align: left;\">2022-03-31T16:00:00</td><td style = \"text-align: right;\">0.0</td><td style = \"text-align: right;\">2.0</td><td style = \"text-align: right;\">6299</td><td style = \"text-align: right;\">41653.3</td><td style = \"text-align: right;\">90</td><td style = \"text-align: right;\">1.23</td><td style = \"text-align: right;\">72.5</td><td style = \"text-align: right;\">41.5</td><td style = \"text-align: right;\">529</td><td style = \"text-align: right;\">859</td><td style = \"text-align: right;\">3</td></tr><tr><td class = \"rowNumber\" style = \"font-weight: bold; text-align: right;\">81035</td><td style = \"text-align: left;\">2022-03-31T17:00:00</td><td style = \"text-align: right;\">0.0</td><td style = \"text-align: right;\">2.0</td><td style = \"text-align: right;\">6299</td><td style = \"text-align: right;\">42594.5</td><td style = \"text-align: right;\">90</td><td style = \"text-align: right;\">1.23</td><td style = \"text-align: right;\">72.5</td><td style = \"text-align: right;\">41.5</td><td style = \"text-align: right;\">529</td><td style = \"text-align: right;\">859</td><td style = \"text-align: right;\">3</td></tr><tr><td class = \"rowNumber\" style = \"font-weight: bold; text-align: right;\">81036</td><td style = \"text-align: left;\">2022-03-31T18:00:00</td><td style = \"text-align: right;\">0.0</td><td style = \"text-align: right;\">2.0</td><td style = \"text-align: right;\">6299</td><td style = \"text-align: right;\">43282.6</td><td style = \"text-align: right;\">90</td><td style = \"text-align: right;\">1.23</td><td style = \"text-align: right;\">72.5</td><td style = \"text-align: right;\">41.5</td><td style = \"text-align: right;\">529</td><td style = \"text-align: right;\">860</td><td style = \"text-align: right;\">3</td></tr><tr><td class = \"rowNumber\" style = \"font-weight: bold; text-align: right;\">81037</td><td style = \"text-align: left;\">2022-03-31T19:00:00</td><td style = \"text-align: right;\">0.0</td><td style = \"text-align: right;\">2.0</td><td style = \"text-align: right;\">6299</td><td style = \"text-align: right;\">43033.9</td><td style = \"text-align: right;\">90</td><td style = \"text-align: right;\">1.23</td><td style = \"text-align: right;\">72.5</td><td style = \"text-align: right;\">41.5</td><td style = \"text-align: right;\">529</td><td style = \"text-align: right;\">860</td><td style = \"text-align: right;\">3</td></tr><tr><td class = \"rowNumber\" style = \"font-weight: bold; text-align: right;\">81038</td><td style = \"text-align: left;\">2022-03-31T20:00:00</td><td style = \"text-align: right;\">0.0</td><td style = \"text-align: right;\">2.0</td><td style = \"text-align: right;\">6299</td><td style = \"text-align: right;\">42569.8</td><td style = \"text-align: right;\">90</td><td style = \"text-align: right;\">1.23</td><td style = \"text-align: right;\">72.5</td><td style = \"text-align: right;\">41.5</td><td style = \"text-align: right;\">529</td><td style = \"text-align: right;\">860</td><td style = \"text-align: right;\">3</td></tr><tr><td class = \"rowNumber\" style = \"font-weight: bold; text-align: right;\">81039</td><td style = \"text-align: left;\">2022-03-31T21:00:00</td><td style = \"text-align: right;\">0.0</td><td style = \"text-align: right;\">2.0</td><td style = \"text-align: right;\">6299</td><td style = \"text-align: right;\">42800.2</td><td style = \"text-align: right;\">90</td><td style = \"text-align: right;\">1.23</td><td style = \"text-align: right;\">72.5</td><td style = \"text-align: right;\">41.5</td><td style = \"text-align: right;\">529</td><td style = \"text-align: right;\">860</td><td style = \"text-align: right;\">3</td></tr><tr><td class = \"rowNumber\" style = \"font-weight: bold; text-align: right;\">81040</td><td style = \"text-align: left;\">2022-03-31T22:00:00</td><td style = \"text-align: right;\">0.0</td><td style = \"text-align: right;\">2.0</td><td style = \"text-align: right;\">6299</td><td style = \"text-align: right;\">41473.7</td><td style = \"text-align: right;\">90</td><td style = \"text-align: right;\">1.23</td><td style = \"text-align: right;\">72.5</td><td style = \"text-align: right;\">41.5</td><td style = \"text-align: right;\">529</td><td style = \"text-align: right;\">860</td><td style = \"text-align: right;\">3</td></tr><tr><td class = \"rowNumber\" style = \"font-weight: bold; text-align: right;\">81041</td><td style = \"text-align: left;\">2022-03-31T23:00:00</td><td style = \"text-align: right;\">0.0</td><td style = \"text-align: right;\">2.0</td><td style = \"text-align: right;\">6299</td><td style = \"text-align: right;\">39025.1</td><td style = \"text-align: right;\">90</td><td style = \"text-align: right;\">1.23</td><td style = \"text-align: right;\">72.5</td><td style = \"text-align: right;\">41.5</td><td style = \"text-align: right;\">529</td><td style = \"text-align: right;\">860</td><td style = \"text-align: right;\">3</td></tr><tr><td class = \"rowNumber\" style = \"font-weight: bold; text-align: right;\">81042</td><td style = \"text-align: left;\">2022-04-01T00:00:00</td><td style = \"text-align: right;\">0.0</td><td style = \"text-align: right;\">2.0</td><td style = \"text-align: right;\">6299</td><td style = \"text-align: right;\">36329.5</td><td style = \"text-align: right;\">91</td><td style = \"text-align: right;\">1.29</td><td style = \"text-align: right;\">82.6</td><td style = \"text-align: right;\">55.0</td><td style = \"text-align: right;\">529</td><td style = \"text-align: right;\">860</td><td style = \"text-align: right;\">4</td></tr><tr><td class = \"rowNumber\" style = \"font-weight: bold; text-align: right;\">81043</td><td style = \"text-align: left;\">2022-04-01T01:00:00</td><td style = \"text-align: right;\">0.0</td><td style = \"text-align: right;\">2.0</td><td style = \"text-align: right;\">6299</td><td style = \"text-align: right;\">34503.1</td><td style = \"text-align: right;\">91</td><td style = \"text-align: right;\">1.29</td><td style = \"text-align: right;\">82.6</td><td style = \"text-align: right;\">55.0</td><td style = \"text-align: right;\">529</td><td style = \"text-align: right;\">860</td><td style = \"text-align: right;\">4</td></tr><tr><td class = \"rowNumber\" style = \"font-weight: bold; text-align: right;\">81044</td><td style = \"text-align: left;\">2022-04-01T02:00:00</td><td style = \"text-align: right;\">0.0</td><td style = \"text-align: right;\">2.0</td><td style = \"text-align: right;\">6299</td><td style = \"text-align: right;\">33571.1</td><td style = \"text-align: right;\">91</td><td style = \"text-align: right;\">1.29</td><td style = \"text-align: right;\">82.6</td><td style = \"text-align: right;\">55.0</td><td style = \"text-align: right;\">529</td><td style = \"text-align: right;\">860</td><td style = \"text-align: right;\">4</td></tr><tr><td class = \"rowNumber\" style = \"font-weight: bold; text-align: right;\">81045</td><td style = \"text-align: left;\">2022-04-01T03:00:00</td><td style = \"text-align: right;\">0.0</td><td style = \"text-align: right;\">2.0</td><td style = \"text-align: right;\">6299</td><td style = \"text-align: right;\">33052.7</td><td style = \"text-align: right;\">91</td><td style = \"text-align: right;\">1.29</td><td style = \"text-align: right;\">82.6</td><td style = \"text-align: right;\">55.0</td><td style = \"text-align: right;\">529</td><td style = \"text-align: right;\">860</td><td style = \"text-align: right;\">4</td></tr></tbody></table></div>"
      ],
      "text/latex": [
       "\\begin{tabular}{r|ccccccccc}\n",
       "\t& x & y1 & y2 & y3 & ERCOT & y4 & Pcp & Tmax & \\\\\n",
       "\t\\hline\n",
       "\t& DateTime & Float64? & Float64? & Int64 & Float64 & Int64 & Float64? & Float64? & \\\\\n",
       "\t\\hline\n",
       "\t1 & 2013-01-01T06:00:00 & 1.0 & 1.0 & 2922 & 27836.8 & 1 & 2.46 & 59.4 & $\\dots$ \\\\\n",
       "\t2 & 2013-01-01T07:00:00 & 1.0 & 1.0 & 2922 & 28722.0 & 1 & 2.46 & 59.4 & $\\dots$ \\\\\n",
       "\t3 & 2013-01-01T08:00:00 & 1.0 & 1.0 & 2922 & 29391.7 & 1 & 2.46 & 59.4 & $\\dots$ \\\\\n",
       "\t4 & 2013-01-01T09:00:00 & 1.0 & 1.0 & 2922 & 30293.8 & 1 & 2.46 & 59.4 & $\\dots$ \\\\\n",
       "\t5 & 2013-01-01T10:00:00 & 1.0 & 1.0 & 2922 & 31882.3 & 1 & 2.46 & 59.4 & $\\dots$ \\\\\n",
       "\t6 & 2013-01-01T11:00:00 & 1.0 & 1.0 & 2922 & 33359.5 & 1 & 2.46 & 59.4 & $\\dots$ \\\\\n",
       "\t7 & 2013-01-01T12:00:00 & 1.0 & 1.0 & 2923 & 34186.8 & 1 & 2.46 & 59.4 & $\\dots$ \\\\\n",
       "\t8 & 2013-01-01T13:00:00 & 1.0 & 1.0 & 2923 & 34155.1 & 1 & 2.46 & 59.4 & $\\dots$ \\\\\n",
       "\t9 & 2013-01-01T14:00:00 & 1.0 & 1.0 & 2923 & 33781.1 & 1 & 2.46 & 59.4 & $\\dots$ \\\\\n",
       "\t10 & 2013-01-01T15:00:00 & 1.0 & 1.0 & 2923 & 33400.6 & 1 & 2.46 & 59.4 & $\\dots$ \\\\\n",
       "\t11 & 2013-01-01T16:00:00 & 1.0 & 1.0 & 2923 & 33171.8 & 1 & 2.46 & 59.4 & $\\dots$ \\\\\n",
       "\t12 & 2013-01-01T17:00:00 & 1.0 & 1.0 & 2923 & 33902.3 & 1 & 2.46 & 59.4 & $\\dots$ \\\\\n",
       "\t13 & 2013-01-01T18:00:00 & 1.0 & 1.0 & 2923 & 36307.9 & 1 & 2.46 & 59.4 & $\\dots$ \\\\\n",
       "\t14 & 2013-01-01T19:00:00 & 1.0 & 1.0 & 2923 & 38422.5 & 1 & 2.46 & 59.4 & $\\dots$ \\\\\n",
       "\t15 & 2013-01-01T20:00:00 & 1.0 & 1.0 & 2923 & 38520.6 & 1 & 2.46 & 59.4 & $\\dots$ \\\\\n",
       "\t16 & 2013-01-01T21:00:00 & 1.0 & 1.0 & 2923 & 38288.6 & 1 & 2.46 & 59.4 & $\\dots$ \\\\\n",
       "\t17 & 2013-01-01T22:00:00 & 1.0 & 1.0 & 2923 & 37438.1 & 1 & 2.46 & 59.4 & $\\dots$ \\\\\n",
       "\t18 & 2013-01-01T23:00:00 & 1.0 & 1.0 & 2923 & 35905.9 & 1 & 2.46 & 59.4 & $\\dots$ \\\\\n",
       "\t19 & 2013-01-02T00:00:00 & 1.0 & 1.0 & 2923 & 34209.1 & 2 & 2.46 & 59.4 & $\\dots$ \\\\\n",
       "\t20 & 2013-01-02T01:00:00 & 1.0 & 1.0 & 2923 & 32996.0 & 2 & 2.46 & 59.4 & $\\dots$ \\\\\n",
       "\t21 & 2013-01-02T02:00:00 & 1.0 & 1.0 & 2923 & 32506.3 & 2 & 2.46 & 59.4 & $\\dots$ \\\\\n",
       "\t22 & 2013-01-02T03:00:00 & 1.0 & 1.0 & 2923 & 32496.4 & 2 & 2.46 & 59.4 & $\\dots$ \\\\\n",
       "\t23 & 2013-01-02T04:00:00 & 1.0 & 1.0 & 2923 & 32977.2 & 2 & 2.46 & 59.4 & $\\dots$ \\\\\n",
       "\t24 & 2013-01-02T05:00:00 & 1.0 & 1.0 & 2923 & 34207.0 & 2 & 2.46 & 59.4 & $\\dots$ \\\\\n",
       "\t$\\dots$ & $\\dots$ & $\\dots$ & $\\dots$ & $\\dots$ & $\\dots$ & $\\dots$ & $\\dots$ & $\\dots$ &  \\\\\n",
       "\\end{tabular}\n"
      ],
      "text/plain": [
       "\u001b[1m81045×12 DataFrame\u001b[0m\n",
       "\u001b[1m   Row \u001b[0m│\u001b[1m x                   \u001b[0m\u001b[1m y1       \u001b[0m\u001b[1m y2       \u001b[0m\u001b[1m y3    \u001b[0m\u001b[1m ERCOT   \u001b[0m\u001b[1m y4    \u001b[0m\u001b[1m Pcp  \u001b[0m ⋯\n",
       "       │\u001b[90m DateTime            \u001b[0m\u001b[90m Float64? \u001b[0m\u001b[90m Float64? \u001b[0m\u001b[90m Int64 \u001b[0m\u001b[90m Float64 \u001b[0m\u001b[90m Int64 \u001b[0m\u001b[90m Float\u001b[0m ⋯\n",
       "───────┼────────────────────────────────────────────────────────────────────────\n",
       "     1 │ 2013-01-01T06:00:00       1.0       1.0   2922  27836.8      1      2 ⋯\n",
       "     2 │ 2013-01-01T07:00:00       1.0       1.0   2922  28722.0      1      2\n",
       "     3 │ 2013-01-01T08:00:00       1.0       1.0   2922  29391.7      1      2\n",
       "     4 │ 2013-01-01T09:00:00       1.0       1.0   2922  30293.8      1      2\n",
       "     5 │ 2013-01-01T10:00:00       1.0       1.0   2922  31882.3      1      2 ⋯\n",
       "     6 │ 2013-01-01T11:00:00       1.0       1.0   2922  33359.5      1      2\n",
       "     7 │ 2013-01-01T12:00:00       1.0       1.0   2923  34186.8      1      2\n",
       "     8 │ 2013-01-01T13:00:00       1.0       1.0   2923  34155.1      1      2\n",
       "   ⋮   │          ⋮              ⋮         ⋮        ⋮       ⋮       ⋮       ⋮  ⋱\n",
       " 81039 │ 2022-03-31T21:00:00       0.0       2.0   6299  42800.2     90      1 ⋯\n",
       " 81040 │ 2022-03-31T22:00:00       0.0       2.0   6299  41473.7     90      1\n",
       " 81041 │ 2022-03-31T23:00:00       0.0       2.0   6299  39025.1     90      1\n",
       " 81042 │ 2022-04-01T00:00:00       0.0       2.0   6299  36329.5     91      1\n",
       " 81043 │ 2022-04-01T01:00:00       0.0       2.0   6299  34503.1     91      1 ⋯\n",
       " 81044 │ 2022-04-01T02:00:00       0.0       2.0   6299  33571.1     91      1\n",
       " 81045 │ 2022-04-01T03:00:00       0.0       2.0   6299  33052.7     91      1\n",
       "\u001b[36m                                                6 columns and 81030 rows omitted\u001b[0m"
      ]
     },
     "metadata": {},
     "output_type": "display_data"
    }
   ],
   "source": [
    "merged"
   ]
  },
  {
   "cell_type": "code",
   "execution_count": 23,
   "id": "e6ffb64c",
   "metadata": {},
   "outputs": [
    {
     "data": {
      "text/html": [
       "<div><div style = \"float: left;\"><span>81045×9 DataFrame</span></div><div style = \"float: right;\"><span style = \"font-style: italic;\">81020 rows omitted</span></div><div style = \"clear: both;\"></div></div><div class = \"data-frame\" style = \"overflow-x: scroll;\"><table class = \"data-frame\" style = \"margin-bottom: 6px;\"><thead><tr class = \"header\"><th class = \"rowNumber\" style = \"font-weight: bold; text-align: right;\">Row</th><th style = \"text-align: left;\">x</th><th style = \"text-align: left;\">y1</th><th style = \"text-align: left;\">y2</th><th style = \"text-align: left;\">y3</th><th style = \"text-align: left;\">ERCOT</th><th style = \"text-align: left;\">y4</th><th style = \"text-align: left;\">Pcp</th><th style = \"text-align: left;\">Tmax</th><th style = \"text-align: left;\">Tmin</th></tr><tr class = \"subheader headerLastRow\"><th class = \"rowNumber\" style = \"font-weight: bold; text-align: right;\"></th><th title = \"DateTime\" style = \"text-align: left;\">DateTime</th><th title = \"Union{Missing, Float64}\" style = \"text-align: left;\">Float64?</th><th title = \"Union{Missing, Float64}\" style = \"text-align: left;\">Float64?</th><th title = \"Int64\" style = \"text-align: left;\">Int64</th><th title = \"Float64\" style = \"text-align: left;\">Float64</th><th title = \"Int64\" style = \"text-align: left;\">Int64</th><th title = \"Union{Missing, Float64}\" style = \"text-align: left;\">Float64?</th><th title = \"Union{Missing, Float64}\" style = \"text-align: left;\">Float64?</th><th title = \"Union{Missing, Float64}\" style = \"text-align: left;\">Float64?</th></tr></thead><tbody><tr><td class = \"rowNumber\" style = \"font-weight: bold; text-align: right;\">1</td><td style = \"text-align: left;\">2013-01-01T06:00:00</td><td style = \"text-align: right;\">1.0</td><td style = \"text-align: right;\">1.0</td><td style = \"text-align: right;\">2922</td><td style = \"text-align: right;\">27836.8</td><td style = \"text-align: right;\">1</td><td style = \"text-align: right;\">2.46</td><td style = \"text-align: right;\">59.4</td><td style = \"text-align: right;\">36.4</td></tr><tr><td class = \"rowNumber\" style = \"font-weight: bold; text-align: right;\">2</td><td style = \"text-align: left;\">2013-01-01T07:00:00</td><td style = \"text-align: right;\">1.0</td><td style = \"text-align: right;\">1.0</td><td style = \"text-align: right;\">2922</td><td style = \"text-align: right;\">28722.0</td><td style = \"text-align: right;\">1</td><td style = \"text-align: right;\">2.46</td><td style = \"text-align: right;\">59.4</td><td style = \"text-align: right;\">36.4</td></tr><tr><td class = \"rowNumber\" style = \"font-weight: bold; text-align: right;\">3</td><td style = \"text-align: left;\">2013-01-01T08:00:00</td><td style = \"text-align: right;\">1.0</td><td style = \"text-align: right;\">1.0</td><td style = \"text-align: right;\">2922</td><td style = \"text-align: right;\">29391.7</td><td style = \"text-align: right;\">1</td><td style = \"text-align: right;\">2.46</td><td style = \"text-align: right;\">59.4</td><td style = \"text-align: right;\">36.4</td></tr><tr><td class = \"rowNumber\" style = \"font-weight: bold; text-align: right;\">4</td><td style = \"text-align: left;\">2013-01-01T09:00:00</td><td style = \"text-align: right;\">1.0</td><td style = \"text-align: right;\">1.0</td><td style = \"text-align: right;\">2922</td><td style = \"text-align: right;\">30293.8</td><td style = \"text-align: right;\">1</td><td style = \"text-align: right;\">2.46</td><td style = \"text-align: right;\">59.4</td><td style = \"text-align: right;\">36.4</td></tr><tr><td class = \"rowNumber\" style = \"font-weight: bold; text-align: right;\">5</td><td style = \"text-align: left;\">2013-01-01T10:00:00</td><td style = \"text-align: right;\">1.0</td><td style = \"text-align: right;\">1.0</td><td style = \"text-align: right;\">2922</td><td style = \"text-align: right;\">31882.3</td><td style = \"text-align: right;\">1</td><td style = \"text-align: right;\">2.46</td><td style = \"text-align: right;\">59.4</td><td style = \"text-align: right;\">36.4</td></tr><tr><td class = \"rowNumber\" style = \"font-weight: bold; text-align: right;\">6</td><td style = \"text-align: left;\">2013-01-01T11:00:00</td><td style = \"text-align: right;\">1.0</td><td style = \"text-align: right;\">1.0</td><td style = \"text-align: right;\">2922</td><td style = \"text-align: right;\">33359.5</td><td style = \"text-align: right;\">1</td><td style = \"text-align: right;\">2.46</td><td style = \"text-align: right;\">59.4</td><td style = \"text-align: right;\">36.4</td></tr><tr><td class = \"rowNumber\" style = \"font-weight: bold; text-align: right;\">7</td><td style = \"text-align: left;\">2013-01-01T12:00:00</td><td style = \"text-align: right;\">1.0</td><td style = \"text-align: right;\">1.0</td><td style = \"text-align: right;\">2923</td><td style = \"text-align: right;\">34186.8</td><td style = \"text-align: right;\">1</td><td style = \"text-align: right;\">2.46</td><td style = \"text-align: right;\">59.4</td><td style = \"text-align: right;\">36.4</td></tr><tr><td class = \"rowNumber\" style = \"font-weight: bold; text-align: right;\">8</td><td style = \"text-align: left;\">2013-01-01T13:00:00</td><td style = \"text-align: right;\">1.0</td><td style = \"text-align: right;\">1.0</td><td style = \"text-align: right;\">2923</td><td style = \"text-align: right;\">34155.1</td><td style = \"text-align: right;\">1</td><td style = \"text-align: right;\">2.46</td><td style = \"text-align: right;\">59.4</td><td style = \"text-align: right;\">36.4</td></tr><tr><td class = \"rowNumber\" style = \"font-weight: bold; text-align: right;\">9</td><td style = \"text-align: left;\">2013-01-01T14:00:00</td><td style = \"text-align: right;\">1.0</td><td style = \"text-align: right;\">1.0</td><td style = \"text-align: right;\">2923</td><td style = \"text-align: right;\">33781.1</td><td style = \"text-align: right;\">1</td><td style = \"text-align: right;\">2.46</td><td style = \"text-align: right;\">59.4</td><td style = \"text-align: right;\">36.4</td></tr><tr><td class = \"rowNumber\" style = \"font-weight: bold; text-align: right;\">10</td><td style = \"text-align: left;\">2013-01-01T15:00:00</td><td style = \"text-align: right;\">1.0</td><td style = \"text-align: right;\">1.0</td><td style = \"text-align: right;\">2923</td><td style = \"text-align: right;\">33400.6</td><td style = \"text-align: right;\">1</td><td style = \"text-align: right;\">2.46</td><td style = \"text-align: right;\">59.4</td><td style = \"text-align: right;\">36.4</td></tr><tr><td class = \"rowNumber\" style = \"font-weight: bold; text-align: right;\">11</td><td style = \"text-align: left;\">2013-01-01T16:00:00</td><td style = \"text-align: right;\">1.0</td><td style = \"text-align: right;\">1.0</td><td style = \"text-align: right;\">2923</td><td style = \"text-align: right;\">33171.8</td><td style = \"text-align: right;\">1</td><td style = \"text-align: right;\">2.46</td><td style = \"text-align: right;\">59.4</td><td style = \"text-align: right;\">36.4</td></tr><tr><td class = \"rowNumber\" style = \"font-weight: bold; text-align: right;\">12</td><td style = \"text-align: left;\">2013-01-01T17:00:00</td><td style = \"text-align: right;\">1.0</td><td style = \"text-align: right;\">1.0</td><td style = \"text-align: right;\">2923</td><td style = \"text-align: right;\">33902.3</td><td style = \"text-align: right;\">1</td><td style = \"text-align: right;\">2.46</td><td style = \"text-align: right;\">59.4</td><td style = \"text-align: right;\">36.4</td></tr><tr><td class = \"rowNumber\" style = \"font-weight: bold; text-align: right;\">13</td><td style = \"text-align: left;\">2013-01-01T18:00:00</td><td style = \"text-align: right;\">1.0</td><td style = \"text-align: right;\">1.0</td><td style = \"text-align: right;\">2923</td><td style = \"text-align: right;\">36307.9</td><td style = \"text-align: right;\">1</td><td style = \"text-align: right;\">2.46</td><td style = \"text-align: right;\">59.4</td><td style = \"text-align: right;\">36.4</td></tr><tr><td style = \"text-align: right;\">&vellip;</td><td style = \"text-align: right;\">&vellip;</td><td style = \"text-align: right;\">&vellip;</td><td style = \"text-align: right;\">&vellip;</td><td style = \"text-align: right;\">&vellip;</td><td style = \"text-align: right;\">&vellip;</td><td style = \"text-align: right;\">&vellip;</td><td style = \"text-align: right;\">&vellip;</td><td style = \"text-align: right;\">&vellip;</td><td style = \"text-align: right;\">&vellip;</td></tr><tr><td class = \"rowNumber\" style = \"font-weight: bold; text-align: right;\">81034</td><td style = \"text-align: left;\">2022-03-31T16:00:00</td><td style = \"text-align: right;\">0.0</td><td style = \"text-align: right;\">2.0</td><td style = \"text-align: right;\">6299</td><td style = \"text-align: right;\">41653.3</td><td style = \"text-align: right;\">90</td><td style = \"text-align: right;\">1.23</td><td style = \"text-align: right;\">72.5</td><td style = \"text-align: right;\">41.5</td></tr><tr><td class = \"rowNumber\" style = \"font-weight: bold; text-align: right;\">81035</td><td style = \"text-align: left;\">2022-03-31T17:00:00</td><td style = \"text-align: right;\">0.0</td><td style = \"text-align: right;\">2.0</td><td style = \"text-align: right;\">6299</td><td style = \"text-align: right;\">42594.5</td><td style = \"text-align: right;\">90</td><td style = \"text-align: right;\">1.23</td><td style = \"text-align: right;\">72.5</td><td style = \"text-align: right;\">41.5</td></tr><tr><td class = \"rowNumber\" style = \"font-weight: bold; text-align: right;\">81036</td><td style = \"text-align: left;\">2022-03-31T18:00:00</td><td style = \"text-align: right;\">0.0</td><td style = \"text-align: right;\">2.0</td><td style = \"text-align: right;\">6299</td><td style = \"text-align: right;\">43282.6</td><td style = \"text-align: right;\">90</td><td style = \"text-align: right;\">1.23</td><td style = \"text-align: right;\">72.5</td><td style = \"text-align: right;\">41.5</td></tr><tr><td class = \"rowNumber\" style = \"font-weight: bold; text-align: right;\">81037</td><td style = \"text-align: left;\">2022-03-31T19:00:00</td><td style = \"text-align: right;\">0.0</td><td style = \"text-align: right;\">2.0</td><td style = \"text-align: right;\">6299</td><td style = \"text-align: right;\">43033.9</td><td style = \"text-align: right;\">90</td><td style = \"text-align: right;\">1.23</td><td style = \"text-align: right;\">72.5</td><td style = \"text-align: right;\">41.5</td></tr><tr><td class = \"rowNumber\" style = \"font-weight: bold; text-align: right;\">81038</td><td style = \"text-align: left;\">2022-03-31T20:00:00</td><td style = \"text-align: right;\">0.0</td><td style = \"text-align: right;\">2.0</td><td style = \"text-align: right;\">6299</td><td style = \"text-align: right;\">42569.8</td><td style = \"text-align: right;\">90</td><td style = \"text-align: right;\">1.23</td><td style = \"text-align: right;\">72.5</td><td style = \"text-align: right;\">41.5</td></tr><tr><td class = \"rowNumber\" style = \"font-weight: bold; text-align: right;\">81039</td><td style = \"text-align: left;\">2022-03-31T21:00:00</td><td style = \"text-align: right;\">0.0</td><td style = \"text-align: right;\">2.0</td><td style = \"text-align: right;\">6299</td><td style = \"text-align: right;\">42800.2</td><td style = \"text-align: right;\">90</td><td style = \"text-align: right;\">1.23</td><td style = \"text-align: right;\">72.5</td><td style = \"text-align: right;\">41.5</td></tr><tr><td class = \"rowNumber\" style = \"font-weight: bold; text-align: right;\">81040</td><td style = \"text-align: left;\">2022-03-31T22:00:00</td><td style = \"text-align: right;\">0.0</td><td style = \"text-align: right;\">2.0</td><td style = \"text-align: right;\">6299</td><td style = \"text-align: right;\">41473.7</td><td style = \"text-align: right;\">90</td><td style = \"text-align: right;\">1.23</td><td style = \"text-align: right;\">72.5</td><td style = \"text-align: right;\">41.5</td></tr><tr><td class = \"rowNumber\" style = \"font-weight: bold; text-align: right;\">81041</td><td style = \"text-align: left;\">2022-03-31T23:00:00</td><td style = \"text-align: right;\">0.0</td><td style = \"text-align: right;\">2.0</td><td style = \"text-align: right;\">6299</td><td style = \"text-align: right;\">39025.1</td><td style = \"text-align: right;\">90</td><td style = \"text-align: right;\">1.23</td><td style = \"text-align: right;\">72.5</td><td style = \"text-align: right;\">41.5</td></tr><tr><td class = \"rowNumber\" style = \"font-weight: bold; text-align: right;\">81042</td><td style = \"text-align: left;\">2022-04-01T00:00:00</td><td style = \"text-align: right;\">0.0</td><td style = \"text-align: right;\">2.0</td><td style = \"text-align: right;\">6299</td><td style = \"text-align: right;\">36329.5</td><td style = \"text-align: right;\">91</td><td style = \"text-align: right;\">1.29</td><td style = \"text-align: right;\">82.6</td><td style = \"text-align: right;\">55.0</td></tr><tr><td class = \"rowNumber\" style = \"font-weight: bold; text-align: right;\">81043</td><td style = \"text-align: left;\">2022-04-01T01:00:00</td><td style = \"text-align: right;\">0.0</td><td style = \"text-align: right;\">2.0</td><td style = \"text-align: right;\">6299</td><td style = \"text-align: right;\">34503.1</td><td style = \"text-align: right;\">91</td><td style = \"text-align: right;\">1.29</td><td style = \"text-align: right;\">82.6</td><td style = \"text-align: right;\">55.0</td></tr><tr><td class = \"rowNumber\" style = \"font-weight: bold; text-align: right;\">81044</td><td style = \"text-align: left;\">2022-04-01T02:00:00</td><td style = \"text-align: right;\">0.0</td><td style = \"text-align: right;\">2.0</td><td style = \"text-align: right;\">6299</td><td style = \"text-align: right;\">33571.1</td><td style = \"text-align: right;\">91</td><td style = \"text-align: right;\">1.29</td><td style = \"text-align: right;\">82.6</td><td style = \"text-align: right;\">55.0</td></tr><tr><td class = \"rowNumber\" style = \"font-weight: bold; text-align: right;\">81045</td><td style = \"text-align: left;\">2022-04-01T03:00:00</td><td style = \"text-align: right;\">0.0</td><td style = \"text-align: right;\">2.0</td><td style = \"text-align: right;\">6299</td><td style = \"text-align: right;\">33052.7</td><td style = \"text-align: right;\">91</td><td style = \"text-align: right;\">1.29</td><td style = \"text-align: right;\">82.6</td><td style = \"text-align: right;\">55.0</td></tr></tbody></table></div>"
      ],
      "text/latex": [
       "\\begin{tabular}{r|ccccccccc}\n",
       "\t& x & y1 & y2 & y3 & ERCOT & y4 & Pcp & Tmax & \\\\\n",
       "\t\\hline\n",
       "\t& DateTime & Float64? & Float64? & Int64 & Float64 & Int64 & Float64? & Float64? & \\\\\n",
       "\t\\hline\n",
       "\t1 & 2013-01-01T06:00:00 & 1.0 & 1.0 & 2922 & 27836.8 & 1 & 2.46 & 59.4 & $\\dots$ \\\\\n",
       "\t2 & 2013-01-01T07:00:00 & 1.0 & 1.0 & 2922 & 28722.0 & 1 & 2.46 & 59.4 & $\\dots$ \\\\\n",
       "\t3 & 2013-01-01T08:00:00 & 1.0 & 1.0 & 2922 & 29391.7 & 1 & 2.46 & 59.4 & $\\dots$ \\\\\n",
       "\t4 & 2013-01-01T09:00:00 & 1.0 & 1.0 & 2922 & 30293.8 & 1 & 2.46 & 59.4 & $\\dots$ \\\\\n",
       "\t5 & 2013-01-01T10:00:00 & 1.0 & 1.0 & 2922 & 31882.3 & 1 & 2.46 & 59.4 & $\\dots$ \\\\\n",
       "\t6 & 2013-01-01T11:00:00 & 1.0 & 1.0 & 2922 & 33359.5 & 1 & 2.46 & 59.4 & $\\dots$ \\\\\n",
       "\t7 & 2013-01-01T12:00:00 & 1.0 & 1.0 & 2923 & 34186.8 & 1 & 2.46 & 59.4 & $\\dots$ \\\\\n",
       "\t8 & 2013-01-01T13:00:00 & 1.0 & 1.0 & 2923 & 34155.1 & 1 & 2.46 & 59.4 & $\\dots$ \\\\\n",
       "\t9 & 2013-01-01T14:00:00 & 1.0 & 1.0 & 2923 & 33781.1 & 1 & 2.46 & 59.4 & $\\dots$ \\\\\n",
       "\t10 & 2013-01-01T15:00:00 & 1.0 & 1.0 & 2923 & 33400.6 & 1 & 2.46 & 59.4 & $\\dots$ \\\\\n",
       "\t11 & 2013-01-01T16:00:00 & 1.0 & 1.0 & 2923 & 33171.8 & 1 & 2.46 & 59.4 & $\\dots$ \\\\\n",
       "\t12 & 2013-01-01T17:00:00 & 1.0 & 1.0 & 2923 & 33902.3 & 1 & 2.46 & 59.4 & $\\dots$ \\\\\n",
       "\t13 & 2013-01-01T18:00:00 & 1.0 & 1.0 & 2923 & 36307.9 & 1 & 2.46 & 59.4 & $\\dots$ \\\\\n",
       "\t14 & 2013-01-01T19:00:00 & 1.0 & 1.0 & 2923 & 38422.5 & 1 & 2.46 & 59.4 & $\\dots$ \\\\\n",
       "\t15 & 2013-01-01T20:00:00 & 1.0 & 1.0 & 2923 & 38520.6 & 1 & 2.46 & 59.4 & $\\dots$ \\\\\n",
       "\t16 & 2013-01-01T21:00:00 & 1.0 & 1.0 & 2923 & 38288.6 & 1 & 2.46 & 59.4 & $\\dots$ \\\\\n",
       "\t17 & 2013-01-01T22:00:00 & 1.0 & 1.0 & 2923 & 37438.1 & 1 & 2.46 & 59.4 & $\\dots$ \\\\\n",
       "\t18 & 2013-01-01T23:00:00 & 1.0 & 1.0 & 2923 & 35905.9 & 1 & 2.46 & 59.4 & $\\dots$ \\\\\n",
       "\t19 & 2013-01-02T00:00:00 & 1.0 & 1.0 & 2923 & 34209.1 & 2 & 2.46 & 59.4 & $\\dots$ \\\\\n",
       "\t20 & 2013-01-02T01:00:00 & 1.0 & 1.0 & 2923 & 32996.0 & 2 & 2.46 & 59.4 & $\\dots$ \\\\\n",
       "\t21 & 2013-01-02T02:00:00 & 1.0 & 1.0 & 2923 & 32506.3 & 2 & 2.46 & 59.4 & $\\dots$ \\\\\n",
       "\t22 & 2013-01-02T03:00:00 & 1.0 & 1.0 & 2923 & 32496.4 & 2 & 2.46 & 59.4 & $\\dots$ \\\\\n",
       "\t23 & 2013-01-02T04:00:00 & 1.0 & 1.0 & 2923 & 32977.2 & 2 & 2.46 & 59.4 & $\\dots$ \\\\\n",
       "\t24 & 2013-01-02T05:00:00 & 1.0 & 1.0 & 2923 & 34207.0 & 2 & 2.46 & 59.4 & $\\dots$ \\\\\n",
       "\t$\\dots$ & $\\dots$ & $\\dots$ & $\\dots$ & $\\dots$ & $\\dots$ & $\\dots$ & $\\dots$ & $\\dots$ &  \\\\\n",
       "\\end{tabular}\n"
      ],
      "text/plain": [
       "\u001b[1m81045×9 DataFrame\u001b[0m\n",
       "\u001b[1m   Row \u001b[0m│\u001b[1m x                   \u001b[0m\u001b[1m y1       \u001b[0m\u001b[1m y2       \u001b[0m\u001b[1m y3    \u001b[0m\u001b[1m ERCOT   \u001b[0m\u001b[1m y4    \u001b[0m\u001b[1m Pcp  \u001b[0m ⋯\n",
       "       │\u001b[90m DateTime            \u001b[0m\u001b[90m Float64? \u001b[0m\u001b[90m Float64? \u001b[0m\u001b[90m Int64 \u001b[0m\u001b[90m Float64 \u001b[0m\u001b[90m Int64 \u001b[0m\u001b[90m Float\u001b[0m ⋯\n",
       "───────┼────────────────────────────────────────────────────────────────────────\n",
       "     1 │ 2013-01-01T06:00:00       1.0       1.0   2922  27836.8      1      2 ⋯\n",
       "     2 │ 2013-01-01T07:00:00       1.0       1.0   2922  28722.0      1      2\n",
       "     3 │ 2013-01-01T08:00:00       1.0       1.0   2922  29391.7      1      2\n",
       "     4 │ 2013-01-01T09:00:00       1.0       1.0   2922  30293.8      1      2\n",
       "     5 │ 2013-01-01T10:00:00       1.0       1.0   2922  31882.3      1      2 ⋯\n",
       "     6 │ 2013-01-01T11:00:00       1.0       1.0   2922  33359.5      1      2\n",
       "     7 │ 2013-01-01T12:00:00       1.0       1.0   2923  34186.8      1      2\n",
       "     8 │ 2013-01-01T13:00:00       1.0       1.0   2923  34155.1      1      2\n",
       "   ⋮   │          ⋮              ⋮         ⋮        ⋮       ⋮       ⋮       ⋮  ⋱\n",
       " 81039 │ 2022-03-31T21:00:00       0.0       2.0   6299  42800.2     90      1 ⋯\n",
       " 81040 │ 2022-03-31T22:00:00       0.0       2.0   6299  41473.7     90      1\n",
       " 81041 │ 2022-03-31T23:00:00       0.0       2.0   6299  39025.1     90      1\n",
       " 81042 │ 2022-04-01T00:00:00       0.0       2.0   6299  36329.5     91      1\n",
       " 81043 │ 2022-04-01T01:00:00       0.0       2.0   6299  34503.1     91      1 ⋯\n",
       " 81044 │ 2022-04-01T02:00:00       0.0       2.0   6299  33571.1     91      1\n",
       " 81045 │ 2022-04-01T03:00:00       0.0       2.0   6299  33052.7     91      1\n",
       "\u001b[36m                                                3 columns and 81030 rows omitted\u001b[0m"
      ]
     },
     "metadata": {},
     "output_type": "display_data"
    }
   ],
   "source": [
    "mask = map(x -> ismissing(x) ? false : true, merged.y2)\n",
    "merged[mask, :]"
   ]
  },
  {
   "cell_type": "code",
   "execution_count": 20,
   "id": "2e93fe6a",
   "metadata": {},
   "outputs": [
    {
     "data": {
      "text/plain": [
       "96403-element Vector{Int64}:\n",
       " 1\n",
       " 1\n",
       " 1\n",
       " 1\n",
       " 1\n",
       " 1\n",
       " 1\n",
       " 1\n",
       " 1\n",
       " 1\n",
       " ⋮\n",
       " 0\n",
       " 0\n",
       " 0\n",
       " 0\n",
       " 0\n",
       " 0\n",
       " 0\n",
       " 0\n",
       " 0"
      ]
     },
     "metadata": {},
     "output_type": "display_data"
    }
   ],
   "source": [
    "mask"
   ]
  },
  {
   "cell_type": "code",
   "execution_count": 22,
   "id": "c1b4dcda",
   "metadata": {},
   "outputs": [
    {
     "data": {
      "text/plain": [
       "96403"
      ]
     },
     "metadata": {},
     "output_type": "display_data"
    }
   ],
   "source": [
    "length(merged.y2)"
   ]
  },
  {
   "cell_type": "code",
   "execution_count": 14,
   "id": "03b57691",
   "metadata": {},
   "outputs": [
    {
     "data": {
      "text/plain": [
       "81045-element Vector{Bool}:\n",
       " 0\n",
       " 0\n",
       " 0\n",
       " 0\n",
       " 0\n",
       " 0\n",
       " 0\n",
       " 0\n",
       " 0\n",
       " 0\n",
       " ⋮\n",
       " 0\n",
       " 0\n",
       " 0\n",
       " 0\n",
       " 0\n",
       " 0\n",
       " 0\n",
       " 0\n",
       " 0"
      ]
     },
     "metadata": {},
     "output_type": "display_data"
    }
   ],
   "source": [
    "collect(skipmissing(merged.y2 .== 3))"
   ]
  },
  {
   "cell_type": "code",
   "execution_count": 7,
   "id": "57d3687a",
   "metadata": {},
   "outputs": [
    {
     "data": {
      "text/html": [
       "<div><div style = \"float: left;\"><span>45×9 DataFrame</span></div><div style = \"float: right;\"><span style = \"font-style: italic;\">20 rows omitted</span></div><div style = \"clear: both;\"></div></div><div class = \"data-frame\" style = \"overflow-x: scroll;\"><table class = \"data-frame\" style = \"margin-bottom: 6px;\"><thead><tr class = \"header\"><th class = \"rowNumber\" style = \"font-weight: bold; text-align: right;\">Row</th><th style = \"text-align: left;\">EventEndDT</th><th style = \"text-align: left;\">EventStartDT</th><th style = \"text-align: left;\">EventTypeCode</th><th style = \"text-align: left;\">OutageContinuationFlag</th><th style = \"text-align: left;\">UnitID</th><th style = \"text-align: left;\">UnitTypeCode</th><th style = \"text-align: left;\">CommercialDT_grp</th><th style = \"text-align: left;\">RatingMW_grp</th><th style = \"text-align: left;\">StateName</th></tr><tr class = \"subheader headerLastRow\"><th class = \"rowNumber\" style = \"font-weight: bold; text-align: right;\"></th><th title = \"DateTime\" style = \"text-align: left;\">DateTime</th><th title = \"DateTime\" style = \"text-align: left;\">DateTime</th><th title = \"String3\" style = \"text-align: left;\">String3</th><th title = \"Int64\" style = \"text-align: left;\">Int64</th><th title = \"Int64\" style = \"text-align: left;\">Int64</th><th title = \"Int64\" style = \"text-align: left;\">Int64</th><th title = \"Int64\" style = \"text-align: left;\">Int64</th><th title = \"Int64\" style = \"text-align: left;\">Int64</th><th title = \"String7\" style = \"text-align: left;\">String7</th></tr></thead><tbody><tr><td class = \"rowNumber\" style = \"font-weight: bold; text-align: right;\">1</td><td style = \"text-align: left;\">2013-06-13T02:35:00</td><td style = \"text-align: left;\">2013-04-05T22:18:00</td><td style = \"text-align: left;\">PO</td><td style = \"text-align: right;\">0</td><td style = \"text-align: right;\">10272</td><td style = \"text-align: right;\">100</td><td style = \"text-align: right;\">4</td><td style = \"text-align: right;\">1</td><td style = \"text-align: left;\">Texas</td></tr><tr><td class = \"rowNumber\" style = \"font-weight: bold; text-align: right;\">2</td><td style = \"text-align: left;\">2013-06-14T05:50:00</td><td style = \"text-align: left;\">2013-06-13T18:29:00</td><td style = \"text-align: left;\">U1</td><td style = \"text-align: right;\">0</td><td style = \"text-align: right;\">10272</td><td style = \"text-align: right;\">100</td><td style = \"text-align: right;\">4</td><td style = \"text-align: right;\">1</td><td style = \"text-align: left;\">Texas</td></tr><tr><td class = \"rowNumber\" style = \"font-weight: bold; text-align: right;\">3</td><td style = \"text-align: left;\">2013-07-13T09:08:00</td><td style = \"text-align: left;\">2013-07-13T07:28:00</td><td style = \"text-align: left;\">U1</td><td style = \"text-align: right;\">0</td><td style = \"text-align: right;\">10272</td><td style = \"text-align: right;\">100</td><td style = \"text-align: right;\">4</td><td style = \"text-align: right;\">1</td><td style = \"text-align: left;\">Texas</td></tr><tr><td class = \"rowNumber\" style = \"font-weight: bold; text-align: right;\">4</td><td style = \"text-align: left;\">2013-08-07T02:18:00</td><td style = \"text-align: left;\">2013-08-06T06:50:00</td><td style = \"text-align: left;\">U1</td><td style = \"text-align: right;\">0</td><td style = \"text-align: right;\">10272</td><td style = \"text-align: right;\">100</td><td style = \"text-align: right;\">4</td><td style = \"text-align: right;\">1</td><td style = \"text-align: left;\">Texas</td></tr><tr><td class = \"rowNumber\" style = \"font-weight: bold; text-align: right;\">5</td><td style = \"text-align: left;\">2013-10-06T03:58:00</td><td style = \"text-align: left;\">2013-10-02T01:53:00</td><td style = \"text-align: left;\">U2</td><td style = \"text-align: right;\">0</td><td style = \"text-align: right;\">10272</td><td style = \"text-align: right;\">100</td><td style = \"text-align: right;\">4</td><td style = \"text-align: right;\">1</td><td style = \"text-align: left;\">Texas</td></tr><tr><td class = \"rowNumber\" style = \"font-weight: bold; text-align: right;\">6</td><td style = \"text-align: left;\">2014-06-03T17:30:00</td><td style = \"text-align: left;\">2014-05-21T03:00:00</td><td style = \"text-align: left;\">PO</td><td style = \"text-align: right;\">0</td><td style = \"text-align: right;\">10272</td><td style = \"text-align: right;\">100</td><td style = \"text-align: right;\">4</td><td style = \"text-align: right;\">1</td><td style = \"text-align: left;\">Texas</td></tr><tr><td class = \"rowNumber\" style = \"font-weight: bold; text-align: right;\">7</td><td style = \"text-align: left;\">2014-07-14T04:04:00</td><td style = \"text-align: left;\">2014-07-13T17:43:00</td><td style = \"text-align: left;\">PO</td><td style = \"text-align: right;\">0</td><td style = \"text-align: right;\">10272</td><td style = \"text-align: right;\">100</td><td style = \"text-align: right;\">4</td><td style = \"text-align: right;\">1</td><td style = \"text-align: left;\">Texas</td></tr><tr><td class = \"rowNumber\" style = \"font-weight: bold; text-align: right;\">8</td><td style = \"text-align: left;\">2015-02-17T21:30:00</td><td style = \"text-align: left;\">2015-01-31T01:00:00</td><td style = \"text-align: left;\">PO</td><td style = \"text-align: right;\">0</td><td style = \"text-align: right;\">10272</td><td style = \"text-align: right;\">100</td><td style = \"text-align: right;\">4</td><td style = \"text-align: right;\">1</td><td style = \"text-align: left;\">Texas</td></tr><tr><td class = \"rowNumber\" style = \"font-weight: bold; text-align: right;\">9</td><td style = \"text-align: left;\">2015-03-07T13:30:00</td><td style = \"text-align: left;\">2015-03-07T12:00:00</td><td style = \"text-align: left;\">U1</td><td style = \"text-align: right;\">0</td><td style = \"text-align: right;\">10272</td><td style = \"text-align: right;\">100</td><td style = \"text-align: right;\">4</td><td style = \"text-align: right;\">1</td><td style = \"text-align: left;\">Texas</td></tr><tr><td class = \"rowNumber\" style = \"font-weight: bold; text-align: right;\">10</td><td style = \"text-align: left;\">2015-06-20T01:00:00</td><td style = \"text-align: left;\">2015-06-10T03:00:00</td><td style = \"text-align: left;\">PO</td><td style = \"text-align: right;\">0</td><td style = \"text-align: right;\">10272</td><td style = \"text-align: right;\">100</td><td style = \"text-align: right;\">4</td><td style = \"text-align: right;\">1</td><td style = \"text-align: left;\">Texas</td></tr><tr><td class = \"rowNumber\" style = \"font-weight: bold; text-align: right;\">11</td><td style = \"text-align: left;\">2015-07-24T07:00:00</td><td style = \"text-align: left;\">2015-07-21T03:30:00</td><td style = \"text-align: left;\">MO</td><td style = \"text-align: right;\">0</td><td style = \"text-align: right;\">10272</td><td style = \"text-align: right;\">100</td><td style = \"text-align: right;\">4</td><td style = \"text-align: right;\">1</td><td style = \"text-align: left;\">Texas</td></tr><tr><td class = \"rowNumber\" style = \"font-weight: bold; text-align: right;\">12</td><td style = \"text-align: left;\">2015-11-15T05:00:00</td><td style = \"text-align: left;\">2015-11-06T16:30:00</td><td style = \"text-align: left;\">MO</td><td style = \"text-align: right;\">0</td><td style = \"text-align: right;\">10272</td><td style = \"text-align: right;\">100</td><td style = \"text-align: right;\">4</td><td style = \"text-align: right;\">1</td><td style = \"text-align: left;\">Texas</td></tr><tr><td class = \"rowNumber\" style = \"font-weight: bold; text-align: right;\">13</td><td style = \"text-align: left;\">2016-05-24T11:00:00</td><td style = \"text-align: left;\">2016-04-22T18:00:00</td><td style = \"text-align: left;\">PO</td><td style = \"text-align: right;\">0</td><td style = \"text-align: right;\">10272</td><td style = \"text-align: right;\">100</td><td style = \"text-align: right;\">4</td><td style = \"text-align: right;\">1</td><td style = \"text-align: left;\">Texas</td></tr><tr><td style = \"text-align: right;\">&vellip;</td><td style = \"text-align: right;\">&vellip;</td><td style = \"text-align: right;\">&vellip;</td><td style = \"text-align: right;\">&vellip;</td><td style = \"text-align: right;\">&vellip;</td><td style = \"text-align: right;\">&vellip;</td><td style = \"text-align: right;\">&vellip;</td><td style = \"text-align: right;\">&vellip;</td><td style = \"text-align: right;\">&vellip;</td><td style = \"text-align: right;\">&vellip;</td></tr><tr><td class = \"rowNumber\" style = \"font-weight: bold; text-align: right;\">34</td><td style = \"text-align: left;\">2020-02-10T20:30:00</td><td style = \"text-align: left;\">2020-02-08T14:00:00</td><td style = \"text-align: left;\">U2</td><td style = \"text-align: right;\">0</td><td style = \"text-align: right;\">10272</td><td style = \"text-align: right;\">100</td><td style = \"text-align: right;\">4</td><td style = \"text-align: right;\">1</td><td style = \"text-align: left;\">Texas</td></tr><tr><td class = \"rowNumber\" style = \"font-weight: bold; text-align: right;\">35</td><td style = \"text-align: left;\">2020-04-01T04:59:00</td><td style = \"text-align: left;\">2020-03-19T07:30:00</td><td style = \"text-align: left;\">MO</td><td style = \"text-align: right;\">0</td><td style = \"text-align: right;\">10272</td><td style = \"text-align: right;\">100</td><td style = \"text-align: right;\">4</td><td style = \"text-align: right;\">1</td><td style = \"text-align: left;\">Texas</td></tr><tr><td class = \"rowNumber\" style = \"font-weight: bold; text-align: right;\">36</td><td style = \"text-align: left;\">2020-04-12T17:30:00</td><td style = \"text-align: left;\">2020-04-01T05:00:00</td><td style = \"text-align: left;\">MO</td><td style = \"text-align: right;\">0</td><td style = \"text-align: right;\">10272</td><td style = \"text-align: right;\">100</td><td style = \"text-align: right;\">4</td><td style = \"text-align: right;\">1</td><td style = \"text-align: left;\">Texas</td></tr><tr><td class = \"rowNumber\" style = \"font-weight: bold; text-align: right;\">37</td><td style = \"text-align: left;\">2020-07-17T16:25:00</td><td style = \"text-align: left;\">2020-07-15T18:00:00</td><td style = \"text-align: left;\">U2</td><td style = \"text-align: right;\">0</td><td style = \"text-align: right;\">10272</td><td style = \"text-align: right;\">100</td><td style = \"text-align: right;\">4</td><td style = \"text-align: right;\">1</td><td style = \"text-align: left;\">Texas</td></tr><tr><td class = \"rowNumber\" style = \"font-weight: bold; text-align: right;\">38</td><td style = \"text-align: left;\">2020-10-18T17:31:00</td><td style = \"text-align: left;\">2020-10-03T06:12:00</td><td style = \"text-align: left;\">PO</td><td style = \"text-align: right;\">0</td><td style = \"text-align: right;\">10272</td><td style = \"text-align: right;\">100</td><td style = \"text-align: right;\">4</td><td style = \"text-align: right;\">1</td><td style = \"text-align: left;\">Texas</td></tr><tr><td class = \"rowNumber\" style = \"font-weight: bold; text-align: right;\">39</td><td style = \"text-align: left;\">2021-02-21T19:56:00</td><td style = \"text-align: left;\">2021-02-15T08:24:00</td><td style = \"text-align: left;\">U1</td><td style = \"text-align: right;\">0</td><td style = \"text-align: right;\">10272</td><td style = \"text-align: right;\">100</td><td style = \"text-align: right;\">4</td><td style = \"text-align: right;\">1</td><td style = \"text-align: left;\">Texas</td></tr><tr><td class = \"rowNumber\" style = \"font-weight: bold; text-align: right;\">40</td><td style = \"text-align: left;\">2021-02-21T19:56:00</td><td style = \"text-align: left;\">2021-02-15T08:24:00</td><td style = \"text-align: left;\">U1</td><td style = \"text-align: right;\">0</td><td style = \"text-align: right;\">10272</td><td style = \"text-align: right;\">100</td><td style = \"text-align: right;\">4</td><td style = \"text-align: right;\">1</td><td style = \"text-align: left;\">Texas</td></tr><tr><td class = \"rowNumber\" style = \"font-weight: bold; text-align: right;\">41</td><td style = \"text-align: left;\">2021-04-30T01:25:00</td><td style = \"text-align: left;\">2021-04-14T17:00:00</td><td style = \"text-align: left;\">PO</td><td style = \"text-align: right;\">0</td><td style = \"text-align: right;\">10272</td><td style = \"text-align: right;\">100</td><td style = \"text-align: right;\">4</td><td style = \"text-align: right;\">1</td><td style = \"text-align: left;\">Texas</td></tr><tr><td class = \"rowNumber\" style = \"font-weight: bold; text-align: right;\">42</td><td style = \"text-align: left;\">2021-07-25T00:15:00</td><td style = \"text-align: left;\">2021-07-22T20:00:00</td><td style = \"text-align: left;\">U3</td><td style = \"text-align: right;\">0</td><td style = \"text-align: right;\">10272</td><td style = \"text-align: right;\">100</td><td style = \"text-align: right;\">4</td><td style = \"text-align: right;\">1</td><td style = \"text-align: left;\">Texas</td></tr><tr><td class = \"rowNumber\" style = \"font-weight: bold; text-align: right;\">43</td><td style = \"text-align: left;\">2022-02-06T23:31:00</td><td style = \"text-align: left;\">2022-02-06T13:35:00</td><td style = \"text-align: left;\">U2</td><td style = \"text-align: right;\">0</td><td style = \"text-align: right;\">10272</td><td style = \"text-align: right;\">100</td><td style = \"text-align: right;\">4</td><td style = \"text-align: right;\">1</td><td style = \"text-align: left;\">Texas</td></tr><tr><td class = \"rowNumber\" style = \"font-weight: bold; text-align: right;\">44</td><td style = \"text-align: left;\">2022-04-01T04:59:00</td><td style = \"text-align: left;\">2022-02-22T19:32:00</td><td style = \"text-align: left;\">U2</td><td style = \"text-align: right;\">0</td><td style = \"text-align: right;\">10272</td><td style = \"text-align: right;\">100</td><td style = \"text-align: right;\">4</td><td style = \"text-align: right;\">1</td><td style = \"text-align: left;\">Texas</td></tr><tr><td class = \"rowNumber\" style = \"font-weight: bold; text-align: right;\">45</td><td style = \"text-align: left;\">2023-01-01T06:00:00</td><td style = \"text-align: left;\">2022-04-01T05:00:00</td><td style = \"text-align: left;\">DR</td><td style = \"text-align: right;\">0</td><td style = \"text-align: right;\">10272</td><td style = \"text-align: right;\">100</td><td style = \"text-align: right;\">4</td><td style = \"text-align: right;\">1</td><td style = \"text-align: left;\">Texas</td></tr></tbody></table></div>"
      ],
      "text/latex": [
       "\\begin{tabular}{r|ccccc}\n",
       "\t& EventEndDT & EventStartDT & EventTypeCode & OutageContinuationFlag & \\\\\n",
       "\t\\hline\n",
       "\t& DateTime & DateTime & String3 & Int64 & \\\\\n",
       "\t\\hline\n",
       "\t1 & 2013-06-13T02:35:00 & 2013-04-05T22:18:00 & PO & 0 & $\\dots$ \\\\\n",
       "\t2 & 2013-06-14T05:50:00 & 2013-06-13T18:29:00 & U1 & 0 & $\\dots$ \\\\\n",
       "\t3 & 2013-07-13T09:08:00 & 2013-07-13T07:28:00 & U1 & 0 & $\\dots$ \\\\\n",
       "\t4 & 2013-08-07T02:18:00 & 2013-08-06T06:50:00 & U1 & 0 & $\\dots$ \\\\\n",
       "\t5 & 2013-10-06T03:58:00 & 2013-10-02T01:53:00 & U2 & 0 & $\\dots$ \\\\\n",
       "\t6 & 2014-06-03T17:30:00 & 2014-05-21T03:00:00 & PO & 0 & $\\dots$ \\\\\n",
       "\t7 & 2014-07-14T04:04:00 & 2014-07-13T17:43:00 & PO & 0 & $\\dots$ \\\\\n",
       "\t8 & 2015-02-17T21:30:00 & 2015-01-31T01:00:00 & PO & 0 & $\\dots$ \\\\\n",
       "\t9 & 2015-03-07T13:30:00 & 2015-03-07T12:00:00 & U1 & 0 & $\\dots$ \\\\\n",
       "\t10 & 2015-06-20T01:00:00 & 2015-06-10T03:00:00 & PO & 0 & $\\dots$ \\\\\n",
       "\t11 & 2015-07-24T07:00:00 & 2015-07-21T03:30:00 & MO & 0 & $\\dots$ \\\\\n",
       "\t12 & 2015-11-15T05:00:00 & 2015-11-06T16:30:00 & MO & 0 & $\\dots$ \\\\\n",
       "\t13 & 2016-05-24T11:00:00 & 2016-04-22T18:00:00 & PO & 0 & $\\dots$ \\\\\n",
       "\t14 & 2016-05-28T10:00:00 & 2016-05-27T02:00:00 & U1 & 0 & $\\dots$ \\\\\n",
       "\t15 & 2016-06-16T04:00:00 & 2016-05-29T17:00:00 & PO & 0 & $\\dots$ \\\\\n",
       "\t16 & 2016-08-07T05:00:00 & 2016-08-04T12:00:00 & MO & 0 & $\\dots$ \\\\\n",
       "\t17 & 2016-08-23T07:00:00 & 2016-08-22T12:00:00 & MO & 0 & $\\dots$ \\\\\n",
       "\t18 & 2016-09-20T23:00:00 & 2016-09-17T13:00:00 & MO & 0 & $\\dots$ \\\\\n",
       "\t19 & 2016-10-12T23:00:00 & 2016-10-09T13:00:00 & U2 & 0 & $\\dots$ \\\\\n",
       "\t20 & 2017-03-15T10:00:00 & 2017-03-04T02:30:00 & PO & 0 & $\\dots$ \\\\\n",
       "\t21 & 2017-04-10T20:00:00 & 2017-04-05T02:30:00 & PO & 0 & $\\dots$ \\\\\n",
       "\t22 & 2017-05-25T16:00:00 & 2017-05-23T12:00:00 & U1 & 0 & $\\dots$ \\\\\n",
       "\t23 & 2017-06-25T18:00:00 & 2017-06-24T04:00:00 & PO & 0 & $\\dots$ \\\\\n",
       "\t24 & 2017-09-25T04:30:00 & 2017-09-12T00:00:00 & MO & 0 & $\\dots$ \\\\\n",
       "\t$\\dots$ & $\\dots$ & $\\dots$ & $\\dots$ & $\\dots$ &  \\\\\n",
       "\\end{tabular}\n"
      ],
      "text/plain": [
       "\u001b[1m45×9 DataFrame\u001b[0m\n",
       "\u001b[1m Row \u001b[0m│\u001b[1m EventEndDT          \u001b[0m\u001b[1m EventStartDT        \u001b[0m\u001b[1m EventTypeCode \u001b[0m\u001b[1m OutageContinua\u001b[0m ⋯\n",
       "     │\u001b[90m DateTime            \u001b[0m\u001b[90m DateTime            \u001b[0m\u001b[90m String3       \u001b[0m\u001b[90m Int64         \u001b[0m ⋯\n",
       "─────┼──────────────────────────────────────────────────────────────────────────\n",
       "   1 │ 2013-06-13T02:35:00  2013-04-05T22:18:00  PO                            ⋯\n",
       "   2 │ 2013-06-14T05:50:00  2013-06-13T18:29:00  U1\n",
       "   3 │ 2013-07-13T09:08:00  2013-07-13T07:28:00  U1\n",
       "   4 │ 2013-08-07T02:18:00  2013-08-06T06:50:00  U1\n",
       "   5 │ 2013-10-06T03:58:00  2013-10-02T01:53:00  U2                            ⋯\n",
       "   6 │ 2014-06-03T17:30:00  2014-05-21T03:00:00  PO\n",
       "   7 │ 2014-07-14T04:04:00  2014-07-13T17:43:00  PO\n",
       "   8 │ 2015-02-17T21:30:00  2015-01-31T01:00:00  PO\n",
       "  ⋮  │          ⋮                    ⋮                 ⋮                  ⋮    ⋱\n",
       "  39 │ 2021-02-21T19:56:00  2021-02-15T08:24:00  U1                            ⋯\n",
       "  40 │ 2021-02-21T19:56:00  2021-02-15T08:24:00  U1\n",
       "  41 │ 2021-04-30T01:25:00  2021-04-14T17:00:00  PO\n",
       "  42 │ 2021-07-25T00:15:00  2021-07-22T20:00:00  U3\n",
       "  43 │ 2022-02-06T23:31:00  2022-02-06T13:35:00  U2                            ⋯\n",
       "  44 │ 2022-04-01T04:59:00  2022-02-22T19:32:00  U2\n",
       "  45 │ 2023-01-01T06:00:00  2022-04-01T05:00:00  DR\n",
       "\u001b[36m                                                   6 columns and 30 rows omitted\u001b[0m"
      ]
     },
     "metadata": {},
     "output_type": "display_data"
    }
   ],
   "source": [
    "df"
   ]
  },
  {
   "cell_type": "code",
   "execution_count": null,
   "id": "06d6f289",
   "metadata": {},
   "outputs": [],
   "source": []
  }
 ],
 "metadata": {
  "kernelspec": {
   "display_name": "Julia 1.11.5",
   "language": "julia",
   "name": "julia-1.11"
  },
  "language_info": {
   "file_extension": ".jl",
   "mimetype": "application/julia",
   "name": "julia",
   "version": "1.11.5"
  }
 },
 "nbformat": 4,
 "nbformat_minor": 5
}
