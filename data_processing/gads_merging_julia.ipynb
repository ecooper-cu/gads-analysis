{
 "cells": [
  {
   "cell_type": "code",
   "execution_count": 1,
   "id": "f45ad1ab",
   "metadata": {},
   "outputs": [],
   "source": [
    "using Printf, CSV, DataFrames, Statistics, Glob, XLSX"
   ]
  },
  {
   "cell_type": "code",
   "execution_count": 2,
   "id": "d0235ce0",
   "metadata": {},
   "outputs": [
    {
     "data": {
      "text/html": [
       "<div><div style = \"float: left;\"><span>5536842×6 DataFrame</span></div><div style = \"float: right;\"><span style = \"font-style: italic;\">5536817 rows omitted</span></div><div style = \"clear: both;\"></div></div><div class = \"data-frame\" style = \"overflow-x: scroll;\"><table class = \"data-frame\" style = \"margin-bottom: 6px;\"><thead><tr class = \"header\"><th class = \"rowNumber\" style = \"font-weight: bold; text-align: right;\">Row</th><th style = \"text-align: left;\">EventEndDT</th><th style = \"text-align: left;\">EventStartDT</th><th style = \"text-align: left;\">EventTypeCode</th><th style = \"text-align: left;\">OutageContinuationFlag</th><th style = \"text-align: left;\">UnitID</th><th style = \"text-align: left;\">UnitTypeCode</th></tr><tr class = \"subheader headerLastRow\"><th class = \"rowNumber\" style = \"font-weight: bold; text-align: right;\"></th><th title = \"String31\" style = \"text-align: left;\">String31</th><th title = \"Dates.DateTime\" style = \"text-align: left;\">DateTime</th><th title = \"String3\" style = \"text-align: left;\">String3</th><th title = \"Int64\" style = \"text-align: left;\">Int64</th><th title = \"Int64\" style = \"text-align: left;\">Int64</th><th title = \"Int64\" style = \"text-align: left;\">Int64</th></tr></thead><tbody><tr><td class = \"rowNumber\" style = \"font-weight: bold; text-align: right;\">1</td><td style = \"text-align: left;\">2013-01-05T06:54:00.0</td><td style = \"text-align: left;\">2013-01-01T04:00:00</td><td style = \"text-align: left;\">RS</td><td style = \"text-align: right;\">2</td><td style = \"text-align: right;\">5408</td><td style = \"text-align: right;\">100</td></tr><tr><td class = \"rowNumber\" style = \"font-weight: bold; text-align: right;\">2</td><td style = \"text-align: left;\">2013-01-02T22:16:00.0</td><td style = \"text-align: left;\">2013-01-01T04:00:00</td><td style = \"text-align: left;\">RS</td><td style = \"text-align: right;\">2</td><td style = \"text-align: right;\">5423</td><td style = \"text-align: right;\">500</td></tr><tr><td class = \"rowNumber\" style = \"font-weight: bold; text-align: right;\">3</td><td style = \"text-align: left;\">2013-01-02T22:21:00.0</td><td style = \"text-align: left;\">2013-01-01T04:00:00</td><td style = \"text-align: left;\">RS</td><td style = \"text-align: right;\">2</td><td style = \"text-align: right;\">5424</td><td style = \"text-align: right;\">500</td></tr><tr><td class = \"rowNumber\" style = \"font-weight: bold; text-align: right;\">4</td><td style = \"text-align: left;\">2013-01-12T22:05:00.0</td><td style = \"text-align: left;\">2013-01-01T04:00:00</td><td style = \"text-align: left;\">RS</td><td style = \"text-align: right;\">2</td><td style = \"text-align: right;\">5427</td><td style = \"text-align: right;\">500</td></tr><tr><td class = \"rowNumber\" style = \"font-weight: bold; text-align: right;\">5</td><td style = \"text-align: left;\">2013-01-26T19:10:00.0</td><td style = \"text-align: left;\">2013-01-01T04:00:00</td><td style = \"text-align: left;\">RS</td><td style = \"text-align: right;\">2</td><td style = \"text-align: right;\">5415</td><td style = \"text-align: right;\">300</td></tr><tr><td class = \"rowNumber\" style = \"font-weight: bold; text-align: right;\">6</td><td style = \"text-align: left;\">2013-01-28T17:16:00.0</td><td style = \"text-align: left;\">2013-01-01T04:00:00</td><td style = \"text-align: left;\">RS</td><td style = \"text-align: right;\">2</td><td style = \"text-align: right;\">11240</td><td style = \"text-align: right;\">300</td></tr><tr><td class = \"rowNumber\" style = \"font-weight: bold; text-align: right;\">7</td><td style = \"text-align: left;\">2013-01-02T20:57:00.0</td><td style = \"text-align: left;\">2013-01-01T04:00:00</td><td style = \"text-align: left;\">RS</td><td style = \"text-align: right;\">2</td><td style = \"text-align: right;\">5426</td><td style = \"text-align: right;\">500</td></tr><tr><td class = \"rowNumber\" style = \"font-weight: bold; text-align: right;\">8</td><td style = \"text-align: left;\">2013-02-01T04:00:00.0</td><td style = \"text-align: left;\">2013-01-01T04:00:00</td><td style = \"text-align: left;\">RS</td><td style = \"text-align: right;\">2</td><td style = \"text-align: right;\">5420</td><td style = \"text-align: right;\">300</td></tr><tr><td class = \"rowNumber\" style = \"font-weight: bold; text-align: right;\">9</td><td style = \"text-align: left;\">2013-01-01T18:52:00.0</td><td style = \"text-align: left;\">2013-01-01T04:00:00</td><td style = \"text-align: left;\">RS</td><td style = \"text-align: right;\">2</td><td style = \"text-align: right;\">5407</td><td style = \"text-align: right;\">100</td></tr><tr><td class = \"rowNumber\" style = \"font-weight: bold; text-align: right;\">10</td><td style = \"text-align: left;\">2013-02-01T04:00:00.0</td><td style = \"text-align: left;\">2013-01-01T04:00:00</td><td style = \"text-align: left;\">RS</td><td style = \"text-align: right;\">2</td><td style = \"text-align: right;\">5417</td><td style = \"text-align: right;\">300</td></tr><tr><td class = \"rowNumber\" style = \"font-weight: bold; text-align: right;\">11</td><td style = \"text-align: left;\">2013-01-14T04:02:00.0</td><td style = \"text-align: left;\">2013-01-01T04:00:00</td><td style = \"text-align: left;\">D1</td><td style = \"text-align: right;\">2</td><td style = \"text-align: right;\">5414</td><td style = \"text-align: right;\">200</td></tr><tr><td class = \"rowNumber\" style = \"font-weight: bold; text-align: right;\">12</td><td style = \"text-align: left;\">2013-02-01T04:00:00.0</td><td style = \"text-align: left;\">2013-01-01T04:00:00</td><td style = \"text-align: left;\">RS</td><td style = \"text-align: right;\">2</td><td style = \"text-align: right;\">5406</td><td style = \"text-align: right;\">100</td></tr><tr><td class = \"rowNumber\" style = \"font-weight: bold; text-align: right;\">13</td><td style = \"text-align: left;\">2013-02-01T04:00:00.0</td><td style = \"text-align: left;\">2013-01-01T04:00:00</td><td style = \"text-align: left;\">RS</td><td style = \"text-align: right;\">2</td><td style = \"text-align: right;\">5418</td><td style = \"text-align: right;\">300</td></tr><tr><td style = \"text-align: right;\">&vellip;</td><td style = \"text-align: right;\">&vellip;</td><td style = \"text-align: right;\">&vellip;</td><td style = \"text-align: right;\">&vellip;</td><td style = \"text-align: right;\">&vellip;</td><td style = \"text-align: right;\">&vellip;</td><td style = \"text-align: right;\">&vellip;</td></tr><tr><td class = \"rowNumber\" style = \"font-weight: bold; text-align: right;\">5536831</td><td style = \"text-align: left;\">2024-01-01T08:00:00.0</td><td style = \"text-align: left;\">2024-01-01T06:52:00</td><td style = \"text-align: left;\">RS</td><td style = \"text-align: right;\">1</td><td style = \"text-align: right;\">6759</td><td style = \"text-align: right;\">500</td></tr><tr><td class = \"rowNumber\" style = \"font-weight: bold; text-align: right;\">5536832</td><td style = \"text-align: left;\">2024-01-01T08:00:00.0</td><td style = \"text-align: left;\">2024-01-01T06:54:00</td><td style = \"text-align: left;\">RS</td><td style = \"text-align: right;\">1</td><td style = \"text-align: right;\">9058</td><td style = \"text-align: right;\">500</td></tr><tr><td class = \"rowNumber\" style = \"font-weight: bold; text-align: right;\">5536833</td><td style = \"text-align: left;\">2024-01-01T07:00:00.0</td><td style = \"text-align: left;\">2024-01-01T06:59:00</td><td style = \"text-align: left;\">RS</td><td style = \"text-align: right;\">1</td><td style = \"text-align: right;\">714</td><td style = \"text-align: right;\">300</td></tr><tr><td class = \"rowNumber\" style = \"font-weight: bold; text-align: right;\">5536834</td><td style = \"text-align: left;\">2024-01-01T08:00:00.0</td><td style = \"text-align: left;\">2024-01-01T07:00:00</td><td style = \"text-align: left;\">RS</td><td style = \"text-align: right;\">1</td><td style = \"text-align: right;\">8987</td><td style = \"text-align: right;\">500</td></tr><tr><td class = \"rowNumber\" style = \"font-weight: bold; text-align: right;\">5536835</td><td style = \"text-align: left;\">2024-01-01T08:00:00.0</td><td style = \"text-align: left;\">2024-01-01T07:00:00</td><td style = \"text-align: left;\">RS</td><td style = \"text-align: right;\">1</td><td style = \"text-align: right;\">9012</td><td style = \"text-align: right;\">500</td></tr><tr><td class = \"rowNumber\" style = \"font-weight: bold; text-align: right;\">5536836</td><td style = \"text-align: left;\">2024-01-01T08:00:00.0</td><td style = \"text-align: left;\">2024-01-01T07:01:00</td><td style = \"text-align: left;\">RS</td><td style = \"text-align: right;\">1</td><td style = \"text-align: right;\">9867</td><td style = \"text-align: right;\">500</td></tr><tr><td class = \"rowNumber\" style = \"font-weight: bold; text-align: right;\">5536837</td><td style = \"text-align: left;\">2024-01-01T08:00:00.0</td><td style = \"text-align: left;\">2024-01-01T07:03:00</td><td style = \"text-align: left;\">RS</td><td style = \"text-align: right;\">1</td><td style = \"text-align: right;\">9164</td><td style = \"text-align: right;\">500</td></tr><tr><td class = \"rowNumber\" style = \"font-weight: bold; text-align: right;\">5536838</td><td style = \"text-align: left;\">2024-01-01T08:00:00.0</td><td style = \"text-align: left;\">2024-01-01T07:08:00</td><td style = \"text-align: left;\">RS</td><td style = \"text-align: right;\">1</td><td style = \"text-align: right;\">4465</td><td style = \"text-align: right;\">300</td></tr><tr><td class = \"rowNumber\" style = \"font-weight: bold; text-align: right;\">5536839</td><td style = \"text-align: left;\">2024-01-01T08:00:00.0</td><td style = \"text-align: left;\">2024-01-01T07:08:00</td><td style = \"text-align: left;\">RS</td><td style = \"text-align: right;\">1</td><td style = \"text-align: right;\">9018</td><td style = \"text-align: right;\">500</td></tr><tr><td class = \"rowNumber\" style = \"font-weight: bold; text-align: right;\">5536840</td><td style = \"text-align: left;\">2024-01-01T08:00:00.0</td><td style = \"text-align: left;\">2024-01-01T07:48:00</td><td style = \"text-align: left;\">RS</td><td style = \"text-align: right;\">1</td><td style = \"text-align: right;\">9043</td><td style = \"text-align: right;\">500</td></tr><tr><td class = \"rowNumber\" style = \"font-weight: bold; text-align: right;\">5536841</td><td style = \"text-align: left;\">2024-01-01T08:00:00.0</td><td style = \"text-align: left;\">2024-01-01T07:59:00</td><td style = \"text-align: left;\">RS</td><td style = \"text-align: right;\">1</td><td style = \"text-align: right;\">11108</td><td style = \"text-align: right;\">500</td></tr><tr><td class = \"rowNumber\" style = \"font-weight: bold; text-align: right;\">5536842</td><td style = \"text-align: left;\">2024-01-01T10:00:00.0</td><td style = \"text-align: left;\">2024-01-01T09:01:00</td><td style = \"text-align: left;\">MO</td><td style = \"text-align: right;\">1</td><td style = \"text-align: right;\">9751</td><td style = \"text-align: right;\">100</td></tr></tbody></table></div>"
      ],
      "text/latex": [
       "\\begin{tabular}{r|ccccc}\n",
       "\t& EventEndDT & EventStartDT & EventTypeCode & OutageContinuationFlag & \\\\\n",
       "\t\\hline\n",
       "\t& String31 & DateTime & String3 & Int64 & \\\\\n",
       "\t\\hline\n",
       "\t1 & 2013-01-05T06:54:00.0 & 2013-01-01T04:00:00 & RS & 2 & $\\dots$ \\\\\n",
       "\t2 & 2013-01-02T22:16:00.0 & 2013-01-01T04:00:00 & RS & 2 & $\\dots$ \\\\\n",
       "\t3 & 2013-01-02T22:21:00.0 & 2013-01-01T04:00:00 & RS & 2 & $\\dots$ \\\\\n",
       "\t4 & 2013-01-12T22:05:00.0 & 2013-01-01T04:00:00 & RS & 2 & $\\dots$ \\\\\n",
       "\t5 & 2013-01-26T19:10:00.0 & 2013-01-01T04:00:00 & RS & 2 & $\\dots$ \\\\\n",
       "\t6 & 2013-01-28T17:16:00.0 & 2013-01-01T04:00:00 & RS & 2 & $\\dots$ \\\\\n",
       "\t7 & 2013-01-02T20:57:00.0 & 2013-01-01T04:00:00 & RS & 2 & $\\dots$ \\\\\n",
       "\t8 & 2013-02-01T04:00:00.0 & 2013-01-01T04:00:00 & RS & 2 & $\\dots$ \\\\\n",
       "\t9 & 2013-01-01T18:52:00.0 & 2013-01-01T04:00:00 & RS & 2 & $\\dots$ \\\\\n",
       "\t10 & 2013-02-01T04:00:00.0 & 2013-01-01T04:00:00 & RS & 2 & $\\dots$ \\\\\n",
       "\t11 & 2013-01-14T04:02:00.0 & 2013-01-01T04:00:00 & D1 & 2 & $\\dots$ \\\\\n",
       "\t12 & 2013-02-01T04:00:00.0 & 2013-01-01T04:00:00 & RS & 2 & $\\dots$ \\\\\n",
       "\t13 & 2013-02-01T04:00:00.0 & 2013-01-01T04:00:00 & RS & 2 & $\\dots$ \\\\\n",
       "\t14 & 2013-01-26T19:10:00.0 & 2013-01-01T04:00:00 & RS & 2 & $\\dots$ \\\\\n",
       "\t15 & 2013-03-15T19:00:00.0 & 2013-01-01T04:00:00 & D1 & 0 & $\\dots$ \\\\\n",
       "\t16 & 2013-01-02T21:21:00.0 & 2013-01-01T04:01:00 & RS & 0 & $\\dots$ \\\\\n",
       "\t17 & 2013-01-02T21:21:00.0 & 2013-01-01T04:01:00 & RS & 0 & $\\dots$ \\\\\n",
       "\t18 & 2013-01-01T16:21:00.0 & 2013-01-01T04:01:00 & PO & 0 & $\\dots$ \\\\\n",
       "\t19 & 2013-03-16T14:33:00.0 & 2013-01-01T04:01:00 & PO & 0 & $\\dots$ \\\\\n",
       "\t20 & 2013-01-01T05:05:00.0 & 2013-01-01T04:01:00 & RS & 0 & $\\dots$ \\\\\n",
       "\t21 & 2013-01-06T09:26:00.0 & 2013-01-01T04:01:00 & U3 & 0 & $\\dots$ \\\\\n",
       "\t22 & 2013-01-02T17:52:00.0 & 2013-01-01T04:01:00 & RS & 0 & $\\dots$ \\\\\n",
       "\t23 & 2013-01-02T18:00:00.0 & 2013-01-01T04:01:00 & RS & 0 & $\\dots$ \\\\\n",
       "\t24 & 2013-01-04T06:20:00.0 & 2013-01-01T04:01:00 & D1 & 0 & $\\dots$ \\\\\n",
       "\t$\\dots$ & $\\dots$ & $\\dots$ & $\\dots$ & $\\dots$ &  \\\\\n",
       "\\end{tabular}\n"
      ],
      "text/plain": [
       "\u001b[1m5536842×6 DataFrame\u001b[0m\n",
       "\u001b[1m     Row \u001b[0m│\u001b[1m EventEndDT            \u001b[0m\u001b[1m EventStartDT        \u001b[0m\u001b[1m EventTypeCode \u001b[0m\u001b[1m OutageCo\u001b[0m ⋯\n",
       "         │\u001b[90m String31              \u001b[0m\u001b[90m DateTime            \u001b[0m\u001b[90m String3       \u001b[0m\u001b[90m Int64   \u001b[0m ⋯\n",
       "─────────┼──────────────────────────────────────────────────────────────────────\n",
       "       1 │ 2013-01-05T06:54:00.0  2013-01-01T04:00:00  RS                      ⋯\n",
       "       2 │ 2013-01-02T22:16:00.0  2013-01-01T04:00:00  RS\n",
       "       3 │ 2013-01-02T22:21:00.0  2013-01-01T04:00:00  RS\n",
       "       4 │ 2013-01-12T22:05:00.0  2013-01-01T04:00:00  RS\n",
       "       5 │ 2013-01-26T19:10:00.0  2013-01-01T04:00:00  RS                      ⋯\n",
       "       6 │ 2013-01-28T17:16:00.0  2013-01-01T04:00:00  RS\n",
       "       7 │ 2013-01-02T20:57:00.0  2013-01-01T04:00:00  RS\n",
       "       8 │ 2013-02-01T04:00:00.0  2013-01-01T04:00:00  RS\n",
       "    ⋮    │           ⋮                     ⋮                 ⋮                 ⋱\n",
       " 5536836 │ 2024-01-01T08:00:00.0  2024-01-01T07:01:00  RS                      ⋯\n",
       " 5536837 │ 2024-01-01T08:00:00.0  2024-01-01T07:03:00  RS\n",
       " 5536838 │ 2024-01-01T08:00:00.0  2024-01-01T07:08:00  RS\n",
       " 5536839 │ 2024-01-01T08:00:00.0  2024-01-01T07:08:00  RS\n",
       " 5536840 │ 2024-01-01T08:00:00.0  2024-01-01T07:48:00  RS                      ⋯\n",
       " 5536841 │ 2024-01-01T08:00:00.0  2024-01-01T07:59:00  RS\n",
       " 5536842 │ 2024-01-01T10:00:00.0  2024-01-01T09:01:00  MO\n",
       "\u001b[36m                                              3 columns and 5536827 rows omitted\u001b[0m"
      ]
     },
     "metadata": {},
     "output_type": "display_data"
    }
   ],
   "source": [
    "directory = joinpath(homedir(), \"research\", \"GADS\", \"Events\")\n",
    "files = glob(\"*.csv\", directory)\n",
    "x = Dict()\n",
    "i = 1\n",
    "for f in files\n",
    "    df = DataFrame(CSV.File(f, select=[\"EventStartDT\", \"EventEndDT\", \"UnitID\", \"UnitTypeCode\", \"EventTypeCode\", \"OutageContinuationFlag\"]))\n",
    "    x[i] = df\n",
    "    i +=1\n",
    "end\n",
    "merged = reduce(vcat, values(x))\n",
    "sort!(merged, :EventStartDT)"
   ]
  },
  {
   "cell_type": "code",
   "execution_count": 3,
   "id": "f82e2776",
   "metadata": {},
   "outputs": [],
   "source": [
    "fname = joinpath(homedir(), \"research\", \"GADS\", \"GADS_Unit_2023_20240422.xlsx\")\n",
    "units = DataFrame(XLSX.readtable(fname, \"Sheet1\"));"
   ]
  },
  {
   "cell_type": "code",
   "execution_count": 15,
   "id": "34d1a061",
   "metadata": {},
   "outputs": [
    {
     "data": {
      "text/html": [
       "<div><div style = \"float: left;\"><span>146×13 DataFrame</span></div><div style = \"float: right;\"><span style = \"font-style: italic;\">121 rows omitted</span></div><div style = \"clear: both;\"></div></div><div class = \"data-frame\" style = \"overflow-x: scroll;\"><table class = \"data-frame\" style = \"margin-bottom: 6px;\"><thead><tr class = \"header\"><th class = \"rowNumber\" style = \"font-weight: bold; text-align: right;\">Row</th><th style = \"text-align: left;\">UnitID</th><th style = \"text-align: left;\">AliasID</th><th style = \"text-align: left;\">CommercialDT_grp</th><th style = \"text-align: left;\">ID_SK</th><th style = \"text-align: left;\">NERCID_AliasID</th><th style = \"text-align: left;\">RatingMW_grp</th><th style = \"text-align: left;\">RegionCode</th><th style = \"text-align: left;\">StateName</th><th style = \"text-align: left;\">UnitRetireDT_grp</th><th style = \"text-align: left;\">UnitTimeZoneCode</th><th style = \"text-align: left;\">UnitTypeCode</th><th style = \"text-align: left;\">UnitTypeCodeDesc</th><th style = \"text-align: left;\">RatingMW_BrochureGroup</th></tr><tr class = \"subheader headerLastRow\"><th class = \"rowNumber\" style = \"font-weight: bold; text-align: right;\"></th><th title = \"Any\" style = \"text-align: left;\">Any</th><th title = \"Any\" style = \"text-align: left;\">Any</th><th title = \"Any\" style = \"text-align: left;\">Any</th><th title = \"Any\" style = \"text-align: left;\">Any</th><th title = \"Any\" style = \"text-align: left;\">Any</th><th title = \"Any\" style = \"text-align: left;\">Any</th><th title = \"Any\" style = \"text-align: left;\">Any</th><th title = \"Any\" style = \"text-align: left;\">Any</th><th title = \"Any\" style = \"text-align: left;\">Any</th><th title = \"Any\" style = \"text-align: left;\">Any</th><th title = \"Any\" style = \"text-align: left;\">Any</th><th title = \"Any\" style = \"text-align: left;\">Any</th><th title = \"Any\" style = \"text-align: left;\">Any</th></tr></thead><tbody><tr><td class = \"rowNumber\" style = \"font-weight: bold; text-align: right;\">1</td><td style = \"text-align: left;\">3009</td><td style = \"text-align: left;\">0xAFFAEAA4F1A21A6726FCD1AB86AD5856</td><td style = \"text-align: left;\">1</td><td style = \"text-align: left;\">16935</td><td style = \"text-align: left;\">0x53561B76F369CF1A9078EBB86BA57B02</td><td style = \"text-align: left;\">2</td><td style = \"text-align: left;\">SERC</td><td style = \"text-align: left;\">Mississippi</td><td style = \"text-align: left;\">Retired</td><td style = \"text-align: left;\">CPT</td><td style = \"text-align: left;\">100</td><td style = \"text-align: left;\">Fossil-Steam</td><td style = \"text-align: left;\">100-199</td></tr><tr><td class = \"rowNumber\" style = \"font-weight: bold; text-align: right;\">2</td><td style = \"text-align: left;\">1</td><td style = \"text-align: left;\">0xC92C0BABDC764D8674BCEA14A55D867D</td><td style = \"text-align: left;\">3</td><td style = \"text-align: left;\">12664</td><td style = \"text-align: left;\">0xD2FB8E0971BCA5276F5AC35BE03FEC06</td><td style = \"text-align: left;\">2</td><td style = \"text-align: left;\">WECC</td><td style = \"text-align: left;\">California</td><td style = \"text-align: left;\">Retired</td><td style = \"text-align: left;\">PPT</td><td style = \"text-align: left;\">860</td><td style = \"text-align: left;\">Co-generator Block </td><td style = \"text-align: left;\">All</td></tr><tr><td class = \"rowNumber\" style = \"font-weight: bold; text-align: right;\">3</td><td style = \"text-align: left;\">167</td><td style = \"text-align: left;\">0x66B52E915FD1FA80AF777CF2570A71CC</td><td style = \"text-align: left;\">1</td><td style = \"text-align: left;\">18748</td><td style = \"text-align: left;\">0x396460EBE8CCC4671276C7FE8C3F4DF8</td><td style = \"text-align: left;\">1</td><td style = \"text-align: left;\">RFC</td><td style = \"text-align: left;\">West Virginia</td><td style = \"text-align: left;\">Retired</td><td style = \"text-align: left;\">EPT</td><td style = \"text-align: left;\">100</td><td style = \"text-align: left;\">Fossil-Steam</td><td style = \"text-align: left;\">&lt;100</td></tr><tr><td class = \"rowNumber\" style = \"font-weight: bold; text-align: right;\">4</td><td style = \"text-align: left;\">2496</td><td style = \"text-align: left;\">0x0EEBFC360E251DD76E174F2E77C9F94B</td><td style = \"text-align: left;\">1</td><td style = \"text-align: left;\">23058</td><td style = \"text-align: left;\">0xB2E0F11027E5BED71F0A7522909A82E5</td><td style = \"text-align: left;\">1</td><td style = \"text-align: left;\">SERC</td><td style = \"text-align: left;\">North Carolina</td><td style = \"text-align: left;\">Retired</td><td style = \"text-align: left;\">EPT</td><td style = \"text-align: left;\">300</td><td style = \"text-align: left;\">Gas Turbine/Jet Engine (Simple Cycle Operation)</td><td style = \"text-align: left;\">&lt;50</td></tr><tr><td class = \"rowNumber\" style = \"font-weight: bold; text-align: right;\">5</td><td style = \"text-align: left;\">10583</td><td style = \"text-align: left;\">0x08F0B95FD319FA1A0AAF7A4026C6FC57</td><td style = \"text-align: left;\">5</td><td style = \"text-align: left;\">22876</td><td style = \"text-align: left;\">0x0E5174DF8B8FDFF3A3B4A6DA534C4D23</td><td style = \"text-align: left;\">3</td><td style = \"text-align: left;\">NPCC</td><td style = \"text-align: left;\">New York</td><td style = \"font-style: italic; text-align: left;\">missing</td><td style = \"text-align: left;\">EPT</td><td style = \"text-align: left;\">850</td><td style = \"text-align: left;\">Combined Cycle Block</td><td style = \"text-align: left;\">All</td></tr><tr><td class = \"rowNumber\" style = \"font-weight: bold; text-align: right;\">6</td><td style = \"text-align: left;\">2493</td><td style = \"text-align: left;\">0x62913A81BB0D8572105C4F6AE0FB4FAB</td><td style = \"text-align: left;\">1</td><td style = \"text-align: left;\">23055</td><td style = \"text-align: left;\">0xB2E0F11027E5BED71F0A7522909A82E5</td><td style = \"text-align: left;\">1</td><td style = \"text-align: left;\">SERC</td><td style = \"text-align: left;\">North Carolina</td><td style = \"text-align: left;\">Retired</td><td style = \"text-align: left;\">EPT</td><td style = \"text-align: left;\">300</td><td style = \"text-align: left;\">Gas Turbine/Jet Engine (Simple Cycle Operation)</td><td style = \"text-align: left;\">&lt;50</td></tr><tr><td class = \"rowNumber\" style = \"font-weight: bold; text-align: right;\">7</td><td style = \"text-align: left;\">3010</td><td style = \"text-align: left;\">0x2B69F2E81CC22760EAD0489D372CDA72</td><td style = \"text-align: left;\">1</td><td style = \"text-align: left;\">16936</td><td style = \"text-align: left;\">0x53561B76F369CF1A9078EBB86BA57B02</td><td style = \"text-align: left;\">2</td><td style = \"text-align: left;\">SERC</td><td style = \"text-align: left;\">Mississippi</td><td style = \"text-align: left;\">Retired</td><td style = \"text-align: left;\">CPT</td><td style = \"text-align: left;\">100</td><td style = \"text-align: left;\">Fossil-Steam</td><td style = \"text-align: left;\">100-199</td></tr><tr><td class = \"rowNumber\" style = \"font-weight: bold; text-align: right;\">8</td><td style = \"text-align: left;\">7971</td><td style = \"text-align: left;\">0x391D84E6378D8A29B1911A144F7E00CC</td><td style = \"text-align: left;\">1</td><td style = \"text-align: left;\">17106</td><td style = \"text-align: left;\">0x5818659E035F675B37279D80A51F6DC1</td><td style = \"text-align: left;\">1</td><td style = \"text-align: left;\">MRO</td><td style = \"text-align: left;\">Texas</td><td style = \"text-align: left;\">Retired</td><td style = \"text-align: left;\">CPT</td><td style = \"text-align: left;\">300</td><td style = \"text-align: left;\">Gas Turbine/Jet Engine (Simple Cycle Operation)</td><td style = \"text-align: left;\">&lt;50</td></tr><tr><td class = \"rowNumber\" style = \"font-weight: bold; text-align: right;\">9</td><td style = \"text-align: left;\">186</td><td style = \"text-align: left;\">0x968B2A08F4E829F662DD18762E80B8EC</td><td style = \"text-align: left;\">1</td><td style = \"text-align: left;\">18767</td><td style = \"text-align: left;\">0x396460EBE8CCC4671276C7FE8C3F4DF8</td><td style = \"text-align: left;\">1</td><td style = \"text-align: left;\">RFC</td><td style = \"text-align: left;\">Maryland</td><td style = \"text-align: left;\">Retired</td><td style = \"text-align: left;\">EPT</td><td style = \"text-align: left;\">100</td><td style = \"text-align: left;\">Fossil-Steam</td><td style = \"text-align: left;\">&lt;100</td></tr><tr><td class = \"rowNumber\" style = \"font-weight: bold; text-align: right;\">10</td><td style = \"text-align: left;\">187</td><td style = \"text-align: left;\">0x9357A67161AD20CD97C2A2D8492DFC36</td><td style = \"text-align: left;\">1</td><td style = \"text-align: left;\">18768</td><td style = \"text-align: left;\">0x396460EBE8CCC4671276C7FE8C3F4DF8</td><td style = \"text-align: left;\">1</td><td style = \"text-align: left;\">RFC</td><td style = \"text-align: left;\">West Virginia</td><td style = \"text-align: left;\">Retired</td><td style = \"text-align: left;\">EPT</td><td style = \"text-align: left;\">100</td><td style = \"text-align: left;\">Fossil-Steam</td><td style = \"text-align: left;\">&lt;100</td></tr><tr><td class = \"rowNumber\" style = \"font-weight: bold; text-align: right;\">11</td><td style = \"text-align: left;\">188</td><td style = \"text-align: left;\">0x796B6DC533269647B045DF955BD9C301</td><td style = \"text-align: left;\">1</td><td style = \"text-align: left;\">18769</td><td style = \"text-align: left;\">0x396460EBE8CCC4671276C7FE8C3F4DF8</td><td style = \"text-align: left;\">2</td><td style = \"text-align: left;\">RFC</td><td style = \"text-align: left;\">West Virginia</td><td style = \"text-align: left;\">Retired</td><td style = \"text-align: left;\">EPT</td><td style = \"text-align: left;\">100</td><td style = \"text-align: left;\">Fossil-Steam</td><td style = \"text-align: left;\">100-199</td></tr><tr><td class = \"rowNumber\" style = \"font-weight: bold; text-align: right;\">12</td><td style = \"text-align: left;\">11880</td><td style = \"text-align: left;\">0xF4E79E2CA82E61395D9ADBD438F8D565</td><td style = \"text-align: left;\">1</td><td style = \"text-align: left;\">22917</td><td style = \"text-align: left;\">0x0E5174DF8B8FDFF3A3B4A6DA534C4D23</td><td style = \"text-align: left;\">1</td><td style = \"text-align: left;\">WECC</td><td style = \"text-align: left;\">Montana</td><td style = \"font-style: italic; text-align: left;\">missing</td><td style = \"text-align: left;\">MPT</td><td style = \"text-align: left;\">500</td><td style = \"text-align: left;\">Pumped Storage/Hydro</td><td style = \"text-align: left;\">&lt;30</td></tr><tr><td class = \"rowNumber\" style = \"font-weight: bold; text-align: right;\">13</td><td style = \"text-align: left;\">2465</td><td style = \"text-align: left;\">0x09939B5FE2F4977594AEA7417BD4D2B5</td><td style = \"text-align: left;\">1</td><td style = \"text-align: left;\">23027</td><td style = \"text-align: left;\">0xB2E0F11027E5BED71F0A7522909A82E5</td><td style = \"text-align: left;\">2</td><td style = \"text-align: left;\">SERC</td><td style = \"text-align: left;\">North Carolina</td><td style = \"text-align: left;\">Retired</td><td style = \"text-align: left;\">EPT</td><td style = \"text-align: left;\">100</td><td style = \"text-align: left;\">Fossil-Steam</td><td style = \"text-align: left;\">100-199</td></tr><tr><td style = \"text-align: right;\">&vellip;</td><td style = \"text-align: right;\">&vellip;</td><td style = \"text-align: right;\">&vellip;</td><td style = \"text-align: right;\">&vellip;</td><td style = \"text-align: right;\">&vellip;</td><td style = \"text-align: right;\">&vellip;</td><td style = \"text-align: right;\">&vellip;</td><td style = \"text-align: right;\">&vellip;</td><td style = \"text-align: right;\">&vellip;</td><td style = \"text-align: right;\">&vellip;</td><td style = \"text-align: right;\">&vellip;</td><td style = \"text-align: right;\">&vellip;</td><td style = \"text-align: right;\">&vellip;</td><td style = \"text-align: right;\">&vellip;</td></tr><tr><td class = \"rowNumber\" style = \"font-weight: bold; text-align: right;\">135</td><td style = \"text-align: left;\">662</td><td style = \"text-align: left;\">0x143ECC0A4AB9AD86757E6E1095E62030</td><td style = \"text-align: left;\">1</td><td style = \"text-align: left;\">28674</td><td style = \"text-align: left;\">0xACDEDACD26E54665C0C812C11B483992</td><td style = \"text-align: left;\">2</td><td style = \"text-align: left;\">RFC</td><td style = \"text-align: left;\">Ohio</td><td style = \"text-align: left;\">Retired</td><td style = \"text-align: left;\">EPT</td><td style = \"text-align: left;\">100</td><td style = \"text-align: left;\">Fossil-Steam</td><td style = \"text-align: left;\">100-199</td></tr><tr><td class = \"rowNumber\" style = \"font-weight: bold; text-align: right;\">136</td><td style = \"text-align: left;\">9777</td><td style = \"text-align: left;\">0xC3DCC81AB49C26967A5452E1DF891B98</td><td style = \"text-align: left;\">4</td><td style = \"text-align: left;\">31031</td><td style = \"text-align: left;\">0xD8040BECCDAAB8F547E78FC8A4933AA4</td><td style = \"text-align: left;\">NULL</td><td style = \"text-align: left;\">MRO</td><td style = \"text-align: left;\">Minnesota</td><td style = \"font-style: italic; text-align: left;\">missing</td><td style = \"text-align: left;\">CPT</td><td style = \"text-align: left;\">100</td><td style = \"text-align: left;\">Fossil-Steam</td><td style = \"text-align: left;\">800+</td></tr><tr><td class = \"rowNumber\" style = \"font-weight: bold; text-align: right;\">137</td><td style = \"text-align: left;\">7304</td><td style = \"text-align: left;\">0x82CC4EA34A4BB94780F4E2E5C73D762B</td><td style = \"text-align: left;\">1</td><td style = \"text-align: left;\">30053</td><td style = \"text-align: left;\">0x59214CDC259F403026C96F9A082A937B</td><td style = \"text-align: left;\">2</td><td style = \"text-align: left;\">WECC</td><td style = \"text-align: left;\">Colorado</td><td style = \"text-align: left;\">Retired</td><td style = \"text-align: left;\">MPT</td><td style = \"text-align: left;\">100</td><td style = \"text-align: left;\">Fossil-Steam</td><td style = \"text-align: left;\">100-199</td></tr><tr><td class = \"rowNumber\" style = \"font-weight: bold; text-align: right;\">138</td><td style = \"text-align: left;\">7235</td><td style = \"text-align: left;\">0x8F6273D222500D6ADB6F20DCCA8F1294</td><td style = \"text-align: left;\">1</td><td style = \"text-align: left;\">29306</td><td style = \"text-align: left;\">0x08FC585CDCE69194A64B91544F9EB44A</td><td style = \"text-align: left;\">2</td><td style = \"text-align: left;\">RFC</td><td style = \"text-align: left;\">New Jersey</td><td style = \"text-align: left;\">Retired</td><td style = \"text-align: left;\">EPT</td><td style = \"text-align: left;\">300</td><td style = \"text-align: left;\">Gas Turbine/Jet Engine (Simple Cycle Operation)</td><td style = \"text-align: left;\">50+</td></tr><tr><td class = \"rowNumber\" style = \"font-weight: bold; text-align: right;\">139</td><td style = \"text-align: left;\">7236</td><td style = \"text-align: left;\">0x8CD1B1A25B1B39EE06280F2A130F12C9</td><td style = \"text-align: left;\">1</td><td style = \"text-align: left;\">29307</td><td style = \"text-align: left;\">0x08FC585CDCE69194A64B91544F9EB44A</td><td style = \"text-align: left;\">2</td><td style = \"text-align: left;\">RFC</td><td style = \"text-align: left;\">New Jersey</td><td style = \"text-align: left;\">Retired</td><td style = \"text-align: left;\">EPT</td><td style = \"text-align: left;\">300</td><td style = \"text-align: left;\">Gas Turbine/Jet Engine (Simple Cycle Operation)</td><td style = \"text-align: left;\">50+</td></tr><tr><td class = \"rowNumber\" style = \"font-weight: bold; text-align: right;\">140</td><td style = \"text-align: left;\">10191</td><td style = \"text-align: left;\">0x08D7241B10D435E1A002E0CFF14AC8A8</td><td style = \"text-align: left;\">4</td><td style = \"text-align: left;\">22868</td><td style = \"text-align: left;\">0x0E5174DF8B8FDFF3A3B4A6DA534C4D23</td><td style = \"text-align: left;\">NULL</td><td style = \"text-align: left;\">SERC</td><td style = \"text-align: left;\">Mississippi</td><td style = \"font-style: italic; text-align: left;\">missing</td><td style = \"text-align: left;\">CST</td><td style = \"text-align: left;\">850</td><td style = \"text-align: left;\">Combined Cycle Block</td><td style = \"text-align: left;\">All</td></tr><tr><td class = \"rowNumber\" style = \"font-weight: bold; text-align: right;\">141</td><td style = \"text-align: left;\">2508</td><td style = \"text-align: left;\">0x399A9DBEFF8906EF70EDEEA49129FAF0</td><td style = \"text-align: left;\">1</td><td style = \"text-align: left;\">23070</td><td style = \"text-align: left;\">0xB2E0F11027E5BED71F0A7522909A82E5</td><td style = \"text-align: left;\">1</td><td style = \"text-align: left;\">SERC</td><td style = \"text-align: left;\">South Carolina</td><td style = \"text-align: left;\">Retired</td><td style = \"text-align: left;\">EPT</td><td style = \"text-align: left;\">300</td><td style = \"text-align: left;\">Gas Turbine/Jet Engine (Simple Cycle Operation)</td><td style = \"text-align: left;\">&lt;50</td></tr><tr><td class = \"rowNumber\" style = \"font-weight: bold; text-align: right;\">142</td><td style = \"text-align: left;\">6301</td><td style = \"text-align: left;\">0x34EAD9A35C05E6886117CFF71A531150</td><td style = \"text-align: left;\">1</td><td style = \"text-align: left;\">25997</td><td style = \"text-align: left;\">0x91736701F16E01DF5E01CA61556ECD70</td><td style = \"text-align: left;\">1</td><td style = \"text-align: left;\">SERC</td><td style = \"text-align: left;\">Florida</td><td style = \"font-style: italic; text-align: left;\">missing</td><td style = \"text-align: left;\">EST</td><td style = \"text-align: left;\">100</td><td style = \"text-align: left;\">Fossil-Steam</td><td style = \"text-align: left;\">&lt;100</td></tr><tr><td class = \"rowNumber\" style = \"font-weight: bold; text-align: right;\">143</td><td style = \"text-align: left;\">7016</td><td style = \"text-align: left;\">0x2ABFDE02A92BD6C50938EDB6AF42ECC6</td><td style = \"text-align: left;\">1</td><td style = \"text-align: left;\">34271</td><td style = \"text-align: left;\">0x6C905343540DF06A7099C189D456787D</td><td style = \"text-align: left;\">1</td><td style = \"text-align: left;\">SERC</td><td style = \"text-align: left;\">North Carolina</td><td style = \"text-align: left;\">Retired</td><td style = \"text-align: left;\">EPT</td><td style = \"text-align: left;\">300</td><td style = \"text-align: left;\">Gas Turbine/Jet Engine (Simple Cycle Operation)</td><td style = \"text-align: left;\">&lt;50</td></tr><tr><td class = \"rowNumber\" style = \"font-weight: bold; text-align: right;\">144</td><td style = \"text-align: left;\">7687</td><td style = \"text-align: left;\">0x115084C48EB76E6523695B4520ABA43B</td><td style = \"text-align: left;\">1</td><td style = \"text-align: left;\">30228</td><td style = \"text-align: left;\">0x708E3D75D00F9889120E79778E8A0C84</td><td style = \"text-align: left;\">2</td><td style = \"text-align: left;\">SERC</td><td style = \"text-align: left;\">South Carolina</td><td style = \"text-align: left;\">Retired</td><td style = \"text-align: left;\">EPT</td><td style = \"text-align: left;\">100</td><td style = \"text-align: left;\">Fossil-Steam</td><td style = \"text-align: left;\">100-199</td></tr><tr><td class = \"rowNumber\" style = \"font-weight: bold; text-align: right;\">145</td><td style = \"text-align: left;\">9281</td><td style = \"text-align: left;\">0xA863ED73CC80374F14C8F5DEA53E639B</td><td style = \"text-align: left;\">3</td><td style = \"text-align: left;\">30876</td><td style = \"text-align: left;\">0xC6181316268F15B45353A43A903654D3</td><td style = \"text-align: left;\">1</td><td style = \"text-align: left;\">SERC</td><td style = \"text-align: left;\">West Virginia</td><td style = \"text-align: left;\">Retired</td><td style = \"text-align: left;\">EPT</td><td style = \"text-align: left;\">650</td><td style = \"text-align: left;\">Fluidized Bed</td><td style = \"text-align: left;\">All</td></tr><tr><td class = \"rowNumber\" style = \"font-weight: bold; text-align: right;\">146</td><td style = \"text-align: left;\">8157</td><td style = \"text-align: left;\">0xE4C8E8A2721BAA537584772C1F64421C</td><td style = \"text-align: left;\">3</td><td style = \"text-align: left;\">31446</td><td style = \"text-align: left;\">0xE908F0706678AD040C428988BE324000</td><td style = \"text-align: left;\">1</td><td style = \"text-align: left;\">WECC</td><td style = \"text-align: left;\">Washington</td><td style = \"text-align: left;\">Retired</td><td style = \"text-align: left;\">PPT</td><td style = \"text-align: left;\">852</td><td style = \"text-align: left;\">CC steam units</td><td style = \"text-align: left;\">All</td></tr></tbody></table></div>"
      ],
      "text/latex": [
       "\\begin{tabular}{r|cccccc}\n",
       "\t& UnitID & AliasID & CommercialDT\\_grp & ID\\_SK & NERCID\\_AliasID & \\\\\n",
       "\t\\hline\n",
       "\t& Any & Any & Any & Any & Any & \\\\\n",
       "\t\\hline\n",
       "\t1 & 3009 & 0xAFFAEAA4F1A21A6726FCD1AB86AD5856 & 1 & 16935 & 0x53561B76F369CF1A9078EBB86BA57B02 & $\\dots$ \\\\\n",
       "\t2 & 1 & 0xC92C0BABDC764D8674BCEA14A55D867D & 3 & 12664 & 0xD2FB8E0971BCA5276F5AC35BE03FEC06 & $\\dots$ \\\\\n",
       "\t3 & 167 & 0x66B52E915FD1FA80AF777CF2570A71CC & 1 & 18748 & 0x396460EBE8CCC4671276C7FE8C3F4DF8 & $\\dots$ \\\\\n",
       "\t4 & 2496 & 0x0EEBFC360E251DD76E174F2E77C9F94B & 1 & 23058 & 0xB2E0F11027E5BED71F0A7522909A82E5 & $\\dots$ \\\\\n",
       "\t5 & 10583 & 0x08F0B95FD319FA1A0AAF7A4026C6FC57 & 5 & 22876 & 0x0E5174DF8B8FDFF3A3B4A6DA534C4D23 & $\\dots$ \\\\\n",
       "\t6 & 2493 & 0x62913A81BB0D8572105C4F6AE0FB4FAB & 1 & 23055 & 0xB2E0F11027E5BED71F0A7522909A82E5 & $\\dots$ \\\\\n",
       "\t7 & 3010 & 0x2B69F2E81CC22760EAD0489D372CDA72 & 1 & 16936 & 0x53561B76F369CF1A9078EBB86BA57B02 & $\\dots$ \\\\\n",
       "\t8 & 7971 & 0x391D84E6378D8A29B1911A144F7E00CC & 1 & 17106 & 0x5818659E035F675B37279D80A51F6DC1 & $\\dots$ \\\\\n",
       "\t9 & 186 & 0x968B2A08F4E829F662DD18762E80B8EC & 1 & 18767 & 0x396460EBE8CCC4671276C7FE8C3F4DF8 & $\\dots$ \\\\\n",
       "\t10 & 187 & 0x9357A67161AD20CD97C2A2D8492DFC36 & 1 & 18768 & 0x396460EBE8CCC4671276C7FE8C3F4DF8 & $\\dots$ \\\\\n",
       "\t11 & 188 & 0x796B6DC533269647B045DF955BD9C301 & 1 & 18769 & 0x396460EBE8CCC4671276C7FE8C3F4DF8 & $\\dots$ \\\\\n",
       "\t12 & 11880 & 0xF4E79E2CA82E61395D9ADBD438F8D565 & 1 & 22917 & 0x0E5174DF8B8FDFF3A3B4A6DA534C4D23 & $\\dots$ \\\\\n",
       "\t13 & 2465 & 0x09939B5FE2F4977594AEA7417BD4D2B5 & 1 & 23027 & 0xB2E0F11027E5BED71F0A7522909A82E5 & $\\dots$ \\\\\n",
       "\t14 & 2509 & 0x3279714B29FE0EAB82DF5557C40E4D1B & 1 & 23071 & 0xB2E0F11027E5BED71F0A7522909A82E5 & $\\dots$ \\\\\n",
       "\t15 & 12081 & 0x4D062B6B6CCECEEAB7F0A89B100D7E0F & 3 & 22943 & 0x0E5174DF8B8FDFF3A3B4A6DA534C4D23 & $\\dots$ \\\\\n",
       "\t16 & 2463 & 0xC506C86F11E33DDEF666C74F34700FAE & 1 & 23025 & 0xB2E0F11027E5BED71F0A7522909A82E5 & $\\dots$ \\\\\n",
       "\t17 & 5410 & 0xBB81612DFADD044A371528C82A2F2071 & 1 & 19018 & 0x3DFA46647C50EB7FE8D1330072A68044 & $\\dots$ \\\\\n",
       "\t18 & 11873 & 0x7AD5C3D0EB3CE264C83F1B954097604F & 1 & 22910 & 0x0E5174DF8B8FDFF3A3B4A6DA534C4D23 & $\\dots$ \\\\\n",
       "\t19 & 12080 & 0x38019F3F450A003E19B7A8D3DF93A56D & 3 & 22942 & 0x0E5174DF8B8FDFF3A3B4A6DA534C4D23 & $\\dots$ \\\\\n",
       "\t20 & 1785 & 0x779DB0C7757E86BB086F1A9F03223F4F & 4 & 22780 & 0x0E5174DF8B8FDFF3A3B4A6DA534C4D23 & $\\dots$ \\\\\n",
       "\t21 & 8490 & 0x5E00F5623BD93AE8DB5A01D504AED126 & 1 & 22984 & 0x6ABA6F31BB456000200DE3714A1017DC & $\\dots$ \\\\\n",
       "\t22 & 4371 & 0x670DCE1BA5FA4D7A36356238956342E4 & 4 & 21567 & 0xE352A886F21620182675903C716298F7 & $\\dots$ \\\\\n",
       "\t23 & 4372 & 0x353A63BF8E79CA14CDE861B9F5E2EEB2 & 4 & 21568 & 0xE352A886F21620182675903C716298F7 & $\\dots$ \\\\\n",
       "\t24 & 9341 & 0x4B3FF7C1B89F063167525056268EF8EB & 1 & 24669 & 0x2F660598561D522171890B2EE10351AD & $\\dots$ \\\\\n",
       "\t$\\dots$ & $\\dots$ & $\\dots$ & $\\dots$ & $\\dots$ & $\\dots$ &  \\\\\n",
       "\\end{tabular}\n"
      ],
      "text/plain": [
       "\u001b[1m146×13 DataFrame\u001b[0m\n",
       "\u001b[1m Row \u001b[0m│\u001b[1m UnitID \u001b[0m\u001b[1m AliasID                           \u001b[0m\u001b[1m CommercialDT_grp \u001b[0m\u001b[1m ID_SK \u001b[0m\u001b[1m NER\u001b[0m ⋯\n",
       "     │\u001b[90m Any    \u001b[0m\u001b[90m Any                               \u001b[0m\u001b[90m Any              \u001b[0m\u001b[90m Any   \u001b[0m\u001b[90m Any\u001b[0m ⋯\n",
       "─────┼──────────────────────────────────────────────────────────────────────────\n",
       "   1 │ 3009    0xAFFAEAA4F1A21A6726FCD1AB86AD58…  1                 16935  0x5 ⋯\n",
       "   2 │ 1       0xC92C0BABDC764D8674BCEA14A55D86…  3                 12664  0xD\n",
       "   3 │ 167     0x66B52E915FD1FA80AF777CF2570A71…  1                 18748  0x3\n",
       "   4 │ 2496    0x0EEBFC360E251DD76E174F2E77C9F9…  1                 23058  0xB\n",
       "   5 │ 10583   0x08F0B95FD319FA1A0AAF7A4026C6FC…  5                 22876  0x0 ⋯\n",
       "   6 │ 2493    0x62913A81BB0D8572105C4F6AE0FB4F…  1                 23055  0xB\n",
       "   7 │ 3010    0x2B69F2E81CC22760EAD0489D372CDA…  1                 16936  0x5\n",
       "   8 │ 7971    0x391D84E6378D8A29B1911A144F7E00…  1                 17106  0x5\n",
       "  ⋮  │   ⋮                     ⋮                         ⋮            ⋮        ⋱\n",
       " 140 │ 10191   0x08D7241B10D435E1A002E0CFF14AC8…  4                 22868  0x0 ⋯\n",
       " 141 │ 2508    0x399A9DBEFF8906EF70EDEEA49129FA…  1                 23070  0xB\n",
       " 142 │ 6301    0x34EAD9A35C05E6886117CFF71A5311…  1                 25997  0x9\n",
       " 143 │ 7016    0x2ABFDE02A92BD6C50938EDB6AF42EC…  1                 34271  0x6\n",
       " 144 │ 7687    0x115084C48EB76E6523695B4520ABA4…  1                 30228  0x7 ⋯\n",
       " 145 │ 9281    0xA863ED73CC80374F14C8F5DEA53E63…  3                 30876  0xC\n",
       " 146 │ 8157    0xE4C8E8A2721BAA537584772C1F6442…  3                 31446  0xE\n",
       "\u001b[36m                                                  9 columns and 131 rows omitted\u001b[0m"
      ]
     },
     "metadata": {},
     "output_type": "display_data"
    }
   ],
   "source": [
    "event_gen_ids = unique(merged[!, \"UnitID\"])\n",
    "all_gen_ids = unique(units[!, \"UnitID\"])\n",
    "\n",
    "not_in_event_gen_ids = setdiff(all_gen_ids, event_gen_ids)\n",
    "\n",
    "# units[units.UnitID in not_in_event_gen_ids, !]\n",
    "\n",
    "not_in_events_df = filter(row -> row[:UnitID] in not_in_event_gen_ids, units)"
   ]
  },
  {
   "cell_type": "code",
   "execution_count": 30,
   "id": "defcfc4e",
   "metadata": {},
   "outputs": [
    {
     "data": {
      "text/plain": [
       "117"
      ]
     },
     "metadata": {},
     "output_type": "display_data"
    }
   ],
   "source": [
    "a = not_in_events_df[!, :UnitRetireDT_grp]\n",
    "count(x -> true, skipmissing(a))"
   ]
  },
  {
   "cell_type": "code",
   "execution_count": 28,
   "id": "0a96d8c3",
   "metadata": {},
   "outputs": [],
   "source": [
    "gen_ids = unique(merged[!, \"UnitID\"])\n",
    "merged.CommercialDT_grp = missings(Int, nrow(merged))\n",
    "merged.RatingMW_grp = missings(Int, nrow(merged))\n",
    "merged.StateName = missings(String, nrow(merged))\n",
    "\n",
    "myDict = Dict()\n",
    "\n",
    "for u in gen_ids\n",
    "    val = units[units.UnitID .== u, :CommercialDT_grp][1]\n",
    "    vec = merged[merged.UnitID .== u, :CommercialDT_grp]\n",
    "    new_vec = fill(val, length(vec))\n",
    "    merged[merged.UnitID .== u, :CommercialDT_grp] = new_vec\n",
    "\n",
    "    val = units[units.UnitID .== u, :RatingMW_grp][1]\n",
    "    vec = merged[merged.UnitID .== u, :RatingMW_grp]\n",
    "    new_vec = fill(val, length(vec))\n",
    "    merged[merged.UnitID .== u, :RatingMW_grp] = new_vec\n",
    "\n",
    "    val = units[units.UnitID .== u, :StateName][1]\n",
    "    vec = merged[merged.UnitID .== u, :StateName]\n",
    "    new_vec = fill(val, length(vec))\n",
    "    merged[merged.UnitID .== u, :StateName] = new_vec\n",
    "\n",
    "    myDict[u] = merged[merged.UnitID .== u, :]\n",
    "end"
   ]
  },
  {
   "cell_type": "code",
   "execution_count": 32,
   "id": "7361882c",
   "metadata": {},
   "outputs": [],
   "source": [
    "for u in gen_ids\n",
    "    df = myDict[u]\n",
    "    unit_type_code = df[1, :UnitTypeCode]\n",
    "    commercial_dt_grp = df[1, :CommercialDT_grp]\n",
    "    state_name = df[1, :StateName]\n",
    "    rating = df[1, :RatingMW_grp]\n",
    "\n",
    "    fname = @sprintf \"gen_%d_type_%d_dtgrp_%d_rating_%d_state_%s_raw.csv\" u unit_type_code commercial_dt_grp rating state_name\n",
    "    path = joinpath(homedir(), \"research\", \"GADS_Processed\", \"raw_data\", fname)\n",
    "    CSV.write(path, df)\n",
    "end"
   ]
  },
  {
   "cell_type": "code",
   "execution_count": null,
   "id": "8bc63ef6",
   "metadata": {},
   "outputs": [],
   "source": []
  }
 ],
 "metadata": {
  "kernelspec": {
   "display_name": "Julia 1.11.3",
   "language": "julia",
   "name": "julia-1.11"
  },
  "language_info": {
   "file_extension": ".jl",
   "mimetype": "application/julia",
   "name": "julia",
   "version": "1.11.3"
  }
 },
 "nbformat": 4,
 "nbformat_minor": 5
}
