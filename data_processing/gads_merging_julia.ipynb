{
 "cells": [
  {
   "cell_type": "code",
   "execution_count": 1,
   "id": "f45ad1ab",
   "metadata": {},
   "outputs": [],
   "source": [
    "using Printf, CSV, DataFrames, Statistics, Glob, XLSX"
   ]
  },
  {
   "cell_type": "code",
   "execution_count": 2,
   "id": "d0235ce0",
   "metadata": {},
   "outputs": [
    {
     "data": {
      "text/html": [
       "<div><div style = \"float: left;\"><span>5536842×6 DataFrame</span></div><div style = \"float: right;\"><span style = \"font-style: italic;\">5536817 rows omitted</span></div><div style = \"clear: both;\"></div></div><div class = \"data-frame\" style = \"overflow-x: scroll;\"><table class = \"data-frame\" style = \"margin-bottom: 6px;\"><thead><tr class = \"header\"><th class = \"rowNumber\" style = \"font-weight: bold; text-align: right;\">Row</th><th style = \"text-align: left;\">EventEndDT</th><th style = \"text-align: left;\">EventStartDT</th><th style = \"text-align: left;\">EventTypeCode</th><th style = \"text-align: left;\">OutageContinuationFlag</th><th style = \"text-align: left;\">UnitID</th><th style = \"text-align: left;\">UnitTypeCode</th></tr><tr class = \"subheader headerLastRow\"><th class = \"rowNumber\" style = \"font-weight: bold; text-align: right;\"></th><th title = \"String31\" style = \"text-align: left;\">String31</th><th title = \"Dates.DateTime\" style = \"text-align: left;\">DateTime</th><th title = \"String3\" style = \"text-align: left;\">String3</th><th title = \"Int64\" style = \"text-align: left;\">Int64</th><th title = \"Int64\" style = \"text-align: left;\">Int64</th><th title = \"Int64\" style = \"text-align: left;\">Int64</th></tr></thead><tbody><tr><td class = \"rowNumber\" style = \"font-weight: bold; text-align: right;\">1</td><td style = \"text-align: left;\">2013-01-05T06:54:00.0</td><td style = \"text-align: left;\">2013-01-01T04:00:00</td><td style = \"text-align: left;\">RS</td><td style = \"text-align: right;\">2</td><td style = \"text-align: right;\">5408</td><td style = \"text-align: right;\">100</td></tr><tr><td class = \"rowNumber\" style = \"font-weight: bold; text-align: right;\">2</td><td style = \"text-align: left;\">2013-01-02T22:16:00.0</td><td style = \"text-align: left;\">2013-01-01T04:00:00</td><td style = \"text-align: left;\">RS</td><td style = \"text-align: right;\">2</td><td style = \"text-align: right;\">5423</td><td style = \"text-align: right;\">500</td></tr><tr><td class = \"rowNumber\" style = \"font-weight: bold; text-align: right;\">3</td><td style = \"text-align: left;\">2013-01-02T22:21:00.0</td><td style = \"text-align: left;\">2013-01-01T04:00:00</td><td style = \"text-align: left;\">RS</td><td style = \"text-align: right;\">2</td><td style = \"text-align: right;\">5424</td><td style = \"text-align: right;\">500</td></tr><tr><td class = \"rowNumber\" style = \"font-weight: bold; text-align: right;\">4</td><td style = \"text-align: left;\">2013-01-12T22:05:00.0</td><td style = \"text-align: left;\">2013-01-01T04:00:00</td><td style = \"text-align: left;\">RS</td><td style = \"text-align: right;\">2</td><td style = \"text-align: right;\">5427</td><td style = \"text-align: right;\">500</td></tr><tr><td class = \"rowNumber\" style = \"font-weight: bold; text-align: right;\">5</td><td style = \"text-align: left;\">2013-01-26T19:10:00.0</td><td style = \"text-align: left;\">2013-01-01T04:00:00</td><td style = \"text-align: left;\">RS</td><td style = \"text-align: right;\">2</td><td style = \"text-align: right;\">5415</td><td style = \"text-align: right;\">300</td></tr><tr><td class = \"rowNumber\" style = \"font-weight: bold; text-align: right;\">6</td><td style = \"text-align: left;\">2013-01-28T17:16:00.0</td><td style = \"text-align: left;\">2013-01-01T04:00:00</td><td style = \"text-align: left;\">RS</td><td style = \"text-align: right;\">2</td><td style = \"text-align: right;\">11240</td><td style = \"text-align: right;\">300</td></tr><tr><td class = \"rowNumber\" style = \"font-weight: bold; text-align: right;\">7</td><td style = \"text-align: left;\">2013-01-02T20:57:00.0</td><td style = \"text-align: left;\">2013-01-01T04:00:00</td><td style = \"text-align: left;\">RS</td><td style = \"text-align: right;\">2</td><td style = \"text-align: right;\">5426</td><td style = \"text-align: right;\">500</td></tr><tr><td class = \"rowNumber\" style = \"font-weight: bold; text-align: right;\">8</td><td style = \"text-align: left;\">2013-02-01T04:00:00.0</td><td style = \"text-align: left;\">2013-01-01T04:00:00</td><td style = \"text-align: left;\">RS</td><td style = \"text-align: right;\">2</td><td style = \"text-align: right;\">5420</td><td style = \"text-align: right;\">300</td></tr><tr><td class = \"rowNumber\" style = \"font-weight: bold; text-align: right;\">9</td><td style = \"text-align: left;\">2013-01-01T18:52:00.0</td><td style = \"text-align: left;\">2013-01-01T04:00:00</td><td style = \"text-align: left;\">RS</td><td style = \"text-align: right;\">2</td><td style = \"text-align: right;\">5407</td><td style = \"text-align: right;\">100</td></tr><tr><td class = \"rowNumber\" style = \"font-weight: bold; text-align: right;\">10</td><td style = \"text-align: left;\">2013-02-01T04:00:00.0</td><td style = \"text-align: left;\">2013-01-01T04:00:00</td><td style = \"text-align: left;\">RS</td><td style = \"text-align: right;\">2</td><td style = \"text-align: right;\">5417</td><td style = \"text-align: right;\">300</td></tr><tr><td class = \"rowNumber\" style = \"font-weight: bold; text-align: right;\">11</td><td style = \"text-align: left;\">2013-01-14T04:02:00.0</td><td style = \"text-align: left;\">2013-01-01T04:00:00</td><td style = \"text-align: left;\">D1</td><td style = \"text-align: right;\">2</td><td style = \"text-align: right;\">5414</td><td style = \"text-align: right;\">200</td></tr><tr><td class = \"rowNumber\" style = \"font-weight: bold; text-align: right;\">12</td><td style = \"text-align: left;\">2013-02-01T04:00:00.0</td><td style = \"text-align: left;\">2013-01-01T04:00:00</td><td style = \"text-align: left;\">RS</td><td style = \"text-align: right;\">2</td><td style = \"text-align: right;\">5406</td><td style = \"text-align: right;\">100</td></tr><tr><td class = \"rowNumber\" style = \"font-weight: bold; text-align: right;\">13</td><td style = \"text-align: left;\">2013-02-01T04:00:00.0</td><td style = \"text-align: left;\">2013-01-01T04:00:00</td><td style = \"text-align: left;\">RS</td><td style = \"text-align: right;\">2</td><td style = \"text-align: right;\">5418</td><td style = \"text-align: right;\">300</td></tr><tr><td style = \"text-align: right;\">&vellip;</td><td style = \"text-align: right;\">&vellip;</td><td style = \"text-align: right;\">&vellip;</td><td style = \"text-align: right;\">&vellip;</td><td style = \"text-align: right;\">&vellip;</td><td style = \"text-align: right;\">&vellip;</td><td style = \"text-align: right;\">&vellip;</td></tr><tr><td class = \"rowNumber\" style = \"font-weight: bold; text-align: right;\">5536831</td><td style = \"text-align: left;\">2024-01-01T08:00:00.0</td><td style = \"text-align: left;\">2024-01-01T06:52:00</td><td style = \"text-align: left;\">RS</td><td style = \"text-align: right;\">1</td><td style = \"text-align: right;\">6759</td><td style = \"text-align: right;\">500</td></tr><tr><td class = \"rowNumber\" style = \"font-weight: bold; text-align: right;\">5536832</td><td style = \"text-align: left;\">2024-01-01T08:00:00.0</td><td style = \"text-align: left;\">2024-01-01T06:54:00</td><td style = \"text-align: left;\">RS</td><td style = \"text-align: right;\">1</td><td style = \"text-align: right;\">9058</td><td style = \"text-align: right;\">500</td></tr><tr><td class = \"rowNumber\" style = \"font-weight: bold; text-align: right;\">5536833</td><td style = \"text-align: left;\">2024-01-01T07:00:00.0</td><td style = \"text-align: left;\">2024-01-01T06:59:00</td><td style = \"text-align: left;\">RS</td><td style = \"text-align: right;\">1</td><td style = \"text-align: right;\">714</td><td style = \"text-align: right;\">300</td></tr><tr><td class = \"rowNumber\" style = \"font-weight: bold; text-align: right;\">5536834</td><td style = \"text-align: left;\">2024-01-01T08:00:00.0</td><td style = \"text-align: left;\">2024-01-01T07:00:00</td><td style = \"text-align: left;\">RS</td><td style = \"text-align: right;\">1</td><td style = \"text-align: right;\">8987</td><td style = \"text-align: right;\">500</td></tr><tr><td class = \"rowNumber\" style = \"font-weight: bold; text-align: right;\">5536835</td><td style = \"text-align: left;\">2024-01-01T08:00:00.0</td><td style = \"text-align: left;\">2024-01-01T07:00:00</td><td style = \"text-align: left;\">RS</td><td style = \"text-align: right;\">1</td><td style = \"text-align: right;\">9012</td><td style = \"text-align: right;\">500</td></tr><tr><td class = \"rowNumber\" style = \"font-weight: bold; text-align: right;\">5536836</td><td style = \"text-align: left;\">2024-01-01T08:00:00.0</td><td style = \"text-align: left;\">2024-01-01T07:01:00</td><td style = \"text-align: left;\">RS</td><td style = \"text-align: right;\">1</td><td style = \"text-align: right;\">9867</td><td style = \"text-align: right;\">500</td></tr><tr><td class = \"rowNumber\" style = \"font-weight: bold; text-align: right;\">5536837</td><td style = \"text-align: left;\">2024-01-01T08:00:00.0</td><td style = \"text-align: left;\">2024-01-01T07:03:00</td><td style = \"text-align: left;\">RS</td><td style = \"text-align: right;\">1</td><td style = \"text-align: right;\">9164</td><td style = \"text-align: right;\">500</td></tr><tr><td class = \"rowNumber\" style = \"font-weight: bold; text-align: right;\">5536838</td><td style = \"text-align: left;\">2024-01-01T08:00:00.0</td><td style = \"text-align: left;\">2024-01-01T07:08:00</td><td style = \"text-align: left;\">RS</td><td style = \"text-align: right;\">1</td><td style = \"text-align: right;\">4465</td><td style = \"text-align: right;\">300</td></tr><tr><td class = \"rowNumber\" style = \"font-weight: bold; text-align: right;\">5536839</td><td style = \"text-align: left;\">2024-01-01T08:00:00.0</td><td style = \"text-align: left;\">2024-01-01T07:08:00</td><td style = \"text-align: left;\">RS</td><td style = \"text-align: right;\">1</td><td style = \"text-align: right;\">9018</td><td style = \"text-align: right;\">500</td></tr><tr><td class = \"rowNumber\" style = \"font-weight: bold; text-align: right;\">5536840</td><td style = \"text-align: left;\">2024-01-01T08:00:00.0</td><td style = \"text-align: left;\">2024-01-01T07:48:00</td><td style = \"text-align: left;\">RS</td><td style = \"text-align: right;\">1</td><td style = \"text-align: right;\">9043</td><td style = \"text-align: right;\">500</td></tr><tr><td class = \"rowNumber\" style = \"font-weight: bold; text-align: right;\">5536841</td><td style = \"text-align: left;\">2024-01-01T08:00:00.0</td><td style = \"text-align: left;\">2024-01-01T07:59:00</td><td style = \"text-align: left;\">RS</td><td style = \"text-align: right;\">1</td><td style = \"text-align: right;\">11108</td><td style = \"text-align: right;\">500</td></tr><tr><td class = \"rowNumber\" style = \"font-weight: bold; text-align: right;\">5536842</td><td style = \"text-align: left;\">2024-01-01T10:00:00.0</td><td style = \"text-align: left;\">2024-01-01T09:01:00</td><td style = \"text-align: left;\">MO</td><td style = \"text-align: right;\">1</td><td style = \"text-align: right;\">9751</td><td style = \"text-align: right;\">100</td></tr></tbody></table></div>"
      ],
      "text/latex": [
       "\\begin{tabular}{r|ccccc}\n",
       "\t& EventEndDT & EventStartDT & EventTypeCode & OutageContinuationFlag & \\\\\n",
       "\t\\hline\n",
       "\t& String31 & DateTime & String3 & Int64 & \\\\\n",
       "\t\\hline\n",
       "\t1 & 2013-01-05T06:54:00.0 & 2013-01-01T04:00:00 & RS & 2 & $\\dots$ \\\\\n",
       "\t2 & 2013-01-02T22:16:00.0 & 2013-01-01T04:00:00 & RS & 2 & $\\dots$ \\\\\n",
       "\t3 & 2013-01-02T22:21:00.0 & 2013-01-01T04:00:00 & RS & 2 & $\\dots$ \\\\\n",
       "\t4 & 2013-01-12T22:05:00.0 & 2013-01-01T04:00:00 & RS & 2 & $\\dots$ \\\\\n",
       "\t5 & 2013-01-26T19:10:00.0 & 2013-01-01T04:00:00 & RS & 2 & $\\dots$ \\\\\n",
       "\t6 & 2013-01-28T17:16:00.0 & 2013-01-01T04:00:00 & RS & 2 & $\\dots$ \\\\\n",
       "\t7 & 2013-01-02T20:57:00.0 & 2013-01-01T04:00:00 & RS & 2 & $\\dots$ \\\\\n",
       "\t8 & 2013-02-01T04:00:00.0 & 2013-01-01T04:00:00 & RS & 2 & $\\dots$ \\\\\n",
       "\t9 & 2013-01-01T18:52:00.0 & 2013-01-01T04:00:00 & RS & 2 & $\\dots$ \\\\\n",
       "\t10 & 2013-02-01T04:00:00.0 & 2013-01-01T04:00:00 & RS & 2 & $\\dots$ \\\\\n",
       "\t11 & 2013-01-14T04:02:00.0 & 2013-01-01T04:00:00 & D1 & 2 & $\\dots$ \\\\\n",
       "\t12 & 2013-02-01T04:00:00.0 & 2013-01-01T04:00:00 & RS & 2 & $\\dots$ \\\\\n",
       "\t13 & 2013-02-01T04:00:00.0 & 2013-01-01T04:00:00 & RS & 2 & $\\dots$ \\\\\n",
       "\t14 & 2013-01-26T19:10:00.0 & 2013-01-01T04:00:00 & RS & 2 & $\\dots$ \\\\\n",
       "\t15 & 2013-03-15T19:00:00.0 & 2013-01-01T04:00:00 & D1 & 0 & $\\dots$ \\\\\n",
       "\t16 & 2013-01-02T21:21:00.0 & 2013-01-01T04:01:00 & RS & 0 & $\\dots$ \\\\\n",
       "\t17 & 2013-01-02T21:21:00.0 & 2013-01-01T04:01:00 & RS & 0 & $\\dots$ \\\\\n",
       "\t18 & 2013-01-01T16:21:00.0 & 2013-01-01T04:01:00 & PO & 0 & $\\dots$ \\\\\n",
       "\t19 & 2013-03-16T14:33:00.0 & 2013-01-01T04:01:00 & PO & 0 & $\\dots$ \\\\\n",
       "\t20 & 2013-01-01T05:05:00.0 & 2013-01-01T04:01:00 & RS & 0 & $\\dots$ \\\\\n",
       "\t21 & 2013-01-06T09:26:00.0 & 2013-01-01T04:01:00 & U3 & 0 & $\\dots$ \\\\\n",
       "\t22 & 2013-01-02T17:52:00.0 & 2013-01-01T04:01:00 & RS & 0 & $\\dots$ \\\\\n",
       "\t23 & 2013-01-02T18:00:00.0 & 2013-01-01T04:01:00 & RS & 0 & $\\dots$ \\\\\n",
       "\t24 & 2013-01-04T06:20:00.0 & 2013-01-01T04:01:00 & D1 & 0 & $\\dots$ \\\\\n",
       "\t$\\dots$ & $\\dots$ & $\\dots$ & $\\dots$ & $\\dots$ &  \\\\\n",
       "\\end{tabular}\n"
      ],
      "text/plain": [
       "\u001b[1m5536842×6 DataFrame\u001b[0m\n",
       "\u001b[1m     Row \u001b[0m│\u001b[1m EventEndDT            \u001b[0m\u001b[1m EventStartDT        \u001b[0m\u001b[1m EventTypeCode \u001b[0m\u001b[1m OutageCo\u001b[0m ⋯\n",
       "         │\u001b[90m String31              \u001b[0m\u001b[90m DateTime            \u001b[0m\u001b[90m String3       \u001b[0m\u001b[90m Int64   \u001b[0m ⋯\n",
       "─────────┼──────────────────────────────────────────────────────────────────────\n",
       "       1 │ 2013-01-05T06:54:00.0  2013-01-01T04:00:00  RS                      ⋯\n",
       "       2 │ 2013-01-02T22:16:00.0  2013-01-01T04:00:00  RS\n",
       "       3 │ 2013-01-02T22:21:00.0  2013-01-01T04:00:00  RS\n",
       "       4 │ 2013-01-12T22:05:00.0  2013-01-01T04:00:00  RS\n",
       "       5 │ 2013-01-26T19:10:00.0  2013-01-01T04:00:00  RS                      ⋯\n",
       "       6 │ 2013-01-28T17:16:00.0  2013-01-01T04:00:00  RS\n",
       "       7 │ 2013-01-02T20:57:00.0  2013-01-01T04:00:00  RS\n",
       "       8 │ 2013-02-01T04:00:00.0  2013-01-01T04:00:00  RS\n",
       "    ⋮    │           ⋮                     ⋮                 ⋮                 ⋱\n",
       " 5536836 │ 2024-01-01T08:00:00.0  2024-01-01T07:01:00  RS                      ⋯\n",
       " 5536837 │ 2024-01-01T08:00:00.0  2024-01-01T07:03:00  RS\n",
       " 5536838 │ 2024-01-01T08:00:00.0  2024-01-01T07:08:00  RS\n",
       " 5536839 │ 2024-01-01T08:00:00.0  2024-01-01T07:08:00  RS\n",
       " 5536840 │ 2024-01-01T08:00:00.0  2024-01-01T07:48:00  RS                      ⋯\n",
       " 5536841 │ 2024-01-01T08:00:00.0  2024-01-01T07:59:00  RS\n",
       " 5536842 │ 2024-01-01T10:00:00.0  2024-01-01T09:01:00  MO\n",
       "\u001b[36m                                              3 columns and 5536827 rows omitted\u001b[0m"
      ]
     },
     "metadata": {},
     "output_type": "display_data"
    }
   ],
   "source": [
    "directory = joinpath(homedir(), \"research\", \"GADS\", \"Events\")\n",
    "files = glob(\"*.csv\", directory)\n",
    "x = Dict()\n",
    "i = 1\n",
    "for f in files\n",
    "    df = DataFrame(CSV.File(f, select=[\"EventStartDT\", \"EventEndDT\", \"UnitID\", \"UnitTypeCode\", \"EventTypeCode\", \"OutageContinuationFlag\"]))\n",
    "    x[i] = df\n",
    "    i +=1\n",
    "end\n",
    "merged = reduce(vcat, values(x))\n",
    "sort!(merged, :EventStartDT)"
   ]
  },
  {
   "cell_type": "code",
   "execution_count": 3,
   "id": "f82e2776",
   "metadata": {},
   "outputs": [],
   "source": [
    "fname = joinpath(homedir(), \"research\", \"GADS\", \"GADS_Unit_2023_20240422.xlsx\")\n",
    "units = DataFrame(XLSX.readtable(fname, \"Sheet1\"));"
   ]
  },
  {
   "cell_type": "code",
   "execution_count": 4,
   "id": "34d1a061",
   "metadata": {},
   "outputs": [],
   "source": [
    "# event_gen_ids = unique(merged[!, \"UnitID\"])\n",
    "# all_gen_ids = unique(units[!, \"UnitID\"])\n",
    "\n",
    "# not_in_event_gen_ids = setdiff(all_gen_ids, event_gen_ids)\n",
    "\n",
    "# units[units.UnitID in not_in_event_gen_ids, !]\n",
    "\n",
    "# not_in_events_df = filter(row -> row[:UnitID] in not_in_event_gen_ids, units)\n",
    "\n",
    "# a = not_in_events_df[!, :UnitRetireDT_grp]\n",
    "# count(x -> true, skipmissing(a))"
   ]
  },
  {
   "cell_type": "code",
   "execution_count": 9,
   "id": "2121f1bd",
   "metadata": {},
   "outputs": [
    {
     "data": {
      "text/html": [
       "<div><div style = \"float: left;\"><span>7196×13 DataFrame</span></div><div style = \"float: right;\"><span style = \"font-style: italic;\">7171 rows omitted</span></div><div style = \"clear: both;\"></div></div><div class = \"data-frame\" style = \"overflow-x: scroll;\"><table class = \"data-frame\" style = \"margin-bottom: 6px;\"><thead><tr class = \"header\"><th class = \"rowNumber\" style = \"font-weight: bold; text-align: right;\">Row</th><th style = \"text-align: left;\">UnitID</th><th style = \"text-align: left;\">AliasID</th><th style = \"text-align: left;\">CommercialDT_grp</th><th style = \"text-align: left;\">ID_SK</th><th style = \"text-align: left;\">NERCID_AliasID</th><th style = \"text-align: left;\">RatingMW_grp</th><th style = \"text-align: left;\">RegionCode</th><th style = \"text-align: left;\">StateName</th><th style = \"text-align: left;\">UnitRetireDT_grp</th><th style = \"text-align: left;\">UnitTimeZoneCode</th><th style = \"text-align: left;\">UnitTypeCode</th><th style = \"text-align: left;\">UnitTypeCodeDesc</th><th style = \"text-align: left;\">RatingMW_BrochureGroup</th></tr><tr class = \"subheader headerLastRow\"><th class = \"rowNumber\" style = \"font-weight: bold; text-align: right;\"></th><th title = \"Any\" style = \"text-align: left;\">Any</th><th title = \"Any\" style = \"text-align: left;\">Any</th><th title = \"Any\" style = \"text-align: left;\">Any</th><th title = \"Any\" style = \"text-align: left;\">Any</th><th title = \"Any\" style = \"text-align: left;\">Any</th><th title = \"Any\" style = \"text-align: left;\">Any</th><th title = \"Any\" style = \"text-align: left;\">Any</th><th title = \"Any\" style = \"text-align: left;\">Any</th><th title = \"Any\" style = \"text-align: left;\">Any</th><th title = \"Any\" style = \"text-align: left;\">Any</th><th title = \"Any\" style = \"text-align: left;\">Any</th><th title = \"Any\" style = \"text-align: left;\">Any</th><th title = \"Any\" style = \"text-align: left;\">Any</th></tr></thead><tbody><tr><td class = \"rowNumber\" style = \"font-weight: bold; text-align: right;\">1</td><td style = \"text-align: left;\">5050</td><td style = \"text-align: left;\">0x97B421A0918CC799265B9E89118BA60B</td><td style = \"text-align: left;\">1</td><td style = \"text-align: left;\">12047</td><td style = \"text-align: left;\">0xE8E5E322646F435388EEEE255A077D67</td><td style = \"text-align: left;\">3</td><td style = \"text-align: left;\">TRE</td><td style = \"text-align: left;\">Texas</td><td style = \"text-align: left;\">Retired</td><td style = \"text-align: left;\">CPT</td><td style = \"text-align: left;\">100</td><td style = \"text-align: left;\">Fossil-Steam</td><td style = \"text-align: left;\">400-599</td></tr><tr><td class = \"rowNumber\" style = \"font-weight: bold; text-align: right;\">2</td><td style = \"text-align: left;\">5052</td><td style = \"text-align: left;\">0x4F45850F285D33C649CB2660E311C785</td><td style = \"text-align: left;\">1</td><td style = \"text-align: left;\">12049</td><td style = \"text-align: left;\">0xE8E5E322646F435388EEEE255A077D67</td><td style = \"text-align: left;\">3</td><td style = \"text-align: left;\">TRE</td><td style = \"text-align: left;\">Texas</td><td style = \"text-align: left;\">Retired</td><td style = \"text-align: left;\">CPT</td><td style = \"text-align: left;\">100</td><td style = \"text-align: left;\">Fossil-Steam</td><td style = \"text-align: left;\">800+</td></tr><tr><td class = \"rowNumber\" style = \"font-weight: bold; text-align: right;\">3</td><td style = \"text-align: left;\">11835</td><td style = \"text-align: left;\">0xC5AC4AB466AF63C98BB7521CE68A62DC</td><td style = \"text-align: left;\">5</td><td style = \"text-align: left;\">12186</td><td style = \"text-align: left;\">0xE45673082C83B4124005C54A93ABC8E5</td><td style = \"text-align: left;\">3</td><td style = \"text-align: left;\">SERC</td><td style = \"text-align: left;\">Mississippi</td><td style = \"font-style: italic; text-align: left;\">missing</td><td style = \"text-align: left;\">CPT</td><td style = \"text-align: left;\">850</td><td style = \"text-align: left;\">Combined Cycle Block</td><td style = \"text-align: left;\">All</td></tr><tr><td class = \"rowNumber\" style = \"font-weight: bold; text-align: right;\">4</td><td style = \"text-align: left;\">4773</td><td style = \"text-align: left;\">0x8C5A80F096D4D3C55EAEB512D0FD0CDC</td><td style = \"text-align: left;\">3</td><td style = \"text-align: left;\">12195</td><td style = \"text-align: left;\">0xCF0E398F6F1BAC73B41A0CB6B3967BE5</td><td style = \"text-align: left;\">2</td><td style = \"text-align: left;\">SERC</td><td style = \"text-align: left;\">Kentucky</td><td style = \"font-style: italic; text-align: left;\">missing</td><td style = \"text-align: left;\">EST</td><td style = \"text-align: left;\">300</td><td style = \"text-align: left;\">Gas Turbine/Jet Engine (Simple Cycle Operation)</td><td style = \"text-align: left;\">50+</td></tr><tr><td class = \"rowNumber\" style = \"font-weight: bold; text-align: right;\">5</td><td style = \"text-align: left;\">12295</td><td style = \"text-align: left;\">0x281D8C92796753B548725105E2037D59</td><td style = \"text-align: left;\">2</td><td style = \"text-align: left;\">12328</td><td style = \"text-align: left;\">0xE42F8966B0CDB3D578D436CFDA61B29A</td><td style = \"text-align: left;\">1</td><td style = \"text-align: left;\">WECC</td><td style = \"text-align: left;\">California</td><td style = \"font-style: italic; text-align: left;\">missing</td><td style = \"text-align: left;\">PST</td><td style = \"text-align: left;\">650</td><td style = \"text-align: left;\">Fluidized Bed</td><td style = \"text-align: left;\">All</td></tr><tr><td class = \"rowNumber\" style = \"font-weight: bold; text-align: right;\">6</td><td style = \"text-align: left;\">12264</td><td style = \"text-align: left;\">0xB67AA6AAB6FCE01DA1762229B6482EB2</td><td style = \"text-align: left;\">5</td><td style = \"text-align: left;\">12483</td><td style = \"text-align: left;\">0xD3E3BDBE360C63F3E927FFE438357FAC</td><td style = \"text-align: left;\">3</td><td style = \"text-align: left;\">SERC</td><td style = \"text-align: left;\">Kentucky</td><td style = \"font-style: italic; text-align: left;\">missing</td><td style = \"text-align: left;\">EPT</td><td style = \"text-align: left;\">852</td><td style = \"text-align: left;\">CC steam units</td><td style = \"text-align: left;\">All</td></tr><tr><td class = \"rowNumber\" style = \"font-weight: bold; text-align: right;\">7</td><td style = \"text-align: left;\">287</td><td style = \"text-align: left;\">0x0FF9D5C271BF9EA95253A94AB2C31681</td><td style = \"text-align: left;\">1</td><td style = \"text-align: left;\">12506</td><td style = \"text-align: left;\">0x0C4CBDEFD4B1D0EFCF8B0B9495621A14</td><td style = \"text-align: left;\">1</td><td style = \"text-align: left;\">MRO</td><td style = \"text-align: left;\">Iowa</td><td style = \"text-align: left;\">Retired</td><td style = \"text-align: left;\">CPT</td><td style = \"text-align: left;\">100</td><td style = \"text-align: left;\">Fossil-Steam</td><td style = \"text-align: left;\">&lt;100</td></tr><tr><td class = \"rowNumber\" style = \"font-weight: bold; text-align: right;\">8</td><td style = \"text-align: left;\">5286</td><td style = \"text-align: left;\">0x66324F9FCEC968D0B1E5CD2BB8C1F32C</td><td style = \"text-align: left;\">1</td><td style = \"text-align: left;\">12564</td><td style = \"text-align: left;\">0xB135DAB6216C01F3B62F533A5FBACDE5</td><td style = \"text-align: left;\">1</td><td style = \"text-align: left;\">MRO</td><td style = \"text-align: left;\">South Dakota</td><td style = \"font-style: italic; text-align: left;\">missing</td><td style = \"text-align: left;\">CPT</td><td style = \"text-align: left;\">300</td><td style = \"text-align: left;\">Gas Turbine/Jet Engine (Simple Cycle Operation)</td><td style = \"text-align: left;\">50+</td></tr><tr><td class = \"rowNumber\" style = \"font-weight: bold; text-align: right;\">9</td><td style = \"text-align: left;\">1096</td><td style = \"text-align: left;\">0x6AB07F384BDD639EDE65CCEAE98F2EDD</td><td style = \"text-align: left;\">4</td><td style = \"text-align: left;\">12740</td><td style = \"text-align: left;\">0xACA7783C349A082F7B7AE801309E8A87</td><td style = \"text-align: left;\">1</td><td style = \"text-align: left;\">WECC</td><td style = \"text-align: left;\">Wyoming</td><td style = \"font-style: italic; text-align: left;\">missing</td><td style = \"text-align: left;\">MPT</td><td style = \"text-align: left;\">300</td><td style = \"text-align: left;\">Gas Turbine/Jet Engine (Simple Cycle Operation)</td><td style = \"text-align: left;\">&lt;50</td></tr><tr><td class = \"rowNumber\" style = \"font-weight: bold; text-align: right;\">10</td><td style = \"text-align: left;\">1669</td><td style = \"text-align: left;\">0x52B21A71DE550C4A56DEB82E40995B39</td><td style = \"text-align: left;\">4</td><td style = \"text-align: left;\">12818</td><td style = \"text-align: left;\">0xEAEC3B502BC8607550DB2D121E06BD6A</td><td style = \"text-align: left;\">1</td><td style = \"text-align: left;\">TRE</td><td style = \"text-align: left;\">Texas</td><td style = \"font-style: italic; text-align: left;\">missing</td><td style = \"text-align: left;\">CPT</td><td style = \"text-align: left;\">300</td><td style = \"text-align: left;\">Gas Turbine/Jet Engine (Simple Cycle Operation)</td><td style = \"text-align: left;\">&lt;50</td></tr><tr><td class = \"rowNumber\" style = \"font-weight: bold; text-align: right;\">11</td><td style = \"text-align: left;\">2857</td><td style = \"text-align: left;\">0x14E807903FBD06F4335333BB5D9548D0</td><td style = \"text-align: left;\">1</td><td style = \"text-align: left;\">13108</td><td style = \"text-align: left;\">0x3EB7A81A4A916415991F1222F16BEB36</td><td style = \"text-align: left;\">1</td><td style = \"text-align: left;\">RFC</td><td style = \"text-align: left;\">Illinois</td><td style = \"font-style: italic; text-align: left;\">missing</td><td style = \"text-align: left;\">CPT</td><td style = \"text-align: left;\">300</td><td style = \"text-align: left;\">Gas Turbine/Jet Engine (Simple Cycle Operation)</td><td style = \"text-align: left;\">50+</td></tr><tr><td class = \"rowNumber\" style = \"font-weight: bold; text-align: right;\">12</td><td style = \"text-align: left;\">8976</td><td style = \"text-align: left;\">0x34F4408E034B55F60EDE14B5F1D09AEC</td><td style = \"text-align: left;\">1</td><td style = \"text-align: left;\">16198</td><td style = \"text-align: left;\">0xE2FC5DB2615C2E890A30A73161D68502</td><td style = \"text-align: left;\">1</td><td style = \"text-align: left;\">WECC</td><td style = \"text-align: left;\">Oregon</td><td style = \"font-style: italic; text-align: left;\">missing</td><td style = \"text-align: left;\">PPT</td><td style = \"text-align: left;\">500</td><td style = \"text-align: left;\">Pumped Storage/Hydro</td><td style = \"text-align: left;\">30+</td></tr><tr><td class = \"rowNumber\" style = \"font-weight: bold; text-align: right;\">13</td><td style = \"text-align: left;\">8992</td><td style = \"text-align: left;\">0x84FA3E24C309F0BC7D35DB8FA0FBBDFE</td><td style = \"text-align: left;\">1</td><td style = \"text-align: left;\">16214</td><td style = \"text-align: left;\">0xE2FC5DB2615C2E890A30A73161D68502</td><td style = \"text-align: left;\">1</td><td style = \"text-align: left;\">WECC</td><td style = \"text-align: left;\">Oregon</td><td style = \"font-style: italic; text-align: left;\">missing</td><td style = \"text-align: left;\">PPT</td><td style = \"text-align: left;\">500</td><td style = \"text-align: left;\">Pumped Storage/Hydro</td><td style = \"text-align: left;\">30+</td></tr><tr><td style = \"text-align: right;\">&vellip;</td><td style = \"text-align: right;\">&vellip;</td><td style = \"text-align: right;\">&vellip;</td><td style = \"text-align: right;\">&vellip;</td><td style = \"text-align: right;\">&vellip;</td><td style = \"text-align: right;\">&vellip;</td><td style = \"text-align: right;\">&vellip;</td><td style = \"text-align: right;\">&vellip;</td><td style = \"text-align: right;\">&vellip;</td><td style = \"text-align: right;\">&vellip;</td><td style = \"text-align: right;\">&vellip;</td><td style = \"text-align: right;\">&vellip;</td><td style = \"text-align: right;\">&vellip;</td><td style = \"text-align: right;\">&vellip;</td></tr><tr><td class = \"rowNumber\" style = \"font-weight: bold; text-align: right;\">7185</td><td style = \"text-align: left;\">8803</td><td style = \"text-align: left;\">0x5CB81953C405981F77C9A9ECC227290B</td><td style = \"text-align: left;\">1</td><td style = \"text-align: left;\">29391</td><td style = \"text-align: left;\">0x54E1ED7854328AB3AEF0A7FD00F77257</td><td style = \"text-align: left;\">1</td><td style = \"text-align: left;\">WECC</td><td style = \"text-align: left;\">Washington</td><td style = \"font-style: italic; text-align: left;\">missing</td><td style = \"text-align: left;\">PPT</td><td style = \"text-align: left;\">500</td><td style = \"text-align: left;\">Pumped Storage/Hydro</td><td style = \"text-align: left;\">30+</td></tr><tr><td class = \"rowNumber\" style = \"font-weight: bold; text-align: right;\">7186</td><td style = \"text-align: left;\">8806</td><td style = \"text-align: left;\">0xA100E1A185A92D44608C7D54D5F6EC91</td><td style = \"text-align: left;\">2</td><td style = \"text-align: left;\">29394</td><td style = \"text-align: left;\">0x54E1ED7854328AB3AEF0A7FD00F77257</td><td style = \"text-align: left;\">1</td><td style = \"text-align: left;\">WECC</td><td style = \"text-align: left;\">Washington</td><td style = \"font-style: italic; text-align: left;\">missing</td><td style = \"text-align: left;\">PPT</td><td style = \"text-align: left;\">500</td><td style = \"text-align: left;\">Pumped Storage/Hydro</td><td style = \"text-align: left;\">30+</td></tr><tr><td class = \"rowNumber\" style = \"font-weight: bold; text-align: right;\">7187</td><td style = \"text-align: left;\">8824</td><td style = \"text-align: left;\">0x75C5E23918A2193692E9959408E7A090</td><td style = \"text-align: left;\">1</td><td style = \"text-align: left;\">29412</td><td style = \"text-align: left;\">0x54E1ED7854328AB3AEF0A7FD00F77257</td><td style = \"text-align: left;\">1</td><td style = \"text-align: left;\">WECC</td><td style = \"text-align: left;\">Arizona</td><td style = \"font-style: italic; text-align: left;\">missing</td><td style = \"text-align: left;\">GMT</td><td style = \"text-align: left;\">500</td><td style = \"text-align: left;\">Pumped Storage/Hydro</td><td style = \"text-align: left;\">30+</td></tr><tr><td class = \"rowNumber\" style = \"font-weight: bold; text-align: right;\">7188</td><td style = \"text-align: left;\">8831</td><td style = \"text-align: left;\">0x977C6AAF17C765173AC414D60A4FC4AF</td><td style = \"text-align: left;\">1</td><td style = \"text-align: left;\">29419</td><td style = \"text-align: left;\">0x54E1ED7854328AB3AEF0A7FD00F77257</td><td style = \"text-align: left;\">2</td><td style = \"text-align: left;\">WECC</td><td style = \"text-align: left;\">Nevada</td><td style = \"font-style: italic; text-align: left;\">missing</td><td style = \"text-align: left;\">GMT</td><td style = \"text-align: left;\">500</td><td style = \"text-align: left;\">Pumped Storage/Hydro</td><td style = \"text-align: left;\">30+</td></tr><tr><td class = \"rowNumber\" style = \"font-weight: bold; text-align: right;\">7189</td><td style = \"text-align: left;\">8880</td><td style = \"text-align: left;\">0x43CC4CC4FF93FF6564A3047E28E32FA2</td><td style = \"text-align: left;\">1</td><td style = \"text-align: left;\">29468</td><td style = \"text-align: left;\">0x54E1ED7854328AB3AEF0A7FD00F77257</td><td style = \"text-align: left;\">1</td><td style = \"text-align: left;\">WECC</td><td style = \"text-align: left;\">California</td><td style = \"font-style: italic; text-align: left;\">missing</td><td style = \"text-align: left;\">PPT</td><td style = \"text-align: left;\">500</td><td style = \"text-align: left;\">Pumped Storage/Hydro</td><td style = \"text-align: left;\">30+</td></tr><tr><td class = \"rowNumber\" style = \"font-weight: bold; text-align: right;\">7190</td><td style = \"text-align: left;\">9209</td><td style = \"text-align: left;\">0x623918963E9D6E8C6537FA386BD0293C</td><td style = \"text-align: left;\">3</td><td style = \"text-align: left;\">29516</td><td style = \"text-align: left;\">0xC6181316268F15B45353A43A903654D3</td><td style = \"text-align: left;\">3</td><td style = \"text-align: left;\">SERC</td><td style = \"text-align: left;\">Virginia</td><td style = \"font-style: italic; text-align: left;\">missing</td><td style = \"text-align: left;\">EPT</td><td style = \"text-align: left;\">100</td><td style = \"text-align: left;\">Fossil-Steam</td><td style = \"text-align: left;\">400-599</td></tr><tr><td class = \"rowNumber\" style = \"font-weight: bold; text-align: right;\">7191</td><td style = \"text-align: left;\">9255</td><td style = \"text-align: left;\">0xCD0E8DEA79030A9B7B81DCA1FBEA675C</td><td style = \"text-align: left;\">4</td><td style = \"text-align: left;\">29556</td><td style = \"text-align: left;\">0xC6181316268F15B45353A43A903654D3</td><td style = \"text-align: left;\">3</td><td style = \"text-align: left;\">SERC</td><td style = \"text-align: left;\">Virginia</td><td style = \"font-style: italic; text-align: left;\">missing</td><td style = \"text-align: left;\">EPT</td><td style = \"text-align: left;\">300</td><td style = \"text-align: left;\">Gas Turbine/Jet Engine (Simple Cycle Operation)</td><td style = \"text-align: left;\">50+</td></tr><tr><td class = \"rowNumber\" style = \"font-weight: bold; text-align: right;\">7192</td><td style = \"text-align: left;\">10886</td><td style = \"text-align: left;\">0x1FA15C6BDB140867980ECD8594D1A011</td><td style = \"text-align: left;\">1</td><td style = \"text-align: left;\">29610</td><td style = \"text-align: left;\">0x8427881BCC1AF1BAAD6106676128BEFC</td><td style = \"text-align: left;\">2</td><td style = \"text-align: left;\">MRO</td><td style = \"text-align: left;\">Manitoba</td><td style = \"font-style: italic; text-align: left;\">missing</td><td style = \"text-align: left;\">CPT</td><td style = \"text-align: left;\">500</td><td style = \"text-align: left;\">Pumped Storage/Hydro</td><td style = \"text-align: left;\">30+</td></tr><tr><td class = \"rowNumber\" style = \"font-weight: bold; text-align: right;\">7193</td><td style = \"text-align: left;\">11272</td><td style = \"text-align: left;\">0x11C9734CF4F4CD60AF390494EEA04AF3</td><td style = \"text-align: left;\">4</td><td style = \"text-align: left;\">29730</td><td style = \"text-align: left;\">0xB5E0B137270252BDAF7516673E677391</td><td style = \"text-align: left;\">2</td><td style = \"text-align: left;\">TRE</td><td style = \"text-align: left;\">Texas</td><td style = \"font-style: italic; text-align: left;\">missing</td><td style = \"text-align: left;\">CPT</td><td style = \"text-align: left;\">850</td><td style = \"text-align: left;\">Combined Cycle Block</td><td style = \"text-align: left;\">All</td></tr><tr><td class = \"rowNumber\" style = \"font-weight: bold; text-align: right;\">7194</td><td style = \"text-align: left;\">11284</td><td style = \"text-align: left;\">0xC08978B56570C0425F628A73C908FE8F</td><td style = \"text-align: left;\">1</td><td style = \"text-align: left;\">29742</td><td style = \"text-align: left;\">0x9D6BEBB597D41C993F6E615048008A30</td><td style = \"text-align: left;\">1</td><td style = \"text-align: left;\">WECC</td><td style = \"text-align: left;\">Oregon</td><td style = \"font-style: italic; text-align: left;\">missing</td><td style = \"text-align: left;\">PPT</td><td style = \"text-align: left;\">500</td><td style = \"text-align: left;\">Pumped Storage/Hydro</td><td style = \"text-align: left;\">30+</td></tr><tr><td class = \"rowNumber\" style = \"font-weight: bold; text-align: right;\">7195</td><td style = \"text-align: left;\">11397</td><td style = \"text-align: left;\">0xCD680A1DE8F84F1A0C458ECB9910DF5C</td><td style = \"text-align: left;\">5</td><td style = \"text-align: left;\">29776</td><td style = \"text-align: left;\">0x13D8939656B50F37154260D6C4FFC11D</td><td style = \"text-align: left;\">1</td><td style = \"text-align: left;\">NPCC</td><td style = \"text-align: left;\">New York</td><td style = \"font-style: italic; text-align: left;\">missing</td><td style = \"text-align: left;\">EST</td><td style = \"text-align: left;\">800</td><td style = \"text-align: left;\">Miscellaneous</td><td style = \"text-align: left;\">All</td></tr><tr><td class = \"rowNumber\" style = \"font-weight: bold; text-align: right;\">7196</td><td style = \"text-align: left;\">1803</td><td style = \"text-align: left;\">0x084E8036D98505D4623F1FB8730E5069</td><td style = \"text-align: left;\">4</td><td style = \"text-align: left;\">29970</td><td style = \"text-align: left;\">0x6CC515F621F77FC6BDB4506CEA17605B</td><td style = \"text-align: left;\">1</td><td style = \"text-align: left;\">RFC</td><td style = \"text-align: left;\">Virginia</td><td style = \"font-style: italic; text-align: left;\">missing</td><td style = \"text-align: left;\">EPT</td><td style = \"text-align: left;\">300</td><td style = \"text-align: left;\">Gas Turbine/Jet Engine (Simple Cycle Operation)</td><td style = \"text-align: left;\">50+</td></tr></tbody></table></div>"
      ],
      "text/latex": [
       "\\begin{tabular}{r|cccccc}\n",
       "\t& UnitID & AliasID & CommercialDT\\_grp & ID\\_SK & NERCID\\_AliasID & \\\\\n",
       "\t\\hline\n",
       "\t& Any & Any & Any & Any & Any & \\\\\n",
       "\t\\hline\n",
       "\t1 & 5050 & 0x97B421A0918CC799265B9E89118BA60B & 1 & 12047 & 0xE8E5E322646F435388EEEE255A077D67 & $\\dots$ \\\\\n",
       "\t2 & 5052 & 0x4F45850F285D33C649CB2660E311C785 & 1 & 12049 & 0xE8E5E322646F435388EEEE255A077D67 & $\\dots$ \\\\\n",
       "\t3 & 11835 & 0xC5AC4AB466AF63C98BB7521CE68A62DC & 5 & 12186 & 0xE45673082C83B4124005C54A93ABC8E5 & $\\dots$ \\\\\n",
       "\t4 & 4773 & 0x8C5A80F096D4D3C55EAEB512D0FD0CDC & 3 & 12195 & 0xCF0E398F6F1BAC73B41A0CB6B3967BE5 & $\\dots$ \\\\\n",
       "\t5 & 12295 & 0x281D8C92796753B548725105E2037D59 & 2 & 12328 & 0xE42F8966B0CDB3D578D436CFDA61B29A & $\\dots$ \\\\\n",
       "\t6 & 12264 & 0xB67AA6AAB6FCE01DA1762229B6482EB2 & 5 & 12483 & 0xD3E3BDBE360C63F3E927FFE438357FAC & $\\dots$ \\\\\n",
       "\t7 & 287 & 0x0FF9D5C271BF9EA95253A94AB2C31681 & 1 & 12506 & 0x0C4CBDEFD4B1D0EFCF8B0B9495621A14 & $\\dots$ \\\\\n",
       "\t8 & 5286 & 0x66324F9FCEC968D0B1E5CD2BB8C1F32C & 1 & 12564 & 0xB135DAB6216C01F3B62F533A5FBACDE5 & $\\dots$ \\\\\n",
       "\t9 & 1096 & 0x6AB07F384BDD639EDE65CCEAE98F2EDD & 4 & 12740 & 0xACA7783C349A082F7B7AE801309E8A87 & $\\dots$ \\\\\n",
       "\t10 & 1669 & 0x52B21A71DE550C4A56DEB82E40995B39 & 4 & 12818 & 0xEAEC3B502BC8607550DB2D121E06BD6A & $\\dots$ \\\\\n",
       "\t11 & 2857 & 0x14E807903FBD06F4335333BB5D9548D0 & 1 & 13108 & 0x3EB7A81A4A916415991F1222F16BEB36 & $\\dots$ \\\\\n",
       "\t12 & 8976 & 0x34F4408E034B55F60EDE14B5F1D09AEC & 1 & 16198 & 0xE2FC5DB2615C2E890A30A73161D68502 & $\\dots$ \\\\\n",
       "\t13 & 8992 & 0x84FA3E24C309F0BC7D35DB8FA0FBBDFE & 1 & 16214 & 0xE2FC5DB2615C2E890A30A73161D68502 & $\\dots$ \\\\\n",
       "\t14 & 9012 & 0xFF934D298EBAC80A70C230927CA17823 & 1 & 16234 & 0xE2FC5DB2615C2E890A30A73161D68502 & $\\dots$ \\\\\n",
       "\t15 & 9015 & 0xDB16DD84AEC8141BA83F1E57329DAA20 & 1 & 16237 & 0xE2FC5DB2615C2E890A30A73161D68502 & $\\dots$ \\\\\n",
       "\t16 & 9039 & 0x113456D0AFC9813A4C6350A167399508 & 1 & 16261 & 0x6DC65E72B8EFE4D47FADD7560B1C873E & $\\dots$ \\\\\n",
       "\t17 & 9050 & 0x81EC246B0EEC0EA886CA70180C4B3D30 & 1 & 16272 & 0x6DC65E72B8EFE4D47FADD7560B1C873E & $\\dots$ \\\\\n",
       "\t18 & 9145 & 0xAF9655812E1BCAE9FF7109B1E2576F78 & 1 & 16338 & 0xE42E3CE16BC82F0E9474C95A2B275104 & $\\dots$ \\\\\n",
       "\t19 & 9146 & 0x7D02BCF74E1BA0D0E406B6E3D42547CA & 1 & 16339 & 0xE42E3CE16BC82F0E9474C95A2B275104 & $\\dots$ \\\\\n",
       "\t20 & 9149 & 0x77892DF1BACAAFD38C8DFEF92F2A974E & 1 & 16342 & 0xE42E3CE16BC82F0E9474C95A2B275104 & $\\dots$ \\\\\n",
       "\t21 & 9152 & 0x18C59394BF00C340CEF563B5CE404813 & 1 & 16345 & 0xE42E3CE16BC82F0E9474C95A2B275104 & $\\dots$ \\\\\n",
       "\t22 & 9154 & 0xBE006EDB9CF93344D3D512E0452F1A28 & 1 & 16347 & 0xE42E3CE16BC82F0E9474C95A2B275104 & $\\dots$ \\\\\n",
       "\t23 & 9169 & 0x0C8B21692F5C1E650F1E755A29F5849D & 1 & 16362 & 0xE42E3CE16BC82F0E9474C95A2B275104 & $\\dots$ \\\\\n",
       "\t24 & 10585 & 0x623336BA2B18E40345B8F394299B303B & 1 & 16388 & 0x35E25816ED8B723D583EF1306CAA65ED & $\\dots$ \\\\\n",
       "\t$\\dots$ & $\\dots$ & $\\dots$ & $\\dots$ & $\\dots$ & $\\dots$ &  \\\\\n",
       "\\end{tabular}\n"
      ],
      "text/plain": [
       "\u001b[1m7196×13 DataFrame\u001b[0m\n",
       "\u001b[1m  Row \u001b[0m│\u001b[1m UnitID \u001b[0m\u001b[1m AliasID                           \u001b[0m\u001b[1m CommercialDT_grp \u001b[0m\u001b[1m ID_SK \u001b[0m\u001b[1m NE\u001b[0m ⋯\n",
       "      │\u001b[90m Any    \u001b[0m\u001b[90m Any                               \u001b[0m\u001b[90m Any              \u001b[0m\u001b[90m Any   \u001b[0m\u001b[90m An\u001b[0m ⋯\n",
       "──────┼─────────────────────────────────────────────────────────────────────────\n",
       "    1 │ 5050    0x97B421A0918CC799265B9E89118BA6…  1                 12047  0x ⋯\n",
       "    2 │ 5052    0x4F45850F285D33C649CB2660E311C7…  1                 12049  0x\n",
       "    3 │ 11835   0xC5AC4AB466AF63C98BB7521CE68A62…  5                 12186  0x\n",
       "    4 │ 4773    0x8C5A80F096D4D3C55EAEB512D0FD0C…  3                 12195  0x\n",
       "    5 │ 12295   0x281D8C92796753B548725105E2037D…  2                 12328  0x ⋯\n",
       "    6 │ 12264   0xB67AA6AAB6FCE01DA1762229B6482E…  5                 12483  0x\n",
       "    7 │ 287     0x0FF9D5C271BF9EA95253A94AB2C316…  1                 12506  0x\n",
       "    8 │ 5286    0x66324F9FCEC968D0B1E5CD2BB8C1F3…  1                 12564  0x\n",
       "  ⋮   │   ⋮                     ⋮                         ⋮            ⋮       ⋱\n",
       " 7190 │ 9209    0x623918963E9D6E8C6537FA386BD029…  3                 29516  0x ⋯\n",
       " 7191 │ 9255    0xCD0E8DEA79030A9B7B81DCA1FBEA67…  4                 29556  0x\n",
       " 7192 │ 10886   0x1FA15C6BDB140867980ECD8594D1A0…  1                 29610  0x\n",
       " 7193 │ 11272   0x11C9734CF4F4CD60AF390494EEA04A…  4                 29730  0x\n",
       " 7194 │ 11284   0xC08978B56570C0425F628A73C908FE…  1                 29742  0x ⋯\n",
       " 7195 │ 11397   0xCD680A1DE8F84F1A0C458ECB9910DF…  5                 29776  0x\n",
       " 7196 │ 1803    0x084E8036D98505D4623F1FB8730E50…  4                 29970  0x\n",
       "\u001b[36m                                                 9 columns and 7181 rows omitted\u001b[0m"
      ]
     },
     "metadata": {},
     "output_type": "display_data"
    }
   ],
   "source": [
    "units"
   ]
  },
  {
   "cell_type": "code",
   "execution_count": 10,
   "id": "0a96d8c3",
   "metadata": {},
   "outputs": [],
   "source": [
    "gen_ids = unique(merged[!, \"UnitID\"])\n",
    "merged.CommercialDT_grp = missings(Int, nrow(merged))\n",
    "merged.RatingMW_grp = missings(Int, nrow(merged))\n",
    "merged.StateName = missings(String, nrow(merged))\n",
    "\n",
    "myDict = Dict()\n",
    "\n",
    "for u in gen_ids\n",
    "\n",
    "    my_unit = filter(:UnitID => ==(u), units)\n",
    "    subset = @view merged[(merged.UnitID .== u), :]\n",
    "\n",
    "    commercial_dt_grp = my_unit[1, :CommercialDT_grp]\n",
    "    subset.CommercialDT_grp .= commercial_dt_grp\n",
    "\n",
    "    rating = my_unit[1, :RatingMW_grp]\n",
    "    subset.RatingMW_grp .= rating\n",
    "\n",
    "    state = my_unit[1, :StateName]\n",
    "    subset.StateName .= state \n",
    "\n",
    "    unit_type_code = subset[1, :UnitTypeCode]\n",
    "\n",
    "    # val = units[units.UnitID .== u, :CommercialDT_grp][1]\n",
    "    # vec = merged[merged.UnitID .== u, :CommercialDT_grp]\n",
    "    # new_vec = fill(val, length(vec))\n",
    "    # merged[merged.UnitID .== u, :CommercialDT_grp] = new_vec\n",
    "\n",
    "    # val = units[units.UnitID .== u, :RatingMW_grp][1]\n",
    "    # vec = merged[merged.UnitID .== u, :RatingMW_grp]\n",
    "    # new_vec = fill(val, length(vec))\n",
    "    # merged[merged.UnitID .== u, :RatingMW_grp] = new_vec\n",
    "\n",
    "    # val = units[units.UnitID .== u, :StateName][1]\n",
    "    # vec = merged[merged.UnitID .== u, :StateName]\n",
    "    # new_vec = fill(val, length(vec))\n",
    "    # merged[merged.UnitID .== u, :StateName] = new_vec\n",
    "\n",
    "    fname = @sprintf \"gen_%d_type_%d_dtgrp_%d_rating_%d_state_%s_raw.csv\" u unit_type_code commercial_dt_grp rating state\n",
    "    path = joinpath(homedir(), \"research\", \"GADS_Processed\", \"raw_data\", fname)\n",
    "    CSV.write(path, subset)\n",
    "\n",
    "end"
   ]
  },
  {
   "cell_type": "code",
   "execution_count": null,
   "id": "d0cfdfa3",
   "metadata": {},
   "outputs": [],
   "source": []
  }
 ],
 "metadata": {
  "kernelspec": {
   "display_name": "Julia 1.11.5",
   "language": "julia",
   "name": "julia-1.11"
  },
  "language_info": {
   "file_extension": ".jl",
   "mimetype": "application/julia",
   "name": "julia",
   "version": "1.11.5"
  }
 },
 "nbformat": 4,
 "nbformat_minor": 5
}
