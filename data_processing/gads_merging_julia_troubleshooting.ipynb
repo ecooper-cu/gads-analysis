{
 "cells": [
  {
   "cell_type": "code",
   "execution_count": 3,
   "id": "f45ad1ab",
   "metadata": {},
   "outputs": [],
   "source": [
    "using Printf, CSV, DataFrames, Statistics, Glob, XLSX"
   ]
  },
  {
   "cell_type": "code",
   "execution_count": 4,
   "id": "d0235ce0",
   "metadata": {},
   "outputs": [
    {
     "data": {
      "text/html": [
       "<div><div style = \"float: left;\"><span>1553166×6 DataFrame</span></div><div style = \"float: right;\"><span style = \"font-style: italic;\">1553141 rows omitted</span></div><div style = \"clear: both;\"></div></div><div class = \"data-frame\" style = \"overflow-x: scroll;\"><table class = \"data-frame\" style = \"margin-bottom: 6px;\"><thead><tr class = \"header\"><th class = \"rowNumber\" style = \"font-weight: bold; text-align: right;\">Row</th><th style = \"text-align: left;\">EventEndDT</th><th style = \"text-align: left;\">EventStartDT</th><th style = \"text-align: left;\">EventTypeCode</th><th style = \"text-align: left;\">OutageContinuationFlag</th><th style = \"text-align: left;\">UnitID</th><th style = \"text-align: left;\">UnitTypeCode</th></tr><tr class = \"subheader headerLastRow\"><th class = \"rowNumber\" style = \"font-weight: bold; text-align: right;\"></th><th title = \"String31\" style = \"text-align: left;\">String31</th><th title = \"Dates.DateTime\" style = \"text-align: left;\">DateTime</th><th title = \"String3\" style = \"text-align: left;\">String3</th><th title = \"Int64\" style = \"text-align: left;\">Int64</th><th title = \"Int64\" style = \"text-align: left;\">Int64</th><th title = \"Int64\" style = \"text-align: left;\">Int64</th></tr></thead><tbody><tr><td class = \"rowNumber\" style = \"font-weight: bold; text-align: right;\">1</td><td style = \"text-align: left;\">2013-01-05T06:54:00.0</td><td style = \"text-align: left;\">2013-01-01T04:00:00</td><td style = \"text-align: left;\">RS</td><td style = \"text-align: right;\">2</td><td style = \"text-align: right;\">5408</td><td style = \"text-align: right;\">100</td></tr><tr><td class = \"rowNumber\" style = \"font-weight: bold; text-align: right;\">2</td><td style = \"text-align: left;\">2013-01-02T22:16:00.0</td><td style = \"text-align: left;\">2013-01-01T04:00:00</td><td style = \"text-align: left;\">RS</td><td style = \"text-align: right;\">2</td><td style = \"text-align: right;\">5423</td><td style = \"text-align: right;\">500</td></tr><tr><td class = \"rowNumber\" style = \"font-weight: bold; text-align: right;\">3</td><td style = \"text-align: left;\">2013-01-02T22:21:00.0</td><td style = \"text-align: left;\">2013-01-01T04:00:00</td><td style = \"text-align: left;\">RS</td><td style = \"text-align: right;\">2</td><td style = \"text-align: right;\">5424</td><td style = \"text-align: right;\">500</td></tr><tr><td class = \"rowNumber\" style = \"font-weight: bold; text-align: right;\">4</td><td style = \"text-align: left;\">2013-01-12T22:05:00.0</td><td style = \"text-align: left;\">2013-01-01T04:00:00</td><td style = \"text-align: left;\">RS</td><td style = \"text-align: right;\">2</td><td style = \"text-align: right;\">5427</td><td style = \"text-align: right;\">500</td></tr><tr><td class = \"rowNumber\" style = \"font-weight: bold; text-align: right;\">5</td><td style = \"text-align: left;\">2013-01-26T19:10:00.0</td><td style = \"text-align: left;\">2013-01-01T04:00:00</td><td style = \"text-align: left;\">RS</td><td style = \"text-align: right;\">2</td><td style = \"text-align: right;\">5415</td><td style = \"text-align: right;\">300</td></tr><tr><td class = \"rowNumber\" style = \"font-weight: bold; text-align: right;\">6</td><td style = \"text-align: left;\">2013-01-28T17:16:00.0</td><td style = \"text-align: left;\">2013-01-01T04:00:00</td><td style = \"text-align: left;\">RS</td><td style = \"text-align: right;\">2</td><td style = \"text-align: right;\">11240</td><td style = \"text-align: right;\">300</td></tr><tr><td class = \"rowNumber\" style = \"font-weight: bold; text-align: right;\">7</td><td style = \"text-align: left;\">2013-01-02T20:57:00.0</td><td style = \"text-align: left;\">2013-01-01T04:00:00</td><td style = \"text-align: left;\">RS</td><td style = \"text-align: right;\">2</td><td style = \"text-align: right;\">5426</td><td style = \"text-align: right;\">500</td></tr><tr><td class = \"rowNumber\" style = \"font-weight: bold; text-align: right;\">8</td><td style = \"text-align: left;\">2013-02-01T04:00:00.0</td><td style = \"text-align: left;\">2013-01-01T04:00:00</td><td style = \"text-align: left;\">RS</td><td style = \"text-align: right;\">2</td><td style = \"text-align: right;\">5420</td><td style = \"text-align: right;\">300</td></tr><tr><td class = \"rowNumber\" style = \"font-weight: bold; text-align: right;\">9</td><td style = \"text-align: left;\">2013-01-01T18:52:00.0</td><td style = \"text-align: left;\">2013-01-01T04:00:00</td><td style = \"text-align: left;\">RS</td><td style = \"text-align: right;\">2</td><td style = \"text-align: right;\">5407</td><td style = \"text-align: right;\">100</td></tr><tr><td class = \"rowNumber\" style = \"font-weight: bold; text-align: right;\">10</td><td style = \"text-align: left;\">2013-02-01T04:00:00.0</td><td style = \"text-align: left;\">2013-01-01T04:00:00</td><td style = \"text-align: left;\">RS</td><td style = \"text-align: right;\">2</td><td style = \"text-align: right;\">5417</td><td style = \"text-align: right;\">300</td></tr><tr><td class = \"rowNumber\" style = \"font-weight: bold; text-align: right;\">11</td><td style = \"text-align: left;\">2013-01-14T04:02:00.0</td><td style = \"text-align: left;\">2013-01-01T04:00:00</td><td style = \"text-align: left;\">D1</td><td style = \"text-align: right;\">2</td><td style = \"text-align: right;\">5414</td><td style = \"text-align: right;\">200</td></tr><tr><td class = \"rowNumber\" style = \"font-weight: bold; text-align: right;\">12</td><td style = \"text-align: left;\">2013-02-01T04:00:00.0</td><td style = \"text-align: left;\">2013-01-01T04:00:00</td><td style = \"text-align: left;\">RS</td><td style = \"text-align: right;\">2</td><td style = \"text-align: right;\">5406</td><td style = \"text-align: right;\">100</td></tr><tr><td class = \"rowNumber\" style = \"font-weight: bold; text-align: right;\">13</td><td style = \"text-align: left;\">2013-02-01T04:00:00.0</td><td style = \"text-align: left;\">2013-01-01T04:00:00</td><td style = \"text-align: left;\">RS</td><td style = \"text-align: right;\">2</td><td style = \"text-align: right;\">5418</td><td style = \"text-align: right;\">300</td></tr><tr><td style = \"text-align: right;\">&vellip;</td><td style = \"text-align: right;\">&vellip;</td><td style = \"text-align: right;\">&vellip;</td><td style = \"text-align: right;\">&vellip;</td><td style = \"text-align: right;\">&vellip;</td><td style = \"text-align: right;\">&vellip;</td><td style = \"text-align: right;\">&vellip;</td></tr><tr><td class = \"rowNumber\" style = \"font-weight: bold; text-align: right;\">1553155</td><td style = \"text-align: left;\">2016-01-01T08:00:00.0</td><td style = \"text-align: left;\">2016-01-01T07:03:00</td><td style = \"text-align: left;\">RS</td><td style = \"text-align: right;\">1</td><td style = \"text-align: right;\">9013</td><td style = \"text-align: right;\">500</td></tr><tr><td class = \"rowNumber\" style = \"font-weight: bold; text-align: right;\">1553156</td><td style = \"text-align: left;\">2016-01-01T08:00:00.0</td><td style = \"text-align: left;\">2016-01-01T07:04:00</td><td style = \"text-align: left;\">RS</td><td style = \"text-align: right;\">1</td><td style = \"text-align: right;\">9799</td><td style = \"text-align: right;\">500</td></tr><tr><td class = \"rowNumber\" style = \"font-weight: bold; text-align: right;\">1553157</td><td style = \"text-align: left;\">2016-01-01T08:00:00.0</td><td style = \"text-align: left;\">2016-01-01T07:05:00</td><td style = \"text-align: left;\">RS</td><td style = \"text-align: right;\">1</td><td style = \"text-align: right;\">8982</td><td style = \"text-align: right;\">500</td></tr><tr><td class = \"rowNumber\" style = \"font-weight: bold; text-align: right;\">1553158</td><td style = \"text-align: left;\">2016-01-01T08:00:00.0</td><td style = \"text-align: left;\">2016-01-01T07:05:00</td><td style = \"text-align: left;\">D1</td><td style = \"text-align: right;\">1</td><td style = \"text-align: right;\">4856</td><td style = \"text-align: right;\">100</td></tr><tr><td class = \"rowNumber\" style = \"font-weight: bold; text-align: right;\">1553159</td><td style = \"text-align: left;\">2016-01-01T08:00:00.0</td><td style = \"text-align: left;\">2016-01-01T07:05:00</td><td style = \"text-align: left;\">D1</td><td style = \"text-align: right;\">1</td><td style = \"text-align: right;\">4857</td><td style = \"text-align: right;\">100</td></tr><tr><td class = \"rowNumber\" style = \"font-weight: bold; text-align: right;\">1553160</td><td style = \"text-align: left;\">2016-01-01T07:59:00.0</td><td style = \"text-align: left;\">2016-01-01T07:06:00</td><td style = \"text-align: left;\">RS</td><td style = \"text-align: right;\">0</td><td style = \"text-align: right;\">938</td><td style = \"text-align: right;\">500</td></tr><tr><td class = \"rowNumber\" style = \"font-weight: bold; text-align: right;\">1553161</td><td style = \"text-align: left;\">2016-01-01T07:59:00.0</td><td style = \"text-align: left;\">2016-01-01T07:06:00</td><td style = \"text-align: left;\">RS</td><td style = \"text-align: right;\">0</td><td style = \"text-align: right;\">936</td><td style = \"text-align: right;\">500</td></tr><tr><td class = \"rowNumber\" style = \"font-weight: bold; text-align: right;\">1553162</td><td style = \"text-align: left;\">2016-01-01T08:00:00.0</td><td style = \"text-align: left;\">2016-01-01T07:07:00</td><td style = \"text-align: left;\">RS</td><td style = \"text-align: right;\">1</td><td style = \"text-align: right;\">9002</td><td style = \"text-align: right;\">500</td></tr><tr><td class = \"rowNumber\" style = \"font-weight: bold; text-align: right;\">1553163</td><td style = \"text-align: left;\">2016-01-01T08:00:00.0</td><td style = \"text-align: left;\">2016-01-01T07:08:00</td><td style = \"text-align: left;\">RS</td><td style = \"text-align: right;\">1</td><td style = \"text-align: right;\">2771</td><td style = \"text-align: right;\">850</td></tr><tr><td class = \"rowNumber\" style = \"font-weight: bold; text-align: right;\">1553164</td><td style = \"text-align: left;\">2016-01-01T08:00:00.0</td><td style = \"text-align: left;\">2016-01-01T07:08:00</td><td style = \"text-align: left;\">RS</td><td style = \"text-align: right;\">1</td><td style = \"text-align: right;\">9134</td><td style = \"text-align: right;\">500</td></tr><tr><td class = \"rowNumber\" style = \"font-weight: bold; text-align: right;\">1553165</td><td style = \"text-align: left;\">2016-01-01T07:59:00.0</td><td style = \"text-align: left;\">2016-01-01T07:44:00</td><td style = \"text-align: left;\">RS</td><td style = \"text-align: right;\">0</td><td style = \"text-align: right;\">939</td><td style = \"text-align: right;\">500</td></tr><tr><td class = \"rowNumber\" style = \"font-weight: bold; text-align: right;\">1553166</td><td style = \"text-align: left;\">2016-01-01T07:59:00.0</td><td style = \"text-align: left;\">2016-01-01T07:50:00</td><td style = \"text-align: left;\">RS</td><td style = \"text-align: right;\">0</td><td style = \"text-align: right;\">997</td><td style = \"text-align: right;\">500</td></tr></tbody></table></div>"
      ],
      "text/latex": [
       "\\begin{tabular}{r|ccccc}\n",
       "\t& EventEndDT & EventStartDT & EventTypeCode & OutageContinuationFlag & \\\\\n",
       "\t\\hline\n",
       "\t& String31 & DateTime & String3 & Int64 & \\\\\n",
       "\t\\hline\n",
       "\t1 & 2013-01-05T06:54:00.0 & 2013-01-01T04:00:00 & RS & 2 & $\\dots$ \\\\\n",
       "\t2 & 2013-01-02T22:16:00.0 & 2013-01-01T04:00:00 & RS & 2 & $\\dots$ \\\\\n",
       "\t3 & 2013-01-02T22:21:00.0 & 2013-01-01T04:00:00 & RS & 2 & $\\dots$ \\\\\n",
       "\t4 & 2013-01-12T22:05:00.0 & 2013-01-01T04:00:00 & RS & 2 & $\\dots$ \\\\\n",
       "\t5 & 2013-01-26T19:10:00.0 & 2013-01-01T04:00:00 & RS & 2 & $\\dots$ \\\\\n",
       "\t6 & 2013-01-28T17:16:00.0 & 2013-01-01T04:00:00 & RS & 2 & $\\dots$ \\\\\n",
       "\t7 & 2013-01-02T20:57:00.0 & 2013-01-01T04:00:00 & RS & 2 & $\\dots$ \\\\\n",
       "\t8 & 2013-02-01T04:00:00.0 & 2013-01-01T04:00:00 & RS & 2 & $\\dots$ \\\\\n",
       "\t9 & 2013-01-01T18:52:00.0 & 2013-01-01T04:00:00 & RS & 2 & $\\dots$ \\\\\n",
       "\t10 & 2013-02-01T04:00:00.0 & 2013-01-01T04:00:00 & RS & 2 & $\\dots$ \\\\\n",
       "\t11 & 2013-01-14T04:02:00.0 & 2013-01-01T04:00:00 & D1 & 2 & $\\dots$ \\\\\n",
       "\t12 & 2013-02-01T04:00:00.0 & 2013-01-01T04:00:00 & RS & 2 & $\\dots$ \\\\\n",
       "\t13 & 2013-02-01T04:00:00.0 & 2013-01-01T04:00:00 & RS & 2 & $\\dots$ \\\\\n",
       "\t14 & 2013-01-26T19:10:00.0 & 2013-01-01T04:00:00 & RS & 2 & $\\dots$ \\\\\n",
       "\t15 & 2013-03-15T19:00:00.0 & 2013-01-01T04:00:00 & D1 & 0 & $\\dots$ \\\\\n",
       "\t16 & 2013-01-02T21:21:00.0 & 2013-01-01T04:01:00 & RS & 0 & $\\dots$ \\\\\n",
       "\t17 & 2013-01-02T21:21:00.0 & 2013-01-01T04:01:00 & RS & 0 & $\\dots$ \\\\\n",
       "\t18 & 2013-01-01T16:21:00.0 & 2013-01-01T04:01:00 & PO & 0 & $\\dots$ \\\\\n",
       "\t19 & 2013-03-16T14:33:00.0 & 2013-01-01T04:01:00 & PO & 0 & $\\dots$ \\\\\n",
       "\t20 & 2013-01-01T05:05:00.0 & 2013-01-01T04:01:00 & RS & 0 & $\\dots$ \\\\\n",
       "\t21 & 2013-01-06T09:26:00.0 & 2013-01-01T04:01:00 & U3 & 0 & $\\dots$ \\\\\n",
       "\t22 & 2013-01-02T17:52:00.0 & 2013-01-01T04:01:00 & RS & 0 & $\\dots$ \\\\\n",
       "\t23 & 2013-01-02T18:00:00.0 & 2013-01-01T04:01:00 & RS & 0 & $\\dots$ \\\\\n",
       "\t24 & 2013-01-04T06:20:00.0 & 2013-01-01T04:01:00 & D1 & 0 & $\\dots$ \\\\\n",
       "\t$\\dots$ & $\\dots$ & $\\dots$ & $\\dots$ & $\\dots$ &  \\\\\n",
       "\\end{tabular}\n"
      ],
      "text/plain": [
       "\u001b[1m1553166×6 DataFrame\u001b[0m\n",
       "\u001b[1m     Row \u001b[0m│\u001b[1m EventEndDT            \u001b[0m\u001b[1m EventStartDT        \u001b[0m\u001b[1m EventTypeCode \u001b[0m\u001b[1m OutageCo\u001b[0m ⋯\n",
       "         │\u001b[90m String31              \u001b[0m\u001b[90m DateTime            \u001b[0m\u001b[90m String3       \u001b[0m\u001b[90m Int64   \u001b[0m ⋯\n",
       "─────────┼──────────────────────────────────────────────────────────────────────\n",
       "       1 │ 2013-01-05T06:54:00.0  2013-01-01T04:00:00  RS                      ⋯\n",
       "       2 │ 2013-01-02T22:16:00.0  2013-01-01T04:00:00  RS\n",
       "       3 │ 2013-01-02T22:21:00.0  2013-01-01T04:00:00  RS\n",
       "       4 │ 2013-01-12T22:05:00.0  2013-01-01T04:00:00  RS\n",
       "       5 │ 2013-01-26T19:10:00.0  2013-01-01T04:00:00  RS                      ⋯\n",
       "       6 │ 2013-01-28T17:16:00.0  2013-01-01T04:00:00  RS\n",
       "       7 │ 2013-01-02T20:57:00.0  2013-01-01T04:00:00  RS\n",
       "       8 │ 2013-02-01T04:00:00.0  2013-01-01T04:00:00  RS\n",
       "    ⋮    │           ⋮                     ⋮                 ⋮                 ⋱\n",
       " 1553160 │ 2016-01-01T07:59:00.0  2016-01-01T07:06:00  RS                      ⋯\n",
       " 1553161 │ 2016-01-01T07:59:00.0  2016-01-01T07:06:00  RS\n",
       " 1553162 │ 2016-01-01T08:00:00.0  2016-01-01T07:07:00  RS\n",
       " 1553163 │ 2016-01-01T08:00:00.0  2016-01-01T07:08:00  RS\n",
       " 1553164 │ 2016-01-01T08:00:00.0  2016-01-01T07:08:00  RS                      ⋯\n",
       " 1553165 │ 2016-01-01T07:59:00.0  2016-01-01T07:44:00  RS\n",
       " 1553166 │ 2016-01-01T07:59:00.0  2016-01-01T07:50:00  RS\n",
       "\u001b[36m                                              3 columns and 1553151 rows omitted\u001b[0m"
      ]
     },
     "metadata": {},
     "output_type": "display_data"
    }
   ],
   "source": [
    "directory = joinpath(homedir(), \"research\", \"GADS\", \"Events\")\n",
    "files = glob(\"*.csv\", directory)\n",
    "x = Dict()\n",
    "i = 1\n",
    "for f in files[begin: 3]\n",
    "    df = DataFrame(CSV.File(f, select=[\"EventStartDT\", \"EventEndDT\", \"UnitID\", \"UnitTypeCode\", \"EventTypeCode\", \"OutageContinuationFlag\"]))\n",
    "    # df = df[df.UnitID .= 295, :]\n",
    "    x[i] = df\n",
    "    i +=1\n",
    "end\n",
    "merged = reduce(vcat, values(x))\n",
    "sort!(merged, :EventStartDT)"
   ]
  },
  {
   "cell_type": "code",
   "execution_count": 5,
   "id": "288d1332",
   "metadata": {},
   "outputs": [],
   "source": [
    "# m2 = merged[merged.EventTypeCode .!= \"RS\", :]\n",
    "# sort!(m2, :EventStartDT)"
   ]
  },
  {
   "cell_type": "code",
   "execution_count": 6,
   "id": "b9ddcd86",
   "metadata": {},
   "outputs": [],
   "source": [
    "# df = DataFrame(CSV.File(files[1], select=[\"EventStartDT\", \"EventEndDT\", \"UnitID\", \"UnitTypeCode\", \"EventTypeCode\", \"OutageContinuationFlag\"]))"
   ]
  },
  {
   "cell_type": "code",
   "execution_count": 7,
   "id": "357cf1f7",
   "metadata": {},
   "outputs": [],
   "source": [
    "# ifelse(df.UnitID == 295, df.UnitID, 0)"
   ]
  },
  {
   "cell_type": "code",
   "execution_count": 8,
   "id": "b827fa12",
   "metadata": {},
   "outputs": [],
   "source": [
    "# # df[df.UnitID .= 295, :]\n",
    "# df = filter(:UnitID => ==(295), df)\n",
    "# # sort!(df, :EventStartDT)"
   ]
  },
  {
   "cell_type": "code",
   "execution_count": 9,
   "id": "e9358a3f",
   "metadata": {},
   "outputs": [],
   "source": [
    "# sort(df, :EventStartDT)"
   ]
  },
  {
   "cell_type": "code",
   "execution_count": 10,
   "id": "f82e2776",
   "metadata": {},
   "outputs": [],
   "source": [
    "fname = joinpath(homedir(), \"research\", \"GADS\", \"GADS_Unit_2023_20240422.xlsx\")\n",
    "units = DataFrame(XLSX.readtable(fname, \"Sheet1\"));"
   ]
  },
  {
   "cell_type": "code",
   "execution_count": 34,
   "id": "34d1a061",
   "metadata": {},
   "outputs": [],
   "source": [
    "# event_gen_ids = unique(merged[!, \"UnitID\"])\n",
    "# all_gen_ids = unique(units[!, \"UnitID\"])\n",
    "\n",
    "# not_in_event_gen_ids = setdiff(all_gen_ids, event_gen_ids)\n",
    "\n",
    "# # units[units.UnitID in not_in_event_gen_ids, !]\n",
    "\n",
    "# not_in_events_df = filter(row -> row[:UnitID] in not_in_event_gen_ids, units)"
   ]
  },
  {
   "cell_type": "code",
   "execution_count": 36,
   "id": "defcfc4e",
   "metadata": {},
   "outputs": [],
   "source": [
    "# a = not_in_events_df[!, :UnitRetireDT_grp]\n",
    "# count(x -> true, skipmissing(a))"
   ]
  },
  {
   "cell_type": "code",
   "execution_count": null,
   "id": "0a96d8c3",
   "metadata": {},
   "outputs": [
    {
     "data": {
      "text/plain": [
       "Dict{Any, Any}()"
      ]
     },
     "metadata": {},
     "output_type": "display_data"
    }
   ],
   "source": [
    "gen_ids = unique(merged[!, \"UnitID\"])\n",
    "merged.CommercialDT_grp = missings(Int, nrow(merged))\n",
    "merged.RatingMW_grp = missings(Int, nrow(merged))\n",
    "merged.StateName = missings(String, nrow(merged))\n",
    "\n",
    "myDict = Dict()\n"
   ]
  },
  {
   "cell_type": "code",
   "execution_count": 20,
   "id": "50100e81",
   "metadata": {},
   "outputs": [
    {
     "data": {
      "text/html": [
       "<div><div style = \"float: left;\"><span>1553166×9 DataFrame</span></div><div style = \"float: right;\"><span style = \"font-style: italic;\">1553141 rows omitted</span></div><div style = \"clear: both;\"></div></div><div class = \"data-frame\" style = \"overflow-x: scroll;\"><table class = \"data-frame\" style = \"margin-bottom: 6px;\"><thead><tr class = \"header\"><th class = \"rowNumber\" style = \"font-weight: bold; text-align: right;\">Row</th><th style = \"text-align: left;\">EventEndDT</th><th style = \"text-align: left;\">EventStartDT</th><th style = \"text-align: left;\">EventTypeCode</th><th style = \"text-align: left;\">OutageContinuationFlag</th><th style = \"text-align: left;\">UnitID</th><th style = \"text-align: left;\">UnitTypeCode</th><th style = \"text-align: left;\">CommercialDT_grp</th><th style = \"text-align: left;\">RatingMW_grp</th><th style = \"text-align: left;\">StateName</th></tr><tr class = \"subheader headerLastRow\"><th class = \"rowNumber\" style = \"font-weight: bold; text-align: right;\"></th><th title = \"String31\" style = \"text-align: left;\">String31</th><th title = \"Dates.DateTime\" style = \"text-align: left;\">DateTime</th><th title = \"String3\" style = \"text-align: left;\">String3</th><th title = \"Int64\" style = \"text-align: left;\">Int64</th><th title = \"Int64\" style = \"text-align: left;\">Int64</th><th title = \"Int64\" style = \"text-align: left;\">Int64</th><th title = \"Union{Missing, Int64}\" style = \"text-align: left;\">Int64?</th><th title = \"Union{Missing, Int64}\" style = \"text-align: left;\">Int64?</th><th title = \"Union{Missing, String}\" style = \"text-align: left;\">String?</th></tr></thead><tbody><tr><td class = \"rowNumber\" style = \"font-weight: bold; text-align: right;\">1</td><td style = \"text-align: left;\">2013-01-05T06:54:00.0</td><td style = \"text-align: left;\">2013-01-01T04:00:00</td><td style = \"text-align: left;\">RS</td><td style = \"text-align: right;\">2</td><td style = \"text-align: right;\">5408</td><td style = \"text-align: right;\">100</td><td style = \"font-style: italic; text-align: right;\">missing</td><td style = \"font-style: italic; text-align: right;\">missing</td><td style = \"font-style: italic; text-align: left;\">missing</td></tr><tr><td class = \"rowNumber\" style = \"font-weight: bold; text-align: right;\">2</td><td style = \"text-align: left;\">2013-01-02T22:16:00.0</td><td style = \"text-align: left;\">2013-01-01T04:00:00</td><td style = \"text-align: left;\">RS</td><td style = \"text-align: right;\">2</td><td style = \"text-align: right;\">5423</td><td style = \"text-align: right;\">500</td><td style = \"font-style: italic; text-align: right;\">missing</td><td style = \"font-style: italic; text-align: right;\">missing</td><td style = \"font-style: italic; text-align: left;\">missing</td></tr><tr><td class = \"rowNumber\" style = \"font-weight: bold; text-align: right;\">3</td><td style = \"text-align: left;\">2013-01-02T22:21:00.0</td><td style = \"text-align: left;\">2013-01-01T04:00:00</td><td style = \"text-align: left;\">RS</td><td style = \"text-align: right;\">2</td><td style = \"text-align: right;\">5424</td><td style = \"text-align: right;\">500</td><td style = \"font-style: italic; text-align: right;\">missing</td><td style = \"font-style: italic; text-align: right;\">missing</td><td style = \"font-style: italic; text-align: left;\">missing</td></tr><tr><td class = \"rowNumber\" style = \"font-weight: bold; text-align: right;\">4</td><td style = \"text-align: left;\">2013-01-12T22:05:00.0</td><td style = \"text-align: left;\">2013-01-01T04:00:00</td><td style = \"text-align: left;\">RS</td><td style = \"text-align: right;\">2</td><td style = \"text-align: right;\">5427</td><td style = \"text-align: right;\">500</td><td style = \"font-style: italic; text-align: right;\">missing</td><td style = \"font-style: italic; text-align: right;\">missing</td><td style = \"font-style: italic; text-align: left;\">missing</td></tr><tr><td class = \"rowNumber\" style = \"font-weight: bold; text-align: right;\">5</td><td style = \"text-align: left;\">2013-01-26T19:10:00.0</td><td style = \"text-align: left;\">2013-01-01T04:00:00</td><td style = \"text-align: left;\">RS</td><td style = \"text-align: right;\">2</td><td style = \"text-align: right;\">5415</td><td style = \"text-align: right;\">300</td><td style = \"font-style: italic; text-align: right;\">missing</td><td style = \"font-style: italic; text-align: right;\">missing</td><td style = \"font-style: italic; text-align: left;\">missing</td></tr><tr><td class = \"rowNumber\" style = \"font-weight: bold; text-align: right;\">6</td><td style = \"text-align: left;\">2013-01-28T17:16:00.0</td><td style = \"text-align: left;\">2013-01-01T04:00:00</td><td style = \"text-align: left;\">RS</td><td style = \"text-align: right;\">2</td><td style = \"text-align: right;\">11240</td><td style = \"text-align: right;\">300</td><td style = \"font-style: italic; text-align: right;\">missing</td><td style = \"font-style: italic; text-align: right;\">missing</td><td style = \"font-style: italic; text-align: left;\">missing</td></tr><tr><td class = \"rowNumber\" style = \"font-weight: bold; text-align: right;\">7</td><td style = \"text-align: left;\">2013-01-02T20:57:00.0</td><td style = \"text-align: left;\">2013-01-01T04:00:00</td><td style = \"text-align: left;\">RS</td><td style = \"text-align: right;\">2</td><td style = \"text-align: right;\">5426</td><td style = \"text-align: right;\">500</td><td style = \"font-style: italic; text-align: right;\">missing</td><td style = \"font-style: italic; text-align: right;\">missing</td><td style = \"font-style: italic; text-align: left;\">missing</td></tr><tr><td class = \"rowNumber\" style = \"font-weight: bold; text-align: right;\">8</td><td style = \"text-align: left;\">2013-02-01T04:00:00.0</td><td style = \"text-align: left;\">2013-01-01T04:00:00</td><td style = \"text-align: left;\">RS</td><td style = \"text-align: right;\">2</td><td style = \"text-align: right;\">5420</td><td style = \"text-align: right;\">300</td><td style = \"font-style: italic; text-align: right;\">missing</td><td style = \"font-style: italic; text-align: right;\">missing</td><td style = \"font-style: italic; text-align: left;\">missing</td></tr><tr><td class = \"rowNumber\" style = \"font-weight: bold; text-align: right;\">9</td><td style = \"text-align: left;\">2013-01-01T18:52:00.0</td><td style = \"text-align: left;\">2013-01-01T04:00:00</td><td style = \"text-align: left;\">RS</td><td style = \"text-align: right;\">2</td><td style = \"text-align: right;\">5407</td><td style = \"text-align: right;\">100</td><td style = \"font-style: italic; text-align: right;\">missing</td><td style = \"font-style: italic; text-align: right;\">missing</td><td style = \"font-style: italic; text-align: left;\">missing</td></tr><tr><td class = \"rowNumber\" style = \"font-weight: bold; text-align: right;\">10</td><td style = \"text-align: left;\">2013-02-01T04:00:00.0</td><td style = \"text-align: left;\">2013-01-01T04:00:00</td><td style = \"text-align: left;\">RS</td><td style = \"text-align: right;\">2</td><td style = \"text-align: right;\">5417</td><td style = \"text-align: right;\">300</td><td style = \"font-style: italic; text-align: right;\">missing</td><td style = \"font-style: italic; text-align: right;\">missing</td><td style = \"font-style: italic; text-align: left;\">missing</td></tr><tr><td class = \"rowNumber\" style = \"font-weight: bold; text-align: right;\">11</td><td style = \"text-align: left;\">2013-01-14T04:02:00.0</td><td style = \"text-align: left;\">2013-01-01T04:00:00</td><td style = \"text-align: left;\">D1</td><td style = \"text-align: right;\">2</td><td style = \"text-align: right;\">5414</td><td style = \"text-align: right;\">200</td><td style = \"font-style: italic; text-align: right;\">missing</td><td style = \"font-style: italic; text-align: right;\">missing</td><td style = \"font-style: italic; text-align: left;\">missing</td></tr><tr><td class = \"rowNumber\" style = \"font-weight: bold; text-align: right;\">12</td><td style = \"text-align: left;\">2013-02-01T04:00:00.0</td><td style = \"text-align: left;\">2013-01-01T04:00:00</td><td style = \"text-align: left;\">RS</td><td style = \"text-align: right;\">2</td><td style = \"text-align: right;\">5406</td><td style = \"text-align: right;\">100</td><td style = \"font-style: italic; text-align: right;\">missing</td><td style = \"font-style: italic; text-align: right;\">missing</td><td style = \"font-style: italic; text-align: left;\">missing</td></tr><tr><td class = \"rowNumber\" style = \"font-weight: bold; text-align: right;\">13</td><td style = \"text-align: left;\">2013-02-01T04:00:00.0</td><td style = \"text-align: left;\">2013-01-01T04:00:00</td><td style = \"text-align: left;\">RS</td><td style = \"text-align: right;\">2</td><td style = \"text-align: right;\">5418</td><td style = \"text-align: right;\">300</td><td style = \"font-style: italic; text-align: right;\">missing</td><td style = \"font-style: italic; text-align: right;\">missing</td><td style = \"font-style: italic; text-align: left;\">missing</td></tr><tr><td style = \"text-align: right;\">&vellip;</td><td style = \"text-align: right;\">&vellip;</td><td style = \"text-align: right;\">&vellip;</td><td style = \"text-align: right;\">&vellip;</td><td style = \"text-align: right;\">&vellip;</td><td style = \"text-align: right;\">&vellip;</td><td style = \"text-align: right;\">&vellip;</td><td style = \"text-align: right;\">&vellip;</td><td style = \"text-align: right;\">&vellip;</td><td style = \"text-align: right;\">&vellip;</td></tr><tr><td class = \"rowNumber\" style = \"font-weight: bold; text-align: right;\">1553155</td><td style = \"text-align: left;\">2016-01-01T08:00:00.0</td><td style = \"text-align: left;\">2016-01-01T07:03:00</td><td style = \"text-align: left;\">RS</td><td style = \"text-align: right;\">1</td><td style = \"text-align: right;\">9013</td><td style = \"text-align: right;\">500</td><td style = \"font-style: italic; text-align: right;\">missing</td><td style = \"font-style: italic; text-align: right;\">missing</td><td style = \"font-style: italic; text-align: left;\">missing</td></tr><tr><td class = \"rowNumber\" style = \"font-weight: bold; text-align: right;\">1553156</td><td style = \"text-align: left;\">2016-01-01T08:00:00.0</td><td style = \"text-align: left;\">2016-01-01T07:04:00</td><td style = \"text-align: left;\">RS</td><td style = \"text-align: right;\">1</td><td style = \"text-align: right;\">9799</td><td style = \"text-align: right;\">500</td><td style = \"font-style: italic; text-align: right;\">missing</td><td style = \"font-style: italic; text-align: right;\">missing</td><td style = \"font-style: italic; text-align: left;\">missing</td></tr><tr><td class = \"rowNumber\" style = \"font-weight: bold; text-align: right;\">1553157</td><td style = \"text-align: left;\">2016-01-01T08:00:00.0</td><td style = \"text-align: left;\">2016-01-01T07:05:00</td><td style = \"text-align: left;\">RS</td><td style = \"text-align: right;\">1</td><td style = \"text-align: right;\">8982</td><td style = \"text-align: right;\">500</td><td style = \"font-style: italic; text-align: right;\">missing</td><td style = \"font-style: italic; text-align: right;\">missing</td><td style = \"font-style: italic; text-align: left;\">missing</td></tr><tr><td class = \"rowNumber\" style = \"font-weight: bold; text-align: right;\">1553158</td><td style = \"text-align: left;\">2016-01-01T08:00:00.0</td><td style = \"text-align: left;\">2016-01-01T07:05:00</td><td style = \"text-align: left;\">D1</td><td style = \"text-align: right;\">1</td><td style = \"text-align: right;\">4856</td><td style = \"text-align: right;\">100</td><td style = \"font-style: italic; text-align: right;\">missing</td><td style = \"font-style: italic; text-align: right;\">missing</td><td style = \"font-style: italic; text-align: left;\">missing</td></tr><tr><td class = \"rowNumber\" style = \"font-weight: bold; text-align: right;\">1553159</td><td style = \"text-align: left;\">2016-01-01T08:00:00.0</td><td style = \"text-align: left;\">2016-01-01T07:05:00</td><td style = \"text-align: left;\">D1</td><td style = \"text-align: right;\">1</td><td style = \"text-align: right;\">4857</td><td style = \"text-align: right;\">100</td><td style = \"font-style: italic; text-align: right;\">missing</td><td style = \"font-style: italic; text-align: right;\">missing</td><td style = \"font-style: italic; text-align: left;\">missing</td></tr><tr><td class = \"rowNumber\" style = \"font-weight: bold; text-align: right;\">1553160</td><td style = \"text-align: left;\">2016-01-01T07:59:00.0</td><td style = \"text-align: left;\">2016-01-01T07:06:00</td><td style = \"text-align: left;\">RS</td><td style = \"text-align: right;\">0</td><td style = \"text-align: right;\">938</td><td style = \"text-align: right;\">500</td><td style = \"font-style: italic; text-align: right;\">missing</td><td style = \"font-style: italic; text-align: right;\">missing</td><td style = \"font-style: italic; text-align: left;\">missing</td></tr><tr><td class = \"rowNumber\" style = \"font-weight: bold; text-align: right;\">1553161</td><td style = \"text-align: left;\">2016-01-01T07:59:00.0</td><td style = \"text-align: left;\">2016-01-01T07:06:00</td><td style = \"text-align: left;\">RS</td><td style = \"text-align: right;\">0</td><td style = \"text-align: right;\">936</td><td style = \"text-align: right;\">500</td><td style = \"font-style: italic; text-align: right;\">missing</td><td style = \"font-style: italic; text-align: right;\">missing</td><td style = \"font-style: italic; text-align: left;\">missing</td></tr><tr><td class = \"rowNumber\" style = \"font-weight: bold; text-align: right;\">1553162</td><td style = \"text-align: left;\">2016-01-01T08:00:00.0</td><td style = \"text-align: left;\">2016-01-01T07:07:00</td><td style = \"text-align: left;\">RS</td><td style = \"text-align: right;\">1</td><td style = \"text-align: right;\">9002</td><td style = \"text-align: right;\">500</td><td style = \"font-style: italic; text-align: right;\">missing</td><td style = \"font-style: italic; text-align: right;\">missing</td><td style = \"font-style: italic; text-align: left;\">missing</td></tr><tr><td class = \"rowNumber\" style = \"font-weight: bold; text-align: right;\">1553163</td><td style = \"text-align: left;\">2016-01-01T08:00:00.0</td><td style = \"text-align: left;\">2016-01-01T07:08:00</td><td style = \"text-align: left;\">RS</td><td style = \"text-align: right;\">1</td><td style = \"text-align: right;\">2771</td><td style = \"text-align: right;\">850</td><td style = \"font-style: italic; text-align: right;\">missing</td><td style = \"font-style: italic; text-align: right;\">missing</td><td style = \"font-style: italic; text-align: left;\">missing</td></tr><tr><td class = \"rowNumber\" style = \"font-weight: bold; text-align: right;\">1553164</td><td style = \"text-align: left;\">2016-01-01T08:00:00.0</td><td style = \"text-align: left;\">2016-01-01T07:08:00</td><td style = \"text-align: left;\">RS</td><td style = \"text-align: right;\">1</td><td style = \"text-align: right;\">9134</td><td style = \"text-align: right;\">500</td><td style = \"font-style: italic; text-align: right;\">missing</td><td style = \"font-style: italic; text-align: right;\">missing</td><td style = \"font-style: italic; text-align: left;\">missing</td></tr><tr><td class = \"rowNumber\" style = \"font-weight: bold; text-align: right;\">1553165</td><td style = \"text-align: left;\">2016-01-01T07:59:00.0</td><td style = \"text-align: left;\">2016-01-01T07:44:00</td><td style = \"text-align: left;\">RS</td><td style = \"text-align: right;\">0</td><td style = \"text-align: right;\">939</td><td style = \"text-align: right;\">500</td><td style = \"font-style: italic; text-align: right;\">missing</td><td style = \"font-style: italic; text-align: right;\">missing</td><td style = \"font-style: italic; text-align: left;\">missing</td></tr><tr><td class = \"rowNumber\" style = \"font-weight: bold; text-align: right;\">1553166</td><td style = \"text-align: left;\">2016-01-01T07:59:00.0</td><td style = \"text-align: left;\">2016-01-01T07:50:00</td><td style = \"text-align: left;\">RS</td><td style = \"text-align: right;\">0</td><td style = \"text-align: right;\">997</td><td style = \"text-align: right;\">500</td><td style = \"font-style: italic; text-align: right;\">missing</td><td style = \"font-style: italic; text-align: right;\">missing</td><td style = \"font-style: italic; text-align: left;\">missing</td></tr></tbody></table></div>"
      ],
      "text/latex": [
       "\\begin{tabular}{r|ccccc}\n",
       "\t& EventEndDT & EventStartDT & EventTypeCode & OutageContinuationFlag & \\\\\n",
       "\t\\hline\n",
       "\t& String31 & DateTime & String3 & Int64 & \\\\\n",
       "\t\\hline\n",
       "\t1 & 2013-01-05T06:54:00.0 & 2013-01-01T04:00:00 & RS & 2 & $\\dots$ \\\\\n",
       "\t2 & 2013-01-02T22:16:00.0 & 2013-01-01T04:00:00 & RS & 2 & $\\dots$ \\\\\n",
       "\t3 & 2013-01-02T22:21:00.0 & 2013-01-01T04:00:00 & RS & 2 & $\\dots$ \\\\\n",
       "\t4 & 2013-01-12T22:05:00.0 & 2013-01-01T04:00:00 & RS & 2 & $\\dots$ \\\\\n",
       "\t5 & 2013-01-26T19:10:00.0 & 2013-01-01T04:00:00 & RS & 2 & $\\dots$ \\\\\n",
       "\t6 & 2013-01-28T17:16:00.0 & 2013-01-01T04:00:00 & RS & 2 & $\\dots$ \\\\\n",
       "\t7 & 2013-01-02T20:57:00.0 & 2013-01-01T04:00:00 & RS & 2 & $\\dots$ \\\\\n",
       "\t8 & 2013-02-01T04:00:00.0 & 2013-01-01T04:00:00 & RS & 2 & $\\dots$ \\\\\n",
       "\t9 & 2013-01-01T18:52:00.0 & 2013-01-01T04:00:00 & RS & 2 & $\\dots$ \\\\\n",
       "\t10 & 2013-02-01T04:00:00.0 & 2013-01-01T04:00:00 & RS & 2 & $\\dots$ \\\\\n",
       "\t11 & 2013-01-14T04:02:00.0 & 2013-01-01T04:00:00 & D1 & 2 & $\\dots$ \\\\\n",
       "\t12 & 2013-02-01T04:00:00.0 & 2013-01-01T04:00:00 & RS & 2 & $\\dots$ \\\\\n",
       "\t13 & 2013-02-01T04:00:00.0 & 2013-01-01T04:00:00 & RS & 2 & $\\dots$ \\\\\n",
       "\t14 & 2013-01-26T19:10:00.0 & 2013-01-01T04:00:00 & RS & 2 & $\\dots$ \\\\\n",
       "\t15 & 2013-03-15T19:00:00.0 & 2013-01-01T04:00:00 & D1 & 0 & $\\dots$ \\\\\n",
       "\t16 & 2013-01-02T21:21:00.0 & 2013-01-01T04:01:00 & RS & 0 & $\\dots$ \\\\\n",
       "\t17 & 2013-01-02T21:21:00.0 & 2013-01-01T04:01:00 & RS & 0 & $\\dots$ \\\\\n",
       "\t18 & 2013-01-01T16:21:00.0 & 2013-01-01T04:01:00 & PO & 0 & $\\dots$ \\\\\n",
       "\t19 & 2013-03-16T14:33:00.0 & 2013-01-01T04:01:00 & PO & 0 & $\\dots$ \\\\\n",
       "\t20 & 2013-01-01T05:05:00.0 & 2013-01-01T04:01:00 & RS & 0 & $\\dots$ \\\\\n",
       "\t21 & 2013-01-06T09:26:00.0 & 2013-01-01T04:01:00 & U3 & 0 & $\\dots$ \\\\\n",
       "\t22 & 2013-01-02T17:52:00.0 & 2013-01-01T04:01:00 & RS & 0 & $\\dots$ \\\\\n",
       "\t23 & 2013-01-02T18:00:00.0 & 2013-01-01T04:01:00 & RS & 0 & $\\dots$ \\\\\n",
       "\t24 & 2013-01-04T06:20:00.0 & 2013-01-01T04:01:00 & D1 & 0 & $\\dots$ \\\\\n",
       "\t$\\dots$ & $\\dots$ & $\\dots$ & $\\dots$ & $\\dots$ &  \\\\\n",
       "\\end{tabular}\n"
      ],
      "text/plain": [
       "\u001b[1m1553166×9 DataFrame\u001b[0m\n",
       "\u001b[1m     Row \u001b[0m│\u001b[1m EventEndDT            \u001b[0m\u001b[1m EventStartDT        \u001b[0m\u001b[1m EventTypeCode \u001b[0m\u001b[1m OutageCo\u001b[0m ⋯\n",
       "         │\u001b[90m String31              \u001b[0m\u001b[90m DateTime            \u001b[0m\u001b[90m String3       \u001b[0m\u001b[90m Int64   \u001b[0m ⋯\n",
       "─────────┼──────────────────────────────────────────────────────────────────────\n",
       "       1 │ 2013-01-05T06:54:00.0  2013-01-01T04:00:00  RS                      ⋯\n",
       "       2 │ 2013-01-02T22:16:00.0  2013-01-01T04:00:00  RS\n",
       "       3 │ 2013-01-02T22:21:00.0  2013-01-01T04:00:00  RS\n",
       "       4 │ 2013-01-12T22:05:00.0  2013-01-01T04:00:00  RS\n",
       "       5 │ 2013-01-26T19:10:00.0  2013-01-01T04:00:00  RS                      ⋯\n",
       "       6 │ 2013-01-28T17:16:00.0  2013-01-01T04:00:00  RS\n",
       "       7 │ 2013-01-02T20:57:00.0  2013-01-01T04:00:00  RS\n",
       "       8 │ 2013-02-01T04:00:00.0  2013-01-01T04:00:00  RS\n",
       "    ⋮    │           ⋮                     ⋮                 ⋮                 ⋱\n",
       " 1553160 │ 2016-01-01T07:59:00.0  2016-01-01T07:06:00  RS                      ⋯\n",
       " 1553161 │ 2016-01-01T07:59:00.0  2016-01-01T07:06:00  RS\n",
       " 1553162 │ 2016-01-01T08:00:00.0  2016-01-01T07:07:00  RS\n",
       " 1553163 │ 2016-01-01T08:00:00.0  2016-01-01T07:08:00  RS\n",
       " 1553164 │ 2016-01-01T08:00:00.0  2016-01-01T07:08:00  RS                      ⋯\n",
       " 1553165 │ 2016-01-01T07:59:00.0  2016-01-01T07:44:00  RS\n",
       " 1553166 │ 2016-01-01T07:59:00.0  2016-01-01T07:50:00  RS\n",
       "\u001b[36m                                              6 columns and 1553151 rows omitted\u001b[0m"
      ]
     },
     "metadata": {},
     "output_type": "display_data"
    }
   ],
   "source": [
    "merged"
   ]
  },
  {
   "cell_type": "code",
   "execution_count": 18,
   "id": "4225086d",
   "metadata": {},
   "outputs": [
    {
     "data": {
      "text/plain": [
       "118-element Vector{String}:\n",
       " \"Iowa\"\n",
       " \"Iowa\"\n",
       " \"Iowa\"\n",
       " \"Iowa\"\n",
       " \"Iowa\"\n",
       " \"Iowa\"\n",
       " \"Iowa\"\n",
       " \"Iowa\"\n",
       " \"Iowa\"\n",
       " \"Iowa\"\n",
       " ⋮\n",
       " \"Iowa\"\n",
       " \"Iowa\"\n",
       " \"Iowa\"\n",
       " \"Iowa\"\n",
       " \"Iowa\"\n",
       " \"Iowa\"\n",
       " \"Iowa\"\n",
       " \"Iowa\"\n",
       " \"Iowa\""
      ]
     },
     "metadata": {},
     "output_type": "display_data"
    }
   ],
   "source": [
    "u = 295\n",
    "\n",
    "my_unit = filter(:UnitID => ==(u), units)\n",
    "subset = @view merged[(merged.UnitID .== u), :]\n",
    "\n",
    "val = my_unit[1, :CommercialDT_grp]\n",
    "subset.CommercialDT_grp .= val\n",
    "\n",
    "val = my_unit[1, :RatingMW_grp]\n",
    "subset.RatingMW_grp .= val\n",
    "\n",
    "val = units[units.UnitID .== u, :StateName][1]\n",
    "subset.StateName .= val \n"
   ]
  },
  {
   "cell_type": "code",
   "execution_count": 21,
   "id": "686f7da6",
   "metadata": {},
   "outputs": [
    {
     "data": {
      "text/html": [
       "<div><div style = \"float: left;\"><span>118×9 SubDataFrame</span></div><div style = \"float: right;\"><span style = \"font-style: italic;\">93 rows omitted</span></div><div style = \"clear: both;\"></div></div><div class = \"data-frame\" style = \"overflow-x: scroll;\"><table class = \"data-frame\" style = \"margin-bottom: 6px;\"><thead><tr class = \"header\"><th class = \"rowNumber\" style = \"font-weight: bold; text-align: right;\">Row</th><th style = \"text-align: left;\">EventEndDT</th><th style = \"text-align: left;\">EventStartDT</th><th style = \"text-align: left;\">EventTypeCode</th><th style = \"text-align: left;\">OutageContinuationFlag</th><th style = \"text-align: left;\">UnitID</th><th style = \"text-align: left;\">UnitTypeCode</th><th style = \"text-align: left;\">CommercialDT_grp</th><th style = \"text-align: left;\">RatingMW_grp</th><th style = \"text-align: left;\">StateName</th></tr><tr class = \"subheader headerLastRow\"><th class = \"rowNumber\" style = \"font-weight: bold; text-align: right;\"></th><th title = \"String31\" style = \"text-align: left;\">String31</th><th title = \"Dates.DateTime\" style = \"text-align: left;\">DateTime</th><th title = \"String3\" style = \"text-align: left;\">String3</th><th title = \"Int64\" style = \"text-align: left;\">Int64</th><th title = \"Int64\" style = \"text-align: left;\">Int64</th><th title = \"Int64\" style = \"text-align: left;\">Int64</th><th title = \"Union{Missing, Int64}\" style = \"text-align: left;\">Int64?</th><th title = \"Union{Missing, Int64}\" style = \"text-align: left;\">Int64?</th><th title = \"Union{Missing, String}\" style = \"text-align: left;\">String?</th></tr></thead><tbody><tr><td class = \"rowNumber\" style = \"font-weight: bold; text-align: right;\">1</td><td style = \"text-align: left;\">2013-01-01T11:00:00.0</td><td style = \"text-align: left;\">2013-01-01T06:00:00</td><td style = \"text-align: left;\">RS</td><td style = \"text-align: right;\">2</td><td style = \"text-align: right;\">295</td><td style = \"text-align: right;\">300</td><td style = \"text-align: right;\">1</td><td style = \"text-align: right;\">1</td><td style = \"text-align: left;\">Iowa</td></tr><tr><td class = \"rowNumber\" style = \"font-weight: bold; text-align: right;\">2</td><td style = \"text-align: left;\">2013-01-03T04:00:00.0</td><td style = \"text-align: left;\">2013-01-01T11:00:00</td><td style = \"text-align: left;\">U1</td><td style = \"text-align: right;\">0</td><td style = \"text-align: right;\">295</td><td style = \"text-align: right;\">300</td><td style = \"text-align: right;\">1</td><td style = \"text-align: right;\">1</td><td style = \"text-align: left;\">Iowa</td></tr><tr><td class = \"rowNumber\" style = \"font-weight: bold; text-align: right;\">3</td><td style = \"text-align: left;\">2013-01-09T20:55:00.0</td><td style = \"text-align: left;\">2013-01-03T04:00:00</td><td style = \"text-align: left;\">RS</td><td style = \"text-align: right;\">0</td><td style = \"text-align: right;\">295</td><td style = \"text-align: right;\">300</td><td style = \"text-align: right;\">1</td><td style = \"text-align: right;\">1</td><td style = \"text-align: left;\">Iowa</td></tr><tr><td class = \"rowNumber\" style = \"font-weight: bold; text-align: right;\">4</td><td style = \"text-align: left;\">2013-01-10T21:15:00.0</td><td style = \"text-align: left;\">2013-01-09T20:55:00</td><td style = \"text-align: left;\">U1</td><td style = \"text-align: right;\">0</td><td style = \"text-align: right;\">295</td><td style = \"text-align: right;\">300</td><td style = \"text-align: right;\">1</td><td style = \"text-align: right;\">1</td><td style = \"text-align: left;\">Iowa</td></tr><tr><td class = \"rowNumber\" style = \"font-weight: bold; text-align: right;\">5</td><td style = \"text-align: left;\">2013-03-19T12:55:00.0</td><td style = \"text-align: left;\">2013-01-10T21:15:00</td><td style = \"text-align: left;\">RS</td><td style = \"text-align: right;\">0</td><td style = \"text-align: right;\">295</td><td style = \"text-align: right;\">300</td><td style = \"text-align: right;\">1</td><td style = \"text-align: right;\">1</td><td style = \"text-align: left;\">Iowa</td></tr><tr><td class = \"rowNumber\" style = \"font-weight: bold; text-align: right;\">6</td><td style = \"text-align: left;\">2013-03-21T12:45:00.0</td><td style = \"text-align: left;\">2013-03-20T23:36:00</td><td style = \"text-align: left;\">RS</td><td style = \"text-align: right;\">0</td><td style = \"text-align: right;\">295</td><td style = \"text-align: right;\">300</td><td style = \"text-align: right;\">1</td><td style = \"text-align: right;\">1</td><td style = \"text-align: left;\">Iowa</td></tr><tr><td class = \"rowNumber\" style = \"font-weight: bold; text-align: right;\">7</td><td style = \"text-align: left;\">2013-03-21T14:56:00.0</td><td style = \"text-align: left;\">2013-03-21T14:55:00</td><td style = \"text-align: left;\">RS</td><td style = \"text-align: right;\">0</td><td style = \"text-align: right;\">295</td><td style = \"text-align: right;\">300</td><td style = \"text-align: right;\">1</td><td style = \"text-align: right;\">1</td><td style = \"text-align: left;\">Iowa</td></tr><tr><td class = \"rowNumber\" style = \"font-weight: bold; text-align: right;\">8</td><td style = \"text-align: left;\">2013-03-21T20:00:00.0</td><td style = \"text-align: left;\">2013-03-21T15:06:00</td><td style = \"text-align: left;\">RS</td><td style = \"text-align: right;\">0</td><td style = \"text-align: right;\">295</td><td style = \"text-align: right;\">300</td><td style = \"text-align: right;\">1</td><td style = \"text-align: right;\">1</td><td style = \"text-align: left;\">Iowa</td></tr><tr><td class = \"rowNumber\" style = \"font-weight: bold; text-align: right;\">9</td><td style = \"text-align: left;\">2013-03-21T20:01:00.0</td><td style = \"text-align: left;\">2013-03-21T20:00:00</td><td style = \"text-align: left;\">SF</td><td style = \"text-align: right;\">0</td><td style = \"text-align: right;\">295</td><td style = \"text-align: right;\">300</td><td style = \"text-align: right;\">1</td><td style = \"text-align: right;\">1</td><td style = \"text-align: left;\">Iowa</td></tr><tr><td class = \"rowNumber\" style = \"font-weight: bold; text-align: right;\">10</td><td style = \"text-align: left;\">2013-03-22T15:09:00.0</td><td style = \"text-align: left;\">2013-03-21T20:01:00</td><td style = \"text-align: left;\">U1</td><td style = \"text-align: right;\">0</td><td style = \"text-align: right;\">295</td><td style = \"text-align: right;\">300</td><td style = \"text-align: right;\">1</td><td style = \"text-align: right;\">1</td><td style = \"text-align: left;\">Iowa</td></tr><tr><td class = \"rowNumber\" style = \"font-weight: bold; text-align: right;\">11</td><td style = \"text-align: left;\">2013-03-23T13:16:00.0</td><td style = \"text-align: left;\">2013-03-22T15:45:00</td><td style = \"text-align: left;\">RS</td><td style = \"text-align: right;\">0</td><td style = \"text-align: right;\">295</td><td style = \"text-align: right;\">300</td><td style = \"text-align: right;\">1</td><td style = \"text-align: right;\">1</td><td style = \"text-align: left;\">Iowa</td></tr><tr><td class = \"rowNumber\" style = \"font-weight: bold; text-align: right;\">12</td><td style = \"text-align: left;\">2013-03-23T14:10:00.0</td><td style = \"text-align: left;\">2013-03-23T13:16:00</td><td style = \"text-align: left;\">D1</td><td style = \"text-align: right;\">0</td><td style = \"text-align: right;\">295</td><td style = \"text-align: right;\">300</td><td style = \"text-align: right;\">1</td><td style = \"text-align: right;\">1</td><td style = \"text-align: left;\">Iowa</td></tr><tr><td class = \"rowNumber\" style = \"font-weight: bold; text-align: right;\">13</td><td style = \"text-align: left;\">2013-03-27T13:02:00.0</td><td style = \"text-align: left;\">2013-03-23T15:28:00</td><td style = \"text-align: left;\">RS</td><td style = \"text-align: right;\">0</td><td style = \"text-align: right;\">295</td><td style = \"text-align: right;\">300</td><td style = \"text-align: right;\">1</td><td style = \"text-align: right;\">1</td><td style = \"text-align: left;\">Iowa</td></tr><tr><td style = \"text-align: right;\">&vellip;</td><td style = \"text-align: right;\">&vellip;</td><td style = \"text-align: right;\">&vellip;</td><td style = \"text-align: right;\">&vellip;</td><td style = \"text-align: right;\">&vellip;</td><td style = \"text-align: right;\">&vellip;</td><td style = \"text-align: right;\">&vellip;</td><td style = \"text-align: right;\">&vellip;</td><td style = \"text-align: right;\">&vellip;</td><td style = \"text-align: right;\">&vellip;</td></tr><tr><td class = \"rowNumber\" style = \"font-weight: bold; text-align: right;\">107</td><td style = \"text-align: left;\">2015-10-01T05:00:00.0</td><td style = \"text-align: left;\">2015-09-01T05:00:00</td><td style = \"text-align: left;\">RS</td><td style = \"text-align: right;\">0</td><td style = \"text-align: right;\">295</td><td style = \"text-align: right;\">300</td><td style = \"text-align: right;\">1</td><td style = \"text-align: right;\">1</td><td style = \"text-align: left;\">Iowa</td></tr><tr><td class = \"rowNumber\" style = \"font-weight: bold; text-align: right;\">108</td><td style = \"text-align: left;\">2015-10-04T04:27:00.0</td><td style = \"text-align: left;\">2015-10-01T05:00:00</td><td style = \"text-align: left;\">RS</td><td style = \"text-align: right;\">0</td><td style = \"text-align: right;\">295</td><td style = \"text-align: right;\">300</td><td style = \"text-align: right;\">1</td><td style = \"text-align: right;\">1</td><td style = \"text-align: left;\">Iowa</td></tr><tr><td class = \"rowNumber\" style = \"font-weight: bold; text-align: right;\">109</td><td style = \"text-align: left;\">2015-10-30T12:25:00.0</td><td style = \"text-align: left;\">2015-10-04T06:38:00</td><td style = \"text-align: left;\">RS</td><td style = \"text-align: right;\">0</td><td style = \"text-align: right;\">295</td><td style = \"text-align: right;\">300</td><td style = \"text-align: right;\">1</td><td style = \"text-align: right;\">1</td><td style = \"text-align: left;\">Iowa</td></tr><tr><td class = \"rowNumber\" style = \"font-weight: bold; text-align: right;\">110</td><td style = \"text-align: left;\">2015-11-01T05:00:00.0</td><td style = \"text-align: left;\">2015-10-30T12:25:00</td><td style = \"text-align: left;\">PO</td><td style = \"text-align: right;\">0</td><td style = \"text-align: right;\">295</td><td style = \"text-align: right;\">300</td><td style = \"text-align: right;\">1</td><td style = \"text-align: right;\">1</td><td style = \"text-align: left;\">Iowa</td></tr><tr><td class = \"rowNumber\" style = \"font-weight: bold; text-align: right;\">111</td><td style = \"text-align: left;\">2015-11-05T14:00:00.0</td><td style = \"text-align: left;\">2015-11-01T05:00:00</td><td style = \"text-align: left;\">PO</td><td style = \"text-align: right;\">0</td><td style = \"text-align: right;\">295</td><td style = \"text-align: right;\">300</td><td style = \"text-align: right;\">1</td><td style = \"text-align: right;\">1</td><td style = \"text-align: left;\">Iowa</td></tr><tr><td class = \"rowNumber\" style = \"font-weight: bold; text-align: right;\">112</td><td style = \"text-align: left;\">2015-11-05T15:13:00.0</td><td style = \"text-align: left;\">2015-11-05T14:53:00</td><td style = \"text-align: left;\">PO</td><td style = \"text-align: right;\">0</td><td style = \"text-align: right;\">295</td><td style = \"text-align: right;\">300</td><td style = \"text-align: right;\">1</td><td style = \"text-align: right;\">1</td><td style = \"text-align: left;\">Iowa</td></tr><tr><td class = \"rowNumber\" style = \"font-weight: bold; text-align: right;\">113</td><td style = \"text-align: left;\">2015-12-01T06:00:00.0</td><td style = \"text-align: left;\">2015-11-05T15:33:00</td><td style = \"text-align: left;\">RS</td><td style = \"text-align: right;\">0</td><td style = \"text-align: right;\">295</td><td style = \"text-align: right;\">300</td><td style = \"text-align: right;\">1</td><td style = \"text-align: right;\">1</td><td style = \"text-align: left;\">Iowa</td></tr><tr><td class = \"rowNumber\" style = \"font-weight: bold; text-align: right;\">114</td><td style = \"text-align: left;\">2015-12-01T13:16:00.0</td><td style = \"text-align: left;\">2015-12-01T06:00:00</td><td style = \"text-align: left;\">RS</td><td style = \"text-align: right;\">0</td><td style = \"text-align: right;\">295</td><td style = \"text-align: right;\">300</td><td style = \"text-align: right;\">1</td><td style = \"text-align: right;\">1</td><td style = \"text-align: left;\">Iowa</td></tr><tr><td class = \"rowNumber\" style = \"font-weight: bold; text-align: right;\">115</td><td style = \"text-align: left;\">2015-12-03T16:20:00.0</td><td style = \"text-align: left;\">2015-12-02T01:07:00</td><td style = \"text-align: left;\">RS</td><td style = \"text-align: right;\">0</td><td style = \"text-align: right;\">295</td><td style = \"text-align: right;\">300</td><td style = \"text-align: right;\">1</td><td style = \"text-align: right;\">1</td><td style = \"text-align: left;\">Iowa</td></tr><tr><td class = \"rowNumber\" style = \"font-weight: bold; text-align: right;\">116</td><td style = \"text-align: left;\">2015-12-03T16:21:00.0</td><td style = \"text-align: left;\">2015-12-03T16:20:00</td><td style = \"text-align: left;\">U1</td><td style = \"text-align: right;\">0</td><td style = \"text-align: right;\">295</td><td style = \"text-align: right;\">300</td><td style = \"text-align: right;\">1</td><td style = \"text-align: right;\">1</td><td style = \"text-align: left;\">Iowa</td></tr><tr><td class = \"rowNumber\" style = \"font-weight: bold; text-align: right;\">117</td><td style = \"text-align: left;\">2015-12-11T18:28:00.0</td><td style = \"text-align: left;\">2015-12-03T16:21:00</td><td style = \"text-align: left;\">U1</td><td style = \"text-align: right;\">0</td><td style = \"text-align: right;\">295</td><td style = \"text-align: right;\">300</td><td style = \"text-align: right;\">1</td><td style = \"text-align: right;\">1</td><td style = \"text-align: left;\">Iowa</td></tr><tr><td class = \"rowNumber\" style = \"font-weight: bold; text-align: right;\">118</td><td style = \"text-align: left;\">2016-01-01T06:00:00.0</td><td style = \"text-align: left;\">2015-12-11T18:28:00</td><td style = \"text-align: left;\">RS</td><td style = \"text-align: right;\">1</td><td style = \"text-align: right;\">295</td><td style = \"text-align: right;\">300</td><td style = \"text-align: right;\">1</td><td style = \"text-align: right;\">1</td><td style = \"text-align: left;\">Iowa</td></tr></tbody></table></div>"
      ],
      "text/latex": [
       "\\begin{tabular}{r|ccccc}\n",
       "\t& EventEndDT & EventStartDT & EventTypeCode & OutageContinuationFlag & \\\\\n",
       "\t\\hline\n",
       "\t& String31 & DateTime & String3 & Int64 & \\\\\n",
       "\t\\hline\n",
       "\t1 & 2013-01-01T11:00:00.0 & 2013-01-01T06:00:00 & RS & 2 & $\\dots$ \\\\\n",
       "\t2 & 2013-01-03T04:00:00.0 & 2013-01-01T11:00:00 & U1 & 0 & $\\dots$ \\\\\n",
       "\t3 & 2013-01-09T20:55:00.0 & 2013-01-03T04:00:00 & RS & 0 & $\\dots$ \\\\\n",
       "\t4 & 2013-01-10T21:15:00.0 & 2013-01-09T20:55:00 & U1 & 0 & $\\dots$ \\\\\n",
       "\t5 & 2013-03-19T12:55:00.0 & 2013-01-10T21:15:00 & RS & 0 & $\\dots$ \\\\\n",
       "\t6 & 2013-03-21T12:45:00.0 & 2013-03-20T23:36:00 & RS & 0 & $\\dots$ \\\\\n",
       "\t7 & 2013-03-21T14:56:00.0 & 2013-03-21T14:55:00 & RS & 0 & $\\dots$ \\\\\n",
       "\t8 & 2013-03-21T20:00:00.0 & 2013-03-21T15:06:00 & RS & 0 & $\\dots$ \\\\\n",
       "\t9 & 2013-03-21T20:01:00.0 & 2013-03-21T20:00:00 & SF & 0 & $\\dots$ \\\\\n",
       "\t10 & 2013-03-22T15:09:00.0 & 2013-03-21T20:01:00 & U1 & 0 & $\\dots$ \\\\\n",
       "\t11 & 2013-03-23T13:16:00.0 & 2013-03-22T15:45:00 & RS & 0 & $\\dots$ \\\\\n",
       "\t12 & 2013-03-23T14:10:00.0 & 2013-03-23T13:16:00 & D1 & 0 & $\\dots$ \\\\\n",
       "\t13 & 2013-03-27T13:02:00.0 & 2013-03-23T15:28:00 & RS & 0 & $\\dots$ \\\\\n",
       "\t14 & 2013-03-28T15:00:00.0 & 2013-03-27T16:10:00 & RS & 0 & $\\dots$ \\\\\n",
       "\t15 & 2013-03-28T16:15:00.0 & 2013-03-28T15:00:00 & MO & 0 & $\\dots$ \\\\\n",
       "\t16 & 2013-04-01T18:27:00.0 & 2013-03-28T16:15:00 & RS & 0 & $\\dots$ \\\\\n",
       "\t17 & 2013-04-02T23:56:00.0 & 2013-04-02T13:16:00 & U1 & 0 & $\\dots$ \\\\\n",
       "\t18 & 2013-04-10T15:15:00.0 & 2013-04-02T23:56:00 & D1 & 0 & $\\dots$ \\\\\n",
       "\t19 & 2013-04-04T02:12:00.0 & 2013-04-03T00:28:00 & RS & 0 & $\\dots$ \\\\\n",
       "\t20 & 2013-04-11T12:45:00.0 & 2013-04-05T18:59:00 & RS & 0 & $\\dots$ \\\\\n",
       "\t21 & 2013-04-22T02:14:00.0 & 2013-04-11T19:09:00 & RS & 0 & $\\dots$ \\\\\n",
       "\t22 & 2013-05-03T12:37:00.0 & 2013-04-22T05:34:00 & RS & 0 & $\\dots$ \\\\\n",
       "\t23 & 2013-05-03T21:12:00.0 & 2013-05-03T12:37:00 & MO & 0 & $\\dots$ \\\\\n",
       "\t24 & 2013-05-06T17:08:00.0 & 2013-05-03T21:12:00 & RS & 0 & $\\dots$ \\\\\n",
       "\t$\\dots$ & $\\dots$ & $\\dots$ & $\\dots$ & $\\dots$ &  \\\\\n",
       "\\end{tabular}\n"
      ],
      "text/plain": [
       "\u001b[1m118×9 SubDataFrame\u001b[0m\n",
       "\u001b[1m Row \u001b[0m│\u001b[1m EventEndDT            \u001b[0m\u001b[1m EventStartDT        \u001b[0m\u001b[1m EventTypeCode \u001b[0m\u001b[1m OutageContin\u001b[0m ⋯\n",
       "     │\u001b[90m String31              \u001b[0m\u001b[90m DateTime            \u001b[0m\u001b[90m String3       \u001b[0m\u001b[90m Int64       \u001b[0m ⋯\n",
       "─────┼──────────────────────────────────────────────────────────────────────────\n",
       "   1 │ 2013-01-01T11:00:00.0  2013-01-01T06:00:00  RS                          ⋯\n",
       "   2 │ 2013-01-03T04:00:00.0  2013-01-01T11:00:00  U1\n",
       "   3 │ 2013-01-09T20:55:00.0  2013-01-03T04:00:00  RS\n",
       "   4 │ 2013-01-10T21:15:00.0  2013-01-09T20:55:00  U1\n",
       "   5 │ 2013-03-19T12:55:00.0  2013-01-10T21:15:00  RS                          ⋯\n",
       "   6 │ 2013-03-21T12:45:00.0  2013-03-20T23:36:00  RS\n",
       "   7 │ 2013-03-21T14:56:00.0  2013-03-21T14:55:00  RS\n",
       "   8 │ 2013-03-21T20:00:00.0  2013-03-21T15:06:00  RS\n",
       "  ⋮  │           ⋮                     ⋮                 ⋮                  ⋮  ⋱\n",
       " 112 │ 2015-11-05T15:13:00.0  2015-11-05T14:53:00  PO                          ⋯\n",
       " 113 │ 2015-12-01T06:00:00.0  2015-11-05T15:33:00  RS\n",
       " 114 │ 2015-12-01T13:16:00.0  2015-12-01T06:00:00  RS\n",
       " 115 │ 2015-12-03T16:20:00.0  2015-12-02T01:07:00  RS\n",
       " 116 │ 2015-12-03T16:21:00.0  2015-12-03T16:20:00  U1                          ⋯\n",
       " 117 │ 2015-12-11T18:28:00.0  2015-12-03T16:21:00  U1\n",
       " 118 │ 2016-01-01T06:00:00.0  2015-12-11T18:28:00  RS\n",
       "\u001b[36m                                                  6 columns and 103 rows omitted\u001b[0m"
      ]
     },
     "metadata": {},
     "output_type": "display_data"
    }
   ],
   "source": [
    "subset2 = @view merged[(merged.UnitID .== u), :]"
   ]
  },
  {
   "cell_type": "code",
   "execution_count": null,
   "id": "04f98781",
   "metadata": {},
   "outputs": [],
   "source": [
    "\n",
    "for u in gen_ids\n",
    "\n",
    "    subset = filter(:UnitID => ==(u), units)\n",
    "\n",
    "    val = subset[1, :CommercialDT_grp]\n",
    "    vec = subset[!, :CommercialDT_grp]\n",
    "    new_vec = fill(val, length(vec))\n",
    "    merged[merged.UnitID .== u, :CommercialDT_grp] = new_vec\n",
    "\n",
    "    val = subset[1, :RatingMW_grp]\n",
    "    vec = subset[!, :RatingMW_grp]\n",
    "    new_vec = fill(val, length(vec))\n",
    "    merged[merged.UnitID .== u, :RatingMW_grp] = new_vec\n",
    "\n",
    "    val = units[units.UnitID .== u, :StateName][1]\n",
    "    vec = merged[merged.UnitID .== u, :StateName]\n",
    "    new_vec = fill(val, length(vec))\n",
    "    merged[merged.UnitID .== u, :StateName] = new_vec\n",
    "\n",
    "    myDict[u] = filter(:UnitID => ==(u), merged)\n",
    "end"
   ]
  },
  {
   "cell_type": "code",
   "execution_count": 32,
   "id": "7361882c",
   "metadata": {},
   "outputs": [],
   "source": [
    "for u in gen_ids\n",
    "    df = myDict[u]\n",
    "    unit_type_code = df[1, :UnitTypeCode]\n",
    "    commercial_dt_grp = df[1, :CommercialDT_grp]\n",
    "    state_name = df[1, :StateName]\n",
    "    rating = df[1, :RatingMW_grp]\n",
    "\n",
    "    fname = @sprintf \"gen_%d_type_%d_dtgrp_%d_rating_%d_state_%s_raw.csv\" u unit_type_code commercial_dt_grp rating state_name\n",
    "    path = joinpath(homedir(), \"research\", \"GADS_Processed\", \"raw_data\", fname)\n",
    "    CSV.write(path, df)\n",
    "end"
   ]
  },
  {
   "cell_type": "code",
   "execution_count": null,
   "id": "8bc63ef6",
   "metadata": {},
   "outputs": [],
   "source": []
  }
 ],
 "metadata": {
  "kernelspec": {
   "display_name": "Julia 1.11.5",
   "language": "julia",
   "name": "julia-1.11"
  },
  "language_info": {
   "file_extension": ".jl",
   "mimetype": "application/julia",
   "name": "julia",
   "version": "1.11.5"
  }
 },
 "nbformat": 4,
 "nbformat_minor": 5
}
