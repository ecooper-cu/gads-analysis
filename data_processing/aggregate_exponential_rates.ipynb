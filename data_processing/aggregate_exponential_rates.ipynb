{
 "cells": [
  {
   "cell_type": "code",
   "execution_count": 3,
   "id": "d9fcdd5a",
   "metadata": {},
   "outputs": [],
   "source": [
    "using Printf, CSV, DataFrames, Statistics, Glob, XLSX, Dates, Plots, TimeSeries, JSON, Distributions"
   ]
  },
  {
   "cell_type": "code",
   "execution_count": 8,
   "id": "058cfeff",
   "metadata": {},
   "outputs": [
    {
     "data": {
      "text/plain": [
       "264-element Vector{String}:\n",
       " \"/home/emco4286/research/GADS_Pr\"\u001b[93m\u001b[1m ⋯ 23 bytes ⋯ \u001b[22m\u001b[39m\"ass_CC_rating_1_state_Texas.csv\"\n",
       " \"/home/emco4286/research/GADS_Pr\"\u001b[93m\u001b[1m ⋯ 23 bytes ⋯ \u001b[22m\u001b[39m\"ass_CC_rating_1_state_Texas.csv\"\n",
       " \"/home/emco4286/research/GADS_Pr\"\u001b[93m\u001b[1m ⋯ 23 bytes ⋯ \u001b[22m\u001b[39m\"ass_CC_rating_1_state_Texas.csv\"\n",
       " \"/home/emco4286/research/GADS_Pr\"\u001b[93m\u001b[1m ⋯ 23 bytes ⋯ \u001b[22m\u001b[39m\"ass_CC_rating_2_state_Texas.csv\"\n",
       " \"/home/emco4286/research/GADS_Pr\"\u001b[93m\u001b[1m ⋯ 23 bytes ⋯ \u001b[22m\u001b[39m\"ass_CC_rating_2_state_Texas.csv\"\n",
       " \"/home/emco4286/research/GADS_Pr\"\u001b[93m\u001b[1m ⋯ 23 bytes ⋯ \u001b[22m\u001b[39m\"ass_CC_rating_3_state_Texas.csv\"\n",
       " \"/home/emco4286/research/GADS_Pr\"\u001b[93m\u001b[1m ⋯ 23 bytes ⋯ \u001b[22m\u001b[39m\"ass_CC_rating_2_state_Texas.csv\"\n",
       " \"/home/emco4286/research/GADS_Pr\"\u001b[93m\u001b[1m ⋯ 23 bytes ⋯ \u001b[22m\u001b[39m\"ass_CC_rating_2_state_Texas.csv\"\n",
       " \"/home/emco4286/research/GADS_Pr\"\u001b[93m\u001b[1m ⋯ 23 bytes ⋯ \u001b[22m\u001b[39m\"ass_CC_rating_2_state_Texas.csv\"\n",
       " \"/home/emco4286/research/GADS_Pr\"\u001b[93m\u001b[1m ⋯ 23 bytes ⋯ \u001b[22m\u001b[39m\"ass_CC_rating_1_state_Texas.csv\"\n",
       " ⋮\n",
       " \"/home/emco4286/research/GADS_Pr\"\u001b[93m\u001b[1m ⋯ 22 bytes ⋯ \u001b[22m\u001b[39m\"ass_CC_rating_2_state_Texas.csv\"\n",
       " \"/home/emco4286/research/GADS_Pr\"\u001b[93m\u001b[1m ⋯ 22 bytes ⋯ \u001b[22m\u001b[39m\"ass_CC_rating_1_state_Texas.csv\"\n",
       " \"/home/emco4286/research/GADS_Pr\"\u001b[93m\u001b[1m ⋯ 22 bytes ⋯ \u001b[22m\u001b[39m\"ass_CC_rating_2_state_Texas.csv\"\n",
       " \"/home/emco4286/research/GADS_Pr\"\u001b[93m\u001b[1m ⋯ 22 bytes ⋯ \u001b[22m\u001b[39m\"ass_CC_rating_2_state_Texas.csv\"\n",
       " \"/home/emco4286/research/GADS_Pr\"\u001b[93m\u001b[1m ⋯ 22 bytes ⋯ \u001b[22m\u001b[39m\"ass_CC_rating_2_state_Texas.csv\"\n",
       " \"/home/emco4286/research/GADS_Pr\"\u001b[93m\u001b[1m ⋯ 22 bytes ⋯ \u001b[22m\u001b[39m\"ass_CC_rating_1_state_Texas.csv\"\n",
       " \"/home/emco4286/research/GADS_Pr\"\u001b[93m\u001b[1m ⋯ 22 bytes ⋯ \u001b[22m\u001b[39m\"ass_CC_rating_1_state_Texas.csv\"\n",
       " \"/home/emco4286/research/GADS_Pr\"\u001b[93m\u001b[1m ⋯ 22 bytes ⋯ \u001b[22m\u001b[39m\"ass_CC_rating_2_state_Texas.csv\"\n",
       " \"/home/emco4286/research/GADS_Pr\"\u001b[93m\u001b[1m ⋯ 22 bytes ⋯ \u001b[22m\u001b[39m\"ass_CC_rating_1_state_Texas.csv\""
      ]
     },
     "metadata": {},
     "output_type": "display_data"
    }
   ],
   "source": [
    "data_directory = joinpath(homedir(), \"research\", \"GADS_Processed\", \"cc\")\n",
    "files = glob(\"gen_*_class_CC_rating_*_state_Texas.csv\", data_directory)"
   ]
  },
  {
   "cell_type": "code",
   "execution_count": 40,
   "id": "b507a2f9",
   "metadata": {},
   "outputs": [],
   "source": [
    "num_fo_vec = Any[]\n",
    "foh_vec = Any[]\n",
    "\n",
    "num_po_vec = Any[]\n",
    "poh_vec = Any[]\n",
    "\n",
    "num_mo_vec = Any[]\n",
    "moh_vec = Any[]\n",
    "\n",
    "for f in files\n",
    "\n",
    "    df = DataFrame(CSV.File(f))\n",
    "\n",
    "    years = round(df.x[end] - df.x[begin], Day).value/365\n",
    "\n",
    "    if size(df)[1] < 1\n",
    "\n",
    "        push!(foh_vec, 0)\n",
    "        push!(num_fo_vec, 0)\n",
    "\n",
    "        push!(poh_vec, 0)\n",
    "        push!(num_po_vec, 0)\n",
    "\n",
    "        push!(moh_vec, 0)\n",
    "        push!(num_mo_vec, 0)\n",
    "\n",
    "        continue\n",
    "    end\n",
    "\n",
    "    outage_start = findall(diff(df[!, :y1]) .== -1)\n",
    "    outage_end = findall(diff(df[!, :y1]) .== 1)\n",
    "\n",
    "    if length(outage_end) < length(outage_start)\n",
    "        outage_start = outage_start[begin: end-1]\n",
    "    elseif length(outage_end) > length(outage_start)\n",
    "        outage_end = outage_end[begin + 1: end]\n",
    "    end\n",
    "\n",
    "    ttr_values = outage_end .- outage_start\n",
    "    ttf_values_all_types = outage_start[begin + 1: end] - outage_end[begin:end - 1]\n",
    "\n",
    "    outage_types = df[outage_end, :y2]\n",
    "    \n",
    "    fo_idx = findall(outage_types .== 2)\n",
    "\n",
    "    num_fo_average = length(fo_idx)/years\n",
    "    foh_average = sum(ttr_values[fo_idx])/years\n",
    "\n",
    "    push!(foh_vec, foh_average)\n",
    "    push!(num_fo_vec, num_fo_average)\n",
    "\n",
    "    po_idx = findall(outage_types .== 3)\n",
    "    num_po_average = length(po_idx)/years\n",
    "    poh_average = sum(ttr_values[po_idx])/years\n",
    "\n",
    "    push!(poh_vec, poh_average)\n",
    "    push!(num_po_vec, num_po_average)\n",
    "\n",
    "    mo_idx = findall(outage_types .== 4)\n",
    "    \n",
    "    num_mo_average = length(mo_idx)/years\n",
    "    moh_average = sum(ttr_values[mo_idx])/years\n",
    "\n",
    "    push!(moh_vec, moh_average)\n",
    "    push!(num_mo_vec, num_mo_average)\n",
    "\n",
    "end"
   ]
  },
  {
   "cell_type": "code",
   "execution_count": 41,
   "id": "1375a259",
   "metadata": {},
   "outputs": [
    {
     "name": "stdout",
     "output_type": "stream",
     "text": [
      "Average number of FO/ year: 7.461\n",
      "Average number of PO/ year: 1.799\n",
      "Average number of MO/ year: 2.780\n"
     ]
    }
   ],
   "source": [
    "@printf \"Average number of FO/ year: %.3f\\n\" mean(num_fo_vec)\n",
    "@printf \"Average number of PO/ year: %.3f\\n\" mean(num_po_vec)\n",
    "@printf \"Average number of MO/ year: %.3f\\n\" mean(num_mo_vec)"
   ]
  },
  {
   "cell_type": "code",
   "execution_count": 42,
   "id": "cbafa426",
   "metadata": {},
   "outputs": [
    {
     "name": "stdout",
     "output_type": "stream",
     "text": [
      "Average number of FOH/ year: 513.343 hours\n",
      "Average number of POH/ year: 634.662 hours\n",
      "Average number of MOH/ year: 183.775 hours\n"
     ]
    }
   ],
   "source": [
    "@printf \"Average number of FOH/ year: %.3f hours\\n\" mean(foh_vec)\n",
    "@printf \"Average number of POH/ year: %.3f hours\\n\" mean(poh_vec)\n",
    "@printf \"Average number of MOH/ year: %.3f hours\\n\" mean(moh_vec)"
   ]
  },
  {
   "cell_type": "code",
   "execution_count": 43,
   "id": "70a7360e",
   "metadata": {},
   "outputs": [
    {
     "name": "stdout",
     "output_type": "stream",
     "text": [
      "Average number of hours per FO: 68.807 hours\n",
      "Average number of hours per PO: 352.820 hours\n",
      "Average number of hours per MO: 66.104 hours\n"
     ]
    }
   ],
   "source": [
    "@printf \"Average number of hours per FO: %.3f hours\\n\" mean(foh_vec)/mean(num_fo_vec)\n",
    "@printf \"Average number of hours per PO: %.3f hours\\n\" mean(poh_vec)/mean(num_po_vec)\n",
    "@printf \"Average number of hours per MO: %.3f hours\\n\" mean(moh_vec)/mean(num_mo_vec)"
   ]
  },
  {
   "cell_type": "code",
   "execution_count": null,
   "id": "6fe8b751",
   "metadata": {},
   "outputs": [],
   "source": []
  }
 ],
 "metadata": {
  "kernelspec": {
   "display_name": "Julia 1.11.5",
   "language": "julia",
   "name": "julia-1.11"
  },
  "language_info": {
   "file_extension": ".jl",
   "mimetype": "application/julia",
   "name": "julia",
   "version": "1.11.5"
  }
 },
 "nbformat": 4,
 "nbformat_minor": 5
}
