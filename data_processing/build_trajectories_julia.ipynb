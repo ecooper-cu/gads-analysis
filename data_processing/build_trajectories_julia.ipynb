{
 "cells": [
  {
   "cell_type": "code",
   "execution_count": 3,
   "id": "16d58ec8",
   "metadata": {},
   "outputs": [],
   "source": [
    "using Printf, CSV, DataFrames, Statistics, Glob, XLSX, Dates, Plots\n",
    "# Makie"
   ]
  },
  {
   "cell_type": "code",
   "execution_count": 5,
   "id": "17a221d8",
   "metadata": {},
   "outputs": [
    {
     "data": {
      "text/plain": [
       "1-element Vector{String}:\n",
       " \"/home/emco4286/research/GADS_Pr\"\u001b[93m\u001b[1m ⋯ 38 bytes ⋯ \u001b[22m\u001b[39m\"p_1_rating_1_state_Iowa_raw.csv\""
      ]
     },
     "metadata": {},
     "output_type": "display_data"
    }
   ],
   "source": [
    "directory = joinpath(homedir(), \"research\", \"GADS_Processed\", \"raw_data\")\n",
    "files = glob(\"gen_287_*.csv\", directory)\n",
    "\n"
   ]
  },
  {
   "cell_type": "code",
   "execution_count": 6,
   "id": "3fee931e",
   "metadata": {},
   "outputs": [],
   "source": [
    "f = files[1]\n",
    "df = DataFrame(CSV.File(f))\n",
    "sort!(df, :EventStartDT)\n",
    "df = df[df.EventTypeCode .!= \"RS\", :]\n",
    "df = df[df.EventTypeCode .!= \"RU\", :];\n",
    "mydict = Dict([(\"PO\", 3), (\"U1\", 2), (\"SF\", 2), (\"MO\", 4), (\"PD\", 3), (\"A\", 1), (\"F\", 2), (\"U2\" , 2),(\"D4\", 4),(\"D1\", 2), (\"RU\", 5)])\n",
    "transform!(df, :EventTypeCode => ByRow(x -> mydict[x]), :EventTypeCode);"
   ]
  },
  {
   "cell_type": "code",
   "execution_count": 7,
   "id": "f89fbbf1",
   "metadata": {},
   "outputs": [
    {
     "data": {
      "text/plain": [
       "38688-element Vector{Int64}:\n",
       " 289302\n",
       " 289303\n",
       " 289304\n",
       " 289305\n",
       " 289306\n",
       " 289307\n",
       " 289308\n",
       " 289309\n",
       " 289310\n",
       " 289311\n",
       "      ⋮\n",
       " 327981\n",
       " 327982\n",
       " 327983\n",
       " 327984\n",
       " 327985\n",
       " 327986\n",
       " 327987\n",
       " 327988\n",
       " 327989"
      ]
     },
     "metadata": {},
     "output_type": "display_data"
    }
   ],
   "source": [
    "start_date_g = minimum(df[!, :EventStartDT])\n",
    "end_date_g = maximum(df[!, :EventEndDT])\n",
    "date_range_g = [c for c in start_date_g:Hour(1):end_date_g]\n",
    "\n",
    "end_hour_g = round(end_date_g-start_date_g, Hour).value + 1\n",
    "myrange_g = [c for c in 1:1:end_hour_g]\n",
    "\n",
    "agedict = Dict([(1, DateTime(1980, 1, 1)), (2, DateTime(1985, 1, 1)), (3, DateTime(1995, 1, 1)), (4, DateTime(2005, 1, 1)), (5, DateTime(2015, 1, 1)), (6, DateTime(2020, 1, 1))])\n",
    "state = fill(1, length(myrange_g))\n",
    "cause = fill(1, length(myrange_g))\n",
    "age = fill(1, length(myrange_g))\n",
    "\n",
    "birthdate = min(agedict[df[1, :CommercialDT_grp]], start_date_g)\n",
    "time_vector = map(x -> round(x - start_date_g, Hour), df[!, :EventStartDT])\n",
    "age_vector = map(x -> round(x - birthdate, Hour).value, date_range_g)"
   ]
  },
  {
   "cell_type": "code",
   "execution_count": 8,
   "id": "5c815785",
   "metadata": {},
   "outputs": [],
   "source": [
    "for k in [c for c in range(1, step=1, length=length(time_vector))]\n",
    "    start_time_string = df[k, :EventStartDT]\n",
    "    end_time_string = df[k, :EventEndDT]\n",
    "\n",
    "    start_hour = time_vector[k].value\n",
    "    duration = round(end_time_string - start_time_string, Hour).value\n",
    "    end_hour = start_hour + duration\n",
    "\n",
    "    start_index = max(1, start_hour)\n",
    "    end_index = findall(x -> x == end_hour, myrange_g)[1]\n",
    "    \n",
    "    state[start_index:end_index] .= 0\n",
    "    cause[start_index:end_index] .= df[k, :EventTypeCode_function]\n",
    "end"
   ]
  },
  {
   "cell_type": "code",
   "execution_count": 9,
   "id": "513a2ef3",
   "metadata": {},
   "outputs": [
    {
     "data": {
      "text/plain": [
       "1"
      ]
     },
     "metadata": {},
     "output_type": "display_data"
    }
   ],
   "source": [
    "u = 287\n",
    "unit_type_code = df[1, :UnitTypeCode]\n",
    "commercial_dt_grp = df[1, :CommercialDT_grp]\n",
    "state_name = df[1, :StateName]\n",
    "rating = df[1, :RatingMW_grp]"
   ]
  },
  {
   "cell_type": "code",
   "execution_count": 10,
   "id": "539103d5",
   "metadata": {},
   "outputs": [
    {
     "data": {
      "text/plain": [
       "\"/home/emco4286/research/GADS_Processed/trajectories/gen_287_type_100_dtgrp_1_rating_1_state_Iowa_traj.csv\""
      ]
     },
     "metadata": {},
     "output_type": "display_data"
    }
   ],
   "source": [
    "trajectory = DataFrame(x=age_vector, y=cause)\n",
    "\n",
    "fname = @sprintf \"gen_%d_type_%d_dtgrp_%d_rating_%d_state_%s_traj.csv\" u unit_type_code commercial_dt_grp rating state_name\n",
    "path = joinpath(homedir(), \"research\", \"GADS_Processed\", \"trajectories\", fname)\n",
    "CSV.write(path, trajectory)"
   ]
  },
  {
   "cell_type": "code",
   "execution_count": null,
   "id": "b854c46f",
   "metadata": {},
   "outputs": [
    {
     "ename": "UndefVarError",
     "evalue": "UndefVarError: `Figure` not defined in `Main`\nSuggestion: check for spelling errors or missing imports.",
     "output_type": "error",
     "traceback": [
      "UndefVarError: `Figure` not defined in `Main`\n",
      "Suggestion: check for spelling errors or missing imports.\n",
      "\n",
      "Stacktrace:\n",
      " [1] top-level scope\n",
      "   @ ~/research/jl_notebook_cell_df34fa98e69747e1a8f8a730347b8e2f_X13sdnNjb2RlLXJlbW90ZQ==.jl:1"
     ]
    }
   ],
   "source": [
    "f = Figure()\n",
    "\n",
    "ax = Axis(f[1, 1], xlabel = \"Date\", ylabel = \"Availability\",\n",
    "    title = \"Generator #287\")\n",
    "\n",
    "colormap=Makie.Categorical(:viridis)\n",
    "\n",
    "plot(ax, date_range_g, state,label=\"\", xticks=false)\n",
    "scatter!(date_range_g, state, zcolor=cause, markerstrokewidth=0.1, label=\"\", xticks=false, color=1:6, colormap=colormap)\n",
    "\n",
    "tick_years = DateTime(2013):Year(1):DateTime(2024)\n",
    "DateTick = Dates.format.(tick_years, \"yyyy\")\n",
    "plot!(xticks=(tick_years,DateTick), xtickfontsize=6)\n",
    "\n",
    "Colorbar(fig[1, 3], limits = (0, 5),\n",
    "    colormap = colormap, size = 25)"
   ]
  },
  {
   "cell_type": "code",
   "execution_count": 14,
   "id": "9d2ac5c7",
   "metadata": {},
   "outputs": [
    {
     "data": {
      "text/plain": [
       "\"/home/emco4286/research/gen_287_traj.png\""
      ]
     },
     "metadata": {},
     "output_type": "display_data"
    }
   ],
   "source": [
    "plot(date_range_g, state,label=\"\", xticks=false)\n",
    "scatter!(date_range_g, state, zcolor=cause, markerstrokewidth=0.1, label=\"\", xticks=false)\n",
    "\n",
    "tick_years = DateTime(2013):Year(1):DateTime(2024)\n",
    "DateTick = Dates.format.(tick_years, \"yyyy\")\n",
    "plot!(xticks=(tick_years,DateTick), xtickfontsize=6)\n",
    "savefig(\"gen_287_traj.png\")"
   ]
  },
  {
   "cell_type": "code",
   "execution_count": null,
   "id": "e11ac6ab",
   "metadata": {},
   "outputs": [],
   "source": []
  }
 ],
 "metadata": {
  "kernelspec": {
   "display_name": "Julia 1.11.5",
   "language": "julia",
   "name": "julia-1.11"
  },
  "language_info": {
   "file_extension": ".jl",
   "mimetype": "application/julia",
   "name": "julia",
   "version": "1.11.5"
  }
 },
 "nbformat": 4,
 "nbformat_minor": 5
}
