{
 "cells": [
  {
   "cell_type": "code",
   "execution_count": 1,
   "id": "3ffc4d40",
   "metadata": {},
   "outputs": [],
   "source": [
    "import numpy as np\n",
    "import matplotlib.pyplot as plt\n",
    "import pandas as pd\n",
    "\n",
    "import sys\n",
    "import os\n",
    "import pathlib\n",
    "import itertools\n",
    "import glob\n",
    "import re\n",
    "package_path = os.path.join(pathlib.Path.home(), \"mkvchain\")\n",
    "sys.path.append(package_path)\n",
    "from model import FeatureDependentMarkovChain"
   ]
  },
  {
   "cell_type": "code",
   "execution_count": 52,
   "id": "21e9c68e",
   "metadata": {},
   "outputs": [],
   "source": [
    "import sklearn"
   ]
  },
  {
   "cell_type": "code",
   "execution_count": 2,
   "id": "8ed29f7b",
   "metadata": {},
   "outputs": [],
   "source": [
    "root = pathlib.Path.home()\n",
    "# pt = os.path.join(root, 'research', 'gen_287_2013_2017_state.csv')\n",
    "pt = os.path.join(root, 'research', 'GADS_Processed', \"trajectories_with_features\")\n",
    "\n",
    "def glob_re(pattern, strings):\n",
    "    return list(filter(re.compile(pattern).match, strings))\n",
    "\n",
    "filenames = glob_re(r\"gen_\\d+_type_200_dtgrp_\\d+_rating_\\d+_state_Texas_raw.csv\", os.listdir(pt))\n"
   ]
  },
  {
   "cell_type": "code",
   "execution_count": 3,
   "id": "b1e53ebf",
   "metadata": {},
   "outputs": [],
   "source": [
    "states_new = []\n",
    "features_new = []\n",
    "lengths_new = []\n",
    "\n",
    "for f in filenames:\n",
    "    data = pd.read_csv(os.path.join(pt,f))\n",
    "    data.set_index(\"x\", inplace=True)\n",
    "    data.rename(columns=dict(zip(data.columns, [str(i) for i in range(len(data.columns))])), inplace=True)\n",
    "    data.dropna(inplace=True)\n",
    "\n",
    "    states = data[\"1\"].values.tolist()\n",
    "    features = data[[\"2\", \"3\", \"4\"]].values\n",
    "    l = len(data)\n",
    "\n",
    "    states_new += [states]\n",
    "    features_new += [features]\n",
    "    lengths_new += [l]\n",
    "\n",
    "states = np.concatenate(states_new).astype(int)\n",
    "states -= 1\n",
    "features = np.vstack(features_new)\n",
    "lengths = np.array(lengths_new)"
   ]
  },
  {
   "cell_type": "code",
   "execution_count": 59,
   "id": "fcb64ba3",
   "metadata": {},
   "outputs": [
    {
     "data": {
      "text/html": [
       "<div>\n",
       "<style scoped>\n",
       "    .dataframe tbody tr th:only-of-type {\n",
       "        vertical-align: middle;\n",
       "    }\n",
       "\n",
       "    .dataframe tbody tr th {\n",
       "        vertical-align: top;\n",
       "    }\n",
       "\n",
       "    .dataframe thead th {\n",
       "        text-align: right;\n",
       "    }\n",
       "</style>\n",
       "<table border=\"1\" class=\"dataframe\">\n",
       "  <thead>\n",
       "    <tr style=\"text-align: right;\">\n",
       "      <th></th>\n",
       "      <th>0</th>\n",
       "      <th>1</th>\n",
       "      <th>2</th>\n",
       "      <th>3</th>\n",
       "      <th>4</th>\n",
       "    </tr>\n",
       "    <tr>\n",
       "      <th>x</th>\n",
       "      <th></th>\n",
       "      <th></th>\n",
       "      <th></th>\n",
       "      <th></th>\n",
       "      <th></th>\n",
       "    </tr>\n",
       "  </thead>\n",
       "  <tbody>\n",
       "    <tr>\n",
       "      <th>2013-01-01T06:00:00.0</th>\n",
       "      <td>1.0</td>\n",
       "      <td>1.0</td>\n",
       "      <td>7305</td>\n",
       "      <td>10472.12636</td>\n",
       "      <td>1</td>\n",
       "    </tr>\n",
       "    <tr>\n",
       "      <th>2013-01-01T07:00:00.0</th>\n",
       "      <td>1.0</td>\n",
       "      <td>1.0</td>\n",
       "      <td>7305</td>\n",
       "      <td>10891.21790</td>\n",
       "      <td>1</td>\n",
       "    </tr>\n",
       "    <tr>\n",
       "      <th>2013-01-01T08:00:00.0</th>\n",
       "      <td>1.0</td>\n",
       "      <td>1.0</td>\n",
       "      <td>7305</td>\n",
       "      <td>11190.20403</td>\n",
       "      <td>1</td>\n",
       "    </tr>\n",
       "    <tr>\n",
       "      <th>2013-01-01T09:00:00.0</th>\n",
       "      <td>1.0</td>\n",
       "      <td>1.0</td>\n",
       "      <td>7305</td>\n",
       "      <td>11627.12738</td>\n",
       "      <td>1</td>\n",
       "    </tr>\n",
       "    <tr>\n",
       "      <th>2013-01-01T10:00:00.0</th>\n",
       "      <td>1.0</td>\n",
       "      <td>1.0</td>\n",
       "      <td>7305</td>\n",
       "      <td>12310.00187</td>\n",
       "      <td>1</td>\n",
       "    </tr>\n",
       "    <tr>\n",
       "      <th>...</th>\n",
       "      <td>...</td>\n",
       "      <td>...</td>\n",
       "      <td>...</td>\n",
       "      <td>...</td>\n",
       "      <td>...</td>\n",
       "    </tr>\n",
       "    <tr>\n",
       "      <th>2023-12-31T20:00:00.0</th>\n",
       "      <td>1.0</td>\n",
       "      <td>1.0</td>\n",
       "      <td>11322</td>\n",
       "      <td>12423.90000</td>\n",
       "      <td>365</td>\n",
       "    </tr>\n",
       "    <tr>\n",
       "      <th>2023-12-31T21:00:00.0</th>\n",
       "      <td>1.0</td>\n",
       "      <td>1.0</td>\n",
       "      <td>11322</td>\n",
       "      <td>12226.08000</td>\n",
       "      <td>365</td>\n",
       "    </tr>\n",
       "    <tr>\n",
       "      <th>2023-12-31T22:00:00.0</th>\n",
       "      <td>1.0</td>\n",
       "      <td>1.0</td>\n",
       "      <td>11322</td>\n",
       "      <td>12039.30000</td>\n",
       "      <td>365</td>\n",
       "    </tr>\n",
       "    <tr>\n",
       "      <th>2023-12-31T23:00:00.0</th>\n",
       "      <td>1.0</td>\n",
       "      <td>1.0</td>\n",
       "      <td>11322</td>\n",
       "      <td>11844.79000</td>\n",
       "      <td>365</td>\n",
       "    </tr>\n",
       "    <tr>\n",
       "      <th>2024-01-01T00:00:00.0</th>\n",
       "      <td>1.0</td>\n",
       "      <td>1.0</td>\n",
       "      <td>11322</td>\n",
       "      <td>11829.84000</td>\n",
       "      <td>1</td>\n",
       "    </tr>\n",
       "  </tbody>\n",
       "</table>\n",
       "<p>96402 rows × 5 columns</p>\n",
       "</div>"
      ],
      "text/plain": [
       "                         0    1      2            3    4\n",
       "x                                                       \n",
       "2013-01-01T06:00:00.0  1.0  1.0   7305  10472.12636    1\n",
       "2013-01-01T07:00:00.0  1.0  1.0   7305  10891.21790    1\n",
       "2013-01-01T08:00:00.0  1.0  1.0   7305  11190.20403    1\n",
       "2013-01-01T09:00:00.0  1.0  1.0   7305  11627.12738    1\n",
       "2013-01-01T10:00:00.0  1.0  1.0   7305  12310.00187    1\n",
       "...                    ...  ...    ...          ...  ...\n",
       "2023-12-31T20:00:00.0  1.0  1.0  11322  12423.90000  365\n",
       "2023-12-31T21:00:00.0  1.0  1.0  11322  12226.08000  365\n",
       "2023-12-31T22:00:00.0  1.0  1.0  11322  12039.30000  365\n",
       "2023-12-31T23:00:00.0  1.0  1.0  11322  11844.79000  365\n",
       "2024-01-01T00:00:00.0  1.0  1.0  11322  11829.84000    1\n",
       "\n",
       "[96402 rows x 5 columns]"
      ]
     },
     "execution_count": 59,
     "metadata": {},
     "output_type": "execute_result"
    }
   ],
   "source": [
    "data"
   ]
  },
  {
   "cell_type": "code",
   "execution_count": 5,
   "id": "eb813138",
   "metadata": {},
   "outputs": [
    {
     "data": {
      "text/plain": [
       "(385608,)"
      ]
     },
     "execution_count": 5,
     "metadata": {},
     "output_type": "execute_result"
    }
   ],
   "source": [
    "states.shape"
   ]
  },
  {
   "cell_type": "code",
   "execution_count": 6,
   "id": "7ae9aab8",
   "metadata": {},
   "outputs": [],
   "source": [
    "train_idx = 2 # int(lengths.size * .8)\n",
    "val_idx = 3 #int(lengths.size * .9)\n",
    "\n",
    "lengths_train = lengths[:train_idx]\n",
    "lengths_val = lengths[train_idx:val_idx]\n",
    "lengths_test = lengths[val_idx:]\n",
    "\n",
    "states_train = states[:lengths_train.sum()]\n",
    "states_val = states[lengths_train.sum():lengths_train.sum()+lengths_val.sum()]\n",
    "states_test = states[lengths_train.sum()+lengths_val.sum():]\n",
    "\n",
    "features_train = features[:lengths_train.sum()]\n",
    "features_val = features[lengths_train.sum():lengths_train.sum()+lengths_val.sum()]\n",
    "features_test = features[lengths_train.sum()+lengths_val.sum():]"
   ]
  },
  {
   "cell_type": "code",
   "execution_count": 7,
   "id": "bf1ce65f",
   "metadata": {},
   "outputs": [
    {
     "data": {
      "text/plain": [
       "385608"
      ]
     },
     "execution_count": 7,
     "metadata": {},
     "output_type": "execute_result"
    }
   ],
   "source": [
    "len(features)"
   ]
  },
  {
   "cell_type": "code",
   "execution_count": 8,
   "id": "a5c3bfbf",
   "metadata": {},
   "outputs": [
    {
     "data": {
      "text/plain": [
       "((192804, 3), (96402, 3), (96402, 3))"
      ]
     },
     "execution_count": 8,
     "metadata": {},
     "output_type": "execute_result"
    }
   ],
   "source": [
    "features_train.shape, features_val.shape, features_test.shape"
   ]
  },
  {
   "cell_type": "code",
   "execution_count": 9,
   "id": "de7b942f",
   "metadata": {},
   "outputs": [
    {
     "data": {
      "text/plain": [
       "((192804,), (96402,), (96402,))"
      ]
     },
     "execution_count": 9,
     "metadata": {},
     "output_type": "execute_result"
    }
   ],
   "source": [
    "states_train.shape, states_val.shape, states_test.shape"
   ]
  },
  {
   "cell_type": "code",
   "execution_count": 10,
   "id": "6e40a14f",
   "metadata": {},
   "outputs": [],
   "source": [
    "from sklearn.preprocessing import QuantileTransformer, StandardScaler\n",
    "ss = StandardScaler()\n",
    "\n",
    "features_train = ss.fit_transform(features_train)\n",
    "features_val = ss.transform(features_val)\n",
    "features_test = ss.transform(features_test)"
   ]
  },
  {
   "cell_type": "code",
   "execution_count": 23,
   "id": "ef2d3636",
   "metadata": {},
   "outputs": [],
   "source": [
    "import matplotlib.colors as colors"
   ]
  },
  {
   "cell_type": "code",
   "execution_count": 30,
   "id": "dd12b2d0",
   "metadata": {},
   "outputs": [
    {
     "data": {
      "text/plain": [
       "<matplotlib.colorbar.Colorbar at 0x7eff85d93400>"
      ]
     },
     "execution_count": 30,
     "metadata": {},
     "output_type": "execute_result"
    },
    {
     "data": {
      "image/png": "[encoded data removed]",
      "text/plain": [
       "<Figure size 640x480 with 2 Axes>"
      ]
     },
     "metadata": {},
     "output_type": "display_data"
    }
   ],
   "source": [
    "n = len(np.unique(states))\n",
    "i = 0\n",
    "P = np.zeros((n,n))\n",
    "for l in lengths:\n",
    "    for j in range(i, i+l-1):\n",
    "        P[states[j], states[j+1]] += 1\n",
    "    i += l\n",
    "P = P / P.sum(axis=1)[:, None]\n",
    "plt.imshow(P, norm=colors.LogNorm(vmin=np.min(P), vmax=np.max(P)))\n",
    "plt.colorbar()"
   ]
  },
  {
   "cell_type": "code",
   "execution_count": 13,
   "id": "2735bcaa",
   "metadata": {},
   "outputs": [
    {
     "data": {
      "text/plain": [
       "(np.float64(-1536.4679172060019),\n",
       " np.float64(-2613.6603291658057),\n",
       " np.float64(-2169.407581466809))"
      ]
     },
     "execution_count": 13,
     "metadata": {},
     "output_type": "execute_result"
    }
   ],
   "source": [
    "model1 = FeatureDependentMarkovChain(n, lam_frob=0, n_iter=1)\n",
    "model1.fit(states_train, features_train*0, lengths_train, verbose=False)\n",
    "train1, val1, test1 = model1.score(states_train, features_train*0, lengths_train, average=False), \\\n",
    "    model1.score(states_val, features_val*0, lengths_val, average=False), \\\n",
    "    model1.score(states_test, features_test*0, lengths_test, average=False)\n",
    "train1, val1, test1"
   ]
  },
  {
   "cell_type": "code",
   "execution_count": null,
   "id": "9b200e20",
   "metadata": {},
   "outputs": [],
   "source": [
    "predictions = model1.predict(features_test)"
   ]
  },
  {
   "cell_type": "code",
   "execution_count": 50,
   "id": "57596833",
   "metadata": {},
   "outputs": [
    {
     "name": "stdout",
     "output_type": "stream",
     "text": [
      "0 -> 0 : [0.99942763]\n",
      "0 -> 1 : [0.00018504]\n",
      "0 -> 2 : [0.00038157]\n",
      "0 -> 3 : [5.77048227e-06]\n",
      "1 -> 0 : [0.00673201]\n",
      "1 -> 1 : [0.99305002]\n",
      "1 -> 2 : [0.00021796]\n",
      "1 -> 3 : [1.68218657e-08]\n",
      "2 -> 0 : [0.0044361]\n",
      "2 -> 1 : [4.92633674e-10]\n",
      "2 -> 2 : [0.9955639]\n",
      "2 -> 3 : [4.92633674e-10]\n",
      "3 -> 0 : [0.0093329]\n",
      "3 -> 1 : [1.18773837e-06]\n",
      "3 -> 2 : [1.18773837e-06]\n",
      "3 -> 3 : [0.99066473]\n"
     ]
    }
   ],
   "source": [
    "for i, j in itertools.product(range(4), range(4)):\n",
    "    y = predictions[:, i, j]\n",
    "    val = np.unique(y)\n",
    "    print(f\"{i} -> {j} : {val}\")"
   ]
  },
  {
   "cell_type": "code",
   "execution_count": 54,
   "id": "ebe90d9d",
   "metadata": {},
   "outputs": [
    {
     "data": {
      "text/plain": [
       "(array([6180.61408909, 2143.2206524 ,  815.0338365 ]), array([0., 0., 0.]))"
      ]
     },
     "execution_count": 54,
     "metadata": {},
     "output_type": "execute_result"
    }
   ],
   "source": [
    "sklearn.feature_selection.f_classif(features, states)"
   ]
  },
  {
   "cell_type": "code",
   "execution_count": 55,
   "id": "15c1eb61",
   "metadata": {},
   "outputs": [
    {
     "data": {
      "text/plain": [
       "array([0.26596283, 0.00707873, 0.07898   ])"
      ]
     },
     "execution_count": 55,
     "metadata": {},
     "output_type": "execute_result"
    }
   ],
   "source": [
    "sklearn.feature_selection.mutual_info_regression(features, states)"
   ]
  },
  {
   "cell_type": "code",
   "execution_count": 58,
   "id": "9be89c29",
   "metadata": {},
   "outputs": [
    {
     "data": {
      "text/plain": [
       "array([[8.76600000e+03, 7.05073078e+03, 1.00000000e+00],\n",
       "       [8.76600000e+03, 7.17778719e+03, 1.00000000e+00],\n",
       "       [8.76600000e+03, 7.22321256e+03, 1.00000000e+00],\n",
       "       ...,\n",
       "       [1.13220000e+04, 1.20393000e+04, 3.65000000e+02],\n",
       "       [1.13220000e+04, 1.18447900e+04, 3.65000000e+02],\n",
       "       [1.13220000e+04, 1.18298400e+04, 1.00000000e+00]],\n",
       "      shape=(385608, 3))"
      ]
     },
     "execution_count": 58,
     "metadata": {},
     "output_type": "execute_result"
    }
   ],
   "source": [
    "features"
   ]
  },
  {
   "cell_type": "code",
   "execution_count": null,
   "id": "7ec63f23",
   "metadata": {},
   "outputs": [
    {
     "name": "stderr",
     "output_type": "stream",
     "text": [
      "/tmp/ipykernel_742231/1828117095.py:4: UserWarning: Attempting to set identical low and high ylims makes transformation singular; automatically expanding.\n",
      "  ax.set_ylim(np.min(predictions[:, 1, 1]), np.max(predictions[:, 1, 1]))\n"
     ]
    },
    {
     "data": {
      "text/plain": [
       "(0.9433975163363789, 1.0427025180559977)"
      ]
     },
     "execution_count": 46,
     "metadata": {},
     "output_type": "execute_result"
    },
    {
     "data": {
      "image/png": "[encoded data removed]",
      "text/plain": [
       "<Figure size 640x480 with 1 Axes>"
      ]
     },
     "metadata": {},
     "output_type": "display_data"
    }
   ],
   "source": [
    "fig, ax = plt.subplots()\n",
    "\n",
    "y = predictions[:, 1, 1]\n",
    "\n",
    "ax.plot(features[lengths_train.sum()+lengths_val.sum():][:, 1], y)"
   ]
  },
  {
   "cell_type": "code",
   "execution_count": null,
   "id": "0a565ba6",
   "metadata": {},
   "outputs": [],
   "source": [
    "fig, ax = plt.subplots()\n",
    "\n",
    "ax.scatter()"
   ]
  },
  {
   "cell_type": "code",
   "execution_count": 15,
   "id": "0d0aaf16",
   "metadata": {},
   "outputs": [
    {
     "data": {
      "image/png": "[encoded data removed]",
      "text/plain": [
       "<Figure size 640x480 with 16 Axes>"
      ]
     },
     "metadata": {},
     "output_type": "display_data"
    }
   ],
   "source": [
    "fig, ax = plt.subplots(nrows=4, ncols=4, sharex=True)\n",
    "for i, j in itertools.product(range(4), range(4)):\n",
    "    ax[i, j].scatter(range(len(predictions)), predictions[:, i, j])\n",
    "\n",
    "fig.tight_layout()"
   ]
  },
  {
   "cell_type": "code",
   "execution_count": 115,
   "id": "ed8273a4",
   "metadata": {},
   "outputs": [
    {
     "data": {
      "text/plain": [
       "96407"
      ]
     },
     "execution_count": 115,
     "metadata": {},
     "output_type": "execute_result"
    }
   ],
   "source": [
    "len(features_test)"
   ]
  },
  {
   "cell_type": "code",
   "execution_count": 20,
   "id": "4990448d",
   "metadata": {},
   "outputs": [
    {
     "data": {
      "text/plain": [
       "<matplotlib.collections.PathCollection at 0x7eff95415f60>"
      ]
     },
     "execution_count": 20,
     "metadata": {},
     "output_type": "execute_result"
    },
    {
     "data": {
      "image/png": "[encoded data removed]",
      "text/plain": [
       "<Figure size 640x480 with 1 Axes>"
      ]
     },
     "metadata": {},
     "output_type": "display_data"
    }
   ],
   "source": [
    "fig, ax = plt.subplots()\n",
    "\n",
    "cmap = {0:'red', 1: 'orange', 2: \"green\", 3: \"blue\"}\n",
    "\n",
    "colors = [cmap[v] for v in states_test]\n",
    "ax.scatter(range(len(predictions)), predictions[:, 3, 0], c=colors, s=1)"
   ]
  },
  {
   "cell_type": "code",
   "execution_count": 101,
   "id": "ea83621d",
   "metadata": {},
   "outputs": [
    {
     "data": {
      "text/plain": [
       "[<matplotlib.lines.Line2D at 0x7fa256f3e710>]"
      ]
     },
     "execution_count": 101,
     "metadata": {},
     "output_type": "execute_result"
    },
    {
     "data": {
      "image/png": "[encoded data removed]",
      "text/plain": [
       "<Figure size 640x480 with 1 Axes>"
      ]
     },
     "metadata": {},
     "output_type": "display_data"
    }
   ],
   "source": [
    "fig, ax = plt.subplots()\n",
    "ax.plot(range(96403), states_test)"
   ]
  },
  {
   "cell_type": "code",
   "execution_count": 100,
   "id": "f6d09948",
   "metadata": {},
   "outputs": [
    {
     "data": {
      "text/plain": [
       "array([0, 0, 0, ..., 0, 0, 0], shape=(96403,))"
      ]
     },
     "execution_count": 100,
     "metadata": {},
     "output_type": "execute_result"
    }
   ],
   "source": [
    "states_test"
   ]
  },
  {
   "cell_type": "code",
   "execution_count": null,
   "id": "dfecd0c3",
   "metadata": {},
   "outputs": [],
   "source": []
  }
 ],
 "metadata": {
  "kernelspec": {
   "display_name": "cxgrp",
   "language": "python",
   "name": "cxgrp"
  },
  "language_info": {
   "codemirror_mode": {
    "name": "ipython",
    "version": 3
   },
   "file_extension": ".py",
   "mimetype": "text/x-python",
   "name": "python",
   "nbconvert_exporter": "python",
   "pygments_lexer": "ipython3",
   "version": "3.10.12"
  }
 },
 "nbformat": 4,
 "nbformat_minor": 5
}
