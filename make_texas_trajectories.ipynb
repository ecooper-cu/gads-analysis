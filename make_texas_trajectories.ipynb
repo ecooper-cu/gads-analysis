{
 "cells": [
  {
   "cell_type": "code",
   "execution_count": 2,
   "id": "834d296e",
   "metadata": {},
   "outputs": [],
   "source": [
    "using Printf, CSV, DataFrames, Statistics, Glob, XLSX, Dates, Plots, TimeSeries, JSON"
   ]
  },
  {
   "cell_type": "code",
   "execution_count": 3,
   "id": "6ffa53fd",
   "metadata": {},
   "outputs": [],
   "source": [
    "directory = joinpath(homedir(), \"research\", \"GADS_Processed\", \"raw_data\")\n",
    "files = glob(\"*_state_Texas_raw.csv\", directory)\n",
    "x = Dict()\n",
    "i = 1\n",
    "mydict = Dict([(\"A\", 1), (\"RS\", 1), (\"NC\", 1),  (\"IR\", 1), (\"MB\", 1), (\"F\", 2), (\"U1\", 2), (\"U2\" , 2), (\"U3\" , 2), (\"D1\", 2), (\"D2\", 2), (\"D3\", 2), (\"SF\", 2), (\"PO\", 3), (\"PE\", 3), (\"PD\", 3), (\"DP\", 3), (\"MO\", 4), (\"ME\", 4), (\"DM\", 4), (\"D4\", 4), (\"RU\", 5), (\"DR\", 5), (\"TC\", 5)])\n",
    "agedict = Dict([(1, DateTime(1980, 1, 1)), (2, DateTime(1985, 1, 1)), (3, DateTime(1995, 1, 1)), (4, DateTime(2005, 1, 1)), (5, DateTime(2015, 1, 1)), (6, DateTime(2020, 1, 1))])\n",
    "types_dict = Dict(\"EventStartDT\" => DateTime, \"EventEndDT\" => DateTime)\n",
    "rating_dict = Dict([(1, 50), (2, 150), (3, 200)]);"
   ]
  },
  {
   "cell_type": "code",
   "execution_count": 18,
   "id": "476b6a3a",
   "metadata": {},
   "outputs": [
    {
     "name": "stdout",
     "output_type": "stream",
     "text": [
      "/home/emco4286/research/GADS_Processed/raw_data/gen_10001_type_400_dtgrp_5_rating_2_state_Texas_raw.csv \n",
      "/home/emco4286/research/GADS_Processed/raw_data/gen_10034_type_851_dtgrp_2_rating_1_state_Texas_raw.csv \n",
      "/home/emco4286/research/GADS_Processed/raw_data/gen_10035_type_851_dtgrp_2_rating_1_state_Texas_raw.csv \n",
      "/home/emco4286/research/GADS_Processed/raw_data/gen_10036_type_852_dtgrp_2_rating_1_state_Texas_raw.csv \n",
      "/home/emco4286/research/GADS_Processed/raw_data/gen_10037_type_851_dtgrp_4_rating_2_state_Texas_raw.csv \n",
      "/home/emco4286/research/GADS_Processed/raw_data/gen_10038_type_851_dtgrp_4_rating_2_state_Texas_raw.csv \n",
      "/home/emco4286/research/GADS_Processed/raw_data/gen_10039_type_852_dtgrp_4_rating_3_state_Texas_raw.csv \n",
      "/home/emco4286/research/GADS_Processed/raw_data/gen_10040_type_851_dtgrp_4_rating_2_state_Texas_raw.csv \n",
      "/home/emco4286/research/GADS_Processed/raw_data/gen_10041_type_851_dtgrp_4_rating_2_state_Texas_raw.csv \n",
      "/home/emco4286/research/GADS_Processed/raw_data/gen_10042_type_852_dtgrp_4_rating_2_state_Texas_raw.csv \n",
      "/home/emco4286/research/GADS_Processed/raw_data/gen_10056_type_851_dtgrp_4_rating_1_state_Texas_raw.csv \n",
      "/home/emco4286/research/GADS_Processed/raw_data/gen_10057_type_852_dtgrp_5_rating_2_state_Texas_raw.csv \n",
      "/home/emco4286/research/GADS_Processed/raw_data/gen_10066_type_852_dtgrp_2_rating_1_state_Texas_raw.csv \n",
      "/home/emco4286/research/GADS_Processed/raw_data/gen_10067_type_851_dtgrp_2_rating_1_state_Texas_raw.csv \n",
      "/home/emco4286/research/GADS_Processed/raw_data/gen_10068_type_851_dtgrp_2_rating_1_state_Texas_raw.csv \n",
      "/home/emco4286/research/GADS_Processed/raw_data/gen_10080_type_300_dtgrp_4_rating_1_state_Texas_raw.csv \n",
      "/home/emco4286/research/GADS_Processed/raw_data/gen_10081_type_300_dtgrp_4_rating_1_state_Texas_raw.csv \n",
      "/home/emco4286/research/GADS_Processed/raw_data/gen_10082_type_300_dtgrp_5_rating_1_state_Texas_raw.csv \n",
      "/home/emco4286/research/GADS_Processed/raw_data/gen_10083_type_300_dtgrp_5_rating_1_state_Texas_raw.csv \n",
      "/home/emco4286/research/GADS_Processed/raw_data/gen_10086_type_861_dtgrp_2_rating_1_state_Texas_raw.csv \n",
      "/home/emco4286/research/GADS_Processed/raw_data/gen_10087_type_861_dtgrp_2_rating_1_state_Texas_raw.csv \n",
      "/home/emco4286/research/GADS_Processed/raw_data/gen_10088_type_861_dtgrp_2_rating_1_state_Texas_raw.csv \n",
      "/home/emco4286/research/GADS_Processed/raw_data/gen_10089_type_861_dtgrp_2_rating_1_state_Texas_raw.csv \n",
      "/home/emco4286/research/GADS_Processed/raw_data/gen_10160_type_300_dtgrp_4_rating_2_state_Texas_raw.csv \n",
      "/home/emco4286/research/GADS_Processed/raw_data/gen_10161_type_300_dtgrp_4_rating_2_state_Texas_raw.csv \n",
      "/home/emco4286/research/GADS_Processed/raw_data/gen_10162_type_850_dtgrp_4_rating_2_state_Texas_raw.csv \n",
      "/home/emco4286/research/GADS_Processed/raw_data/gen_10240_type_851_dtgrp_4_rating_1_state_Texas_raw.csv \n",
      "/home/emco4286/research/GADS_Processed/raw_data/gen_10263_type_300_dtgrp_1_rating_1_state_Texas_raw.csv \n",
      "/home/emco4286/research/GADS_Processed/raw_data/gen_10264_type_300_dtgrp_2_rating_1_state_Texas_raw.csv \n",
      "/home/emco4286/research/GADS_Processed/raw_data/gen_10266_type_300_dtgrp_2_rating_1_state_Texas_raw.csv \n",
      "/home/emco4286/research/GADS_Processed/raw_data/gen_10267_type_100_dtgrp_2_rating_1_state_Texas_raw.csv \n",
      "/home/emco4286/research/GADS_Processed/raw_data/gen_10269_type_100_dtgrp_2_rating_2_state_Texas_raw.csv \n",
      "/home/emco4286/research/GADS_Processed/raw_data/gen_10270_type_300_dtgrp_2_rating_2_state_Texas_raw.csv \n",
      "/home/emco4286/research/GADS_Processed/raw_data/gen_10271_type_300_dtgrp_2_rating_2_state_Texas_raw.csv \n",
      "/home/emco4286/research/GADS_Processed/raw_data/gen_10272_type_100_dtgrp_4_rating_1_state_Texas_raw.csv \n",
      "/home/emco4286/research/GADS_Processed/raw_data/gen_10273_type_300_dtgrp_4_rating_2_state_Texas_raw.csv \n",
      "/home/emco4286/research/GADS_Processed/raw_data/gen_10295_type_100_dtgrp_1_rating_2_state_Texas_raw.csv \n",
      "/home/emco4286/research/GADS_Processed/raw_data/gen_10296_type_100_dtgrp_1_rating_1_state_Texas_raw.csv \n",
      "/home/emco4286/research/GADS_Processed/raw_data/gen_10348_type_650_dtgrp_5_rating_2_state_Texas_raw.csv \n",
      "/home/emco4286/research/GADS_Processed/raw_data/gen_10349_type_650_dtgrp_5_rating_2_state_Texas_raw.csv \n",
      "/home/emco4286/research/GADS_Processed/raw_data/gen_10351_type_851_dtgrp_3_rating_2_state_Texas_raw.csv \n",
      "/home/emco4286/research/GADS_Processed/raw_data/gen_10352_type_851_dtgrp_3_rating_2_state_Texas_raw.csv \n",
      "/home/emco4286/research/GADS_Processed/raw_data/gen_10353_type_852_dtgrp_4_rating_2_state_Texas_raw.csv \n",
      "/home/emco4286/research/GADS_Processed/raw_data/gen_10354_type_300_dtgrp_4_rating_2_state_Texas_raw.csv \n",
      "/home/emco4286/research/GADS_Processed/raw_data/gen_10355_type_300_dtgrp_4_rating_2_state_Texas_raw.csv \n",
      "/home/emco4286/research/GADS_Processed/raw_data/gen_10369_type_861_dtgrp_3_rating_1_state_Texas_raw.csv \n",
      "/home/emco4286/research/GADS_Processed/raw_data/gen_10370_type_861_dtgrp_3_rating_1_state_Texas_raw.csv \n",
      "/home/emco4286/research/GADS_Processed/raw_data/gen_10371_type_861_dtgrp_3_rating_1_state_Texas_raw.csv \n",
      "/home/emco4286/research/GADS_Processed/raw_data/gen_10372_type_861_dtgrp_3_rating_1_state_Texas_raw.csv \n",
      "/home/emco4286/research/GADS_Processed/raw_data/gen_10373_type_861_dtgrp_3_rating_1_state_Texas_raw.csv \n",
      "/home/emco4286/research/GADS_Processed/raw_data/gen_10374_type_861_dtgrp_4_rating_1_state_Texas_raw.csv \n",
      "/home/emco4286/research/GADS_Processed/raw_data/gen_10375_type_862_dtgrp_3_rating_1_state_Texas_raw.csv \n",
      "/home/emco4286/research/GADS_Processed/raw_data/gen_10376_type_862_dtgrp_3_rating_1_state_Texas_raw.csv \n",
      "/home/emco4286/research/GADS_Processed/raw_data/gen_10377_type_862_dtgrp_4_rating_1_state_Texas_raw.csv \n",
      "/home/emco4286/research/GADS_Processed/raw_data/gen_10378_type_300_dtgrp_3_rating_1_state_Texas_raw.csv \n",
      "/home/emco4286/research/GADS_Processed/raw_data/gen_10379_type_300_dtgrp_3_rating_1_state_Texas_raw.csv \n",
      "/home/emco4286/research/GADS_Processed/raw_data/gen_1037_type_852_dtgrp_5_rating_3_state_Texas_raw.csv \n",
      "/home/emco4286/research/GADS_Processed/raw_data/gen_10380_type_300_dtgrp_3_rating_1_state_Texas_raw.csv \n",
      "/home/emco4286/research/GADS_Processed/raw_data/gen_10381_type_100_dtgrp_3_rating_3_state_Texas_raw.csv \n",
      "/home/emco4286/research/GADS_Processed/raw_data/gen_1038_type_851_dtgrp_5_rating_2_state_Texas_raw.csv \n",
      "/home/emco4286/research/GADS_Processed/raw_data/gen_1039_type_851_dtgrp_5_rating_2_state_Texas_raw.csv \n",
      "/home/emco4286/research/GADS_Processed/raw_data/gen_1040_type_100_dtgrp_1_rating_3_state_Texas_raw.csv \n",
      "/home/emco4286/research/GADS_Processed/raw_data/gen_10474_type_850_dtgrp_4_rating_3_state_Texas_raw.csv \n",
      "/home/emco4286/research/GADS_Processed/raw_data/gen_10475_type_850_dtgrp_4_rating_3_state_Texas_raw.csv \n",
      "/home/emco4286/research/GADS_Processed/raw_data/gen_10477_type_850_dtgrp_4_rating_3_state_Texas_raw.csv \n",
      "/home/emco4286/research/GADS_Processed/raw_data/gen_10478_type_850_dtgrp_4_rating_3_state_Texas_raw.csv \n",
      "/home/emco4286/research/GADS_Processed/raw_data/gen_10491_type_850_dtgrp_4_rating_3_state_Texas_raw.csv \n",
      "/home/emco4286/research/GADS_Processed/raw_data/gen_10492_type_850_dtgrp_4_rating_3_state_Texas_raw.csv \n",
      "/home/emco4286/research/GADS_Processed/raw_data/gen_10493_type_850_dtgrp_4_rating_3_state_Texas_raw.csv \n",
      "/home/emco4286/research/GADS_Processed/raw_data/gen_10494_type_850_dtgrp_4_rating_3_state_Texas_raw.csv \n",
      "/home/emco4286/research/GADS_Processed/raw_data/gen_10495_type_850_dtgrp_4_rating_3_state_Texas_raw.csv \n",
      "/home/emco4286/research/GADS_Processed/raw_data/gen_10496_type_850_dtgrp_4_rating_3_state_Texas_raw.csv \n",
      "/home/emco4286/research/GADS_Processed/raw_data/gen_10498_type_300_dtgrp_2_rating_1_state_Texas_raw.csv \n",
      "/home/emco4286/research/GADS_Processed/raw_data/gen_10500_type_300_dtgrp_4_rating_3_state_Texas_raw.csv \n",
      "/home/emco4286/research/GADS_Processed/raw_data/gen_10501_type_300_dtgrp_4_rating_3_state_Texas_raw.csv \n",
      "/home/emco4286/research/GADS_Processed/raw_data/gen_10510_type_100_dtgrp_4_rating_3_state_Texas_raw.csv \n",
      "/home/emco4286/research/GADS_Processed/raw_data/gen_10551_type_300_dtgrp_4_rating_2_state_Texas_raw.csv \n",
      "/home/emco4286/research/GADS_Processed/raw_data/gen_10650_type_300_dtgrp_4_rating_2_state_Texas_raw.csv \n",
      "/home/emco4286/research/GADS_Processed/raw_data/gen_10651_type_300_dtgrp_4_rating_2_state_Texas_raw.csv \n",
      "/home/emco4286/research/GADS_Processed/raw_data/gen_10652_type_300_dtgrp_4_rating_2_state_Texas_raw.csv \n",
      "/home/emco4286/research/GADS_Processed/raw_data/gen_10660_type_500_dtgrp_1_rating_1_state_Texas_raw.csv \n",
      "/home/emco4286/research/GADS_Processed/raw_data/gen_10661_type_500_dtgrp_1_rating_1_state_Texas_raw.csv \n",
      "/home/emco4286/research/GADS_Processed/raw_data/gen_10664_type_500_dtgrp_1_rating_1_state_Texas_raw.csv \n",
      "/home/emco4286/research/GADS_Processed/raw_data/gen_10665_type_500_dtgrp_1_rating_1_state_Texas_raw.csv \n",
      "/home/emco4286/research/GADS_Processed/raw_data/gen_10723_type_650_dtgrp_3_rating_2_state_Texas_raw.csv \n",
      "/home/emco4286/research/GADS_Processed/raw_data/gen_10724_type_650_dtgrp_3_rating_2_state_Texas_raw.csv \n",
      "/home/emco4286/research/GADS_Processed/raw_data/gen_10748_type_650_dtgrp_5_rating_2_state_Texas_raw.csv \n"
     ]
    },
    {
     "name": "stderr",
     "output_type": "stream",
     "text": [
      "┌ Warning: thread = 1 warning: error parsing DateTime around row = 103, col = 1: \"NULL,\", error=INVALID: DELIMITED | INVALID_DELIMITER \n",
      "└ @ CSV /home/emco4286/.julia/packages/CSV/XLcqT/src/file.jl:595\n"
     ]
    },
    {
     "name": "stdout",
     "output_type": "stream",
     "text": [
      "/home/emco4286/research/GADS_Processed/raw_data/gen_10809_type_800_dtgrp_4_rating_3_state_Texas_raw.csv \n",
      "/home/emco4286/research/GADS_Processed/raw_data/gen_10810_type_800_dtgrp_4_rating_2_state_Texas_raw.csv \n",
      "/home/emco4286/research/GADS_Processed/raw_data/gen_10840_type_861_dtgrp_2_rating_1_state_Texas_raw.csv \n",
      "/home/emco4286/research/GADS_Processed/raw_data/gen_10841_type_861_dtgrp_2_rating_1_state_Texas_raw.csv \n",
      "/home/emco4286/research/GADS_Processed/raw_data/gen_10842_type_861_dtgrp_2_rating_1_state_Texas_raw.csv \n",
      "/home/emco4286/research/GADS_Processed/raw_data/gen_10843_type_861_dtgrp_2_rating_1_state_Texas_raw.csv \n",
      "/home/emco4286/research/GADS_Processed/raw_data/gen_10844_type_861_dtgrp_2_rating_1_state_Texas_raw.csv \n",
      "/home/emco4286/research/GADS_Processed/raw_data/gen_10845_type_861_dtgrp_3_rating_2_state_Texas_raw.csv \n",
      "/home/emco4286/research/GADS_Processed/raw_data/gen_10846_type_862_dtgrp_2_rating_2_state_Texas_raw.csv \n",
      "/home/emco4286/research/GADS_Processed/raw_data/gen_11023_type_851_dtgrp_5_rating_2_state_Texas_raw.csv \n",
      "/home/emco4286/research/GADS_Processed/raw_data/gen_11024_type_852_dtgrp_5_rating_1_state_Texas_raw.csv \n",
      "/home/emco4286/research/GADS_Processed/raw_data/gen_11025_type_851_dtgrp_5_rating_2_state_Texas_raw.csv \n",
      "/home/emco4286/research/GADS_Processed/raw_data/gen_11026_type_851_dtgrp_5_rating_2_state_Texas_raw.csv \n",
      "/home/emco4286/research/GADS_Processed/raw_data/gen_11027_type_852_dtgrp_5_rating_3_state_Texas_raw.csv \n",
      "/home/emco4286/research/GADS_Processed/raw_data/gen_11030_type_851_dtgrp_4_rating_1_state_Texas_raw.csv \n",
      "/home/emco4286/research/GADS_Processed/raw_data/gen_11031_type_851_dtgrp_4_rating_1_state_Texas_raw.csv \n",
      "/home/emco4286/research/GADS_Processed/raw_data/gen_11032_type_851_dtgrp_4_rating_1_state_Texas_raw.csv \n",
      "/home/emco4286/research/GADS_Processed/raw_data/gen_11033_type_852_dtgrp_4_rating_1_state_Texas_raw.csv \n",
      "/home/emco4286/research/GADS_Processed/raw_data/gen_11068_type_100_dtgrp_1_rating_1_state_Texas_raw.csv \n",
      "/home/emco4286/research/GADS_Processed/raw_data/gen_11069_type_100_dtgrp_1_rating_1_state_Texas_raw.csv \n",
      "/home/emco4286/research/GADS_Processed/raw_data/gen_11070_type_300_dtgrp_1_rating_1_state_Texas_raw.csv \n",
      "/home/emco4286/research/GADS_Processed/raw_data/gen_11072_type_300_dtgrp_4_rating_1_state_Texas_raw.csv \n",
      "/home/emco4286/research/GADS_Processed/raw_data/gen_11074_type_300_dtgrp_5_rating_1_state_Texas_raw.csv \n",
      "/home/emco4286/research/GADS_Processed/raw_data/gen_11078_type_861_dtgrp_3_rating_2_state_Texas_raw.csv \n",
      "/home/emco4286/research/GADS_Processed/raw_data/gen_11079_type_861_dtgrp_3_rating_2_state_Texas_raw.csv \n",
      "/home/emco4286/research/GADS_Processed/raw_data/gen_11080_type_861_dtgrp_3_rating_2_state_Texas_raw.csv \n",
      "/home/emco4286/research/GADS_Processed/raw_data/gen_11081_type_861_dtgrp_4_rating_2_state_Texas_raw.csv \n",
      "/home/emco4286/research/GADS_Processed/raw_data/gen_11131_type_300_dtgrp_4_rating_1_state_Texas_raw.csv \n",
      "/home/emco4286/research/GADS_Processed/raw_data/gen_11132_type_300_dtgrp_3_rating_1_state_Texas_raw.csv \n",
      "/home/emco4286/research/GADS_Processed/raw_data/gen_11133_type_100_dtgrp_3_rating_1_state_Texas_raw.csv \n",
      "/home/emco4286/research/GADS_Processed/raw_data/gen_11134_type_850_dtgrp_3_rating_1_state_Texas_raw.csv \n",
      "/home/emco4286/research/GADS_Processed/raw_data/gen_11269_type_850_dtgrp_4_rating_2_state_Texas_raw.csv \n",
      "/home/emco4286/research/GADS_Processed/raw_data/gen_11270_type_850_dtgrp_4_rating_2_state_Texas_raw.csv \n",
      "/home/emco4286/research/GADS_Processed/raw_data/gen_11271_type_850_dtgrp_4_rating_2_state_Texas_raw.csv \n",
      "/home/emco4286/research/GADS_Processed/raw_data/gen_11272_type_850_dtgrp_4_rating_2_state_Texas_raw.csv \n",
      "/home/emco4286/research/GADS_Processed/raw_data/gen_11273_type_850_dtgrp_4_rating_3_state_Texas_raw.csv \n",
      "/home/emco4286/research/GADS_Processed/raw_data/gen_11274_type_850_dtgrp_2_rating_1_state_Texas_raw.csv \n",
      "/home/emco4286/research/GADS_Processed/raw_data/gen_11275_type_850_dtgrp_2_rating_1_state_Texas_raw.csv \n",
      "/home/emco4286/research/GADS_Processed/raw_data/gen_11276_type_850_dtgrp_2_rating_1_state_Texas_raw.csv \n",
      "/home/emco4286/research/GADS_Processed/raw_data/gen_1127_type_300_dtgrp_3_rating_2_state_Texas_raw.csv \n",
      "/home/emco4286/research/GADS_Processed/raw_data/gen_1128_type_300_dtgrp_3_rating_2_state_Texas_raw.csv \n",
      "/home/emco4286/research/GADS_Processed/raw_data/gen_11298_type_800_dtgrp_1_rating_1_state_Texas_raw.csv \n",
      "/home/emco4286/research/GADS_Processed/raw_data/gen_11300_type_500_dtgrp_1_rating_1_state_Texas_raw.csv \n",
      "/home/emco4286/research/GADS_Processed/raw_data/gen_11301_type_500_dtgrp_1_rating_1_state_Texas_raw.csv \n",
      "/home/emco4286/research/GADS_Processed/raw_data/gen_11302_type_500_dtgrp_1_rating_1_state_Texas_raw.csv \n",
      "/home/emco4286/research/GADS_Processed/raw_data/gen_11303_type_500_dtgrp_1_rating_1_state_Texas_raw.csv \n",
      "/home/emco4286/research/GADS_Processed/raw_data/gen_11304_type_500_dtgrp_1_rating_1_state_Texas_raw.csv \n",
      "/home/emco4286/research/GADS_Processed/raw_data/gen_11305_type_500_dtgrp_1_rating_1_state_Texas_raw.csv \n",
      "/home/emco4286/research/GADS_Processed/raw_data/gen_11306_type_500_dtgrp_1_rating_1_state_Texas_raw.csv \n",
      "/home/emco4286/research/GADS_Processed/raw_data/gen_11350_type_100_dtgrp_1_rating_1_state_Texas_raw.csv \n",
      "/home/emco4286/research/GADS_Processed/raw_data/gen_11351_type_100_dtgrp_1_rating_1_state_Texas_raw.csv \n",
      "/home/emco4286/research/GADS_Processed/raw_data/gen_11352_type_100_dtgrp_1_rating_1_state_Texas_raw.csv \n",
      "/home/emco4286/research/GADS_Processed/raw_data/gen_11385_type_861_dtgrp_2_rating_1_state_Texas_raw.csv \n",
      "/home/emco4286/research/GADS_Processed/raw_data/gen_11387_type_300_dtgrp_5_rating_2_state_Texas_raw.csv \n",
      "/home/emco4286/research/GADS_Processed/raw_data/gen_11393_type_300_dtgrp_5_rating_2_state_Texas_raw.csv \n",
      "/home/emco4286/research/GADS_Processed/raw_data/gen_11446_type_861_dtgrp_3_rating_1_state_Texas_raw.csv \n",
      "/home/emco4286/research/GADS_Processed/raw_data/gen_11591_type_300_dtgrp_5_rating_2_state_Texas_raw.csv \n",
      "/home/emco4286/research/GADS_Processed/raw_data/gen_11609_type_850_dtgrp_3_rating_3_state_Texas_raw.csv \n",
      "/home/emco4286/research/GADS_Processed/raw_data/gen_11610_type_850_dtgrp_4_rating_3_state_Texas_raw.csv \n",
      "/home/emco4286/research/GADS_Processed/raw_data/gen_11611_type_850_dtgrp_5_rating_3_state_Texas_raw.csv \n",
      "/home/emco4286/research/GADS_Processed/raw_data/gen_11618_type_100_dtgrp_5_rating_3_state_Texas_raw.csv \n",
      "/home/emco4286/research/GADS_Processed/raw_data/gen_11646_type_300_dtgrp_5_rating_2_state_Texas_raw.csv \n",
      "/home/emco4286/research/GADS_Processed/raw_data/gen_11647_type_300_dtgrp_5_rating_2_state_Texas_raw.csv \n",
      "/home/emco4286/research/GADS_Processed/raw_data/gen_11648_type_100_dtgrp_5_rating_2_state_Texas_raw.csv \n",
      "/home/emco4286/research/GADS_Processed/raw_data/gen_11651_type_861_dtgrp_2_rating_1_state_Texas_raw.csv \n",
      "/home/emco4286/research/GADS_Processed/raw_data/gen_1168_type_100_dtgrp_1_rating_1_state_Texas_raw.csv \n",
      "No/home/emco4286/research/GADS_Processed/raw_data/gen_1169_type_100_dtgrp_1_rating_1_state_Texas_raw.csv \n",
      "/home/emco4286/research/GADS_Processed/raw_data/gen_1170_type_100_dtgrp_1_rating_2_state_Texas_raw.csv \n",
      "/home/emco4286/research/GADS_Processed/raw_data/gen_1171_type_100_dtgrp_1_rating_3_state_Texas_raw.csv \n",
      "/home/emco4286/research/GADS_Processed/raw_data/gen_11725_type_851_dtgrp_5_rating_2_state_Texas_raw.csv \n",
      "/home/emco4286/research/GADS_Processed/raw_data/gen_11726_type_851_dtgrp_5_rating_2_state_Texas_raw.csv \n",
      "/home/emco4286/research/GADS_Processed/raw_data/gen_11727_type_852_dtgrp_5_rating_3_state_Texas_raw.csv \n",
      "/home/emco4286/research/GADS_Processed/raw_data/gen_11728_type_851_dtgrp_5_rating_2_state_Texas_raw.csv \n",
      "/home/emco4286/research/GADS_Processed/raw_data/gen_11729_type_851_dtgrp_5_rating_2_state_Texas_raw.csv \n",
      "/home/emco4286/research/GADS_Processed/raw_data/gen_1172_type_300_dtgrp_3_rating_2_state_Texas_raw.csv \n",
      "/home/emco4286/research/GADS_Processed/raw_data/gen_11730_type_852_dtgrp_5_rating_3_state_Texas_raw.csv \n",
      "/home/emco4286/research/GADS_Processed/raw_data/gen_1173_type_300_dtgrp_3_rating_2_state_Texas_raw.csv \n",
      "/home/emco4286/research/GADS_Processed/raw_data/gen_11759_type_851_dtgrp_5_rating_2_state_Texas_raw.csv \n",
      "/home/emco4286/research/GADS_Processed/raw_data/gen_11760_type_851_dtgrp_5_rating_2_state_Texas_raw.csv \n",
      "/home/emco4286/research/GADS_Processed/raw_data/gen_11762_type_850_dtgrp_4_rating_3_state_Texas_raw.csv \n",
      "/home/emco4286/research/GADS_Processed/raw_data/gen_11764_type_850_dtgrp_4_rating_3_state_Texas_raw.csv \n",
      "/home/emco4286/research/GADS_Processed/raw_data/gen_11765_type_850_dtgrp_4_rating_3_state_Texas_raw.csv \n",
      "/home/emco4286/research/GADS_Processed/raw_data/gen_11779_type_852_dtgrp_5_rating_3_state_Texas_raw.csv \n",
      "/home/emco4286/research/GADS_Processed/raw_data/gen_11794_type_861_dtgrp_5_rating_3_state_Texas_raw.csv \n",
      "/home/emco4286/research/GADS_Processed/raw_data/gen_11795_type_861_dtgrp_5_rating_2_state_Texas_raw.csv \n",
      "/home/emco4286/research/GADS_Processed/raw_data/gen_11803_type_100_dtgrp_5_rating_1_state_Texas_raw.csv \n",
      "/home/emco4286/research/GADS_Processed/raw_data/gen_11824_type_851_dtgrp_5_rating_3_state_Texas_raw.csv \n",
      "/home/emco4286/research/GADS_Processed/raw_data/gen_11825_type_851_dtgrp_5_rating_3_state_Texas_raw.csv \n"
     ]
    },
    {
     "name": "stderr",
     "output_type": "stream",
     "text": [
      "┌ Warning: thread = 1 warning: error parsing DateTime around row = 42, col = 1: \"NULL,\", error=INVALID: DELIMITED | INVALID_DELIMITER \n",
      "└ @ CSV /home/emco4286/.julia/packages/CSV/XLcqT/src/file.jl:595\n"
     ]
    },
    {
     "name": "stdout",
     "output_type": "stream",
     "text": [
      "/home/emco4286/research/GADS_Processed/raw_data/gen_11826_type_852_dtgrp_5_rating_3_state_Texas_raw.csv \n",
      "/home/emco4286/research/GADS_Processed/raw_data/gen_11843_type_852_dtgrp_5_rating_3_state_Texas_raw.csv \n",
      "/home/emco4286/research/GADS_Processed/raw_data/gen_11844_type_851_dtgrp_5_rating_3_state_Texas_raw.csv \n",
      "/home/emco4286/research/GADS_Processed/raw_data/gen_11845_type_851_dtgrp_5_rating_3_state_Texas_raw.csv \n",
      "/home/emco4286/research/GADS_Processed/raw_data/gen_11900_type_100_dtgrp_5_rating_1_state_Texas_raw.csv \n",
      "/home/emco4286/research/GADS_Processed/raw_data/gen_11909_type_852_dtgrp_4_rating_2_state_Texas_raw.csv \n",
      "/home/emco4286/research/GADS_Processed/raw_data/gen_11953_type_300_dtgrp_5_rating_2_state_Texas_raw.csv \n",
      "/home/emco4286/research/GADS_Processed/raw_data/gen_11954_type_300_dtgrp_5_rating_2_state_Texas_raw.csv \n",
      "/home/emco4286/research/GADS_Processed/raw_data/gen_11968_type_861_dtgrp_5_rating_2_state_Texas_raw.csv \n",
      "/home/emco4286/research/GADS_Processed/raw_data/gen_11969_type_861_dtgrp_5_rating_2_state_Texas_raw.csv \n",
      "/home/emco4286/research/GADS_Processed/raw_data/gen_11970_type_862_dtgrp_5_rating_2_state_Texas_raw.csv \n",
      "/home/emco4286/research/GADS_Processed/raw_data/gen_11972_type_852_dtgrp_5_rating_3_state_Texas_raw.csv \n",
      "/home/emco4286/research/GADS_Processed/raw_data/gen_11973_type_851_dtgrp_5_rating_3_state_Texas_raw.csv \n",
      "/home/emco4286/research/GADS_Processed/raw_data/gen_11974_type_851_dtgrp_5_rating_3_state_Texas_raw.csv \n",
      "/home/emco4286/research/GADS_Processed/raw_data/gen_11985_type_400_dtgrp_5_rating_1_state_Texas_raw.csv \n",
      "/home/emco4286/research/GADS_Processed/raw_data/gen_11986_type_400_dtgrp_5_rating_1_state_Texas_raw.csv \n",
      "/home/emco4286/research/GADS_Processed/raw_data/gen_11987_type_400_dtgrp_5_rating_1_state_Texas_raw.csv \n",
      "/home/emco4286/research/GADS_Processed/raw_data/gen_12016_type_300_dtgrp_5_rating_2_state_Texas_raw.csv \n",
      "/home/emco4286/research/GADS_Processed/raw_data/gen_12030_type_300_dtgrp_5_rating_2_state_Texas_raw.csv \n",
      "/home/emco4286/research/GADS_Processed/raw_data/gen_12031_type_300_dtgrp_5_rating_2_state_Texas_raw.csv \n",
      "/home/emco4286/research/GADS_Processed/raw_data/gen_12083_type_300_dtgrp_5_rating_2_state_Texas_raw.csv \n",
      "/home/emco4286/research/GADS_Processed/raw_data/gen_12116_type_300_dtgrp_5_rating_2_state_Texas_raw.csv \n",
      "/home/emco4286/research/GADS_Processed/raw_data/gen_12140_type_860_dtgrp_4_rating_3_state_Texas_raw.csv \n",
      "/home/emco4286/research/GADS_Processed/raw_data/gen_12155_type_851_dtgrp_4_rating_2_state_Texas_raw.csv \n",
      "/home/emco4286/research/GADS_Processed/raw_data/gen_12156_type_851_dtgrp_4_rating_2_state_Texas_raw.csv \n",
      "/home/emco4286/research/GADS_Processed/raw_data/gen_12157_type_852_dtgrp_4_rating_3_state_Texas_raw.csv \n",
      "/home/emco4286/research/GADS_Processed/raw_data/gen_12158_type_851_dtgrp_5_rating_2_state_Texas_raw.csv \n",
      "/home/emco4286/research/GADS_Processed/raw_data/gen_12159_type_851_dtgrp_5_rating_2_state_Texas_raw.csv \n",
      "/home/emco4286/research/GADS_Processed/raw_data/gen_12160_type_852_dtgrp_5_rating_3_state_Texas_raw.csv \n",
      "/home/emco4286/research/GADS_Processed/raw_data/gen_12217_type_851_dtgrp_5_rating_3_state_Texas_raw.csv \n",
      "/home/emco4286/research/GADS_Processed/raw_data/gen_12218_type_851_dtgrp_5_rating_3_state_Texas_raw.csv \n",
      "/home/emco4286/research/GADS_Processed/raw_data/gen_12219_type_852_dtgrp_5_rating_3_state_Texas_raw.csv \n",
      "/home/emco4286/research/GADS_Processed/raw_data/gen_12221_type_851_dtgrp_5_rating_3_state_Texas_raw.csv \n",
      "/home/emco4286/research/GADS_Processed/raw_data/gen_12222_type_851_dtgrp_5_rating_3_state_Texas_raw.csv \n",
      "/home/emco4286/research/GADS_Processed/raw_data/gen_12226_type_300_dtgrp_5_rating_2_state_Texas_raw.csv \n",
      "/home/emco4286/research/GADS_Processed/raw_data/gen_12227_type_300_dtgrp_5_rating_2_state_Texas_raw.csv \n",
      "/home/emco4286/research/GADS_Processed/raw_data/gen_12228_type_800_dtgrp_5_rating_2_state_Texas_raw.csv \n",
      "/home/emco4286/research/GADS_Processed/raw_data/gen_12238_type_851_dtgrp_5_rating_1_state_Texas_raw.csv \n",
      "/home/emco4286/research/GADS_Processed/raw_data/gen_12250_type_852_dtgrp_5_rating_3_state_Texas_raw.csv \n",
      "/home/emco4286/research/GADS_Processed/raw_data/gen_12270_type_300_dtgrp_5_rating_1_state_Texas_raw.csv \n",
      "/home/emco4286/research/GADS_Processed/raw_data/gen_12271_type_300_dtgrp_5_rating_1_state_Texas_raw.csv \n",
      "/home/emco4286/research/GADS_Processed/raw_data/gen_12289_type_300_dtgrp_5_rating_1_state_Texas_raw.csv \n",
      "/home/emco4286/research/GADS_Processed/raw_data/gen_12290_type_300_dtgrp_5_rating_1_state_Texas_raw.csv \n",
      "/home/emco4286/research/GADS_Processed/raw_data/gen_12433_type_500_dtgrp_1_rating_1_state_Texas_raw.csv \n",
      "/home/emco4286/research/GADS_Processed/raw_data/gen_12434_type_500_dtgrp_1_rating_1_state_Texas_raw.csv \n",
      "/home/emco4286/research/GADS_Processed/raw_data/gen_12456_type_300_dtgrp_5_rating_2_state_Texas_raw.csv \n",
      "/home/emco4286/research/GADS_Processed/raw_data/gen_12504_type_300_dtgrp_5_rating_1_state_Texas_raw.csv \n",
      "/home/emco4286/research/GADS_Processed/raw_data/gen_12505_type_300_dtgrp_5_rating_1_state_Texas_raw.csv \n",
      "/home/emco4286/research/GADS_Processed/raw_data/gen_12506_type_300_dtgrp_5_rating_1_state_Texas_raw.csv \n",
      "/home/emco4286/research/GADS_Processed/raw_data/gen_12507_type_300_dtgrp_5_rating_1_state_Texas_raw.csv \n",
      "/home/emco4286/research/GADS_Processed/raw_data/gen_12508_type_300_dtgrp_5_rating_1_state_Texas_raw.csv \n",
      "/home/emco4286/research/GADS_Processed/raw_data/gen_12509_type_300_dtgrp_5_rating_1_state_Texas_raw.csv \n",
      "/home/emco4286/research/GADS_Processed/raw_data/gen_12534_type_300_dtgrp_5_rating_1_state_Texas_raw.csv \n",
      "/home/emco4286/research/GADS_Processed/raw_data/gen_12535_type_300_dtgrp_5_rating_1_state_Texas_raw.csv \n",
      "/home/emco4286/research/GADS_Processed/raw_data/gen_12564_type_300_dtgrp_6_rating_1_state_Texas_raw.csv \n",
      "/home/emco4286/research/GADS_Processed/raw_data/gen_12565_type_300_dtgrp_6_rating_1_state_Texas_raw.csv \n",
      "/home/emco4286/research/GADS_Processed/raw_data/gen_12573_type_400_dtgrp_5_rating_1_state_Texas_raw.csv \n",
      "/home/emco4286/research/GADS_Processed/raw_data/gen_12574_type_400_dtgrp_5_rating_1_state_Texas_raw.csv \n",
      "/home/emco4286/research/GADS_Processed/raw_data/gen_12582_type_400_dtgrp_5_rating_1_state_Texas_raw.csv \n",
      "/home/emco4286/research/GADS_Processed/raw_data/gen_12583_type_400_dtgrp_5_rating_1_state_Texas_raw.csv \n",
      "/home/emco4286/research/GADS_Processed/raw_data/gen_12584_type_400_dtgrp_5_rating_1_state_Texas_raw.csv \n",
      "/home/emco4286/research/GADS_Processed/raw_data/gen_12585_type_400_dtgrp_5_rating_1_state_Texas_raw.csv \n",
      "/home/emco4286/research/GADS_Processed/raw_data/gen_12600_type_850_dtgrp_6_rating_3_state_Texas_raw.csv \n",
      "/home/emco4286/research/GADS_Processed/raw_data/gen_12680_type_300_dtgrp_6_rating_1_state_Texas_raw.csv \n",
      "/home/emco4286/research/GADS_Processed/raw_data/gen_12681_type_300_dtgrp_6_rating_1_state_Texas_raw.csv \n",
      "/home/emco4286/research/GADS_Processed/raw_data/gen_12693_type_300_dtgrp_6_rating_1_state_Texas_raw.csv \n",
      "/home/emco4286/research/GADS_Processed/raw_data/gen_12694_type_300_dtgrp_6_rating_1_state_Texas_raw.csv \n",
      "/home/emco4286/research/GADS_Processed/raw_data/gen_12695_type_300_dtgrp_6_rating_1_state_Texas_raw.csv \n",
      "/home/emco4286/research/GADS_Processed/raw_data/gen_12696_type_300_dtgrp_6_rating_1_state_Texas_raw.csv \n",
      "/home/emco4286/research/GADS_Processed/raw_data/gen_12697_type_300_dtgrp_6_rating_1_state_Texas_raw.csv \n",
      "/home/emco4286/research/GADS_Processed/raw_data/gen_12698_type_300_dtgrp_6_rating_1_state_Texas_raw.csv \n",
      "/home/emco4286/research/GADS_Processed/raw_data/gen_12699_type_300_dtgrp_6_rating_1_state_Texas_raw.csv \n",
      "/home/emco4286/research/GADS_Processed/raw_data/gen_12700_type_300_dtgrp_6_rating_1_state_Texas_raw.csv \n",
      "/home/emco4286/research/GADS_Processed/raw_data/gen_12701_type_300_dtgrp_6_rating_1_state_Texas_raw.csv \n",
      "/home/emco4286/research/GADS_Processed/raw_data/gen_12702_type_300_dtgrp_6_rating_1_state_Texas_raw.csv \n",
      "/home/emco4286/research/GADS_Processed/raw_data/gen_12703_type_300_dtgrp_6_rating_1_state_Texas_raw.csv \n",
      "/home/emco4286/research/GADS_Processed/raw_data/gen_12704_type_300_dtgrp_6_rating_1_state_Texas_raw.csv \n",
      "/home/emco4286/research/GADS_Processed/raw_data/gen_12705_type_300_dtgrp_6_rating_1_state_Texas_raw.csv \n",
      "/home/emco4286/research/GADS_Processed/raw_data/gen_12706_type_300_dtgrp_6_rating_1_state_Texas_raw.csv \n",
      "/home/emco4286/research/GADS_Processed/raw_data/gen_12707_type_300_dtgrp_6_rating_1_state_Texas_raw.csv \n",
      "/home/emco4286/research/GADS_Processed/raw_data/gen_12708_type_300_dtgrp_6_rating_1_state_Texas_raw.csv \n",
      "/home/emco4286/research/GADS_Processed/raw_data/gen_12709_type_300_dtgrp_6_rating_1_state_Texas_raw.csv \n",
      "/home/emco4286/research/GADS_Processed/raw_data/gen_12710_type_300_dtgrp_6_rating_1_state_Texas_raw.csv \n",
      "/home/emco4286/research/GADS_Processed/raw_data/gen_12745_type_300_dtgrp_6_rating_1_state_Texas_raw.csv \n",
      "/home/emco4286/research/GADS_Processed/raw_data/gen_12746_type_300_dtgrp_6_rating_1_state_Texas_raw.csv \n",
      "/home/emco4286/research/GADS_Processed/raw_data/gen_12747_type_300_dtgrp_6_rating_1_state_Texas_raw.csv \n",
      "/home/emco4286/research/GADS_Processed/raw_data/gen_12748_type_300_dtgrp_6_rating_1_state_Texas_raw.csv \n",
      "/home/emco4286/research/GADS_Processed/raw_data/gen_12755_type_300_dtgrp_6_rating_1_state_Texas_raw.csv \n",
      "/home/emco4286/research/GADS_Processed/raw_data/gen_12756_type_300_dtgrp_6_rating_1_state_Texas_raw.csv \n",
      "/home/emco4286/research/GADS_Processed/raw_data/gen_12757_type_300_dtgrp_6_rating_1_state_Texas_raw.csv \n",
      "/home/emco4286/research/GADS_Processed/raw_data/gen_12758_type_300_dtgrp_6_rating_1_state_Texas_raw.csv \n",
      "/home/emco4286/research/GADS_Processed/raw_data/gen_12759_type_300_dtgrp_6_rating_1_state_Texas_raw.csv \n",
      "/home/emco4286/research/GADS_Processed/raw_data/gen_12769_type_862_dtgrp_6_rating_1_state_Texas_raw.csv \n",
      "/home/emco4286/research/GADS_Processed/raw_data/gen_12770_type_861_dtgrp_6_rating_2_state_Texas_raw.csv \n",
      "/home/emco4286/research/GADS_Processed/raw_data/gen_12771_type_861_dtgrp_6_rating_2_state_Texas_raw.csv \n",
      "/home/emco4286/research/GADS_Processed/raw_data/gen_12772_type_300_dtgrp_6_rating_1_state_Texas_raw.csv \n",
      "/home/emco4286/research/GADS_Processed/raw_data/gen_12773_type_300_dtgrp_6_rating_1_state_Texas_raw.csv \n",
      "/home/emco4286/research/GADS_Processed/raw_data/gen_12774_type_300_dtgrp_6_rating_1_state_Texas_raw.csv \n",
      "/home/emco4286/research/GADS_Processed/raw_data/gen_12775_type_300_dtgrp_6_rating_1_state_Texas_raw.csv \n",
      "/home/emco4286/research/GADS_Processed/raw_data/gen_12776_type_300_dtgrp_6_rating_1_state_Texas_raw.csv \n",
      "/home/emco4286/research/GADS_Processed/raw_data/gen_12777_type_300_dtgrp_6_rating_1_state_Texas_raw.csv \n",
      "/home/emco4286/research/GADS_Processed/raw_data/gen_12778_type_300_dtgrp_6_rating_1_state_Texas_raw.csv \n",
      "/home/emco4286/research/GADS_Processed/raw_data/gen_12814_type_300_dtgrp_6_rating_2_state_Texas_raw.csv \n",
      "/home/emco4286/research/GADS_Processed/raw_data/gen_12823_type_300_dtgrp_6_rating_1_state_Texas_raw.csv \n",
      "/home/emco4286/research/GADS_Processed/raw_data/gen_12824_type_300_dtgrp_6_rating_1_state_Texas_raw.csv \n",
      "/home/emco4286/research/GADS_Processed/raw_data/gen_12825_type_300_dtgrp_6_rating_1_state_Texas_raw.csv \n",
      "/home/emco4286/research/GADS_Processed/raw_data/gen_12826_type_300_dtgrp_6_rating_1_state_Texas_raw.csv \n",
      "/home/emco4286/research/GADS_Processed/raw_data/gen_12827_type_300_dtgrp_6_rating_1_state_Texas_raw.csv \n",
      "/home/emco4286/research/GADS_Processed/raw_data/gen_12828_type_300_dtgrp_6_rating_1_state_Texas_raw.csv \n",
      "/home/emco4286/research/GADS_Processed/raw_data/gen_12836_type_300_dtgrp_6_rating_1_state_Texas_raw.csv \n",
      "/home/emco4286/research/GADS_Processed/raw_data/gen_12837_type_300_dtgrp_6_rating_1_state_Texas_raw.csv \n",
      "/home/emco4286/research/GADS_Processed/raw_data/gen_12859_type_300_dtgrp_6_rating_1_state_Texas_raw.csv \n",
      "/home/emco4286/research/GADS_Processed/raw_data/gen_12860_type_300_dtgrp_6_rating_1_state_Texas_raw.csv \n",
      "/home/emco4286/research/GADS_Processed/raw_data/gen_12870_type_300_dtgrp_6_rating_1_state_Texas_raw.csv \n",
      "/home/emco4286/research/GADS_Processed/raw_data/gen_12871_type_300_dtgrp_6_rating_1_state_Texas_raw.csv \n",
      "/home/emco4286/research/GADS_Processed/raw_data/gen_1385_type_862_dtgrp_2_rating_2_state_Texas_raw.csv \n",
      "/home/emco4286/research/GADS_Processed/raw_data/gen_1386_type_852_dtgrp_4_rating_2_state_Texas_raw.csv \n",
      "/home/emco4286/research/GADS_Processed/raw_data/gen_1387_type_862_dtgrp_3_rating_1_state_Texas_raw.csv \n",
      "/home/emco4286/research/GADS_Processed/raw_data/gen_1388_type_862_dtgrp_4_rating_3_state_Texas_raw.csv \n",
      "/home/emco4286/research/GADS_Processed/raw_data/gen_1389_type_852_dtgrp_4_rating_3_state_Texas_raw.csv \n",
      "/home/emco4286/research/GADS_Processed/raw_data/gen_1390_type_862_dtgrp_2_rating_1_state_Texas_raw.csv \n",
      "/home/emco4286/research/GADS_Processed/raw_data/gen_1392_type_852_dtgrp_4_rating_3_state_Texas_raw.csv \n",
      "/home/emco4286/research/GADS_Processed/raw_data/gen_1393_type_862_dtgrp_4_rating_3_state_Texas_raw.csv \n",
      "/home/emco4286/research/GADS_Processed/raw_data/gen_1394_type_862_dtgrp_4_rating_3_state_Texas_raw.csv \n",
      "/home/emco4286/research/GADS_Processed/raw_data/gen_1395_type_862_dtgrp_4_rating_3_state_Texas_raw.csv \n",
      "/home/emco4286/research/GADS_Processed/raw_data/gen_1396_type_852_dtgrp_4_rating_3_state_Texas_raw.csv \n",
      "/home/emco4286/research/GADS_Processed/raw_data/gen_1397_type_852_dtgrp_4_rating_2_state_Texas_raw.csv \n",
      "/home/emco4286/research/GADS_Processed/raw_data/gen_1398_type_852_dtgrp_4_rating_2_state_Texas_raw.csv \n",
      "/home/emco4286/research/GADS_Processed/raw_data/gen_1399_type_861_dtgrp_2_rating_2_state_Texas_raw.csv \n",
      "/home/emco4286/research/GADS_Processed/raw_data/gen_1400_type_861_dtgrp_2_rating_2_state_Texas_raw.csv \n",
      "/home/emco4286/research/GADS_Processed/raw_data/gen_1401_type_861_dtgrp_2_rating_2_state_Texas_raw.csv \n",
      "/home/emco4286/research/GADS_Processed/raw_data/gen_1402_type_851_dtgrp_4_rating_2_state_Texas_raw.csv \n",
      "/home/emco4286/research/GADS_Processed/raw_data/gen_1403_type_851_dtgrp_4_rating_2_state_Texas_raw.csv \n",
      "/home/emco4286/research/GADS_Processed/raw_data/gen_1404_type_861_dtgrp_3_rating_3_state_Texas_raw.csv \n",
      "/home/emco4286/research/GADS_Processed/raw_data/gen_1405_type_861_dtgrp_4_rating_3_state_Texas_raw.csv \n",
      "/home/emco4286/research/GADS_Processed/raw_data/gen_1406_type_861_dtgrp_4_rating_3_state_Texas_raw.csv \n",
      "/home/emco4286/research/GADS_Processed/raw_data/gen_1407_type_851_dtgrp_4_rating_2_state_Texas_raw.csv \n",
      "/home/emco4286/research/GADS_Processed/raw_data/gen_1408_type_851_dtgrp_4_rating_2_state_Texas_raw.csv \n",
      "/home/emco4286/research/GADS_Processed/raw_data/gen_1409_type_861_dtgrp_2_rating_2_state_Texas_raw.csv \n",
      "/home/emco4286/research/GADS_Processed/raw_data/gen_1410_type_861_dtgrp_2_rating_2_state_Texas_raw.csv \n",
      "/home/emco4286/research/GADS_Processed/raw_data/gen_1411_type_861_dtgrp_2_rating_2_state_Texas_raw.csv \n",
      "/home/emco4286/research/GADS_Processed/raw_data/gen_1412_type_851_dtgrp_4_rating_3_state_Texas_raw.csv \n",
      "/home/emco4286/research/GADS_Processed/raw_data/gen_1413_type_851_dtgrp_4_rating_3_state_Texas_raw.csv \n",
      "/home/emco4286/research/GADS_Processed/raw_data/gen_1414_type_861_dtgrp_4_rating_3_state_Texas_raw.csv \n",
      "/home/emco4286/research/GADS_Processed/raw_data/gen_1415_type_861_dtgrp_4_rating_3_state_Texas_raw.csv \n",
      "/home/emco4286/research/GADS_Processed/raw_data/gen_1416_type_861_dtgrp_4_rating_3_state_Texas_raw.csv \n",
      "/home/emco4286/research/GADS_Processed/raw_data/gen_1417_type_861_dtgrp_4_rating_2_state_Texas_raw.csv \n",
      "/home/emco4286/research/GADS_Processed/raw_data/gen_1418_type_861_dtgrp_4_rating_3_state_Texas_raw.csv \n",
      "/home/emco4286/research/GADS_Processed/raw_data/gen_1419_type_861_dtgrp_4_rating_3_state_Texas_raw.csv \n",
      "/home/emco4286/research/GADS_Processed/raw_data/gen_1420_type_861_dtgrp_4_rating_3_state_Texas_raw.csv \n",
      "/home/emco4286/research/GADS_Processed/raw_data/gen_1421_type_861_dtgrp_4_rating_3_state_Texas_raw.csv \n",
      "/home/emco4286/research/GADS_Processed/raw_data/gen_1422_type_861_dtgrp_4_rating_3_state_Texas_raw.csv \n",
      "/home/emco4286/research/GADS_Processed/raw_data/gen_1423_type_851_dtgrp_4_rating_3_state_Texas_raw.csv \n",
      "/home/emco4286/research/GADS_Processed/raw_data/gen_1424_type_851_dtgrp_4_rating_3_state_Texas_raw.csv \n",
      "/home/emco4286/research/GADS_Processed/raw_data/gen_1425_type_851_dtgrp_4_rating_2_state_Texas_raw.csv \n",
      "/home/emco4286/research/GADS_Processed/raw_data/gen_1426_type_851_dtgrp_4_rating_2_state_Texas_raw.csv \n",
      "/home/emco4286/research/GADS_Processed/raw_data/gen_1427_type_851_dtgrp_4_rating_2_state_Texas_raw.csv \n",
      "/home/emco4286/research/GADS_Processed/raw_data/gen_1428_type_851_dtgrp_4_rating_2_state_Texas_raw.csv \n",
      "/home/emco4286/research/GADS_Processed/raw_data/gen_1659_type_100_dtgrp_1_rating_3_state_Texas_raw.csv \n",
      "/home/emco4286/research/GADS_Processed/raw_data/gen_1660_type_100_dtgrp_1_rating_3_state_Texas_raw.csv \n",
      "/home/emco4286/research/GADS_Processed/raw_data/gen_1662_type_300_dtgrp_2_rating_1_state_Texas_raw.csv \n",
      "/home/emco4286/research/GADS_Processed/raw_data/gen_1663_type_300_dtgrp_2_rating_1_state_Texas_raw.csv \n",
      "/home/emco4286/research/GADS_Processed/raw_data/gen_1664_type_300_dtgrp_2_rating_1_state_Texas_raw.csv \n",
      "/home/emco4286/research/GADS_Processed/raw_data/gen_1665_type_300_dtgrp_2_rating_1_state_Texas_raw.csv \n",
      "/home/emco4286/research/GADS_Processed/raw_data/gen_1666_type_300_dtgrp_4_rating_1_state_Texas_raw.csv \n",
      "/home/emco4286/research/GADS_Processed/raw_data/gen_1667_type_300_dtgrp_4_rating_1_state_Texas_raw.csv \n",
      "/home/emco4286/research/GADS_Processed/raw_data/gen_1668_type_300_dtgrp_4_rating_1_state_Texas_raw.csv \n",
      "/home/emco4286/research/GADS_Processed/raw_data/gen_1669_type_300_dtgrp_4_rating_1_state_Texas_raw.csv \n",
      "/home/emco4286/research/GADS_Processed/raw_data/gen_1670_type_851_dtgrp_4_rating_2_state_Texas_raw.csv \n",
      "/home/emco4286/research/GADS_Processed/raw_data/gen_1671_type_851_dtgrp_4_rating_2_state_Texas_raw.csv \n",
      "/home/emco4286/research/GADS_Processed/raw_data/gen_1672_type_300_dtgrp_5_rating_1_state_Texas_raw.csv \n",
      "/home/emco4286/research/GADS_Processed/raw_data/gen_1673_type_300_dtgrp_5_rating_1_state_Texas_raw.csv \n",
      "/home/emco4286/research/GADS_Processed/raw_data/gen_1679_type_100_dtgrp_1_rating_1_state_Texas_raw.csv \n",
      "/home/emco4286/research/GADS_Processed/raw_data/gen_1680_type_100_dtgrp_1_rating_2_state_Texas_raw.csv \n",
      "/home/emco4286/research/GADS_Processed/raw_data/gen_1681_type_100_dtgrp_1_rating_2_state_Texas_raw.csv \n",
      "/home/emco4286/research/GADS_Processed/raw_data/gen_1687_type_100_dtgrp_1_rating_1_state_Texas_raw.csv \n",
      "/home/emco4286/research/GADS_Processed/raw_data/gen_1688_type_100_dtgrp_1_rating_1_state_Texas_raw.csv \n",
      "/home/emco4286/research/GADS_Processed/raw_data/gen_1689_type_300_dtgrp_4_rating_1_state_Texas_raw.csv \n",
      "/home/emco4286/research/GADS_Processed/raw_data/gen_1762_type_100_dtgrp_1_rating_3_state_Texas_raw.csv \n",
      "/home/emco4286/research/GADS_Processed/raw_data/gen_17_type_100_dtgrp_2_rating_3_state_Texas_raw.csv \n",
      "/home/emco4286/research/GADS_Processed/raw_data/gen_2004_type_852_dtgrp_4_rating_2_state_Texas_raw.csv \n",
      "/home/emco4286/research/GADS_Processed/raw_data/gen_2005_type_852_dtgrp_4_rating_2_state_Texas_raw.csv \n"
     ]
    },
    {
     "name": "stderr",
     "output_type": "stream",
     "text": [
      "┌ Warning: thread = 1 warning: error parsing DateTime around row = 377, col = 1: \"NULL,\", error=INVALID: DELIMITED | INVALID_DELIMITER \n",
      "└ @ CSV /home/emco4286/.julia/packages/CSV/XLcqT/src/file.jl:595\n"
     ]
    },
    {
     "name": "stdout",
     "output_type": "stream",
     "text": [
      "/home/emco4286/research/GADS_Processed/raw_data/gen_2006_type_852_dtgrp_4_rating_2_state_Texas_raw.csv \n",
      "/home/emco4286/research/GADS_Processed/raw_data/gen_2007_type_852_dtgrp_4_rating_2_state_Texas_raw.csv \n"
     ]
    },
    {
     "name": "stderr",
     "output_type": "stream",
     "text": [
      "┌ Warning: thread = 1 warning: error parsing DateTime around row = 371, col = 1: \"NULL,\", error=INVALID: DELIMITED | INVALID_DELIMITER \n",
      "└ @ CSV /home/emco4286/.julia/packages/CSV/XLcqT/src/file.jl:595\n"
     ]
    },
    {
     "name": "stdout",
     "output_type": "stream",
     "text": [
      "/home/emco4286/research/GADS_Processed/raw_data/gen_2011_type_851_dtgrp_4_rating_1_state_Texas_raw.csv \n",
      "/home/emco4286/research/GADS_Processed/raw_data/gen_2012_type_851_dtgrp_4_rating_1_state_Texas_raw.csv \n",
      "/home/emco4286/research/GADS_Processed/raw_data/gen_2013_type_851_dtgrp_4_rating_1_state_Texas_raw.csv \n",
      "/home/emco4286/research/GADS_Processed/raw_data/gen_2014_type_851_dtgrp_4_rating_1_state_Texas_raw.csv \n"
     ]
    },
    {
     "name": "stderr",
     "output_type": "stream",
     "text": [
      "┌ Warning: thread = 1 warning: error parsing DateTime around row = 334, col = 1: \"NULL,\", error=INVALID: DELIMITED | INVALID_DELIMITER \n",
      "└ @ CSV /home/emco4286/.julia/packages/CSV/XLcqT/src/file.jl:595\n"
     ]
    },
    {
     "name": "stdout",
     "output_type": "stream",
     "text": [
      "/home/emco4286/research/GADS_Processed/raw_data/gen_2016_type_851_dtgrp_4_rating_1_state_Texas_raw.csv \n",
      "/home/emco4286/research/GADS_Processed/raw_data/gen_2017_type_851_dtgrp_4_rating_1_state_Texas_raw.csv \n"
     ]
    },
    {
     "name": "stderr",
     "output_type": "stream",
     "text": [
      "┌ Warning: thread = 1 warning: error parsing DateTime around row = 331, col = 1: \"NULL,\", error=INVALID: DELIMITED | INVALID_DELIMITER \n",
      "└ @ CSV /home/emco4286/.julia/packages/CSV/XLcqT/src/file.jl:595\n"
     ]
    },
    {
     "name": "stdout",
     "output_type": "stream",
     "text": [
      "/home/emco4286/research/GADS_Processed/raw_data/gen_2019_type_851_dtgrp_4_rating_1_state_Texas_raw.csv \n",
      "/home/emco4286/research/GADS_Processed/raw_data/gen_2208_type_852_dtgrp_4_rating_2_state_Texas_raw.csv \n",
      "/home/emco4286/research/GADS_Processed/raw_data/gen_2209_type_852_dtgrp_4_rating_2_state_Texas_raw.csv \n",
      "/home/emco4286/research/GADS_Processed/raw_data/gen_2210_type_852_dtgrp_4_rating_2_state_Texas_raw.csv \n",
      "/home/emco4286/research/GADS_Processed/raw_data/gen_2211_type_852_dtgrp_4_rating_2_state_Texas_raw.csv \n",
      "/home/emco4286/research/GADS_Processed/raw_data/gen_2212_type_851_dtgrp_4_rating_2_state_Texas_raw.csv \n",
      "/home/emco4286/research/GADS_Processed/raw_data/gen_2213_type_851_dtgrp_4_rating_2_state_Texas_raw.csv \n",
      "/home/emco4286/research/GADS_Processed/raw_data/gen_2214_type_851_dtgrp_4_rating_2_state_Texas_raw.csv \n",
      "/home/emco4286/research/GADS_Processed/raw_data/gen_2215_type_851_dtgrp_4_rating_2_state_Texas_raw.csv \n",
      "/home/emco4286/research/GADS_Processed/raw_data/gen_2224_type_100_dtgrp_1_rating_1_state_Texas_raw.csv \n",
      "/home/emco4286/research/GADS_Processed/raw_data/gen_2225_type_100_dtgrp_1_rating_2_state_Texas_raw.csv \n",
      "/home/emco4286/research/GADS_Processed/raw_data/gen_2230_type_100_dtgrp_1_rating_3_state_Texas_raw.csv \n",
      "/home/emco4286/research/GADS_Processed/raw_data/gen_2231_type_100_dtgrp_1_rating_3_state_Texas_raw.csv \n",
      "/home/emco4286/research/GADS_Processed/raw_data/gen_2232_type_100_dtgrp_1_rating_3_state_Texas_raw.csv \n",
      "/home/emco4286/research/GADS_Processed/raw_data/gen_2233_type_100_dtgrp_1_rating_3_state_Texas_raw.csv \n",
      "/home/emco4286/research/GADS_Processed/raw_data/gen_2234_type_100_dtgrp_1_rating_3_state_Texas_raw.csv \n",
      "/home/emco4286/research/GADS_Processed/raw_data/gen_2235_type_100_dtgrp_1_rating_3_state_Texas_raw.csv \n",
      "/home/emco4286/research/GADS_Processed/raw_data/gen_2236_type_100_dtgrp_1_rating_3_state_Texas_raw.csv \n",
      "/home/emco4286/research/GADS_Processed/raw_data/gen_2237_type_100_dtgrp_3_rating_3_state_Texas_raw.csv \n",
      "/home/emco4286/research/GADS_Processed/raw_data/gen_2238_type_852_dtgrp_4_rating_3_state_Texas_raw.csv \n",
      "/home/emco4286/research/GADS_Processed/raw_data/gen_2239_type_100_dtgrp_5_rating_3_state_Texas_raw.csv \n",
      "/home/emco4286/research/GADS_Processed/raw_data/gen_2240_type_300_dtgrp_4_rating_1_state_Texas_raw.csv \n",
      "/home/emco4286/research/GADS_Processed/raw_data/gen_2241_type_300_dtgrp_4_rating_1_state_Texas_raw.csv \n",
      "/home/emco4286/research/GADS_Processed/raw_data/gen_2242_type_300_dtgrp_4_rating_1_state_Texas_raw.csv \n",
      "/home/emco4286/research/GADS_Processed/raw_data/gen_2243_type_300_dtgrp_4_rating_1_state_Texas_raw.csv \n",
      "/home/emco4286/research/GADS_Processed/raw_data/gen_2244_type_851_dtgrp_4_rating_2_state_Texas_raw.csv \n",
      "/home/emco4286/research/GADS_Processed/raw_data/gen_2245_type_851_dtgrp_4_rating_2_state_Texas_raw.csv \n",
      "/home/emco4286/research/GADS_Processed/raw_data/gen_2246_type_300_dtgrp_5_rating_1_state_Texas_raw.csv \n",
      "/home/emco4286/research/GADS_Processed/raw_data/gen_2247_type_300_dtgrp_5_rating_1_state_Texas_raw.csv \n",
      "/home/emco4286/research/GADS_Processed/raw_data/gen_2248_type_300_dtgrp_5_rating_1_state_Texas_raw.csv \n",
      "/home/emco4286/research/GADS_Processed/raw_data/gen_2249_type_300_dtgrp_5_rating_1_state_Texas_raw.csv \n",
      "/home/emco4286/research/GADS_Processed/raw_data/gen_2793_type_850_dtgrp_4_rating_3_state_Texas_raw.csv \n",
      "/home/emco4286/research/GADS_Processed/raw_data/gen_2866_type_100_dtgrp_1_rating_1_state_Texas_raw.csv \n",
      "/home/emco4286/research/GADS_Processed/raw_data/gen_2867_type_100_dtgrp_1_rating_1_state_Texas_raw.csv \n",
      "/home/emco4286/research/GADS_Processed/raw_data/gen_2868_type_100_dtgrp_1_rating_2_state_Texas_raw.csv \n",
      "/home/emco4286/research/GADS_Processed/raw_data/gen_2875_type_300_dtgrp_2_rating_1_state_Texas_raw.csv \n",
      "/home/emco4286/research/GADS_Processed/raw_data/gen_2945_type_100_dtgrp_1_rating_3_state_Texas_raw.csv \n",
      "/home/emco4286/research/GADS_Processed/raw_data/gen_2946_type_100_dtgrp_1_rating_3_state_Texas_raw.csv \n",
      "/home/emco4286/research/GADS_Processed/raw_data/gen_2961_type_100_dtgrp_1_rating_3_state_Texas_raw.csv \n",
      "/home/emco4286/research/GADS_Processed/raw_data/gen_2962_type_100_dtgrp_1_rating_3_state_Texas_raw.csv \n",
      "/home/emco4286/research/GADS_Processed/raw_data/gen_2963_type_100_dtgrp_1_rating_3_state_Texas_raw.csv \n",
      "/home/emco4286/research/GADS_Processed/raw_data/gen_2964_type_100_dtgrp_1_rating_3_state_Texas_raw.csv \n",
      "/home/emco4286/research/GADS_Processed/raw_data/gen_2965_type_100_dtgrp_1_rating_3_state_Texas_raw.csv \n",
      "/home/emco4286/research/GADS_Processed/raw_data/gen_3356_type_100_dtgrp_1_rating_3_state_Texas_raw.csv \n",
      "/home/emco4286/research/GADS_Processed/raw_data/gen_3357_type_100_dtgrp_1_rating_3_state_Texas_raw.csv \n",
      "/home/emco4286/research/GADS_Processed/raw_data/gen_3358_type_100_dtgrp_1_rating_3_state_Texas_raw.csv \n",
      "/home/emco4286/research/GADS_Processed/raw_data/gen_3361_type_100_dtgrp_1_rating_2_state_Texas_raw.csv \n",
      "/home/emco4286/research/GADS_Processed/raw_data/gen_3362_type_100_dtgrp_1_rating_2_state_Texas_raw.csv \n",
      "/home/emco4286/research/GADS_Processed/raw_data/gen_3363_type_100_dtgrp_1_rating_3_state_Texas_raw.csv \n",
      "/home/emco4286/research/GADS_Processed/raw_data/gen_3364_type_300_dtgrp_4_rating_1_state_Texas_raw.csv \n",
      "/home/emco4286/research/GADS_Processed/raw_data/gen_3365_type_300_dtgrp_4_rating_1_state_Texas_raw.csv \n",
      "/home/emco4286/research/GADS_Processed/raw_data/gen_3366_type_300_dtgrp_4_rating_1_state_Texas_raw.csv \n",
      "/home/emco4286/research/GADS_Processed/raw_data/gen_3367_type_300_dtgrp_4_rating_1_state_Texas_raw.csv \n",
      "/home/emco4286/research/GADS_Processed/raw_data/gen_4173_type_852_dtgrp_4_rating_2_state_Texas_raw.csv \n",
      "/home/emco4286/research/GADS_Processed/raw_data/gen_4174_type_851_dtgrp_4_rating_2_state_Texas_raw.csv \n",
      "/home/emco4286/research/GADS_Processed/raw_data/gen_4175_type_851_dtgrp_4_rating_2_state_Texas_raw.csv \n",
      "/home/emco4286/research/GADS_Processed/raw_data/gen_4176_type_851_dtgrp_4_rating_2_state_Texas_raw.csv \n",
      "/home/emco4286/research/GADS_Processed/raw_data/gen_4177_type_851_dtgrp_4_rating_2_state_Texas_raw.csv \n",
      "/home/emco4286/research/GADS_Processed/raw_data/gen_4349_type_850_dtgrp_4_rating_3_state_Texas_raw.csv \n",
      "/home/emco4286/research/GADS_Processed/raw_data/gen_4352_type_850_dtgrp_4_rating_3_state_Texas_raw.csv \n",
      "/home/emco4286/research/GADS_Processed/raw_data/gen_4353_type_850_dtgrp_4_rating_3_state_Texas_raw.csv \n",
      "/home/emco4286/research/GADS_Processed/raw_data/gen_4743_type_300_dtgrp_4_rating_2_state_Texas_raw.csv \n",
      "/home/emco4286/research/GADS_Processed/raw_data/gen_4744_type_300_dtgrp_4_rating_2_state_Texas_raw.csv \n",
      "/home/emco4286/research/GADS_Processed/raw_data/gen_486_type_100_dtgrp_1_rating_1_state_Texas_raw.csv \n",
      "/home/emco4286/research/GADS_Processed/raw_data/gen_487_type_100_dtgrp_1_rating_1_state_Texas_raw.csv \n",
      "/home/emco4286/research/GADS_Processed/raw_data/gen_488_type_100_dtgrp_1_rating_1_state_Texas_raw.csv \n",
      "/home/emco4286/research/GADS_Processed/raw_data/gen_489_type_100_dtgrp_1_rating_3_state_Texas_raw.csv \n",
      "/home/emco4286/research/GADS_Processed/raw_data/gen_490_type_100_dtgrp_1_rating_2_state_Texas_raw.csv \n",
      "/home/emco4286/research/GADS_Processed/raw_data/gen_491_type_100_dtgrp_1_rating_3_state_Texas_raw.csv \n",
      "/home/emco4286/research/GADS_Processed/raw_data/gen_492_type_100_dtgrp_1_rating_3_state_Texas_raw.csv \n",
      "/home/emco4286/research/GADS_Processed/raw_data/gen_494_type_100_dtgrp_1_rating_3_state_Texas_raw.csv \n",
      "/home/emco4286/research/GADS_Processed/raw_data/gen_4954_type_100_dtgrp_1_rating_2_state_Texas_raw.csv \n",
      "/home/emco4286/research/GADS_Processed/raw_data/gen_4955_type_100_dtgrp_1_rating_2_state_Texas_raw.csv \n",
      "/home/emco4286/research/GADS_Processed/raw_data/gen_4956_type_100_dtgrp_1_rating_3_state_Texas_raw.csv \n",
      "/home/emco4286/research/GADS_Processed/raw_data/gen_4957_type_100_dtgrp_1_rating_3_state_Texas_raw.csv \n",
      "/home/emco4286/research/GADS_Processed/raw_data/gen_4958_type_100_dtgrp_1_rating_3_state_Texas_raw.csv \n",
      "/home/emco4286/research/GADS_Processed/raw_data/gen_4959_type_100_dtgrp_2_rating_3_state_Texas_raw.csv \n",
      "/home/emco4286/research/GADS_Processed/raw_data/gen_495_type_100_dtgrp_2_rating_3_state_Texas_raw.csv \n",
      "/home/emco4286/research/GADS_Processed/raw_data/gen_4960_type_100_dtgrp_2_rating_3_state_Texas_raw.csv \n",
      "/home/emco4286/research/GADS_Processed/raw_data/gen_4961_type_852_dtgrp_4_rating_2_state_Texas_raw.csv \n",
      "/home/emco4286/research/GADS_Processed/raw_data/gen_4962_type_300_dtgrp_4_rating_1_state_Texas_raw.csv \n",
      "/home/emco4286/research/GADS_Processed/raw_data/gen_4963_type_300_dtgrp_4_rating_1_state_Texas_raw.csv \n",
      "/home/emco4286/research/GADS_Processed/raw_data/gen_4964_type_300_dtgrp_4_rating_1_state_Texas_raw.csv \n",
      "/home/emco4286/research/GADS_Processed/raw_data/gen_4965_type_300_dtgrp_4_rating_1_state_Texas_raw.csv \n",
      "/home/emco4286/research/GADS_Processed/raw_data/gen_4966_type_851_dtgrp_4_rating_2_state_Texas_raw.csv \n",
      "/home/emco4286/research/GADS_Processed/raw_data/gen_4967_type_851_dtgrp_4_rating_2_state_Texas_raw.csv \n",
      "/home/emco4286/research/GADS_Processed/raw_data/gen_496_type_100_dtgrp_2_rating_3_state_Texas_raw.csv \n",
      "/home/emco4286/research/GADS_Processed/raw_data/gen_497_type_100_dtgrp_2_rating_3_state_Texas_raw.csv \n",
      "/home/emco4286/research/GADS_Processed/raw_data/gen_498_type_100_dtgrp_1_rating_1_state_Texas_raw.csv \n",
      "/home/emco4286/research/GADS_Processed/raw_data/gen_4994_type_100_dtgrp_1_rating_3_state_Texas_raw.csv \n",
      "/home/emco4286/research/GADS_Processed/raw_data/gen_4995_type_100_dtgrp_1_rating_3_state_Texas_raw.csv \n"
     ]
    },
    {
     "name": "stderr",
     "output_type": "stream",
     "text": [
      "┌ Warning: thread = 1 warning: error parsing DateTime around row = 1008, col = 1: \"NULL,\", error=INVALID: DELIMITED | INVALID_DELIMITER \n",
      "└ @ CSV /home/emco4286/.julia/packages/CSV/XLcqT/src/file.jl:595\n",
      "┌ Warning: thread = 1 warning: error parsing DateTime around row = 1009, col = 1: \"NULL,\", error=INVALID: DELIMITED | INVALID_DELIMITER \n",
      "└ @ CSV /home/emco4286/.julia/packages/CSV/XLcqT/src/file.jl:595\n"
     ]
    },
    {
     "name": "stdout",
     "output_type": "stream",
     "text": [
      "/home/emco4286/research/GADS_Processed/raw_data/gen_5000_type_100_dtgrp_1_rating_3_state_Texas_raw.csv \n",
      "/home/emco4286/research/GADS_Processed/raw_data/gen_5001_type_100_dtgrp_1_rating_3_state_Texas_raw.csv \n"
     ]
    },
    {
     "name": "stderr",
     "output_type": "stream",
     "text": [
      "┌ Warning: thread = 1 warning: error parsing DateTime around row = 1503, col = 1: \"NULL,\", error=INVALID: DELIMITED | INVALID_DELIMITER \n",
      "└ @ CSV /home/emco4286/.julia/packages/CSV/XLcqT/src/file.jl:595\n",
      "┌ Warning: thread = 1 warning: error parsing DateTime around row = 1514, col = 1: \"NULL,\", error=INVALID: DELIMITED | INVALID_DELIMITER \n",
      "└ @ CSV /home/emco4286/.julia/packages/CSV/XLcqT/src/file.jl:595\n"
     ]
    },
    {
     "name": "stdout",
     "output_type": "stream",
     "text": [
      "/home/emco4286/research/GADS_Processed/raw_data/gen_5003_type_100_dtgrp_1_rating_3_state_Texas_raw.csv \n",
      "/home/emco4286/research/GADS_Processed/raw_data/gen_5004_type_300_dtgrp_2_rating_1_state_Texas_raw.csv \n"
     ]
    },
    {
     "name": "stderr",
     "output_type": "stream",
     "text": [
      "┌ Warning: thread = 1 warning: error parsing DateTime around row = 1423, col = 1: \"NULL,\", error=INVALID: DELIMITED | INVALID_DELIMITER \n",
      "└ @ CSV /home/emco4286/.julia/packages/CSV/XLcqT/src/file.jl:595\n"
     ]
    },
    {
     "name": "stdout",
     "output_type": "stream",
     "text": [
      "/home/emco4286/research/GADS_Processed/raw_data/gen_5005_type_300_dtgrp_2_rating_1_state_Texas_raw.csv \n"
     ]
    },
    {
     "name": "stderr",
     "output_type": "stream",
     "text": [
      "┌ Warning: thread = 1 warning: error parsing DateTime around row = 1170, col = 1: \"NULL,\", error=INVALID: DELIMITED | INVALID_DELIMITER \n",
      "└ @ CSV /home/emco4286/.julia/packages/CSV/XLcqT/src/file.jl:595\n"
     ]
    },
    {
     "name": "stdout",
     "output_type": "stream",
     "text": [
      "/home/emco4286/research/GADS_Processed/raw_data/gen_5006_type_300_dtgrp_2_rating_1_state_Texas_raw.csv \n"
     ]
    },
    {
     "name": "stderr",
     "output_type": "stream",
     "text": [
      "┌ Warning: thread = 1 warning: error parsing DateTime around row = 989, col = 1: \"NULL,\", error=INVALID: DELIMITED | INVALID_DELIMITER \n",
      "└ @ CSV /home/emco4286/.julia/packages/CSV/XLcqT/src/file.jl:595\n"
     ]
    },
    {
     "name": "stdout",
     "output_type": "stream",
     "text": [
      "/home/emco4286/research/GADS_Processed/raw_data/gen_5007_type_300_dtgrp_3_rating_1_state_Texas_raw.csv \n"
     ]
    },
    {
     "name": "stderr",
     "output_type": "stream",
     "text": [
      "┌ Warning: thread = 1 warning: error parsing DateTime around row = 1188, col = 1: \"NULL,\", error=INVALID: DELIMITED | INVALID_DELIMITER \n",
      "└ @ CSV /home/emco4286/.julia/packages/CSV/XLcqT/src/file.jl:595\n"
     ]
    },
    {
     "name": "stdout",
     "output_type": "stream",
     "text": [
      "/home/emco4286/research/GADS_Processed/raw_data/gen_5008_type_300_dtgrp_3_rating_1_state_Texas_raw.csv \n"
     ]
    },
    {
     "name": "stderr",
     "output_type": "stream",
     "text": [
      "┌ Warning: thread = 1 warning: error parsing DateTime around row = 1414, col = 1: \"NULL,\", error=INVALID: DELIMITED | INVALID_DELIMITER \n",
      "└ @ CSV /home/emco4286/.julia/packages/CSV/XLcqT/src/file.jl:595\n"
     ]
    },
    {
     "name": "stdout",
     "output_type": "stream",
     "text": [
      "/home/emco4286/research/GADS_Processed/raw_data/gen_5009_type_300_dtgrp_2_rating_1_state_Texas_raw.csv \n"
     ]
    },
    {
     "name": "stderr",
     "output_type": "stream",
     "text": [
      "┌ Warning: thread = 1 warning: error parsing DateTime around row = 1227, col = 1: \"NULL,\", error=INVALID: DELIMITED | INVALID_DELIMITER \n",
      "└ @ CSV /home/emco4286/.julia/packages/CSV/XLcqT/src/file.jl:595\n"
     ]
    },
    {
     "name": "stdout",
     "output_type": "stream",
     "text": [
      "/home/emco4286/research/GADS_Processed/raw_data/gen_5010_type_300_dtgrp_2_rating_1_state_Texas_raw.csv \n"
     ]
    },
    {
     "name": "stderr",
     "output_type": "stream",
     "text": [
      "┌ Warning: thread = 1 warning: error parsing DateTime around row = 434, col = 1: \"NULL,\", error=INVALID: DELIMITED | INVALID_DELIMITER \n",
      "└ @ CSV /home/emco4286/.julia/packages/CSV/XLcqT/src/file.jl:595\n"
     ]
    },
    {
     "name": "stdout",
     "output_type": "stream",
     "text": [
      "/home/emco4286/research/GADS_Processed/raw_data/gen_5011_type_300_dtgrp_2_rating_1_state_Texas_raw.csv \n"
     ]
    },
    {
     "name": "stderr",
     "output_type": "stream",
     "text": [
      "┌ Warning: thread = 1 warning: error parsing DateTime around row = 595, col = 1: \"NULL,\", error=INVALID: DELIMITED | INVALID_DELIMITER \n",
      "└ @ CSV /home/emco4286/.julia/packages/CSV/XLcqT/src/file.jl:595\n"
     ]
    },
    {
     "name": "stdout",
     "output_type": "stream",
     "text": [
      "/home/emco4286/research/GADS_Processed/raw_data/gen_5012_type_300_dtgrp_2_rating_1_state_Texas_raw.csv \n"
     ]
    },
    {
     "name": "stderr",
     "output_type": "stream",
     "text": [
      "┌ Warning: thread = 1 warning: error parsing DateTime around row = 444, col = 1: \"NULL,\", error=INVALID: DELIMITED | INVALID_DELIMITER \n",
      "└ @ CSV /home/emco4286/.julia/packages/CSV/XLcqT/src/file.jl:595\n"
     ]
    },
    {
     "name": "stdout",
     "output_type": "stream",
     "text": [
      "/home/emco4286/research/GADS_Processed/raw_data/gen_5013_type_300_dtgrp_2_rating_1_state_Texas_raw.csv \n"
     ]
    },
    {
     "name": "stderr",
     "output_type": "stream",
     "text": [
      "┌ Warning: thread = 1 warning: error parsing DateTime around row = 479, col = 1: \"NULL,\", error=INVALID: DELIMITED | INVALID_DELIMITER \n",
      "└ @ CSV /home/emco4286/.julia/packages/CSV/XLcqT/src/file.jl:595\n"
     ]
    },
    {
     "name": "stdout",
     "output_type": "stream",
     "text": [
      "/home/emco4286/research/GADS_Processed/raw_data/gen_5014_type_300_dtgrp_2_rating_1_state_Texas_raw.csv \n"
     ]
    },
    {
     "name": "stderr",
     "output_type": "stream",
     "text": [
      "┌ Warning: thread = 1 warning: error parsing DateTime around row = 422, col = 1: \"NULL,\", error=INVALID: DELIMITED | INVALID_DELIMITER \n",
      "└ @ CSV /home/emco4286/.julia/packages/CSV/XLcqT/src/file.jl:595\n"
     ]
    },
    {
     "name": "stdout",
     "output_type": "stream",
     "text": [
      "/home/emco4286/research/GADS_Processed/raw_data/gen_5020_type_100_dtgrp_1_rating_2_state_Texas_raw.csv \n"
     ]
    },
    {
     "name": "stderr",
     "output_type": "stream",
     "text": [
      "┌ Warning: thread = 1 warning: error parsing DateTime around row = 368, col = 1: \"NULL,\", error=INVALID: DELIMITED | INVALID_DELIMITER \n",
      "└ @ CSV /home/emco4286/.julia/packages/CSV/XLcqT/src/file.jl:595\n"
     ]
    },
    {
     "name": "stdout",
     "output_type": "stream",
     "text": [
      "/home/emco4286/research/GADS_Processed/raw_data/gen_5021_type_100_dtgrp_1_rating_3_state_Texas_raw.csv \n"
     ]
    },
    {
     "name": "stderr",
     "output_type": "stream",
     "text": [
      "┌ Warning: thread = 1 warning: error parsing DateTime around row = 777, col = 1: \"NULL,\", error=INVALID: DELIMITED | INVALID_DELIMITER \n",
      "└ @ CSV /home/emco4286/.julia/packages/CSV/XLcqT/src/file.jl:595\n"
     ]
    },
    {
     "name": "stdout",
     "output_type": "stream",
     "text": [
      "/home/emco4286/research/GADS_Processed/raw_data/gen_5025_type_100_dtgrp_1_rating_3_state_Texas_raw.csv \n",
      "/home/emco4286/research/GADS_Processed/raw_data/gen_5026_type_100_dtgrp_1_rating_2_state_Texas_raw.csv \n"
     ]
    },
    {
     "name": "stderr",
     "output_type": "stream",
     "text": [
      "┌ Warning: thread = 1 warning: error parsing DateTime around row = 1574, col = 1: \"NULL,\", error=INVALID: DELIMITED | INVALID_DELIMITER \n",
      "└ @ CSV /home/emco4286/.julia/packages/CSV/XLcqT/src/file.jl:595\n"
     ]
    },
    {
     "name": "stdout",
     "output_type": "stream",
     "text": [
      "/home/emco4286/research/GADS_Processed/raw_data/gen_5027_type_100_dtgrp_1_rating_3_state_Texas_raw.csv \n",
      "/home/emco4286/research/GADS_Processed/raw_data/gen_5028_type_100_dtgrp_1_rating_3_state_Texas_raw.csv \n",
      "/home/emco4286/research/GADS_Processed/raw_data/gen_5032_type_100_dtgrp_2_rating_3_state_Texas_raw.csv \n",
      "/home/emco4286/research/GADS_Processed/raw_data/gen_5033_type_300_dtgrp_2_rating_1_state_Texas_raw.csv \n",
      "/home/emco4286/research/GADS_Processed/raw_data/gen_5034_type_300_dtgrp_2_rating_1_state_Texas_raw.csv \n"
     ]
    },
    {
     "name": "stderr",
     "output_type": "stream",
     "text": [
      "┌ Warning: thread = 1 warning: error parsing DateTime around row = 1008, col = 1: \"NULL,\", error=INVALID: DELIMITED | INVALID_DELIMITER \n",
      "└ @ CSV /home/emco4286/.julia/packages/CSV/XLcqT/src/file.jl:595\n"
     ]
    },
    {
     "name": "stdout",
     "output_type": "stream",
     "text": [
      "/home/emco4286/research/GADS_Processed/raw_data/gen_5035_type_300_dtgrp_2_rating_1_state_Texas_raw.csv \n"
     ]
    },
    {
     "name": "stderr",
     "output_type": "stream",
     "text": [
      "┌ Warning: thread = 1 warning: error parsing DateTime around row = 705, col = 1: \"NULL,\", error=INVALID: DELIMITED | INVALID_DELIMITER \n",
      "└ @ CSV /home/emco4286/.julia/packages/CSV/XLcqT/src/file.jl:595\n"
     ]
    },
    {
     "name": "stdout",
     "output_type": "stream",
     "text": [
      "/home/emco4286/research/GADS_Processed/raw_data/gen_5036_type_300_dtgrp_2_rating_1_state_Texas_raw.csv \n"
     ]
    },
    {
     "name": "stderr",
     "output_type": "stream",
     "text": [
      "┌ Warning: thread = 1 warning: error parsing DateTime around row = 690, col = 1: \"NULL,\", error=INVALID: DELIMITED | INVALID_DELIMITER \n",
      "└ @ CSV /home/emco4286/.julia/packages/CSV/XLcqT/src/file.jl:595\n"
     ]
    },
    {
     "name": "stdout",
     "output_type": "stream",
     "text": [
      "/home/emco4286/research/GADS_Processed/raw_data/gen_5047_type_650_dtgrp_5_rating_3_state_Texas_raw.csv \n",
      "/home/emco4286/research/GADS_Processed/raw_data/gen_5048_type_100_dtgrp_1_rating_3_state_Texas_raw.csv \n"
     ]
    },
    {
     "name": "stderr",
     "output_type": "stream",
     "text": [
      "┌ Warning: thread = 1 warning: error parsing DateTime around row = 642, col = 1: \"NULL,\", error=INVALID: DELIMITED | INVALID_DELIMITER \n",
      "└ @ CSV /home/emco4286/.julia/packages/CSV/XLcqT/src/file.jl:595\n"
     ]
    },
    {
     "name": "stdout",
     "output_type": "stream",
     "text": [
      "/home/emco4286/research/GADS_Processed/raw_data/gen_5049_type_100_dtgrp_1_rating_3_state_Texas_raw.csv \n",
      "/home/emco4286/research/GADS_Processed/raw_data/gen_5050_type_100_dtgrp_1_rating_3_state_Texas_raw.csv \n",
      "/home/emco4286/research/GADS_Processed/raw_data/gen_5051_type_100_dtgrp_1_rating_3_state_Texas_raw.csv \n",
      "/home/emco4286/research/GADS_Processed/raw_data/gen_5052_type_100_dtgrp_1_rating_3_state_Texas_raw.csv \n",
      "/home/emco4286/research/GADS_Processed/raw_data/gen_5053_type_100_dtgrp_1_rating_3_state_Texas_raw.csv \n",
      "/home/emco4286/research/GADS_Processed/raw_data/gen_5054_type_100_dtgrp_1_rating_3_state_Texas_raw.csv \n",
      "/home/emco4286/research/GADS_Processed/raw_data/gen_5055_type_100_dtgrp_1_rating_3_state_Texas_raw.csv \n",
      "/home/emco4286/research/GADS_Processed/raw_data/gen_5056_type_100_dtgrp_5_rating_3_state_Texas_raw.csv \n",
      "/home/emco4286/research/GADS_Processed/raw_data/gen_5057_type_100_dtgrp_5_rating_3_state_Texas_raw.csv \n"
     ]
    },
    {
     "name": "stderr",
     "output_type": "stream",
     "text": [
      "┌ Warning: thread = 1 warning: error parsing DateTime around row = 4156, col = 1: \"NULL,\", error=INVALID: DELIMITED | INVALID_DELIMITER \n",
      "└ @ CSV /home/emco4286/.julia/packages/CSV/XLcqT/src/file.jl:595\n",
      "┌ Warning: thread = 1 warning: error parsing DateTime around row = 4158, col = 1: \"NULL,\", error=INVALID: DELIMITED | INVALID_DELIMITER \n",
      "└ @ CSV /home/emco4286/.julia/packages/CSV/XLcqT/src/file.jl:595\n"
     ]
    },
    {
     "name": "stdout",
     "output_type": "stream",
     "text": [
      "/home/emco4286/research/GADS_Processed/raw_data/gen_5058_type_200_dtgrp_3_rating_3_state_Texas_raw.csv \n",
      "/home/emco4286/research/GADS_Processed/raw_data/gen_5059_type_200_dtgrp_3_rating_3_state_Texas_raw.csv \n"
     ]
    },
    {
     "name": "stderr",
     "output_type": "stream",
     "text": [
      "┌ Warning: thread = 1 warning: error parsing DateTime around row = 4247, col = 1: \"NULL,\", error=INVALID: DELIMITED | INVALID_DELIMITER \n",
      "└ @ CSV /home/emco4286/.julia/packages/CSV/XLcqT/src/file.jl:595\n",
      "┌ Warning: thread = 1 warning: error parsing DateTime around row = 4248, col = 1: \"NULL,\", error=INVALID: DELIMITED | INVALID_DELIMITER \n",
      "└ @ CSV /home/emco4286/.julia/packages/CSV/XLcqT/src/file.jl:595\n"
     ]
    },
    {
     "name": "stdout",
     "output_type": "stream",
     "text": [
      "/home/emco4286/research/GADS_Processed/raw_data/gen_5591_type_850_dtgrp_4_rating_3_state_Texas_raw.csv \n",
      "/home/emco4286/research/GADS_Processed/raw_data/gen_5592_type_850_dtgrp_4_rating_3_state_Texas_raw.csv \n",
      "/home/emco4286/research/GADS_Processed/raw_data/gen_5593_type_850_dtgrp_4_rating_3_state_Texas_raw.csv \n"
     ]
    },
    {
     "name": "stderr",
     "output_type": "stream",
     "text": [
      "┌ Warning: thread = 1 warning: error parsing DateTime around row = 2100, col = 1: \"NULL,\", error=INVALID: DELIMITED | INVALID_DELIMITER \n",
      "└ @ CSV /home/emco4286/.julia/packages/CSV/XLcqT/src/file.jl:595\n"
     ]
    },
    {
     "name": "stdout",
     "output_type": "stream",
     "text": [
      "/home/emco4286/research/GADS_Processed/raw_data/gen_5594_type_850_dtgrp_4_rating_3_state_Texas_raw.csv \n",
      "/home/emco4286/research/GADS_Processed/raw_data/gen_5807_type_100_dtgrp_1_rating_2_state_Texas_raw.csv \n",
      "/home/emco4286/research/GADS_Processed/raw_data/gen_5808_type_100_dtgrp_1_rating_2_state_Texas_raw.csv \n",
      "/home/emco4286/research/GADS_Processed/raw_data/gen_5809_type_100_dtgrp_1_rating_2_state_Texas_raw.csv \n",
      "/home/emco4286/research/GADS_Processed/raw_data/gen_5810_type_100_dtgrp_1_rating_2_state_Texas_raw.csv \n",
      "/home/emco4286/research/GADS_Processed/raw_data/gen_5811_type_100_dtgrp_1_rating_3_state_Texas_raw.csv \n",
      "/home/emco4286/research/GADS_Processed/raw_data/gen_5812_type_100_dtgrp_1_rating_3_state_Texas_raw.csv \n",
      "/home/emco4286/research/GADS_Processed/raw_data/gen_5814_type_100_dtgrp_1_rating_3_state_Texas_raw.csv \n",
      "/home/emco4286/research/GADS_Processed/raw_data/gen_5819_type_100_dtgrp_1_rating_3_state_Texas_raw.csv \n",
      "/home/emco4286/research/GADS_Processed/raw_data/gen_5821_type_100_dtgrp_1_rating_3_state_Texas_raw.csv \n",
      "/home/emco4286/research/GADS_Processed/raw_data/gen_5822_type_100_dtgrp_1_rating_3_state_Texas_raw.csv \n",
      "/home/emco4286/research/GADS_Processed/raw_data/gen_5823_type_100_dtgrp_1_rating_3_state_Texas_raw.csv \n",
      "/home/emco4286/research/GADS_Processed/raw_data/gen_5826_type_100_dtgrp_2_rating_3_state_Texas_raw.csv \n",
      "/home/emco4286/research/GADS_Processed/raw_data/gen_5827_type_100_dtgrp_2_rating_3_state_Texas_raw.csv \n",
      "/home/emco4286/research/GADS_Processed/raw_data/gen_5828_type_100_dtgrp_1_rating_3_state_Texas_raw.csv \n",
      "/home/emco4286/research/GADS_Processed/raw_data/gen_5829_type_100_dtgrp_1_rating_3_state_Texas_raw.csv \n",
      "/home/emco4286/research/GADS_Processed/raw_data/gen_5830_type_100_dtgrp_2_rating_3_state_Texas_raw.csv \n",
      "/home/emco4286/research/GADS_Processed/raw_data/gen_5831_type_100_dtgrp_2_rating_3_state_Texas_raw.csv \n",
      "/home/emco4286/research/GADS_Processed/raw_data/gen_5839_type_200_dtgrp_2_rating_3_state_Texas_raw.csv \n",
      "/home/emco4286/research/GADS_Processed/raw_data/gen_5840_type_200_dtgrp_2_rating_3_state_Texas_raw.csv \n",
      "/home/emco4286/research/GADS_Processed/raw_data/gen_5853_type_851_dtgrp_1_rating_1_state_Texas_raw.csv \n",
      "/home/emco4286/research/GADS_Processed/raw_data/gen_5854_type_851_dtgrp_1_rating_1_state_Texas_raw.csv \n",
      "/home/emco4286/research/GADS_Processed/raw_data/gen_5855_type_851_dtgrp_1_rating_1_state_Texas_raw.csv \n",
      "/home/emco4286/research/GADS_Processed/raw_data/gen_5856_type_851_dtgrp_1_rating_1_state_Texas_raw.csv \n",
      "/home/emco4286/research/GADS_Processed/raw_data/gen_5857_type_851_dtgrp_1_rating_1_state_Texas_raw.csv \n",
      "/home/emco4286/research/GADS_Processed/raw_data/gen_5858_type_851_dtgrp_1_rating_1_state_Texas_raw.csv \n",
      "/home/emco4286/research/GADS_Processed/raw_data/gen_5859_type_851_dtgrp_1_rating_1_state_Texas_raw.csv \n",
      "/home/emco4286/research/GADS_Processed/raw_data/gen_5860_type_851_dtgrp_1_rating_1_state_Texas_raw.csv \n",
      "/home/emco4286/research/GADS_Processed/raw_data/gen_5861_type_300_dtgrp_1_rating_1_state_Texas_raw.csv \n",
      "/home/emco4286/research/GADS_Processed/raw_data/gen_5862_type_300_dtgrp_1_rating_1_state_Texas_raw.csv \n",
      "/home/emco4286/research/GADS_Processed/raw_data/gen_5863_type_300_dtgrp_1_rating_1_state_Texas_raw.csv \n",
      "/home/emco4286/research/GADS_Processed/raw_data/gen_5864_type_300_dtgrp_1_rating_1_state_Texas_raw.csv \n",
      "/home/emco4286/research/GADS_Processed/raw_data/gen_5865_type_300_dtgrp_1_rating_1_state_Texas_raw.csv \n",
      "/home/emco4286/research/GADS_Processed/raw_data/gen_5866_type_300_dtgrp_1_rating_1_state_Texas_raw.csv \n",
      "/home/emco4286/research/GADS_Processed/raw_data/gen_5867_type_300_dtgrp_1_rating_1_state_Texas_raw.csv \n",
      "/home/emco4286/research/GADS_Processed/raw_data/gen_5868_type_300_dtgrp_1_rating_1_state_Texas_raw.csv \n",
      "/home/emco4286/research/GADS_Processed/raw_data/gen_5869_type_300_dtgrp_1_rating_1_state_Texas_raw.csv \n",
      "/home/emco4286/research/GADS_Processed/raw_data/gen_5870_type_300_dtgrp_1_rating_1_state_Texas_raw.csv \n",
      "/home/emco4286/research/GADS_Processed/raw_data/gen_5871_type_300_dtgrp_1_rating_1_state_Texas_raw.csv \n",
      "/home/emco4286/research/GADS_Processed/raw_data/gen_5872_type_300_dtgrp_1_rating_1_state_Texas_raw.csv \n",
      "/home/emco4286/research/GADS_Processed/raw_data/gen_5873_type_852_dtgrp_3_rating_3_state_Texas_raw.csv \n",
      "/home/emco4286/research/GADS_Processed/raw_data/gen_5874_type_852_dtgrp_3_rating_3_state_Texas_raw.csv \n",
      "/home/emco4286/research/GADS_Processed/raw_data/gen_5875_type_860_dtgrp_2_rating_1_state_Texas_raw.csv \n",
      "/home/emco4286/research/GADS_Processed/raw_data/gen_5876_type_860_dtgrp_2_rating_1_state_Texas_raw.csv \n",
      "/home/emco4286/research/GADS_Processed/raw_data/gen_5910_type_852_dtgrp_4_rating_2_state_Texas_raw.csv \n",
      "/home/emco4286/research/GADS_Processed/raw_data/gen_5911_type_851_dtgrp_4_rating_2_state_Texas_raw.csv \n",
      "/home/emco4286/research/GADS_Processed/raw_data/gen_5912_type_851_dtgrp_4_rating_2_state_Texas_raw.csv \n",
      "/home/emco4286/research/GADS_Processed/raw_data/gen_5913_type_852_dtgrp_5_rating_3_state_Texas_raw.csv \n",
      "/home/emco4286/research/GADS_Processed/raw_data/gen_5914_type_851_dtgrp_5_rating_2_state_Texas_raw.csv \n",
      "/home/emco4286/research/GADS_Processed/raw_data/gen_5915_type_851_dtgrp_5_rating_2_state_Texas_raw.csv \n",
      "/home/emco4286/research/GADS_Processed/raw_data/gen_5922_type_852_dtgrp_4_rating_3_state_Texas_raw.csv \n",
      "/home/emco4286/research/GADS_Processed/raw_data/gen_5923_type_852_dtgrp_4_rating_3_state_Texas_raw.csv \n",
      "/home/emco4286/research/GADS_Processed/raw_data/gen_5924_type_851_dtgrp_4_rating_2_state_Texas_raw.csv \n",
      "/home/emco4286/research/GADS_Processed/raw_data/gen_5925_type_851_dtgrp_4_rating_2_state_Texas_raw.csv \n",
      "/home/emco4286/research/GADS_Processed/raw_data/gen_5926_type_851_dtgrp_4_rating_2_state_Texas_raw.csv \n",
      "/home/emco4286/research/GADS_Processed/raw_data/gen_5927_type_851_dtgrp_4_rating_2_state_Texas_raw.csv \n",
      "/home/emco4286/research/GADS_Processed/raw_data/gen_7467_type_851_dtgrp_4_rating_2_state_Texas_raw.csv \n",
      "/home/emco4286/research/GADS_Processed/raw_data/gen_7468_type_851_dtgrp_4_rating_2_state_Texas_raw.csv \n",
      "/home/emco4286/research/GADS_Processed/raw_data/gen_7469_type_851_dtgrp_4_rating_2_state_Texas_raw.csv \n",
      "/home/emco4286/research/GADS_Processed/raw_data/gen_7470_type_852_dtgrp_4_rating_3_state_Texas_raw.csv \n",
      "/home/emco4286/research/GADS_Processed/raw_data/gen_7608_type_100_dtgrp_2_rating_3_state_Texas_raw.csv \n",
      "/home/emco4286/research/GADS_Processed/raw_data/gen_7660_type_300_dtgrp_2_rating_1_state_Texas_raw.csv \n",
      "/home/emco4286/research/GADS_Processed/raw_data/gen_7661_type_300_dtgrp_2_rating_1_state_Texas_raw.csv \n",
      "/home/emco4286/research/GADS_Processed/raw_data/gen_7662_type_300_dtgrp_2_rating_1_state_Texas_raw.csv \n",
      "/home/emco4286/research/GADS_Processed/raw_data/gen_7943_type_300_dtgrp_5_rating_2_state_Texas_raw.csv \n",
      "/home/emco4286/research/GADS_Processed/raw_data/gen_7948_type_100_dtgrp_1_rating_3_state_Texas_raw.csv \n",
      "/home/emco4286/research/GADS_Processed/raw_data/gen_7949_type_100_dtgrp_1_rating_3_state_Texas_raw.csv \n",
      "/home/emco4286/research/GADS_Processed/raw_data/gen_7950_type_100_dtgrp_2_rating_3_state_Texas_raw.csv \n",
      "/home/emco4286/research/GADS_Processed/raw_data/gen_7951_type_100_dtgrp_1_rating_1_state_Texas_raw.csv \n",
      "/home/emco4286/research/GADS_Processed/raw_data/gen_7952_type_100_dtgrp_1_rating_1_state_Texas_raw.csv \n",
      "/home/emco4286/research/GADS_Processed/raw_data/gen_7953_type_100_dtgrp_1_rating_1_state_Texas_raw.csv \n",
      "/home/emco4286/research/GADS_Processed/raw_data/gen_7954_type_100_dtgrp_1_rating_1_state_Texas_raw.csv \n",
      "/home/emco4286/research/GADS_Processed/raw_data/gen_7955_type_100_dtgrp_1_rating_2_state_Texas_raw.csv \n",
      "/home/emco4286/research/GADS_Processed/raw_data/gen_7958_type_100_dtgrp_1_rating_2_state_Texas_raw.csv \n",
      "/home/emco4286/research/GADS_Processed/raw_data/gen_7959_type_100_dtgrp_1_rating_2_state_Texas_raw.csv \n",
      "/home/emco4286/research/GADS_Processed/raw_data/gen_7960_type_100_dtgrp_1_rating_3_state_Texas_raw.csv \n",
      "/home/emco4286/research/GADS_Processed/raw_data/gen_7961_type_100_dtgrp_1_rating_3_state_Texas_raw.csv \n",
      "/home/emco4286/research/GADS_Processed/raw_data/gen_7962_type_100_dtgrp_1_rating_3_state_Texas_raw.csv \n",
      "/home/emco4286/research/GADS_Processed/raw_data/gen_7963_type_100_dtgrp_2_rating_3_state_Texas_raw.csv \n",
      "/home/emco4286/research/GADS_Processed/raw_data/gen_7964_type_100_dtgrp_2_rating_3_state_Texas_raw.csv \n",
      "/home/emco4286/research/GADS_Processed/raw_data/gen_8115_type_851_dtgrp_4_rating_2_state_Texas_raw.csv \n",
      "/home/emco4286/research/GADS_Processed/raw_data/gen_8116_type_851_dtgrp_4_rating_2_state_Texas_raw.csv \n",
      "/home/emco4286/research/GADS_Processed/raw_data/gen_8117_type_851_dtgrp_4_rating_2_state_Texas_raw.csv \n",
      "/home/emco4286/research/GADS_Processed/raw_data/gen_8119_type_852_dtgrp_4_rating_3_state_Texas_raw.csv \n",
      "/home/emco4286/research/GADS_Processed/raw_data/gen_8120_type_851_dtgrp_4_rating_2_state_Texas_raw.csv \n",
      "/home/emco4286/research/GADS_Processed/raw_data/gen_8121_type_851_dtgrp_4_rating_2_state_Texas_raw.csv \n",
      "/home/emco4286/research/GADS_Processed/raw_data/gen_8122_type_851_dtgrp_4_rating_2_state_Texas_raw.csv \n",
      "/home/emco4286/research/GADS_Processed/raw_data/gen_8124_type_852_dtgrp_4_rating_3_state_Texas_raw.csv \n",
      "/home/emco4286/research/GADS_Processed/raw_data/gen_8453_type_100_dtgrp_2_rating_3_state_Texas_raw.csv \n",
      "/home/emco4286/research/GADS_Processed/raw_data/gen_9087_type_500_dtgrp_1_rating_1_state_Texas_raw.csv \n",
      "/home/emco4286/research/GADS_Processed/raw_data/gen_9088_type_500_dtgrp_1_rating_1_state_Texas_raw.csv \n",
      "/home/emco4286/research/GADS_Processed/raw_data/gen_9178_type_852_dtgrp_4_rating_2_state_Texas_raw.csv \n",
      "/home/emco4286/research/GADS_Processed/raw_data/gen_9179_type_851_dtgrp_4_rating_2_state_Texas_raw.csv \n",
      "/home/emco4286/research/GADS_Processed/raw_data/gen_9552_type_851_dtgrp_4_rating_3_state_Texas_raw.csv \n",
      "/home/emco4286/research/GADS_Processed/raw_data/gen_9553_type_852_dtgrp_4_rating_3_state_Texas_raw.csv \n",
      "/home/emco4286/research/GADS_Processed/raw_data/gen_9554_type_851_dtgrp_4_rating_3_state_Texas_raw.csv \n",
      "/home/emco4286/research/GADS_Processed/raw_data/gen_9825_type_852_dtgrp_2_rating_1_state_Texas_raw.csv \n",
      "/home/emco4286/research/GADS_Processed/raw_data/gen_9826_type_851_dtgrp_2_rating_2_state_Texas_raw.csv \n",
      "/home/emco4286/research/GADS_Processed/raw_data/gen_9827_type_851_dtgrp_2_rating_2_state_Texas_raw.csv \n",
      "/home/emco4286/research/GADS_Processed/raw_data/gen_9828_type_851_dtgrp_4_rating_1_state_Texas_raw.csv \n",
      "/home/emco4286/research/GADS_Processed/raw_data/gen_9829_type_852_dtgrp_3_rating_2_state_Texas_raw.csv \n",
      "/home/emco4286/research/GADS_Processed/raw_data/gen_9830_type_851_dtgrp_3_rating_2_state_Texas_raw.csv \n",
      "/home/emco4286/research/GADS_Processed/raw_data/gen_9831_type_851_dtgrp_3_rating_2_state_Texas_raw.csv \n",
      "/home/emco4286/research/GADS_Processed/raw_data/gen_9988_type_851_dtgrp_1_rating_1_state_Texas_raw.csv \n",
      "/home/emco4286/research/GADS_Processed/raw_data/gen_9989_type_851_dtgrp_1_rating_1_state_Texas_raw.csv \n",
      "/home/emco4286/research/GADS_Processed/raw_data/gen_9990_type_852_dtgrp_1_rating_2_state_Texas_raw.csv \n",
      "/home/emco4286/research/GADS_Processed/raw_data/gen_9991_type_851_dtgrp_4_rating_1_state_Texas_raw.csv \n"
     ]
    }
   ],
   "source": [
    "start_date_g = DateTime(2013,1,1,6)\n",
    "end_date_g = DateTime(2024,1,1,6)\n",
    "date_range_g = [k for k in start_date_g:Hour(1):end_date_g]\n",
    "\n",
    "myrange_g = [k for k in 0:1:round(end_date_g - start_date_g, Hour).value]\n",
    "\n",
    "\n",
    "for f in files\n",
    "    @printf \"%s \\n\" f\n",
    "\n",
    "    mymatch = match(r\"/home/emco4286/research/GADS_Processed/raw_data/gen_(\\d+)_type_(\\d+)_dtgrp_(\\d+)_rating_(\\d+)_state_Texas_raw.csv\", f)\n",
    "    id = parse(Int32, mymatch[1])\n",
    "    type = parse(Int32, mymatch[2])\n",
    "    dtgrp = parse(Int32, mymatch[3])\n",
    "    rating = parse(Int32, mymatch[4])\n",
    "\n",
    "    df = DataFrame(CSV.File(f, types=types_dict))\n",
    "    df = df[typeof.(df.EventEndDT) .== DateTime, :] # for missing DateTime values\n",
    "    df = df[df.EventTypeCode .!= \"RS\", :]\n",
    "    sort!(df, :EventStartDT)\n",
    "    transform!(df, :EventTypeCode => ByRow(x -> mydict[x]), :EventTypeCode)\n",
    "\n",
    "    state = convert(Array{Union{Missing, Float64}}, fill(1, length(myrange_g))) # to allow missing values\n",
    "\n",
    "    if size(df)[1] < 1 # Happens if event log is just full of RS events\n",
    "        print(\"No\")\n",
    "    else\n",
    "        # Set state to \"missing\" before the generator comes online\n",
    "        birthdate = min(agedict[df[1, :CommercialDT_grp]], minimum(df[!, :EventStartDT]))\n",
    "        if birthdate > start_date_g\n",
    "            birth_hour = round(birthdate - start_date_g, Hour).value\n",
    "            state[1:birth_hour] .= missing\n",
    "        end\n",
    "\n",
    "        # Hour that outage starts\n",
    "        time_vector = map(x -> round(x - start_date_g, Hour), df[!, :EventStartDT])\n",
    "\n",
    "        # Set state to zero during an event\n",
    "        for k in [c for c in range(1, step=1, length=length(time_vector))] # k is an index\n",
    "            start_time_string = round(df[k, :EventStartDT], Hour)\n",
    "            end_time_string = round(df[k, :EventEndDT], Hour)\n",
    "\n",
    "            cause = df[k, :EventTypeCode_function]\n",
    "\n",
    "            if cause == 1 # RS\n",
    "                continue\n",
    "            end\n",
    "\n",
    "            start_hour = time_vector[k].value # integer\n",
    "            duration = round(end_time_string - start_time_string, Hour).value\n",
    "            end_hour = start_hour + duration\n",
    "\n",
    "            start_index = max(1, start_hour)\n",
    "\n",
    "            matching_idx = findall(x -> x == end_hour, myrange_g)\n",
    "            \n",
    "            if length(matching_idx) < 1\n",
    "                end_index = length(state)\n",
    "            else\n",
    "                end_index = matching_idx[1]\n",
    "            end\n",
    "\n",
    "            # If event is unit getting retired, set state as missing until the end of the period and skip to the next unit\n",
    "            if cause == 5\n",
    "                state[start_index:end] .= missing\n",
    "            else\n",
    "                state[start_index:end_index] .= 0\n",
    "            end\n",
    "\n",
    "        end\n",
    "\n",
    "        trajectory = DataFrame(x=date_range_g, y=state)\n",
    "\n",
    "        fname = @sprintf \"gen_%d_type_%d_dtgrp_%d_rating_%d_state_Texas_raw.csv\" id type dtgrp rating \n",
    "        path = joinpath(homedir(), \"research\", \"GADS_Processed\", \"trajectories\", fname)\n",
    "        CSV.write(path, trajectory)\n",
    "    end\n",
    "end"
   ]
  },
  {
   "cell_type": "code",
   "execution_count": null,
   "id": "4f8a00cb",
   "metadata": {},
   "outputs": [],
   "source": []
  }
 ],
 "metadata": {
  "kernelspec": {
   "display_name": "Julia 1.11.5",
   "language": "julia",
   "name": "julia-1.11"
  },
  "language_info": {
   "file_extension": ".jl",
   "mimetype": "application/julia",
   "name": "julia",
   "version": "1.11.5"
  }
 },
 "nbformat": 4,
 "nbformat_minor": 5
}
